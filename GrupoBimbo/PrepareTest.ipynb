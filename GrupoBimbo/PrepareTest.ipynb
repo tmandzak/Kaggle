{
 "cells": [
  {
   "cell_type": "code",
   "execution_count": 1,
   "metadata": {
    "collapsed": false
   },
   "outputs": [],
   "source": [
    "import pandas as pd\n",
    "import numpy as np\n",
    "import math\n",
    "from sklearn import linear_model\n",
    "from sklearn.cross_validation import train_test_split\n",
    "from scipy.optimize import minimize\n",
    "from scipy.optimize import leastsq\n",
    "#from scipy.optimize import least_squares\n",
    "import matplotlib.pyplot as plt\n",
    "%matplotlib inline"
   ]
  },
  {
   "cell_type": "code",
   "execution_count": 2,
   "metadata": {
    "collapsed": true
   },
   "outputs": [],
   "source": [
    "%run 'Features.ipynb'"
   ]
  },
  {
   "cell_type": "code",
   "execution_count": 3,
   "metadata": {
    "collapsed": false
   },
   "outputs": [
    {
     "data": {
      "text/html": [
       "<div>\n",
       "<table border=\"1\" class=\"dataframe\">\n",
       "  <thead>\n",
       "    <tr style=\"text-align: right;\">\n",
       "      <th></th>\n",
       "      <th>id</th>\n",
       "      <th>Agencia_ID</th>\n",
       "      <th>Canal_ID</th>\n",
       "      <th>Ruta_SAK</th>\n",
       "      <th>Cliente_ID</th>\n",
       "      <th>Producto_ID</th>\n",
       "    </tr>\n",
       "  </thead>\n",
       "  <tbody>\n",
       "    <tr>\n",
       "      <th>0</th>\n",
       "      <td>0</td>\n",
       "      <td>4037</td>\n",
       "      <td>1</td>\n",
       "      <td>2209</td>\n",
       "      <td>4639078</td>\n",
       "      <td>35305</td>\n",
       "    </tr>\n",
       "    <tr>\n",
       "      <th>1</th>\n",
       "      <td>1</td>\n",
       "      <td>2237</td>\n",
       "      <td>1</td>\n",
       "      <td>1226</td>\n",
       "      <td>4705135</td>\n",
       "      <td>1238</td>\n",
       "    </tr>\n",
       "    <tr>\n",
       "      <th>2</th>\n",
       "      <td>2</td>\n",
       "      <td>2045</td>\n",
       "      <td>1</td>\n",
       "      <td>2831</td>\n",
       "      <td>4549769</td>\n",
       "      <td>32940</td>\n",
       "    </tr>\n",
       "    <tr>\n",
       "      <th>3</th>\n",
       "      <td>3</td>\n",
       "      <td>1227</td>\n",
       "      <td>1</td>\n",
       "      <td>4448</td>\n",
       "      <td>4717855</td>\n",
       "      <td>43066</td>\n",
       "    </tr>\n",
       "    <tr>\n",
       "      <th>4</th>\n",
       "      <td>4</td>\n",
       "      <td>1219</td>\n",
       "      <td>1</td>\n",
       "      <td>1130</td>\n",
       "      <td>966351</td>\n",
       "      <td>1277</td>\n",
       "    </tr>\n",
       "  </tbody>\n",
       "</table>\n",
       "</div>"
      ],
      "text/plain": [
       "   id  Agencia_ID  Canal_ID  Ruta_SAK  Cliente_ID  Producto_ID\n",
       "0   0        4037         1      2209     4639078        35305\n",
       "1   1        2237         1      1226     4705135         1238\n",
       "2   2        2045         1      2831     4549769        32940\n",
       "3   3        1227         1      4448     4717855        43066\n",
       "4   4        1219         1      1130      966351         1277"
      ]
     },
     "execution_count": 3,
     "metadata": {},
     "output_type": "execute_result"
    }
   ],
   "source": [
    "test = pd.read_csv('input/test.csv', dtype = dtype_dict, usecols = test_cols)\n",
    "test.head()"
   ]
  },
  {
   "cell_type": "code",
   "execution_count": 4,
   "metadata": {
    "collapsed": true
   },
   "outputs": [],
   "source": [
    "features = feature_full_list"
   ]
  },
  {
   "cell_type": "code",
   "execution_count": 5,
   "metadata": {
    "collapsed": false
   },
   "outputs": [
    {
     "data": {
      "text/plain": [
       "['12345',\n",
       " '1245o',\n",
       " '1234o',\n",
       " '124o',\n",
       " '1235o',\n",
       " '125o',\n",
       " '123o',\n",
       " '12o',\n",
       " '2345o 1o',\n",
       " '2345o',\n",
       " '245o',\n",
       " '234o',\n",
       " '24o',\n",
       " '235o',\n",
       " '25o',\n",
       " '1345o',\n",
       " '145o',\n",
       " '134o',\n",
       " '14o',\n",
       " '23o',\n",
       " '135o',\n",
       " '15o',\n",
       " '13o',\n",
       " '1o',\n",
       " '2o',\n",
       " '345o',\n",
       " '45o',\n",
       " '34o',\n",
       " '35o',\n",
       " '4o',\n",
       " '5o',\n",
       " '3o']"
      ]
     },
     "execution_count": 5,
     "metadata": {},
     "output_type": "execute_result"
    }
   ],
   "source": [
    "features"
   ]
  },
  {
   "cell_type": "raw",
   "metadata": {
    "collapsed": false
   },
   "source": [
    "features_trained = {'2345 1': [-0.96530549138536959, 0.89694958479690423, 0.36289062695258978, 137.43943891635587],\n",
    "    '245 1 3': [0.39669852105643155, 0.92568496339124862, 0.50207314321894936, -0.40871607262539761, 132.49366315433696],\n",
    "    '2345o 1o': [-1.0591515756186611, 0.8875670660989603, 0.37312429883952802, 60.264898641550836],\n",
    "    #'2345o 1o': [-1.1624272673676304, 0.89001613459288786, 0.3954983826172882, 59.95455236777422]  \n",
    "    '1245o 3o': [0.00025365243283648198, 1.0000068421626016, -6.4428350485533324e-05, 0.01041693587732619], \n",
    "    '1234o 5o': [-0.067485490500387435, 0.99842117987741386, 0.016739904919493849, 5.3613544514949671], \n",
    "    '1235o 4o': [-0.042639037703101401, 0.99878015197515024, 0.010842954962484901, 6.7361101296699584], \n",
    "    '245o 3o 1o': [0.086956792234006208, 0.91114593000795396, -0.40822791263410585, 0.48787312834360996, 57.671366733149085], \n",
    "    '245o 13o': [-1.0552990053714844, 0.88475211168252554, 0.37523109816693428, 60.060842893951204], \n",
    "    '245o 1o': [-1.0592291282541959, 0.88756486604953655, 0.37313492939040405, 60.269951149874103], \n",
    "    '245o 3o': [0.18364117840102967, 1.0022796524058846, 0.003707179300051221, 68.82103107705494], \n",
    "    '234o 15o': [-1.2834552942727191, 0.7997255564373591, 0.52560049131824715, 99.990038740578157], \n",
    "    '234o 1o 5o': [-0.27753293469209606, 0.87369099664262961, 0.66978218210887386, -0.45658421821788164, 96.98679247693174], \n",
    "    '234o 1o': [-1.4746856469019489, 0.82648201938099064, 0.53660597936965482, 100.38041963987196], \n",
    "    '234o 5o': [-0.15288045841092845, 0.98635074060480465, 0.11496747394914082, 118.35193078069415], \n",
    "    '235o 14o': [-1.4246340912216384, 0.76727924592659569, 0.58617779422495397, 100.34030462135047], \n",
    "    '235o 1o': [-1.5453465396244175, 0.8163890314237493, 0.56138034448753193, 106.27159952394793], \n",
    "    '235o 4o': [-0.2878011288028306, 0.97614433257876221, 0.15338081775982743, 125.75834520768316], \n",
    "    '235o 1o 4o': [-0.83691664451664316, 0.85525537954374575, 0.63160253041008352, -0.26890251973941465, 104.78685879206891], \n",
    "    '1345o 2o': [-2.1562101259470916, 0.82718595983163401, 0.71294898435063991, 127.33665676908494]                \n",
    "   } # '2345o': [0.19761965176927365, 1.0028119476149566, 68.815794219479045]}               "
   ]
  },
  {
   "cell_type": "code",
   "execution_count": 6,
   "metadata": {
    "collapsed": true
   },
   "outputs": [],
   "source": [
    "features_trained = {'2345o 1o': [-3.5731738918328126, 1.0046309257624915, 0.90862462801484511, 73.610153038782173]}"
   ]
  },
  {
   "cell_type": "code",
   "execution_count": 7,
   "metadata": {
    "collapsed": false
   },
   "outputs": [
    {
     "data": {
      "text/plain": [
       "[-3.5731738918328126, 1.0046309257624915, 0.9086246280148451]"
      ]
     },
     "execution_count": 7,
     "metadata": {},
     "output_type": "execute_result"
    }
   ],
   "source": [
    "features_trained['2345o 1o'][:-1]"
   ]
  },
  {
   "cell_type": "raw",
   "metadata": {
    "collapsed": false
   },
   "source": [
    "feature = pd.read_csv('input/train_test_p_6_7.csv', dtype = float)\n",
    "feature.head()"
   ]
  },
  {
   "cell_type": "raw",
   "metadata": {
    "collapsed": false
   },
   "source": [
    "part = pd.merge(test, feature, how='left', on = ['id'])\n",
    "index = pd.isnull(part[target])\n",
    "test = part[index]\n",
    "part = part[~index]\n",
    "del test[target]\n",
    "len(test), len(part)"
   ]
  },
  {
   "cell_type": "raw",
   "metadata": {
    "collapsed": true
   },
   "source": [
    "part.to_csv('output/my_submission.csv', columns = [u'id', u'Demanda_uni_equil'])"
   ]
  },
  {
   "cell_type": "code",
   "execution_count": 8,
   "metadata": {
    "collapsed": false,
    "scrolled": true
   },
   "outputs": [
    {
     "name": "stderr",
     "output_type": "stream",
     "text": [
      "D:\\Anaconda2\\lib\\site-packages\\ipykernel\\__main__.py:23: SettingWithCopyWarning: \n",
      "A value is trying to be set on a copy of a slice from a DataFrame\n",
      "\n",
      "See the caveats in the documentation: http://pandas.pydata.org/pandas-docs/stable/indexing.html#indexing-view-versus-copy\n"
     ]
    },
    {
     "name": "stdout",
     "output_type": "stream",
     "text": [
      "12345  :  6999251 3973680 3025571 10.1197322533 4.66666666667\n",
      "1245o  :  3973680 1446137 2527543 5.21679275938 3.0\n",
      "1234o  :  1446137 1446024 113 102.15037104 82.6732142857\n",
      "124o  :  1446024 1446024 0 nan nan\n",
      "1235o  :  1446024 1445846 178 27.9122092526 1.29166666666\n",
      "125o  :  1445846 1445846 0 nan nan\n",
      "123o  :  1445846 1445804 42 69.7767007031 62.6576403695\n",
      "12o  :  1445804 1445802 2 5.875 5.875\n",
      "2345o 1o  :  1445802 475862 969940 4.77534590668 3.24139817563\n",
      "2345o  :  475862 380528 95334 3.5084168993 1.71631664293\n",
      "245o  :  380528 380493 35 6.30576015255 2.5\n",
      "234o  :  380493 175583 204910 5.49126647896 3.35433272947\n",
      "24o  :  175583 175047 536 15.1325932029 8.15801886793\n",
      "235o  :  175047 160046 15001 10.5267923135 4.03438438438\n",
      "25o  :  160046 159317 729 12.5348236474 6.57142857143\n",
      "1345o  :  159317 4788 154529 4.52082171835 3.64635854342\n",
      "145o  :  4788 4787 1 40.9507936508 40.9507936508\n",
      "134o  :  4787 4787 0 nan nan\n",
      "14o  :  4787 4787 0 nan nan\n",
      "23o  :  4787 1997 2790 5.88048149294 2.14285714286\n",
      "135o  :  1997 401 1596 3.54885221439 3.22858778818\n",
      "15o  :  401 387 14 6.56888435374 3.75674603175\n",
      "13o  :  387 368 19 2.87827850901 2.73333333333\n",
      "1o  :  368 367 1 10.9880654762 10.9880654762\n",
      "2o  :  367 347 20 36.0062242719 13.7834383754\n",
      "345o  :  347 6 341 4.96154389996 3.80172221534\n",
      "45o  :  6 6 0 nan nan\n",
      "34o  :  6 1 5 4.83407628936 3.57354034968\n",
      "35o  :  1 0 1 3.65935048454 3.65935048454\n",
      "4o  :  0 0 0 nan nan\n",
      "5o  :  0 0 0 nan nan\n",
      "3o  :  0 0 0 nan nan\n"
     ]
    }
   ],
   "source": [
    "for feature in features:\n",
    "    part = merge_new_feature(test, feature, folder = output_folder)\n",
    "    \n",
    "    sub_features = feature.split()\n",
    "    \n",
    "    index = pd.isnull(part[sub_features[0]])\n",
    "    for i in range(1, len(sub_features)):\n",
    "        index = index | pd.isnull(part[sub_features[i]])\n",
    "    test = part[index]\n",
    "    \n",
    "    part = part[~index]\n",
    "    \n",
    "    if feature in features_trained.keys():\n",
    "        w = features_trained[feature][:-1]\n",
    "        part[target] = w[0]*np.ones(len(part))\n",
    "        for i in range(0, len(sub_features)):\n",
    "            part[target] = part[target] + w[i+1]*part[sub_features[i]]\n",
    "    else:\n",
    "        part[target] = part[sub_features[0]]\n",
    "        \n",
    "    index = (part[target]<0)\n",
    "    test_ = part[index]\n",
    "    test_.drop(target, axis=1, inplace=True)  \n",
    "    \n",
    "    test = pd.concat([test, test_])\n",
    "    \n",
    "    for i in range(0,len(sub_features)):\n",
    "        del test[sub_features[i]]\n",
    "\n",
    "    part = part[~index]    \n",
    "    #part[target] = np.exp(part[target])\n",
    "        \n",
    "    print feature, ' : ', len(test) + len(part), len(test), len(part), part[target].mean(), part[target].median()\n",
    "    \n",
    "    if feature == features[0]:\n",
    "        part.to_csv('output/my_submission.csv', columns = [u'id', u'Demanda_uni_equil'])\n",
    "    else:    \n",
    "        part.to_csv('output/my_submission.csv', mode = 'a', header=False,  columns = [u'id', u'Demanda_uni_equil'])\n",
    "           "
   ]
  },
  {
   "cell_type": "raw",
   "metadata": {},
   "source": [
    "12345  :  6999251 3973680 3025571 10.1197322533 4.66666666667\n",
    "1245o  :  3973680 1446137 2527543 5.21679275938 3.0\n",
    "1234o  :  1446137 1446024 113 102.15037104 82.6732142857\n",
    "124o  :  1446024 1446024 0 nan nan\n",
    "1235o  :  1446024 1445846 178 27.9122092526 1.29166666666\n",
    "125o  :  1445846 1445846 0 nan nan\n",
    "123o  :  1445846 1445804 42 69.7767007031 62.6576403695\n",
    "12o  :  1445804 1445802 2 5.875 5.875\n",
    "2345o  :  1445802 380528 1065274 4.48650418584 3.13043478261\n",
    "245o  :  380528 380493 35 6.30576015255 2.5\n",
    "234o  :  380493 175583 204910 5.49126647896 3.35433272947\n",
    "24o  :  175583 175047 536 15.1325932029 8.15801886793\n",
    "235o  :  175047 160046 15001 10.5267923135 4.03438438438\n",
    "25o  :  160046 159317 729 12.5348236474 6.57142857143\n",
    "1345o  :  159317 4788 154529 4.52082171835 3.64635854342\n",
    "145o  :  4788 4787 1 40.9507936508 40.9507936508\n",
    "134o  :  4787 4787 0 nan nan\n",
    "14o  :  4787 4787 0 nan nan\n",
    "23o  :  4787 1997 2790 5.88048149294 2.14285714286\n",
    "135o  :  1997 401 1596 3.54885221439 3.22858778818\n",
    "15o  :  401 387 14 6.56888435374 3.75674603175\n",
    "13o  :  387 368 19 2.87827850901 2.73333333333\n",
    "1o  :  368 178 190 31.056052475 4.0\n",
    "2o  :  178 168 10 58.7057182721 32.6768986181\n",
    "345o  :  168 4 164 4.11939355818 3.75025391349\n",
    "45o  :  4 4 0 nan nan\n",
    "34o  :  4 1 3 3.40537112404 3.53804609073\n",
    "35o  :  1 0 1 3.65935048454 3.65935048454\n",
    "4o  :  0 0 0 nan nan\n",
    "5o  :  0 0 0 nan nan\n",
    "3o  :  0 0 0 nan nan"
   ]
  },
  {
   "cell_type": "code",
   "execution_count": 9,
   "metadata": {
    "collapsed": false
   },
   "outputs": [
    {
     "name": "stdout",
     "output_type": "stream",
     "text": [
      "6999251\n"
     ]
    },
    {
     "data": {
      "text/html": [
       "<div>\n",
       "<table border=\"1\" class=\"dataframe\">\n",
       "  <thead>\n",
       "    <tr style=\"text-align: right;\">\n",
       "      <th></th>\n",
       "      <th>id</th>\n",
       "      <th>Demanda_uni_equil</th>\n",
       "    </tr>\n",
       "  </thead>\n",
       "  <tbody>\n",
       "    <tr>\n",
       "      <th>0</th>\n",
       "      <td>0</td>\n",
       "      <td>4.000000</td>\n",
       "    </tr>\n",
       "    <tr>\n",
       "      <th>1</th>\n",
       "      <td>1</td>\n",
       "      <td>0.348566</td>\n",
       "    </tr>\n",
       "    <tr>\n",
       "      <th>2</th>\n",
       "      <td>2</td>\n",
       "      <td>2.000000</td>\n",
       "    </tr>\n",
       "    <tr>\n",
       "      <th>3</th>\n",
       "      <td>3</td>\n",
       "      <td>0.474706</td>\n",
       "    </tr>\n",
       "    <tr>\n",
       "      <th>4</th>\n",
       "      <td>4</td>\n",
       "      <td>5.671429</td>\n",
       "    </tr>\n",
       "  </tbody>\n",
       "</table>\n",
       "</div>"
      ],
      "text/plain": [
       "   id  Demanda_uni_equil\n",
       "0   0           4.000000\n",
       "1   1           0.348566\n",
       "2   2           2.000000\n",
       "3   3           0.474706\n",
       "4   4           5.671429"
      ]
     },
     "execution_count": 9,
     "metadata": {},
     "output_type": "execute_result"
    }
   ],
   "source": [
    "my_submission = pd.read_csv('output/my_submission.csv', usecols = ['id', 'Demanda_uni_equil'])\n",
    "#my_submission[target] = np.rint(my_submission[target]).astype(int)\n",
    "#my_submission[target] = np.rint(np.exp(my_submission[target])).astype(int)\n",
    "\n",
    "#my_submission.loc[my_submission[target].isnull(), target] = \n",
    "\n",
    "my_submission = my_submission.sort_values('id').reset_index(drop = True)\n",
    "\n",
    "print len(my_submission)\n",
    "my_submission.head()"
   ]
  },
  {
   "cell_type": "code",
   "execution_count": 10,
   "metadata": {
    "collapsed": false
   },
   "outputs": [
    {
     "data": {
      "text/plain": [
       "count    6.999251e+06\n",
       "mean     7.259815e+00\n",
       "std      1.988699e+01\n",
       "min      0.000000e+00\n",
       "25%      2.000000e+00\n",
       "50%      3.666667e+00\n",
       "75%      7.000000e+00\n",
       "max      4.800000e+03\n",
       "Name: Demanda_uni_equil, dtype: float64"
      ]
     },
     "execution_count": 10,
     "metadata": {},
     "output_type": "execute_result"
    }
   ],
   "source": [
    "my_submission[target].describe()"
   ]
  },
  {
   "cell_type": "code",
   "execution_count": 11,
   "metadata": {
    "collapsed": false
   },
   "outputs": [
    {
     "data": {
      "text/plain": [
       "0"
      ]
     },
     "execution_count": 11,
     "metadata": {},
     "output_type": "execute_result"
    }
   ],
   "source": [
    "len(my_submission[my_submission[target].isnull()])"
   ]
  },
  {
   "cell_type": "raw",
   "metadata": {
    "collapsed": true
   },
   "source": [
    "my_submission.loc[my_submission[target] < 0, target] = 0"
   ]
  },
  {
   "cell_type": "code",
   "execution_count": 12,
   "metadata": {
    "collapsed": true
   },
   "outputs": [],
   "source": [
    "my_submission.to_csv('output/my_submission.csv', index=False, columns=['id','Demanda_uni_equil'])"
   ]
  },
  {
   "cell_type": "code",
   "execution_count": 13,
   "metadata": {
    "collapsed": false
   },
   "outputs": [
    {
     "data": {
      "text/html": [
       "<div>\n",
       "<table border=\"1\" class=\"dataframe\">\n",
       "  <thead>\n",
       "    <tr style=\"text-align: right;\">\n",
       "      <th></th>\n",
       "      <th>id</th>\n",
       "      <th>Demanda_uni_equil</th>\n",
       "    </tr>\n",
       "  </thead>\n",
       "  <tbody>\n",
       "    <tr>\n",
       "      <th>0</th>\n",
       "      <td>0</td>\n",
       "      <td>4.000000</td>\n",
       "    </tr>\n",
       "    <tr>\n",
       "      <th>1</th>\n",
       "      <td>1</td>\n",
       "      <td>0.348566</td>\n",
       "    </tr>\n",
       "    <tr>\n",
       "      <th>2</th>\n",
       "      <td>2</td>\n",
       "      <td>2.000000</td>\n",
       "    </tr>\n",
       "    <tr>\n",
       "      <th>3</th>\n",
       "      <td>3</td>\n",
       "      <td>0.474706</td>\n",
       "    </tr>\n",
       "    <tr>\n",
       "      <th>4</th>\n",
       "      <td>4</td>\n",
       "      <td>5.671429</td>\n",
       "    </tr>\n",
       "  </tbody>\n",
       "</table>\n",
       "</div>"
      ],
      "text/plain": [
       "   id  Demanda_uni_equil\n",
       "0   0           4.000000\n",
       "1   1           0.348566\n",
       "2   2           2.000000\n",
       "3   3           0.474706\n",
       "4   4           5.671429"
      ]
     },
     "execution_count": 13,
     "metadata": {},
     "output_type": "execute_result"
    }
   ],
   "source": [
    "my_submission = pd.read_csv('output/my_submission.csv')\n",
    "my_submission.head()"
   ]
  },
  {
   "cell_type": "code",
   "execution_count": null,
   "metadata": {
    "collapsed": true
   },
   "outputs": [],
   "source": []
  },
  {
   "cell_type": "code",
   "execution_count": null,
   "metadata": {
    "collapsed": true
   },
   "outputs": [],
   "source": []
  }
 ],
 "metadata": {
  "anaconda-cloud": {},
  "kernelspec": {
   "display_name": "Python [Root]",
   "language": "python",
   "name": "Python [Root]"
  },
  "language_info": {
   "codemirror_mode": {
    "name": "ipython",
    "version": 2
   },
   "file_extension": ".py",
   "mimetype": "text/x-python",
   "name": "python",
   "nbconvert_exporter": "python",
   "pygments_lexer": "ipython2",
   "version": "2.7.11"
  }
 },
 "nbformat": 4,
 "nbformat_minor": 0
}
