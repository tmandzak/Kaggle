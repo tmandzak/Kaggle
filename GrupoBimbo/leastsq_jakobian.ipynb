{
 "cells": [
  {
   "cell_type": "code",
   "execution_count": 4,
   "metadata": {
    "collapsed": false
   },
   "outputs": [
    {
     "name": "stdout",
     "output_type": "stream",
     "text": [
      "[ 2.99709203  5.98039778  1.00284497]\n"
     ]
    }
   ],
   "source": [
    "import scipy\n",
    "import numpy\n",
    "from scipy.optimize import leastsq\n",
    "\n",
    "#Define real coefficients\n",
    "p_real=[3,5,1]\n",
    "\n",
    "#Define functions\n",
    "def func(p, x):         #Function\n",
    "    return p[0]*numpy.exp(-p[1]*x)+p[2]\n",
    "\n",
    "def dfunc(p, x, y):     #Derivative\n",
    "    return [numpy.exp(-p[1]*x),-x*p[0]*numpy.exp(-p[1]*x), numpy.ones(len(x))]\n",
    "\n",
    "def residuals(p, x, y):\n",
    "    return numpy.abs(y-func(p, x))\n",
    "\n",
    "#Generate messy data\n",
    "x_vals=numpy.linspace(0,10,30)\n",
    "y_vals=func(p_real,x_vals)\n",
    "y_messy=y_vals+numpy.random.normal(size=len(y_vals))\n",
    "\n",
    "#Fit\n",
    "plsq,cov,infodict,mesg,ier=leastsq(residuals, [10,10,10], args=(x_vals, y_vals), Dfun=dfunc, col_deriv=1, full_output=True)\n",
    "\n",
    "print plsq"
   ]
  },
  {
   "cell_type": "code",
   "execution_count": null,
   "metadata": {
    "collapsed": true
   },
   "outputs": [],
   "source": []
  },
  {
   "cell_type": "code",
   "execution_count": null,
   "metadata": {
    "collapsed": true
   },
   "outputs": [],
   "source": []
  }
 ],
 "metadata": {
  "kernelspec": {
   "display_name": "Python 2",
   "language": "python",
   "name": "python2"
  },
  "language_info": {
   "codemirror_mode": {
    "name": "ipython",
    "version": 2
   },
   "file_extension": ".py",
   "mimetype": "text/x-python",
   "name": "python",
   "nbconvert_exporter": "python",
   "pygments_lexer": "ipython2",
   "version": "2.7.11"
  }
 },
 "nbformat": 4,
 "nbformat_minor": 0
}
