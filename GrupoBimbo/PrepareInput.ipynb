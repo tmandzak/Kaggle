{
 "cells": [
  {
   "cell_type": "code",
   "execution_count": 3,
   "metadata": {
    "collapsed": true
   },
   "outputs": [],
   "source": [
    "import pandas as pd\n",
    "from sklearn import linear_model\n",
    "\n",
    "%run 'Features.ipynb'"
   ]
  },
  {
   "cell_type": "markdown",
   "metadata": {},
   "source": [
    "## Create train_test"
   ]
  },
  {
   "cell_type": "code",
   "execution_count": 2,
   "metadata": {
    "collapsed": false
   },
   "outputs": [
    {
     "data": {
      "text/html": [
       "<div>\n",
       "<table border=\"1\" class=\"dataframe\">\n",
       "  <thead>\n",
       "    <tr style=\"text-align: right;\">\n",
       "      <th></th>\n",
       "      <th>id</th>\n",
       "      <th>Agencia_ID</th>\n",
       "      <th>Canal_ID</th>\n",
       "      <th>Ruta_SAK</th>\n",
       "      <th>Cliente_ID</th>\n",
       "      <th>Producto_ID</th>\n",
       "    </tr>\n",
       "  </thead>\n",
       "  <tbody>\n",
       "    <tr>\n",
       "      <th>0</th>\n",
       "      <td>0</td>\n",
       "      <td>4037</td>\n",
       "      <td>1</td>\n",
       "      <td>2209</td>\n",
       "      <td>4639078</td>\n",
       "      <td>35305</td>\n",
       "    </tr>\n",
       "    <tr>\n",
       "      <th>1</th>\n",
       "      <td>1</td>\n",
       "      <td>2237</td>\n",
       "      <td>1</td>\n",
       "      <td>1226</td>\n",
       "      <td>4705135</td>\n",
       "      <td>1238</td>\n",
       "    </tr>\n",
       "    <tr>\n",
       "      <th>2</th>\n",
       "      <td>2</td>\n",
       "      <td>2045</td>\n",
       "      <td>1</td>\n",
       "      <td>2831</td>\n",
       "      <td>4549769</td>\n",
       "      <td>32940</td>\n",
       "    </tr>\n",
       "    <tr>\n",
       "      <th>3</th>\n",
       "      <td>3</td>\n",
       "      <td>1227</td>\n",
       "      <td>1</td>\n",
       "      <td>4448</td>\n",
       "      <td>4717855</td>\n",
       "      <td>43066</td>\n",
       "    </tr>\n",
       "    <tr>\n",
       "      <th>4</th>\n",
       "      <td>4</td>\n",
       "      <td>1219</td>\n",
       "      <td>1</td>\n",
       "      <td>1130</td>\n",
       "      <td>966351</td>\n",
       "      <td>1277</td>\n",
       "    </tr>\n",
       "  </tbody>\n",
       "</table>\n",
       "</div>"
      ],
      "text/plain": [
       "   id  Agencia_ID  Canal_ID  Ruta_SAK  Cliente_ID  Producto_ID\n",
       "0   0        4037         1      2209     4639078        35305\n",
       "1   1        2237         1      1226     4705135         1238\n",
       "2   2        2045         1      2831     4549769        32940\n",
       "3   3        1227         1      4448     4717855        43066\n",
       "4   4        1219         1      1130      966351         1277"
      ]
     },
     "execution_count": 2,
     "metadata": {},
     "output_type": "execute_result"
    }
   ],
   "source": [
    "test = pd.read_csv('input/test.csv', dtype = dtype_dict, usecols = test_cols)\n",
    "test.head()"
   ]
  },
  {
   "cell_type": "code",
   "execution_count": 3,
   "metadata": {
    "collapsed": false
   },
   "outputs": [
    {
     "name": "stdout",
     "output_type": "stream",
     "text": [
      "output/outliers9/\n",
      "12345s (created)  \n"
     ]
    },
    {
     "data": {
      "text/plain": [
       "'Done'"
      ]
     },
     "execution_count": 3,
     "metadata": {},
     "output_type": "execute_result"
    }
   ],
   "source": [
    "build_all_features(test, 'id', ['12345s'], folder = output_folder, overwrite = True)"
   ]
  },
  {
   "cell_type": "code",
   "execution_count": 4,
   "metadata": {
    "collapsed": false
   },
   "outputs": [
    {
     "data": {
      "text/html": [
       "<div>\n",
       "<table border=\"1\" class=\"dataframe\">\n",
       "  <thead>\n",
       "    <tr style=\"text-align: right;\">\n",
       "      <th></th>\n",
       "      <th>Cliente_ID</th>\n",
       "      <th>Producto_ID</th>\n",
       "      <th>Canal_ID</th>\n",
       "      <th>Ruta_SAK</th>\n",
       "      <th>Agencia_ID</th>\n",
       "      <th>size</th>\n",
       "    </tr>\n",
       "  </thead>\n",
       "  <tbody>\n",
       "    <tr>\n",
       "      <th>0</th>\n",
       "      <td>26.0</td>\n",
       "      <td>31518.0</td>\n",
       "      <td>2.0</td>\n",
       "      <td>4189.0</td>\n",
       "      <td>2655.0</td>\n",
       "      <td>1.0</td>\n",
       "    </tr>\n",
       "    <tr>\n",
       "      <th>1</th>\n",
       "      <td>26.0</td>\n",
       "      <td>31520.0</td>\n",
       "      <td>2.0</td>\n",
       "      <td>4189.0</td>\n",
       "      <td>2655.0</td>\n",
       "      <td>1.0</td>\n",
       "    </tr>\n",
       "    <tr>\n",
       "      <th>2</th>\n",
       "      <td>26.0</td>\n",
       "      <td>34206.0</td>\n",
       "      <td>2.0</td>\n",
       "      <td>7212.0</td>\n",
       "      <td>2061.0</td>\n",
       "      <td>1.0</td>\n",
       "    </tr>\n",
       "    <tr>\n",
       "      <th>3</th>\n",
       "      <td>26.0</td>\n",
       "      <td>34210.0</td>\n",
       "      <td>2.0</td>\n",
       "      <td>7212.0</td>\n",
       "      <td>2061.0</td>\n",
       "      <td>1.0</td>\n",
       "    </tr>\n",
       "    <tr>\n",
       "      <th>4</th>\n",
       "      <td>26.0</td>\n",
       "      <td>34785.0</td>\n",
       "      <td>2.0</td>\n",
       "      <td>7212.0</td>\n",
       "      <td>2061.0</td>\n",
       "      <td>2.0</td>\n",
       "    </tr>\n",
       "  </tbody>\n",
       "</table>\n",
       "</div>"
      ],
      "text/plain": [
       "   Cliente_ID  Producto_ID  Canal_ID  Ruta_SAK  Agencia_ID  size\n",
       "0        26.0      31518.0       2.0    4189.0      2655.0   1.0\n",
       "1        26.0      31520.0       2.0    4189.0      2655.0   1.0\n",
       "2        26.0      34206.0       2.0    7212.0      2061.0   1.0\n",
       "3        26.0      34210.0       2.0    7212.0      2061.0   1.0\n",
       "4        26.0      34785.0       2.0    7212.0      2061.0   2.0"
      ]
     },
     "execution_count": 4,
     "metadata": {},
     "output_type": "execute_result"
    }
   ],
   "source": [
    "f = get_feature('12345s', folder = output_folder, dtype = float)\n",
    "f.head()"
   ]
  },
  {
   "cell_type": "code",
   "execution_count": 5,
   "metadata": {
    "collapsed": true
   },
   "outputs": [],
   "source": [
    "f.to_csv('input/test_size.csv', index = False) "
   ]
  },
  {
   "cell_type": "code",
   "execution_count": 6,
   "metadata": {
    "collapsed": false
   },
   "outputs": [
    {
     "name": "stdout",
     "output_type": "stream",
     "text": [
      "6237461\n"
     ]
    }
   ],
   "source": [
    "print len(f)"
   ]
  },
  {
   "cell_type": "code",
   "execution_count": 11,
   "metadata": {
    "collapsed": false
   },
   "outputs": [
    {
     "data": {
      "text/html": [
       "<div>\n",
       "<table border=\"1\" class=\"dataframe\">\n",
       "  <thead>\n",
       "    <tr style=\"text-align: right;\">\n",
       "      <th></th>\n",
       "      <th>Semana</th>\n",
       "      <th>Agencia_ID</th>\n",
       "      <th>Canal_ID</th>\n",
       "      <th>Ruta_SAK</th>\n",
       "      <th>Cliente_ID</th>\n",
       "      <th>Producto_ID</th>\n",
       "      <th>Demanda_uni_equil</th>\n",
       "    </tr>\n",
       "  </thead>\n",
       "  <tbody>\n",
       "    <tr>\n",
       "      <th>0</th>\n",
       "      <td>3</td>\n",
       "      <td>1110</td>\n",
       "      <td>7</td>\n",
       "      <td>3301</td>\n",
       "      <td>15766</td>\n",
       "      <td>1212</td>\n",
       "      <td>3</td>\n",
       "    </tr>\n",
       "    <tr>\n",
       "      <th>1</th>\n",
       "      <td>3</td>\n",
       "      <td>1110</td>\n",
       "      <td>7</td>\n",
       "      <td>3301</td>\n",
       "      <td>15766</td>\n",
       "      <td>1216</td>\n",
       "      <td>4</td>\n",
       "    </tr>\n",
       "    <tr>\n",
       "      <th>2</th>\n",
       "      <td>3</td>\n",
       "      <td>1110</td>\n",
       "      <td>7</td>\n",
       "      <td>3301</td>\n",
       "      <td>15766</td>\n",
       "      <td>1238</td>\n",
       "      <td>4</td>\n",
       "    </tr>\n",
       "    <tr>\n",
       "      <th>3</th>\n",
       "      <td>3</td>\n",
       "      <td>1110</td>\n",
       "      <td>7</td>\n",
       "      <td>3301</td>\n",
       "      <td>15766</td>\n",
       "      <td>1240</td>\n",
       "      <td>4</td>\n",
       "    </tr>\n",
       "    <tr>\n",
       "      <th>4</th>\n",
       "      <td>3</td>\n",
       "      <td>1110</td>\n",
       "      <td>7</td>\n",
       "      <td>3301</td>\n",
       "      <td>15766</td>\n",
       "      <td>1242</td>\n",
       "      <td>3</td>\n",
       "    </tr>\n",
       "  </tbody>\n",
       "</table>\n",
       "</div>"
      ],
      "text/plain": [
       "   Semana  Agencia_ID  Canal_ID  Ruta_SAK  Cliente_ID  Producto_ID  \\\n",
       "0       3        1110         7      3301       15766         1212   \n",
       "1       3        1110         7      3301       15766         1216   \n",
       "2       3        1110         7      3301       15766         1238   \n",
       "3       3        1110         7      3301       15766         1240   \n",
       "4       3        1110         7      3301       15766         1242   \n",
       "\n",
       "   Demanda_uni_equil  \n",
       "0                  3  \n",
       "1                  4  \n",
       "2                  4  \n",
       "3                  4  \n",
       "4                  3  "
      ]
     },
     "execution_count": 11,
     "metadata": {},
     "output_type": "execute_result"
    }
   ],
   "source": [
    "train = pd.read_csv('input/train.csv', dtype = dtype_dict, usecols = train_cols_Semana) #, nrows = 1e6\n",
    "train.head()"
   ]
  },
  {
   "cell_type": "code",
   "execution_count": 12,
   "metadata": {
    "collapsed": false
   },
   "outputs": [
    {
     "data": {
      "text/plain": [
       "74180464"
      ]
     },
     "execution_count": 12,
     "metadata": {},
     "output_type": "execute_result"
    }
   ],
   "source": [
    "len(train)"
   ]
  },
  {
   "cell_type": "code",
   "execution_count": 13,
   "metadata": {
    "collapsed": false
   },
   "outputs": [
    {
     "data": {
      "text/html": [
       "<div>\n",
       "<table border=\"1\" class=\"dataframe\">\n",
       "  <thead>\n",
       "    <tr style=\"text-align: right;\">\n",
       "      <th></th>\n",
       "      <th>Semana</th>\n",
       "      <th>Agencia_ID</th>\n",
       "      <th>Canal_ID</th>\n",
       "      <th>Ruta_SAK</th>\n",
       "      <th>Cliente_ID</th>\n",
       "      <th>Producto_ID</th>\n",
       "      <th>Demanda_uni_equil</th>\n",
       "      <th>size</th>\n",
       "    </tr>\n",
       "  </thead>\n",
       "  <tbody>\n",
       "    <tr>\n",
       "      <th>0</th>\n",
       "      <td>3</td>\n",
       "      <td>1110</td>\n",
       "      <td>7</td>\n",
       "      <td>3301</td>\n",
       "      <td>15766</td>\n",
       "      <td>1216</td>\n",
       "      <td>4</td>\n",
       "      <td>1.0</td>\n",
       "    </tr>\n",
       "    <tr>\n",
       "      <th>1</th>\n",
       "      <td>4</td>\n",
       "      <td>1110</td>\n",
       "      <td>7</td>\n",
       "      <td>3301</td>\n",
       "      <td>15766</td>\n",
       "      <td>1216</td>\n",
       "      <td>2</td>\n",
       "      <td>1.0</td>\n",
       "    </tr>\n",
       "    <tr>\n",
       "      <th>2</th>\n",
       "      <td>5</td>\n",
       "      <td>1110</td>\n",
       "      <td>7</td>\n",
       "      <td>3301</td>\n",
       "      <td>15766</td>\n",
       "      <td>1216</td>\n",
       "      <td>3</td>\n",
       "      <td>1.0</td>\n",
       "    </tr>\n",
       "    <tr>\n",
       "      <th>3</th>\n",
       "      <td>6</td>\n",
       "      <td>1110</td>\n",
       "      <td>7</td>\n",
       "      <td>3301</td>\n",
       "      <td>15766</td>\n",
       "      <td>1216</td>\n",
       "      <td>1</td>\n",
       "      <td>1.0</td>\n",
       "    </tr>\n",
       "    <tr>\n",
       "      <th>4</th>\n",
       "      <td>7</td>\n",
       "      <td>1110</td>\n",
       "      <td>7</td>\n",
       "      <td>3301</td>\n",
       "      <td>15766</td>\n",
       "      <td>1216</td>\n",
       "      <td>2</td>\n",
       "      <td>1.0</td>\n",
       "    </tr>\n",
       "  </tbody>\n",
       "</table>\n",
       "</div>"
      ],
      "text/plain": [
       "   Semana  Agencia_ID  Canal_ID  Ruta_SAK  Cliente_ID  Producto_ID  \\\n",
       "0       3        1110         7      3301       15766         1216   \n",
       "1       4        1110         7      3301       15766         1216   \n",
       "2       5        1110         7      3301       15766         1216   \n",
       "3       6        1110         7      3301       15766         1216   \n",
       "4       7        1110         7      3301       15766         1216   \n",
       "\n",
       "   Demanda_uni_equil  size  \n",
       "0                  4   1.0  \n",
       "1                  2   1.0  \n",
       "2                  3   1.0  \n",
       "3                  1   1.0  \n",
       "4                  2   1.0  "
      ]
     },
     "execution_count": 13,
     "metadata": {},
     "output_type": "execute_result"
    }
   ],
   "source": [
    "groupby = get_cols('12345s')\n",
    "train = pd.merge(train, f, how='inner', on = groupby)\n",
    "train.drop('size', axis=1, inplace=True)\n",
    "train.head()"
   ]
  },
  {
   "cell_type": "code",
   "execution_count": 19,
   "metadata": {
    "collapsed": false
   },
   "outputs": [
    {
     "data": {
      "text/plain": [
       "19512958"
      ]
     },
     "execution_count": 19,
     "metadata": {},
     "output_type": "execute_result"
    }
   ],
   "source": [
    "len(train)"
   ]
  },
  {
   "cell_type": "code",
   "execution_count": 17,
   "metadata": {
    "collapsed": false
   },
   "outputs": [
    {
     "data": {
      "text/html": [
       "<div>\n",
       "<table border=\"1\" class=\"dataframe\">\n",
       "  <thead>\n",
       "    <tr style=\"text-align: right;\">\n",
       "      <th></th>\n",
       "      <th>Semana</th>\n",
       "      <th>Agencia_ID</th>\n",
       "      <th>Canal_ID</th>\n",
       "      <th>Ruta_SAK</th>\n",
       "      <th>Cliente_ID</th>\n",
       "      <th>Producto_ID</th>\n",
       "      <th>Demanda_uni_equil</th>\n",
       "    </tr>\n",
       "  </thead>\n",
       "  <tbody>\n",
       "    <tr>\n",
       "      <th>0</th>\n",
       "      <td>3</td>\n",
       "      <td>1110</td>\n",
       "      <td>7</td>\n",
       "      <td>3301</td>\n",
       "      <td>15766</td>\n",
       "      <td>1216</td>\n",
       "      <td>4</td>\n",
       "    </tr>\n",
       "    <tr>\n",
       "      <th>1</th>\n",
       "      <td>4</td>\n",
       "      <td>1110</td>\n",
       "      <td>7</td>\n",
       "      <td>3301</td>\n",
       "      <td>15766</td>\n",
       "      <td>1216</td>\n",
       "      <td>2</td>\n",
       "    </tr>\n",
       "    <tr>\n",
       "      <th>2</th>\n",
       "      <td>5</td>\n",
       "      <td>1110</td>\n",
       "      <td>7</td>\n",
       "      <td>3301</td>\n",
       "      <td>15766</td>\n",
       "      <td>1216</td>\n",
       "      <td>3</td>\n",
       "    </tr>\n",
       "    <tr>\n",
       "      <th>3</th>\n",
       "      <td>6</td>\n",
       "      <td>1110</td>\n",
       "      <td>7</td>\n",
       "      <td>3301</td>\n",
       "      <td>15766</td>\n",
       "      <td>1216</td>\n",
       "      <td>1</td>\n",
       "    </tr>\n",
       "    <tr>\n",
       "      <th>4</th>\n",
       "      <td>7</td>\n",
       "      <td>1110</td>\n",
       "      <td>7</td>\n",
       "      <td>3301</td>\n",
       "      <td>15766</td>\n",
       "      <td>1216</td>\n",
       "      <td>2</td>\n",
       "    </tr>\n",
       "  </tbody>\n",
       "</table>\n",
       "</div>"
      ],
      "text/plain": [
       "   Semana  Agencia_ID  Canal_ID  Ruta_SAK  Cliente_ID  Producto_ID  \\\n",
       "0       3        1110         7      3301       15766         1216   \n",
       "1       4        1110         7      3301       15766         1216   \n",
       "2       5        1110         7      3301       15766         1216   \n",
       "3       6        1110         7      3301       15766         1216   \n",
       "4       7        1110         7      3301       15766         1216   \n",
       "\n",
       "   Demanda_uni_equil  \n",
       "0                  4  \n",
       "1                  2  \n",
       "2                  3  \n",
       "3                  1  \n",
       "4                  2  "
      ]
     },
     "execution_count": 17,
     "metadata": {},
     "output_type": "execute_result"
    }
   ],
   "source": [
    "train.head()"
   ]
  },
  {
   "cell_type": "code",
   "execution_count": 18,
   "metadata": {
    "collapsed": true
   },
   "outputs": [],
   "source": [
    "train.to_csv('input/train_test.csv', index = False) "
   ]
  },
  {
   "cell_type": "markdown",
   "metadata": {},
   "source": [
    "## Add 'size' to train_test"
   ]
  },
  {
   "cell_type": "code",
   "execution_count": 3,
   "metadata": {
    "collapsed": false
   },
   "outputs": [
    {
     "data": {
      "text/html": [
       "<div>\n",
       "<table border=\"1\" class=\"dataframe\">\n",
       "  <thead>\n",
       "    <tr style=\"text-align: right;\">\n",
       "      <th></th>\n",
       "      <th>Semana</th>\n",
       "      <th>Agencia_ID</th>\n",
       "      <th>Canal_ID</th>\n",
       "      <th>Ruta_SAK</th>\n",
       "      <th>Cliente_ID</th>\n",
       "      <th>Producto_ID</th>\n",
       "      <th>Demanda_uni_equil</th>\n",
       "    </tr>\n",
       "  </thead>\n",
       "  <tbody>\n",
       "    <tr>\n",
       "      <th>0</th>\n",
       "      <td>3</td>\n",
       "      <td>1110</td>\n",
       "      <td>7</td>\n",
       "      <td>3301</td>\n",
       "      <td>15766</td>\n",
       "      <td>1216</td>\n",
       "      <td>4</td>\n",
       "    </tr>\n",
       "    <tr>\n",
       "      <th>1</th>\n",
       "      <td>4</td>\n",
       "      <td>1110</td>\n",
       "      <td>7</td>\n",
       "      <td>3301</td>\n",
       "      <td>15766</td>\n",
       "      <td>1216</td>\n",
       "      <td>2</td>\n",
       "    </tr>\n",
       "    <tr>\n",
       "      <th>2</th>\n",
       "      <td>5</td>\n",
       "      <td>1110</td>\n",
       "      <td>7</td>\n",
       "      <td>3301</td>\n",
       "      <td>15766</td>\n",
       "      <td>1216</td>\n",
       "      <td>3</td>\n",
       "    </tr>\n",
       "    <tr>\n",
       "      <th>3</th>\n",
       "      <td>6</td>\n",
       "      <td>1110</td>\n",
       "      <td>7</td>\n",
       "      <td>3301</td>\n",
       "      <td>15766</td>\n",
       "      <td>1216</td>\n",
       "      <td>1</td>\n",
       "    </tr>\n",
       "    <tr>\n",
       "      <th>4</th>\n",
       "      <td>7</td>\n",
       "      <td>1110</td>\n",
       "      <td>7</td>\n",
       "      <td>3301</td>\n",
       "      <td>15766</td>\n",
       "      <td>1216</td>\n",
       "      <td>2</td>\n",
       "    </tr>\n",
       "  </tbody>\n",
       "</table>\n",
       "</div>"
      ],
      "text/plain": [
       "   Semana  Agencia_ID  Canal_ID  Ruta_SAK  Cliente_ID  Producto_ID  \\\n",
       "0       3        1110         7      3301       15766         1216   \n",
       "1       4        1110         7      3301       15766         1216   \n",
       "2       5        1110         7      3301       15766         1216   \n",
       "3       6        1110         7      3301       15766         1216   \n",
       "4       7        1110         7      3301       15766         1216   \n",
       "\n",
       "   Demanda_uni_equil  \n",
       "0                  4  \n",
       "1                  2  \n",
       "2                  3  \n",
       "3                  1  \n",
       "4                  2  "
      ]
     },
     "execution_count": 3,
     "metadata": {},
     "output_type": "execute_result"
    }
   ],
   "source": [
    "train = pd.read_csv('input/train_test.csv', dtype = dtype_dict, usecols = train_cols_Semana) #, nrows = 1e6\n",
    "train.head()"
   ]
  },
  {
   "cell_type": "code",
   "execution_count": 6,
   "metadata": {
    "collapsed": false
   },
   "outputs": [
    {
     "data": {
      "text/plain": [
       "19512958"
      ]
     },
     "execution_count": 6,
     "metadata": {},
     "output_type": "execute_result"
    }
   ],
   "source": [
    "len(train)"
   ]
  },
  {
   "cell_type": "code",
   "execution_count": 5,
   "metadata": {
    "collapsed": false
   },
   "outputs": [
    {
     "data": {
      "text/html": [
       "<div>\n",
       "<table border=\"1\" class=\"dataframe\">\n",
       "  <thead>\n",
       "    <tr style=\"text-align: right;\">\n",
       "      <th></th>\n",
       "      <th>Semana</th>\n",
       "      <th>Agencia_ID</th>\n",
       "      <th>Canal_ID</th>\n",
       "      <th>Ruta_SAK</th>\n",
       "      <th>Cliente_ID</th>\n",
       "      <th>Producto_ID</th>\n",
       "      <th>Demanda_uni_equil</th>\n",
       "      <th>size</th>\n",
       "    </tr>\n",
       "  </thead>\n",
       "  <tbody>\n",
       "    <tr>\n",
       "      <th>0</th>\n",
       "      <td>3</td>\n",
       "      <td>1110</td>\n",
       "      <td>7</td>\n",
       "      <td>3301</td>\n",
       "      <td>15766</td>\n",
       "      <td>1216</td>\n",
       "      <td>4</td>\n",
       "      <td>6</td>\n",
       "    </tr>\n",
       "    <tr>\n",
       "      <th>1</th>\n",
       "      <td>4</td>\n",
       "      <td>1110</td>\n",
       "      <td>7</td>\n",
       "      <td>3301</td>\n",
       "      <td>15766</td>\n",
       "      <td>1216</td>\n",
       "      <td>2</td>\n",
       "      <td>6</td>\n",
       "    </tr>\n",
       "    <tr>\n",
       "      <th>2</th>\n",
       "      <td>5</td>\n",
       "      <td>1110</td>\n",
       "      <td>7</td>\n",
       "      <td>3301</td>\n",
       "      <td>15766</td>\n",
       "      <td>1216</td>\n",
       "      <td>3</td>\n",
       "      <td>6</td>\n",
       "    </tr>\n",
       "    <tr>\n",
       "      <th>3</th>\n",
       "      <td>6</td>\n",
       "      <td>1110</td>\n",
       "      <td>7</td>\n",
       "      <td>3301</td>\n",
       "      <td>15766</td>\n",
       "      <td>1216</td>\n",
       "      <td>1</td>\n",
       "      <td>6</td>\n",
       "    </tr>\n",
       "    <tr>\n",
       "      <th>4</th>\n",
       "      <td>7</td>\n",
       "      <td>1110</td>\n",
       "      <td>7</td>\n",
       "      <td>3301</td>\n",
       "      <td>15766</td>\n",
       "      <td>1216</td>\n",
       "      <td>2</td>\n",
       "      <td>6</td>\n",
       "    </tr>\n",
       "  </tbody>\n",
       "</table>\n",
       "</div>"
      ],
      "text/plain": [
       "   Semana  Agencia_ID  Canal_ID  Ruta_SAK  Cliente_ID  Producto_ID  \\\n",
       "0       3        1110         7      3301       15766         1216   \n",
       "1       4        1110         7      3301       15766         1216   \n",
       "2       5        1110         7      3301       15766         1216   \n",
       "3       6        1110         7      3301       15766         1216   \n",
       "4       7        1110         7      3301       15766         1216   \n",
       "\n",
       "   Demanda_uni_equil  size  \n",
       "0                  4     6  \n",
       "1                  2     6  \n",
       "2                  3     6  \n",
       "3                  1     6  \n",
       "4                  2     6  "
      ]
     },
     "execution_count": 5,
     "metadata": {},
     "output_type": "execute_result"
    }
   ],
   "source": [
    "groupby = get_cols('12345s')\n",
    "f = pd.DataFrame({ 'size' : train.groupby(by = groupby)[target].size()}).reset_index() \n",
    "train = pd.merge(train, f, how='inner', on = groupby)\n",
    "train.head()"
   ]
  },
  {
   "cell_type": "code",
   "execution_count": 7,
   "metadata": {
    "collapsed": false
   },
   "outputs": [
    {
     "data": {
      "text/plain": [
       "count    1.951296e+07\n",
       "mean     5.180577e+00\n",
       "std      1.889414e+00\n",
       "min      1.000000e+00\n",
       "25%      4.000000e+00\n",
       "50%      5.000000e+00\n",
       "75%      7.000000e+00\n",
       "max      7.000000e+00\n",
       "Name: size, dtype: float64"
      ]
     },
     "execution_count": 7,
     "metadata": {},
     "output_type": "execute_result"
    }
   ],
   "source": [
    "train['size'].describe()"
   ]
  },
  {
   "cell_type": "code",
   "execution_count": 8,
   "metadata": {
    "collapsed": true
   },
   "outputs": [],
   "source": [
    "train.to_csv('input/train_test_size.csv', index = False) "
   ]
  },
  {
   "cell_type": "markdown",
   "metadata": {},
   "source": [
    "## Divide train_test by 'size'"
   ]
  },
  {
   "cell_type": "code",
   "execution_count": null,
   "metadata": {
    "collapsed": true
   },
   "outputs": [],
   "source": [
    "train = pd.read_csv('input/train_test_size.csv', dtype = dtype_dict, usecols = train_cols_Semana) \n",
    "train.head()"
   ]
  },
  {
   "cell_type": "code",
   "execution_count": 24,
   "metadata": {
    "collapsed": false
   },
   "outputs": [
    {
     "name": "stderr",
     "output_type": "stream",
     "text": [
      "D:\\Anaconda2\\lib\\site-packages\\ipykernel\\__main__.py:2: SettingWithCopyWarning: \n",
      "A value is trying to be set on a copy of a slice from a DataFrame\n",
      "\n",
      "See the caveats in the documentation: http://pandas.pydata.org/pandas-docs/stable/indexing.html#indexing-view-versus-copy\n",
      "  from ipykernel import kernelapp as app\n"
     ]
    },
    {
     "name": "stdout",
     "output_type": "stream",
     "text": [
      "13173358\n"
     ]
    }
   ],
   "source": [
    "train_part = train[train['size'] > 4]\n",
    "train_part.drop('size', axis=1, inplace=True)\n",
    "print len(train_part)\n",
    "train_part.to_csv('input/train_test_5_7.csv', index = False) \n"
   ]
  },
  {
   "cell_type": "raw",
   "metadata": {},
   "source": [
    "#\tlen\n",
    "1\t835768\n",
    "2\t1443068\n",
    "3\t2137740\n",
    "1_3\t4416576\n",
    "\n",
    "4\t1923024\n",
    "\n",
    "5\t3812505\n",
    "6\t1327338\n",
    "7\t8033515\n",
    "5_7\t13173358"
   ]
  },
  {
   "cell_type": "markdown",
   "metadata": {},
   "source": [
    "## Remove outliers: size = 4 "
   ]
  },
  {
   "cell_type": "code",
   "execution_count": 3,
   "metadata": {
    "collapsed": false
   },
   "outputs": [
    {
     "data": {
      "text/html": [
       "<div>\n",
       "<table border=\"1\" class=\"dataframe\">\n",
       "  <thead>\n",
       "    <tr style=\"text-align: right;\">\n",
       "      <th></th>\n",
       "      <th>Semana</th>\n",
       "      <th>Agencia_ID</th>\n",
       "      <th>Canal_ID</th>\n",
       "      <th>Ruta_SAK</th>\n",
       "      <th>Cliente_ID</th>\n",
       "      <th>Producto_ID</th>\n",
       "      <th>Demanda_uni_equil</th>\n",
       "    </tr>\n",
       "  </thead>\n",
       "  <tbody>\n",
       "    <tr>\n",
       "      <th>0</th>\n",
       "      <td>3</td>\n",
       "      <td>1110</td>\n",
       "      <td>7</td>\n",
       "      <td>3301</td>\n",
       "      <td>198780</td>\n",
       "      <td>4280</td>\n",
       "      <td>8</td>\n",
       "    </tr>\n",
       "    <tr>\n",
       "      <th>1</th>\n",
       "      <td>4</td>\n",
       "      <td>1110</td>\n",
       "      <td>7</td>\n",
       "      <td>3301</td>\n",
       "      <td>198780</td>\n",
       "      <td>4280</td>\n",
       "      <td>6</td>\n",
       "    </tr>\n",
       "    <tr>\n",
       "      <th>2</th>\n",
       "      <td>8</td>\n",
       "      <td>1110</td>\n",
       "      <td>7</td>\n",
       "      <td>3301</td>\n",
       "      <td>198780</td>\n",
       "      <td>4280</td>\n",
       "      <td>18</td>\n",
       "    </tr>\n",
       "    <tr>\n",
       "      <th>3</th>\n",
       "      <td>9</td>\n",
       "      <td>1110</td>\n",
       "      <td>7</td>\n",
       "      <td>3301</td>\n",
       "      <td>198780</td>\n",
       "      <td>4280</td>\n",
       "      <td>6</td>\n",
       "    </tr>\n",
       "    <tr>\n",
       "      <th>4</th>\n",
       "      <td>3</td>\n",
       "      <td>1110</td>\n",
       "      <td>7</td>\n",
       "      <td>3301</td>\n",
       "      <td>819816</td>\n",
       "      <td>5310</td>\n",
       "      <td>30</td>\n",
       "    </tr>\n",
       "  </tbody>\n",
       "</table>\n",
       "</div>"
      ],
      "text/plain": [
       "   Semana  Agencia_ID  Canal_ID  Ruta_SAK  Cliente_ID  Producto_ID  \\\n",
       "0       3        1110         7      3301      198780         4280   \n",
       "1       4        1110         7      3301      198780         4280   \n",
       "2       8        1110         7      3301      198780         4280   \n",
       "3       9        1110         7      3301      198780         4280   \n",
       "4       3        1110         7      3301      819816         5310   \n",
       "\n",
       "   Demanda_uni_equil  \n",
       "0                  8  \n",
       "1                  6  \n",
       "2                 18  \n",
       "3                  6  \n",
       "4                 30  "
      ]
     },
     "execution_count": 3,
     "metadata": {},
     "output_type": "execute_result"
    }
   ],
   "source": [
    "train = pd.read_csv('input/train_test_4.csv', dtype = dtype_dict, usecols = train_cols_Semana) \n",
    "train.head()"
   ]
  },
  {
   "cell_type": "code",
   "execution_count": 8,
   "metadata": {
    "collapsed": false
   },
   "outputs": [
    {
     "data": {
      "text/plain": [
       "1923024"
      ]
     },
     "execution_count": 8,
     "metadata": {},
     "output_type": "execute_result"
    }
   ],
   "source": [
    "len(train)"
   ]
  },
  {
   "cell_type": "code",
   "execution_count": 6,
   "metadata": {
    "collapsed": false
   },
   "outputs": [
    {
     "name": "stdout",
     "output_type": "stream",
     "text": [
      "output/outliers9/\n",
      "12345e (created)  \n"
     ]
    },
    {
     "data": {
      "text/html": [
       "<div>\n",
       "<table border=\"1\" class=\"dataframe\">\n",
       "  <thead>\n",
       "    <tr style=\"text-align: right;\">\n",
       "      <th></th>\n",
       "      <th>Cliente_ID</th>\n",
       "      <th>Producto_ID</th>\n",
       "      <th>Canal_ID</th>\n",
       "      <th>Ruta_SAK</th>\n",
       "      <th>Agencia_ID</th>\n",
       "      <th>IQR</th>\n",
       "      <th>L</th>\n",
       "      <th>U</th>\n",
       "      <th>id</th>\n",
       "    </tr>\n",
       "  </thead>\n",
       "  <tbody>\n",
       "    <tr>\n",
       "      <th>0</th>\n",
       "      <td>26.0</td>\n",
       "      <td>43335.0</td>\n",
       "      <td>2.0</td>\n",
       "      <td>7212.0</td>\n",
       "      <td>2061.0</td>\n",
       "      <td>1.50</td>\n",
       "      <td>0.000</td>\n",
       "      <td>6.000</td>\n",
       "      <td>1.0</td>\n",
       "    </tr>\n",
       "    <tr>\n",
       "      <th>1</th>\n",
       "      <td>26.0</td>\n",
       "      <td>46876.0</td>\n",
       "      <td>2.0</td>\n",
       "      <td>7212.0</td>\n",
       "      <td>2061.0</td>\n",
       "      <td>41.75</td>\n",
       "      <td>-29.625</td>\n",
       "      <td>137.375</td>\n",
       "      <td>2.0</td>\n",
       "    </tr>\n",
       "    <tr>\n",
       "      <th>2</th>\n",
       "      <td>65.0</td>\n",
       "      <td>31198.0</td>\n",
       "      <td>2.0</td>\n",
       "      <td>7333.0</td>\n",
       "      <td>2655.0</td>\n",
       "      <td>105.00</td>\n",
       "      <td>-66.500</td>\n",
       "      <td>353.500</td>\n",
       "      <td>3.0</td>\n",
       "    </tr>\n",
       "    <tr>\n",
       "      <th>3</th>\n",
       "      <td>65.0</td>\n",
       "      <td>31200.0</td>\n",
       "      <td>2.0</td>\n",
       "      <td>7333.0</td>\n",
       "      <td>2655.0</td>\n",
       "      <td>108.00</td>\n",
       "      <td>-72.000</td>\n",
       "      <td>360.000</td>\n",
       "      <td>4.0</td>\n",
       "    </tr>\n",
       "    <tr>\n",
       "      <th>4</th>\n",
       "      <td>65.0</td>\n",
       "      <td>43199.0</td>\n",
       "      <td>2.0</td>\n",
       "      <td>7250.0</td>\n",
       "      <td>2061.0</td>\n",
       "      <td>12.25</td>\n",
       "      <td>2.625</td>\n",
       "      <td>51.625</td>\n",
       "      <td>5.0</td>\n",
       "    </tr>\n",
       "  </tbody>\n",
       "</table>\n",
       "</div>"
      ],
      "text/plain": [
       "   Cliente_ID  Producto_ID  Canal_ID  Ruta_SAK  Agencia_ID     IQR       L  \\\n",
       "0        26.0      43335.0       2.0    7212.0      2061.0    1.50   0.000   \n",
       "1        26.0      46876.0       2.0    7212.0      2061.0   41.75 -29.625   \n",
       "2        65.0      31198.0       2.0    7333.0      2655.0  105.00 -66.500   \n",
       "3        65.0      31200.0       2.0    7333.0      2655.0  108.00 -72.000   \n",
       "4        65.0      43199.0       2.0    7250.0      2061.0   12.25   2.625   \n",
       "\n",
       "         U   id  \n",
       "0    6.000  1.0  \n",
       "1  137.375  2.0  \n",
       "2  353.500  3.0  \n",
       "3  360.000  4.0  \n",
       "4   51.625  5.0  "
      ]
     },
     "execution_count": 6,
     "metadata": {},
     "output_type": "execute_result"
    }
   ],
   "source": [
    "build_all_features(train, target, ['12345e'], folder = output_folder, overwrite = True)\n",
    "f = get_feature('12345e', folder = output_folder, dtype = float)\n",
    "f.head()"
   ]
  },
  {
   "cell_type": "code",
   "execution_count": 7,
   "metadata": {
    "collapsed": false
   },
   "outputs": [
    {
     "data": {
      "text/html": [
       "<div>\n",
       "<table border=\"1\" class=\"dataframe\">\n",
       "  <thead>\n",
       "    <tr style=\"text-align: right;\">\n",
       "      <th></th>\n",
       "      <th>Semana</th>\n",
       "      <th>Agencia_ID</th>\n",
       "      <th>Canal_ID</th>\n",
       "      <th>Ruta_SAK</th>\n",
       "      <th>Cliente_ID</th>\n",
       "      <th>Producto_ID</th>\n",
       "      <th>Demanda_uni_equil</th>\n",
       "      <th>IQR</th>\n",
       "      <th>L</th>\n",
       "      <th>U</th>\n",
       "      <th>id</th>\n",
       "    </tr>\n",
       "  </thead>\n",
       "  <tbody>\n",
       "    <tr>\n",
       "      <th>0</th>\n",
       "      <td>3</td>\n",
       "      <td>1110</td>\n",
       "      <td>7</td>\n",
       "      <td>3301</td>\n",
       "      <td>198780</td>\n",
       "      <td>4280</td>\n",
       "      <td>8</td>\n",
       "      <td>4.5</td>\n",
       "      <td>-0.75</td>\n",
       "      <td>17.25</td>\n",
       "      <td>80543.0</td>\n",
       "    </tr>\n",
       "    <tr>\n",
       "      <th>1</th>\n",
       "      <td>4</td>\n",
       "      <td>1110</td>\n",
       "      <td>7</td>\n",
       "      <td>3301</td>\n",
       "      <td>198780</td>\n",
       "      <td>4280</td>\n",
       "      <td>6</td>\n",
       "      <td>4.5</td>\n",
       "      <td>-0.75</td>\n",
       "      <td>17.25</td>\n",
       "      <td>80543.0</td>\n",
       "    </tr>\n",
       "    <tr>\n",
       "      <th>2</th>\n",
       "      <td>8</td>\n",
       "      <td>1110</td>\n",
       "      <td>7</td>\n",
       "      <td>3301</td>\n",
       "      <td>198780</td>\n",
       "      <td>4280</td>\n",
       "      <td>18</td>\n",
       "      <td>4.5</td>\n",
       "      <td>-0.75</td>\n",
       "      <td>17.25</td>\n",
       "      <td>80543.0</td>\n",
       "    </tr>\n",
       "    <tr>\n",
       "      <th>3</th>\n",
       "      <td>9</td>\n",
       "      <td>1110</td>\n",
       "      <td>7</td>\n",
       "      <td>3301</td>\n",
       "      <td>198780</td>\n",
       "      <td>4280</td>\n",
       "      <td>6</td>\n",
       "      <td>4.5</td>\n",
       "      <td>-0.75</td>\n",
       "      <td>17.25</td>\n",
       "      <td>80543.0</td>\n",
       "    </tr>\n",
       "    <tr>\n",
       "      <th>4</th>\n",
       "      <td>3</td>\n",
       "      <td>1110</td>\n",
       "      <td>7</td>\n",
       "      <td>3301</td>\n",
       "      <td>819816</td>\n",
       "      <td>5310</td>\n",
       "      <td>30</td>\n",
       "      <td>10.0</td>\n",
       "      <td>37.50</td>\n",
       "      <td>77.50</td>\n",
       "      <td>203211.0</td>\n",
       "    </tr>\n",
       "  </tbody>\n",
       "</table>\n",
       "</div>"
      ],
      "text/plain": [
       "   Semana  Agencia_ID  Canal_ID  Ruta_SAK  Cliente_ID  Producto_ID  \\\n",
       "0       3        1110         7      3301      198780         4280   \n",
       "1       4        1110         7      3301      198780         4280   \n",
       "2       8        1110         7      3301      198780         4280   \n",
       "3       9        1110         7      3301      198780         4280   \n",
       "4       3        1110         7      3301      819816         5310   \n",
       "\n",
       "   Demanda_uni_equil   IQR      L      U        id  \n",
       "0                  8   4.5  -0.75  17.25   80543.0  \n",
       "1                  6   4.5  -0.75  17.25   80543.0  \n",
       "2                 18   4.5  -0.75  17.25   80543.0  \n",
       "3                  6   4.5  -0.75  17.25   80543.0  \n",
       "4                 30  10.0  37.50  77.50  203211.0  "
      ]
     },
     "execution_count": 7,
     "metadata": {},
     "output_type": "execute_result"
    }
   ],
   "source": [
    "groupby = get_cols('12345e')\n",
    "train = pd.merge(train, f, how='inner', on = groupby)\n",
    "train.head()"
   ]
  },
  {
   "cell_type": "code",
   "execution_count": 9,
   "metadata": {
    "collapsed": false
   },
   "outputs": [
    {
     "data": {
      "text/html": [
       "<div>\n",
       "<table border=\"1\" class=\"dataframe\">\n",
       "  <thead>\n",
       "    <tr style=\"text-align: right;\">\n",
       "      <th></th>\n",
       "      <th>Semana</th>\n",
       "      <th>Agencia_ID</th>\n",
       "      <th>Canal_ID</th>\n",
       "      <th>Ruta_SAK</th>\n",
       "      <th>Cliente_ID</th>\n",
       "      <th>Producto_ID</th>\n",
       "      <th>Demanda_uni_equil</th>\n",
       "      <th>IQR</th>\n",
       "      <th>L</th>\n",
       "      <th>U</th>\n",
       "      <th>id</th>\n",
       "    </tr>\n",
       "  </thead>\n",
       "  <tbody>\n",
       "    <tr>\n",
       "      <th>0</th>\n",
       "      <td>3</td>\n",
       "      <td>1110</td>\n",
       "      <td>7</td>\n",
       "      <td>3301</td>\n",
       "      <td>198780</td>\n",
       "      <td>4280</td>\n",
       "      <td>8</td>\n",
       "      <td>4.5</td>\n",
       "      <td>-0.75</td>\n",
       "      <td>17.25</td>\n",
       "      <td>80543.0</td>\n",
       "    </tr>\n",
       "    <tr>\n",
       "      <th>1</th>\n",
       "      <td>4</td>\n",
       "      <td>1110</td>\n",
       "      <td>7</td>\n",
       "      <td>3301</td>\n",
       "      <td>198780</td>\n",
       "      <td>4280</td>\n",
       "      <td>6</td>\n",
       "      <td>4.5</td>\n",
       "      <td>-0.75</td>\n",
       "      <td>17.25</td>\n",
       "      <td>80543.0</td>\n",
       "    </tr>\n",
       "    <tr>\n",
       "      <th>3</th>\n",
       "      <td>9</td>\n",
       "      <td>1110</td>\n",
       "      <td>7</td>\n",
       "      <td>3301</td>\n",
       "      <td>198780</td>\n",
       "      <td>4280</td>\n",
       "      <td>6</td>\n",
       "      <td>4.5</td>\n",
       "      <td>-0.75</td>\n",
       "      <td>17.25</td>\n",
       "      <td>80543.0</td>\n",
       "    </tr>\n",
       "    <tr>\n",
       "      <th>5</th>\n",
       "      <td>4</td>\n",
       "      <td>1110</td>\n",
       "      <td>7</td>\n",
       "      <td>3301</td>\n",
       "      <td>819816</td>\n",
       "      <td>5310</td>\n",
       "      <td>70</td>\n",
       "      <td>10.0</td>\n",
       "      <td>37.50</td>\n",
       "      <td>77.50</td>\n",
       "      <td>203211.0</td>\n",
       "    </tr>\n",
       "    <tr>\n",
       "      <th>6</th>\n",
       "      <td>8</td>\n",
       "      <td>1110</td>\n",
       "      <td>7</td>\n",
       "      <td>3301</td>\n",
       "      <td>819816</td>\n",
       "      <td>5310</td>\n",
       "      <td>60</td>\n",
       "      <td>10.0</td>\n",
       "      <td>37.50</td>\n",
       "      <td>77.50</td>\n",
       "      <td>203211.0</td>\n",
       "    </tr>\n",
       "  </tbody>\n",
       "</table>\n",
       "</div>"
      ],
      "text/plain": [
       "   Semana  Agencia_ID  Canal_ID  Ruta_SAK  Cliente_ID  Producto_ID  \\\n",
       "0       3        1110         7      3301      198780         4280   \n",
       "1       4        1110         7      3301      198780         4280   \n",
       "3       9        1110         7      3301      198780         4280   \n",
       "5       4        1110         7      3301      819816         5310   \n",
       "6       8        1110         7      3301      819816         5310   \n",
       "\n",
       "   Demanda_uni_equil   IQR      L      U        id  \n",
       "0                  8   4.5  -0.75  17.25   80543.0  \n",
       "1                  6   4.5  -0.75  17.25   80543.0  \n",
       "3                  6   4.5  -0.75  17.25   80543.0  \n",
       "5                 70  10.0  37.50  77.50  203211.0  \n",
       "6                 60  10.0  37.50  77.50  203211.0  "
      ]
     },
     "execution_count": 9,
     "metadata": {},
     "output_type": "execute_result"
    }
   ],
   "source": [
    "train = train[(train[target]>=train['L'])&(train[target]<=train['U'])]\n",
    "train.head()"
   ]
  },
  {
   "cell_type": "code",
   "execution_count": 42,
   "metadata": {
    "collapsed": false
   },
   "outputs": [
    {
     "data": {
      "text/plain": [
       "1769300"
      ]
     },
     "execution_count": 42,
     "metadata": {},
     "output_type": "execute_result"
    }
   ],
   "source": [
    "len(train)"
   ]
  },
  {
   "cell_type": "code",
   "execution_count": 41,
   "metadata": {
    "collapsed": true
   },
   "outputs": [],
   "source": [
    "train.drop('L', axis=1, inplace=True)\n",
    "train.drop('U', axis=1, inplace=True)\n",
    "train.drop('IQR', axis=1, inplace=True)"
   ]
  },
  {
   "cell_type": "code",
   "execution_count": 44,
   "metadata": {
    "collapsed": false
   },
   "outputs": [],
   "source": [
    "train.to_csv('input/train_test_4_o.csv', index = False) "
   ]
  },
  {
   "cell_type": "markdown",
   "metadata": {},
   "source": [
    "## Remove outliers: size > 4 "
   ]
  },
  {
   "cell_type": "code",
   "execution_count": 12,
   "metadata": {
    "collapsed": false
   },
   "outputs": [
    {
     "data": {
      "text/html": [
       "<div>\n",
       "<table border=\"1\" class=\"dataframe\">\n",
       "  <thead>\n",
       "    <tr style=\"text-align: right;\">\n",
       "      <th></th>\n",
       "      <th>Semana</th>\n",
       "      <th>Agencia_ID</th>\n",
       "      <th>Canal_ID</th>\n",
       "      <th>Ruta_SAK</th>\n",
       "      <th>Cliente_ID</th>\n",
       "      <th>Producto_ID</th>\n",
       "      <th>Demanda_uni_equil</th>\n",
       "    </tr>\n",
       "  </thead>\n",
       "  <tbody>\n",
       "    <tr>\n",
       "      <th>0</th>\n",
       "      <td>3</td>\n",
       "      <td>1110</td>\n",
       "      <td>7</td>\n",
       "      <td>3301</td>\n",
       "      <td>15766</td>\n",
       "      <td>1216</td>\n",
       "      <td>4</td>\n",
       "    </tr>\n",
       "    <tr>\n",
       "      <th>1</th>\n",
       "      <td>4</td>\n",
       "      <td>1110</td>\n",
       "      <td>7</td>\n",
       "      <td>3301</td>\n",
       "      <td>15766</td>\n",
       "      <td>1216</td>\n",
       "      <td>2</td>\n",
       "    </tr>\n",
       "    <tr>\n",
       "      <th>2</th>\n",
       "      <td>5</td>\n",
       "      <td>1110</td>\n",
       "      <td>7</td>\n",
       "      <td>3301</td>\n",
       "      <td>15766</td>\n",
       "      <td>1216</td>\n",
       "      <td>3</td>\n",
       "    </tr>\n",
       "    <tr>\n",
       "      <th>3</th>\n",
       "      <td>6</td>\n",
       "      <td>1110</td>\n",
       "      <td>7</td>\n",
       "      <td>3301</td>\n",
       "      <td>15766</td>\n",
       "      <td>1216</td>\n",
       "      <td>1</td>\n",
       "    </tr>\n",
       "    <tr>\n",
       "      <th>4</th>\n",
       "      <td>7</td>\n",
       "      <td>1110</td>\n",
       "      <td>7</td>\n",
       "      <td>3301</td>\n",
       "      <td>15766</td>\n",
       "      <td>1216</td>\n",
       "      <td>2</td>\n",
       "    </tr>\n",
       "  </tbody>\n",
       "</table>\n",
       "</div>"
      ],
      "text/plain": [
       "   Semana  Agencia_ID  Canal_ID  Ruta_SAK  Cliente_ID  Producto_ID  \\\n",
       "0       3        1110         7      3301       15766         1216   \n",
       "1       4        1110         7      3301       15766         1216   \n",
       "2       5        1110         7      3301       15766         1216   \n",
       "3       6        1110         7      3301       15766         1216   \n",
       "4       7        1110         7      3301       15766         1216   \n",
       "\n",
       "   Demanda_uni_equil  \n",
       "0                  4  \n",
       "1                  2  \n",
       "2                  3  \n",
       "3                  1  \n",
       "4                  2  "
      ]
     },
     "execution_count": 12,
     "metadata": {},
     "output_type": "execute_result"
    }
   ],
   "source": [
    "train = pd.read_csv('input/train_test_5_7.csv', dtype = dtype_dict, usecols = train_cols_Semana) \n",
    "train.head()"
   ]
  },
  {
   "cell_type": "code",
   "execution_count": 13,
   "metadata": {
    "collapsed": false
   },
   "outputs": [
    {
     "data": {
      "text/plain": [
       "13173358"
      ]
     },
     "execution_count": 13,
     "metadata": {},
     "output_type": "execute_result"
    }
   ],
   "source": [
    "len(train)"
   ]
  },
  {
   "cell_type": "code",
   "execution_count": 8,
   "metadata": {
    "collapsed": false
   },
   "outputs": [
    {
     "name": "stdout",
     "output_type": "stream",
     "text": [
      "output/outliers9/\n",
      "12345c (created)  \n"
     ]
    },
    {
     "data": {
      "text/plain": [
       "'Done'"
      ]
     },
     "execution_count": 8,
     "metadata": {},
     "output_type": "execute_result"
    }
   ],
   "source": [
    "build_all_features(train, target, ['12345c'], folder = output_folder, overwrite = True)"
   ]
  },
  {
   "cell_type": "code",
   "execution_count": 14,
   "metadata": {
    "collapsed": false
   },
   "outputs": [
    {
     "data": {
      "text/html": [
       "<div>\n",
       "<table border=\"1\" class=\"dataframe\">\n",
       "  <thead>\n",
       "    <tr style=\"text-align: right;\">\n",
       "      <th></th>\n",
       "      <th>Cliente_ID</th>\n",
       "      <th>Producto_ID</th>\n",
       "      <th>Canal_ID</th>\n",
       "      <th>Ruta_SAK</th>\n",
       "      <th>Agencia_ID</th>\n",
       "      <th>mc</th>\n",
       "    </tr>\n",
       "  </thead>\n",
       "  <tbody>\n",
       "    <tr>\n",
       "      <th>0</th>\n",
       "      <td>26.0</td>\n",
       "      <td>34206.0</td>\n",
       "      <td>2.0</td>\n",
       "      <td>7212.0</td>\n",
       "      <td>2061.0</td>\n",
       "      <td>-0.066667</td>\n",
       "    </tr>\n",
       "    <tr>\n",
       "      <th>1</th>\n",
       "      <td>26.0</td>\n",
       "      <td>34210.0</td>\n",
       "      <td>2.0</td>\n",
       "      <td>7212.0</td>\n",
       "      <td>2061.0</td>\n",
       "      <td>-0.500000</td>\n",
       "    </tr>\n",
       "    <tr>\n",
       "      <th>2</th>\n",
       "      <td>26.0</td>\n",
       "      <td>34785.0</td>\n",
       "      <td>2.0</td>\n",
       "      <td>7212.0</td>\n",
       "      <td>2061.0</td>\n",
       "      <td>-0.200000</td>\n",
       "    </tr>\n",
       "    <tr>\n",
       "      <th>3</th>\n",
       "      <td>26.0</td>\n",
       "      <td>34786.0</td>\n",
       "      <td>2.0</td>\n",
       "      <td>7212.0</td>\n",
       "      <td>2061.0</td>\n",
       "      <td>-0.666667</td>\n",
       "    </tr>\n",
       "    <tr>\n",
       "      <th>4</th>\n",
       "      <td>26.0</td>\n",
       "      <td>35142.0</td>\n",
       "      <td>2.0</td>\n",
       "      <td>7212.0</td>\n",
       "      <td>2061.0</td>\n",
       "      <td>-0.428571</td>\n",
       "    </tr>\n",
       "  </tbody>\n",
       "</table>\n",
       "</div>"
      ],
      "text/plain": [
       "   Cliente_ID  Producto_ID  Canal_ID  Ruta_SAK  Agencia_ID        mc\n",
       "0        26.0      34206.0       2.0    7212.0      2061.0 -0.066667\n",
       "1        26.0      34210.0       2.0    7212.0      2061.0 -0.500000\n",
       "2        26.0      34785.0       2.0    7212.0      2061.0 -0.200000\n",
       "3        26.0      34786.0       2.0    7212.0      2061.0 -0.666667\n",
       "4        26.0      35142.0       2.0    7212.0      2061.0 -0.428571"
      ]
     },
     "execution_count": 14,
     "metadata": {},
     "output_type": "execute_result"
    }
   ],
   "source": [
    "f = get_feature('PrepareInput/12345c', folder = output_folder, dtype = float)\n",
    "f.head()"
   ]
  },
  {
   "cell_type": "code",
   "execution_count": 15,
   "metadata": {
    "collapsed": false
   },
   "outputs": [
    {
     "data": {
      "text/plain": [
       "count    2.131369e+06\n",
       "mean     6.344684e-03\n",
       "std      5.279486e-01\n",
       "min     -1.000000e+00\n",
       "25%     -2.000000e-01\n",
       "50%      0.000000e+00\n",
       "75%      2.500000e-01\n",
       "max      1.000000e+00\n",
       "Name: mc, dtype: float64"
      ]
     },
     "execution_count": 15,
     "metadata": {},
     "output_type": "execute_result"
    }
   ],
   "source": [
    "f['mc'].describe()"
   ]
  },
  {
   "cell_type": "code",
   "execution_count": 13,
   "metadata": {
    "collapsed": false
   },
   "outputs": [
    {
     "name": "stdout",
     "output_type": "stream",
     "text": [
      "output/outliers9/\n",
      "12345i (created)  \n"
     ]
    },
    {
     "data": {
      "text/plain": [
       "'Done'"
      ]
     },
     "execution_count": 13,
     "metadata": {},
     "output_type": "execute_result"
    }
   ],
   "source": [
    "build_all_features(train, target, ['12345i'], folder = output_folder, overwrite = True)\n"
   ]
  },
  {
   "cell_type": "code",
   "execution_count": 16,
   "metadata": {
    "collapsed": false
   },
   "outputs": [
    {
     "data": {
      "text/html": [
       "<div>\n",
       "<table border=\"1\" class=\"dataframe\">\n",
       "  <thead>\n",
       "    <tr style=\"text-align: right;\">\n",
       "      <th></th>\n",
       "      <th>Cliente_ID</th>\n",
       "      <th>Producto_ID</th>\n",
       "      <th>Canal_ID</th>\n",
       "      <th>Ruta_SAK</th>\n",
       "      <th>Agencia_ID</th>\n",
       "      <th>L</th>\n",
       "      <th>U</th>\n",
       "      <th>IQR</th>\n",
       "    </tr>\n",
       "  </thead>\n",
       "  <tbody>\n",
       "    <tr>\n",
       "      <th>0</th>\n",
       "      <td>26.0</td>\n",
       "      <td>34206.0</td>\n",
       "      <td>2.0</td>\n",
       "      <td>7212.0</td>\n",
       "      <td>2061.0</td>\n",
       "      <td>75.0</td>\n",
       "      <td>101.5</td>\n",
       "      <td>26.5</td>\n",
       "    </tr>\n",
       "    <tr>\n",
       "      <th>1</th>\n",
       "      <td>26.0</td>\n",
       "      <td>34210.0</td>\n",
       "      <td>2.0</td>\n",
       "      <td>7212.0</td>\n",
       "      <td>2061.0</td>\n",
       "      <td>31.0</td>\n",
       "      <td>40.5</td>\n",
       "      <td>9.5</td>\n",
       "    </tr>\n",
       "    <tr>\n",
       "      <th>2</th>\n",
       "      <td>26.0</td>\n",
       "      <td>34785.0</td>\n",
       "      <td>2.0</td>\n",
       "      <td>7212.0</td>\n",
       "      <td>2061.0</td>\n",
       "      <td>16.0</td>\n",
       "      <td>24.0</td>\n",
       "      <td>8.0</td>\n",
       "    </tr>\n",
       "    <tr>\n",
       "      <th>3</th>\n",
       "      <td>26.0</td>\n",
       "      <td>34786.0</td>\n",
       "      <td>2.0</td>\n",
       "      <td>7212.0</td>\n",
       "      <td>2061.0</td>\n",
       "      <td>61.0</td>\n",
       "      <td>76.0</td>\n",
       "      <td>15.0</td>\n",
       "    </tr>\n",
       "    <tr>\n",
       "      <th>4</th>\n",
       "      <td>26.0</td>\n",
       "      <td>35142.0</td>\n",
       "      <td>2.0</td>\n",
       "      <td>7212.0</td>\n",
       "      <td>2061.0</td>\n",
       "      <td>29.5</td>\n",
       "      <td>38.5</td>\n",
       "      <td>9.0</td>\n",
       "    </tr>\n",
       "  </tbody>\n",
       "</table>\n",
       "</div>"
      ],
      "text/plain": [
       "   Cliente_ID  Producto_ID  Canal_ID  Ruta_SAK  Agencia_ID     L      U   IQR\n",
       "0        26.0      34206.0       2.0    7212.0      2061.0  75.0  101.5  26.5\n",
       "1        26.0      34210.0       2.0    7212.0      2061.0  31.0   40.5   9.5\n",
       "2        26.0      34785.0       2.0    7212.0      2061.0  16.0   24.0   8.0\n",
       "3        26.0      34786.0       2.0    7212.0      2061.0  61.0   76.0  15.0\n",
       "4        26.0      35142.0       2.0    7212.0      2061.0  29.5   38.5   9.0"
      ]
     },
     "execution_count": 16,
     "metadata": {},
     "output_type": "execute_result"
    }
   ],
   "source": [
    "fi = get_feature('PrepareInput/12345i', folder = output_folder, dtype = float)\n",
    "fi.head()"
   ]
  },
  {
   "cell_type": "code",
   "execution_count": 17,
   "metadata": {
    "collapsed": false
   },
   "outputs": [
    {
     "data": {
      "text/html": [
       "<div>\n",
       "<table border=\"1\" class=\"dataframe\">\n",
       "  <thead>\n",
       "    <tr style=\"text-align: right;\">\n",
       "      <th></th>\n",
       "      <th>Semana</th>\n",
       "      <th>Agencia_ID</th>\n",
       "      <th>Canal_ID</th>\n",
       "      <th>Ruta_SAK</th>\n",
       "      <th>Cliente_ID</th>\n",
       "      <th>Producto_ID</th>\n",
       "      <th>Demanda_uni_equil</th>\n",
       "      <th>mc</th>\n",
       "    </tr>\n",
       "  </thead>\n",
       "  <tbody>\n",
       "    <tr>\n",
       "      <th>0</th>\n",
       "      <td>3</td>\n",
       "      <td>1110</td>\n",
       "      <td>7</td>\n",
       "      <td>3301</td>\n",
       "      <td>15766</td>\n",
       "      <td>1216</td>\n",
       "      <td>4</td>\n",
       "      <td>0.25</td>\n",
       "    </tr>\n",
       "    <tr>\n",
       "      <th>1</th>\n",
       "      <td>4</td>\n",
       "      <td>1110</td>\n",
       "      <td>7</td>\n",
       "      <td>3301</td>\n",
       "      <td>15766</td>\n",
       "      <td>1216</td>\n",
       "      <td>2</td>\n",
       "      <td>0.25</td>\n",
       "    </tr>\n",
       "    <tr>\n",
       "      <th>2</th>\n",
       "      <td>5</td>\n",
       "      <td>1110</td>\n",
       "      <td>7</td>\n",
       "      <td>3301</td>\n",
       "      <td>15766</td>\n",
       "      <td>1216</td>\n",
       "      <td>3</td>\n",
       "      <td>0.25</td>\n",
       "    </tr>\n",
       "    <tr>\n",
       "      <th>3</th>\n",
       "      <td>6</td>\n",
       "      <td>1110</td>\n",
       "      <td>7</td>\n",
       "      <td>3301</td>\n",
       "      <td>15766</td>\n",
       "      <td>1216</td>\n",
       "      <td>1</td>\n",
       "      <td>0.25</td>\n",
       "    </tr>\n",
       "    <tr>\n",
       "      <th>4</th>\n",
       "      <td>7</td>\n",
       "      <td>1110</td>\n",
       "      <td>7</td>\n",
       "      <td>3301</td>\n",
       "      <td>15766</td>\n",
       "      <td>1216</td>\n",
       "      <td>2</td>\n",
       "      <td>0.25</td>\n",
       "    </tr>\n",
       "  </tbody>\n",
       "</table>\n",
       "</div>"
      ],
      "text/plain": [
       "   Semana  Agencia_ID  Canal_ID  Ruta_SAK  Cliente_ID  Producto_ID  \\\n",
       "0       3        1110         7      3301       15766         1216   \n",
       "1       4        1110         7      3301       15766         1216   \n",
       "2       5        1110         7      3301       15766         1216   \n",
       "3       6        1110         7      3301       15766         1216   \n",
       "4       7        1110         7      3301       15766         1216   \n",
       "\n",
       "   Demanda_uni_equil    mc  \n",
       "0                  4  0.25  \n",
       "1                  2  0.25  \n",
       "2                  3  0.25  \n",
       "3                  1  0.25  \n",
       "4                  2  0.25  "
      ]
     },
     "execution_count": 17,
     "metadata": {},
     "output_type": "execute_result"
    }
   ],
   "source": [
    "groupby = get_cols('12345c')\n",
    "train = pd.merge(train, f, how='left', on = groupby)\n",
    "train.head()"
   ]
  },
  {
   "cell_type": "code",
   "execution_count": 18,
   "metadata": {
    "collapsed": false
   },
   "outputs": [
    {
     "data": {
      "text/html": [
       "<div>\n",
       "<table border=\"1\" class=\"dataframe\">\n",
       "  <thead>\n",
       "    <tr style=\"text-align: right;\">\n",
       "      <th></th>\n",
       "      <th>Semana</th>\n",
       "      <th>Agencia_ID</th>\n",
       "      <th>Canal_ID</th>\n",
       "      <th>Ruta_SAK</th>\n",
       "      <th>Cliente_ID</th>\n",
       "      <th>Producto_ID</th>\n",
       "      <th>Demanda_uni_equil</th>\n",
       "      <th>mc</th>\n",
       "      <th>L</th>\n",
       "      <th>U</th>\n",
       "      <th>IQR</th>\n",
       "    </tr>\n",
       "  </thead>\n",
       "  <tbody>\n",
       "    <tr>\n",
       "      <th>0</th>\n",
       "      <td>3</td>\n",
       "      <td>1110</td>\n",
       "      <td>7</td>\n",
       "      <td>3301</td>\n",
       "      <td>15766</td>\n",
       "      <td>1216</td>\n",
       "      <td>4</td>\n",
       "      <td>0.25</td>\n",
       "      <td>2.0</td>\n",
       "      <td>3.75</td>\n",
       "      <td>1.75</td>\n",
       "    </tr>\n",
       "    <tr>\n",
       "      <th>1</th>\n",
       "      <td>4</td>\n",
       "      <td>1110</td>\n",
       "      <td>7</td>\n",
       "      <td>3301</td>\n",
       "      <td>15766</td>\n",
       "      <td>1216</td>\n",
       "      <td>2</td>\n",
       "      <td>0.25</td>\n",
       "      <td>2.0</td>\n",
       "      <td>3.75</td>\n",
       "      <td>1.75</td>\n",
       "    </tr>\n",
       "    <tr>\n",
       "      <th>2</th>\n",
       "      <td>5</td>\n",
       "      <td>1110</td>\n",
       "      <td>7</td>\n",
       "      <td>3301</td>\n",
       "      <td>15766</td>\n",
       "      <td>1216</td>\n",
       "      <td>3</td>\n",
       "      <td>0.25</td>\n",
       "      <td>2.0</td>\n",
       "      <td>3.75</td>\n",
       "      <td>1.75</td>\n",
       "    </tr>\n",
       "    <tr>\n",
       "      <th>3</th>\n",
       "      <td>6</td>\n",
       "      <td>1110</td>\n",
       "      <td>7</td>\n",
       "      <td>3301</td>\n",
       "      <td>15766</td>\n",
       "      <td>1216</td>\n",
       "      <td>1</td>\n",
       "      <td>0.25</td>\n",
       "      <td>2.0</td>\n",
       "      <td>3.75</td>\n",
       "      <td>1.75</td>\n",
       "    </tr>\n",
       "    <tr>\n",
       "      <th>4</th>\n",
       "      <td>7</td>\n",
       "      <td>1110</td>\n",
       "      <td>7</td>\n",
       "      <td>3301</td>\n",
       "      <td>15766</td>\n",
       "      <td>1216</td>\n",
       "      <td>2</td>\n",
       "      <td>0.25</td>\n",
       "      <td>2.0</td>\n",
       "      <td>3.75</td>\n",
       "      <td>1.75</td>\n",
       "    </tr>\n",
       "  </tbody>\n",
       "</table>\n",
       "</div>"
      ],
      "text/plain": [
       "   Semana  Agencia_ID  Canal_ID  Ruta_SAK  Cliente_ID  Producto_ID  \\\n",
       "0       3        1110         7      3301       15766         1216   \n",
       "1       4        1110         7      3301       15766         1216   \n",
       "2       5        1110         7      3301       15766         1216   \n",
       "3       6        1110         7      3301       15766         1216   \n",
       "4       7        1110         7      3301       15766         1216   \n",
       "\n",
       "   Demanda_uni_equil    mc    L     U   IQR  \n",
       "0                  4  0.25  2.0  3.75  1.75  \n",
       "1                  2  0.25  2.0  3.75  1.75  \n",
       "2                  3  0.25  2.0  3.75  1.75  \n",
       "3                  1  0.25  2.0  3.75  1.75  \n",
       "4                  2  0.25  2.0  3.75  1.75  "
      ]
     },
     "execution_count": 18,
     "metadata": {},
     "output_type": "execute_result"
    }
   ],
   "source": [
    "groupby = get_cols('12345i')\n",
    "train = pd.merge(train, fi, how='left', on = groupby)\n",
    "train.head()"
   ]
  },
  {
   "cell_type": "code",
   "execution_count": 19,
   "metadata": {
    "collapsed": false
   },
   "outputs": [
    {
     "data": {
      "text/plain": [
       "13173358"
      ]
     },
     "execution_count": 19,
     "metadata": {},
     "output_type": "execute_result"
    }
   ],
   "source": [
    "len(train)"
   ]
  },
  {
   "cell_type": "code",
   "execution_count": 20,
   "metadata": {
    "collapsed": false
   },
   "outputs": [
    {
     "data": {
      "text/plain": [
       "3761628"
      ]
     },
     "execution_count": 20,
     "metadata": {},
     "output_type": "execute_result"
    }
   ],
   "source": [
    "train1 = train[train['mc']<0]\n",
    "len(train1)"
   ]
  },
  {
   "cell_type": "code",
   "execution_count": 21,
   "metadata": {
    "collapsed": false
   },
   "outputs": [
    {
     "name": "stderr",
     "output_type": "stream",
     "text": [
      "D:\\Anaconda2\\lib\\site-packages\\ipykernel\\__main__.py:1: SettingWithCopyWarning: \n",
      "A value is trying to be set on a copy of a slice from a DataFrame.\n",
      "Try using .loc[row_indexer,col_indexer] = value instead\n",
      "\n",
      "See the caveats in the documentation: http://pandas.pydata.org/pandas-docs/stable/indexing.html#indexing-view-versus-copy\n",
      "  if __name__ == '__main__':\n",
      "D:\\Anaconda2\\lib\\site-packages\\ipykernel\\__main__.py:2: SettingWithCopyWarning: \n",
      "A value is trying to be set on a copy of a slice from a DataFrame.\n",
      "Try using .loc[row_indexer,col_indexer] = value instead\n",
      "\n",
      "See the caveats in the documentation: http://pandas.pydata.org/pandas-docs/stable/indexing.html#indexing-view-versus-copy\n",
      "  from ipykernel import kernelapp as app\n"
     ]
    },
    {
     "data": {
      "text/html": [
       "<div>\n",
       "<table border=\"1\" class=\"dataframe\">\n",
       "  <thead>\n",
       "    <tr style=\"text-align: right;\">\n",
       "      <th></th>\n",
       "      <th>Semana</th>\n",
       "      <th>Agencia_ID</th>\n",
       "      <th>Canal_ID</th>\n",
       "      <th>Ruta_SAK</th>\n",
       "      <th>Cliente_ID</th>\n",
       "      <th>Producto_ID</th>\n",
       "      <th>Demanda_uni_equil</th>\n",
       "      <th>mc</th>\n",
       "      <th>L</th>\n",
       "      <th>U</th>\n",
       "      <th>IQR</th>\n",
       "      <th>L_</th>\n",
       "      <th>U_</th>\n",
       "    </tr>\n",
       "  </thead>\n",
       "  <tbody>\n",
       "    <tr>\n",
       "      <th>25</th>\n",
       "      <td>3</td>\n",
       "      <td>1110</td>\n",
       "      <td>7</td>\n",
       "      <td>3301</td>\n",
       "      <td>15766</td>\n",
       "      <td>30531</td>\n",
       "      <td>8</td>\n",
       "      <td>-0.090909</td>\n",
       "      <td>9.0</td>\n",
       "      <td>15.0</td>\n",
       "      <td>6.0</td>\n",
       "      <td>-2.821878</td>\n",
       "      <td>21.256295</td>\n",
       "    </tr>\n",
       "    <tr>\n",
       "      <th>26</th>\n",
       "      <td>4</td>\n",
       "      <td>1110</td>\n",
       "      <td>7</td>\n",
       "      <td>3301</td>\n",
       "      <td>15766</td>\n",
       "      <td>30531</td>\n",
       "      <td>6</td>\n",
       "      <td>-0.090909</td>\n",
       "      <td>9.0</td>\n",
       "      <td>15.0</td>\n",
       "      <td>6.0</td>\n",
       "      <td>-2.821878</td>\n",
       "      <td>21.256295</td>\n",
       "    </tr>\n",
       "    <tr>\n",
       "      <th>27</th>\n",
       "      <td>5</td>\n",
       "      <td>1110</td>\n",
       "      <td>7</td>\n",
       "      <td>3301</td>\n",
       "      <td>15766</td>\n",
       "      <td>30531</td>\n",
       "      <td>10</td>\n",
       "      <td>-0.090909</td>\n",
       "      <td>9.0</td>\n",
       "      <td>15.0</td>\n",
       "      <td>6.0</td>\n",
       "      <td>-2.821878</td>\n",
       "      <td>21.256295</td>\n",
       "    </tr>\n",
       "    <tr>\n",
       "      <th>28</th>\n",
       "      <td>6</td>\n",
       "      <td>1110</td>\n",
       "      <td>7</td>\n",
       "      <td>3301</td>\n",
       "      <td>15766</td>\n",
       "      <td>30531</td>\n",
       "      <td>12</td>\n",
       "      <td>-0.090909</td>\n",
       "      <td>9.0</td>\n",
       "      <td>15.0</td>\n",
       "      <td>6.0</td>\n",
       "      <td>-2.821878</td>\n",
       "      <td>21.256295</td>\n",
       "    </tr>\n",
       "    <tr>\n",
       "      <th>29</th>\n",
       "      <td>7</td>\n",
       "      <td>1110</td>\n",
       "      <td>7</td>\n",
       "      <td>3301</td>\n",
       "      <td>15766</td>\n",
       "      <td>30531</td>\n",
       "      <td>13</td>\n",
       "      <td>-0.090909</td>\n",
       "      <td>9.0</td>\n",
       "      <td>15.0</td>\n",
       "      <td>6.0</td>\n",
       "      <td>-2.821878</td>\n",
       "      <td>21.256295</td>\n",
       "    </tr>\n",
       "  </tbody>\n",
       "</table>\n",
       "</div>"
      ],
      "text/plain": [
       "    Semana  Agencia_ID  Canal_ID  Ruta_SAK  Cliente_ID  Producto_ID  \\\n",
       "25       3        1110         7      3301       15766        30531   \n",
       "26       4        1110         7      3301       15766        30531   \n",
       "27       5        1110         7      3301       15766        30531   \n",
       "28       6        1110         7      3301       15766        30531   \n",
       "29       7        1110         7      3301       15766        30531   \n",
       "\n",
       "    Demanda_uni_equil        mc    L     U  IQR        L_         U_  \n",
       "25                  8 -0.090909  9.0  15.0  6.0 -2.821878  21.256295  \n",
       "26                  6 -0.090909  9.0  15.0  6.0 -2.821878  21.256295  \n",
       "27                 10 -0.090909  9.0  15.0  6.0 -2.821878  21.256295  \n",
       "28                 12 -0.090909  9.0  15.0  6.0 -2.821878  21.256295  \n",
       "29                 13 -0.090909  9.0  15.0  6.0 -2.821878  21.256295  "
      ]
     },
     "execution_count": 21,
     "metadata": {},
     "output_type": "execute_result"
    }
   ],
   "source": [
    "train1['L_'] = train1['L'] - 1.5*train1['IQR']*np.exp(-3*train1['mc'])\n",
    "train1['U_'] = train1['U'] + 1.5*train1['IQR']*np.exp(4*train1['mc'])\n",
    "train1.head()"
   ]
  },
  {
   "cell_type": "code",
   "execution_count": 22,
   "metadata": {
    "collapsed": false
   },
   "outputs": [
    {
     "data": {
      "text/plain": [
       "5268757"
      ]
     },
     "execution_count": 22,
     "metadata": {},
     "output_type": "execute_result"
    }
   ],
   "source": [
    "train0 = train[train['mc']==0]\n",
    "len(train0)"
   ]
  },
  {
   "cell_type": "code",
   "execution_count": 23,
   "metadata": {
    "collapsed": false
   },
   "outputs": [
    {
     "name": "stderr",
     "output_type": "stream",
     "text": [
      "D:\\Anaconda2\\lib\\site-packages\\ipykernel\\__main__.py:1: SettingWithCopyWarning: \n",
      "A value is trying to be set on a copy of a slice from a DataFrame.\n",
      "Try using .loc[row_indexer,col_indexer] = value instead\n",
      "\n",
      "See the caveats in the documentation: http://pandas.pydata.org/pandas-docs/stable/indexing.html#indexing-view-versus-copy\n",
      "  if __name__ == '__main__':\n",
      "D:\\Anaconda2\\lib\\site-packages\\ipykernel\\__main__.py:2: SettingWithCopyWarning: \n",
      "A value is trying to be set on a copy of a slice from a DataFrame.\n",
      "Try using .loc[row_indexer,col_indexer] = value instead\n",
      "\n",
      "See the caveats in the documentation: http://pandas.pydata.org/pandas-docs/stable/indexing.html#indexing-view-versus-copy\n",
      "  from ipykernel import kernelapp as app\n"
     ]
    },
    {
     "data": {
      "text/html": [
       "<div>\n",
       "<table border=\"1\" class=\"dataframe\">\n",
       "  <thead>\n",
       "    <tr style=\"text-align: right;\">\n",
       "      <th></th>\n",
       "      <th>Semana</th>\n",
       "      <th>Agencia_ID</th>\n",
       "      <th>Canal_ID</th>\n",
       "      <th>Ruta_SAK</th>\n",
       "      <th>Cliente_ID</th>\n",
       "      <th>Producto_ID</th>\n",
       "      <th>Demanda_uni_equil</th>\n",
       "      <th>mc</th>\n",
       "      <th>L</th>\n",
       "      <th>U</th>\n",
       "      <th>IQR</th>\n",
       "      <th>L_</th>\n",
       "      <th>U_</th>\n",
       "    </tr>\n",
       "  </thead>\n",
       "  <tbody>\n",
       "    <tr>\n",
       "      <th>11</th>\n",
       "      <td>3</td>\n",
       "      <td>1110</td>\n",
       "      <td>7</td>\n",
       "      <td>3301</td>\n",
       "      <td>15766</td>\n",
       "      <td>1242</td>\n",
       "      <td>3</td>\n",
       "      <td>0.0</td>\n",
       "      <td>1.5</td>\n",
       "      <td>3.0</td>\n",
       "      <td>1.5</td>\n",
       "      <td>-0.75</td>\n",
       "      <td>5.25</td>\n",
       "    </tr>\n",
       "    <tr>\n",
       "      <th>12</th>\n",
       "      <td>4</td>\n",
       "      <td>1110</td>\n",
       "      <td>7</td>\n",
       "      <td>3301</td>\n",
       "      <td>15766</td>\n",
       "      <td>1242</td>\n",
       "      <td>3</td>\n",
       "      <td>0.0</td>\n",
       "      <td>1.5</td>\n",
       "      <td>3.0</td>\n",
       "      <td>1.5</td>\n",
       "      <td>-0.75</td>\n",
       "      <td>5.25</td>\n",
       "    </tr>\n",
       "    <tr>\n",
       "      <th>13</th>\n",
       "      <td>5</td>\n",
       "      <td>1110</td>\n",
       "      <td>7</td>\n",
       "      <td>3301</td>\n",
       "      <td>15766</td>\n",
       "      <td>1242</td>\n",
       "      <td>2</td>\n",
       "      <td>0.0</td>\n",
       "      <td>1.5</td>\n",
       "      <td>3.0</td>\n",
       "      <td>1.5</td>\n",
       "      <td>-0.75</td>\n",
       "      <td>5.25</td>\n",
       "    </tr>\n",
       "    <tr>\n",
       "      <th>14</th>\n",
       "      <td>6</td>\n",
       "      <td>1110</td>\n",
       "      <td>7</td>\n",
       "      <td>3301</td>\n",
       "      <td>15766</td>\n",
       "      <td>1242</td>\n",
       "      <td>3</td>\n",
       "      <td>0.0</td>\n",
       "      <td>1.5</td>\n",
       "      <td>3.0</td>\n",
       "      <td>1.5</td>\n",
       "      <td>-0.75</td>\n",
       "      <td>5.25</td>\n",
       "    </tr>\n",
       "    <tr>\n",
       "      <th>15</th>\n",
       "      <td>7</td>\n",
       "      <td>1110</td>\n",
       "      <td>7</td>\n",
       "      <td>3301</td>\n",
       "      <td>15766</td>\n",
       "      <td>1242</td>\n",
       "      <td>2</td>\n",
       "      <td>0.0</td>\n",
       "      <td>1.5</td>\n",
       "      <td>3.0</td>\n",
       "      <td>1.5</td>\n",
       "      <td>-0.75</td>\n",
       "      <td>5.25</td>\n",
       "    </tr>\n",
       "  </tbody>\n",
       "</table>\n",
       "</div>"
      ],
      "text/plain": [
       "    Semana  Agencia_ID  Canal_ID  Ruta_SAK  Cliente_ID  Producto_ID  \\\n",
       "11       3        1110         7      3301       15766         1242   \n",
       "12       4        1110         7      3301       15766         1242   \n",
       "13       5        1110         7      3301       15766         1242   \n",
       "14       6        1110         7      3301       15766         1242   \n",
       "15       7        1110         7      3301       15766         1242   \n",
       "\n",
       "    Demanda_uni_equil   mc    L    U  IQR    L_    U_  \n",
       "11                  3  0.0  1.5  3.0  1.5 -0.75  5.25  \n",
       "12                  3  0.0  1.5  3.0  1.5 -0.75  5.25  \n",
       "13                  2  0.0  1.5  3.0  1.5 -0.75  5.25  \n",
       "14                  3  0.0  1.5  3.0  1.5 -0.75  5.25  \n",
       "15                  2  0.0  1.5  3.0  1.5 -0.75  5.25  "
      ]
     },
     "execution_count": 23,
     "metadata": {},
     "output_type": "execute_result"
    }
   ],
   "source": [
    "train0['L_'] = train0['L'] - 1.5*train0['IQR']\n",
    "train0['U_'] = train0['U'] + 1.5*train0['IQR']\n",
    "train0.head()"
   ]
  },
  {
   "cell_type": "code",
   "execution_count": 24,
   "metadata": {
    "collapsed": false
   },
   "outputs": [
    {
     "data": {
      "text/plain": [
       "4142973"
      ]
     },
     "execution_count": 24,
     "metadata": {},
     "output_type": "execute_result"
    }
   ],
   "source": [
    "train2 = train[train['mc']>0]\n",
    "len(train2)"
   ]
  },
  {
   "cell_type": "code",
   "execution_count": 25,
   "metadata": {
    "collapsed": false
   },
   "outputs": [
    {
     "name": "stderr",
     "output_type": "stream",
     "text": [
      "D:\\Anaconda2\\lib\\site-packages\\ipykernel\\__main__.py:1: SettingWithCopyWarning: \n",
      "A value is trying to be set on a copy of a slice from a DataFrame.\n",
      "Try using .loc[row_indexer,col_indexer] = value instead\n",
      "\n",
      "See the caveats in the documentation: http://pandas.pydata.org/pandas-docs/stable/indexing.html#indexing-view-versus-copy\n",
      "  if __name__ == '__main__':\n",
      "D:\\Anaconda2\\lib\\site-packages\\ipykernel\\__main__.py:2: SettingWithCopyWarning: \n",
      "A value is trying to be set on a copy of a slice from a DataFrame.\n",
      "Try using .loc[row_indexer,col_indexer] = value instead\n",
      "\n",
      "See the caveats in the documentation: http://pandas.pydata.org/pandas-docs/stable/indexing.html#indexing-view-versus-copy\n",
      "  from ipykernel import kernelapp as app\n"
     ]
    },
    {
     "data": {
      "text/html": [
       "<div>\n",
       "<table border=\"1\" class=\"dataframe\">\n",
       "  <thead>\n",
       "    <tr style=\"text-align: right;\">\n",
       "      <th></th>\n",
       "      <th>Semana</th>\n",
       "      <th>Agencia_ID</th>\n",
       "      <th>Canal_ID</th>\n",
       "      <th>Ruta_SAK</th>\n",
       "      <th>Cliente_ID</th>\n",
       "      <th>Producto_ID</th>\n",
       "      <th>Demanda_uni_equil</th>\n",
       "      <th>mc</th>\n",
       "      <th>L</th>\n",
       "      <th>U</th>\n",
       "      <th>IQR</th>\n",
       "      <th>L_</th>\n",
       "      <th>U_</th>\n",
       "    </tr>\n",
       "  </thead>\n",
       "  <tbody>\n",
       "    <tr>\n",
       "      <th>0</th>\n",
       "      <td>3</td>\n",
       "      <td>1110</td>\n",
       "      <td>7</td>\n",
       "      <td>3301</td>\n",
       "      <td>15766</td>\n",
       "      <td>1216</td>\n",
       "      <td>4</td>\n",
       "      <td>0.25</td>\n",
       "      <td>2.0</td>\n",
       "      <td>3.75</td>\n",
       "      <td>1.75</td>\n",
       "      <td>1.034316</td>\n",
       "      <td>9.307125</td>\n",
       "    </tr>\n",
       "    <tr>\n",
       "      <th>1</th>\n",
       "      <td>4</td>\n",
       "      <td>1110</td>\n",
       "      <td>7</td>\n",
       "      <td>3301</td>\n",
       "      <td>15766</td>\n",
       "      <td>1216</td>\n",
       "      <td>2</td>\n",
       "      <td>0.25</td>\n",
       "      <td>2.0</td>\n",
       "      <td>3.75</td>\n",
       "      <td>1.75</td>\n",
       "      <td>1.034316</td>\n",
       "      <td>9.307125</td>\n",
       "    </tr>\n",
       "    <tr>\n",
       "      <th>2</th>\n",
       "      <td>5</td>\n",
       "      <td>1110</td>\n",
       "      <td>7</td>\n",
       "      <td>3301</td>\n",
       "      <td>15766</td>\n",
       "      <td>1216</td>\n",
       "      <td>3</td>\n",
       "      <td>0.25</td>\n",
       "      <td>2.0</td>\n",
       "      <td>3.75</td>\n",
       "      <td>1.75</td>\n",
       "      <td>1.034316</td>\n",
       "      <td>9.307125</td>\n",
       "    </tr>\n",
       "    <tr>\n",
       "      <th>3</th>\n",
       "      <td>6</td>\n",
       "      <td>1110</td>\n",
       "      <td>7</td>\n",
       "      <td>3301</td>\n",
       "      <td>15766</td>\n",
       "      <td>1216</td>\n",
       "      <td>1</td>\n",
       "      <td>0.25</td>\n",
       "      <td>2.0</td>\n",
       "      <td>3.75</td>\n",
       "      <td>1.75</td>\n",
       "      <td>1.034316</td>\n",
       "      <td>9.307125</td>\n",
       "    </tr>\n",
       "    <tr>\n",
       "      <th>4</th>\n",
       "      <td>7</td>\n",
       "      <td>1110</td>\n",
       "      <td>7</td>\n",
       "      <td>3301</td>\n",
       "      <td>15766</td>\n",
       "      <td>1216</td>\n",
       "      <td>2</td>\n",
       "      <td>0.25</td>\n",
       "      <td>2.0</td>\n",
       "      <td>3.75</td>\n",
       "      <td>1.75</td>\n",
       "      <td>1.034316</td>\n",
       "      <td>9.307125</td>\n",
       "    </tr>\n",
       "  </tbody>\n",
       "</table>\n",
       "</div>"
      ],
      "text/plain": [
       "   Semana  Agencia_ID  Canal_ID  Ruta_SAK  Cliente_ID  Producto_ID  \\\n",
       "0       3        1110         7      3301       15766         1216   \n",
       "1       4        1110         7      3301       15766         1216   \n",
       "2       5        1110         7      3301       15766         1216   \n",
       "3       6        1110         7      3301       15766         1216   \n",
       "4       7        1110         7      3301       15766         1216   \n",
       "\n",
       "   Demanda_uni_equil    mc    L     U   IQR        L_        U_  \n",
       "0                  4  0.25  2.0  3.75  1.75  1.034316  9.307125  \n",
       "1                  2  0.25  2.0  3.75  1.75  1.034316  9.307125  \n",
       "2                  3  0.25  2.0  3.75  1.75  1.034316  9.307125  \n",
       "3                  1  0.25  2.0  3.75  1.75  1.034316  9.307125  \n",
       "4                  2  0.25  2.0  3.75  1.75  1.034316  9.307125  "
      ]
     },
     "execution_count": 25,
     "metadata": {},
     "output_type": "execute_result"
    }
   ],
   "source": [
    "train2['L_'] = train2['L'] - 1.5*train2['IQR']*np.exp(-4*train2['mc'])\n",
    "train2['U_'] = train2['U'] + 1.5*train2['IQR']*np.exp(3*train2['mc'])\n",
    "train2.head()"
   ]
  },
  {
   "cell_type": "code",
   "execution_count": 26,
   "metadata": {
    "collapsed": false
   },
   "outputs": [
    {
     "data": {
      "text/plain": [
       "13173358"
      ]
     },
     "execution_count": 26,
     "metadata": {},
     "output_type": "execute_result"
    }
   ],
   "source": [
    "len(train0)+len(train1)+len(train2)"
   ]
  },
  {
   "cell_type": "code",
   "execution_count": 27,
   "metadata": {
    "collapsed": false
   },
   "outputs": [
    {
     "data": {
      "text/plain": [
       "13173358"
      ]
     },
     "execution_count": 27,
     "metadata": {},
     "output_type": "execute_result"
    }
   ],
   "source": [
    "train = pd.concat([train1, train0, train2])\n",
    "len(train)"
   ]
  },
  {
   "cell_type": "code",
   "execution_count": 28,
   "metadata": {
    "collapsed": false
   },
   "outputs": [
    {
     "data": {
      "text/html": [
       "<div>\n",
       "<table border=\"1\" class=\"dataframe\">\n",
       "  <thead>\n",
       "    <tr style=\"text-align: right;\">\n",
       "      <th></th>\n",
       "      <th>Semana</th>\n",
       "      <th>Agencia_ID</th>\n",
       "      <th>Canal_ID</th>\n",
       "      <th>Ruta_SAK</th>\n",
       "      <th>Cliente_ID</th>\n",
       "      <th>Producto_ID</th>\n",
       "      <th>Demanda_uni_equil</th>\n",
       "      <th>mc</th>\n",
       "      <th>L</th>\n",
       "      <th>U</th>\n",
       "      <th>IQR</th>\n",
       "      <th>L_</th>\n",
       "      <th>U_</th>\n",
       "    </tr>\n",
       "  </thead>\n",
       "  <tbody>\n",
       "    <tr>\n",
       "      <th>25</th>\n",
       "      <td>3</td>\n",
       "      <td>1110</td>\n",
       "      <td>7</td>\n",
       "      <td>3301</td>\n",
       "      <td>15766</td>\n",
       "      <td>30531</td>\n",
       "      <td>8</td>\n",
       "      <td>-0.090909</td>\n",
       "      <td>9.0</td>\n",
       "      <td>15.0</td>\n",
       "      <td>6.0</td>\n",
       "      <td>-2.821878</td>\n",
       "      <td>21.256295</td>\n",
       "    </tr>\n",
       "    <tr>\n",
       "      <th>26</th>\n",
       "      <td>4</td>\n",
       "      <td>1110</td>\n",
       "      <td>7</td>\n",
       "      <td>3301</td>\n",
       "      <td>15766</td>\n",
       "      <td>30531</td>\n",
       "      <td>6</td>\n",
       "      <td>-0.090909</td>\n",
       "      <td>9.0</td>\n",
       "      <td>15.0</td>\n",
       "      <td>6.0</td>\n",
       "      <td>-2.821878</td>\n",
       "      <td>21.256295</td>\n",
       "    </tr>\n",
       "    <tr>\n",
       "      <th>27</th>\n",
       "      <td>5</td>\n",
       "      <td>1110</td>\n",
       "      <td>7</td>\n",
       "      <td>3301</td>\n",
       "      <td>15766</td>\n",
       "      <td>30531</td>\n",
       "      <td>10</td>\n",
       "      <td>-0.090909</td>\n",
       "      <td>9.0</td>\n",
       "      <td>15.0</td>\n",
       "      <td>6.0</td>\n",
       "      <td>-2.821878</td>\n",
       "      <td>21.256295</td>\n",
       "    </tr>\n",
       "    <tr>\n",
       "      <th>28</th>\n",
       "      <td>6</td>\n",
       "      <td>1110</td>\n",
       "      <td>7</td>\n",
       "      <td>3301</td>\n",
       "      <td>15766</td>\n",
       "      <td>30531</td>\n",
       "      <td>12</td>\n",
       "      <td>-0.090909</td>\n",
       "      <td>9.0</td>\n",
       "      <td>15.0</td>\n",
       "      <td>6.0</td>\n",
       "      <td>-2.821878</td>\n",
       "      <td>21.256295</td>\n",
       "    </tr>\n",
       "    <tr>\n",
       "      <th>29</th>\n",
       "      <td>7</td>\n",
       "      <td>1110</td>\n",
       "      <td>7</td>\n",
       "      <td>3301</td>\n",
       "      <td>15766</td>\n",
       "      <td>30531</td>\n",
       "      <td>13</td>\n",
       "      <td>-0.090909</td>\n",
       "      <td>9.0</td>\n",
       "      <td>15.0</td>\n",
       "      <td>6.0</td>\n",
       "      <td>-2.821878</td>\n",
       "      <td>21.256295</td>\n",
       "    </tr>\n",
       "  </tbody>\n",
       "</table>\n",
       "</div>"
      ],
      "text/plain": [
       "    Semana  Agencia_ID  Canal_ID  Ruta_SAK  Cliente_ID  Producto_ID  \\\n",
       "25       3        1110         7      3301       15766        30531   \n",
       "26       4        1110         7      3301       15766        30531   \n",
       "27       5        1110         7      3301       15766        30531   \n",
       "28       6        1110         7      3301       15766        30531   \n",
       "29       7        1110         7      3301       15766        30531   \n",
       "\n",
       "    Demanda_uni_equil        mc    L     U  IQR        L_         U_  \n",
       "25                  8 -0.090909  9.0  15.0  6.0 -2.821878  21.256295  \n",
       "26                  6 -0.090909  9.0  15.0  6.0 -2.821878  21.256295  \n",
       "27                 10 -0.090909  9.0  15.0  6.0 -2.821878  21.256295  \n",
       "28                 12 -0.090909  9.0  15.0  6.0 -2.821878  21.256295  \n",
       "29                 13 -0.090909  9.0  15.0  6.0 -2.821878  21.256295  "
      ]
     },
     "execution_count": 28,
     "metadata": {},
     "output_type": "execute_result"
    }
   ],
   "source": [
    "train.head()"
   ]
  },
  {
   "cell_type": "code",
   "execution_count": 29,
   "metadata": {
    "collapsed": false
   },
   "outputs": [
    {
     "data": {
      "text/plain": [
       "count    1.317336e+07\n",
       "mean     1.166254e+01\n",
       "std      3.204340e+01\n",
       "min      0.000000e+00\n",
       "25%      2.000000e+00\n",
       "50%      5.000000e+00\n",
       "75%      1.000000e+01\n",
       "max      4.872000e+03\n",
       "Name: Demanda_uni_equil, dtype: float64"
      ]
     },
     "execution_count": 29,
     "metadata": {},
     "output_type": "execute_result"
    }
   ],
   "source": [
    "train[target].describe()"
   ]
  },
  {
   "cell_type": "code",
   "execution_count": 30,
   "metadata": {
    "collapsed": false
   },
   "outputs": [
    {
     "data": {
      "text/html": [
       "<div>\n",
       "<table border=\"1\" class=\"dataframe\">\n",
       "  <thead>\n",
       "    <tr style=\"text-align: right;\">\n",
       "      <th></th>\n",
       "      <th>Semana</th>\n",
       "      <th>Agencia_ID</th>\n",
       "      <th>Canal_ID</th>\n",
       "      <th>Ruta_SAK</th>\n",
       "      <th>Cliente_ID</th>\n",
       "      <th>Producto_ID</th>\n",
       "      <th>Demanda_uni_equil</th>\n",
       "      <th>mc</th>\n",
       "      <th>L</th>\n",
       "      <th>U</th>\n",
       "      <th>IQR</th>\n",
       "      <th>L_</th>\n",
       "      <th>U_</th>\n",
       "    </tr>\n",
       "  </thead>\n",
       "  <tbody>\n",
       "    <tr>\n",
       "      <th>25</th>\n",
       "      <td>3</td>\n",
       "      <td>1110</td>\n",
       "      <td>7</td>\n",
       "      <td>3301</td>\n",
       "      <td>15766</td>\n",
       "      <td>30531</td>\n",
       "      <td>8</td>\n",
       "      <td>-0.090909</td>\n",
       "      <td>9.0</td>\n",
       "      <td>15.0</td>\n",
       "      <td>6.0</td>\n",
       "      <td>-2.821878</td>\n",
       "      <td>21.256295</td>\n",
       "    </tr>\n",
       "    <tr>\n",
       "      <th>26</th>\n",
       "      <td>4</td>\n",
       "      <td>1110</td>\n",
       "      <td>7</td>\n",
       "      <td>3301</td>\n",
       "      <td>15766</td>\n",
       "      <td>30531</td>\n",
       "      <td>6</td>\n",
       "      <td>-0.090909</td>\n",
       "      <td>9.0</td>\n",
       "      <td>15.0</td>\n",
       "      <td>6.0</td>\n",
       "      <td>-2.821878</td>\n",
       "      <td>21.256295</td>\n",
       "    </tr>\n",
       "    <tr>\n",
       "      <th>27</th>\n",
       "      <td>5</td>\n",
       "      <td>1110</td>\n",
       "      <td>7</td>\n",
       "      <td>3301</td>\n",
       "      <td>15766</td>\n",
       "      <td>30531</td>\n",
       "      <td>10</td>\n",
       "      <td>-0.090909</td>\n",
       "      <td>9.0</td>\n",
       "      <td>15.0</td>\n",
       "      <td>6.0</td>\n",
       "      <td>-2.821878</td>\n",
       "      <td>21.256295</td>\n",
       "    </tr>\n",
       "    <tr>\n",
       "      <th>28</th>\n",
       "      <td>6</td>\n",
       "      <td>1110</td>\n",
       "      <td>7</td>\n",
       "      <td>3301</td>\n",
       "      <td>15766</td>\n",
       "      <td>30531</td>\n",
       "      <td>12</td>\n",
       "      <td>-0.090909</td>\n",
       "      <td>9.0</td>\n",
       "      <td>15.0</td>\n",
       "      <td>6.0</td>\n",
       "      <td>-2.821878</td>\n",
       "      <td>21.256295</td>\n",
       "    </tr>\n",
       "    <tr>\n",
       "      <th>29</th>\n",
       "      <td>7</td>\n",
       "      <td>1110</td>\n",
       "      <td>7</td>\n",
       "      <td>3301</td>\n",
       "      <td>15766</td>\n",
       "      <td>30531</td>\n",
       "      <td>13</td>\n",
       "      <td>-0.090909</td>\n",
       "      <td>9.0</td>\n",
       "      <td>15.0</td>\n",
       "      <td>6.0</td>\n",
       "      <td>-2.821878</td>\n",
       "      <td>21.256295</td>\n",
       "    </tr>\n",
       "  </tbody>\n",
       "</table>\n",
       "</div>"
      ],
      "text/plain": [
       "    Semana  Agencia_ID  Canal_ID  Ruta_SAK  Cliente_ID  Producto_ID  \\\n",
       "25       3        1110         7      3301       15766        30531   \n",
       "26       4        1110         7      3301       15766        30531   \n",
       "27       5        1110         7      3301       15766        30531   \n",
       "28       6        1110         7      3301       15766        30531   \n",
       "29       7        1110         7      3301       15766        30531   \n",
       "\n",
       "    Demanda_uni_equil        mc    L     U  IQR        L_         U_  \n",
       "25                  8 -0.090909  9.0  15.0  6.0 -2.821878  21.256295  \n",
       "26                  6 -0.090909  9.0  15.0  6.0 -2.821878  21.256295  \n",
       "27                 10 -0.090909  9.0  15.0  6.0 -2.821878  21.256295  \n",
       "28                 12 -0.090909  9.0  15.0  6.0 -2.821878  21.256295  \n",
       "29                 13 -0.090909  9.0  15.0  6.0 -2.821878  21.256295  "
      ]
     },
     "execution_count": 30,
     "metadata": {},
     "output_type": "execute_result"
    }
   ],
   "source": [
    "train = train[(train[target]>=train['L_'])&(train[target]<=train['U_'])]\n",
    "train.head()"
   ]
  },
  {
   "cell_type": "code",
   "execution_count": 31,
   "metadata": {
    "collapsed": false
   },
   "outputs": [
    {
     "data": {
      "text/plain": [
       "count    1.214666e+07\n",
       "mean     1.146447e+01\n",
       "std      3.130647e+01\n",
       "min      0.000000e+00\n",
       "25%      2.000000e+00\n",
       "50%      5.000000e+00\n",
       "75%      1.000000e+01\n",
       "max      4.568000e+03\n",
       "Name: Demanda_uni_equil, dtype: float64"
      ]
     },
     "execution_count": 31,
     "metadata": {},
     "output_type": "execute_result"
    }
   ],
   "source": [
    "train[target].describe()"
   ]
  },
  {
   "cell_type": "code",
   "execution_count": 32,
   "metadata": {
    "collapsed": false
   },
   "outputs": [
    {
     "data": {
      "text/html": [
       "<div>\n",
       "<table border=\"1\" class=\"dataframe\">\n",
       "  <thead>\n",
       "    <tr style=\"text-align: right;\">\n",
       "      <th></th>\n",
       "      <th>Semana</th>\n",
       "      <th>Agencia_ID</th>\n",
       "      <th>Canal_ID</th>\n",
       "      <th>Ruta_SAK</th>\n",
       "      <th>Cliente_ID</th>\n",
       "      <th>Producto_ID</th>\n",
       "      <th>Demanda_uni_equil</th>\n",
       "    </tr>\n",
       "  </thead>\n",
       "  <tbody>\n",
       "    <tr>\n",
       "      <th>25</th>\n",
       "      <td>3</td>\n",
       "      <td>1110</td>\n",
       "      <td>7</td>\n",
       "      <td>3301</td>\n",
       "      <td>15766</td>\n",
       "      <td>30531</td>\n",
       "      <td>8</td>\n",
       "    </tr>\n",
       "    <tr>\n",
       "      <th>26</th>\n",
       "      <td>4</td>\n",
       "      <td>1110</td>\n",
       "      <td>7</td>\n",
       "      <td>3301</td>\n",
       "      <td>15766</td>\n",
       "      <td>30531</td>\n",
       "      <td>6</td>\n",
       "    </tr>\n",
       "    <tr>\n",
       "      <th>27</th>\n",
       "      <td>5</td>\n",
       "      <td>1110</td>\n",
       "      <td>7</td>\n",
       "      <td>3301</td>\n",
       "      <td>15766</td>\n",
       "      <td>30531</td>\n",
       "      <td>10</td>\n",
       "    </tr>\n",
       "    <tr>\n",
       "      <th>28</th>\n",
       "      <td>6</td>\n",
       "      <td>1110</td>\n",
       "      <td>7</td>\n",
       "      <td>3301</td>\n",
       "      <td>15766</td>\n",
       "      <td>30531</td>\n",
       "      <td>12</td>\n",
       "    </tr>\n",
       "    <tr>\n",
       "      <th>29</th>\n",
       "      <td>7</td>\n",
       "      <td>1110</td>\n",
       "      <td>7</td>\n",
       "      <td>3301</td>\n",
       "      <td>15766</td>\n",
       "      <td>30531</td>\n",
       "      <td>13</td>\n",
       "    </tr>\n",
       "  </tbody>\n",
       "</table>\n",
       "</div>"
      ],
      "text/plain": [
       "    Semana  Agencia_ID  Canal_ID  Ruta_SAK  Cliente_ID  Producto_ID  \\\n",
       "25       3        1110         7      3301       15766        30531   \n",
       "26       4        1110         7      3301       15766        30531   \n",
       "27       5        1110         7      3301       15766        30531   \n",
       "28       6        1110         7      3301       15766        30531   \n",
       "29       7        1110         7      3301       15766        30531   \n",
       "\n",
       "    Demanda_uni_equil  \n",
       "25                  8  \n",
       "26                  6  \n",
       "27                 10  \n",
       "28                 12  \n",
       "29                 13  "
      ]
     },
     "execution_count": 32,
     "metadata": {},
     "output_type": "execute_result"
    }
   ],
   "source": [
    "train.drop(['mc', 'L', 'L_', 'U', 'U_', 'IQR'], axis=1, inplace=True)\n",
    "train.head()"
   ]
  },
  {
   "cell_type": "code",
   "execution_count": 33,
   "metadata": {
    "collapsed": true
   },
   "outputs": [],
   "source": [
    "train.to_csv('input/train_test_5_7_o.csv', index = False) "
   ]
  },
  {
   "cell_type": "markdown",
   "metadata": {},
   "source": [
    "## Merge size=4 and size>4 on removing outliers"
   ]
  },
  {
   "cell_type": "code",
   "execution_count": 3,
   "metadata": {
    "collapsed": false
   },
   "outputs": [
    {
     "data": {
      "text/html": [
       "<div>\n",
       "<table border=\"1\" class=\"dataframe\">\n",
       "  <thead>\n",
       "    <tr style=\"text-align: right;\">\n",
       "      <th></th>\n",
       "      <th>Semana</th>\n",
       "      <th>Agencia_ID</th>\n",
       "      <th>Canal_ID</th>\n",
       "      <th>Ruta_SAK</th>\n",
       "      <th>Cliente_ID</th>\n",
       "      <th>Producto_ID</th>\n",
       "      <th>Demanda_uni_equil</th>\n",
       "    </tr>\n",
       "  </thead>\n",
       "  <tbody>\n",
       "    <tr>\n",
       "      <th>0</th>\n",
       "      <td>3</td>\n",
       "      <td>1110</td>\n",
       "      <td>7</td>\n",
       "      <td>3301</td>\n",
       "      <td>15766</td>\n",
       "      <td>30531</td>\n",
       "      <td>8</td>\n",
       "    </tr>\n",
       "    <tr>\n",
       "      <th>1</th>\n",
       "      <td>4</td>\n",
       "      <td>1110</td>\n",
       "      <td>7</td>\n",
       "      <td>3301</td>\n",
       "      <td>15766</td>\n",
       "      <td>30531</td>\n",
       "      <td>6</td>\n",
       "    </tr>\n",
       "    <tr>\n",
       "      <th>2</th>\n",
       "      <td>5</td>\n",
       "      <td>1110</td>\n",
       "      <td>7</td>\n",
       "      <td>3301</td>\n",
       "      <td>15766</td>\n",
       "      <td>30531</td>\n",
       "      <td>10</td>\n",
       "    </tr>\n",
       "    <tr>\n",
       "      <th>3</th>\n",
       "      <td>6</td>\n",
       "      <td>1110</td>\n",
       "      <td>7</td>\n",
       "      <td>3301</td>\n",
       "      <td>15766</td>\n",
       "      <td>30531</td>\n",
       "      <td>12</td>\n",
       "    </tr>\n",
       "    <tr>\n",
       "      <th>4</th>\n",
       "      <td>7</td>\n",
       "      <td>1110</td>\n",
       "      <td>7</td>\n",
       "      <td>3301</td>\n",
       "      <td>15766</td>\n",
       "      <td>30531</td>\n",
       "      <td>13</td>\n",
       "    </tr>\n",
       "  </tbody>\n",
       "</table>\n",
       "</div>"
      ],
      "text/plain": [
       "   Semana  Agencia_ID  Canal_ID  Ruta_SAK  Cliente_ID  Producto_ID  \\\n",
       "0       3        1110         7      3301       15766        30531   \n",
       "1       4        1110         7      3301       15766        30531   \n",
       "2       5        1110         7      3301       15766        30531   \n",
       "3       6        1110         7      3301       15766        30531   \n",
       "4       7        1110         7      3301       15766        30531   \n",
       "\n",
       "   Demanda_uni_equil  \n",
       "0                  8  \n",
       "1                  6  \n",
       "2                 10  \n",
       "3                 12  \n",
       "4                 13  "
      ]
     },
     "execution_count": 3,
     "metadata": {},
     "output_type": "execute_result"
    }
   ],
   "source": [
    "train = pd.read_csv('input/train_test_5_7_o.csv', dtype = dtype_dict, usecols = train_cols_Semana) \n",
    "train.head()"
   ]
  },
  {
   "cell_type": "code",
   "execution_count": 34,
   "metadata": {
    "collapsed": false
   },
   "outputs": [
    {
     "data": {
      "text/plain": [
       "13915957"
      ]
     },
     "execution_count": 34,
     "metadata": {},
     "output_type": "execute_result"
    }
   ],
   "source": [
    "train = train.append(pd.read_csv('input/train_test_4_o.csv', dtype = dtype_dict, usecols = train_cols_Semana) , ignore_index=True)\n",
    "len(train)"
   ]
  },
  {
   "cell_type": "code",
   "execution_count": 35,
   "metadata": {
    "collapsed": true
   },
   "outputs": [],
   "source": [
    "train.to_csv('input/train_test_4_7_o.csv', index = False)   #may contain size<4 on outliers removal"
   ]
  },
  {
   "cell_type": "markdown",
   "metadata": {},
   "source": [
    "## Merge size = 2, size = 3 and size > 3 into ML input"
   ]
  },
  {
   "cell_type": "code",
   "execution_count": 3,
   "metadata": {
    "collapsed": false
   },
   "outputs": [
    {
     "data": {
      "text/plain": [
       "13915957"
      ]
     },
     "execution_count": 3,
     "metadata": {},
     "output_type": "execute_result"
    }
   ],
   "source": [
    "train = pd.read_csv('input/train_test_4_7_o.csv', dtype = dtype_dict, usecols = train_cols_Semana)\n",
    "len(train)"
   ]
  },
  {
   "cell_type": "code",
   "execution_count": 36,
   "metadata": {
    "collapsed": false
   },
   "outputs": [
    {
     "data": {
      "text/plain": [
       "15359025"
      ]
     },
     "execution_count": 36,
     "metadata": {},
     "output_type": "execute_result"
    }
   ],
   "source": [
    "train = train.append(pd.read_csv('input/train_test_2.csv', dtype = dtype_dict, usecols = train_cols_Semana) , ignore_index=True)\n",
    "len(train)"
   ]
  },
  {
   "cell_type": "code",
   "execution_count": 37,
   "metadata": {
    "collapsed": false
   },
   "outputs": [
    {
     "data": {
      "text/plain": [
       "17496765"
      ]
     },
     "execution_count": 37,
     "metadata": {},
     "output_type": "execute_result"
    }
   ],
   "source": [
    "train = train.append(pd.read_csv('input/train_test_3.csv', dtype = dtype_dict, usecols = train_cols_Semana) , ignore_index=True)\n",
    "len(train)"
   ]
  },
  {
   "cell_type": "code",
   "execution_count": 39,
   "metadata": {
    "collapsed": false
   },
   "outputs": [
    {
     "data": {
      "text/html": [
       "<div>\n",
       "<table border=\"1\" class=\"dataframe\">\n",
       "  <thead>\n",
       "    <tr style=\"text-align: right;\">\n",
       "      <th></th>\n",
       "      <th>Cliente_ID</th>\n",
       "      <th>Producto_ID</th>\n",
       "      <th>Canal_ID</th>\n",
       "      <th>Ruta_SAK</th>\n",
       "      <th>Agencia_ID</th>\n",
       "      <th>size</th>\n",
       "      <th>gid</th>\n",
       "    </tr>\n",
       "  </thead>\n",
       "  <tbody>\n",
       "    <tr>\n",
       "      <th>0</th>\n",
       "      <td>26</td>\n",
       "      <td>34206</td>\n",
       "      <td>2</td>\n",
       "      <td>7212</td>\n",
       "      <td>2061</td>\n",
       "      <td>7</td>\n",
       "      <td>1</td>\n",
       "    </tr>\n",
       "    <tr>\n",
       "      <th>1</th>\n",
       "      <td>26</td>\n",
       "      <td>34210</td>\n",
       "      <td>2</td>\n",
       "      <td>7212</td>\n",
       "      <td>2061</td>\n",
       "      <td>6</td>\n",
       "      <td>2</td>\n",
       "    </tr>\n",
       "    <tr>\n",
       "      <th>2</th>\n",
       "      <td>26</td>\n",
       "      <td>34785</td>\n",
       "      <td>2</td>\n",
       "      <td>7212</td>\n",
       "      <td>2061</td>\n",
       "      <td>5</td>\n",
       "      <td>3</td>\n",
       "    </tr>\n",
       "    <tr>\n",
       "      <th>3</th>\n",
       "      <td>26</td>\n",
       "      <td>34786</td>\n",
       "      <td>2</td>\n",
       "      <td>7212</td>\n",
       "      <td>2061</td>\n",
       "      <td>6</td>\n",
       "      <td>4</td>\n",
       "    </tr>\n",
       "    <tr>\n",
       "      <th>4</th>\n",
       "      <td>26</td>\n",
       "      <td>35142</td>\n",
       "      <td>2</td>\n",
       "      <td>7212</td>\n",
       "      <td>2061</td>\n",
       "      <td>6</td>\n",
       "      <td>5</td>\n",
       "    </tr>\n",
       "  </tbody>\n",
       "</table>\n",
       "</div>"
      ],
      "text/plain": [
       "   Cliente_ID  Producto_ID  Canal_ID  Ruta_SAK  Agencia_ID  size  gid\n",
       "0          26        34206         2      7212        2061     7    1\n",
       "1          26        34210         2      7212        2061     6    2\n",
       "2          26        34785         2      7212        2061     5    3\n",
       "3          26        34786         2      7212        2061     6    4\n",
       "4          26        35142         2      7212        2061     6    5"
      ]
     },
     "execution_count": 39,
     "metadata": {},
     "output_type": "execute_result"
    }
   ],
   "source": [
    "groupby = get_cols('12345')\n",
    "df = pd.DataFrame({ 'size' : train.groupby(by = groupby)[target].size()}).reset_index() \n",
    "df['gid'] = np.linspace(start = 1, stop = len(df), num = len(df), dtype = int)\n",
    "df.head()"
   ]
  },
  {
   "cell_type": "code",
   "execution_count": 40,
   "metadata": {
    "collapsed": false
   },
   "outputs": [
    {
     "data": {
      "text/plain": [
       "(4046239, 4046239)"
      ]
     },
     "execution_count": 40,
     "metadata": {},
     "output_type": "execute_result"
    }
   ],
   "source": [
    "len(df), max(df['gid'])"
   ]
  },
  {
   "cell_type": "code",
   "execution_count": 41,
   "metadata": {
    "collapsed": true
   },
   "outputs": [],
   "source": [
    "df.to_csv('input/train_test_2_7_gid.csv', index = False)  "
   ]
  },
  {
   "cell_type": "code",
   "execution_count": 42,
   "metadata": {
    "collapsed": false
   },
   "outputs": [
    {
     "data": {
      "text/html": [
       "<div>\n",
       "<table border=\"1\" class=\"dataframe\">\n",
       "  <thead>\n",
       "    <tr style=\"text-align: right;\">\n",
       "      <th></th>\n",
       "      <th>Semana</th>\n",
       "      <th>Agencia_ID</th>\n",
       "      <th>Canal_ID</th>\n",
       "      <th>Ruta_SAK</th>\n",
       "      <th>Cliente_ID</th>\n",
       "      <th>Producto_ID</th>\n",
       "      <th>Demanda_uni_equil</th>\n",
       "      <th>size</th>\n",
       "      <th>gid</th>\n",
       "    </tr>\n",
       "  </thead>\n",
       "  <tbody>\n",
       "    <tr>\n",
       "      <th>0</th>\n",
       "      <td>3</td>\n",
       "      <td>1110</td>\n",
       "      <td>7</td>\n",
       "      <td>3301</td>\n",
       "      <td>15766</td>\n",
       "      <td>30531</td>\n",
       "      <td>8</td>\n",
       "      <td>7</td>\n",
       "      <td>36922</td>\n",
       "    </tr>\n",
       "    <tr>\n",
       "      <th>1</th>\n",
       "      <td>4</td>\n",
       "      <td>1110</td>\n",
       "      <td>7</td>\n",
       "      <td>3301</td>\n",
       "      <td>15766</td>\n",
       "      <td>30531</td>\n",
       "      <td>6</td>\n",
       "      <td>7</td>\n",
       "      <td>36922</td>\n",
       "    </tr>\n",
       "    <tr>\n",
       "      <th>2</th>\n",
       "      <td>5</td>\n",
       "      <td>1110</td>\n",
       "      <td>7</td>\n",
       "      <td>3301</td>\n",
       "      <td>15766</td>\n",
       "      <td>30531</td>\n",
       "      <td>10</td>\n",
       "      <td>7</td>\n",
       "      <td>36922</td>\n",
       "    </tr>\n",
       "    <tr>\n",
       "      <th>3</th>\n",
       "      <td>6</td>\n",
       "      <td>1110</td>\n",
       "      <td>7</td>\n",
       "      <td>3301</td>\n",
       "      <td>15766</td>\n",
       "      <td>30531</td>\n",
       "      <td>12</td>\n",
       "      <td>7</td>\n",
       "      <td>36922</td>\n",
       "    </tr>\n",
       "    <tr>\n",
       "      <th>4</th>\n",
       "      <td>7</td>\n",
       "      <td>1110</td>\n",
       "      <td>7</td>\n",
       "      <td>3301</td>\n",
       "      <td>15766</td>\n",
       "      <td>30531</td>\n",
       "      <td>13</td>\n",
       "      <td>7</td>\n",
       "      <td>36922</td>\n",
       "    </tr>\n",
       "  </tbody>\n",
       "</table>\n",
       "</div>"
      ],
      "text/plain": [
       "   Semana  Agencia_ID  Canal_ID  Ruta_SAK  Cliente_ID  Producto_ID  \\\n",
       "0       3        1110         7      3301       15766        30531   \n",
       "1       4        1110         7      3301       15766        30531   \n",
       "2       5        1110         7      3301       15766        30531   \n",
       "3       6        1110         7      3301       15766        30531   \n",
       "4       7        1110         7      3301       15766        30531   \n",
       "\n",
       "   Demanda_uni_equil  size    gid  \n",
       "0                  8     7  36922  \n",
       "1                  6     7  36922  \n",
       "2                 10     7  36922  \n",
       "3                 12     7  36922  \n",
       "4                 13     7  36922  "
      ]
     },
     "execution_count": 42,
     "metadata": {},
     "output_type": "execute_result"
    }
   ],
   "source": [
    "train = pd.merge(train, df, how='inner', on = groupby)\n",
    "train.head()"
   ]
  },
  {
   "cell_type": "code",
   "execution_count": 43,
   "metadata": {
    "collapsed": false
   },
   "outputs": [
    {
     "data": {
      "text/plain": [
       "17496765"
      ]
     },
     "execution_count": 43,
     "metadata": {},
     "output_type": "execute_result"
    }
   ],
   "source": [
    "len(train)"
   ]
  },
  {
   "cell_type": "code",
   "execution_count": 44,
   "metadata": {
    "collapsed": true
   },
   "outputs": [],
   "source": [
    "train.to_csv('input/train_test_2_7_o.csv', index = False)   "
   ]
  },
  {
   "cell_type": "markdown",
   "metadata": {},
   "source": [
    "## Apply ML to get w0, w1 for size > 1"
   ]
  },
  {
   "cell_type": "code",
   "execution_count": 3,
   "metadata": {
    "collapsed": false
   },
   "outputs": [
    {
     "data": {
      "text/plain": [
       "17496765"
      ]
     },
     "execution_count": 3,
     "metadata": {},
     "output_type": "execute_result"
    }
   ],
   "source": [
    "train = pd.read_csv('input/train_test_2_7_o.csv', dtype = int, usecols = ['Semana', target, 'gid'])\n",
    "len(train)"
   ]
  },
  {
   "cell_type": "code",
   "execution_count": 111,
   "metadata": {
    "collapsed": false
   },
   "outputs": [],
   "source": [
    "data = train #[train['gid']<1e4]"
   ]
  },
  {
   "cell_type": "code",
   "execution_count": 112,
   "metadata": {
    "collapsed": false
   },
   "outputs": [
    {
     "data": {
      "text/html": [
       "<div>\n",
       "<table border=\"1\" class=\"dataframe\">\n",
       "  <thead>\n",
       "    <tr style=\"text-align: right;\">\n",
       "      <th></th>\n",
       "      <th>gid</th>\n",
       "      <th>w0</th>\n",
       "      <th>w1</th>\n",
       "    </tr>\n",
       "  </thead>\n",
       "  <tbody>\n",
       "    <tr>\n",
       "      <th>0</th>\n",
       "      <td>1</td>\n",
       "      <td>79.642857</td>\n",
       "      <td>1.107143e+00</td>\n",
       "    </tr>\n",
       "    <tr>\n",
       "      <th>1</th>\n",
       "      <td>2</td>\n",
       "      <td>20.105590</td>\n",
       "      <td>2.118012e+00</td>\n",
       "    </tr>\n",
       "    <tr>\n",
       "      <th>2</th>\n",
       "      <td>3</td>\n",
       "      <td>20.000000</td>\n",
       "      <td>7.982597e-17</td>\n",
       "    </tr>\n",
       "    <tr>\n",
       "      <th>3</th>\n",
       "      <td>4</td>\n",
       "      <td>65.739130</td>\n",
       "      <td>-1.739130e-01</td>\n",
       "    </tr>\n",
       "    <tr>\n",
       "      <th>4</th>\n",
       "      <td>5</td>\n",
       "      <td>7.642858</td>\n",
       "      <td>3.857143e+00</td>\n",
       "    </tr>\n",
       "  </tbody>\n",
       "</table>\n",
       "</div>"
      ],
      "text/plain": [
       "   gid         w0            w1\n",
       "0    1  79.642857  1.107143e+00\n",
       "1    2  20.105590  2.118012e+00\n",
       "2    3  20.000000  7.982597e-17\n",
       "3    4  65.739130 -1.739130e-01\n",
       "4    5   7.642858  3.857143e+00"
      ]
     },
     "execution_count": 112,
     "metadata": {},
     "output_type": "execute_result"
    }
   ],
   "source": [
    "model = linear_model.LinearRegression()\n",
    "s = [[10], [11]]\n",
    "    \n",
    "df = pd.DataFrame({\n",
    "       'w0':data.groupby(by = 'gid').apply(lambda x: model.fit(x['Semana'].reshape(-1, 1), x[target].reshape(-1, 1)).intercept_[0] ),\n",
    "       'w1':data.groupby(by = 'gid').apply(lambda x: model.fit(x['Semana'].reshape(-1, 1), x[target].reshape(-1, 1)).coef_[0][0] ) \n",
    "}).reset_index() \n",
    "df.head()\n",
    "\n",
    "#train[train['gid']<5].groupby(by = 'gid').apply(lambda x: model.fit(x['Semana'].reshape(-1, 1), x[target].reshape(-1, 1)).predict(s).reshape(1, -1)[0] )"
   ]
  },
  {
   "cell_type": "code",
   "execution_count": 116,
   "metadata": {
    "collapsed": false
   },
   "outputs": [],
   "source": [
    "df.to_csv('input/train_test_2_7_gid_w.csv', index = False)"
   ]
  },
  {
   "cell_type": "code",
   "execution_count": 114,
   "metadata": {
    "collapsed": false
   },
   "outputs": [
    {
     "data": {
      "text/plain": [
       "4046239"
      ]
     },
     "execution_count": 114,
     "metadata": {},
     "output_type": "execute_result"
    }
   ],
   "source": [
    "len(df)"
   ]
  },
  {
   "cell_type": "code",
   "execution_count": 115,
   "metadata": {
    "collapsed": false
   },
   "outputs": [
    {
     "data": {
      "text/plain": [
       "4046239"
      ]
     },
     "execution_count": 115,
     "metadata": {},
     "output_type": "execute_result"
    }
   ],
   "source": [
    "max(train['gid'])"
   ]
  },
  {
   "cell_type": "markdown",
   "metadata": {},
   "source": [
    "## Build train_test_w"
   ]
  },
  {
   "cell_type": "code",
   "execution_count": 53,
   "metadata": {
    "collapsed": false
   },
   "outputs": [
    {
     "data": {
      "text/plain": [
       "4046239"
      ]
     },
     "execution_count": 53,
     "metadata": {},
     "output_type": "execute_result"
    }
   ],
   "source": [
    "train_gid = pd.read_csv('input/train_test_2_7_gid.csv', dtype = int)\n",
    "len(train_gid)"
   ]
  },
  {
   "cell_type": "raw",
   "metadata": {
    "collapsed": false
   },
   "source": [
    "train_gid = train_gid[train_gid['size']>5]\n",
    "train_gid.head()"
   ]
  },
  {
   "cell_type": "code",
   "execution_count": 54,
   "metadata": {
    "collapsed": false
   },
   "outputs": [
    {
     "data": {
      "text/plain": [
       "4046239"
      ]
     },
     "execution_count": 54,
     "metadata": {},
     "output_type": "execute_result"
    }
   ],
   "source": [
    "len(train_gid)"
   ]
  },
  {
   "cell_type": "code",
   "execution_count": 55,
   "metadata": {
    "collapsed": false
   },
   "outputs": [
    {
     "data": {
      "text/plain": [
       "4046239"
      ]
     },
     "execution_count": 55,
     "metadata": {},
     "output_type": "execute_result"
    }
   ],
   "source": [
    "train_gid_w = pd.read_csv('input/train_test_2_7_gid_w.csv', dtype = float)\n",
    "len(train_gid_w)"
   ]
  },
  {
   "cell_type": "code",
   "execution_count": 56,
   "metadata": {
    "collapsed": false
   },
   "outputs": [
    {
     "data": {
      "text/html": [
       "<div>\n",
       "<table border=\"1\" class=\"dataframe\">\n",
       "  <thead>\n",
       "    <tr style=\"text-align: right;\">\n",
       "      <th></th>\n",
       "      <th>gid</th>\n",
       "      <th>w0</th>\n",
       "      <th>w1</th>\n",
       "    </tr>\n",
       "  </thead>\n",
       "  <tbody>\n",
       "    <tr>\n",
       "      <th>36921</th>\n",
       "      <td>36922.0</td>\n",
       "      <td>0.714286</td>\n",
       "      <td>1.857143</td>\n",
       "    </tr>\n",
       "  </tbody>\n",
       "</table>\n",
       "</div>"
      ],
      "text/plain": [
       "           gid        w0        w1\n",
       "36921  36922.0  0.714286  1.857143"
      ]
     },
     "execution_count": 56,
     "metadata": {},
     "output_type": "execute_result"
    }
   ],
   "source": [
    "train_gid_w[train_gid_w['gid']==36922].head()"
   ]
  },
  {
   "cell_type": "code",
   "execution_count": 57,
   "metadata": {
    "collapsed": false
   },
   "outputs": [
    {
     "data": {
      "text/html": [
       "<div>\n",
       "<table border=\"1\" class=\"dataframe\">\n",
       "  <thead>\n",
       "    <tr style=\"text-align: right;\">\n",
       "      <th></th>\n",
       "      <th>Cliente_ID</th>\n",
       "      <th>Producto_ID</th>\n",
       "      <th>Canal_ID</th>\n",
       "      <th>Ruta_SAK</th>\n",
       "      <th>Agencia_ID</th>\n",
       "      <th>size</th>\n",
       "      <th>gid</th>\n",
       "      <th>w0</th>\n",
       "      <th>w1</th>\n",
       "    </tr>\n",
       "  </thead>\n",
       "  <tbody>\n",
       "    <tr>\n",
       "      <th>0</th>\n",
       "      <td>26</td>\n",
       "      <td>34206</td>\n",
       "      <td>2</td>\n",
       "      <td>7212</td>\n",
       "      <td>2061</td>\n",
       "      <td>7</td>\n",
       "      <td>1</td>\n",
       "      <td>79.642857</td>\n",
       "      <td>1.107143e+00</td>\n",
       "    </tr>\n",
       "    <tr>\n",
       "      <th>1</th>\n",
       "      <td>26</td>\n",
       "      <td>34210</td>\n",
       "      <td>2</td>\n",
       "      <td>7212</td>\n",
       "      <td>2061</td>\n",
       "      <td>6</td>\n",
       "      <td>2</td>\n",
       "      <td>20.105590</td>\n",
       "      <td>2.118012e+00</td>\n",
       "    </tr>\n",
       "    <tr>\n",
       "      <th>2</th>\n",
       "      <td>26</td>\n",
       "      <td>34785</td>\n",
       "      <td>2</td>\n",
       "      <td>7212</td>\n",
       "      <td>2061</td>\n",
       "      <td>5</td>\n",
       "      <td>3</td>\n",
       "      <td>20.000000</td>\n",
       "      <td>7.982597e-17</td>\n",
       "    </tr>\n",
       "    <tr>\n",
       "      <th>3</th>\n",
       "      <td>26</td>\n",
       "      <td>34786</td>\n",
       "      <td>2</td>\n",
       "      <td>7212</td>\n",
       "      <td>2061</td>\n",
       "      <td>6</td>\n",
       "      <td>4</td>\n",
       "      <td>65.739130</td>\n",
       "      <td>-1.739130e-01</td>\n",
       "    </tr>\n",
       "    <tr>\n",
       "      <th>4</th>\n",
       "      <td>26</td>\n",
       "      <td>35142</td>\n",
       "      <td>2</td>\n",
       "      <td>7212</td>\n",
       "      <td>2061</td>\n",
       "      <td>6</td>\n",
       "      <td>5</td>\n",
       "      <td>7.642858</td>\n",
       "      <td>3.857143e+00</td>\n",
       "    </tr>\n",
       "  </tbody>\n",
       "</table>\n",
       "</div>"
      ],
      "text/plain": [
       "   Cliente_ID  Producto_ID  Canal_ID  Ruta_SAK  Agencia_ID  size  gid  \\\n",
       "0          26        34206         2      7212        2061     7    1   \n",
       "1          26        34210         2      7212        2061     6    2   \n",
       "2          26        34785         2      7212        2061     5    3   \n",
       "3          26        34786         2      7212        2061     6    4   \n",
       "4          26        35142         2      7212        2061     6    5   \n",
       "\n",
       "          w0            w1  \n",
       "0  79.642857  1.107143e+00  \n",
       "1  20.105590  2.118012e+00  \n",
       "2  20.000000  7.982597e-17  \n",
       "3  65.739130 -1.739130e-01  \n",
       "4   7.642858  3.857143e+00  "
      ]
     },
     "execution_count": 57,
     "metadata": {},
     "output_type": "execute_result"
    }
   ],
   "source": [
    "train_gid = pd.merge(train_gid, train_gid_w, on = ['gid'])\n",
    "train_gid.head()"
   ]
  },
  {
   "cell_type": "code",
   "execution_count": 58,
   "metadata": {
    "collapsed": false
   },
   "outputs": [
    {
     "data": {
      "text/html": [
       "<div>\n",
       "<table border=\"1\" class=\"dataframe\">\n",
       "  <thead>\n",
       "    <tr style=\"text-align: right;\">\n",
       "      <th></th>\n",
       "      <th>Cliente_ID</th>\n",
       "      <th>Producto_ID</th>\n",
       "      <th>Canal_ID</th>\n",
       "      <th>Ruta_SAK</th>\n",
       "      <th>Agencia_ID</th>\n",
       "      <th>size</th>\n",
       "      <th>w0</th>\n",
       "      <th>w1</th>\n",
       "    </tr>\n",
       "  </thead>\n",
       "  <tbody>\n",
       "    <tr>\n",
       "      <th>0</th>\n",
       "      <td>26</td>\n",
       "      <td>34206</td>\n",
       "      <td>2</td>\n",
       "      <td>7212</td>\n",
       "      <td>2061</td>\n",
       "      <td>7</td>\n",
       "      <td>79.642857</td>\n",
       "      <td>1.107143e+00</td>\n",
       "    </tr>\n",
       "    <tr>\n",
       "      <th>1</th>\n",
       "      <td>26</td>\n",
       "      <td>34210</td>\n",
       "      <td>2</td>\n",
       "      <td>7212</td>\n",
       "      <td>2061</td>\n",
       "      <td>6</td>\n",
       "      <td>20.105590</td>\n",
       "      <td>2.118012e+00</td>\n",
       "    </tr>\n",
       "    <tr>\n",
       "      <th>2</th>\n",
       "      <td>26</td>\n",
       "      <td>34785</td>\n",
       "      <td>2</td>\n",
       "      <td>7212</td>\n",
       "      <td>2061</td>\n",
       "      <td>5</td>\n",
       "      <td>20.000000</td>\n",
       "      <td>7.982597e-17</td>\n",
       "    </tr>\n",
       "    <tr>\n",
       "      <th>3</th>\n",
       "      <td>26</td>\n",
       "      <td>34786</td>\n",
       "      <td>2</td>\n",
       "      <td>7212</td>\n",
       "      <td>2061</td>\n",
       "      <td>6</td>\n",
       "      <td>65.739130</td>\n",
       "      <td>-1.739130e-01</td>\n",
       "    </tr>\n",
       "    <tr>\n",
       "      <th>4</th>\n",
       "      <td>26</td>\n",
       "      <td>35142</td>\n",
       "      <td>2</td>\n",
       "      <td>7212</td>\n",
       "      <td>2061</td>\n",
       "      <td>6</td>\n",
       "      <td>7.642858</td>\n",
       "      <td>3.857143e+00</td>\n",
       "    </tr>\n",
       "  </tbody>\n",
       "</table>\n",
       "</div>"
      ],
      "text/plain": [
       "   Cliente_ID  Producto_ID  Canal_ID  Ruta_SAK  Agencia_ID  size         w0  \\\n",
       "0          26        34206         2      7212        2061     7  79.642857   \n",
       "1          26        34210         2      7212        2061     6  20.105590   \n",
       "2          26        34785         2      7212        2061     5  20.000000   \n",
       "3          26        34786         2      7212        2061     6  65.739130   \n",
       "4          26        35142         2      7212        2061     6   7.642858   \n",
       "\n",
       "             w1  \n",
       "0  1.107143e+00  \n",
       "1  2.118012e+00  \n",
       "2  7.982597e-17  \n",
       "3 -1.739130e-01  \n",
       "4  3.857143e+00  "
      ]
     },
     "execution_count": 58,
     "metadata": {},
     "output_type": "execute_result"
    }
   ],
   "source": [
    "train_gid.drop(['gid'], axis=1, inplace=True)\n",
    "train_gid.head()"
   ]
  },
  {
   "cell_type": "code",
   "execution_count": 59,
   "metadata": {
    "collapsed": true
   },
   "outputs": [],
   "source": [
    "train_gid.to_csv('input/train_test_2_7_w.csv', index=False)"
   ]
  },
  {
   "cell_type": "markdown",
   "metadata": {},
   "source": [
    "## Get w0, w1 for size = 1"
   ]
  },
  {
   "cell_type": "code",
   "execution_count": 67,
   "metadata": {
    "collapsed": false
   },
   "outputs": [
    {
     "data": {
      "text/html": [
       "<div>\n",
       "<table border=\"1\" class=\"dataframe\">\n",
       "  <thead>\n",
       "    <tr style=\"text-align: right;\">\n",
       "      <th></th>\n",
       "      <th>Semana</th>\n",
       "      <th>Agencia_ID</th>\n",
       "      <th>Canal_ID</th>\n",
       "      <th>Ruta_SAK</th>\n",
       "      <th>Cliente_ID</th>\n",
       "      <th>Producto_ID</th>\n",
       "      <th>Demanda_uni_equil</th>\n",
       "    </tr>\n",
       "  </thead>\n",
       "  <tbody>\n",
       "    <tr>\n",
       "      <th>0</th>\n",
       "      <td>3.0</td>\n",
       "      <td>1110.0</td>\n",
       "      <td>7.0</td>\n",
       "      <td>3301.0</td>\n",
       "      <td>73838.0</td>\n",
       "      <td>1220.0</td>\n",
       "      <td>3.0</td>\n",
       "    </tr>\n",
       "    <tr>\n",
       "      <th>1</th>\n",
       "      <td>3.0</td>\n",
       "      <td>1110.0</td>\n",
       "      <td>7.0</td>\n",
       "      <td>3301.0</td>\n",
       "      <td>1307034.0</td>\n",
       "      <td>32933.0</td>\n",
       "      <td>1.0</td>\n",
       "    </tr>\n",
       "    <tr>\n",
       "      <th>2</th>\n",
       "      <td>3.0</td>\n",
       "      <td>1110.0</td>\n",
       "      <td>7.0</td>\n",
       "      <td>3301.0</td>\n",
       "      <td>2331717.0</td>\n",
       "      <td>3333.0</td>\n",
       "      <td>5.0</td>\n",
       "    </tr>\n",
       "    <tr>\n",
       "      <th>3</th>\n",
       "      <td>3.0</td>\n",
       "      <td>1110.0</td>\n",
       "      <td>7.0</td>\n",
       "      <td>3302.0</td>\n",
       "      <td>2052099.0</td>\n",
       "      <td>4245.0</td>\n",
       "      <td>2.0</td>\n",
       "    </tr>\n",
       "    <tr>\n",
       "      <th>4</th>\n",
       "      <td>3.0</td>\n",
       "      <td>1110.0</td>\n",
       "      <td>7.0</td>\n",
       "      <td>3304.0</td>\n",
       "      <td>522735.0</td>\n",
       "      <td>1160.0</td>\n",
       "      <td>1.0</td>\n",
       "    </tr>\n",
       "  </tbody>\n",
       "</table>\n",
       "</div>"
      ],
      "text/plain": [
       "   Semana  Agencia_ID  Canal_ID  Ruta_SAK  Cliente_ID  Producto_ID  \\\n",
       "0     3.0      1110.0       7.0    3301.0     73838.0       1220.0   \n",
       "1     3.0      1110.0       7.0    3301.0   1307034.0      32933.0   \n",
       "2     3.0      1110.0       7.0    3301.0   2331717.0       3333.0   \n",
       "3     3.0      1110.0       7.0    3302.0   2052099.0       4245.0   \n",
       "4     3.0      1110.0       7.0    3304.0    522735.0       1160.0   \n",
       "\n",
       "   Demanda_uni_equil  \n",
       "0                3.0  \n",
       "1                1.0  \n",
       "2                5.0  \n",
       "3                2.0  \n",
       "4                1.0  "
      ]
     },
     "execution_count": 67,
     "metadata": {},
     "output_type": "execute_result"
    }
   ],
   "source": [
    "train = pd.read_csv('input/train_test_1.csv', dtype = float)\n",
    "train.head()"
   ]
  },
  {
   "cell_type": "code",
   "execution_count": 68,
   "metadata": {
    "collapsed": false
   },
   "outputs": [
    {
     "data": {
      "text/html": [
       "<div>\n",
       "<table border=\"1\" class=\"dataframe\">\n",
       "  <thead>\n",
       "    <tr style=\"text-align: right;\">\n",
       "      <th></th>\n",
       "      <th>Semana</th>\n",
       "      <th>Agencia_ID</th>\n",
       "      <th>Canal_ID</th>\n",
       "      <th>Ruta_SAK</th>\n",
       "      <th>Cliente_ID</th>\n",
       "      <th>Producto_ID</th>\n",
       "      <th>Demanda_uni_equil</th>\n",
       "      <th>w0</th>\n",
       "      <th>w1</th>\n",
       "      <th>size</th>\n",
       "    </tr>\n",
       "  </thead>\n",
       "  <tbody>\n",
       "    <tr>\n",
       "      <th>0</th>\n",
       "      <td>3.0</td>\n",
       "      <td>1110.0</td>\n",
       "      <td>7.0</td>\n",
       "      <td>3301.0</td>\n",
       "      <td>73838.0</td>\n",
       "      <td>1220.0</td>\n",
       "      <td>3.0</td>\n",
       "      <td>3.0</td>\n",
       "      <td>0.0</td>\n",
       "      <td>1.0</td>\n",
       "    </tr>\n",
       "    <tr>\n",
       "      <th>1</th>\n",
       "      <td>3.0</td>\n",
       "      <td>1110.0</td>\n",
       "      <td>7.0</td>\n",
       "      <td>3301.0</td>\n",
       "      <td>1307034.0</td>\n",
       "      <td>32933.0</td>\n",
       "      <td>1.0</td>\n",
       "      <td>1.0</td>\n",
       "      <td>0.0</td>\n",
       "      <td>1.0</td>\n",
       "    </tr>\n",
       "    <tr>\n",
       "      <th>2</th>\n",
       "      <td>3.0</td>\n",
       "      <td>1110.0</td>\n",
       "      <td>7.0</td>\n",
       "      <td>3301.0</td>\n",
       "      <td>2331717.0</td>\n",
       "      <td>3333.0</td>\n",
       "      <td>5.0</td>\n",
       "      <td>5.0</td>\n",
       "      <td>0.0</td>\n",
       "      <td>1.0</td>\n",
       "    </tr>\n",
       "    <tr>\n",
       "      <th>3</th>\n",
       "      <td>3.0</td>\n",
       "      <td>1110.0</td>\n",
       "      <td>7.0</td>\n",
       "      <td>3302.0</td>\n",
       "      <td>2052099.0</td>\n",
       "      <td>4245.0</td>\n",
       "      <td>2.0</td>\n",
       "      <td>2.0</td>\n",
       "      <td>0.0</td>\n",
       "      <td>1.0</td>\n",
       "    </tr>\n",
       "    <tr>\n",
       "      <th>4</th>\n",
       "      <td>3.0</td>\n",
       "      <td>1110.0</td>\n",
       "      <td>7.0</td>\n",
       "      <td>3304.0</td>\n",
       "      <td>522735.0</td>\n",
       "      <td>1160.0</td>\n",
       "      <td>1.0</td>\n",
       "      <td>1.0</td>\n",
       "      <td>0.0</td>\n",
       "      <td>1.0</td>\n",
       "    </tr>\n",
       "  </tbody>\n",
       "</table>\n",
       "</div>"
      ],
      "text/plain": [
       "   Semana  Agencia_ID  Canal_ID  Ruta_SAK  Cliente_ID  Producto_ID  \\\n",
       "0     3.0      1110.0       7.0    3301.0     73838.0       1220.0   \n",
       "1     3.0      1110.0       7.0    3301.0   1307034.0      32933.0   \n",
       "2     3.0      1110.0       7.0    3301.0   2331717.0       3333.0   \n",
       "3     3.0      1110.0       7.0    3302.0   2052099.0       4245.0   \n",
       "4     3.0      1110.0       7.0    3304.0    522735.0       1160.0   \n",
       "\n",
       "   Demanda_uni_equil   w0   w1  size  \n",
       "0                3.0  3.0  0.0   1.0  \n",
       "1                1.0  1.0  0.0   1.0  \n",
       "2                5.0  5.0  0.0   1.0  \n",
       "3                2.0  2.0  0.0   1.0  \n",
       "4                1.0  1.0  0.0   1.0  "
      ]
     },
     "execution_count": 68,
     "metadata": {},
     "output_type": "execute_result"
    }
   ],
   "source": [
    "train['w0'] = train['Demanda_uni_equil']\n",
    "train['w1'] = np.zeros(len(train))\n",
    "train['size'] = np.ones(len(train))\n",
    "train.head()"
   ]
  },
  {
   "cell_type": "code",
   "execution_count": 69,
   "metadata": {
    "collapsed": false
   },
   "outputs": [
    {
     "data": {
      "text/html": [
       "<div>\n",
       "<table border=\"1\" class=\"dataframe\">\n",
       "  <thead>\n",
       "    <tr style=\"text-align: right;\">\n",
       "      <th></th>\n",
       "      <th>Agencia_ID</th>\n",
       "      <th>Canal_ID</th>\n",
       "      <th>Ruta_SAK</th>\n",
       "      <th>Cliente_ID</th>\n",
       "      <th>Producto_ID</th>\n",
       "      <th>w0</th>\n",
       "      <th>w1</th>\n",
       "      <th>size</th>\n",
       "    </tr>\n",
       "  </thead>\n",
       "  <tbody>\n",
       "    <tr>\n",
       "      <th>0</th>\n",
       "      <td>1110.0</td>\n",
       "      <td>7.0</td>\n",
       "      <td>3301.0</td>\n",
       "      <td>73838.0</td>\n",
       "      <td>1220.0</td>\n",
       "      <td>3.0</td>\n",
       "      <td>0.0</td>\n",
       "      <td>1.0</td>\n",
       "    </tr>\n",
       "    <tr>\n",
       "      <th>1</th>\n",
       "      <td>1110.0</td>\n",
       "      <td>7.0</td>\n",
       "      <td>3301.0</td>\n",
       "      <td>1307034.0</td>\n",
       "      <td>32933.0</td>\n",
       "      <td>1.0</td>\n",
       "      <td>0.0</td>\n",
       "      <td>1.0</td>\n",
       "    </tr>\n",
       "    <tr>\n",
       "      <th>2</th>\n",
       "      <td>1110.0</td>\n",
       "      <td>7.0</td>\n",
       "      <td>3301.0</td>\n",
       "      <td>2331717.0</td>\n",
       "      <td>3333.0</td>\n",
       "      <td>5.0</td>\n",
       "      <td>0.0</td>\n",
       "      <td>1.0</td>\n",
       "    </tr>\n",
       "    <tr>\n",
       "      <th>3</th>\n",
       "      <td>1110.0</td>\n",
       "      <td>7.0</td>\n",
       "      <td>3302.0</td>\n",
       "      <td>2052099.0</td>\n",
       "      <td>4245.0</td>\n",
       "      <td>2.0</td>\n",
       "      <td>0.0</td>\n",
       "      <td>1.0</td>\n",
       "    </tr>\n",
       "    <tr>\n",
       "      <th>4</th>\n",
       "      <td>1110.0</td>\n",
       "      <td>7.0</td>\n",
       "      <td>3304.0</td>\n",
       "      <td>522735.0</td>\n",
       "      <td>1160.0</td>\n",
       "      <td>1.0</td>\n",
       "      <td>0.0</td>\n",
       "      <td>1.0</td>\n",
       "    </tr>\n",
       "  </tbody>\n",
       "</table>\n",
       "</div>"
      ],
      "text/plain": [
       "   Agencia_ID  Canal_ID  Ruta_SAK  Cliente_ID  Producto_ID   w0   w1  size\n",
       "0      1110.0       7.0    3301.0     73838.0       1220.0  3.0  0.0   1.0\n",
       "1      1110.0       7.0    3301.0   1307034.0      32933.0  1.0  0.0   1.0\n",
       "2      1110.0       7.0    3301.0   2331717.0       3333.0  5.0  0.0   1.0\n",
       "3      1110.0       7.0    3302.0   2052099.0       4245.0  2.0  0.0   1.0\n",
       "4      1110.0       7.0    3304.0    522735.0       1160.0  1.0  0.0   1.0"
      ]
     },
     "execution_count": 69,
     "metadata": {},
     "output_type": "execute_result"
    }
   ],
   "source": [
    "train.drop('Semana', axis=1, inplace=True)\n",
    "train.drop('Demanda_uni_equil', axis=1, inplace=True)\n",
    "train.head()"
   ]
  },
  {
   "cell_type": "code",
   "execution_count": 70,
   "metadata": {
    "collapsed": false
   },
   "outputs": [],
   "source": [
    "train.to_csv('input/train_test_1_w.csv', index=False)"
   ]
  },
  {
   "cell_type": "code",
   "execution_count": 71,
   "metadata": {
    "collapsed": false
   },
   "outputs": [
    {
     "data": {
      "text/plain": [
       "835768"
      ]
     },
     "execution_count": 71,
     "metadata": {},
     "output_type": "execute_result"
    }
   ],
   "source": [
    "len(train)"
   ]
  },
  {
   "cell_type": "markdown",
   "metadata": {},
   "source": [
    "## Build train_test_w"
   ]
  },
  {
   "cell_type": "code",
   "execution_count": 72,
   "metadata": {
    "collapsed": false
   },
   "outputs": [
    {
     "data": {
      "text/plain": [
       "4882007"
      ]
     },
     "execution_count": 72,
     "metadata": {},
     "output_type": "execute_result"
    }
   ],
   "source": [
    "train = pd.concat([train, pd.read_csv('input/train_test_2_7_w.csv', dtype = float)])\n",
    "len(train)"
   ]
  },
  {
   "cell_type": "code",
   "execution_count": 73,
   "metadata": {
    "collapsed": false
   },
   "outputs": [
    {
     "data": {
      "text/html": [
       "<div>\n",
       "<table border=\"1\" class=\"dataframe\">\n",
       "  <thead>\n",
       "    <tr style=\"text-align: right;\">\n",
       "      <th></th>\n",
       "      <th>Agencia_ID</th>\n",
       "      <th>Canal_ID</th>\n",
       "      <th>Cliente_ID</th>\n",
       "      <th>Producto_ID</th>\n",
       "      <th>Ruta_SAK</th>\n",
       "      <th>size</th>\n",
       "      <th>w0</th>\n",
       "      <th>w1</th>\n",
       "    </tr>\n",
       "  </thead>\n",
       "  <tbody>\n",
       "    <tr>\n",
       "      <th>0</th>\n",
       "      <td>1110.0</td>\n",
       "      <td>7.0</td>\n",
       "      <td>73838.0</td>\n",
       "      <td>1220.0</td>\n",
       "      <td>3301.0</td>\n",
       "      <td>1.0</td>\n",
       "      <td>3.0</td>\n",
       "      <td>0.0</td>\n",
       "    </tr>\n",
       "    <tr>\n",
       "      <th>1</th>\n",
       "      <td>1110.0</td>\n",
       "      <td>7.0</td>\n",
       "      <td>1307034.0</td>\n",
       "      <td>32933.0</td>\n",
       "      <td>3301.0</td>\n",
       "      <td>1.0</td>\n",
       "      <td>1.0</td>\n",
       "      <td>0.0</td>\n",
       "    </tr>\n",
       "    <tr>\n",
       "      <th>2</th>\n",
       "      <td>1110.0</td>\n",
       "      <td>7.0</td>\n",
       "      <td>2331717.0</td>\n",
       "      <td>3333.0</td>\n",
       "      <td>3301.0</td>\n",
       "      <td>1.0</td>\n",
       "      <td>5.0</td>\n",
       "      <td>0.0</td>\n",
       "    </tr>\n",
       "    <tr>\n",
       "      <th>3</th>\n",
       "      <td>1110.0</td>\n",
       "      <td>7.0</td>\n",
       "      <td>2052099.0</td>\n",
       "      <td>4245.0</td>\n",
       "      <td>3302.0</td>\n",
       "      <td>1.0</td>\n",
       "      <td>2.0</td>\n",
       "      <td>0.0</td>\n",
       "    </tr>\n",
       "    <tr>\n",
       "      <th>4</th>\n",
       "      <td>1110.0</td>\n",
       "      <td>7.0</td>\n",
       "      <td>522735.0</td>\n",
       "      <td>1160.0</td>\n",
       "      <td>3304.0</td>\n",
       "      <td>1.0</td>\n",
       "      <td>1.0</td>\n",
       "      <td>0.0</td>\n",
       "    </tr>\n",
       "  </tbody>\n",
       "</table>\n",
       "</div>"
      ],
      "text/plain": [
       "   Agencia_ID  Canal_ID  Cliente_ID  Producto_ID  Ruta_SAK  size   w0   w1\n",
       "0      1110.0       7.0     73838.0       1220.0    3301.0   1.0  3.0  0.0\n",
       "1      1110.0       7.0   1307034.0      32933.0    3301.0   1.0  1.0  0.0\n",
       "2      1110.0       7.0   2331717.0       3333.0    3301.0   1.0  5.0  0.0\n",
       "3      1110.0       7.0   2052099.0       4245.0    3302.0   1.0  2.0  0.0\n",
       "4      1110.0       7.0    522735.0       1160.0    3304.0   1.0  1.0  0.0"
      ]
     },
     "execution_count": 73,
     "metadata": {},
     "output_type": "execute_result"
    }
   ],
   "source": [
    "train.head()"
   ]
  },
  {
   "cell_type": "code",
   "execution_count": 74,
   "metadata": {
    "collapsed": true
   },
   "outputs": [],
   "source": [
    "train.to_csv('input/train_test_w.csv', index=False)"
   ]
  },
  {
   "cell_type": "code",
   "execution_count": 75,
   "metadata": {
    "collapsed": false
   },
   "outputs": [
    {
     "data": {
      "text/html": [
       "<div>\n",
       "<table border=\"1\" class=\"dataframe\">\n",
       "  <thead>\n",
       "    <tr style=\"text-align: right;\">\n",
       "      <th></th>\n",
       "      <th>Agencia_ID</th>\n",
       "      <th>Canal_ID</th>\n",
       "      <th>Cliente_ID</th>\n",
       "      <th>Producto_ID</th>\n",
       "      <th>Ruta_SAK</th>\n",
       "      <th>size</th>\n",
       "      <th>w0</th>\n",
       "      <th>w1</th>\n",
       "    </tr>\n",
       "  </thead>\n",
       "  <tbody>\n",
       "    <tr>\n",
       "      <th>4046234</th>\n",
       "      <td>22362.0</td>\n",
       "      <td>1.0</td>\n",
       "      <td>2.015152e+09</td>\n",
       "      <td>1146.0</td>\n",
       "      <td>900.0</td>\n",
       "      <td>4.0</td>\n",
       "      <td>-10.000000</td>\n",
       "      <td>2.300000</td>\n",
       "    </tr>\n",
       "    <tr>\n",
       "      <th>4046235</th>\n",
       "      <td>22362.0</td>\n",
       "      <td>1.0</td>\n",
       "      <td>2.015152e+09</td>\n",
       "      <td>1232.0</td>\n",
       "      <td>900.0</td>\n",
       "      <td>2.0</td>\n",
       "      <td>1.500000</td>\n",
       "      <td>0.166667</td>\n",
       "    </tr>\n",
       "    <tr>\n",
       "      <th>4046236</th>\n",
       "      <td>22362.0</td>\n",
       "      <td>1.0</td>\n",
       "      <td>2.015152e+09</td>\n",
       "      <td>1250.0</td>\n",
       "      <td>900.0</td>\n",
       "      <td>3.0</td>\n",
       "      <td>36.000000</td>\n",
       "      <td>-3.000000</td>\n",
       "    </tr>\n",
       "    <tr>\n",
       "      <th>4046237</th>\n",
       "      <td>22362.0</td>\n",
       "      <td>1.0</td>\n",
       "      <td>2.015152e+09</td>\n",
       "      <td>2233.0</td>\n",
       "      <td>900.0</td>\n",
       "      <td>3.0</td>\n",
       "      <td>42.307692</td>\n",
       "      <td>-4.346154</td>\n",
       "    </tr>\n",
       "    <tr>\n",
       "      <th>4046238</th>\n",
       "      <td>22362.0</td>\n",
       "      <td>1.0</td>\n",
       "      <td>2.015152e+09</td>\n",
       "      <td>4280.0</td>\n",
       "      <td>900.0</td>\n",
       "      <td>2.0</td>\n",
       "      <td>2.000000</td>\n",
       "      <td>0.666667</td>\n",
       "    </tr>\n",
       "  </tbody>\n",
       "</table>\n",
       "</div>"
      ],
      "text/plain": [
       "         Agencia_ID  Canal_ID    Cliente_ID  Producto_ID  Ruta_SAK  size  \\\n",
       "4046234     22362.0       1.0  2.015152e+09       1146.0     900.0   4.0   \n",
       "4046235     22362.0       1.0  2.015152e+09       1232.0     900.0   2.0   \n",
       "4046236     22362.0       1.0  2.015152e+09       1250.0     900.0   3.0   \n",
       "4046237     22362.0       1.0  2.015152e+09       2233.0     900.0   3.0   \n",
       "4046238     22362.0       1.0  2.015152e+09       4280.0     900.0   2.0   \n",
       "\n",
       "                w0        w1  \n",
       "4046234 -10.000000  2.300000  \n",
       "4046235   1.500000  0.166667  \n",
       "4046236  36.000000 -3.000000  \n",
       "4046237  42.307692 -4.346154  \n",
       "4046238   2.000000  0.666667  "
      ]
     },
     "execution_count": 75,
     "metadata": {},
     "output_type": "execute_result"
    }
   ],
   "source": [
    "train.tail()"
   ]
  },
  {
   "cell_type": "markdown",
   "metadata": {},
   "source": [
    "## Build train_test prediction"
   ]
  },
  {
   "cell_type": "code",
   "execution_count": 76,
   "metadata": {
    "collapsed": false
   },
   "outputs": [
    {
     "data": {
      "text/html": [
       "<div>\n",
       "<table border=\"1\" class=\"dataframe\">\n",
       "  <thead>\n",
       "    <tr style=\"text-align: right;\">\n",
       "      <th></th>\n",
       "      <th>id</th>\n",
       "      <th>Semana</th>\n",
       "      <th>Agencia_ID</th>\n",
       "      <th>Canal_ID</th>\n",
       "      <th>Ruta_SAK</th>\n",
       "      <th>Cliente_ID</th>\n",
       "      <th>Producto_ID</th>\n",
       "    </tr>\n",
       "  </thead>\n",
       "  <tbody>\n",
       "    <tr>\n",
       "      <th>0</th>\n",
       "      <td>0</td>\n",
       "      <td>11</td>\n",
       "      <td>4037</td>\n",
       "      <td>1</td>\n",
       "      <td>2209</td>\n",
       "      <td>4639078</td>\n",
       "      <td>35305</td>\n",
       "    </tr>\n",
       "    <tr>\n",
       "      <th>1</th>\n",
       "      <td>1</td>\n",
       "      <td>11</td>\n",
       "      <td>2237</td>\n",
       "      <td>1</td>\n",
       "      <td>1226</td>\n",
       "      <td>4705135</td>\n",
       "      <td>1238</td>\n",
       "    </tr>\n",
       "    <tr>\n",
       "      <th>2</th>\n",
       "      <td>2</td>\n",
       "      <td>10</td>\n",
       "      <td>2045</td>\n",
       "      <td>1</td>\n",
       "      <td>2831</td>\n",
       "      <td>4549769</td>\n",
       "      <td>32940</td>\n",
       "    </tr>\n",
       "    <tr>\n",
       "      <th>3</th>\n",
       "      <td>3</td>\n",
       "      <td>11</td>\n",
       "      <td>1227</td>\n",
       "      <td>1</td>\n",
       "      <td>4448</td>\n",
       "      <td>4717855</td>\n",
       "      <td>43066</td>\n",
       "    </tr>\n",
       "    <tr>\n",
       "      <th>4</th>\n",
       "      <td>4</td>\n",
       "      <td>11</td>\n",
       "      <td>1219</td>\n",
       "      <td>1</td>\n",
       "      <td>1130</td>\n",
       "      <td>966351</td>\n",
       "      <td>1277</td>\n",
       "    </tr>\n",
       "  </tbody>\n",
       "</table>\n",
       "</div>"
      ],
      "text/plain": [
       "   id  Semana  Agencia_ID  Canal_ID  Ruta_SAK  Cliente_ID  Producto_ID\n",
       "0   0      11        4037         1      2209     4639078        35305\n",
       "1   1      11        2237         1      1226     4705135         1238\n",
       "2   2      10        2045         1      2831     4549769        32940\n",
       "3   3      11        1227         1      4448     4717855        43066\n",
       "4   4      11        1219         1      1130      966351         1277"
      ]
     },
     "execution_count": 76,
     "metadata": {},
     "output_type": "execute_result"
    }
   ],
   "source": [
    "test = pd.read_csv('input/test.csv', dtype = dtype_dict, usecols = test_cols_Semana)\n",
    "test.head()"
   ]
  },
  {
   "cell_type": "code",
   "execution_count": 77,
   "metadata": {
    "collapsed": false
   },
   "outputs": [
    {
     "data": {
      "text/plain": [
       "6999251"
      ]
     },
     "execution_count": 77,
     "metadata": {},
     "output_type": "execute_result"
    }
   ],
   "source": [
    "len(test)"
   ]
  },
  {
   "cell_type": "code",
   "execution_count": 78,
   "metadata": {
    "collapsed": false
   },
   "outputs": [
    {
     "data": {
      "text/html": [
       "<div>\n",
       "<table border=\"1\" class=\"dataframe\">\n",
       "  <thead>\n",
       "    <tr style=\"text-align: right;\">\n",
       "      <th></th>\n",
       "      <th>Agencia_ID</th>\n",
       "      <th>Canal_ID</th>\n",
       "      <th>Cliente_ID</th>\n",
       "      <th>Producto_ID</th>\n",
       "      <th>Ruta_SAK</th>\n",
       "      <th>size</th>\n",
       "      <th>w0</th>\n",
       "      <th>w1</th>\n",
       "    </tr>\n",
       "  </thead>\n",
       "  <tbody>\n",
       "    <tr>\n",
       "      <th>0</th>\n",
       "      <td>1110.0</td>\n",
       "      <td>7.0</td>\n",
       "      <td>73838.0</td>\n",
       "      <td>1220.0</td>\n",
       "      <td>3301.0</td>\n",
       "      <td>1.0</td>\n",
       "      <td>3.0</td>\n",
       "      <td>0.0</td>\n",
       "    </tr>\n",
       "    <tr>\n",
       "      <th>1</th>\n",
       "      <td>1110.0</td>\n",
       "      <td>7.0</td>\n",
       "      <td>1307034.0</td>\n",
       "      <td>32933.0</td>\n",
       "      <td>3301.0</td>\n",
       "      <td>1.0</td>\n",
       "      <td>1.0</td>\n",
       "      <td>0.0</td>\n",
       "    </tr>\n",
       "    <tr>\n",
       "      <th>2</th>\n",
       "      <td>1110.0</td>\n",
       "      <td>7.0</td>\n",
       "      <td>2331717.0</td>\n",
       "      <td>3333.0</td>\n",
       "      <td>3301.0</td>\n",
       "      <td>1.0</td>\n",
       "      <td>5.0</td>\n",
       "      <td>0.0</td>\n",
       "    </tr>\n",
       "    <tr>\n",
       "      <th>3</th>\n",
       "      <td>1110.0</td>\n",
       "      <td>7.0</td>\n",
       "      <td>2052099.0</td>\n",
       "      <td>4245.0</td>\n",
       "      <td>3302.0</td>\n",
       "      <td>1.0</td>\n",
       "      <td>2.0</td>\n",
       "      <td>0.0</td>\n",
       "    </tr>\n",
       "    <tr>\n",
       "      <th>4</th>\n",
       "      <td>1110.0</td>\n",
       "      <td>7.0</td>\n",
       "      <td>522735.0</td>\n",
       "      <td>1160.0</td>\n",
       "      <td>3304.0</td>\n",
       "      <td>1.0</td>\n",
       "      <td>1.0</td>\n",
       "      <td>0.0</td>\n",
       "    </tr>\n",
       "  </tbody>\n",
       "</table>\n",
       "</div>"
      ],
      "text/plain": [
       "   Agencia_ID  Canal_ID  Cliente_ID  Producto_ID  Ruta_SAK  size   w0   w1\n",
       "0      1110.0       7.0     73838.0       1220.0    3301.0   1.0  3.0  0.0\n",
       "1      1110.0       7.0   1307034.0      32933.0    3301.0   1.0  1.0  0.0\n",
       "2      1110.0       7.0   2331717.0       3333.0    3301.0   1.0  5.0  0.0\n",
       "3      1110.0       7.0   2052099.0       4245.0    3302.0   1.0  2.0  0.0\n",
       "4      1110.0       7.0    522735.0       1160.0    3304.0   1.0  1.0  0.0"
      ]
     },
     "execution_count": 78,
     "metadata": {},
     "output_type": "execute_result"
    }
   ],
   "source": [
    "test_w = pd.read_csv('input/train_test_w.csv', dtype = float)\n",
    "test_w.head()"
   ]
  },
  {
   "cell_type": "code",
   "execution_count": 79,
   "metadata": {
    "collapsed": false
   },
   "outputs": [
    {
     "data": {
      "text/plain": [
       "4882007"
      ]
     },
     "execution_count": 79,
     "metadata": {},
     "output_type": "execute_result"
    }
   ],
   "source": [
    "len(test_w)"
   ]
  },
  {
   "cell_type": "code",
   "execution_count": 81,
   "metadata": {
    "collapsed": false
   },
   "outputs": [
    {
     "data": {
      "text/plain": [
       "1234431"
      ]
     },
     "execution_count": 81,
     "metadata": {},
     "output_type": "execute_result"
    }
   ],
   "source": [
    "test_w = test_w[test_w['size']>5]\n",
    "len(test_w)"
   ]
  },
  {
   "cell_type": "code",
   "execution_count": 82,
   "metadata": {
    "collapsed": true
   },
   "outputs": [],
   "source": [
    "groupby = get_cols('12345')"
   ]
  },
  {
   "cell_type": "code",
   "execution_count": 83,
   "metadata": {
    "collapsed": false
   },
   "outputs": [
    {
     "data": {
      "text/html": [
       "<div>\n",
       "<table border=\"1\" class=\"dataframe\">\n",
       "  <thead>\n",
       "    <tr style=\"text-align: right;\">\n",
       "      <th></th>\n",
       "      <th>id</th>\n",
       "      <th>Semana</th>\n",
       "      <th>Agencia_ID</th>\n",
       "      <th>Canal_ID</th>\n",
       "      <th>Ruta_SAK</th>\n",
       "      <th>Cliente_ID</th>\n",
       "      <th>Producto_ID</th>\n",
       "      <th>size</th>\n",
       "      <th>w0</th>\n",
       "      <th>w1</th>\n",
       "    </tr>\n",
       "  </thead>\n",
       "  <tbody>\n",
       "    <tr>\n",
       "      <th>0</th>\n",
       "      <td>11</td>\n",
       "      <td>10</td>\n",
       "      <td>1336</td>\n",
       "      <td>1</td>\n",
       "      <td>1069</td>\n",
       "      <td>4387996</td>\n",
       "      <td>2233</td>\n",
       "      <td>7.0</td>\n",
       "      <td>2.000000</td>\n",
       "      <td>0.000000</td>\n",
       "    </tr>\n",
       "    <tr>\n",
       "      <th>1</th>\n",
       "      <td>22</td>\n",
       "      <td>10</td>\n",
       "      <td>1477</td>\n",
       "      <td>4</td>\n",
       "      <td>4714</td>\n",
       "      <td>4670562</td>\n",
       "      <td>35525</td>\n",
       "      <td>6.0</td>\n",
       "      <td>15.809524</td>\n",
       "      <td>-0.714286</td>\n",
       "    </tr>\n",
       "    <tr>\n",
       "      <th>2</th>\n",
       "      <td>4677681</td>\n",
       "      <td>11</td>\n",
       "      <td>1477</td>\n",
       "      <td>4</td>\n",
       "      <td>4714</td>\n",
       "      <td>4670562</td>\n",
       "      <td>35525</td>\n",
       "      <td>6.0</td>\n",
       "      <td>15.809524</td>\n",
       "      <td>-0.714286</td>\n",
       "    </tr>\n",
       "    <tr>\n",
       "      <th>3</th>\n",
       "      <td>23</td>\n",
       "      <td>11</td>\n",
       "      <td>1232</td>\n",
       "      <td>1</td>\n",
       "      <td>1211</td>\n",
       "      <td>245366</td>\n",
       "      <td>1150</td>\n",
       "      <td>6.0</td>\n",
       "      <td>2.585714</td>\n",
       "      <td>-0.171429</td>\n",
       "    </tr>\n",
       "    <tr>\n",
       "      <th>4</th>\n",
       "      <td>3329279</td>\n",
       "      <td>10</td>\n",
       "      <td>1232</td>\n",
       "      <td>1</td>\n",
       "      <td>1211</td>\n",
       "      <td>245366</td>\n",
       "      <td>1150</td>\n",
       "      <td>6.0</td>\n",
       "      <td>2.585714</td>\n",
       "      <td>-0.171429</td>\n",
       "    </tr>\n",
       "  </tbody>\n",
       "</table>\n",
       "</div>"
      ],
      "text/plain": [
       "        id  Semana  Agencia_ID  Canal_ID  Ruta_SAK  Cliente_ID  Producto_ID  \\\n",
       "0       11      10        1336         1      1069     4387996         2233   \n",
       "1       22      10        1477         4      4714     4670562        35525   \n",
       "2  4677681      11        1477         4      4714     4670562        35525   \n",
       "3       23      11        1232         1      1211      245366         1150   \n",
       "4  3329279      10        1232         1      1211      245366         1150   \n",
       "\n",
       "   size         w0        w1  \n",
       "0   7.0   2.000000  0.000000  \n",
       "1   6.0  15.809524 -0.714286  \n",
       "2   6.0  15.809524 -0.714286  \n",
       "3   6.0   2.585714 -0.171429  \n",
       "4   6.0   2.585714 -0.171429  "
      ]
     },
     "execution_count": 83,
     "metadata": {},
     "output_type": "execute_result"
    }
   ],
   "source": [
    "test = pd.merge(test, test_w, how = 'inner', on = groupby)\n",
    "test.head()"
   ]
  },
  {
   "cell_type": "code",
   "execution_count": 84,
   "metadata": {
    "collapsed": false
   },
   "outputs": [
    {
     "data": {
      "text/html": [
       "<div>\n",
       "<table border=\"1\" class=\"dataframe\">\n",
       "  <thead>\n",
       "    <tr style=\"text-align: right;\">\n",
       "      <th></th>\n",
       "      <th>id</th>\n",
       "      <th>Semana</th>\n",
       "      <th>size</th>\n",
       "      <th>w0</th>\n",
       "      <th>w1</th>\n",
       "    </tr>\n",
       "  </thead>\n",
       "  <tbody>\n",
       "    <tr>\n",
       "      <th>0</th>\n",
       "      <td>11</td>\n",
       "      <td>10</td>\n",
       "      <td>7.0</td>\n",
       "      <td>2.000000</td>\n",
       "      <td>0.000000</td>\n",
       "    </tr>\n",
       "    <tr>\n",
       "      <th>1</th>\n",
       "      <td>22</td>\n",
       "      <td>10</td>\n",
       "      <td>6.0</td>\n",
       "      <td>15.809524</td>\n",
       "      <td>-0.714286</td>\n",
       "    </tr>\n",
       "    <tr>\n",
       "      <th>2</th>\n",
       "      <td>4677681</td>\n",
       "      <td>11</td>\n",
       "      <td>6.0</td>\n",
       "      <td>15.809524</td>\n",
       "      <td>-0.714286</td>\n",
       "    </tr>\n",
       "    <tr>\n",
       "      <th>3</th>\n",
       "      <td>23</td>\n",
       "      <td>11</td>\n",
       "      <td>6.0</td>\n",
       "      <td>2.585714</td>\n",
       "      <td>-0.171429</td>\n",
       "    </tr>\n",
       "    <tr>\n",
       "      <th>4</th>\n",
       "      <td>3329279</td>\n",
       "      <td>10</td>\n",
       "      <td>6.0</td>\n",
       "      <td>2.585714</td>\n",
       "      <td>-0.171429</td>\n",
       "    </tr>\n",
       "  </tbody>\n",
       "</table>\n",
       "</div>"
      ],
      "text/plain": [
       "        id  Semana  size         w0        w1\n",
       "0       11      10   7.0   2.000000  0.000000\n",
       "1       22      10   6.0  15.809524 -0.714286\n",
       "2  4677681      11   6.0  15.809524 -0.714286\n",
       "3       23      11   6.0   2.585714 -0.171429\n",
       "4  3329279      10   6.0   2.585714 -0.171429"
      ]
     },
     "execution_count": 84,
     "metadata": {},
     "output_type": "execute_result"
    }
   ],
   "source": [
    "test.drop(groupby, axis=1, inplace=True)\n",
    "test.head()"
   ]
  },
  {
   "cell_type": "code",
   "execution_count": 85,
   "metadata": {
    "collapsed": false
   },
   "outputs": [
    {
     "data": {
      "text/plain": [
       "1447903"
      ]
     },
     "execution_count": 85,
     "metadata": {},
     "output_type": "execute_result"
    }
   ],
   "source": [
    "len(test)"
   ]
  },
  {
   "cell_type": "code",
   "execution_count": 86,
   "metadata": {
    "collapsed": false
   },
   "outputs": [
    {
     "data": {
      "text/html": [
       "<div>\n",
       "<table border=\"1\" class=\"dataframe\">\n",
       "  <thead>\n",
       "    <tr style=\"text-align: right;\">\n",
       "      <th></th>\n",
       "      <th>id</th>\n",
       "      <th>Semana</th>\n",
       "      <th>size</th>\n",
       "      <th>w0</th>\n",
       "      <th>w1</th>\n",
       "      <th>Demanda_uni_equil</th>\n",
       "    </tr>\n",
       "  </thead>\n",
       "  <tbody>\n",
       "    <tr>\n",
       "      <th>1447898</th>\n",
       "      <td>6999198</td>\n",
       "      <td>10</td>\n",
       "      <td>7.0</td>\n",
       "      <td>3.357143</td>\n",
       "      <td>1.535714</td>\n",
       "      <td>18.714286</td>\n",
       "    </tr>\n",
       "    <tr>\n",
       "      <th>1447899</th>\n",
       "      <td>6999206</td>\n",
       "      <td>11</td>\n",
       "      <td>6.0</td>\n",
       "      <td>3.761905</td>\n",
       "      <td>24.285714</td>\n",
       "      <td>270.904762</td>\n",
       "    </tr>\n",
       "    <tr>\n",
       "      <th>1447900</th>\n",
       "      <td>6999223</td>\n",
       "      <td>10</td>\n",
       "      <td>6.0</td>\n",
       "      <td>4.900000</td>\n",
       "      <td>-0.100000</td>\n",
       "      <td>3.900000</td>\n",
       "    </tr>\n",
       "    <tr>\n",
       "      <th>1447901</th>\n",
       "      <td>6999230</td>\n",
       "      <td>11</td>\n",
       "      <td>7.0</td>\n",
       "      <td>65.714286</td>\n",
       "      <td>1.071429</td>\n",
       "      <td>77.500000</td>\n",
       "    </tr>\n",
       "    <tr>\n",
       "      <th>1447902</th>\n",
       "      <td>6999235</td>\n",
       "      <td>11</td>\n",
       "      <td>7.0</td>\n",
       "      <td>8.500000</td>\n",
       "      <td>-0.392857</td>\n",
       "      <td>4.178571</td>\n",
       "    </tr>\n",
       "  </tbody>\n",
       "</table>\n",
       "</div>"
      ],
      "text/plain": [
       "              id  Semana  size         w0         w1  Demanda_uni_equil\n",
       "1447898  6999198      10   7.0   3.357143   1.535714          18.714286\n",
       "1447899  6999206      11   6.0   3.761905  24.285714         270.904762\n",
       "1447900  6999223      10   6.0   4.900000  -0.100000           3.900000\n",
       "1447901  6999230      11   7.0  65.714286   1.071429          77.500000\n",
       "1447902  6999235      11   7.0   8.500000  -0.392857           4.178571"
      ]
     },
     "execution_count": 86,
     "metadata": {},
     "output_type": "execute_result"
    }
   ],
   "source": [
    "test[target] = test['w0'] + test['w1']*test['Semana']\n",
    "test.tail()"
   ]
  },
  {
   "cell_type": "code",
   "execution_count": 87,
   "metadata": {
    "collapsed": false
   },
   "outputs": [
    {
     "data": {
      "text/plain": [
       "1447903"
      ]
     },
     "execution_count": 87,
     "metadata": {},
     "output_type": "execute_result"
    }
   ],
   "source": [
    "len(test)"
   ]
  },
  {
   "cell_type": "code",
   "execution_count": 88,
   "metadata": {
    "collapsed": false
   },
   "outputs": [
    {
     "data": {
      "text/plain": [
       "1431603"
      ]
     },
     "execution_count": 88,
     "metadata": {},
     "output_type": "execute_result"
    }
   ],
   "source": [
    "test = test[test[target] >= 0]\n",
    "len(test)"
   ]
  },
  {
   "cell_type": "raw",
   "metadata": {},
   "source": [
    "test.loc[test[target] < 0, target] = 0"
   ]
  },
  {
   "cell_type": "code",
   "execution_count": 89,
   "metadata": {
    "collapsed": false
   },
   "outputs": [
    {
     "data": {
      "text/plain": [
       "count    1.431603e+06\n",
       "mean     1.379516e+01\n",
       "std      3.648316e+01\n",
       "min      0.000000e+00\n",
       "25%      2.952381e+00\n",
       "50%      5.838095e+00\n",
       "75%      1.260000e+01\n",
       "max      3.637217e+03\n",
       "Name: Demanda_uni_equil, dtype: float64"
      ]
     },
     "execution_count": 89,
     "metadata": {},
     "output_type": "execute_result"
    }
   ],
   "source": [
    "test[target].describe()"
   ]
  },
  {
   "cell_type": "code",
   "execution_count": 90,
   "metadata": {
    "collapsed": false
   },
   "outputs": [
    {
     "data": {
      "text/html": [
       "<div>\n",
       "<table border=\"1\" class=\"dataframe\">\n",
       "  <thead>\n",
       "    <tr style=\"text-align: right;\">\n",
       "      <th></th>\n",
       "      <th>id</th>\n",
       "      <th>Demanda_uni_equil</th>\n",
       "    </tr>\n",
       "  </thead>\n",
       "  <tbody>\n",
       "    <tr>\n",
       "      <th>0</th>\n",
       "      <td>11</td>\n",
       "      <td>2.000000</td>\n",
       "    </tr>\n",
       "    <tr>\n",
       "      <th>1</th>\n",
       "      <td>22</td>\n",
       "      <td>8.666667</td>\n",
       "    </tr>\n",
       "    <tr>\n",
       "      <th>2</th>\n",
       "      <td>4677681</td>\n",
       "      <td>7.952381</td>\n",
       "    </tr>\n",
       "    <tr>\n",
       "      <th>3</th>\n",
       "      <td>23</td>\n",
       "      <td>0.700000</td>\n",
       "    </tr>\n",
       "    <tr>\n",
       "      <th>4</th>\n",
       "      <td>3329279</td>\n",
       "      <td>0.871429</td>\n",
       "    </tr>\n",
       "  </tbody>\n",
       "</table>\n",
       "</div>"
      ],
      "text/plain": [
       "        id  Demanda_uni_equil\n",
       "0       11           2.000000\n",
       "1       22           8.666667\n",
       "2  4677681           7.952381\n",
       "3       23           0.700000\n",
       "4  3329279           0.871429"
      ]
     },
     "execution_count": 90,
     "metadata": {},
     "output_type": "execute_result"
    }
   ],
   "source": [
    "test.drop(['Semana', 'w0', 'w1', 'size'], axis=1, inplace=True)\n",
    "test.head()"
   ]
  },
  {
   "cell_type": "code",
   "execution_count": 91,
   "metadata": {
    "collapsed": true
   },
   "outputs": [],
   "source": [
    "test.to_csv('input/train_test_p_6_7.csv', index=False)"
   ]
  },
  {
   "cell_type": "markdown",
   "metadata": {
    "collapsed": true
   },
   "source": [
    "## Divide 12345 by sizes"
   ]
  },
  {
   "cell_type": "code",
   "execution_count": 4,
   "metadata": {
    "collapsed": false
   },
   "outputs": [
    {
     "name": "stdout",
     "output_type": "stream",
     "text": [
      "output/outliers11/\n",
      "12345s (created)  \n"
     ]
    },
    {
     "data": {
      "text/plain": [
       "'Done'"
      ]
     },
     "execution_count": 4,
     "metadata": {},
     "output_type": "execute_result"
    }
   ],
   "source": [
    "train = pd.read_csv('input/train.csv', dtype = dtype_dict, usecols = train_cols_Semana) #, nrows = 1e6\n",
    "build_all_features(train, target, ['12345s'], folder = output_folder, overwrite = True)"
   ]
  },
  {
   "cell_type": "code",
   "execution_count": 5,
   "metadata": {
    "collapsed": false
   },
   "outputs": [
    {
     "data": {
      "text/html": [
       "<div>\n",
       "<table border=\"1\" class=\"dataframe\">\n",
       "  <thead>\n",
       "    <tr style=\"text-align: right;\">\n",
       "      <th></th>\n",
       "      <th>Cliente_ID</th>\n",
       "      <th>Producto_ID</th>\n",
       "      <th>Canal_ID</th>\n",
       "      <th>Ruta_SAK</th>\n",
       "      <th>Agencia_ID</th>\n",
       "      <th>size</th>\n",
       "    </tr>\n",
       "  </thead>\n",
       "  <tbody>\n",
       "    <tr>\n",
       "      <th>0</th>\n",
       "      <td>26.0</td>\n",
       "      <td>1182.0</td>\n",
       "      <td>2.0</td>\n",
       "      <td>7212.0</td>\n",
       "      <td>2061.0</td>\n",
       "      <td>3.0</td>\n",
       "    </tr>\n",
       "    <tr>\n",
       "      <th>1</th>\n",
       "      <td>26.0</td>\n",
       "      <td>4767.0</td>\n",
       "      <td>2.0</td>\n",
       "      <td>7212.0</td>\n",
       "      <td>2061.0</td>\n",
       "      <td>3.0</td>\n",
       "    </tr>\n",
       "    <tr>\n",
       "      <th>2</th>\n",
       "      <td>26.0</td>\n",
       "      <td>30235.0</td>\n",
       "      <td>2.0</td>\n",
       "      <td>4189.0</td>\n",
       "      <td>2655.0</td>\n",
       "      <td>1.0</td>\n",
       "    </tr>\n",
       "    <tr>\n",
       "      <th>3</th>\n",
       "      <td>26.0</td>\n",
       "      <td>30314.0</td>\n",
       "      <td>2.0</td>\n",
       "      <td>4189.0</td>\n",
       "      <td>2655.0</td>\n",
       "      <td>1.0</td>\n",
       "    </tr>\n",
       "    <tr>\n",
       "      <th>4</th>\n",
       "      <td>26.0</td>\n",
       "      <td>31393.0</td>\n",
       "      <td>2.0</td>\n",
       "      <td>7212.0</td>\n",
       "      <td>2061.0</td>\n",
       "      <td>7.0</td>\n",
       "    </tr>\n",
       "  </tbody>\n",
       "</table>\n",
       "</div>"
      ],
      "text/plain": [
       "   Cliente_ID  Producto_ID  Canal_ID  Ruta_SAK  Agencia_ID  size\n",
       "0        26.0       1182.0       2.0    7212.0      2061.0   3.0\n",
       "1        26.0       4767.0       2.0    7212.0      2061.0   3.0\n",
       "2        26.0      30235.0       2.0    4189.0      2655.0   1.0\n",
       "3        26.0      30314.0       2.0    4189.0      2655.0   1.0\n",
       "4        26.0      31393.0       2.0    7212.0      2061.0   7.0"
      ]
     },
     "execution_count": 5,
     "metadata": {},
     "output_type": "execute_result"
    }
   ],
   "source": [
    "f = get_feature('12345s', folder = output_folder, dtype = float)\n",
    "f.head()"
   ]
  },
  {
   "cell_type": "code",
   "execution_count": 6,
   "metadata": {
    "collapsed": false
   },
   "outputs": [
    {
     "data": {
      "text/plain": [
       "26396648"
      ]
     },
     "execution_count": 6,
     "metadata": {},
     "output_type": "execute_result"
    }
   ],
   "source": [
    "len(f)"
   ]
  },
  {
   "cell_type": "code",
   "execution_count": 7,
   "metadata": {
    "collapsed": true
   },
   "outputs": [],
   "source": [
    "f = f[f['size']>3]"
   ]
  },
  {
   "cell_type": "code",
   "execution_count": 8,
   "metadata": {
    "collapsed": false
   },
   "outputs": [
    {
     "data": {
      "text/plain": [
       "7907161"
      ]
     },
     "execution_count": 8,
     "metadata": {},
     "output_type": "execute_result"
    }
   ],
   "source": [
    "len(f)"
   ]
  },
  {
   "cell_type": "code",
   "execution_count": 10,
   "metadata": {
    "collapsed": false
   },
   "outputs": [
    {
     "data": {
      "text/plain": [
       "26396648"
      ]
     },
     "execution_count": 10,
     "metadata": {},
     "output_type": "execute_result"
    }
   ],
   "source": [
    "train = pd.read_csv(output_folder + '12345_.csv', dtype = float) #, nrows = 1e6\n",
    "len(train)"
   ]
  },
  {
   "cell_type": "code",
   "execution_count": 11,
   "metadata": {
    "collapsed": false
   },
   "outputs": [
    {
     "data": {
      "text/html": [
       "<div>\n",
       "<table border=\"1\" class=\"dataframe\">\n",
       "  <thead>\n",
       "    <tr style=\"text-align: right;\">\n",
       "      <th></th>\n",
       "      <th>Cliente_ID</th>\n",
       "      <th>Producto_ID</th>\n",
       "      <th>Canal_ID</th>\n",
       "      <th>Ruta_SAK</th>\n",
       "      <th>Agencia_ID</th>\n",
       "      <th>12345</th>\n",
       "    </tr>\n",
       "  </thead>\n",
       "  <tbody>\n",
       "    <tr>\n",
       "      <th>0</th>\n",
       "      <td>26.0</td>\n",
       "      <td>31393.0</td>\n",
       "      <td>2.0</td>\n",
       "      <td>7212.0</td>\n",
       "      <td>2061.0</td>\n",
       "      <td>17.000000</td>\n",
       "    </tr>\n",
       "    <tr>\n",
       "      <th>1</th>\n",
       "      <td>26.0</td>\n",
       "      <td>33246.0</td>\n",
       "      <td>2.0</td>\n",
       "      <td>4189.0</td>\n",
       "      <td>2655.0</td>\n",
       "      <td>18.000000</td>\n",
       "    </tr>\n",
       "    <tr>\n",
       "      <th>2</th>\n",
       "      <td>26.0</td>\n",
       "      <td>34204.0</td>\n",
       "      <td>2.0</td>\n",
       "      <td>7212.0</td>\n",
       "      <td>2061.0</td>\n",
       "      <td>38.333333</td>\n",
       "    </tr>\n",
       "    <tr>\n",
       "      <th>3</th>\n",
       "      <td>26.0</td>\n",
       "      <td>34206.0</td>\n",
       "      <td>2.0</td>\n",
       "      <td>7212.0</td>\n",
       "      <td>2061.0</td>\n",
       "      <td>86.285714</td>\n",
       "    </tr>\n",
       "    <tr>\n",
       "      <th>4</th>\n",
       "      <td>26.0</td>\n",
       "      <td>34210.0</td>\n",
       "      <td>2.0</td>\n",
       "      <td>7212.0</td>\n",
       "      <td>2061.0</td>\n",
       "      <td>33.166667</td>\n",
       "    </tr>\n",
       "  </tbody>\n",
       "</table>\n",
       "</div>"
      ],
      "text/plain": [
       "   Cliente_ID  Producto_ID  Canal_ID  Ruta_SAK  Agencia_ID      12345\n",
       "0        26.0      31393.0       2.0    7212.0      2061.0  17.000000\n",
       "1        26.0      33246.0       2.0    4189.0      2655.0  18.000000\n",
       "2        26.0      34204.0       2.0    7212.0      2061.0  38.333333\n",
       "3        26.0      34206.0       2.0    7212.0      2061.0  86.285714\n",
       "4        26.0      34210.0       2.0    7212.0      2061.0  33.166667"
      ]
     },
     "execution_count": 11,
     "metadata": {},
     "output_type": "execute_result"
    }
   ],
   "source": [
    "groupby = get_cols('12345s')\n",
    "train = pd.merge(train, f, how='inner', on = groupby)\n",
    "train.drop('size', axis=1, inplace=True)\n",
    "train.head()"
   ]
  },
  {
   "cell_type": "code",
   "execution_count": 13,
   "metadata": {
    "collapsed": false
   },
   "outputs": [
    {
     "data": {
      "text/plain": [
       "7907161"
      ]
     },
     "execution_count": 13,
     "metadata": {},
     "output_type": "execute_result"
    }
   ],
   "source": [
    "len(train)"
   ]
  },
  {
   "cell_type": "code",
   "execution_count": 14,
   "metadata": {
    "collapsed": true
   },
   "outputs": [],
   "source": [
    "train.to_csv(output_folder + '12345.csv', index=False)"
   ]
  },
  {
   "cell_type": "code",
   "execution_count": null,
   "metadata": {
    "collapsed": true
   },
   "outputs": [],
   "source": []
  }
 ],
 "metadata": {
  "anaconda-cloud": {},
  "kernelspec": {
   "display_name": "Python [Root]",
   "language": "python",
   "name": "Python [Root]"
  },
  "language_info": {
   "codemirror_mode": {
    "name": "ipython",
    "version": 2
   },
   "file_extension": ".py",
   "mimetype": "text/x-python",
   "name": "python",
   "nbconvert_exporter": "python",
   "pygments_lexer": "ipython2",
   "version": "2.7.11"
  }
 },
 "nbformat": 4,
 "nbformat_minor": 0
}
