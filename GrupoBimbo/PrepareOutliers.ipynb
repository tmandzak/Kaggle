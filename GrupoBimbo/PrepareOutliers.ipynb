{
 "cells": [
  {
   "cell_type": "code",
   "execution_count": 1,
   "metadata": {
    "collapsed": false
   },
   "outputs": [],
   "source": [
    "import pandas as pd\n",
    "import numpy as np\n",
    "import math\n",
    "from sklearn import linear_model\n",
    "from sklearn.cross_validation import train_test_split\n",
    "from sklearn.metrics import mean_squared_error\n",
    "from scipy import stats\n",
    "from scipy.optimize import minimize\n",
    "from scipy.optimize import leastsq\n",
    "#from scipy.optimize import least_squares\n",
    "import matplotlib.pyplot as plt\n",
    "%matplotlib inline\n",
    "import os.path \n"
   ]
  },
  {
   "cell_type": "code",
   "execution_count": 10,
   "metadata": {
    "collapsed": false
   },
   "outputs": [],
   "source": [
    "%run 'Features.ipynb'"
   ]
  },
  {
   "cell_type": "code",
   "execution_count": null,
   "metadata": {
    "collapsed": false
   },
   "outputs": [],
   "source": [
    "train = pd.read_csv('input/train.csv', dtype = dtype_dict, usecols = train_cols_Semana) #, nrows = 1e6\n",
    "#train['id'] = np.linspace(start = 0, stop = len(train)-1, num = len(train), dtype = int)\n",
    "#train['out'] = np.ones(len(train), dtype = int)\n",
    "train.head()"
   ]
  },
  {
   "cell_type": "code",
   "execution_count": null,
   "metadata": {
    "collapsed": false
   },
   "outputs": [],
   "source": [
    "build_all_features(train, target, ['12345s'], folder = output_folder, overwrite = True)\n",
    "f = get_feature('12345s', folder = output_folder, dtype = float)\n",
    "f.head()"
   ]
  },
  {
   "cell_type": "code",
   "execution_count": null,
   "metadata": {
    "collapsed": false
   },
   "outputs": [],
   "source": [
    "whisker_upper = 1.5*IQR*np.exp(4*mc)\n"
   ]
  },
  {
   "cell_type": "markdown",
   "metadata": {},
   "source": [
    "## Build features for train data "
   ]
  },
  {
   "cell_type": "code",
   "execution_count": 3,
   "metadata": {
    "collapsed": false
   },
   "outputs": [
    {
     "data": {
      "text/plain": [
       "26396648"
      ]
     },
     "execution_count": 3,
     "metadata": {},
     "output_type": "execute_result"
    }
   ],
   "source": [
    "f = get_feature('12345_', folder = output_folder, dtype = float)\n",
    "len(f)"
   ]
  },
  {
   "cell_type": "code",
   "execution_count": 4,
   "metadata": {
    "collapsed": true
   },
   "outputs": [],
   "source": [
    "feature_full_list_o = ['1245o', '1234o', '124o', '1235o', '125o', '123o', '12o', '2345o',\n",
    "                     '245o', '234o', '24o', '235o', '25o', '1345o', '145o', '134o', '14o', '23o',\n",
    "                     '135o', '15o', '13o', '1o', '2o', '345o', '45o', '34o', '35o', '4o', '5o', '3o']"
   ]
  },
  {
   "cell_type": "code",
   "execution_count": 5,
   "metadata": {
    "collapsed": false
   },
   "outputs": [
    {
     "name": "stdout",
     "output_type": "stream",
     "text": [
      "output/outliers11/\n",
      "1245o \n",
      "1234o \n",
      "124o \n",
      "1235o \n",
      "125o \n",
      "123o \n",
      "12o \n",
      "2345o \n",
      "245o \n",
      "234o \n",
      "24o \n",
      "235o \n",
      "25o \n",
      "1345o \n",
      "145o \n",
      "134o \n",
      "14o \n",
      "23o \n",
      "135o \n",
      "15o \n",
      "13o \n",
      "1o (created)  \n",
      "2o \n",
      "345o \n",
      "45o \n",
      "34o \n",
      "35o \n",
      "4o \n",
      "5o \n",
      "3o \n"
     ]
    },
    {
     "data": {
      "text/plain": [
       "'Done'"
      ]
     },
     "execution_count": 5,
     "metadata": {},
     "output_type": "execute_result"
    }
   ],
   "source": [
    "build_all_features(f, '12345', feature_full_list_o, folder = output_folder, overwrite = False)"
   ]
  },
  {
   "cell_type": "code",
   "execution_count": 6,
   "metadata": {
    "collapsed": false
   },
   "outputs": [
    {
     "data": {
      "text/plain": [
       "7907161"
      ]
     },
     "execution_count": 6,
     "metadata": {},
     "output_type": "execute_result"
    }
   ],
   "source": [
    "features_to_train = ['1245o 3o', '1234o 5o', '1235o 4o', '2345o 1o', '245o 3o 1o', '245o 13o', '245o 1o', '245o 3o', \n",
    "                     '234o 15o', '234o 1o 5o', '234o 1o', '234o 5o', '235o 14o', '235o 1o', '235o 4o',\n",
    "                    '235o 1o 4o', '1345o 2o']\n",
    "\n",
    "#features_to_train = ['2345o 1o']\n",
    "\n",
    "f4 = get_feature('12345', folder = output_folder, dtype = float)\n",
    "len(f4)\n"
   ]
  },
  {
   "cell_type": "code",
   "execution_count": 11,
   "metadata": {
    "collapsed": false
   },
   "outputs": [
    {
     "data": {
      "text/html": [
       "<div>\n",
       "<table border=\"1\" class=\"dataframe\">\n",
       "  <thead>\n",
       "    <tr style=\"text-align: right;\">\n",
       "      <th></th>\n",
       "      <th>Cliente_ID</th>\n",
       "      <th>Producto_ID</th>\n",
       "      <th>Canal_ID</th>\n",
       "      <th>Ruta_SAK</th>\n",
       "      <th>Agencia_ID</th>\n",
       "      <th>12345</th>\n",
       "    </tr>\n",
       "  </thead>\n",
       "  <tbody>\n",
       "    <tr>\n",
       "      <th>0</th>\n",
       "      <td>26.0</td>\n",
       "      <td>31393.0</td>\n",
       "      <td>2.0</td>\n",
       "      <td>7212.0</td>\n",
       "      <td>2061.0</td>\n",
       "      <td>17.000000</td>\n",
       "    </tr>\n",
       "    <tr>\n",
       "      <th>1</th>\n",
       "      <td>26.0</td>\n",
       "      <td>33246.0</td>\n",
       "      <td>2.0</td>\n",
       "      <td>4189.0</td>\n",
       "      <td>2655.0</td>\n",
       "      <td>18.000000</td>\n",
       "    </tr>\n",
       "    <tr>\n",
       "      <th>2</th>\n",
       "      <td>26.0</td>\n",
       "      <td>34204.0</td>\n",
       "      <td>2.0</td>\n",
       "      <td>7212.0</td>\n",
       "      <td>2061.0</td>\n",
       "      <td>38.333333</td>\n",
       "    </tr>\n",
       "    <tr>\n",
       "      <th>3</th>\n",
       "      <td>26.0</td>\n",
       "      <td>34206.0</td>\n",
       "      <td>2.0</td>\n",
       "      <td>7212.0</td>\n",
       "      <td>2061.0</td>\n",
       "      <td>86.285714</td>\n",
       "    </tr>\n",
       "    <tr>\n",
       "      <th>4</th>\n",
       "      <td>26.0</td>\n",
       "      <td>34210.0</td>\n",
       "      <td>2.0</td>\n",
       "      <td>7212.0</td>\n",
       "      <td>2061.0</td>\n",
       "      <td>33.166667</td>\n",
       "    </tr>\n",
       "  </tbody>\n",
       "</table>\n",
       "</div>"
      ],
      "text/plain": [
       "   Cliente_ID  Producto_ID  Canal_ID  Ruta_SAK  Agencia_ID      12345\n",
       "0        26.0      31393.0       2.0    7212.0      2061.0  17.000000\n",
       "1        26.0      33246.0       2.0    4189.0      2655.0  18.000000\n",
       "2        26.0      34204.0       2.0    7212.0      2061.0  38.333333\n",
       "3        26.0      34206.0       2.0    7212.0      2061.0  86.285714\n",
       "4        26.0      34210.0       2.0    7212.0      2061.0  33.166667"
      ]
     },
     "execution_count": 11,
     "metadata": {},
     "output_type": "execute_result"
    }
   ],
   "source": [
    "f4.head()"
   ]
  },
  {
   "cell_type": "code",
   "execution_count": 7,
   "metadata": {
    "collapsed": false
   },
   "outputs": [
    {
     "name": "stdout",
     "output_type": "stream",
     "text": [
      "Merge  1245o 3o\n",
      "Train...\n",
      "Merge  1234o 5o\n",
      "Train...\n",
      "Merge  1235o 4o\n",
      "Train...\n",
      "Merge  2345o 1o\n",
      "Train...\n",
      "Merge  245o 3o 1o\n",
      "Train...\n",
      "Merge  245o 13o\n",
      "Train...\n",
      "Merge  245o 1o\n",
      "Train...\n",
      "Merge  245o 3o\n",
      "Train...\n",
      "Merge  234o 15o\n",
      "Train...\n",
      "Merge  234o 1o 5o\n",
      "Train...\n",
      "Merge  234o 1o\n",
      "Train...\n",
      "Merge  234o 5o\n",
      "Train...\n",
      "Merge  235o 14o\n",
      "Train...\n",
      "Merge  235o 1o\n",
      "Train...\n",
      "Merge  235o 4o\n",
      "Train...\n",
      "Merge  235o 1o 4o\n",
      "Train...\n",
      "Merge  1345o 2o\n",
      "Train...\n",
      "'1245o 3o': 0.0130725764503\n",
      "'245o 3o 1o': 71.540556252\n",
      "'245o 13o': 72.9681193403\n",
      "'245o 1o': 73.6064296628\n",
      "'2345o 1o': 73.6101530388\n",
      "'245o 3o': 111.866785255\n",
      "'234o 1o 5o': 156.579250529\n",
      "'234o 15o': 162.585484059\n",
      "'234o 1o': 166.342126824\n",
      "'235o 14o': 166.729309222\n",
      "'235o 1o 4o': 170.163471208\n",
      "'235o 1o': 177.42599617\n",
      "'234o 5o': 217.919400881\n",
      "'1345o 2o': 225.283448876\n",
      "'235o 4o': 227.965828817\n",
      "'1235o 4o': 5652.13856864\n",
      "'1234o 5o': 7344.90269912\n",
      "['1245o 3o', '245o 3o 1o', '245o 13o', '245o 1o', '2345o 1o', '245o 3o', '234o 1o 5o', '234o 15o', '234o 1o', '235o 14o', '235o 1o 4o', '235o 1o', '234o 5o', '1345o 2o', '235o 4o', '1235o 4o', '1234o 5o']\n"
     ]
    },
    {
     "data": {
      "text/plain": [
       "['1245o 3o',\n",
       " '245o 3o 1o',\n",
       " '245o 13o',\n",
       " '245o 1o',\n",
       " '2345o 1o',\n",
       " '245o 3o',\n",
       " '234o 1o 5o',\n",
       " '234o 15o',\n",
       " '234o 1o',\n",
       " '235o 14o',\n",
       " '235o 1o 4o',\n",
       " '235o 1o',\n",
       " '234o 5o',\n",
       " '1345o 2o',\n",
       " '235o 4o',\n",
       " '1235o 4o',\n",
       " '1234o 5o']"
      ]
     },
     "execution_count": 7,
     "metadata": {},
     "output_type": "execute_result"
    }
   ],
   "source": [
    "train_all_features(f4, '12345', features_to_train,  output_folder)"
   ]
  },
  {
   "cell_type": "code",
   "execution_count": 12,
   "metadata": {
    "collapsed": false
   },
   "outputs": [
    {
     "name": "stdout",
     "output_type": "stream",
     "text": [
      "Start\n",
      "1245o  :  0.013072953134\n",
      "1234o  :  7621.50637363\n",
      "124o  :  7621.50637363\n",
      "1235o  :  5672.86753389\n",
      "125o  :  5672.86753389\n",
      "123o  :  8674.24599827\n",
      "12o  :  8690.46999565\n",
      "2345o  :  114.233611996\n",
      "245o  :  114.231657048\n",
      "234o  :  223.33235198\n",
      "24o  :  220.502206885\n",
      "235o  :  232.914316384\n",
      "25o  :  245.482613968\n",
      "1345o  :  288.871472885\n",
      "145o  :  288.873309907\n",
      "134o  :  291.70177764\n",
      "14o  :  291.703608297\n",
      "23o  :  306.617412548\n",
      "135o  :  299.328852806\n",
      "15o  :  299.738463004\n",
      "13o  :  317.87564061\n",
      "1o  :  321.046768249\n",
      "2o  :  373.483201457\n",
      "345o  :  386.990601623\n",
      "45o  :  386.995756089\n",
      "34o  :  421.61353587\n",
      "35o  :  419.99532615\n",
      "4o  :  431.400246065\n",
      "5o  :  436.145527444\n",
      "3o  :  445.719159039\n"
     ]
    },
    {
     "ename": "KeyError",
     "evalue": "'1245o 3o'",
     "output_type": "error",
     "traceback": [
      "\u001b[1;31m---------------------------------------------------------------------------\u001b[0m",
      "\u001b[1;31mKeyError\u001b[0m                                  Traceback (most recent call last)",
      "\u001b[1;32m<ipython-input-12-f231a2d53d85>\u001b[0m in \u001b[0;36m<module>\u001b[1;34m()\u001b[0m\n\u001b[1;32m----> 1\u001b[1;33m \u001b[0msort_features\u001b[0m\u001b[1;33m(\u001b[0m\u001b[0mf4\u001b[0m\u001b[1;33m,\u001b[0m \u001b[1;34m'12345'\u001b[0m\u001b[1;33m,\u001b[0m \u001b[0mfeature_full_list_o\u001b[0m \u001b[1;33m+\u001b[0m \u001b[0mfeatures_to_train\u001b[0m\u001b[1;33m,\u001b[0m \u001b[0mfolder\u001b[0m \u001b[1;33m=\u001b[0m \u001b[0moutput_folder\u001b[0m\u001b[1;33m)\u001b[0m\u001b[1;33m\u001b[0m\u001b[0m\n\u001b[0m",
      "\u001b[1;32m<ipython-input-10-4a0cdd223769>\u001b[0m in \u001b[0;36msort_features\u001b[1;34m(data, target, features, folder)\u001b[0m\n\u001b[0;32m      4\u001b[0m     \u001b[1;32mfor\u001b[0m \u001b[0mfeature\u001b[0m \u001b[1;32min\u001b[0m \u001b[0mfeatures\u001b[0m\u001b[1;33m:\u001b[0m\u001b[1;33m\u001b[0m\u001b[0m\n\u001b[0;32m      5\u001b[0m         \u001b[0mdata\u001b[0m \u001b[1;33m=\u001b[0m \u001b[0mmerge_new_feature\u001b[0m\u001b[1;33m(\u001b[0m\u001b[0mdata\u001b[0m\u001b[1;33m,\u001b[0m \u001b[0mfeature\u001b[0m\u001b[1;33m,\u001b[0m \u001b[0mfolder\u001b[0m\u001b[1;33m)\u001b[0m\u001b[1;33m\u001b[0m\u001b[0m\n\u001b[1;32m----> 6\u001b[1;33m         \u001b[0me\u001b[0m \u001b[1;33m=\u001b[0m \u001b[0mdata\u001b[0m\u001b[1;33m[\u001b[0m\u001b[0mtarget\u001b[0m\u001b[1;33m]\u001b[0m \u001b[1;33m-\u001b[0m \u001b[0mdata\u001b[0m\u001b[1;33m[\u001b[0m\u001b[0mfeature\u001b[0m\u001b[1;33m]\u001b[0m\u001b[1;33m\u001b[0m\u001b[0m\n\u001b[0m\u001b[0;32m      7\u001b[0m         \u001b[1;32mdel\u001b[0m \u001b[0mdata\u001b[0m\u001b[1;33m[\u001b[0m\u001b[0mfeature\u001b[0m\u001b[1;33m]\u001b[0m\u001b[1;33m\u001b[0m\u001b[0m\n\u001b[0;32m      8\u001b[0m         \u001b[0me\u001b[0m \u001b[1;33m=\u001b[0m \u001b[0me\u001b[0m\u001b[1;33m[\u001b[0m\u001b[0mpd\u001b[0m\u001b[1;33m.\u001b[0m\u001b[0mnotnull\u001b[0m\u001b[1;33m(\u001b[0m\u001b[0me\u001b[0m\u001b[1;33m)\u001b[0m\u001b[1;33m]\u001b[0m\u001b[1;33m\u001b[0m\u001b[0m\n",
      "\u001b[1;32mD:\\Anaconda2\\lib\\site-packages\\pandas\\core\\frame.pyc\u001b[0m in \u001b[0;36m__getitem__\u001b[1;34m(self, key)\u001b[0m\n\u001b[0;32m   1995\u001b[0m             \u001b[1;32mreturn\u001b[0m \u001b[0mself\u001b[0m\u001b[1;33m.\u001b[0m\u001b[0m_getitem_multilevel\u001b[0m\u001b[1;33m(\u001b[0m\u001b[0mkey\u001b[0m\u001b[1;33m)\u001b[0m\u001b[1;33m\u001b[0m\u001b[0m\n\u001b[0;32m   1996\u001b[0m         \u001b[1;32melse\u001b[0m\u001b[1;33m:\u001b[0m\u001b[1;33m\u001b[0m\u001b[0m\n\u001b[1;32m-> 1997\u001b[1;33m             \u001b[1;32mreturn\u001b[0m \u001b[0mself\u001b[0m\u001b[1;33m.\u001b[0m\u001b[0m_getitem_column\u001b[0m\u001b[1;33m(\u001b[0m\u001b[0mkey\u001b[0m\u001b[1;33m)\u001b[0m\u001b[1;33m\u001b[0m\u001b[0m\n\u001b[0m\u001b[0;32m   1998\u001b[0m \u001b[1;33m\u001b[0m\u001b[0m\n\u001b[0;32m   1999\u001b[0m     \u001b[1;32mdef\u001b[0m \u001b[0m_getitem_column\u001b[0m\u001b[1;33m(\u001b[0m\u001b[0mself\u001b[0m\u001b[1;33m,\u001b[0m \u001b[0mkey\u001b[0m\u001b[1;33m)\u001b[0m\u001b[1;33m:\u001b[0m\u001b[1;33m\u001b[0m\u001b[0m\n",
      "\u001b[1;32mD:\\Anaconda2\\lib\\site-packages\\pandas\\core\\frame.pyc\u001b[0m in \u001b[0;36m_getitem_column\u001b[1;34m(self, key)\u001b[0m\n\u001b[0;32m   2002\u001b[0m         \u001b[1;31m# get column\u001b[0m\u001b[1;33m\u001b[0m\u001b[1;33m\u001b[0m\u001b[0m\n\u001b[0;32m   2003\u001b[0m         \u001b[1;32mif\u001b[0m \u001b[0mself\u001b[0m\u001b[1;33m.\u001b[0m\u001b[0mcolumns\u001b[0m\u001b[1;33m.\u001b[0m\u001b[0mis_unique\u001b[0m\u001b[1;33m:\u001b[0m\u001b[1;33m\u001b[0m\u001b[0m\n\u001b[1;32m-> 2004\u001b[1;33m             \u001b[1;32mreturn\u001b[0m \u001b[0mself\u001b[0m\u001b[1;33m.\u001b[0m\u001b[0m_get_item_cache\u001b[0m\u001b[1;33m(\u001b[0m\u001b[0mkey\u001b[0m\u001b[1;33m)\u001b[0m\u001b[1;33m\u001b[0m\u001b[0m\n\u001b[0m\u001b[0;32m   2005\u001b[0m \u001b[1;33m\u001b[0m\u001b[0m\n\u001b[0;32m   2006\u001b[0m         \u001b[1;31m# duplicate columns & possible reduce dimensionality\u001b[0m\u001b[1;33m\u001b[0m\u001b[1;33m\u001b[0m\u001b[0m\n",
      "\u001b[1;32mD:\\Anaconda2\\lib\\site-packages\\pandas\\core\\generic.pyc\u001b[0m in \u001b[0;36m_get_item_cache\u001b[1;34m(self, item)\u001b[0m\n\u001b[0;32m   1348\u001b[0m         \u001b[0mres\u001b[0m \u001b[1;33m=\u001b[0m \u001b[0mcache\u001b[0m\u001b[1;33m.\u001b[0m\u001b[0mget\u001b[0m\u001b[1;33m(\u001b[0m\u001b[0mitem\u001b[0m\u001b[1;33m)\u001b[0m\u001b[1;33m\u001b[0m\u001b[0m\n\u001b[0;32m   1349\u001b[0m         \u001b[1;32mif\u001b[0m \u001b[0mres\u001b[0m \u001b[1;32mis\u001b[0m \u001b[0mNone\u001b[0m\u001b[1;33m:\u001b[0m\u001b[1;33m\u001b[0m\u001b[0m\n\u001b[1;32m-> 1350\u001b[1;33m             \u001b[0mvalues\u001b[0m \u001b[1;33m=\u001b[0m \u001b[0mself\u001b[0m\u001b[1;33m.\u001b[0m\u001b[0m_data\u001b[0m\u001b[1;33m.\u001b[0m\u001b[0mget\u001b[0m\u001b[1;33m(\u001b[0m\u001b[0mitem\u001b[0m\u001b[1;33m)\u001b[0m\u001b[1;33m\u001b[0m\u001b[0m\n\u001b[0m\u001b[0;32m   1351\u001b[0m             \u001b[0mres\u001b[0m \u001b[1;33m=\u001b[0m \u001b[0mself\u001b[0m\u001b[1;33m.\u001b[0m\u001b[0m_box_item_values\u001b[0m\u001b[1;33m(\u001b[0m\u001b[0mitem\u001b[0m\u001b[1;33m,\u001b[0m \u001b[0mvalues\u001b[0m\u001b[1;33m)\u001b[0m\u001b[1;33m\u001b[0m\u001b[0m\n\u001b[0;32m   1352\u001b[0m             \u001b[0mcache\u001b[0m\u001b[1;33m[\u001b[0m\u001b[0mitem\u001b[0m\u001b[1;33m]\u001b[0m \u001b[1;33m=\u001b[0m \u001b[0mres\u001b[0m\u001b[1;33m\u001b[0m\u001b[0m\n",
      "\u001b[1;32mD:\\Anaconda2\\lib\\site-packages\\pandas\\core\\internals.pyc\u001b[0m in \u001b[0;36mget\u001b[1;34m(self, item, fastpath)\u001b[0m\n\u001b[0;32m   3288\u001b[0m \u001b[1;33m\u001b[0m\u001b[0m\n\u001b[0;32m   3289\u001b[0m             \u001b[1;32mif\u001b[0m \u001b[1;32mnot\u001b[0m \u001b[0misnull\u001b[0m\u001b[1;33m(\u001b[0m\u001b[0mitem\u001b[0m\u001b[1;33m)\u001b[0m\u001b[1;33m:\u001b[0m\u001b[1;33m\u001b[0m\u001b[0m\n\u001b[1;32m-> 3290\u001b[1;33m                 \u001b[0mloc\u001b[0m \u001b[1;33m=\u001b[0m \u001b[0mself\u001b[0m\u001b[1;33m.\u001b[0m\u001b[0mitems\u001b[0m\u001b[1;33m.\u001b[0m\u001b[0mget_loc\u001b[0m\u001b[1;33m(\u001b[0m\u001b[0mitem\u001b[0m\u001b[1;33m)\u001b[0m\u001b[1;33m\u001b[0m\u001b[0m\n\u001b[0m\u001b[0;32m   3291\u001b[0m             \u001b[1;32melse\u001b[0m\u001b[1;33m:\u001b[0m\u001b[1;33m\u001b[0m\u001b[0m\n\u001b[0;32m   3292\u001b[0m                 \u001b[0mindexer\u001b[0m \u001b[1;33m=\u001b[0m \u001b[0mnp\u001b[0m\u001b[1;33m.\u001b[0m\u001b[0marange\u001b[0m\u001b[1;33m(\u001b[0m\u001b[0mlen\u001b[0m\u001b[1;33m(\u001b[0m\u001b[0mself\u001b[0m\u001b[1;33m.\u001b[0m\u001b[0mitems\u001b[0m\u001b[1;33m)\u001b[0m\u001b[1;33m)\u001b[0m\u001b[1;33m[\u001b[0m\u001b[0misnull\u001b[0m\u001b[1;33m(\u001b[0m\u001b[0mself\u001b[0m\u001b[1;33m.\u001b[0m\u001b[0mitems\u001b[0m\u001b[1;33m)\u001b[0m\u001b[1;33m]\u001b[0m\u001b[1;33m\u001b[0m\u001b[0m\n",
      "\u001b[1;32mD:\\Anaconda2\\lib\\site-packages\\pandas\\indexes\\base.pyc\u001b[0m in \u001b[0;36mget_loc\u001b[1;34m(self, key, method, tolerance)\u001b[0m\n\u001b[0;32m   1945\u001b[0m                 \u001b[1;32mreturn\u001b[0m \u001b[0mself\u001b[0m\u001b[1;33m.\u001b[0m\u001b[0m_engine\u001b[0m\u001b[1;33m.\u001b[0m\u001b[0mget_loc\u001b[0m\u001b[1;33m(\u001b[0m\u001b[0mkey\u001b[0m\u001b[1;33m)\u001b[0m\u001b[1;33m\u001b[0m\u001b[0m\n\u001b[0;32m   1946\u001b[0m             \u001b[1;32mexcept\u001b[0m \u001b[0mKeyError\u001b[0m\u001b[1;33m:\u001b[0m\u001b[1;33m\u001b[0m\u001b[0m\n\u001b[1;32m-> 1947\u001b[1;33m                 \u001b[1;32mreturn\u001b[0m \u001b[0mself\u001b[0m\u001b[1;33m.\u001b[0m\u001b[0m_engine\u001b[0m\u001b[1;33m.\u001b[0m\u001b[0mget_loc\u001b[0m\u001b[1;33m(\u001b[0m\u001b[0mself\u001b[0m\u001b[1;33m.\u001b[0m\u001b[0m_maybe_cast_indexer\u001b[0m\u001b[1;33m(\u001b[0m\u001b[0mkey\u001b[0m\u001b[1;33m)\u001b[0m\u001b[1;33m)\u001b[0m\u001b[1;33m\u001b[0m\u001b[0m\n\u001b[0m\u001b[0;32m   1948\u001b[0m \u001b[1;33m\u001b[0m\u001b[0m\n\u001b[0;32m   1949\u001b[0m         \u001b[0mindexer\u001b[0m \u001b[1;33m=\u001b[0m \u001b[0mself\u001b[0m\u001b[1;33m.\u001b[0m\u001b[0mget_indexer\u001b[0m\u001b[1;33m(\u001b[0m\u001b[1;33m[\u001b[0m\u001b[0mkey\u001b[0m\u001b[1;33m]\u001b[0m\u001b[1;33m,\u001b[0m \u001b[0mmethod\u001b[0m\u001b[1;33m=\u001b[0m\u001b[0mmethod\u001b[0m\u001b[1;33m,\u001b[0m \u001b[0mtolerance\u001b[0m\u001b[1;33m=\u001b[0m\u001b[0mtolerance\u001b[0m\u001b[1;33m)\u001b[0m\u001b[1;33m\u001b[0m\u001b[0m\n",
      "\u001b[1;32mpandas\\index.pyx\u001b[0m in \u001b[0;36mpandas.index.IndexEngine.get_loc (pandas\\index.c:4154)\u001b[1;34m()\u001b[0m\n",
      "\u001b[1;32mpandas\\index.pyx\u001b[0m in \u001b[0;36mpandas.index.IndexEngine.get_loc (pandas\\index.c:4018)\u001b[1;34m()\u001b[0m\n",
      "\u001b[1;32mpandas\\hashtable.pyx\u001b[0m in \u001b[0;36mpandas.hashtable.PyObjectHashTable.get_item (pandas\\hashtable.c:12368)\u001b[1;34m()\u001b[0m\n",
      "\u001b[1;32mpandas\\hashtable.pyx\u001b[0m in \u001b[0;36mpandas.hashtable.PyObjectHashTable.get_item (pandas\\hashtable.c:12322)\u001b[1;34m()\u001b[0m\n",
      "\u001b[1;31mKeyError\u001b[0m: '1245o 3o'"
     ]
    }
   ],
   "source": [
    "sort_features(f4, '12345', feature_full_list_o + features_to_train, folder = output_folder)"
   ]
  },
  {
   "cell_type": "raw",
   "metadata": {},
   "source": [
    "feature_full_list_size = []\n",
    "feature_full_list_o = []\n",
    "for i in range(0, len(feature_full_list)):\n",
    "    feature_full_list_size.append(feature_full_list[i] + 's')\n",
    "    feature_full_list_o.append(feature_full_list[i] + 'o')\n",
    "    \n",
    "f = get_feature('12345', folder = output_folder, dtype = float)\n",
    "build_all_features(f, '12345', feature_full_list_size, folder = output_folder, overwrite = False)\n",
    "build_all_features(f, '12345', feature_full_list_o, folder = output_folder, overwrite = False)\n",
    "sort_features(f, '12345', feature_full_list_o, folder = output_folder)"
   ]
  },
  {
   "cell_type": "raw",
   "metadata": {},
   "source": [
    "f = get_feature('12345', folder = output_folder, dtype = float)\n",
    "build_all_features(f, '12345', ['1245s', '1234s', '1235s', '2345s', '1345s'], folder = output_folder, overwrite = False)\n",
    "build_all_features(f, '12345', ['1245o', '1234o', '1235o', '2345o', '1345o'], folder = output_folder, overwrite = False) \n",
    "sort_features(f, '12345', ['1245o', '1234o', '1235o', '2345o', '1345o'], folder = output_folder)\n",
    "f = get_feature('1245o', folder = output_folder, dtype = float)\n",
    "build_all_features(f, '1245o', ['124s', '125s', '245s', '145s'], folder = output_folder, overwrite = False) \n",
    "build_all_features(f, '1245o', ['124o', '125o', '245o', '145o'], folder = output_folder, overwrite = False) \n",
    "f = get_feature('1234', folder = output_folder, dtype = float)\n",
    "build_all_features(f, '1234', ['123', '234', '134'], folder = output_folder, overwrite = True)\n",
    "f = get_feature('1235', folder = output_folder, dtype = float)\n",
    "build_all_features(f, '1235', ['235', '135'], folder = output_folder, overwrite = True)\n",
    "f = get_feature('2345', folder = output_folder, dtype = float)\n",
    "build_all_features(f, '2345', ['345'], folder = output_folder, overwrite = True)\n",
    "sort_features(f, '1245o', ['124o', '125o'], folder = output_folder) #, '123', '245', '234', '235', '145', '134', '135', '345'\n",
    "f = get_feature('124o', folder = output_folder, dtype = float)\n",
    "build_all_features(f, '124o', ['12s', '24s', '14s'], folder = output_folder, overwrite = False) \n",
    "build_all_features(f, '124o', ['12o'], folder = output_folder, overwrite = False) #, '24', '14'\n",
    "f = get_feature('125', folder = output_folder, dtype = float)\n",
    "build_all_features(f, '125', ['25', '15'], folder = output_folder, overwrite = True)\n",
    "f = get_feature('123', folder = output_folder, dtype = float)\n",
    "build_all_features(f, '123', ['23', '13'], folder = output_folder, overwrite = True)\n",
    "f = get_feature('245', folder = output_folder, dtype = float)\n",
    "build_all_features(f, '245', ['45'], folder = output_folder, overwrite = True)\n",
    "f = get_feature('235', folder = output_folder, dtype = float)\n",
    "build_all_features(f, '235', ['35'], folder = output_folder, overwrite = True)\n",
    "f = get_feature('234', folder = output_folder, dtype = float)\n",
    "build_all_features(f, '234', ['34'], folder = output_folder, overwrite = True)\n",
    "sort_features(train, target, ['12', '24', '25', '23', '14', '15', '13', '45', '35', '34'], folder = output_folder)\n",
    "f = get_feature('12o', folder = output_folder, dtype = float)\n",
    "build_all_features(f, '12o', ['1s', '2s'], folder = output_folder, overwrite = False) \n",
    "build_all_features(f, '12o', ['1o'], folder = output_folder, overwrite = False) #, '2'\n",
    "f = get_feature('1o', folder = output_folder, dtype = float)\n",
    "f.head()\n",
    "f = get_feature('24', folder = output_folder, dtype = float)\n",
    "build_all_features(f, '24', ['4'], folder = output_folder, overwrite = True)\n",
    "f = get_feature('25', folder = output_folder, dtype = float)\n",
    "build_all_features(f, '25', ['5'], folder = output_folder, overwrite = True)\n",
    "f = get_feature('13', folder = output_folder, dtype = float)\n",
    "build_all_features(f, '13', ['3'], folder = output_folder, overwrite = True)\n",
    "sort_features(train, target, ['1', '2', '3', '4', '5'], folder = output_folder)\n",
    "sort_features(train, target, ['12345', '1245', '1234', '124', '1235', '125', '123', '12', '2345', '245', '234', '24',\n",
    "                          '235', '25',\n",
    "                          '23', '1345', '145', '134', '14', '135',\n",
    "                          '15', '13', '1', '2', '345', '45', '35', '34', '4', '5', '3'], folder = output_folder)"
   ]
  },
  {
   "cell_type": "raw",
   "metadata": {
    "collapsed": false
   },
   "source": [
    "# avg of avg\n",
    "'12345': 53.2630447915\n",
    "'1245': 53.2745849427\n",
    "'1234': 63.8343314155\n",
    "'124': 63.8458715667\n",
    "'1235': 64.0405981495\n",
    "'125': 64.0894294427\n",
    "'123': 72.8217790524\n",
    "'12': 74.1975169031\n",
    "'2345': 151.485214694\n",
    "'245': 151.492327211\n",
    "'235': 242.966384094\n",
    "'234': 243.520833415\n",
    "'24': 244.552036258\n",
    "'25': 252.607837217\n",
    "'1345': 287.204183108\n",
    "'145': 287.214855561\n",
    "'134': 291.677288765\n",
    "'14': 291.687961218\n",
    "'135': 299.847779493\n",
    "'15': 300.325274941\n",
    "'13': 316.629596965\n",
    "'1': 318.82492254\n",
    "'23': 327.920099096\n",
    "'345': 364.905116406\n",
    "'45': 364.908193399\n",
    "'2': 367.979796459\n",
    "'35': 402.081995356\n",
    "'34': 403.285936199\n",
    "'3': 435.205717761\n",
    "'5': 436.192632035\n",
    "'4': 476.249441573"
   ]
  },
  {
   "cell_type": "code",
   "execution_count": null,
   "metadata": {
    "collapsed": false
   },
   "outputs": [],
   "source": [
    "f = get_feature('12345', folder = output_folder, dtype = float)\n",
    "f.head()"
   ]
  },
  {
   "cell_type": "code",
   "execution_count": null,
   "metadata": {
    "collapsed": false
   },
   "outputs": [],
   "source": [
    "#build_all_features(f, '12345', feature_full_list, folder = output_folder, overwrite = False)"
   ]
  },
  {
   "cell_type": "code",
   "execution_count": null,
   "metadata": {
    "collapsed": false
   },
   "outputs": [],
   "source": [
    "sort_features(train, target, feature_full_list, folder = output_folder)"
   ]
  },
  {
   "cell_type": "raw",
   "metadata": {},
   "source": [
    "'1245m': 53.2745849427\n",
    "'1234m': 64.4905421654\n",
    "'124m': 64.5020823167\n",
    "'1235m': 64.8418767639\n",
    "'125m': 64.8909093865\n",
    "'123m': 72.4592681057\n",
    "'12m': 74.0497128166\n",
    "'2345m': 168.673424139\n",
    "'245m': 168.679188822\n",
    "'234m': 257.038962039\n",
    "'24m': 258.028017495\n",
    "'235m': 261.865254423\n",
    "'25m': 271.875659232\n",
    "'23m': 318.069402552\n",
    "'1345m': 326.629262675\n",
    "'145m': 326.634963093\n",
    "'134m': 329.410617485\n",
    "'14m': 329.416317903\n",
    "'135m': 337.034075485\n",
    "'15m': 337.431509015\n",
    "'13m': 350.902443632\n",
    "'1m': 353.018369854\n",
    "'2m': 370.562006098\n",
    "'345m': 395.081397632\n",
    "'45m': 395.083142168\n",
    "'34m': 418.340036783\n",
    "'35m': 418.73189522\n",
    "'4m': 424.962719837\n",
    "'5m': 429.150529958\n",
    "'3m': 433.047787255"
   ]
  },
  {
   "cell_type": "raw",
   "metadata": {},
   "source": [
    "# avg of train\n",
    "'12345': 53.2630447915\n",
    "'1245': 53.2745849427\n",
    "'1234': 63.8343314155\n",
    "'124': 63.8458715667\n",
    "'1235': 64.0405981495\n",
    "'125': 64.089320339\n",
    "'123': 71.6143207504\n",
    "'12': 72.9928073893\n",
    "'2345': 151.485214694\n",
    "'245': 151.489820557\n",
    "'234': 233.318662216\n",
    "'24': 234.344240541\n",
    "'235': 238.266411442\n",
    "'25': 247.84956309\n",
    "'1345': 287.204183108\n",
    "'145': 287.210358021\n",
    "'134': 289.578589067\n",
    "'14': 289.58476398\n",
    "'23': 293.176021945\n",
    "'135': 298.469322646\n",
    "'15': 298.919727203\n",
    "'13': 310.808704106\n",
    "'1': 312.970122681\n",
    "'2': 342.726128433\n",
    "'345': 358.412400618\n",
    "'45': 358.4147026\n",
    "'35': 385.558246225\n",
    "'34': 386.793048526\n",
    "'4': 394.378543624\n",
    "'5': 398.162567511\n",
    "'3': 405.181038501"
   ]
  },
  {
   "cell_type": "code",
   "execution_count": null,
   "metadata": {
    "collapsed": false
   },
   "outputs": [],
   "source": [
    "print train[target].mean()"
   ]
  },
  {
   "cell_type": "code",
   "execution_count": null,
   "metadata": {
    "collapsed": true
   },
   "outputs": [],
   "source": [
    "print mean_outliers_skewed(train[target])"
   ]
  },
  {
   "cell_type": "code",
   "execution_count": null,
   "metadata": {
    "collapsed": false
   },
   "outputs": [],
   "source": [
    "feature_full_list_mean = []\n",
    "for i in range(0, len(feature_full_list)):\n",
    "    feature_full_list_mean.append(feature_full_list[i] + 'a')"
   ]
  },
  {
   "cell_type": "code",
   "execution_count": null,
   "metadata": {
    "collapsed": true
   },
   "outputs": [],
   "source": [
    "feature_list = feature_full_list_mean"
   ]
  },
  {
   "cell_type": "code",
   "execution_count": null,
   "metadata": {
    "collapsed": true
   },
   "outputs": [],
   "source": []
  },
  {
   "cell_type": "raw",
   "metadata": {
    "collapsed": true
   },
   "source": [
    "build_all_features(train, target, feature_list, folder = output_folder, overwrite = True)"
   ]
  },
  {
   "cell_type": "code",
   "execution_count": null,
   "metadata": {
    "collapsed": false
   },
   "outputs": [],
   "source": [
    "feature_list_sorted = sort_features(train, target, feature_list, folder = output_folder)\n",
    "feature_list_sorted"
   ]
  },
  {
   "cell_type": "code",
   "execution_count": null,
   "metadata": {
    "collapsed": true
   },
   "outputs": [],
   "source": [
    "feature_list_sorted = ['12345a']"
   ]
  },
  {
   "cell_type": "code",
   "execution_count": null,
   "metadata": {
    "collapsed": false
   },
   "outputs": [],
   "source": [
    "feature = get_feature(feature_list_sorted[0].replace('a',''), output_folder)\n",
    "print len(feature)\n",
    "feature = feature[feature['size']>4].reset_index()\n",
    "feature.drop('index', axis = 1, inplace=True)\n",
    "feature.drop('size', axis = 1, inplace=True)\n",
    "print len(feature)\n",
    "feature.head()"
   ]
  },
  {
   "cell_type": "raw",
   "metadata": {
    "collapsed": false
   },
   "source": [
    "groupby = get_cols('12345a')\n",
    "train.sort_values(by = groupby, inplace = True)\n",
    "train.head()"
   ]
  },
  {
   "cell_type": "code",
   "execution_count": null,
   "metadata": {
    "collapsed": false
   },
   "outputs": [],
   "source": [
    "row = dict(feature.iloc[0])\n",
    "x = train.loc[(train[row.keys()] == pd.Series(row)).all(axis=1)]\n",
    "x"
   ]
  },
  {
   "cell_type": "code",
   "execution_count": null,
   "metadata": {
    "collapsed": false
   },
   "outputs": [],
   "source": [
    "for i in xrange(len(feature)):\n",
    "    row = dict(feature.iloc[i])\n",
    "    x = train.loc[(train[row.keys()] == pd.Series(row)).all(axis=1)][[target]]\n",
    "    \n",
    "    print x\n",
    "    break\n",
    "    #"
   ]
  },
  {
   "cell_type": "code",
   "execution_count": null,
   "metadata": {
    "collapsed": true
   },
   "outputs": [],
   "source": []
  },
  {
   "cell_type": "code",
   "execution_count": null,
   "metadata": {
    "collapsed": true
   },
   "outputs": [],
   "source": [
    "feature_list = feature_list_sorted[1:]"
   ]
  },
  {
   "cell_type": "code",
   "execution_count": null,
   "metadata": {
    "collapsed": true
   },
   "outputs": [],
   "source": []
  },
  {
   "cell_type": "code",
   "execution_count": null,
   "metadata": {
    "collapsed": true
   },
   "outputs": [],
   "source": []
  },
  {
   "cell_type": "raw",
   "metadata": {
    "collapsed": true
   },
   "source": []
  },
  {
   "cell_type": "raw",
   "metadata": {
    "collapsed": false
   },
   "source": [
    "features_trained = train_all_features(train, target, feature_full_list, folder = output_folder)"
   ]
  },
  {
   "cell_type": "code",
   "execution_count": null,
   "metadata": {
    "collapsed": false
   },
   "outputs": [],
   "source": [
    "describe_feature('125a', 'output/median/')"
   ]
  },
  {
   "cell_type": "code",
   "execution_count": null,
   "metadata": {
    "collapsed": false
   },
   "outputs": [],
   "source": [
    "describe_feature('125a', 'output/outliers/')"
   ]
  },
  {
   "cell_type": "code",
   "execution_count": null,
   "metadata": {
    "collapsed": true
   },
   "outputs": [],
   "source": []
  }
 ],
 "metadata": {
  "anaconda-cloud": {},
  "kernelspec": {
   "display_name": "Python [Root]",
   "language": "python",
   "name": "Python [Root]"
  },
  "language_info": {
   "codemirror_mode": {
    "name": "ipython",
    "version": 2
   },
   "file_extension": ".py",
   "mimetype": "text/x-python",
   "name": "python",
   "nbconvert_exporter": "python",
   "pygments_lexer": "ipython2",
   "version": "2.7.11"
  }
 },
 "nbformat": 4,
 "nbformat_minor": 0
}
