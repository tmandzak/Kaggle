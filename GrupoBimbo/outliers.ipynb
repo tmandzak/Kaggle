{
 "cells": [
  {
   "cell_type": "code",
   "execution_count": 1,
   "metadata": {
    "collapsed": false
   },
   "outputs": [],
   "source": [
    "import pandas as pd\n",
    "import numpy as np"
   ]
  },
  {
   "cell_type": "code",
   "execution_count": 2,
   "metadata": {
    "collapsed": true
   },
   "outputs": [],
   "source": [
    "%run 'medcouple.ipynb'"
   ]
  },
  {
   "cell_type": "code",
   "execution_count": 55,
   "metadata": {
    "collapsed": false
   },
   "outputs": [],
   "source": [
    "def median_outliers_skewed(x):\n",
    "    l, u = outliers_skewed(x)\n",
    "    return x[(float(l)<=x)&(x<=float(u))].median()\n",
    "\n",
    "def mean_outliers_skewed(x):\n",
    "    l, u = outliers_skewed(x)\n",
    "    return x[(float(l)<=x)&(x<=float(u))].mean()\n",
    "    \n",
    "def median_outliers(x):\n",
    "    l, u = outliers(x)\n",
    "    return x[(float(l)<=x)&(x<=float(u))].median()\n",
    "\n",
    "def mean_outliers(x):\n",
    "    l, u = outliers(x)\n",
    "    return x[(float(l)<=x)&(x<=float(u))].mean()\n",
    "    \n",
    "def outliers_skewed(x):\n",
    "    Q1 = x.quantile(0.25)\n",
    "    Q3 = x.quantile(0.75)\n",
    "    IQR = Q3 - Q1\n",
    "    mc = medcouple_1d(x)\n",
    "    if mc > 0:\n",
    "        whisker_upper = 1.5*IQR*np.exp(3*mc)\n",
    "        whisker_lower = 1.5*IQR*np.exp(-4*mc)\n",
    "    else:\n",
    "        whisker_upper = 1.5*IQR*np.exp(4*mc)\n",
    "        whisker_lower = 1.5*IQR*np.exp(-3*mc)\n",
    "    \n",
    "    lower = Q1 - whisker_lower\n",
    "    upper = Q3 + whisker_upper    \n",
    "    return lower, upper  \n",
    "    \n",
    "def outliers(x):\n",
    "    Q1 = x.quantile(0.25)\n",
    "    Q3 = x.quantile(0.75)\n",
    "    IQR = Q3 - Q1\n",
    "\n",
    "    whisker_upper = 1.5*IQR\n",
    "    whisker_lower = 1.5*IQR\n",
    "\n",
    "    lower, upper = Q1 - whisker_lower, Q3 + whisker_upper    \n",
    "    return lower, upper\n",
    "    \n",
    "def outlier_skewed_lower(x):\n",
    "    Q1 = x.quantile(0.25)\n",
    "    Q3 = x.quantile(0.75)\n",
    "    IQR = Q3 - Q1\n",
    "    mc = medcouple_1d(x)\n",
    "    if mc > 0:\n",
    "        whisker_lower = 1.5*IQR*np.exp(-4*mc)\n",
    "    else:\n",
    "        whisker_lower = 1.5*IQR*np.exp(-3*mc)\n",
    "    lower = Q1 - whisker_lower    \n",
    "    return lower\n",
    "    \n",
    "def outlier_skewed_upper(x):\n",
    "    Q1 = x.quantile(0.25)\n",
    "    Q3 = x.quantile(0.75)\n",
    "    IQR = Q3 - Q1\n",
    "    mc = medcouple_1d(x)\n",
    "    if mc > 0:\n",
    "        whisker_upper = 1.5*IQR*np.exp(3*mc)\n",
    "    else:\n",
    "        whisker_upper = 1.5*IQR*np.exp(4*mc)\n",
    "            \n",
    "    upper = Q3 + whisker_upper    \n",
    "    return upper\n",
    "   \n",
    "def outlier_lower(x):\n",
    "    Q1 = x.quantile(0.25)\n",
    "    Q3 = x.quantile(0.75)\n",
    "    IQR = Q3 - Q1\n",
    "    whisker_lower = 1.5*IQR\n",
    "    lower = Q1 - whisker_lower    \n",
    "    return lower\n",
    "    \n",
    "def outlier_upper(x):\n",
    "    Q1 = x.quantile(0.25)\n",
    "    Q3 = x.quantile(0.75)\n",
    "    IQR = Q3 - Q1\n",
    "    whisker_upper = 1.5*IQR\n",
    "    upper = Q3 + whisker_upper    \n",
    "    return upper\n",
    "    "
   ]
  },
  {
   "cell_type": "markdown",
   "metadata": {},
   "source": [
    "## Test"
   ]
  },
  {
   "cell_type": "raw",
   "metadata": {
    "collapsed": true
   },
   "source": [
    "print mean_outliers_skewed(pd.Series([20, 16, 15, 15, 18, 22, 13]))"
   ]
  },
  {
   "cell_type": "raw",
   "metadata": {},
   "source": [
    "print mean_outliers(pd.Series([20, 16, 15, 15, 18, 22, 13]))"
   ]
  },
  {
   "cell_type": "raw",
   "metadata": {},
   "source": [
    "print outliers_skewed(pd.Series([20, 16, 15, 15, 18, 22, 13]))"
   ]
  },
  {
   "cell_type": "raw",
   "metadata": {},
   "source": [
    "print outliers(pd.Series([20, 16, 15, 15, 18, 22, 13]))"
   ]
  },
  {
   "cell_type": "raw",
   "metadata": {},
   "source": [
    "print outliers_skewed(pd.Series([0, 10000, 5000]))"
   ]
  },
  {
   "cell_type": "raw",
   "metadata": {},
   "source": [
    "print outliers(pd.Series([24, 24, 300]))"
   ]
  },
  {
   "cell_type": "code",
   "execution_count": null,
   "metadata": {
    "collapsed": true
   },
   "outputs": [],
   "source": []
  }
 ],
 "metadata": {
  "anaconda-cloud": {},
  "kernelspec": {
   "display_name": "Python [Root]",
   "language": "python",
   "name": "Python [Root]"
  },
  "language_info": {
   "codemirror_mode": {
    "name": "ipython",
    "version": 2
   },
   "file_extension": ".py",
   "mimetype": "text/x-python",
   "name": "python",
   "nbconvert_exporter": "python",
   "pygments_lexer": "ipython2",
   "version": "2.7.11"
  }
 },
 "nbformat": 4,
 "nbformat_minor": 0
}
