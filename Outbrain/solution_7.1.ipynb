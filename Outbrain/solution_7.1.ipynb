{
 "cells": [
  {
   "cell_type": "code",
   "execution_count": 1,
   "metadata": {
    "collapsed": false
   },
   "outputs": [],
   "source": [
    "import pandas as pd\n",
    "import numpy as np\n",
    "%matplotlib inline"
   ]
  },
  {
   "cell_type": "code",
   "execution_count": 2,
   "metadata": {
    "collapsed": true
   },
   "outputs": [],
   "source": [
    "%run 'medcouple.ipynb'"
   ]
  },
  {
   "cell_type": "markdown",
   "metadata": {},
   "source": [
    "## Model"
   ]
  },
  {
   "cell_type": "code",
   "execution_count": null,
   "metadata": {
    "collapsed": true
   },
   "outputs": [],
   "source": [
    "def outliers_skewed(x):\n",
    "    Q1 = x.quantile(0.25)\n",
    "    Q3 = x.quantile(0.75)\n",
    "    IQR = Q3 - Q1\n",
    "    mc = medcouple_1d(x)\n",
    "    if mc > 0:\n",
    "        whisker_upper = 1.5*IQR*np.exp(3*mc)\n",
    "        whisker_lower = 1.5*IQR*np.exp(-4*mc)\n",
    "    else:\n",
    "        whisker_upper = 1.5*IQR*np.exp(4*mc)\n",
    "        whisker_lower = 1.5*IQR*np.exp(-3*mc)\n",
    "    \n",
    "    lower = Q1 - whisker_lower\n",
    "    upper = Q3 + whisker_upper    \n",
    "    return lower, upper "
   ]
  },
  {
   "cell_type": "code",
   "execution_count": null,
   "metadata": {
    "collapsed": true
   },
   "outputs": [],
   "source": [
    "def outlier_skewed_upper(x):\n",
    "    Q1 = x.quantile(0.25)\n",
    "    Q3 = x.quantile(0.75)\n",
    "    IQR = Q3 - Q1\n",
    "    mc = medcouple_1d(x)\n",
    "    if mc > 0:\n",
    "        whisker_upper = 1.5*IQR*np.exp(3*mc)\n",
    "    else:\n",
    "        whisker_upper = 1.5*IQR*np.exp(4*mc)\n",
    "            \n",
    "    upper = Q3 + whisker_upper    \n",
    "    return upper"
   ]
  },
  {
   "cell_type": "code",
   "execution_count": null,
   "metadata": {
    "collapsed": true
   },
   "outputs": [],
   "source": [
    "def mean_outliers_skewed(x):\n",
    "    l, u = outliers_skewed(x)\n",
    "    return x[(float(l)<=x)&(x<=float(u))].mean()"
   ]
  },
  {
   "cell_type": "code",
   "execution_count": null,
   "metadata": {
    "collapsed": false
   },
   "outputs": [],
   "source": [
    "outliers_skewed(pd.Series([20, 16, 15, 15, 18, 22, 13]))"
   ]
  },
  {
   "cell_type": "code",
   "execution_count": 3,
   "metadata": {
    "collapsed": true
   },
   "outputs": [],
   "source": [
    "def clicksPerAd(clicks, group_by=['ad_id', 'adsPerDisplay'], alpha=10, beta=0.1):\n",
    "\n",
    "    res = pd.DataFrame({'clicked': clicks.groupby(group_by)['clicked'].sum(),\n",
    "                         'viewed': clicks.groupby(group_by)['clicked'].size()\n",
    "                          }).reset_index()\n",
    "    \n",
    "    res_mean = clicks['clicked'].mean()\n",
    "   \n",
    "    by = group_by[1:]\n",
    "    if by<>[]:\n",
    "        clicksPerAd_train_means = pd.DataFrame({'mean':clicks.groupby(by)['clicked'].mean()}).reset_index()\n",
    "        res = res.merge(clicksPerAd_train_means, on=by)\n",
    "        res['clicksPerShows'] = (beta*res_mean + alpha*res['mean'] + res['clicked']) / (beta + alpha + res['viewed'])\n",
    "        res.drop(['clicked', 'viewed', 'mean'], axis=1, inplace=True)\n",
    "    else:\n",
    "        res['clicksPerShows'] = (alpha*res_mean + res['clicked']) / (alpha + res['viewed'])\n",
    "        \n",
    "    return res"
   ]
  },
  {
   "cell_type": "code",
   "execution_count": 4,
   "metadata": {
    "collapsed": true
   },
   "outputs": [],
   "source": [
    "def join(series):\n",
    "    #return ' '.join( str(list(series)).strip('[]').split(', ') )\n",
    "    return ' '.join( map(str, series) )"
   ]
  },
  {
   "cell_type": "code",
   "execution_count": 5,
   "metadata": {
    "collapsed": false
   },
   "outputs": [],
   "source": [
    "def model_prediction(clicksPerAd_train, test, on=['ad_id', 'adsPerDisplay']):\n",
    "    prediction = pd.merge(test, clicksPerAd_train, how='left', on = on) \n",
    "    \n",
    "    by = on[1:]\n",
    "    clicksPerAd_train_means = pd.DataFrame({'clicksPerShows':clicksPerAd_train.groupby(by)['clicksPerShows'].mean()}).reset_index()\n",
    "    \n",
    "    index = pd.isnull(prediction['clicksPerShows'])\n",
    "    prediction_nulls = prediction[index].copy()\n",
    "    prediction_nulls.drop(['clicksPerShows'], axis=1, inplace=True)\n",
    "    prediction_nulls = prediction_nulls.merge(clicksPerAd_train_means, how='left', on = by)#.fillna(clicksPerAd_train['clicksPerShows'].mean())\n",
    "    prediction = pd.concat([prediction[~index], prediction_nulls])\n",
    "    \n",
    "    prediction = prediction.sort_values(by=['display_id', 'clicksPerShows'], ascending=[True, False])\n",
    "    return pd.DataFrame({ 'ad_id': prediction.groupby('display_id')['ad_id'].apply(join) }).reset_index()"
   ]
  },
  {
   "cell_type": "code",
   "execution_count": 6,
   "metadata": {
    "collapsed": true
   },
   "outputs": [],
   "source": [
    "%run 'metrics.ipynb'\n",
    "def model_evaluation(actual, prediction):\n",
    "    return mapk(actual['ad_id'], prediction['ad_id'], k=12)"
   ]
  },
  {
   "cell_type": "code",
   "execution_count": 7,
   "metadata": {
    "collapsed": false
   },
   "outputs": [
    {
     "data": {
      "text/html": [
       "<div>\n",
       "<table border=\"1\" class=\"dataframe\">\n",
       "  <thead>\n",
       "    <tr style=\"text-align: right;\">\n",
       "      <th></th>\n",
       "      <th>display_id</th>\n",
       "      <th>document_id</th>\n",
       "      <th>timestamp</th>\n",
       "      <th>traffic_source</th>\n",
       "      <th>platform</th>\n",
       "      <th>day</th>\n",
       "      <th>hour</th>\n",
       "      <th>geo</th>\n",
       "      <th>ad_id</th>\n",
       "      <th>clicked</th>\n",
       "      <th>adsPerDisplay</th>\n",
       "      <th>clicksPerShows</th>\n",
       "    </tr>\n",
       "  </thead>\n",
       "  <tbody>\n",
       "    <tr>\n",
       "      <th>0</th>\n",
       "      <td>8</td>\n",
       "      <td>1330329</td>\n",
       "      <td>638</td>\n",
       "      <td>1.0</td>\n",
       "      <td>2.0</td>\n",
       "      <td>1</td>\n",
       "      <td>7</td>\n",
       "      <td>2765</td>\n",
       "      <td>95724</td>\n",
       "      <td>0</td>\n",
       "      <td>4</td>\n",
       "      <td>0.034785</td>\n",
       "    </tr>\n",
       "    <tr>\n",
       "      <th>1</th>\n",
       "      <td>8</td>\n",
       "      <td>1330329</td>\n",
       "      <td>638</td>\n",
       "      <td>1.0</td>\n",
       "      <td>2.0</td>\n",
       "      <td>1</td>\n",
       "      <td>7</td>\n",
       "      <td>2765</td>\n",
       "      <td>175694</td>\n",
       "      <td>0</td>\n",
       "      <td>4</td>\n",
       "      <td>0.202327</td>\n",
       "    </tr>\n",
       "    <tr>\n",
       "      <th>2</th>\n",
       "      <td>8</td>\n",
       "      <td>1330329</td>\n",
       "      <td>638</td>\n",
       "      <td>1.0</td>\n",
       "      <td>2.0</td>\n",
       "      <td>1</td>\n",
       "      <td>7</td>\n",
       "      <td>2765</td>\n",
       "      <td>280430</td>\n",
       "      <td>1</td>\n",
       "      <td>4</td>\n",
       "      <td>0.256853</td>\n",
       "    </tr>\n",
       "    <tr>\n",
       "      <th>3</th>\n",
       "      <td>8</td>\n",
       "      <td>1330329</td>\n",
       "      <td>638</td>\n",
       "      <td>1.0</td>\n",
       "      <td>2.0</td>\n",
       "      <td>1</td>\n",
       "      <td>7</td>\n",
       "      <td>2765</td>\n",
       "      <td>329774</td>\n",
       "      <td>0</td>\n",
       "      <td>4</td>\n",
       "      <td>0.052426</td>\n",
       "    </tr>\n",
       "    <tr>\n",
       "      <th>4</th>\n",
       "      <td>2657</td>\n",
       "      <td>1271490</td>\n",
       "      <td>185255</td>\n",
       "      <td>1.0</td>\n",
       "      <td>2.0</td>\n",
       "      <td>1</td>\n",
       "      <td>7</td>\n",
       "      <td>2765</td>\n",
       "      <td>70081</td>\n",
       "      <td>0</td>\n",
       "      <td>4</td>\n",
       "      <td>0.150145</td>\n",
       "    </tr>\n",
       "  </tbody>\n",
       "</table>\n",
       "</div>"
      ],
      "text/plain": [
       "   display_id  document_id  timestamp  traffic_source  platform  day  hour  \\\n",
       "0           8      1330329        638             1.0       2.0    1     7   \n",
       "1           8      1330329        638             1.0       2.0    1     7   \n",
       "2           8      1330329        638             1.0       2.0    1     7   \n",
       "3           8      1330329        638             1.0       2.0    1     7   \n",
       "4        2657      1271490     185255             1.0       2.0    1     7   \n",
       "\n",
       "    geo   ad_id  clicked  adsPerDisplay  clicksPerShows  \n",
       "0  2765   95724        0              4        0.034785  \n",
       "1  2765  175694        0              4        0.202327  \n",
       "2  2765  280430        1              4        0.256853  \n",
       "3  2765  329774        0              4        0.052426  \n",
       "4  2765   70081        0              4        0.150145  "
      ]
     },
     "execution_count": 7,
     "metadata": {},
     "output_type": "execute_result"
    }
   ],
   "source": [
    "pd.read_csv(\"../generated/final/clicks_train_sample.csv\", nrows=10).head()"
   ]
  },
  {
   "cell_type": "code",
   "execution_count": 8,
   "metadata": {
    "collapsed": true
   },
   "outputs": [],
   "source": [
    "group_by=['ad_id', 'adsPerDisplay']\n",
    "usecols = ['display_id', 'ad_id', 'adsPerDisplay', 'clicked']"
   ]
  },
  {
   "cell_type": "markdown",
   "metadata": {},
   "source": [
    "## Validation"
   ]
  },
  {
   "cell_type": "code",
   "execution_count": 9,
   "metadata": {
    "collapsed": false
   },
   "outputs": [
    {
     "data": {
      "text/plain": [
       "display_id       65355241\n",
       "ad_id            65355241\n",
       "clicked          65355241\n",
       "adsPerDisplay    65355241\n",
       "dtype: int64"
      ]
     },
     "execution_count": 9,
     "metadata": {},
     "output_type": "execute_result"
    }
   ],
   "source": [
    "clicks_train_sample = pd.read_csv(\"../generated/final/clicks_train_sample.csv\", usecols = usecols)\n",
    "clicks_train_sample.count()"
   ]
  },
  {
   "cell_type": "code",
   "execution_count": null,
   "metadata": {
    "collapsed": false
   },
   "outputs": [],
   "source": [
    "clicks = clicks_train_sample\n",
    "group_by = ['adsPerDisplay', 'ad_id']\n",
    "\n",
    "res = pd.DataFrame({'viewed': clicks.groupby(group_by)['clicked'].size()\n",
    "                          }).reset_index()\n",
    "\n",
    "res.head()"
   ]
  },
  {
   "cell_type": "code",
   "execution_count": null,
   "metadata": {
    "collapsed": false
   },
   "outputs": [],
   "source": [
    "outliers = pd.DataFrame(columns=['adsPerDisplay', 'upper'])\n",
    "for adsPerDisplay in range(2,13):\n",
    "    outliers.loc[adsPerDisplay-2] = [adsPerDisplay, outlier_skewed_upper(res[res['adsPerDisplay']==adsPerDisplay]['viewed'].copy())]\n",
    "    #print adsPerDisplay, outliers.loc[adsPerDisplay-2]\n",
    "    \n",
    "outliers "
   ]
  },
  {
   "cell_type": "code",
   "execution_count": null,
   "metadata": {
    "collapsed": false
   },
   "outputs": [],
   "source": [
    "res = res.merge(outliers, on='adsPerDisplay')\n",
    "res.count()"
   ]
  },
  {
   "cell_type": "code",
   "execution_count": null,
   "metadata": {
    "collapsed": false
   },
   "outputs": [],
   "source": [
    "res.head()"
   ]
  },
  {
   "cell_type": "code",
   "execution_count": null,
   "metadata": {
    "collapsed": false
   },
   "outputs": [],
   "source": [
    "res = res[res['viewed']<=res['upper']]\n",
    "res.count()"
   ]
  },
  {
   "cell_type": "code",
   "execution_count": null,
   "metadata": {
    "collapsed": false
   },
   "outputs": [],
   "source": [
    "res.drop(['viewed', 'upper'], axis=1, inplace=True)\n",
    "res.head()"
   ]
  },
  {
   "cell_type": "code",
   "execution_count": null,
   "metadata": {
    "collapsed": false
   },
   "outputs": [],
   "source": [
    "clicks_train_sample = clicks_train_sample.merge(res, on=['adsPerDisplay', 'ad_id'])\n",
    "clicks_train_sample.count()"
   ]
  },
  {
   "cell_type": "raw",
   "metadata": {},
   "source": [
    "clicks_train_sample = clicks_train_sample.merge(outliers, on='adsPerDisplay')\n",
    "clicks_train_sample.count()"
   ]
  },
  {
   "cell_type": "code",
   "execution_count": 10,
   "metadata": {
    "collapsed": false
   },
   "outputs": [
    {
     "data": {
      "text/html": [
       "<div>\n",
       "<table border=\"1\" class=\"dataframe\">\n",
       "  <thead>\n",
       "    <tr style=\"text-align: right;\">\n",
       "      <th></th>\n",
       "      <th>display_id</th>\n",
       "      <th>ad_id</th>\n",
       "      <th>clicked</th>\n",
       "      <th>adsPerDisplay</th>\n",
       "    </tr>\n",
       "  </thead>\n",
       "  <tbody>\n",
       "    <tr>\n",
       "      <th>0</th>\n",
       "      <td>8</td>\n",
       "      <td>95724</td>\n",
       "      <td>0</td>\n",
       "      <td>4</td>\n",
       "    </tr>\n",
       "    <tr>\n",
       "      <th>1</th>\n",
       "      <td>8</td>\n",
       "      <td>175694</td>\n",
       "      <td>0</td>\n",
       "      <td>4</td>\n",
       "    </tr>\n",
       "    <tr>\n",
       "      <th>2</th>\n",
       "      <td>8</td>\n",
       "      <td>280430</td>\n",
       "      <td>1</td>\n",
       "      <td>4</td>\n",
       "    </tr>\n",
       "    <tr>\n",
       "      <th>3</th>\n",
       "      <td>8</td>\n",
       "      <td>329774</td>\n",
       "      <td>0</td>\n",
       "      <td>4</td>\n",
       "    </tr>\n",
       "    <tr>\n",
       "      <th>4</th>\n",
       "      <td>2657</td>\n",
       "      <td>70081</td>\n",
       "      <td>0</td>\n",
       "      <td>4</td>\n",
       "    </tr>\n",
       "  </tbody>\n",
       "</table>\n",
       "</div>"
      ],
      "text/plain": [
       "   display_id   ad_id  clicked  adsPerDisplay\n",
       "0           8   95724        0              4\n",
       "1           8  175694        0              4\n",
       "2           8  280430        1              4\n",
       "3           8  329774        0              4\n",
       "4        2657   70081        0              4"
      ]
     },
     "execution_count": 10,
     "metadata": {},
     "output_type": "execute_result"
    }
   ],
   "source": [
    "clicks_train_sample.head()"
   ]
  },
  {
   "cell_type": "code",
   "execution_count": 11,
   "metadata": {
    "collapsed": false
   },
   "outputs": [
    {
     "data": {
      "text/plain": [
       "ad_id             1406219\n",
       "adsPerDisplay     1406219\n",
       "clicksPerShows    1406219\n",
       "dtype: int64"
      ]
     },
     "execution_count": 11,
     "metadata": {},
     "output_type": "execute_result"
    }
   ],
   "source": [
    "clicksPerAd_train = clicksPerAd(clicks_train_sample,  group_by, alpha=10, beta=0.1)\n",
    "clicksPerAd_train.count()"
   ]
  },
  {
   "cell_type": "code",
   "execution_count": 12,
   "metadata": {
    "collapsed": false
   },
   "outputs": [
    {
     "data": {
      "text/plain": [
       "display_id       21786490\n",
       "ad_id            21786490\n",
       "clicked          21786490\n",
       "adsPerDisplay    21786490\n",
       "dtype: int64"
      ]
     },
     "execution_count": 12,
     "metadata": {},
     "output_type": "execute_result"
    }
   ],
   "source": [
    "clicks_test_sample = pd.read_csv(\"../generated/final/clicks_test_sample.csv\", usecols = usecols)\n",
    "clicks_test_sample.count()"
   ]
  },
  {
   "cell_type": "code",
   "execution_count": 13,
   "metadata": {
    "collapsed": false
   },
   "outputs": [
    {
     "data": {
      "text/plain": [
       "display_id       4220025\n",
       "ad_id            4220025\n",
       "clicked          4220025\n",
       "adsPerDisplay    4220025\n",
       "dtype: int64"
      ]
     },
     "execution_count": 13,
     "metadata": {},
     "output_type": "execute_result"
    }
   ],
   "source": [
    "validation = clicks_test_sample[clicks_test_sample['clicked']==1].astype({'ad_id':str}).sort_values('display_id')\n",
    "validation.count()"
   ]
  },
  {
   "cell_type": "code",
   "execution_count": 14,
   "metadata": {
    "collapsed": false
   },
   "outputs": [
    {
     "data": {
      "text/html": [
       "<div>\n",
       "<table border=\"1\" class=\"dataframe\">\n",
       "  <thead>\n",
       "    <tr style=\"text-align: right;\">\n",
       "      <th></th>\n",
       "      <th>display_id</th>\n",
       "      <th>ad_id</th>\n",
       "      <th>clicked</th>\n",
       "      <th>adsPerDisplay</th>\n",
       "    </tr>\n",
       "  </thead>\n",
       "  <tbody>\n",
       "    <tr>\n",
       "      <th>18142714</th>\n",
       "      <td>1</td>\n",
       "      <td>144739</td>\n",
       "      <td>1</td>\n",
       "      <td>6</td>\n",
       "    </tr>\n",
       "    <tr>\n",
       "      <th>14412118</th>\n",
       "      <td>7</td>\n",
       "      <td>105766</td>\n",
       "      <td>1</td>\n",
       "      <td>3</td>\n",
       "    </tr>\n",
       "    <tr>\n",
       "      <th>11270842</th>\n",
       "      <td>9</td>\n",
       "      <td>140940</td>\n",
       "      <td>1</td>\n",
       "      <td>4</td>\n",
       "    </tr>\n",
       "    <tr>\n",
       "      <th>377269</th>\n",
       "      <td>14</td>\n",
       "      <td>224171</td>\n",
       "      <td>1</td>\n",
       "      <td>4</td>\n",
       "    </tr>\n",
       "    <tr>\n",
       "      <th>18233315</th>\n",
       "      <td>26</td>\n",
       "      <td>152193</td>\n",
       "      <td>1</td>\n",
       "      <td>2</td>\n",
       "    </tr>\n",
       "  </tbody>\n",
       "</table>\n",
       "</div>"
      ],
      "text/plain": [
       "          display_id   ad_id  clicked  adsPerDisplay\n",
       "18142714           1  144739        1              6\n",
       "14412118           7  105766        1              3\n",
       "11270842           9  140940        1              4\n",
       "377269            14  224171        1              4\n",
       "18233315          26  152193        1              2"
      ]
     },
     "execution_count": 14,
     "metadata": {},
     "output_type": "execute_result"
    }
   ],
   "source": [
    "validation.head()"
   ]
  },
  {
   "cell_type": "code",
   "execution_count": 15,
   "metadata": {
    "collapsed": false
   },
   "outputs": [
    {
     "data": {
      "text/html": [
       "<div>\n",
       "<table border=\"1\" class=\"dataframe\">\n",
       "  <thead>\n",
       "    <tr style=\"text-align: right;\">\n",
       "      <th></th>\n",
       "      <th>display_id</th>\n",
       "      <th>ad_id</th>\n",
       "    </tr>\n",
       "  </thead>\n",
       "  <tbody>\n",
       "    <tr>\n",
       "      <th>0</th>\n",
       "      <td>1</td>\n",
       "      <td>279295 144739 139684 42337 296965 156824</td>\n",
       "    </tr>\n",
       "    <tr>\n",
       "      <th>1</th>\n",
       "      <td>7</td>\n",
       "      <td>300808 215967 105766</td>\n",
       "    </tr>\n",
       "    <tr>\n",
       "      <th>2</th>\n",
       "      <td>9</td>\n",
       "      <td>151028 19959 140940 104208</td>\n",
       "    </tr>\n",
       "    <tr>\n",
       "      <th>3</th>\n",
       "      <td>14</td>\n",
       "      <td>98270 143467 224171 288396</td>\n",
       "    </tr>\n",
       "    <tr>\n",
       "      <th>4</th>\n",
       "      <td>26</td>\n",
       "      <td>152193 285992</td>\n",
       "    </tr>\n",
       "  </tbody>\n",
       "</table>\n",
       "</div>"
      ],
      "text/plain": [
       "   display_id                                     ad_id\n",
       "0           1  279295 144739 139684 42337 296965 156824\n",
       "1           7                      300808 215967 105766\n",
       "2           9                151028 19959 140940 104208\n",
       "3          14                98270 143467 224171 288396\n",
       "4          26                             152193 285992"
      ]
     },
     "execution_count": 15,
     "metadata": {},
     "output_type": "execute_result"
    }
   ],
   "source": [
    "prediction = model_prediction(clicksPerAd_train, clicks_test_sample, on=group_by)\n",
    "prediction.head()"
   ]
  },
  {
   "cell_type": "code",
   "execution_count": 16,
   "metadata": {
    "collapsed": false
   },
   "outputs": [
    {
     "data": {
      "text/plain": [
       "display_id    4220025\n",
       "ad_id         4220025\n",
       "dtype: int64"
      ]
     },
     "execution_count": 16,
     "metadata": {},
     "output_type": "execute_result"
    }
   ],
   "source": [
    "prediction.count()"
   ]
  },
  {
   "cell_type": "code",
   "execution_count": 17,
   "metadata": {
    "collapsed": false
   },
   "outputs": [
    {
     "name": "stdout",
     "output_type": "stream",
     "text": [
      "clicksPerShows : 0.651788620997\n"
     ]
    }
   ],
   "source": [
    "print 'clicksPerShows :', model_evaluation(validation, prediction)  #0.496702629674"
   ]
  },
  {
   "cell_type": "raw",
   "metadata": {},
   "source": [
    "0.651788448334On 1e7 displays:\n",
    "\n",
    "for by in ['clicksPerShows', 'clicks', 'shows']:\n",
    "    print by, ':', model_evaluation(validation, model_prediction(by, clicksPerAd_train, clicks_test_sample))\n",
    "\n",
    ".fillna(0)\n",
    "clicksPerShows : 0.64542201482  (Solution_0)\n",
    "clicks : 0.549740533954\n",
    "shows : 0.477260775873 (Solution_1)\n",
    "\n",
    ".fillna(mean)\n",
    "clicksPerShows : 0.645511085758  (Solution_2)\n",
    "clicks : 0.549716502035\n",
    "shows : 0.477226186176\n",
    "\n",
    ".fillna(median)\n",
    "clicksPerShows : 0.64542201482\n",
    "\n",
    "======================================================\n",
    "\n",
    "On all displays:  (Solution_2)\n",
    ".fillna(mean)\n",
    "clicksPerShows : 0.64368362085\n",
    "\n",
    "======================================================\n",
    "Solution 5:  \n",
    "adsPerDisplay: 0.649366311611 (+)\n",
    "    alpha=1:   0.650147478567\n",
    "    alpha=5:   0.651496580701\n",
    "    alpha=7:   0.651670890319\n",
    "    alpha=10:  0.651782665078 <<<<<<<<\n",
    "     beta=0.05:0.651786341334\n",
    "     beta=0.1: 0.651788620997 <<<<\n",
    "     beta=0.25:0.651788448334\n",
    "     beta=0.5: 0.651781104141\n",
    "     beta=1:   0.651774866369\n",
    "       \n",
    "    alpha=11:  0.651780767107\n",
    "    alpha=12.5:0.651764965591\n",
    "    alpha=15:  0.651736906004\n",
    "    alpha=20:  0.651659238288\n",
    "    alpha=30:  0.651385242096 \n",
    "    alpha=50:  0.650822974546\n",
    "    alpha=100: 0.649673910841\n",
    "    \n",
    "platform: 0.644682282064    (0)\n",
    "platform, traffic_source: 0.644482305483  (-)\n",
    "traffic_source: 0.6437215343 (-)\n",
    "platform, adsPerDisplay: 0.648939381382 (+)\n",
    "geo: 0.61889429365 (-)\n",
    "geo, day: 0.593359768288 (-)\n",
    "geo, hour: 0.571512758096 (-)\n",
    "day: 0.642500210768 (-)\n",
    "hour: 0.636029916705 (-)"
   ]
  },
  {
   "cell_type": "markdown",
   "metadata": {},
   "source": [
    "## Training"
   ]
  },
  {
   "cell_type": "code",
   "execution_count": null,
   "metadata": {
    "collapsed": false
   },
   "outputs": [],
   "source": [
    "print usecols\n",
    "print group_by"
   ]
  },
  {
   "cell_type": "code",
   "execution_count": null,
   "metadata": {
    "collapsed": false
   },
   "outputs": [],
   "source": [
    "events_clicks_train = pd.read_csv(\"../generated/final/events_clicks_train.csv\", usecols=usecols)\n",
    "events_clicks_train.count()"
   ]
  },
  {
   "cell_type": "code",
   "execution_count": null,
   "metadata": {
    "collapsed": false
   },
   "outputs": [],
   "source": [
    "clicksPerAd_train = clicksPerAd(events_clicks_train,  group_by=group_by ,alpha=10, beta=0.1)\n",
    "clicksPerAd_train.to_csv(\"../generated/solutions/7_clicksPerAd_train.csv\", index=False)\n",
    "clicksPerAd_train.count()"
   ]
  },
  {
   "cell_type": "markdown",
   "metadata": {},
   "source": [
    "## Predicting"
   ]
  },
  {
   "cell_type": "code",
   "execution_count": null,
   "metadata": {
    "collapsed": false
   },
   "outputs": [],
   "source": [
    "print usecols\n",
    "print group_by"
   ]
  },
  {
   "cell_type": "code",
   "execution_count": null,
   "metadata": {
    "collapsed": true
   },
   "outputs": [],
   "source": [
    "clicksPerAd_train = pd.read_csv(\"../generated/solutions/7_clicksPerAd_train.csv\")"
   ]
  },
  {
   "cell_type": "code",
   "execution_count": null,
   "metadata": {
    "collapsed": false
   },
   "outputs": [],
   "source": [
    "clicks_test = pd.read_csv(\"../generated/final/events_clicks_test.csv\", usecols=usecols[:-1])\n",
    "clicks_test.count()"
   ]
  },
  {
   "cell_type": "code",
   "execution_count": null,
   "metadata": {
    "collapsed": false
   },
   "outputs": [],
   "source": [
    "prediction = model_prediction(clicksPerAd_train, clicks_test, on=group_by)\n",
    "prediction.head()"
   ]
  },
  {
   "cell_type": "code",
   "execution_count": null,
   "metadata": {
    "collapsed": false
   },
   "outputs": [],
   "source": [
    "prediction.count()"
   ]
  },
  {
   "cell_type": "markdown",
   "metadata": {},
   "source": [
    "Check order:"
   ]
  },
  {
   "cell_type": "code",
   "execution_count": null,
   "metadata": {
    "collapsed": true
   },
   "outputs": [],
   "source": [
    "ids = prediction.display_id\n",
    "prev = 0\n",
    "for nxt in ids:\n",
    "    if nxt<prev:\n",
    "        print nxt\n",
    "        break\n",
    "    prev = nxt "
   ]
  },
  {
   "cell_type": "markdown",
   "metadata": {},
   "source": [
    "## Submission"
   ]
  },
  {
   "cell_type": "code",
   "execution_count": null,
   "metadata": {
    "collapsed": true
   },
   "outputs": [],
   "source": [
    "prediction.to_csv(\"../submissions/solution_7.csv\", index=False)"
   ]
  },
  {
   "cell_type": "code",
   "execution_count": null,
   "metadata": {
    "collapsed": true
   },
   "outputs": [],
   "source": []
  }
 ],
 "metadata": {
  "anaconda-cloud": {},
  "kernelspec": {
   "display_name": "Python [Root]",
   "language": "python",
   "name": "Python [Root]"
  },
  "language_info": {
   "codemirror_mode": {
    "name": "ipython",
    "version": 2
   },
   "file_extension": ".py",
   "mimetype": "text/x-python",
   "name": "python",
   "nbconvert_exporter": "python",
   "pygments_lexer": "ipython2",
   "version": "2.7.11"
  }
 },
 "nbformat": 4,
 "nbformat_minor": 0
}
