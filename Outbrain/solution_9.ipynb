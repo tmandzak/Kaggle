{
 "cells": [
  {
   "cell_type": "code",
   "execution_count": 1,
   "metadata": {
    "collapsed": false
   },
   "outputs": [],
   "source": [
    "import pandas as pd\n",
    "import numpy as np\n",
    "from sklearn import linear_model\n",
    "from sklearn import preprocessing"
   ]
  },
  {
   "cell_type": "markdown",
   "metadata": {},
   "source": [
    "## Model"
   ]
  },
  {
   "cell_type": "code",
   "execution_count": 2,
   "metadata": {
    "collapsed": true
   },
   "outputs": [],
   "source": [
    "def join(series):\n",
    "    #return ' '.join( str(list(series)).strip('[]').split(', ') )\n",
    "    return ' '.join( map(str, series) )"
   ]
  },
  {
   "cell_type": "code",
   "execution_count": 3,
   "metadata": {
    "collapsed": true
   },
   "outputs": [],
   "source": [
    "%run 'metrics.ipynb'\n",
    "def model_evaluation(actual, prediction):\n",
    "    return mapk(actual['ad_id'], prediction['ad_id'], k=12)"
   ]
  },
  {
   "cell_type": "code",
   "execution_count": 4,
   "metadata": {
    "collapsed": false
   },
   "outputs": [
    {
     "data": {
      "text/html": [
       "<div>\n",
       "<table border=\"1\" class=\"dataframe\">\n",
       "  <thead>\n",
       "    <tr style=\"text-align: right;\">\n",
       "      <th></th>\n",
       "      <th>display_id</th>\n",
       "      <th>document_id</th>\n",
       "      <th>timestamp</th>\n",
       "      <th>traffic_source</th>\n",
       "      <th>platform</th>\n",
       "      <th>day</th>\n",
       "      <th>hour</th>\n",
       "      <th>geo</th>\n",
       "      <th>ad_id</th>\n",
       "      <th>clicked</th>\n",
       "      <th>adsPerDisplay</th>\n",
       "      <th>clicksPerShows</th>\n",
       "      <th>addoc_id</th>\n",
       "      <th>dist</th>\n",
       "      <th>dist_cats</th>\n",
       "    </tr>\n",
       "  </thead>\n",
       "  <tbody>\n",
       "    <tr>\n",
       "      <th>0</th>\n",
       "      <td>8</td>\n",
       "      <td>1330329</td>\n",
       "      <td>638</td>\n",
       "      <td>1.0</td>\n",
       "      <td>2.0</td>\n",
       "      <td>1</td>\n",
       "      <td>7</td>\n",
       "      <td>2765</td>\n",
       "      <td>95724</td>\n",
       "      <td>0</td>\n",
       "      <td>4</td>\n",
       "      <td>0.034785</td>\n",
       "      <td>1136820</td>\n",
       "      <td>0.537786</td>\n",
       "      <td>1.254512</td>\n",
       "    </tr>\n",
       "    <tr>\n",
       "      <th>1</th>\n",
       "      <td>8</td>\n",
       "      <td>1330329</td>\n",
       "      <td>638</td>\n",
       "      <td>1.0</td>\n",
       "      <td>2.0</td>\n",
       "      <td>1</td>\n",
       "      <td>7</td>\n",
       "      <td>2765</td>\n",
       "      <td>175694</td>\n",
       "      <td>0</td>\n",
       "      <td>4</td>\n",
       "      <td>0.202327</td>\n",
       "      <td>1392479</td>\n",
       "      <td>0.430210</td>\n",
       "      <td>0.098995</td>\n",
       "    </tr>\n",
       "    <tr>\n",
       "      <th>2</th>\n",
       "      <td>8</td>\n",
       "      <td>1330329</td>\n",
       "      <td>638</td>\n",
       "      <td>1.0</td>\n",
       "      <td>2.0</td>\n",
       "      <td>1</td>\n",
       "      <td>7</td>\n",
       "      <td>2765</td>\n",
       "      <td>280430</td>\n",
       "      <td>1</td>\n",
       "      <td>4</td>\n",
       "      <td>0.256853</td>\n",
       "      <td>1601512</td>\n",
       "      <td>0.245120</td>\n",
       "      <td>1.304837</td>\n",
       "    </tr>\n",
       "    <tr>\n",
       "      <th>3</th>\n",
       "      <td>8</td>\n",
       "      <td>1330329</td>\n",
       "      <td>638</td>\n",
       "      <td>1.0</td>\n",
       "      <td>2.0</td>\n",
       "      <td>1</td>\n",
       "      <td>7</td>\n",
       "      <td>2765</td>\n",
       "      <td>329774</td>\n",
       "      <td>0</td>\n",
       "      <td>4</td>\n",
       "      <td>0.052426</td>\n",
       "      <td>1652347</td>\n",
       "      <td>0.259652</td>\n",
       "      <td>1.192209</td>\n",
       "    </tr>\n",
       "    <tr>\n",
       "      <th>4</th>\n",
       "      <td>2657</td>\n",
       "      <td>1271490</td>\n",
       "      <td>185255</td>\n",
       "      <td>1.0</td>\n",
       "      <td>2.0</td>\n",
       "      <td>1</td>\n",
       "      <td>7</td>\n",
       "      <td>2765</td>\n",
       "      <td>70081</td>\n",
       "      <td>0</td>\n",
       "      <td>4</td>\n",
       "      <td>0.150145</td>\n",
       "      <td>933594</td>\n",
       "      <td>0.124739</td>\n",
       "      <td>0.409647</td>\n",
       "    </tr>\n",
       "  </tbody>\n",
       "</table>\n",
       "</div>"
      ],
      "text/plain": [
       "   display_id  document_id  timestamp  traffic_source  platform  day  hour  \\\n",
       "0           8      1330329        638             1.0       2.0    1     7   \n",
       "1           8      1330329        638             1.0       2.0    1     7   \n",
       "2           8      1330329        638             1.0       2.0    1     7   \n",
       "3           8      1330329        638             1.0       2.0    1     7   \n",
       "4        2657      1271490     185255             1.0       2.0    1     7   \n",
       "\n",
       "    geo   ad_id  clicked  adsPerDisplay  clicksPerShows  addoc_id      dist  \\\n",
       "0  2765   95724        0              4        0.034785   1136820  0.537786   \n",
       "1  2765  175694        0              4        0.202327   1392479  0.430210   \n",
       "2  2765  280430        1              4        0.256853   1601512  0.245120   \n",
       "3  2765  329774        0              4        0.052426   1652347  0.259652   \n",
       "4  2765   70081        0              4        0.150145    933594  0.124739   \n",
       "\n",
       "   dist_cats  \n",
       "0   1.254512  \n",
       "1   0.098995  \n",
       "2   1.304837  \n",
       "3   1.192209  \n",
       "4   0.409647  "
      ]
     },
     "execution_count": 4,
     "metadata": {},
     "output_type": "execute_result"
    }
   ],
   "source": [
    "pd.read_csv(\"../generated/final/events_clicks_CTR_addocs_dist_cats_train.csv\", nrows=10).head()"
   ]
  },
  {
   "cell_type": "code",
   "execution_count": 5,
   "metadata": {
    "collapsed": true
   },
   "outputs": [],
   "source": [
    "usecols = ['display_id', 'ad_id', 'clicksPerShows', 'dist', 'dist_cats', 'clicked']\n",
    "#usecols = ['display_id', 'ad_id', 'clicksPerShows', 'platform', 'traffic_source', 'dist', 'clicked']\n",
    "features = ['clicksPerShows', 'dist2', 'dist_cats']\n",
    "#features = ['clicksPerShows', 'clicksPerShowsM']\n",
    "#features = ['p1', 'p2', 'p3', 't1', 't2', 't3', 'adsPerDisplay']"
   ]
  },
  {
   "cell_type": "code",
   "execution_count": 6,
   "metadata": {
    "collapsed": false,
    "scrolled": true
   },
   "outputs": [
    {
     "data": {
      "text/html": [
       "<div>\n",
       "<table border=\"1\" class=\"dataframe\">\n",
       "  <thead>\n",
       "    <tr style=\"text-align: right;\">\n",
       "      <th></th>\n",
       "      <th>display_id</th>\n",
       "      <th>ad_id</th>\n",
       "      <th>clicked</th>\n",
       "      <th>clicksPerShows</th>\n",
       "      <th>dist</th>\n",
       "      <th>dist_cats</th>\n",
       "    </tr>\n",
       "  </thead>\n",
       "  <tbody>\n",
       "    <tr>\n",
       "      <th>0</th>\n",
       "      <td>8</td>\n",
       "      <td>95724</td>\n",
       "      <td>0</td>\n",
       "      <td>0.034785</td>\n",
       "      <td>0.537786</td>\n",
       "      <td>1.254512</td>\n",
       "    </tr>\n",
       "    <tr>\n",
       "      <th>1</th>\n",
       "      <td>8</td>\n",
       "      <td>175694</td>\n",
       "      <td>0</td>\n",
       "      <td>0.202327</td>\n",
       "      <td>0.430210</td>\n",
       "      <td>0.098995</td>\n",
       "    </tr>\n",
       "    <tr>\n",
       "      <th>2</th>\n",
       "      <td>8</td>\n",
       "      <td>280430</td>\n",
       "      <td>1</td>\n",
       "      <td>0.256853</td>\n",
       "      <td>0.245120</td>\n",
       "      <td>1.304837</td>\n",
       "    </tr>\n",
       "    <tr>\n",
       "      <th>3</th>\n",
       "      <td>8</td>\n",
       "      <td>329774</td>\n",
       "      <td>0</td>\n",
       "      <td>0.052426</td>\n",
       "      <td>0.259652</td>\n",
       "      <td>1.192209</td>\n",
       "    </tr>\n",
       "    <tr>\n",
       "      <th>4</th>\n",
       "      <td>2657</td>\n",
       "      <td>70081</td>\n",
       "      <td>0</td>\n",
       "      <td>0.150145</td>\n",
       "      <td>0.124739</td>\n",
       "      <td>0.409647</td>\n",
       "    </tr>\n",
       "  </tbody>\n",
       "</table>\n",
       "</div>"
      ],
      "text/plain": [
       "   display_id   ad_id  clicked  clicksPerShows      dist  dist_cats\n",
       "0           8   95724        0        0.034785  0.537786   1.254512\n",
       "1           8  175694        0        0.202327  0.430210   0.098995\n",
       "2           8  280430        1        0.256853  0.245120   1.304837\n",
       "3           8  329774        0        0.052426  0.259652   1.192209\n",
       "4        2657   70081        0        0.150145  0.124739   0.409647"
      ]
     },
     "execution_count": 6,
     "metadata": {},
     "output_type": "execute_result"
    }
   ],
   "source": [
    "pd.read_csv(\"../generated/final/events_clicks_CTR_addocs_dist_cats_train.csv\", nrows=10, usecols=usecols).head()"
   ]
  },
  {
   "cell_type": "markdown",
   "metadata": {},
   "source": [
    "## Preparation for Validation"
   ]
  },
  {
   "cell_type": "code",
   "execution_count": null,
   "metadata": {
    "collapsed": true
   },
   "outputs": [],
   "source": [
    "train_nrows, test_nrows = 650000, 210000 #  None, None #"
   ]
  },
  {
   "cell_type": "code",
   "execution_count": null,
   "metadata": {
    "collapsed": false
   },
   "outputs": [],
   "source": [
    "train_index = pd.read_csv(\"../generated/final/train_index.csv\", nrows=train_nrows)['index'].ravel()\n",
    "test_index = pd.read_csv(\"../generated/final/test_index.csv\", nrows=test_nrows)['index'].ravel()"
   ]
  },
  {
   "cell_type": "code",
   "execution_count": null,
   "metadata": {
    "collapsed": false
   },
   "outputs": [],
   "source": [
    "nrows = max(train_index[-1], test_index[-1])+1\n",
    "nrows"
   ]
  },
  {
   "cell_type": "code",
   "execution_count": null,
   "metadata": {
    "collapsed": false
   },
   "outputs": [],
   "source": [
    "train = pd.read_csv(\"../generated/final/events_clicks_CTR_addocs_dist_cats_train.csv\", usecols = usecols, nrows=nrows)\n",
    "train.count()"
   ]
  },
  {
   "cell_type": "code",
   "execution_count": null,
   "metadata": {
    "collapsed": true
   },
   "outputs": [],
   "source": [
    "dist_mean = train['dist'].mean()\n",
    "dist_cats_mean = train['dist_cats'].mean()\n",
    "train = train.fillna({'dist':dist_mean, 'dist_cats':dist_cats_mean}, inplace=True)"
   ]
  },
  {
   "cell_type": "code",
   "execution_count": null,
   "metadata": {
    "collapsed": false
   },
   "outputs": [],
   "source": [
    "train['dist2'] = np.square(train['dist'])\n",
    "train['dist3'] = np.square(train['dist'])*train['dist']\n",
    "train['dist_cats2'] = np.square(train['dist_cats'])\n",
    "train['dist_cats3'] = train['dist_cats2']*train['dist_cats']\n",
    "train['clicksPerShows2'] = np.square(train['clicksPerShows'])\n",
    "#train['dist_cats'] = np.sqrt(train['dist_cats'])\n",
    "train.count()"
   ]
  },
  {
   "cell_type": "code",
   "execution_count": null,
   "metadata": {
    "collapsed": false
   },
   "outputs": [],
   "source": [
    "test = train.ix[test_index].copy()\n",
    "train = train.ix[train_index].copy()\n",
    "train.count()"
   ]
  },
  {
   "cell_type": "code",
   "execution_count": null,
   "metadata": {
    "collapsed": false
   },
   "outputs": [],
   "source": [
    "test.count()"
   ]
  },
  {
   "cell_type": "raw",
   "metadata": {},
   "source": [
    "train = pd.DataFrame({'clicksPerShows':train.groupby(['display_id','clicked'])['clicksPerShows'].mean(), \n",
    "                      'dist':train.groupby(['display_id','clicked'])['dist'].mean() \n",
    "                     }).reset_index()\n",
    "train.head(30)"
   ]
  },
  {
   "cell_type": "code",
   "execution_count": null,
   "metadata": {
    "collapsed": false
   },
   "outputs": [],
   "source": [
    "trainM = pd.DataFrame({'clicksPerShows_min':train.groupby('display_id')['clicksPerShows'].min(),\n",
    "                       'clicksPerShows_max':train.groupby('display_id')['clicksPerShows'].max(),\n",
    "                       'clicksPerShows2_min':train.groupby('display_id')['clicksPerShows2'].min(),\n",
    "                       'clicksPerShows2_max':train.groupby('display_id')['clicksPerShows2'].max(),\n",
    "                       'dist_min':train.groupby('display_id')['dist'].min(),\n",
    "                       'dist_max':train.groupby('display_id')['dist'].max(),\n",
    "                       'dist_cats_min':train.groupby('display_id')['dist_cats'].min(),\n",
    "                       'dist_cats_max':train.groupby('display_id')['dist_cats'].max(),\n",
    "                       'dist2_min':train.groupby('display_id')['dist2'].min(),\n",
    "                       'dist2_max':train.groupby('display_id')['dist2'].max(),\n",
    "                       'dist3_min':train.groupby('display_id')['dist3'].min(),\n",
    "                       'dist3_max':train.groupby('display_id')['dist3'].max(),\n",
    "                       'dist_cats2_min':train.groupby('display_id')['dist_cats2'].min(),\n",
    "                       'dist_cats2_max':train.groupby('display_id')['dist_cats2'].max(),\n",
    "                       'dist_cats3_min':train.groupby('display_id')['dist_cats3'].min(),\n",
    "                       'dist_cats3_max':train.groupby('display_id')['dist_cats3'].max()\n",
    "                      }).reset_index()\n",
    "trainM.count()"
   ]
  },
  {
   "cell_type": "code",
   "execution_count": null,
   "metadata": {
    "collapsed": false
   },
   "outputs": [],
   "source": [
    "trainM['clicksPerShows_l'] = trainM['clicksPerShows_max'] - trainM['clicksPerShows_min']\n",
    "trainM['clicksPerShows2_l'] = trainM['clicksPerShows2_max'] - trainM['clicksPerShows2_min']\n",
    "trainM['dist_l'] = trainM['dist_max'] - trainM['dist_min']\n",
    "trainM['dist_cats_l'] = trainM['dist_cats_max'] - trainM['dist_cats_min']\n",
    "trainM['dist2_l'] = trainM['dist2_max'] - trainM['dist2_min']\n",
    "trainM['dist3_l'] = trainM['dist3_max'] - trainM['dist3_min']\n",
    "trainM['dist_cats2_l'] = trainM['dist_cats2_max'] - trainM['dist_cats2_min']\n",
    "trainM['dist_cats3_l'] = trainM['dist_cats3_max'] - trainM['dist_cats3_min']\n",
    "trainM.drop(['clicksPerShows_max', 'dist_max', 'dist_cats_max'], axis=1, inplace=True)\n",
    "trainM.drop(['dist2_max', 'dist_cats2_max'], axis=1, inplace=True)\n",
    "trainM.drop(['dist_cats3_max'], axis=1, inplace=True)\n",
    "trainM.drop(['dist3_max'], axis=1, inplace=True)\n",
    "trainM.count()"
   ]
  },
  {
   "cell_type": "code",
   "execution_count": null,
   "metadata": {
    "collapsed": false
   },
   "outputs": [],
   "source": [
    "print sum(trainM['clicksPerShows_l'] == 0)\n",
    "print sum(trainM['clicksPerShows2_l'] == 0)\n",
    "print sum(trainM['dist_l'] == 0)\n",
    "print sum(trainM['dist_cats_l'] == 0)\n",
    "print sum(trainM['dist2_l'] == 0)\n",
    "print sum(trainM['dist3_l'] == 0)\n",
    "print sum(trainM['dist_cats2_l'] == 0)\n",
    "print sum(trainM['dist_cats3_l'] == 0)"
   ]
  },
  {
   "cell_type": "code",
   "execution_count": null,
   "metadata": {
    "collapsed": false
   },
   "outputs": [],
   "source": [
    "trainM.loc[trainM['clicksPerShows_l'] == 0, 'clicksPerShows_l'] = 1\n",
    "trainM.loc[trainM['clicksPerShows2_l'] == 0, 'clicksPerShows2_l'] = 1\n",
    "trainM.loc[trainM['dist_l'] == 0, 'dist_l'] = 1\n",
    "trainM.loc[trainM['dist_cats_l'] == 0, 'dist_cats_l'] = 1\n",
    "trainM.loc[trainM['dist2_l'] == 0, 'dist2_l'] = 1\n",
    "trainM.loc[trainM['dist3_l'] == 0, 'dist3_l'] = 1\n",
    "trainM.loc[trainM['dist_cats2_l'] == 0, 'dist_cats2_l'] = 1\n",
    "trainM.loc[trainM['dist_cats3_l'] == 0, 'dist_cats3_l'] = 1"
   ]
  },
  {
   "cell_type": "code",
   "execution_count": null,
   "metadata": {
    "collapsed": false
   },
   "outputs": [],
   "source": [
    "train = train.merge(trainM, on='display_id')\n",
    "train.count()"
   ]
  },
  {
   "cell_type": "code",
   "execution_count": null,
   "metadata": {
    "collapsed": true
   },
   "outputs": [],
   "source": [
    "del trainM"
   ]
  },
  {
   "cell_type": "code",
   "execution_count": null,
   "metadata": {
    "collapsed": false
   },
   "outputs": [],
   "source": [
    "train['clicksPerShows'] = ( train['clicksPerShows'] - train['clicksPerShows_min'] ) / train['clicksPerShows_l']\n",
    "train['clicksPerShows2'] = ( train['clicksPerShows2'] - train['clicksPerShows2_min'] ) / train['clicksPerShows2_l']\n",
    "train['dist'] = ( train['dist'] - train['dist_min'] ) / train['dist_l']\n",
    "train['dist_cats'] = ( train['dist_cats'] - train['dist_cats_min'] ) / train['dist_cats_l']\n",
    "train['dist2'] = ( train['dist2'] - train['dist2_min'] ) / train['dist2_l']\n",
    "train['dist3'] = ( train['dist3'] - train['dist3_min'] ) / train['dist3_l']\n",
    "train['dist_cats2'] = ( train['dist_cats2'] - train['dist_cats2_min'] ) / train['dist_cats2_l']\n",
    "train['dist_cats3'] = ( train['dist_cats3'] - train['dist_cats3_min'] ) / train['dist_cats3_l']\n",
    "\n",
    "train.drop(['clicksPerShows_min', 'clicksPerShows_l', 'dist_min', 'dist_l'], axis=1, inplace=True)\n",
    "train.drop(['clicksPerShows2_min', 'clicksPerShows2_l'], axis=1, inplace=True)\n",
    "train.drop(['dist_cats_min', 'dist_cats_l'], axis=1, inplace=True)\n",
    "train.drop(['dist2_min', 'dist2_l'], axis=1, inplace=True)\n",
    "train.drop(['dist3_min', 'dist3_l'], axis=1, inplace=True)\n",
    "train.drop(['dist_cats2_min', 'dist_cats2_l'], axis=1, inplace=True)\n",
    "train.drop(['dist_cats3_min', 'dist_cats3_l'], axis=1, inplace=True)\n",
    "\n",
    "train.count()"
   ]
  },
  {
   "cell_type": "code",
   "execution_count": null,
   "metadata": {
    "collapsed": false
   },
   "outputs": [],
   "source": [
    "testM = pd.DataFrame({'clicksPerShows_min':test.groupby('display_id')['clicksPerShows'].min(),\n",
    "                      'clicksPerShows_max':test.groupby('display_id')['clicksPerShows'].max(),\n",
    "                      'clicksPerShows2_min':test.groupby('display_id')['clicksPerShows2'].min(),\n",
    "                      'clicksPerShows2_max':test.groupby('display_id')['clicksPerShows2'].max(),\n",
    "                      'dist_min':test.groupby('display_id')['dist'].min(),\n",
    "                      'dist_max':test.groupby('display_id')['dist'].max(),\n",
    "                      'dist_cats_min':test.groupby('display_id')['dist_cats'].min(),\n",
    "                      'dist_cats_max':test.groupby('display_id')['dist_cats'].max(),\n",
    "                      'dist2_min':test.groupby('display_id')['dist2'].min(),\n",
    "                      'dist2_max':test.groupby('display_id')['dist2'].max(),\n",
    "                      'dist3_min':test.groupby('display_id')['dist3'].min(),\n",
    "                      'dist3_max':test.groupby('display_id')['dist3'].max(),\n",
    "                      'dist_cats2_min':test.groupby('display_id')['dist_cats2'].min(),\n",
    "                      'dist_cats2_max':test.groupby('display_id')['dist_cats2'].max(),\n",
    "                      'dist_cats3_min':test.groupby('display_id')['dist_cats3'].min(),\n",
    "                      'dist_cats3_max':test.groupby('display_id')['dist_cats3'].max()\n",
    "                      }).reset_index()\n",
    "testM.count()"
   ]
  },
  {
   "cell_type": "code",
   "execution_count": null,
   "metadata": {
    "collapsed": false
   },
   "outputs": [],
   "source": [
    "testM['clicksPerShows_l'] = testM['clicksPerShows_max'] - testM['clicksPerShows_min']\n",
    "testM['clicksPerShows2_l'] = testM['clicksPerShows2_max'] - testM['clicksPerShows2_min']\n",
    "testM['dist_l'] = testM['dist_max'] - testM['dist_min']\n",
    "testM['dist_cats_l'] = testM['dist_cats_max'] - testM['dist_cats_min']\n",
    "testM['dist2_l'] = testM['dist2_max'] - testM['dist2_min']\n",
    "testM['dist3_l'] = testM['dist3_max'] - testM['dist3_min']\n",
    "testM['dist_cats2_l'] = testM['dist_cats2_max'] - testM['dist_cats2_min']\n",
    "testM['dist_cats3_l'] = testM['dist_cats3_max'] - testM['dist_cats3_min']\n",
    "testM.drop(['clicksPerShows_max', 'dist_max', 'dist_cats_max'], axis=1, inplace=True)\n",
    "testM.drop(['clicksPerShows2_max'], axis=1, inplace=True)\n",
    "testM.drop(['dist2_max', 'dist_cats2_max', 'dist_cats3_max'], axis=1, inplace=True)\n",
    "testM.drop(['dist3_max'], axis=1, inplace=True)\n",
    "testM.count()"
   ]
  },
  {
   "cell_type": "code",
   "execution_count": null,
   "metadata": {
    "collapsed": false
   },
   "outputs": [],
   "source": [
    "print sum(testM['clicksPerShows_l'] == 0)\n",
    "print sum(testM['clicksPerShows2_l'] == 0)\n",
    "print sum(testM['dist_l'] == 0)\n",
    "print sum(testM['dist_cats_l'] == 0)\n",
    "print sum(testM['dist2_l'] == 0)\n",
    "print sum(testM['dist3_l'] == 0)\n",
    "print sum(testM['dist_cats2_l'] == 0)\n",
    "print sum(testM['dist_cats3_l'] == 0)"
   ]
  },
  {
   "cell_type": "code",
   "execution_count": null,
   "metadata": {
    "collapsed": true
   },
   "outputs": [],
   "source": [
    "testM.loc[testM['clicksPerShows_l'] == 0, 'clicksPerShows_l'] = 1\n",
    "testM.loc[testM['clicksPerShows2_l'] == 0, 'clicksPerShows2_l'] = 1\n",
    "testM.loc[testM['dist_l'] == 0, 'dist_l'] = 1\n",
    "testM.loc[testM['dist_cats_l'] == 0, 'dist_cats_l'] = 1\n",
    "testM.loc[testM['dist2_l'] == 0, 'dist2_l'] = 1\n",
    "testM.loc[testM['dist3_l'] == 0, 'dist3_l'] = 1\n",
    "testM.loc[testM['dist_cats2_l'] == 0, 'dist_cats2_l'] = 1\n",
    "testM.loc[testM['dist_cats3_l'] == 0, 'dist_cats3_l'] = 1"
   ]
  },
  {
   "cell_type": "code",
   "execution_count": null,
   "metadata": {
    "collapsed": false
   },
   "outputs": [],
   "source": [
    "test = test.merge(testM, on='display_id')\n",
    "del testM\n",
    "test.count()"
   ]
  },
  {
   "cell_type": "code",
   "execution_count": null,
   "metadata": {
    "collapsed": false
   },
   "outputs": [],
   "source": [
    "test['clicksPerShows'] = ( test['clicksPerShows'] - test['clicksPerShows_min'] ) / test['clicksPerShows_l']\n",
    "test['clicksPerShows2'] = ( test['clicksPerShows2'] - test['clicksPerShows2_min'] ) / test['clicksPerShows2_l']\n",
    "test['dist'] = ( test['dist'] - test['dist_min'] ) / test['dist_l']\n",
    "test['dist_cats'] = ( test['dist_cats'] - test['dist_cats_min'] ) / test['dist_cats_l']\n",
    "test['dist2'] = ( test['dist2'] - test['dist2_min'] ) / test['dist2_l']\n",
    "test['dist3'] = ( test['dist3'] - test['dist3_min'] ) / test['dist3_l']\n",
    "test['dist_cats2'] = ( test['dist_cats2'] - test['dist_cats2_min'] ) / test['dist_cats2_l']\n",
    "test['dist_cats3'] = ( test['dist_cats3'] - test['dist_cats3_min'] ) / test['dist_cats3_l']\n",
    "\n",
    "test.drop(['clicksPerShows_min', 'clicksPerShows_l', 'dist_min', 'dist_l'], axis=1, inplace=True)\n",
    "test.drop(['clicksPerShows2_min', 'clicksPerShows2_l'], axis=1, inplace=True)\n",
    "test.drop(['dist_cats_min', 'dist_cats_l'], axis=1, inplace=True)\n",
    "test.drop(['dist2_min', 'dist2_l'], axis=1, inplace=True)\n",
    "test.drop(['dist3_min', 'dist3_l'], axis=1, inplace=True)\n",
    "test.drop(['dist_cats2_min', 'dist_cats2_l'], axis=1, inplace=True)\n",
    "test.drop(['dist_cats3_min', 'dist_cats3_l'], axis=1, inplace=True)\n",
    "\n",
    "test.count()"
   ]
  },
  {
   "cell_type": "raw",
   "metadata": {
    "collapsed": false
   },
   "source": [
    "platform_oneshot = pd.DataFrame({'platform':[1,2,3], 'p1':[1,0,0], 'p2':[0,1,0], 'p3':[0,0,1]})\n",
    "platform_oneshot.head()"
   ]
  },
  {
   "cell_type": "raw",
   "metadata": {
    "collapsed": false
   },
   "source": [
    "traffic_oneshot = pd.DataFrame({'traffic_source':[1,2,3], 't1':[1,0,0], 't2':[0,1,0], 't3':[0,0,1]})\n",
    "traffic_oneshot.head()"
   ]
  },
  {
   "cell_type": "raw",
   "metadata": {
    "collapsed": false
   },
   "source": [
    "train = train.merge(platform_oneshot, on='platform').drop('platform', axis=1)\n",
    "test = test.merge(platform_oneshot, on='platform').drop('platform', axis=1)\n",
    "\n",
    "train = train.merge(traffic_oneshot, on='traffic_source').drop('traffic_source', axis=1)\n",
    "test = test.merge(traffic_oneshot, on='traffic_source').drop('traffic_source', axis=1)"
   ]
  },
  {
   "cell_type": "code",
   "execution_count": null,
   "metadata": {
    "collapsed": false
   },
   "outputs": [],
   "source": [
    "scaler = preprocessing.StandardScaler()\n",
    "excpt = [] #['clicksPerShows', 'distM'] #, 'p1', 'p2', 'p3', 't1', 't2', 't3', 'adsPerDisplay']\n",
    "for f in features:\n",
    "    if not f in excpt:\n",
    "        print f\n",
    "        scaler.fit(train[[f]])\n",
    "        train[f] = scaler.transform(train[[f]]) \n",
    "        test[f] = scaler.transform(test[[f]])"
   ]
  },
  {
   "cell_type": "raw",
   "metadata": {
    "collapsed": false
   },
   "source": [
    "train.to_csv(\"../generated/solutions/8_val_train.0.csv\", index=False)\n",
    "test.to_csv(\"../generated/solutions/8_val_test.0.csv\", index=False)"
   ]
  },
  {
   "cell_type": "code",
   "execution_count": null,
   "metadata": {
    "collapsed": false
   },
   "outputs": [],
   "source": [
    "train[features].head()"
   ]
  },
  {
   "cell_type": "markdown",
   "metadata": {},
   "source": [
    "## Validation"
   ]
  },
  {
   "cell_type": "code",
   "execution_count": null,
   "metadata": {
    "collapsed": false
   },
   "outputs": [],
   "source": [
    "clf = linear_model.SGDClassifier(random_state=0, loss='log', fit_intercept=True, n_iter=5)\n",
    "clf.fit(train[features], train['clicked'].ravel())"
   ]
  },
  {
   "cell_type": "code",
   "execution_count": null,
   "metadata": {
    "collapsed": false
   },
   "outputs": [],
   "source": [
    "clf.classes_"
   ]
  },
  {
   "cell_type": "code",
   "execution_count": null,
   "metadata": {
    "collapsed": false
   },
   "outputs": [],
   "source": [
    "clicks_test_sample = test[['display_id', 'ad_id', 'clicked']]\n",
    "clicks_test_sample.count()"
   ]
  },
  {
   "cell_type": "code",
   "execution_count": null,
   "metadata": {
    "collapsed": false
   },
   "outputs": [],
   "source": [
    "validation = clicks_test_sample[clicks_test_sample['clicked']==1].astype({'ad_id':str}).sort_values('display_id')\n",
    "validation.count()"
   ]
  },
  {
   "cell_type": "code",
   "execution_count": null,
   "metadata": {
    "collapsed": false
   },
   "outputs": [],
   "source": [
    "test[features].head()"
   ]
  },
  {
   "cell_type": "code",
   "execution_count": null,
   "metadata": {
    "collapsed": false
   },
   "outputs": [],
   "source": [
    "test['res'] = pd.Series(clf.predict_proba(test[features])[:,1])\n",
    "test.head()"
   ]
  },
  {
   "cell_type": "code",
   "execution_count": null,
   "metadata": {
    "collapsed": false
   },
   "outputs": [],
   "source": [
    "clf.coef_, clf.intercept_[0]"
   ]
  },
  {
   "cell_type": "code",
   "execution_count": null,
   "metadata": {
    "collapsed": false
   },
   "outputs": [],
   "source": [
    "prediction = test.sort_values(by=['display_id', 'res'], ascending=[True, False])\n",
    "prediction.count()"
   ]
  },
  {
   "cell_type": "code",
   "execution_count": null,
   "metadata": {
    "collapsed": false
   },
   "outputs": [],
   "source": [
    "prediction=pd.DataFrame({ 'ad_id': prediction.groupby('display_id')['ad_id'].apply(join) }).astype({'ad_id':str}).reset_index()\n",
    "prediction.count()"
   ]
  },
  {
   "cell_type": "code",
   "execution_count": null,
   "metadata": {
    "collapsed": false
   },
   "outputs": [],
   "source": [
    "prediction.head()"
   ]
  },
  {
   "cell_type": "code",
   "execution_count": null,
   "metadata": {
    "collapsed": false
   },
   "outputs": [],
   "source": [
    "validation.head()"
   ]
  },
  {
   "cell_type": "code",
   "execution_count": null,
   "metadata": {
    "collapsed": false
   },
   "outputs": [],
   "source": [
    "print 'clicksPerShows :', model_evaluation(validation, prediction)  #0.662869594202      0.588499968978      "
   ]
  },
  {
   "cell_type": "code",
   "execution_count": null,
   "metadata": {
    "collapsed": true
   },
   "outputs": [],
   "source": [
    "#['clicksPerShows']                             0.662869594202       0.588499968978 \n",
    "#['clicksPerShows', 'dist']                     0.66282443126        0.588638094838     -> 0.662839173432 (niter=20)\n",
    "                                                                    #0.588785527156\n",
    "# ['clicksPerShows', 'dist', 'dist_cats']       0.663048972212       0.589767768832    \n",
    "# ['clicksPerShows', 'dist_cats']                                    0.589561035359\n",
    "# ['clicksPerShows', 'dist2', 'dist_cats']                           0.589826269431\n",
    "# [1, 'clicksPerShows', 'dist2', 'dist_cats']                        0.589922876476 <<<<<<<<<<\n",
    "    \n",
    "                                      #         0.6628185045   +platform\n",
    "                                     #          0.662806944913 +intercept\n",
    "#['clicksPerShows', 'dist', 'adsPerDisplay']                         0.588542728654                                     \n",
    "#['clicksPerShows', 'p1', 'p2', 'p3', 'dist']                        0.588165686987\n",
    "#['clicksPerShows', 'dist', 't1', 't2', 't3']                        0.588181057654\n",
    "#['clicksPerShows', 'p1', 'p2', 'p3']                                0.588499968978\n",
    "#['clicksPerShows', 't1', 't2', 't3']                                0.588499968978 \n",
    "#['clicksPerShows', 'adsPerDisplay']                                 0.588499968978\n"
   ]
  },
  {
   "cell_type": "markdown",
   "metadata": {
    "collapsed": false
   },
   "source": [
    "## Preparation for Training"
   ]
  },
  {
   "cell_type": "code",
   "execution_count": 7,
   "metadata": {
    "collapsed": false
   },
   "outputs": [
    {
     "data": {
      "text/plain": [
       "display_id        87141731\n",
       "ad_id             87141731\n",
       "clicked           87141731\n",
       "clicksPerShows    87141731\n",
       "dist              77941525\n",
       "dist_cats         83237252\n",
       "dtype: int64"
      ]
     },
     "execution_count": 7,
     "metadata": {},
     "output_type": "execute_result"
    }
   ],
   "source": [
    "train = pd.read_csv(\"../generated/final/events_clicks_CTR_addocs_dist_cats_train.csv\", usecols = usecols)\n",
    "train.count()"
   ]
  },
  {
   "cell_type": "code",
   "execution_count": 8,
   "metadata": {
    "collapsed": true
   },
   "outputs": [],
   "source": [
    "train['dist2'] = np.square(train['dist'])\n",
    "dist2_mean = train['dist2'].mean()\n",
    "dist_cats_mean = train['dist_cats'].mean()\n",
    "train = train.fillna({'dist2':dist2_mean, 'dist_cats':dist_cats_mean}, inplace=True)"
   ]
  },
  {
   "cell_type": "code",
   "execution_count": 9,
   "metadata": {
    "collapsed": false
   },
   "outputs": [
    {
     "data": {
      "text/plain": [
       "display_id            16874593\n",
       "clicksPerShows_max    16874593\n",
       "clicksPerShows_min    16874593\n",
       "dist2_max             16874593\n",
       "dist2_min             16874593\n",
       "dist_cats_max         16874593\n",
       "dist_cats_min         16874593\n",
       "dtype: int64"
      ]
     },
     "execution_count": 9,
     "metadata": {},
     "output_type": "execute_result"
    }
   ],
   "source": [
    "trainM = pd.DataFrame({'clicksPerShows_min':train.groupby('display_id')['clicksPerShows'].min(),\n",
    "                       'clicksPerShows_max':train.groupby('display_id')['clicksPerShows'].max(),\n",
    "                       'dist2_min':train.groupby('display_id')['dist2'].min(),\n",
    "                       'dist2_max':train.groupby('display_id')['dist2'].max(),\n",
    "                       'dist_cats_min':train.groupby('display_id')['dist_cats'].min(),\n",
    "                       'dist_cats_max':train.groupby('display_id')['dist_cats'].max()\n",
    "                      }).reset_index()\n",
    "trainM.count()"
   ]
  },
  {
   "cell_type": "code",
   "execution_count": 10,
   "metadata": {
    "collapsed": false
   },
   "outputs": [
    {
     "data": {
      "text/plain": [
       "display_id            16874593\n",
       "clicksPerShows_min    16874593\n",
       "dist2_min             16874593\n",
       "dist_cats_min         16874593\n",
       "clicksPerShows_l      16874593\n",
       "dist2_l               16874593\n",
       "dist_cats_l           16874593\n",
       "dtype: int64"
      ]
     },
     "execution_count": 10,
     "metadata": {},
     "output_type": "execute_result"
    }
   ],
   "source": [
    "trainM['clicksPerShows_l'] = trainM['clicksPerShows_max'] - trainM['clicksPerShows_min']\n",
    "trainM['dist2_l'] = trainM['dist2_max'] - trainM['dist2_min']\n",
    "trainM['dist_cats_l'] = trainM['dist_cats_max'] - trainM['dist_cats_min']\n",
    "trainM.drop(['clicksPerShows_max', 'dist2_max', 'dist_cats_max'], axis=1, inplace=True)\n",
    "trainM.count()"
   ]
  },
  {
   "cell_type": "code",
   "execution_count": 12,
   "metadata": {
    "collapsed": false
   },
   "outputs": [
    {
     "name": "stdout",
     "output_type": "stream",
     "text": [
      " 191\n",
      "1668118\n",
      "1268690\n"
     ]
    }
   ],
   "source": [
    "print sum(trainM['clicksPerShows_l'] == 0)\n",
    "print sum(trainM['dist2_l'] == 0)\n",
    "print sum(trainM['dist_cats_l'] == 0)"
   ]
  },
  {
   "cell_type": "code",
   "execution_count": 13,
   "metadata": {
    "collapsed": true
   },
   "outputs": [],
   "source": [
    "trainM.loc[trainM['clicksPerShows_l'] == 0, 'clicksPerShows_l'] = 1\n",
    "trainM.loc[trainM['dist2_l'] == 0, 'dist2_l'] = 1\n",
    "trainM.loc[trainM['dist_cats_l'] == 0, 'dist_cats_l'] = 1"
   ]
  },
  {
   "cell_type": "code",
   "execution_count": 14,
   "metadata": {
    "collapsed": true
   },
   "outputs": [],
   "source": [
    "trainM.to_csv(\"../temp/trainM_full.csv\", index=False)"
   ]
  },
  {
   "cell_type": "raw",
   "metadata": {
    "collapsed": false
   },
   "source": [
    "trainM = pd.read_csv(\"../temp/trainM_full.csv\")\n",
    "trainM.count()"
   ]
  },
  {
   "cell_type": "raw",
   "metadata": {
    "collapsed": false
   },
   "source": [
    "train = train.merge(trainM, on='display_id')\n",
    "train.count()"
   ]
  },
  {
   "cell_type": "code",
   "execution_count": 19,
   "metadata": {
    "collapsed": true
   },
   "outputs": [],
   "source": [
    "input_file = \"../generated/final/events_clicks_CTR_addocs_dist_cats_train.csv\"\n",
    "output_file = \"../temp/train_merge.csv\"\n",
    "chunksize=10 * 10**6\n",
    "how='inner'"
   ]
  },
  {
   "cell_type": "code",
   "execution_count": 22,
   "metadata": {
    "collapsed": false
   },
   "outputs": [
    {
     "name": "stdout",
     "output_type": "stream",
     "text": [
      "1 10000000\n",
      "2 20000000\n",
      "3 30000000\n",
      "4 40000000\n",
      "5 50000000\n",
      "6 60000000\n",
      "7 70000000\n",
      "8 80000000\n",
      "9 90000000\n",
      "Done\n"
     ]
    }
   ],
   "source": [
    "first_time = True\n",
    "size = 0\n",
    "i = 0\n",
    "    \n",
    "f = open(output_file, 'w')\n",
    "\n",
    "for train in pd.read_csv(input_file, chunksize=chunksize):\n",
    "    train['dist2'] = np.square(train['dist'])\n",
    "    train = train.fillna({'dist2':dist2_mean, 'dist_cats':dist_cats_mean}, inplace=True)\n",
    "    \n",
    "    train = train.merge(trainM, on='display_id')\n",
    "    \n",
    "    train['clicksPerShows'] = ( train['clicksPerShows'] - train['clicksPerShows_min'] ) / train['clicksPerShows_l']\n",
    "    train['dist2'] = ( train['dist2'] - train['dist2_min'] ) / train['dist2_l']\n",
    "    train['dist_cats'] = ( train['dist_cats'] - train['dist_cats_min'] ) / train['dist_cats_l']\n",
    "    train.drop(['clicksPerShows_min', 'clicksPerShows_l', 'dist2_min', 'dist2_l'], axis=1, inplace=True)\n",
    "    train.drop(['dist_cats_min', 'dist_cats_l'], axis=1, inplace=True)\n",
    "\n",
    "    if first_time:\n",
    "        train.to_csv(f, index = False, header=True)\n",
    "        f.close()\n",
    "        f = open(output_file, 'a')\n",
    "        first_time = False\n",
    "    else:\n",
    "        train.to_csv(f, index = False, header=False)\n",
    "    \n",
    "    size+=chunksize\n",
    "    i+=1\n",
    "    print i, size\n",
    "    \n",
    "    #break\n",
    "            \n",
    "print 'Done'\n",
    "    \n",
    "f.close()"
   ]
  },
  {
   "cell_type": "code",
   "execution_count": 24,
   "metadata": {
    "collapsed": true
   },
   "outputs": [],
   "source": [
    "del trainM"
   ]
  },
  {
   "cell_type": "code",
   "execution_count": 23,
   "metadata": {
    "collapsed": false
   },
   "outputs": [
    {
     "data": {
      "text/plain": [
       "['display_id',\n",
       " 'ad_id',\n",
       " 'clicksPerShows',\n",
       " 'dist',\n",
       " 'dist_cats',\n",
       " 'clicked',\n",
       " 'dist2']"
      ]
     },
     "execution_count": 23,
     "metadata": {},
     "output_type": "execute_result"
    }
   ],
   "source": [
    "usecols + ['dist2']"
   ]
  },
  {
   "cell_type": "code",
   "execution_count": 25,
   "metadata": {
    "collapsed": false
   },
   "outputs": [
    {
     "data": {
      "text/plain": [
       "display_id        87141731\n",
       "ad_id             87141731\n",
       "clicked           87141731\n",
       "clicksPerShows    87141731\n",
       "dist              77941525\n",
       "dist_cats         87141731\n",
       "dist2             87141731\n",
       "dtype: int64"
      ]
     },
     "execution_count": 25,
     "metadata": {},
     "output_type": "execute_result"
    }
   ],
   "source": [
    "train = pd.read_csv(output_file, usecols = usecols + ['dist2'])\n",
    "train.count()"
   ]
  },
  {
   "cell_type": "code",
   "execution_count": 26,
   "metadata": {
    "collapsed": false
   },
   "outputs": [
    {
     "name": "stdout",
     "output_type": "stream",
     "text": [
      "clicksPerShows\n",
      "dist2\n",
      "dist_cats\n"
     ]
    }
   ],
   "source": [
    "scaler = {}\n",
    "excpt = [] #['clicksPerShows', 'distM'] #, 'p1', 'p2', 'p3', 't1', 't2', 't3', 'adsPerDisplay']\n",
    "for f in features:\n",
    "    if not f in excpt:\n",
    "        print f\n",
    "        scaler[f] = preprocessing.StandardScaler()\n",
    "        scaler[f].fit(train[[f]])\n",
    "        train[f] = scaler[f].transform(train[[f]]) \n",
    "        #test[f] = scaler.transform(test[[f]])"
   ]
  },
  {
   "cell_type": "code",
   "execution_count": 27,
   "metadata": {
    "collapsed": false
   },
   "outputs": [
    {
     "data": {
      "text/html": [
       "<div>\n",
       "<table border=\"1\" class=\"dataframe\">\n",
       "  <thead>\n",
       "    <tr style=\"text-align: right;\">\n",
       "      <th></th>\n",
       "      <th>clicksPerShows</th>\n",
       "      <th>dist2</th>\n",
       "      <th>dist_cats</th>\n",
       "    </tr>\n",
       "  </thead>\n",
       "  <tbody>\n",
       "    <tr>\n",
       "      <th>0</th>\n",
       "      <td>-1.123149</td>\n",
       "      <td>1.623187</td>\n",
       "      <td>0.882523</td>\n",
       "    </tr>\n",
       "    <tr>\n",
       "      <th>1</th>\n",
       "      <td>0.852229</td>\n",
       "      <td>0.464474</td>\n",
       "      <td>-1.304975</td>\n",
       "    </tr>\n",
       "    <tr>\n",
       "      <th>2</th>\n",
       "      <td>1.495111</td>\n",
       "      <td>-0.926396</td>\n",
       "      <td>0.977794</td>\n",
       "    </tr>\n",
       "    <tr>\n",
       "      <th>3</th>\n",
       "      <td>-0.915157</td>\n",
       "      <td>-0.844771</td>\n",
       "      <td>0.764578</td>\n",
       "    </tr>\n",
       "    <tr>\n",
       "      <th>4</th>\n",
       "      <td>-0.050381</td>\n",
       "      <td>-0.926396</td>\n",
       "      <td>-1.304975</td>\n",
       "    </tr>\n",
       "  </tbody>\n",
       "</table>\n",
       "</div>"
      ],
      "text/plain": [
       "   clicksPerShows     dist2  dist_cats\n",
       "0       -1.123149  1.623187   0.882523\n",
       "1        0.852229  0.464474  -1.304975\n",
       "2        1.495111 -0.926396   0.977794\n",
       "3       -0.915157 -0.844771   0.764578\n",
       "4       -0.050381 -0.926396  -1.304975"
      ]
     },
     "execution_count": 27,
     "metadata": {},
     "output_type": "execute_result"
    }
   ],
   "source": [
    "train[features].head()"
   ]
  },
  {
   "cell_type": "markdown",
   "metadata": {
    "collapsed": true
   },
   "source": [
    "### Training"
   ]
  },
  {
   "cell_type": "code",
   "execution_count": 28,
   "metadata": {
    "collapsed": false
   },
   "outputs": [
    {
     "data": {
      "text/plain": [
       "SGDClassifier(alpha=0.0001, average=False, class_weight=None, epsilon=0.1,\n",
       "       eta0=0.0, fit_intercept=True, l1_ratio=0.15,\n",
       "       learning_rate='optimal', loss='log', n_iter=5, n_jobs=1,\n",
       "       penalty='l2', power_t=0.5, random_state=0, shuffle=True, verbose=0,\n",
       "       warm_start=False)"
      ]
     },
     "execution_count": 28,
     "metadata": {},
     "output_type": "execute_result"
    }
   ],
   "source": [
    "clf = linear_model.SGDClassifier(random_state=0, loss='log', fit_intercept=True, n_iter=5)\n",
    "clf.fit(train[features], train['clicked'].ravel())"
   ]
  },
  {
   "cell_type": "code",
   "execution_count": 29,
   "metadata": {
    "collapsed": false
   },
   "outputs": [
    {
     "data": {
      "text/plain": [
       "array([0, 1], dtype=int64)"
      ]
     },
     "execution_count": 29,
     "metadata": {},
     "output_type": "execute_result"
    }
   ],
   "source": [
    "clf.classes_"
   ]
  },
  {
   "cell_type": "code",
   "execution_count": 30,
   "metadata": {
    "collapsed": false
   },
   "outputs": [
    {
     "data": {
      "text/plain": [
       "(array([[ 0.92548349,  0.046745  , -0.10966562]]), -1.6855743266444816)"
      ]
     },
     "execution_count": 30,
     "metadata": {},
     "output_type": "execute_result"
    }
   ],
   "source": [
    "clf.coef_, clf.intercept_[0]"
   ]
  },
  {
   "cell_type": "code",
   "execution_count": 31,
   "metadata": {
    "collapsed": true
   },
   "outputs": [],
   "source": [
    "del train"
   ]
  },
  {
   "cell_type": "markdown",
   "metadata": {},
   "source": [
    "### Preparation for Prediction"
   ]
  },
  {
   "cell_type": "code",
   "execution_count": 32,
   "metadata": {
    "collapsed": false
   },
   "outputs": [
    {
     "data": {
      "text/plain": [
       "display_id        32225162\n",
       "ad_id             32225162\n",
       "clicksPerShows    32225162\n",
       "dist              27426869\n",
       "dist_cats         30827903\n",
       "dtype: int64"
      ]
     },
     "execution_count": 32,
     "metadata": {},
     "output_type": "execute_result"
    }
   ],
   "source": [
    "test = pd.read_csv(\"../generated/final/events_clicks_CTR_addocs_dist_cats_test.csv\", usecols = usecols[:-1])\n",
    "test.count()"
   ]
  },
  {
   "cell_type": "code",
   "execution_count": 33,
   "metadata": {
    "collapsed": true
   },
   "outputs": [],
   "source": [
    "test['dist2'] = np.square(test['dist'])"
   ]
  },
  {
   "cell_type": "code",
   "execution_count": 34,
   "metadata": {
    "collapsed": false
   },
   "outputs": [
    {
     "data": {
      "text/plain": [
       "display_id        32225162\n",
       "ad_id             32225162\n",
       "clicksPerShows    32225162\n",
       "dist              27426869\n",
       "dist_cats         32225162\n",
       "dist2             32225162\n",
       "dtype: int64"
      ]
     },
     "execution_count": 34,
     "metadata": {},
     "output_type": "execute_result"
    }
   ],
   "source": [
    "test = test.fillna({'dist2':dist2_mean, 'dist_cats':dist_cats_mean}, inplace=True)\n",
    "test.count()"
   ]
  },
  {
   "cell_type": "code",
   "execution_count": 35,
   "metadata": {
    "collapsed": false
   },
   "outputs": [
    {
     "data": {
      "text/plain": [
       "display_id            6245533\n",
       "clicksPerShows_max    6245533\n",
       "clicksPerShows_min    6245533\n",
       "dist2_max             6245533\n",
       "dist2_min             6245533\n",
       "dist_cats_max         6245533\n",
       "dist_cats_min         6245533\n",
       "dtype: int64"
      ]
     },
     "execution_count": 35,
     "metadata": {},
     "output_type": "execute_result"
    }
   ],
   "source": [
    "testM = pd.DataFrame({'clicksPerShows_min':test.groupby('display_id')['clicksPerShows'].min(),\n",
    "                      'clicksPerShows_max':test.groupby('display_id')['clicksPerShows'].max(),\n",
    "                      'dist2_min':test.groupby('display_id')['dist2'].min(),\n",
    "                      'dist2_max':test.groupby('display_id')['dist2'].max(),\n",
    "                      'dist_cats_min':test.groupby('display_id')['dist_cats'].min(),\n",
    "                      'dist_cats_max':test.groupby('display_id')['dist_cats'].max()\n",
    "                      }).reset_index()\n",
    "testM.count()"
   ]
  },
  {
   "cell_type": "code",
   "execution_count": 36,
   "metadata": {
    "collapsed": false
   },
   "outputs": [
    {
     "data": {
      "text/plain": [
       "display_id            6245533\n",
       "clicksPerShows_min    6245533\n",
       "dist2_min             6245533\n",
       "dist_cats_min         6245533\n",
       "clicksPerShows_l      6245533\n",
       "dist2_l               6245533\n",
       "dist_cats_l           6245533\n",
       "dtype: int64"
      ]
     },
     "execution_count": 36,
     "metadata": {},
     "output_type": "execute_result"
    }
   ],
   "source": [
    "testM['clicksPerShows_l'] = testM['clicksPerShows_max'] - testM['clicksPerShows_min']\n",
    "testM['dist2_l'] = testM['dist2_max'] - testM['dist2_min']\n",
    "testM['dist_cats_l'] = testM['dist_cats_max'] - testM['dist_cats_min']\n",
    "testM.drop(['clicksPerShows_max', 'dist2_max', 'dist_cats_max'], axis=1, inplace=True)\n",
    "\n",
    "testM.count()"
   ]
  },
  {
   "cell_type": "code",
   "execution_count": 37,
   "metadata": {
    "collapsed": false
   },
   "outputs": [
    {
     "name": "stdout",
     "output_type": "stream",
     "text": [
      "5545\n",
      "894325\n",
      "476289\n"
     ]
    }
   ],
   "source": [
    "print sum(testM['clicksPerShows_l'] == 0)\n",
    "print sum(testM['dist2_l'] == 0)\n",
    "print sum(testM['dist_cats_l'] == 0)"
   ]
  },
  {
   "cell_type": "code",
   "execution_count": 38,
   "metadata": {
    "collapsed": true
   },
   "outputs": [],
   "source": [
    "testM.loc[testM['clicksPerShows_l'] == 0, 'clicksPerShows_l'] = 1\n",
    "testM.loc[testM['dist2_l'] == 0, 'dist2_l'] = 1\n",
    "testM.loc[testM['dist_cats_l'] == 0, 'dist_cats_l'] = 1"
   ]
  },
  {
   "cell_type": "code",
   "execution_count": 39,
   "metadata": {
    "collapsed": false
   },
   "outputs": [
    {
     "data": {
      "text/plain": [
       "display_id            32225162\n",
       "ad_id                 32225162\n",
       "clicksPerShows        32225162\n",
       "dist                  27426869\n",
       "dist_cats             32225162\n",
       "dist2                 32225162\n",
       "clicksPerShows_min    32225162\n",
       "dist2_min             32225162\n",
       "dist_cats_min         32225162\n",
       "clicksPerShows_l      32225162\n",
       "dist2_l               32225162\n",
       "dist_cats_l           32225162\n",
       "dtype: int64"
      ]
     },
     "execution_count": 39,
     "metadata": {},
     "output_type": "execute_result"
    }
   ],
   "source": [
    "test = test.merge(testM, on='display_id')\n",
    "del testM\n",
    "test.count()"
   ]
  },
  {
   "cell_type": "code",
   "execution_count": 40,
   "metadata": {
    "collapsed": false
   },
   "outputs": [
    {
     "data": {
      "text/plain": [
       "display_id        32225162\n",
       "ad_id             32225162\n",
       "clicksPerShows    32225162\n",
       "dist              27426869\n",
       "dist_cats         32225162\n",
       "dist2             32225162\n",
       "dtype: int64"
      ]
     },
     "execution_count": 40,
     "metadata": {},
     "output_type": "execute_result"
    }
   ],
   "source": [
    "test['clicksPerShows'] = ( test['clicksPerShows'] - test['clicksPerShows_min'] ) / test['clicksPerShows_l']\n",
    "test['dist2'] = ( test['dist2'] - test['dist2_min'] ) / test['dist2_l']\n",
    "test['dist_cats'] = ( test['dist_cats'] - test['dist_cats_min'] ) / test['dist_cats_l']\n",
    "test.drop(['clicksPerShows_min', 'clicksPerShows_l', 'dist2_min', 'dist2_l'], axis=1, inplace=True)\n",
    "test.drop(['dist_cats_min', 'dist_cats_l'], axis=1, inplace=True)\n",
    "#test.drop(['clicksPerShows_min', 'clicksPerShows_l', 'dist_max', 'dist_l'], axis=1, inplace=True)\n",
    "test.count()"
   ]
  },
  {
   "cell_type": "code",
   "execution_count": 41,
   "metadata": {
    "collapsed": false
   },
   "outputs": [
    {
     "name": "stdout",
     "output_type": "stream",
     "text": [
      "clicksPerShows\n",
      "dist2\n",
      "dist_cats\n"
     ]
    }
   ],
   "source": [
    "excpt = [] #['clicksPerShows', 'distM'] #, 'p1', 'p2', 'p3', 't1', 't2', 't3', 'adsPerDisplay']\n",
    "for f in features:\n",
    "    if not f in excpt:\n",
    "        print f\n",
    "        test[f] = scaler[f].transform(test[[f]])  #Use scaler from train"
   ]
  },
  {
   "cell_type": "code",
   "execution_count": 42,
   "metadata": {
    "collapsed": false
   },
   "outputs": [
    {
     "data": {
      "text/html": [
       "<div>\n",
       "<table border=\"1\" class=\"dataframe\">\n",
       "  <thead>\n",
       "    <tr style=\"text-align: right;\">\n",
       "      <th></th>\n",
       "      <th>clicksPerShows</th>\n",
       "      <th>dist2</th>\n",
       "      <th>dist_cats</th>\n",
       "    </tr>\n",
       "  </thead>\n",
       "  <tbody>\n",
       "    <tr>\n",
       "      <th>0</th>\n",
       "      <td>-0.596455</td>\n",
       "      <td>-0.701766</td>\n",
       "      <td>-1.304975</td>\n",
       "    </tr>\n",
       "    <tr>\n",
       "      <th>1</th>\n",
       "      <td>-0.092357</td>\n",
       "      <td>-0.365801</td>\n",
       "      <td>-1.304975</td>\n",
       "    </tr>\n",
       "    <tr>\n",
       "      <th>2</th>\n",
       "      <td>-1.123149</td>\n",
       "      <td>-0.346452</td>\n",
       "      <td>-1.304975</td>\n",
       "    </tr>\n",
       "    <tr>\n",
       "      <th>3</th>\n",
       "      <td>1.495111</td>\n",
       "      <td>1.623187</td>\n",
       "      <td>-1.304975</td>\n",
       "    </tr>\n",
       "    <tr>\n",
       "      <th>4</th>\n",
       "      <td>-0.706363</td>\n",
       "      <td>-0.582469</td>\n",
       "      <td>-1.304975</td>\n",
       "    </tr>\n",
       "  </tbody>\n",
       "</table>\n",
       "</div>"
      ],
      "text/plain": [
       "   clicksPerShows     dist2  dist_cats\n",
       "0       -0.596455 -0.701766  -1.304975\n",
       "1       -0.092357 -0.365801  -1.304975\n",
       "2       -1.123149 -0.346452  -1.304975\n",
       "3        1.495111  1.623187  -1.304975\n",
       "4       -0.706363 -0.582469  -1.304975"
      ]
     },
     "execution_count": 42,
     "metadata": {},
     "output_type": "execute_result"
    }
   ],
   "source": [
    "test[features].head()"
   ]
  },
  {
   "cell_type": "markdown",
   "metadata": {},
   "source": [
    "### Prediction"
   ]
  },
  {
   "cell_type": "code",
   "execution_count": 43,
   "metadata": {
    "collapsed": false
   },
   "outputs": [
    {
     "data": {
      "text/html": [
       "<div>\n",
       "<table border=\"1\" class=\"dataframe\">\n",
       "  <thead>\n",
       "    <tr style=\"text-align: right;\">\n",
       "      <th></th>\n",
       "      <th>display_id</th>\n",
       "      <th>ad_id</th>\n",
       "      <th>clicksPerShows</th>\n",
       "      <th>dist</th>\n",
       "      <th>dist_cats</th>\n",
       "      <th>dist2</th>\n",
       "      <th>res</th>\n",
       "    </tr>\n",
       "  </thead>\n",
       "  <tbody>\n",
       "    <tr>\n",
       "      <th>0</th>\n",
       "      <td>16874904</td>\n",
       "      <td>51910</td>\n",
       "      <td>-0.596455</td>\n",
       "      <td>0.125380</td>\n",
       "      <td>-1.304975</td>\n",
       "      <td>-0.701766</td>\n",
       "      <td>0.106474</td>\n",
       "    </tr>\n",
       "    <tr>\n",
       "      <th>1</th>\n",
       "      <td>16874904</td>\n",
       "      <td>151689</td>\n",
       "      <td>-0.092357</td>\n",
       "      <td>0.185765</td>\n",
       "      <td>-1.304975</td>\n",
       "      <td>-0.365801</td>\n",
       "      <td>0.161781</td>\n",
       "    </tr>\n",
       "    <tr>\n",
       "      <th>2</th>\n",
       "      <td>16874904</td>\n",
       "      <td>156459</td>\n",
       "      <td>-1.123149</td>\n",
       "      <td>0.188655</td>\n",
       "      <td>-1.304975</td>\n",
       "      <td>-0.346452</td>\n",
       "      <td>0.069260</td>\n",
       "    </tr>\n",
       "    <tr>\n",
       "      <th>3</th>\n",
       "      <td>16874904</td>\n",
       "      <td>165380</td>\n",
       "      <td>1.495111</td>\n",
       "      <td>0.381760</td>\n",
       "      <td>-1.304975</td>\n",
       "      <td>1.623187</td>\n",
       "      <td>0.479290</td>\n",
       "    </tr>\n",
       "    <tr>\n",
       "      <th>4</th>\n",
       "      <td>16874904</td>\n",
       "      <td>256392</td>\n",
       "      <td>-0.706363</td>\n",
       "      <td>0.149638</td>\n",
       "      <td>-1.304975</td>\n",
       "      <td>-0.582469</td>\n",
       "      <td>0.097667</td>\n",
       "    </tr>\n",
       "  </tbody>\n",
       "</table>\n",
       "</div>"
      ],
      "text/plain": [
       "   display_id   ad_id  clicksPerShows      dist  dist_cats     dist2       res\n",
       "0    16874904   51910       -0.596455  0.125380  -1.304975 -0.701766  0.106474\n",
       "1    16874904  151689       -0.092357  0.185765  -1.304975 -0.365801  0.161781\n",
       "2    16874904  156459       -1.123149  0.188655  -1.304975 -0.346452  0.069260\n",
       "3    16874904  165380        1.495111  0.381760  -1.304975  1.623187  0.479290\n",
       "4    16874904  256392       -0.706363  0.149638  -1.304975 -0.582469  0.097667"
      ]
     },
     "execution_count": 43,
     "metadata": {},
     "output_type": "execute_result"
    }
   ],
   "source": [
    "test['res'] = pd.Series(clf.predict_proba(test[features])[:,1])\n",
    "test.head()"
   ]
  },
  {
   "cell_type": "code",
   "execution_count": 44,
   "metadata": {
    "collapsed": false
   },
   "outputs": [
    {
     "data": {
      "text/plain": [
       "display_id        32225162\n",
       "ad_id             32225162\n",
       "clicksPerShows    32225162\n",
       "dist              27426869\n",
       "dist_cats         32225162\n",
       "dist2             32225162\n",
       "res               32225162\n",
       "dtype: int64"
      ]
     },
     "execution_count": 44,
     "metadata": {},
     "output_type": "execute_result"
    }
   ],
   "source": [
    "prediction = test.sort_values(by=['display_id', 'res'], ascending=[True, False])\n",
    "prediction.count()"
   ]
  },
  {
   "cell_type": "code",
   "execution_count": 45,
   "metadata": {
    "collapsed": false
   },
   "outputs": [
    {
     "data": {
      "text/plain": [
       "display_id    6245533\n",
       "ad_id         6245533\n",
       "dtype: int64"
      ]
     },
     "execution_count": 45,
     "metadata": {},
     "output_type": "execute_result"
    }
   ],
   "source": [
    "prediction=pd.DataFrame({ 'ad_id': prediction.groupby('display_id')['ad_id'].apply(join) }).astype({'ad_id':str}).reset_index()\n",
    "prediction.count()"
   ]
  },
  {
   "cell_type": "code",
   "execution_count": 46,
   "metadata": {
    "collapsed": false
   },
   "outputs": [
    {
     "data": {
      "text/html": [
       "<div>\n",
       "<table border=\"1\" class=\"dataframe\">\n",
       "  <thead>\n",
       "    <tr style=\"text-align: right;\">\n",
       "      <th></th>\n",
       "      <th>display_id</th>\n",
       "      <th>ad_id</th>\n",
       "    </tr>\n",
       "  </thead>\n",
       "  <tbody>\n",
       "    <tr>\n",
       "      <th>0</th>\n",
       "      <td>16874594</td>\n",
       "      <td>170392 172888 162754 150083 180797 66758</td>\n",
       "    </tr>\n",
       "    <tr>\n",
       "      <th>1</th>\n",
       "      <td>16874595</td>\n",
       "      <td>8846 143982 30609</td>\n",
       "    </tr>\n",
       "    <tr>\n",
       "      <th>2</th>\n",
       "      <td>16874596</td>\n",
       "      <td>289122 289915 132820 11430 173005 288385 57197...</td>\n",
       "    </tr>\n",
       "    <tr>\n",
       "      <th>3</th>\n",
       "      <td>16874597</td>\n",
       "      <td>285834 305790 143981 182039 308836 155945 1809...</td>\n",
       "    </tr>\n",
       "    <tr>\n",
       "      <th>4</th>\n",
       "      <td>16874598</td>\n",
       "      <td>145937 335632 67292 250082</td>\n",
       "    </tr>\n",
       "  </tbody>\n",
       "</table>\n",
       "</div>"
      ],
      "text/plain": [
       "   display_id                                              ad_id\n",
       "0    16874594           170392 172888 162754 150083 180797 66758\n",
       "1    16874595                                  8846 143982 30609\n",
       "2    16874596  289122 289915 132820 11430 173005 288385 57197...\n",
       "3    16874597  285834 305790 143981 182039 308836 155945 1809...\n",
       "4    16874598                         145937 335632 67292 250082"
      ]
     },
     "execution_count": 46,
     "metadata": {},
     "output_type": "execute_result"
    }
   ],
   "source": [
    "prediction.head()"
   ]
  },
  {
   "cell_type": "markdown",
   "metadata": {},
   "source": [
    "### Submission"
   ]
  },
  {
   "cell_type": "code",
   "execution_count": 47,
   "metadata": {
    "collapsed": true
   },
   "outputs": [],
   "source": [
    "prediction.to_csv(\"../submissions/solution_9.csv\", index=False)"
   ]
  },
  {
   "cell_type": "code",
   "execution_count": null,
   "metadata": {
    "collapsed": true
   },
   "outputs": [],
   "source": []
  },
  {
   "cell_type": "code",
   "execution_count": null,
   "metadata": {
    "collapsed": true
   },
   "outputs": [],
   "source": []
  },
  {
   "cell_type": "code",
   "execution_count": null,
   "metadata": {
    "collapsed": true
   },
   "outputs": [],
   "source": []
  }
 ],
 "metadata": {
  "anaconda-cloud": {},
  "kernelspec": {
   "display_name": "Python [Root]",
   "language": "python",
   "name": "Python [Root]"
  },
  "language_info": {
   "codemirror_mode": {
    "name": "ipython",
    "version": 2
   },
   "file_extension": ".py",
   "mimetype": "text/x-python",
   "name": "python",
   "nbconvert_exporter": "python",
   "pygments_lexer": "ipython2",
   "version": "2.7.11"
  }
 },
 "nbformat": 4,
 "nbformat_minor": 0
}
