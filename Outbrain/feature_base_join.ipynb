{
 "cells": [
  {
   "cell_type": "code",
   "execution_count": 1,
   "metadata": {
    "collapsed": true
   },
   "outputs": [],
   "source": [
    "import pandas as pd\n",
    "import os\n",
    "#from sklearn.model_selection import KFold\n",
    "from sklearn.model_selection import ShuffleSplit"
   ]
  },
  {
   "cell_type": "code",
   "execution_count": 2,
   "metadata": {
    "collapsed": false
   },
   "outputs": [],
   "source": [
    "def merge_chunks(right_on_list, input_file, output_file, rename_columns={}, drop_columns=[], chunksize=10**7, how='left', index=False, usecols=None):\n",
    "    first_time = True\n",
    "    size = 0\n",
    "    i = 0\n",
    "    \n",
    "    f = open(output_file, 'w')\n",
    "\n",
    "    for left in pd.read_csv(input_file, usecols=usecols, chunksize=chunksize):\n",
    "        for right, on in right_on_list:\n",
    "            left = left.merge(right, how=how, on=on)\n",
    "            \n",
    "        if len(rename_columns)>0:\n",
    "            left.rename(columns=rename_columns, inplace=True)\n",
    "            \n",
    "        if len(drop_columns)>0:\n",
    "            left.drop(drop_columns, axis=1, inplace = True)\n",
    "    \n",
    "        if first_time:\n",
    "            left.to_csv(f, index = index, header=True)\n",
    "            f.close()\n",
    "            f = open(output_file, 'a')\n",
    "            first_time = False\n",
    "        else:\n",
    "            left.to_csv(f, index = index, header=False)\n",
    "    \n",
    "        size+=chunksize\n",
    "        i+=1\n",
    "        print i, size\n",
    "            \n",
    "    print 'Done'\n",
    "    \n",
    "    f.close()"
   ]
  },
  {
   "cell_type": "markdown",
   "metadata": {},
   "source": [
    "## Load / preview common tables to be joined"
   ]
  },
  {
   "cell_type": "code",
   "execution_count": null,
   "metadata": {
    "collapsed": true
   },
   "outputs": [],
   "source": [
    "events_filename = \"../generated/final/events.csv\""
   ]
  },
  {
   "cell_type": "code",
   "execution_count": null,
   "metadata": {
    "collapsed": false
   },
   "outputs": [],
   "source": [
    "events = pd.read_csv(events_filename, nrows=10)\n",
    "events.head()"
   ]
  },
  {
   "cell_type": "code",
   "execution_count": null,
   "metadata": {
    "collapsed": false
   },
   "outputs": [],
   "source": [
    "adsPerDisplay = pd.read_csv(\"../generated/adsPerDisplay.csv\")\n",
    "adsPerDisplay.count()"
   ]
  },
  {
   "cell_type": "markdown",
   "metadata": {},
   "source": [
    "## Join training"
   ]
  },
  {
   "cell_type": "markdown",
   "metadata": {},
   "source": [
    "### Step 1"
   ]
  },
  {
   "cell_type": "code",
   "execution_count": null,
   "metadata": {
    "collapsed": false
   },
   "outputs": [],
   "source": [
    "clicks_train = pd.read_csv(\"../download/clicks_train.csv\")\n",
    "clicks_train.count()"
   ]
  },
  {
   "cell_type": "code",
   "execution_count": null,
   "metadata": {
    "collapsed": true
   },
   "outputs": [],
   "source": [
    "right_on_list = [(clicks_train, 'display_id'), (adsPerDisplay, 'display_id')] \n",
    "input_file = events_filename\n",
    "output_file = \"../generated/final/events_clicks_train.csv\"   \n",
    "rename_columns={}\n",
    "drop_columns=[]\n",
    "chunksize=5 * 10**6\n",
    "how='inner'"
   ]
  },
  {
   "cell_type": "code",
   "execution_count": null,
   "metadata": {
    "collapsed": false
   },
   "outputs": [],
   "source": [
    "merge_chunks(right_on_list, input_file, output_file, rename_columns, drop_columns, chunksize, how)"
   ]
  },
  {
   "cell_type": "code",
   "execution_count": null,
   "metadata": {
    "collapsed": false
   },
   "outputs": [],
   "source": [
    "pd.read_csv(output_file, nrows=5).head()"
   ]
  },
  {
   "cell_type": "markdown",
   "metadata": {},
   "source": [
    "### Step 2"
   ]
  },
  {
   "cell_type": "markdown",
   "metadata": {},
   "source": [
    "Can be run after feature_base_3"
   ]
  },
  {
   "cell_type": "code",
   "execution_count": null,
   "metadata": {
    "collapsed": false
   },
   "outputs": [],
   "source": [
    "events_CTR_train = pd.read_csv(\"../generated/final/events_CTR_train.csv\")\n",
    "events_CTR_train.count()"
   ]
  },
  {
   "cell_type": "code",
   "execution_count": null,
   "metadata": {
    "collapsed": true
   },
   "outputs": [],
   "source": [
    "right_on_list = [(events_CTR_train, ['display_id', 'ad_id'])] \n",
    "input_file = \"../generated/final/events_clicks_train.csv\"\n",
    "output_file = \"../generated/final/events_clicks_CTR_train.csv\"   \n",
    "rename_columns={}\n",
    "drop_columns=[]\n",
    "chunksize=5 * 10**6\n",
    "how='inner'"
   ]
  },
  {
   "cell_type": "code",
   "execution_count": null,
   "metadata": {
    "collapsed": false
   },
   "outputs": [],
   "source": [
    "merge_chunks(right_on_list, input_file, output_file, rename_columns, drop_columns, chunksize, how)"
   ]
  },
  {
   "cell_type": "code",
   "execution_count": null,
   "metadata": {
    "collapsed": false
   },
   "outputs": [],
   "source": [
    "pd.read_csv(output_file, nrows=5).head()"
   ]
  },
  {
   "cell_type": "markdown",
   "metadata": {},
   "source": [
    "### Step 3"
   ]
  },
  {
   "cell_type": "code",
   "execution_count": null,
   "metadata": {
    "collapsed": false
   },
   "outputs": [],
   "source": [
    "ads = pd.read_csv(\"../download/promoted_content.csv\", names=['ad_id', 'addoc_id', 'c', 'a'], header=0, usecols=['ad_id', 'addoc_id'])\n",
    "ads.head()"
   ]
  },
  {
   "cell_type": "code",
   "execution_count": null,
   "metadata": {
    "collapsed": true
   },
   "outputs": [],
   "source": [
    "right_on_list = [(ads, ['ad_id'])] \n",
    "input_file = \"../generated/final/events_clicks_CTR_train.csv\"\n",
    "output_file = \"../generated/final/events_clicks_CTR_addocs_train.csv\"   \n",
    "rename_columns={}\n",
    "drop_columns=[]\n",
    "chunksize=5 * 10**6\n",
    "how='left'"
   ]
  },
  {
   "cell_type": "code",
   "execution_count": null,
   "metadata": {
    "collapsed": false
   },
   "outputs": [],
   "source": [
    "merge_chunks(right_on_list, input_file, output_file, rename_columns, drop_columns, chunksize, how)"
   ]
  },
  {
   "cell_type": "code",
   "execution_count": null,
   "metadata": {
    "collapsed": false,
    "scrolled": true
   },
   "outputs": [],
   "source": [
    "pd.read_csv(output_file, nrows=5).head()"
   ]
  },
  {
   "cell_type": "markdown",
   "metadata": {},
   "source": [
    "### Step 4"
   ]
  },
  {
   "cell_type": "markdown",
   "metadata": {},
   "source": [
    "Can be run after feature_base_4_topics"
   ]
  },
  {
   "cell_type": "raw",
   "metadata": {
    "collapsed": false
   },
   "source": [
    "page_addoc_dist = pd.read_csv(\"../generated/final/page_addoc_topics_dist.csv\")\n",
    "page_addoc_dist.head()"
   ]
  },
  {
   "cell_type": "code",
   "execution_count": null,
   "metadata": {
    "collapsed": false
   },
   "outputs": [],
   "source": [
    "page_addoc_dist = pd.read_csv(\"../generated/final/page_addoc_topics_no_w_dist.csv\")\n",
    "page_addoc_dist.head()"
   ]
  },
  {
   "cell_type": "code",
   "execution_count": null,
   "metadata": {
    "collapsed": false
   },
   "outputs": [],
   "source": [
    "page_addoc_dist.count()"
   ]
  },
  {
   "cell_type": "raw",
   "metadata": {
    "collapsed": true
   },
   "source": [
    "right_on_list = [(page_addoc_dist, ['document_id', 'addoc_id'])] \n",
    "input_file = \"../generated/final/events_clicks_CTR_addocs_train.csv\"   \n",
    "output_file = \"../generated/final/events_clicks_CTR_addocs_dist_train.csv\"   \n",
    "rename_columns={}\n",
    "drop_columns=[]\n",
    "chunksize=5 * 10**6\n",
    "how='left'"
   ]
  },
  {
   "cell_type": "code",
   "execution_count": null,
   "metadata": {
    "collapsed": true
   },
   "outputs": [],
   "source": [
    "right_on_list = [(page_addoc_dist, ['document_id', 'addoc_id'])] \n",
    "input_file = \"../generated/final/events_clicks_CTR_addocs_train.csv\"   \n",
    "output_file = \"../generated/final/events_clicks_CTR_addocs_dist_no_w_train.csv\"   \n",
    "rename_columns={}\n",
    "drop_columns=[]\n",
    "chunksize=5 * 10**6\n",
    "how='left'"
   ]
  },
  {
   "cell_type": "code",
   "execution_count": null,
   "metadata": {
    "collapsed": false
   },
   "outputs": [],
   "source": [
    "merge_chunks(right_on_list, input_file, output_file, rename_columns, drop_columns, chunksize, how)"
   ]
  },
  {
   "cell_type": "code",
   "execution_count": null,
   "metadata": {
    "collapsed": false
   },
   "outputs": [],
   "source": [
    "pd.read_csv(output_file, nrows=5).head()"
   ]
  },
  {
   "cell_type": "markdown",
   "metadata": {},
   "source": [
    "### Step 5"
   ]
  },
  {
   "cell_type": "markdown",
   "metadata": {},
   "source": [
    "Can be run after feature_base_4_cats"
   ]
  },
  {
   "cell_type": "code",
   "execution_count": null,
   "metadata": {
    "collapsed": true
   },
   "outputs": [],
   "source": [
    "page_addoc_dist = pd.read_csv(\"../generated/final/page_addoc_cats_dist.csv\")\n",
    "page_addoc_dist.head()"
   ]
  },
  {
   "cell_type": "raw",
   "metadata": {
    "collapsed": false
   },
   "source": [
    "page_addoc_dist = pd.read_csv(\"../generated/final/page_addoc_cats_dist_w.csv\")\n",
    "page_addoc_dist.head()"
   ]
  },
  {
   "cell_type": "raw",
   "metadata": {},
   "source": [
    "page_addoc_dist = pd.read_csv(\"../generated/final/page_addoc_categories_t_dist.csv\")\n",
    "page_addoc_dist.head()"
   ]
  },
  {
   "cell_type": "code",
   "execution_count": 9,
   "metadata": {
    "collapsed": false
   },
   "outputs": [
    {
     "data": {
      "text/plain": [
       "document_id      27700275\n",
       "addoc_id         27700275\n",
       "dist_cats        27700275\n",
       "doc_norm_cats    27700275\n",
       "ad_norm_cats     27700275\n",
       "dtype: int64"
      ]
     },
     "execution_count": 9,
     "metadata": {},
     "output_type": "execute_result"
    }
   ],
   "source": [
    "page_addoc_dist.count()"
   ]
  },
  {
   "cell_type": "code",
   "execution_count": null,
   "metadata": {
    "collapsed": true
   },
   "outputs": [],
   "source": [
    "right_on_list = [(page_addoc_dist, ['document_id', 'addoc_id'])] \n",
    "input_file = \"../generated/final/events_clicks_CTR_addocs_dist_no_w_train.csv\"   \n",
    "output_file = \"../generated/final/events_clicks_CTR_addocs_dist_cats_train.csv\"   \n",
    "rename_columns={}\n",
    "drop_columns=[]\n",
    "chunksize=5 * 10**6\n",
    "how='left'"
   ]
  },
  {
   "cell_type": "raw",
   "metadata": {
    "collapsed": true
   },
   "source": [
    "right_on_list = [(page_addoc_dist, ['document_id', 'addoc_id'])] \n",
    "input_file = \"../generated/final/events_clicks_CTR_addocs_dist_no_w_train.csv\"   \n",
    "output_file = \"../generated/final/events_clicks_CTR_addocs_dist_cats_w_train.csv\"   \n",
    "rename_columns={}\n",
    "drop_columns=[]\n",
    "chunksize=5 * 10**6\n",
    "how='left'"
   ]
  },
  {
   "cell_type": "raw",
   "metadata": {},
   "source": [
    "right_on_list = [(page_addoc_dist, ['document_id', 'addoc_id', 'traffic_source'])] \n",
    "input_file = \"../generated/final/events_clicks_CTR_addocs_dist_no_w_train.csv\"   \n",
    "output_file = \"../generated/final/events_clicks_CTR_addocs_dist_cats_t_train.csv\"   \n",
    "rename_columns={}\n",
    "drop_columns=[]\n",
    "chunksize=5 * 10**6\n",
    "how='left'"
   ]
  },
  {
   "cell_type": "code",
   "execution_count": 11,
   "metadata": {
    "collapsed": false
   },
   "outputs": [
    {
     "name": "stdout",
     "output_type": "stream",
     "text": [
      "1 5000000\n",
      "2 10000000\n",
      "3 15000000\n",
      "4 20000000\n",
      "5 25000000\n",
      "6 30000000\n",
      "7 35000000\n",
      "8 40000000\n",
      "9 45000000\n",
      "10 50000000\n",
      "11 55000000\n",
      "12 60000000\n",
      "13 65000000\n",
      "14 70000000\n",
      "15 75000000\n",
      "16 80000000\n",
      "17 85000000\n",
      "18 90000000\n",
      "Done\n"
     ]
    }
   ],
   "source": [
    "merge_chunks(right_on_list, input_file, output_file, rename_columns, drop_columns, chunksize, how)"
   ]
  },
  {
   "cell_type": "code",
   "execution_count": 12,
   "metadata": {
    "collapsed": false
   },
   "outputs": [
    {
     "data": {
      "text/html": [
       "<div>\n",
       "<table border=\"1\" class=\"dataframe\">\n",
       "  <thead>\n",
       "    <tr style=\"text-align: right;\">\n",
       "      <th></th>\n",
       "      <th>display_id</th>\n",
       "      <th>document_id</th>\n",
       "      <th>timestamp</th>\n",
       "      <th>traffic_source</th>\n",
       "      <th>platform</th>\n",
       "      <th>day</th>\n",
       "      <th>hour</th>\n",
       "      <th>geo</th>\n",
       "      <th>ad_id</th>\n",
       "      <th>clicked</th>\n",
       "      <th>adsPerDisplay</th>\n",
       "      <th>clicksPerShows</th>\n",
       "      <th>addoc_id</th>\n",
       "      <th>dist</th>\n",
       "      <th>dist_cats</th>\n",
       "      <th>doc_norm_cats</th>\n",
       "      <th>ad_norm_cats</th>\n",
       "    </tr>\n",
       "  </thead>\n",
       "  <tbody>\n",
       "    <tr>\n",
       "      <th>0</th>\n",
       "      <td>8</td>\n",
       "      <td>1330329</td>\n",
       "      <td>638</td>\n",
       "      <td>1.0</td>\n",
       "      <td>2.0</td>\n",
       "      <td>1</td>\n",
       "      <td>7</td>\n",
       "      <td>2765</td>\n",
       "      <td>95724</td>\n",
       "      <td>0</td>\n",
       "      <td>4</td>\n",
       "      <td>0.034785</td>\n",
       "      <td>1136820</td>\n",
       "      <td>0.537786</td>\n",
       "      <td>0.321621</td>\n",
       "      <td>0.133651</td>\n",
       "      <td>0.317691</td>\n",
       "    </tr>\n",
       "    <tr>\n",
       "      <th>1</th>\n",
       "      <td>8</td>\n",
       "      <td>1330329</td>\n",
       "      <td>638</td>\n",
       "      <td>1.0</td>\n",
       "      <td>2.0</td>\n",
       "      <td>1</td>\n",
       "      <td>7</td>\n",
       "      <td>2765</td>\n",
       "      <td>175694</td>\n",
       "      <td>0</td>\n",
       "      <td>4</td>\n",
       "      <td>0.202327</td>\n",
       "      <td>1392479</td>\n",
       "      <td>0.430210</td>\n",
       "      <td>0.025426</td>\n",
       "      <td>0.133651</td>\n",
       "      <td>0.131686</td>\n",
       "    </tr>\n",
       "    <tr>\n",
       "      <th>2</th>\n",
       "      <td>8</td>\n",
       "      <td>1330329</td>\n",
       "      <td>638</td>\n",
       "      <td>1.0</td>\n",
       "      <td>2.0</td>\n",
       "      <td>1</td>\n",
       "      <td>7</td>\n",
       "      <td>2765</td>\n",
       "      <td>280430</td>\n",
       "      <td>1</td>\n",
       "      <td>4</td>\n",
       "      <td>0.256853</td>\n",
       "      <td>1601512</td>\n",
       "      <td>0.245120</td>\n",
       "      <td>0.144678</td>\n",
       "      <td>0.133651</td>\n",
       "      <td>0.055399</td>\n",
       "    </tr>\n",
       "    <tr>\n",
       "      <th>3</th>\n",
       "      <td>8</td>\n",
       "      <td>1330329</td>\n",
       "      <td>638</td>\n",
       "      <td>1.0</td>\n",
       "      <td>2.0</td>\n",
       "      <td>1</td>\n",
       "      <td>7</td>\n",
       "      <td>2765</td>\n",
       "      <td>329774</td>\n",
       "      <td>0</td>\n",
       "      <td>4</td>\n",
       "      <td>0.052426</td>\n",
       "      <td>1652347</td>\n",
       "      <td>0.259652</td>\n",
       "      <td>0.158881</td>\n",
       "      <td>0.133651</td>\n",
       "      <td>0.085911</td>\n",
       "    </tr>\n",
       "    <tr>\n",
       "      <th>4</th>\n",
       "      <td>2657</td>\n",
       "      <td>1271490</td>\n",
       "      <td>185255</td>\n",
       "      <td>1.0</td>\n",
       "      <td>2.0</td>\n",
       "      <td>1</td>\n",
       "      <td>7</td>\n",
       "      <td>2765</td>\n",
       "      <td>70081</td>\n",
       "      <td>0</td>\n",
       "      <td>4</td>\n",
       "      <td>0.150145</td>\n",
       "      <td>933594</td>\n",
       "      <td>0.124739</td>\n",
       "      <td>0.139138</td>\n",
       "      <td>0.317707</td>\n",
       "      <td>0.179115</td>\n",
       "    </tr>\n",
       "  </tbody>\n",
       "</table>\n",
       "</div>"
      ],
      "text/plain": [
       "   display_id  document_id  timestamp  traffic_source  platform  day  hour  \\\n",
       "0           8      1330329        638             1.0       2.0    1     7   \n",
       "1           8      1330329        638             1.0       2.0    1     7   \n",
       "2           8      1330329        638             1.0       2.0    1     7   \n",
       "3           8      1330329        638             1.0       2.0    1     7   \n",
       "4        2657      1271490     185255             1.0       2.0    1     7   \n",
       "\n",
       "    geo   ad_id  clicked  adsPerDisplay  clicksPerShows  addoc_id      dist  \\\n",
       "0  2765   95724        0              4        0.034785   1136820  0.537786   \n",
       "1  2765  175694        0              4        0.202327   1392479  0.430210   \n",
       "2  2765  280430        1              4        0.256853   1601512  0.245120   \n",
       "3  2765  329774        0              4        0.052426   1652347  0.259652   \n",
       "4  2765   70081        0              4        0.150145    933594  0.124739   \n",
       "\n",
       "   dist_cats  doc_norm_cats  ad_norm_cats  \n",
       "0   0.321621       0.133651      0.317691  \n",
       "1   0.025426       0.133651      0.131686  \n",
       "2   0.144678       0.133651      0.055399  \n",
       "3   0.158881       0.133651      0.085911  \n",
       "4   0.139138       0.317707      0.179115  "
      ]
     },
     "execution_count": 12,
     "metadata": {},
     "output_type": "execute_result"
    }
   ],
   "source": [
    "pd.read_csv(output_file, nrows=5).head()"
   ]
  },
  {
   "cell_type": "markdown",
   "metadata": {},
   "source": [
    "### Step 6"
   ]
  },
  {
   "cell_type": "markdown",
   "metadata": {},
   "source": [
    "Can be run after feature_base_4_ents"
   ]
  },
  {
   "cell_type": "code",
   "execution_count": null,
   "metadata": {
    "collapsed": false
   },
   "outputs": [],
   "source": [
    "page_addoc_dist = pd.read_csv(\"../generated/final/page_addoc_ents_dist.csv\")\n",
    "page_addoc_dist.head()"
   ]
  },
  {
   "cell_type": "code",
   "execution_count": null,
   "metadata": {
    "collapsed": false
   },
   "outputs": [],
   "source": [
    "page_addoc_dist.count()"
   ]
  },
  {
   "cell_type": "code",
   "execution_count": null,
   "metadata": {
    "collapsed": true
   },
   "outputs": [],
   "source": [
    "right_on_list = [(page_addoc_dist, ['document_id', 'addoc_id'])] \n",
    "input_file = \"../generated/final/events_clicks_CTR_addocs_dist_cats_train.csv\"   \n",
    "output_file = \"../generated/final/events_clicks_CTR_addocs_dist_ents_train.csv\"   \n",
    "rename_columns={}\n",
    "drop_columns=[]\n",
    "chunksize=5 * 10**6\n",
    "how='left'"
   ]
  },
  {
   "cell_type": "code",
   "execution_count": null,
   "metadata": {
    "collapsed": false
   },
   "outputs": [],
   "source": [
    "merge_chunks(right_on_list, input_file, output_file, rename_columns, drop_columns, chunksize, how)"
   ]
  },
  {
   "cell_type": "code",
   "execution_count": null,
   "metadata": {
    "collapsed": false
   },
   "outputs": [],
   "source": [
    "pd.read_csv(output_file, nrows=5).head()"
   ]
  },
  {
   "cell_type": "markdown",
   "metadata": {},
   "source": [
    "### Step 7"
   ]
  },
  {
   "cell_type": "code",
   "execution_count": 3,
   "metadata": {
    "collapsed": false
   },
   "outputs": [
    {
     "data": {
      "text/plain": [
       "document_id          1976100\n",
       "publish_timestamp    1976100\n",
       "dtype: int64"
      ]
     },
     "execution_count": 3,
     "metadata": {},
     "output_type": "execute_result"
    }
   ],
   "source": [
    "docs_time_doc = pd.read_csv(\"../generated/final/docs_publish_timestamp.csv\")\n",
    "docs_time_doc.count()"
   ]
  },
  {
   "cell_type": "code",
   "execution_count": 4,
   "metadata": {
    "collapsed": false
   },
   "outputs": [
    {
     "data": {
      "text/plain": [
       "addoc_id             1976100\n",
       "publish_timestamp    1976100\n",
       "dtype: int64"
      ]
     },
     "execution_count": 4,
     "metadata": {},
     "output_type": "execute_result"
    }
   ],
   "source": [
    "docs_time_addoc = docs_time_doc.rename(columns={'document_id':'addoc_id'}).copy()\n",
    "docs_time_addoc.count()"
   ]
  },
  {
   "cell_type": "code",
   "execution_count": 5,
   "metadata": {
    "collapsed": true
   },
   "outputs": [],
   "source": [
    "right_on_list = [(docs_time_doc, ['document_id']), (docs_time_addoc, ['addoc_id'])] \n",
    "input_file = \"../generated/final/events_clicks_CTR_addocs_dist_ents_train.csv\"      \n",
    "output_file = \"../generated/final/events_clicks_CTR_addocs_dist_time_train.csv\"   \n",
    "rename_columns={'publish_timestamp_x':'doc_time', 'publish_timestamp_y':'addoc_time'}\n",
    "drop_columns=[]\n",
    "chunksize=5 * 10**6\n",
    "how='left'"
   ]
  },
  {
   "cell_type": "code",
   "execution_count": 6,
   "metadata": {
    "collapsed": false
   },
   "outputs": [
    {
     "name": "stdout",
     "output_type": "stream",
     "text": [
      "1 5000000\n",
      "2 10000000\n",
      "3 15000000\n",
      "4 20000000\n",
      "5 25000000\n",
      "6 30000000\n",
      "7 35000000\n",
      "8 40000000\n",
      "9 45000000\n",
      "10 50000000\n",
      "11 55000000\n",
      "12 60000000\n",
      "13 65000000\n",
      "14 70000000\n",
      "15 75000000\n",
      "16 80000000\n",
      "17 85000000\n",
      "18 90000000\n",
      "Done\n"
     ]
    }
   ],
   "source": [
    "merge_chunks(right_on_list, input_file, output_file, rename_columns, drop_columns, chunksize, how)"
   ]
  },
  {
   "cell_type": "code",
   "execution_count": 7,
   "metadata": {
    "collapsed": false
   },
   "outputs": [
    {
     "data": {
      "text/html": [
       "<div>\n",
       "<table border=\"1\" class=\"dataframe\">\n",
       "  <thead>\n",
       "    <tr style=\"text-align: right;\">\n",
       "      <th></th>\n",
       "      <th>display_id</th>\n",
       "      <th>document_id</th>\n",
       "      <th>timestamp</th>\n",
       "      <th>traffic_source</th>\n",
       "      <th>platform</th>\n",
       "      <th>day</th>\n",
       "      <th>hour</th>\n",
       "      <th>geo</th>\n",
       "      <th>ad_id</th>\n",
       "      <th>clicked</th>\n",
       "      <th>adsPerDisplay</th>\n",
       "      <th>clicksPerShows</th>\n",
       "      <th>addoc_id</th>\n",
       "      <th>dist</th>\n",
       "      <th>dist_cats</th>\n",
       "      <th>dist_ents</th>\n",
       "      <th>doc_time</th>\n",
       "      <th>addoc_time</th>\n",
       "    </tr>\n",
       "  </thead>\n",
       "  <tbody>\n",
       "    <tr>\n",
       "      <th>0</th>\n",
       "      <td>8</td>\n",
       "      <td>1330329</td>\n",
       "      <td>638</td>\n",
       "      <td>1.0</td>\n",
       "      <td>2.0</td>\n",
       "      <td>1</td>\n",
       "      <td>7</td>\n",
       "      <td>2765</td>\n",
       "      <td>95724</td>\n",
       "      <td>0</td>\n",
       "      <td>4</td>\n",
       "      <td>0.034785</td>\n",
       "      <td>1136820</td>\n",
       "      <td>0.537786</td>\n",
       "      <td>1.254512</td>\n",
       "      <td>1.075178</td>\n",
       "      <td>-3.860280e+10</td>\n",
       "      <td>-8.661600e+09</td>\n",
       "    </tr>\n",
       "    <tr>\n",
       "      <th>1</th>\n",
       "      <td>8</td>\n",
       "      <td>1330329</td>\n",
       "      <td>638</td>\n",
       "      <td>1.0</td>\n",
       "      <td>2.0</td>\n",
       "      <td>1</td>\n",
       "      <td>7</td>\n",
       "      <td>2765</td>\n",
       "      <td>175694</td>\n",
       "      <td>0</td>\n",
       "      <td>4</td>\n",
       "      <td>0.202327</td>\n",
       "      <td>1392479</td>\n",
       "      <td>0.430210</td>\n",
       "      <td>0.098995</td>\n",
       "      <td>1.073816</td>\n",
       "      <td>-3.860280e+10</td>\n",
       "      <td>-3.045600e+09</td>\n",
       "    </tr>\n",
       "    <tr>\n",
       "      <th>2</th>\n",
       "      <td>8</td>\n",
       "      <td>1330329</td>\n",
       "      <td>638</td>\n",
       "      <td>1.0</td>\n",
       "      <td>2.0</td>\n",
       "      <td>1</td>\n",
       "      <td>7</td>\n",
       "      <td>2765</td>\n",
       "      <td>280430</td>\n",
       "      <td>1</td>\n",
       "      <td>4</td>\n",
       "      <td>0.256853</td>\n",
       "      <td>1601512</td>\n",
       "      <td>0.245120</td>\n",
       "      <td>1.304837</td>\n",
       "      <td>NaN</td>\n",
       "      <td>-3.860280e+10</td>\n",
       "      <td>NaN</td>\n",
       "    </tr>\n",
       "    <tr>\n",
       "      <th>3</th>\n",
       "      <td>8</td>\n",
       "      <td>1330329</td>\n",
       "      <td>638</td>\n",
       "      <td>1.0</td>\n",
       "      <td>2.0</td>\n",
       "      <td>1</td>\n",
       "      <td>7</td>\n",
       "      <td>2765</td>\n",
       "      <td>329774</td>\n",
       "      <td>0</td>\n",
       "      <td>4</td>\n",
       "      <td>0.052426</td>\n",
       "      <td>1652347</td>\n",
       "      <td>0.259652</td>\n",
       "      <td>1.192209</td>\n",
       "      <td>0.702294</td>\n",
       "      <td>-3.860280e+10</td>\n",
       "      <td>-6.264000e+08</td>\n",
       "    </tr>\n",
       "    <tr>\n",
       "      <th>4</th>\n",
       "      <td>2657</td>\n",
       "      <td>1271490</td>\n",
       "      <td>185255</td>\n",
       "      <td>1.0</td>\n",
       "      <td>2.0</td>\n",
       "      <td>1</td>\n",
       "      <td>7</td>\n",
       "      <td>2765</td>\n",
       "      <td>70081</td>\n",
       "      <td>0</td>\n",
       "      <td>4</td>\n",
       "      <td>0.150145</td>\n",
       "      <td>933594</td>\n",
       "      <td>0.124739</td>\n",
       "      <td>0.409647</td>\n",
       "      <td>NaN</td>\n",
       "      <td>-5.839200e+09</td>\n",
       "      <td>-3.242160e+10</td>\n",
       "    </tr>\n",
       "  </tbody>\n",
       "</table>\n",
       "</div>"
      ],
      "text/plain": [
       "   display_id  document_id  timestamp  traffic_source  platform  day  hour  \\\n",
       "0           8      1330329        638             1.0       2.0    1     7   \n",
       "1           8      1330329        638             1.0       2.0    1     7   \n",
       "2           8      1330329        638             1.0       2.0    1     7   \n",
       "3           8      1330329        638             1.0       2.0    1     7   \n",
       "4        2657      1271490     185255             1.0       2.0    1     7   \n",
       "\n",
       "    geo   ad_id  clicked  adsPerDisplay  clicksPerShows  addoc_id      dist  \\\n",
       "0  2765   95724        0              4        0.034785   1136820  0.537786   \n",
       "1  2765  175694        0              4        0.202327   1392479  0.430210   \n",
       "2  2765  280430        1              4        0.256853   1601512  0.245120   \n",
       "3  2765  329774        0              4        0.052426   1652347  0.259652   \n",
       "4  2765   70081        0              4        0.150145    933594  0.124739   \n",
       "\n",
       "   dist_cats  dist_ents      doc_time    addoc_time  \n",
       "0   1.254512   1.075178 -3.860280e+10 -8.661600e+09  \n",
       "1   0.098995   1.073816 -3.860280e+10 -3.045600e+09  \n",
       "2   1.304837        NaN -3.860280e+10           NaN  \n",
       "3   1.192209   0.702294 -3.860280e+10 -6.264000e+08  \n",
       "4   0.409647        NaN -5.839200e+09 -3.242160e+10  "
      ]
     },
     "execution_count": 7,
     "metadata": {},
     "output_type": "execute_result"
    }
   ],
   "source": [
    "pd.read_csv(output_file, nrows=5).head()"
   ]
  },
  {
   "cell_type": "markdown",
   "metadata": {},
   "source": [
    "## Join testing"
   ]
  },
  {
   "cell_type": "markdown",
   "metadata": {},
   "source": [
    "### Step 1"
   ]
  },
  {
   "cell_type": "code",
   "execution_count": null,
   "metadata": {
    "collapsed": false
   },
   "outputs": [],
   "source": [
    "clicks_test = pd.read_csv(\"../download/clicks_test.csv\")\n",
    "clicks_test.count()"
   ]
  },
  {
   "cell_type": "code",
   "execution_count": null,
   "metadata": {
    "collapsed": false
   },
   "outputs": [],
   "source": [
    "clicks_test.head()"
   ]
  },
  {
   "cell_type": "code",
   "execution_count": null,
   "metadata": {
    "collapsed": true
   },
   "outputs": [],
   "source": [
    "ids = clicks_test.display_id"
   ]
  },
  {
   "cell_type": "code",
   "execution_count": null,
   "metadata": {
    "collapsed": true
   },
   "outputs": [],
   "source": [
    "prev = 0\n",
    "for nxt in ids:\n",
    "    if nxt<prev:\n",
    "        print nxt\n",
    "        break\n",
    "    prev = nxt    "
   ]
  },
  {
   "cell_type": "code",
   "execution_count": null,
   "metadata": {
    "collapsed": true
   },
   "outputs": [],
   "source": [
    "right_on_list = [(clicks_test, 'display_id'), (adsPerDisplay, 'display_id')] \n",
    "input_file = events_filename\n",
    "output_file = \"../generated/final/events_clicks_test.csv\"   \n",
    "rename_columns={}\n",
    "drop_columns=[]\n",
    "chunksize=5 * 10**6\n",
    "how='inner'"
   ]
  },
  {
   "cell_type": "code",
   "execution_count": null,
   "metadata": {
    "collapsed": false
   },
   "outputs": [],
   "source": [
    "merge_chunks(right_on_list, input_file, output_file, rename_columns, drop_columns, chunksize, how)"
   ]
  },
  {
   "cell_type": "code",
   "execution_count": null,
   "metadata": {
    "collapsed": false
   },
   "outputs": [],
   "source": [
    "pd.read_csv(output_file, nrows=5).head()"
   ]
  },
  {
   "cell_type": "markdown",
   "metadata": {},
   "source": [
    "### Step 2"
   ]
  },
  {
   "cell_type": "code",
   "execution_count": null,
   "metadata": {
    "collapsed": false
   },
   "outputs": [],
   "source": [
    "events_CTR_test = pd.read_csv(\"../generated/final/events_CTR_test.csv\")\n",
    "events_CTR_test.count()"
   ]
  },
  {
   "cell_type": "code",
   "execution_count": null,
   "metadata": {
    "collapsed": true
   },
   "outputs": [],
   "source": [
    "right_on_list = [(events_CTR_test, ['display_id', 'ad_id'])] \n",
    "input_file = \"../generated/final/events_clicks_test.csv\"\n",
    "output_file = \"../generated/final/events_clicks_CTR_test.csv\"   \n",
    "rename_columns={}\n",
    "drop_columns=[]\n",
    "chunksize=5 * 10**6\n",
    "how='inner'"
   ]
  },
  {
   "cell_type": "code",
   "execution_count": null,
   "metadata": {
    "collapsed": false
   },
   "outputs": [],
   "source": [
    "merge_chunks(right_on_list, input_file, output_file, rename_columns, drop_columns, chunksize, how)"
   ]
  },
  {
   "cell_type": "code",
   "execution_count": null,
   "metadata": {
    "collapsed": false
   },
   "outputs": [],
   "source": [
    "pd.read_csv(output_file, nrows=5).head()"
   ]
  },
  {
   "cell_type": "markdown",
   "metadata": {},
   "source": [
    "### Step 3"
   ]
  },
  {
   "cell_type": "code",
   "execution_count": null,
   "metadata": {
    "collapsed": false
   },
   "outputs": [],
   "source": [
    "ads = pd.read_csv(\"../download/promoted_content.csv\", names=['ad_id', 'addoc_id', 'c', 'a'], header=0, usecols=['ad_id', 'addoc_id'])\n",
    "ads.head()"
   ]
  },
  {
   "cell_type": "code",
   "execution_count": null,
   "metadata": {
    "collapsed": true
   },
   "outputs": [],
   "source": [
    "right_on_list = [(ads, ['ad_id'])] \n",
    "input_file = \"../generated/final/events_clicks_CTR_test.csv\"\n",
    "output_file = \"../generated/final/events_clicks_CTR_addocs_test.csv\"   \n",
    "rename_columns={}\n",
    "drop_columns=[]\n",
    "chunksize=5 * 10**6\n",
    "how='left'"
   ]
  },
  {
   "cell_type": "code",
   "execution_count": null,
   "metadata": {
    "collapsed": false
   },
   "outputs": [],
   "source": [
    "merge_chunks(right_on_list, input_file, output_file, rename_columns, drop_columns, chunksize, how)"
   ]
  },
  {
   "cell_type": "code",
   "execution_count": null,
   "metadata": {
    "collapsed": false
   },
   "outputs": [],
   "source": [
    "pd.read_csv(output_file, nrows=5).head()"
   ]
  },
  {
   "cell_type": "code",
   "execution_count": null,
   "metadata": {
    "collapsed": true
   },
   "outputs": [],
   "source": []
  },
  {
   "cell_type": "markdown",
   "metadata": {},
   "source": [
    "### Step 4"
   ]
  },
  {
   "cell_type": "markdown",
   "metadata": {},
   "source": [
    "Can be run after feature_base_4_topics"
   ]
  },
  {
   "cell_type": "raw",
   "metadata": {
    "collapsed": false
   },
   "source": [
    "page_addoc_dist = pd.read_csv(\"../generated/final/page_addoc_topics_dist.csv\")\n",
    "page_addoc_dist.head()"
   ]
  },
  {
   "cell_type": "code",
   "execution_count": null,
   "metadata": {
    "collapsed": false
   },
   "outputs": [],
   "source": [
    "page_addoc_dist = pd.read_csv(\"../generated/final/page_addoc_topics_no_w_dist_test.csv\")\n",
    "page_addoc_dist.head()"
   ]
  },
  {
   "cell_type": "code",
   "execution_count": null,
   "metadata": {
    "collapsed": false
   },
   "outputs": [],
   "source": [
    "page_addoc_dist.count()"
   ]
  },
  {
   "cell_type": "raw",
   "metadata": {
    "collapsed": true
   },
   "source": [
    "right_on_list = [(page_addoc_dist, ['document_id', 'addoc_id'])] \n",
    "input_file = \"../generated/final/events_clicks_CTR_addocs_train.csv\"   \n",
    "output_file = \"../generated/final/events_clicks_CTR_addocs_dist_train.csv\"   \n",
    "rename_columns={}\n",
    "drop_columns=[]\n",
    "chunksize=5 * 10**6\n",
    "how='left'"
   ]
  },
  {
   "cell_type": "code",
   "execution_count": null,
   "metadata": {
    "collapsed": true
   },
   "outputs": [],
   "source": [
    "right_on_list = [(page_addoc_dist, ['document_id', 'addoc_id'])] \n",
    "input_file = \"../generated/final/events_clicks_CTR_addocs_test.csv\"   \n",
    "output_file = \"../generated/final/events_clicks_CTR_addocs_dist_no_w_test.csv\"   \n",
    "rename_columns={}\n",
    "drop_columns=[]\n",
    "chunksize=5 * 10**6\n",
    "how='left'"
   ]
  },
  {
   "cell_type": "code",
   "execution_count": null,
   "metadata": {
    "collapsed": false
   },
   "outputs": [],
   "source": [
    "merge_chunks(right_on_list, input_file, output_file, rename_columns, drop_columns, chunksize, how)"
   ]
  },
  {
   "cell_type": "code",
   "execution_count": null,
   "metadata": {
    "collapsed": false
   },
   "outputs": [],
   "source": [
    "pd.read_csv(output_file, nrows=5).head()"
   ]
  },
  {
   "cell_type": "markdown",
   "metadata": {},
   "source": [
    "### Step 5"
   ]
  },
  {
   "cell_type": "markdown",
   "metadata": {},
   "source": [
    "Can be run after feature_base_4_cats"
   ]
  },
  {
   "cell_type": "code",
   "execution_count": null,
   "metadata": {
    "collapsed": false
   },
   "outputs": [],
   "source": [
    "page_addoc_dist = pd.read_csv(\"../generated/final/page_addoc_cats_dist_test.csv\")\n",
    "page_addoc_dist.head()"
   ]
  },
  {
   "cell_type": "code",
   "execution_count": null,
   "metadata": {
    "collapsed": false
   },
   "outputs": [],
   "source": [
    "page_addoc_dist.count()"
   ]
  },
  {
   "cell_type": "code",
   "execution_count": null,
   "metadata": {
    "collapsed": true
   },
   "outputs": [],
   "source": [
    "right_on_list = [(page_addoc_dist, ['document_id', 'addoc_id'])] \n",
    "input_file = \"../generated/final/events_clicks_CTR_addocs_dist_no_w_test.csv\"   \n",
    "output_file = \"../generated/final/events_clicks_CTR_addocs_dist_cats_test.csv\"   \n",
    "rename_columns={}\n",
    "drop_columns=[]\n",
    "chunksize=5 * 10**6\n",
    "how='left'"
   ]
  },
  {
   "cell_type": "code",
   "execution_count": null,
   "metadata": {
    "collapsed": false
   },
   "outputs": [],
   "source": [
    "merge_chunks(right_on_list, input_file, output_file, rename_columns, drop_columns, chunksize, how)"
   ]
  },
  {
   "cell_type": "code",
   "execution_count": null,
   "metadata": {
    "collapsed": false
   },
   "outputs": [],
   "source": [
    "pd.read_csv(output_file, nrows=5).head()"
   ]
  },
  {
   "cell_type": "markdown",
   "metadata": {},
   "source": [
    "## Validation splits"
   ]
  },
  {
   "cell_type": "code",
   "execution_count": null,
   "metadata": {
    "collapsed": true
   },
   "outputs": [],
   "source": [
    "train_filename = \"../generated/final/events_clicks_CTR_train.csv\""
   ]
  },
  {
   "cell_type": "code",
   "execution_count": null,
   "metadata": {
    "collapsed": false
   },
   "outputs": [],
   "source": [
    "displays = pd.read_csv(\"../download/events.csv\", usecols=['display_id'])\n",
    "displays.count()"
   ]
  },
  {
   "cell_type": "code",
   "execution_count": null,
   "metadata": {
    "collapsed": false
   },
   "outputs": [],
   "source": [
    "#kf = KFold(n_splits=5)\n",
    "#train, test = kf.split(displays).next()\n",
    "ss = ShuffleSplit(n_splits=1, test_size=0.25, random_state=0)\n",
    "train_displays, test_displays = ss.split(displays).next()\n",
    "\n",
    "print len(train_displays), len(test_displays)  #17340094 5780032"
   ]
  },
  {
   "cell_type": "code",
   "execution_count": null,
   "metadata": {
    "collapsed": false
   },
   "outputs": [],
   "source": [
    "displays = displays.iloc[test_displays].copy()\n",
    "displays['mark'] = [1]*len(displays)\n",
    "displays.count()"
   ]
  },
  {
   "cell_type": "code",
   "execution_count": null,
   "metadata": {
    "collapsed": false
   },
   "outputs": [],
   "source": [
    "train = pd.read_csv(train_filename, usecols=['display_id'])\n",
    "train.count()"
   ]
  },
  {
   "cell_type": "code",
   "execution_count": null,
   "metadata": {
    "collapsed": false
   },
   "outputs": [],
   "source": [
    "train_split = pd.merge(train, displays, on='display_id', how='left')\n",
    "train_split.count()"
   ]
  },
  {
   "cell_type": "code",
   "execution_count": null,
   "metadata": {
    "collapsed": true
   },
   "outputs": [],
   "source": [
    "train_index = train_split[train_split['mark'].isnull()].index\n",
    "test_index = train_split[train_split['mark'].notnull()].index\n",
    "len(train_index), len(test_index)"
   ]
  },
  {
   "cell_type": "code",
   "execution_count": null,
   "metadata": {
    "collapsed": true
   },
   "outputs": [],
   "source": [
    "pd.DataFrame({'index':train_index}).to_csv(\"../generated/final/train_index.csv\", index=False)\n",
    "pd.DataFrame({'index':test_index}).to_csv(\"../generated/final/test_index.csv\", index=False)"
   ]
  },
  {
   "cell_type": "code",
   "execution_count": null,
   "metadata": {
    "collapsed": true
   },
   "outputs": [],
   "source": [
    "pd.read_csv(\"../generated/final/train_index.csv\", nrows=10).head(10)"
   ]
  },
  {
   "cell_type": "code",
   "execution_count": null,
   "metadata": {
    "collapsed": true
   },
   "outputs": [],
   "source": []
  }
 ],
 "metadata": {
  "anaconda-cloud": {},
  "kernelspec": {
   "display_name": "Python [Root]",
   "language": "python",
   "name": "Python [Root]"
  },
  "language_info": {
   "codemirror_mode": {
    "name": "ipython",
    "version": 2
   },
   "file_extension": ".py",
   "mimetype": "text/x-python",
   "name": "python",
   "nbconvert_exporter": "python",
   "pygments_lexer": "ipython2",
   "version": "2.7.11"
  }
 },
 "nbformat": 4,
 "nbformat_minor": 0
}
