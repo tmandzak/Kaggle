{
 "cells": [
  {
   "cell_type": "code",
   "execution_count": 1,
   "metadata": {
    "collapsed": false
   },
   "outputs": [
    {
     "name": "stdout",
     "output_type": "stream",
     "text": [
      "Populating the interactive namespace from numpy and matplotlib\n"
     ]
    }
   ],
   "source": [
    "%pylab inline\n",
    "import pandas as pd\n",
    "import numpy as np\n",
    "from sklearn import preprocessing"
   ]
  },
  {
   "cell_type": "markdown",
   "metadata": {},
   "source": [
    "#### Load Views * Events"
   ]
  },
  {
   "cell_type": "code",
   "execution_count": 2,
   "metadata": {
    "collapsed": false
   },
   "outputs": [
    {
     "data": {
      "text/html": [
       "<div>\n",
       "<table border=\"1\" class=\"dataframe\">\n",
       "  <thead>\n",
       "    <tr style=\"text-align: right;\">\n",
       "      <th></th>\n",
       "      <th>uuid</th>\n",
       "      <th>document_id</th>\n",
       "      <th>timestamp</th>\n",
       "      <th>platform</th>\n",
       "      <th>geo_location</th>\n",
       "      <th>traffic_source</th>\n",
       "    </tr>\n",
       "  </thead>\n",
       "  <tbody>\n",
       "    <tr>\n",
       "      <th>0</th>\n",
       "      <td>1fd5f051fba643</td>\n",
       "      <td>120</td>\n",
       "      <td>31905835</td>\n",
       "      <td>1</td>\n",
       "      <td>RS</td>\n",
       "      <td>2</td>\n",
       "    </tr>\n",
       "    <tr>\n",
       "      <th>1</th>\n",
       "      <td>8557aa9004be3b</td>\n",
       "      <td>120</td>\n",
       "      <td>32053104</td>\n",
       "      <td>1</td>\n",
       "      <td>VN&gt;44</td>\n",
       "      <td>2</td>\n",
       "    </tr>\n",
       "    <tr>\n",
       "      <th>2</th>\n",
       "      <td>c351b277a358f0</td>\n",
       "      <td>120</td>\n",
       "      <td>54013023</td>\n",
       "      <td>1</td>\n",
       "      <td>KR&gt;12</td>\n",
       "      <td>1</td>\n",
       "    </tr>\n",
       "    <tr>\n",
       "      <th>3</th>\n",
       "      <td>8205775c5387f9</td>\n",
       "      <td>120</td>\n",
       "      <td>44196592</td>\n",
       "      <td>1</td>\n",
       "      <td>IN&gt;16</td>\n",
       "      <td>2</td>\n",
       "    </tr>\n",
       "    <tr>\n",
       "      <th>4</th>\n",
       "      <td>9cb0ccd8458371</td>\n",
       "      <td>120</td>\n",
       "      <td>65817371</td>\n",
       "      <td>1</td>\n",
       "      <td>US&gt;CA&gt;807</td>\n",
       "      <td>2</td>\n",
       "    </tr>\n",
       "  </tbody>\n",
       "</table>\n",
       "</div>"
      ],
      "text/plain": [
       "             uuid  document_id  timestamp  platform geo_location  \\\n",
       "0  1fd5f051fba643          120   31905835         1           RS   \n",
       "1  8557aa9004be3b          120   32053104         1        VN>44   \n",
       "2  c351b277a358f0          120   54013023         1        KR>12   \n",
       "3  8205775c5387f9          120   44196592         1        IN>16   \n",
       "4  9cb0ccd8458371          120   65817371         1    US>CA>807   \n",
       "\n",
       "   traffic_source  \n",
       "0               2  \n",
       "1               2  \n",
       "2               1  \n",
       "3               2  \n",
       "4               2  "
      ]
     },
     "execution_count": 2,
     "metadata": {},
     "output_type": "execute_result"
    }
   ],
   "source": [
    "pd.read_csv(\"../download/page_views.csv\", nrows = 10).head()"
   ]
  },
  {
   "cell_type": "code",
   "execution_count": 3,
   "metadata": {
    "collapsed": false
   },
   "outputs": [
    {
     "data": {
      "text/html": [
       "<div>\n",
       "<table border=\"1\" class=\"dataframe\">\n",
       "  <thead>\n",
       "    <tr style=\"text-align: right;\">\n",
       "      <th></th>\n",
       "      <th>display_id</th>\n",
       "      <th>uuid</th>\n",
       "      <th>document_id</th>\n",
       "      <th>timestamp</th>\n",
       "      <th>platform</th>\n",
       "      <th>geo_location</th>\n",
       "    </tr>\n",
       "  </thead>\n",
       "  <tbody>\n",
       "    <tr>\n",
       "      <th>0</th>\n",
       "      <td>1</td>\n",
       "      <td>cb8c55702adb93</td>\n",
       "      <td>379743</td>\n",
       "      <td>61</td>\n",
       "      <td>3</td>\n",
       "      <td>US&gt;SC&gt;519</td>\n",
       "    </tr>\n",
       "    <tr>\n",
       "      <th>1</th>\n",
       "      <td>2</td>\n",
       "      <td>79a85fa78311b9</td>\n",
       "      <td>1794259</td>\n",
       "      <td>81</td>\n",
       "      <td>2</td>\n",
       "      <td>US&gt;CA&gt;807</td>\n",
       "    </tr>\n",
       "    <tr>\n",
       "      <th>2</th>\n",
       "      <td>3</td>\n",
       "      <td>822932ce3d8757</td>\n",
       "      <td>1179111</td>\n",
       "      <td>182</td>\n",
       "      <td>2</td>\n",
       "      <td>US&gt;MI&gt;505</td>\n",
       "    </tr>\n",
       "    <tr>\n",
       "      <th>3</th>\n",
       "      <td>4</td>\n",
       "      <td>85281d0a49f7ac</td>\n",
       "      <td>1777797</td>\n",
       "      <td>234</td>\n",
       "      <td>2</td>\n",
       "      <td>US&gt;WV&gt;564</td>\n",
       "    </tr>\n",
       "    <tr>\n",
       "      <th>4</th>\n",
       "      <td>5</td>\n",
       "      <td>8d0daef4bf5b56</td>\n",
       "      <td>252458</td>\n",
       "      <td>338</td>\n",
       "      <td>2</td>\n",
       "      <td>SG&gt;00</td>\n",
       "    </tr>\n",
       "  </tbody>\n",
       "</table>\n",
       "</div>"
      ],
      "text/plain": [
       "   display_id            uuid  document_id  timestamp  platform geo_location\n",
       "0           1  cb8c55702adb93       379743         61         3    US>SC>519\n",
       "1           2  79a85fa78311b9      1794259         81         2    US>CA>807\n",
       "2           3  822932ce3d8757      1179111        182         2    US>MI>505\n",
       "3           4  85281d0a49f7ac      1777797        234         2    US>WV>564\n",
       "4           5  8d0daef4bf5b56       252458        338         2        SG>00"
      ]
     },
     "execution_count": 3,
     "metadata": {},
     "output_type": "execute_result"
    }
   ],
   "source": [
    "pd.read_csv(\"../download/events.csv\", nrows = 10).head()"
   ]
  },
  {
   "cell_type": "code",
   "execution_count": 3,
   "metadata": {
    "collapsed": false
   },
   "outputs": [
    {
     "data": {
      "text/plain": [
       "document_id    894060\n",
       "dtype: int64"
      ]
     },
     "execution_count": 3,
     "metadata": {},
     "output_type": "execute_result"
    }
   ],
   "source": [
    "events_docs = pd.DataFrame({'document_id':pd.read_csv(\"../download/events.csv\", usecols=['document_id'])['document_id'].unique()})\n",
    "events_docs.count()"
   ]
  },
  {
   "cell_type": "code",
   "execution_count": null,
   "metadata": {
    "collapsed": true
   },
   "outputs": [],
   "source": [
    "filename = \"../generated/page_views_event_docs_size.csv\" #\"../generated/page_views_event_docs_timestamps.csv\""
   ]
  },
  {
   "cell_type": "code",
   "execution_count": 4,
   "metadata": {
    "collapsed": false
   },
   "outputs": [
    {
     "name": "stdout",
     "output_type": "stream",
     "text": [
      "1 : 52916 20000000 20000000 20000000\n",
      "2 : 110882 40000000 40000000 40000000\n",
      "3 : 167231 60000000 60000000 60000000\n",
      "4 : 221292 80000000 80000000 80000000\n",
      "5 : 274125 100000000 100000000 100000000\n",
      "6 : 328596 120000000 120000000 120000000\n",
      "7 : 382164 140000000 140000000 140000000\n",
      "8 : 435000 160000000 160000000 160000000\n",
      "9 : 494719 180000000 180000000 180000000\n",
      "10 : 559566 200000000 200000000 200000000\n",
      "11 : 614349 220000000 220000000 220000000\n",
      "12 : 672371 240000000 240000000 240000000\n",
      "13 : 727225 260000000 260000000 260000000\n",
      "14 : 785848 280000000 280000000 280000000\n",
      "15 : 836040 300000000 300000000 300000000\n",
      "16 : 899280 320000000 320000000 320000000\n",
      "17 : 961590 340000000 340000000 340000000\n",
      "18 : 1022782 360000000 360000000 360000000\n",
      "19 : 1084210 380000000 380000000 380000000\n",
      "20 : 1139167 400000000 400000000 400000000\n",
      "21 : 1197936 420000000 420000000 420000000\n",
      "22 : 1248533 440000000 440000000 440000000\n",
      "23 : 1314778 460000000 460000000 460000000\n",
      "24 : 1383139 480000000 480000000 480000000\n",
      "25 : 1451103 500000000 500000000 500000000\n",
      "26 : 1517277 520000000 520000000 520000000\n",
      "27 : 1578746 540000000 540000000 540000000\n",
      "28 : 1644757 560000000 560000000 560000000\n",
      "29 : 1703538 580000000 580000000 580000000\n",
      "30 : 1781995 600000000 600000000 600000000\n",
      "31 : 1861906 620000000 620000000 620000000\n",
      "32 : 1942254 640000000 640000000 640000000\n",
      "33 : 2023596 660000000 660000000 660000000\n",
      "34 : 2094364 680000000 680000000 680000000\n",
      "35 : 2175248 700000000 700000000 700000000\n",
      "36 : 2250733 720000000 720000000 720000000\n",
      "37 : 2333100 740000000 740000000 740000000\n",
      "38 : 2407772 760000000 760000000 760000000\n",
      "39 : 2484864 780000000 780000000 780000000\n",
      "40 : 2547152 800000000 800000000 800000000\n",
      "41 : 2611409 820000000 820000000 820000000\n",
      "42 : 2674514 840000000 840000000 840000000\n",
      "43 : 2737140 860000000 860000000 860000000\n",
      "44 : 2797299 880000000 880000000 880000000\n",
      "45 : 2857075 900000000 900000000 900000000\n",
      "46 : 2918668 920000000 920000000 920000000\n",
      "47 : 2970750 940000000 940000000 940000000\n",
      "48 : 3038435 960000000 960000000 960000000\n",
      "49 : 3103022 980000000 980000000 980000000\n",
      "50 : 3166570 1000000000 1000000000 1000000000\n",
      "51 : 3231744 1020000000 1020000000 1020000000\n",
      "52 : 3296152 1040000000 1040000000 1040000000\n",
      "53 : 3359603 1060000000 1060000000 1060000000\n",
      "54 : 3417331 1080000000 1080000000 1080000000\n",
      "55 : 3481969 1100000000 1100000000 1100000000\n",
      "56 : 3550990 1120000000 1120000000 1120000000\n",
      "57 : 3611009 1140000000 1140000000 1140000000\n",
      "58 : 3675834 1160000000 1160000000 1160000000\n",
      "59 : 3743963 1180000000 1180000000 1180000000\n",
      "60 : 3806029 1200000000 1200000000 1200000000\n",
      "61 : 3862274 1220000000 1220000000 1220000000\n",
      "62 : 3926981 1240000000 1240000000 1240000000\n",
      "63 : 3992065 1260000000 1260000000 1260000000\n",
      "64 : 4057727 1280000000 1280000000 1280000000\n",
      "65 : 4128575 1300000000 1300000000 1300000000\n",
      "66 : 4195377 1320000000 1320000000 1320000000\n",
      "67 : 4262784 1340000000 1340000000 1340000000\n",
      "68 : 4317174 1360000000 1360000000 1360000000\n",
      "69 : 4383091 1380000000 1380000000 1380000000\n",
      "70 : 4448125 1400000000 1400000000 1400000000\n",
      "71 : 4510857 1420000000 1420000000 1420000000\n",
      "72 : 4580574 1440000000 1440000000 1440000000\n",
      "73 : 4648203 1460000000 1460000000 1460000000\n",
      "74 : 4714596 1480000000 1480000000 1480000000\n",
      "75 : 4770946 1500000000 1500000000 1500000000\n",
      "76 : 4838777 1520000000 1520000000 1520000000\n",
      "77 : 4915567 1540000000 1540000000 1540000000\n",
      "78 : 4991811 1560000000 1560000000 1560000000\n",
      "79 : 5067884 1580000000 1580000000 1580000000\n",
      "80 : 5145880 1600000000 1600000000 1600000000\n",
      "81 : 5206552 1620000000 1620000000 1620000000\n",
      "82 : 5283545 1640000000 1640000000 1640000000\n",
      "83 : 5358395 1660000000 1660000000 1660000000\n",
      "84 : 5441441 1680000000 1680000000 1680000000\n",
      "85 : 5515611 1700000000 1700000000 1700000000\n",
      "86 : 5592166 1720000000 1720000000 1720000000\n",
      "87 : 5631912 1740000000 1740000000 1740000000\n",
      "88 : 5702438 1760000000 1760000000 1760000000\n",
      "89 : 5775819 1780000000 1780000000 1780000000\n",
      "90 : 5856265 1800000000 1800000000 1800000000\n",
      "91 : 5929732 1820000000 1820000000 1820000000\n",
      "92 : 6003026 1840000000 1840000000 1840000000\n",
      "93 : 6067367 1860000000 1860000000 1860000000\n",
      "94 : 6087300 1880000000 1880000000 1880000000\n",
      "95 : 6124114 1900000000 1900000000 1896922195\n",
      "96 : 6220270 1920000000 1920000000 1913514912\n",
      "97 : 6313218 1940000000 1940000000 1930230261\n",
      "98 : 6404204 1960000000 1960000000 1946948705\n",
      "99 : 6487266 1980000000 1980000000 1963661193\n",
      "100 : 6520351 2000000000 2000000000 1979613342\n",
      "101 : 6533396 2020000000 2020000000 1995481185\n",
      "102 : 6541164 2034275448 2034275448 2006359732\n",
      "2034275448 2034275448 2006359732\n"
     ]
    }
   ],
   "source": [
    "chunksize = 20 * 10 ** 6\n",
    "\n",
    "#uuidUnique = np.ndarray([]) # there are 9,202,150 unique uuid out of 10,000,000 records - no sense to read (?)\n",
    "docsUnique = np.ndarray([], dtype=int)\n",
    "\n",
    "len_total = 0\n",
    "len_without_na = 0\n",
    "len_valid = 0\n",
    "len_events_docsTimestamps = 0\n",
    "\n",
    "loop = 0\n",
    "first_time = True\n",
    "\n",
    "f = open(filename, 'w')\n",
    "\n",
    "for chunk in pd.read_csv(\"../download/page_views.csv\", chunksize=chunksize, usecols = ['document_id', 'timestamp']):\n",
    "    l0 = len(chunk)\n",
    "    len_total += l0\n",
    "    \n",
    "    chunk = chunk.dropna()\n",
    "    l1 = len(chunk)\n",
    "    len_without_na += l1\n",
    "        \n",
    "    chunk = chunk[(chunk['timestamp']>=0)&(chunk['timestamp']<1281600002)]    \n",
    "    l2 = len(chunk)\n",
    "    len_valid += l2\n",
    "    \n",
    "    #docsUnique = np.unique(np.append(docsUnique, np.unique(chunk['document_id'])))\n",
    "    \n",
    "    events_docsTimestamps = pd.merge(chunk, events_docs, on=['document_id'])\n",
    "    #events_docsTimestamps = events_docsTimestamps.sort_values(by=['document_id', 'timestamp'])\n",
    "    \n",
    "    events_docsTimestamps = pd.DataFrame({'size':events_docsTimestamps.groupby(['document_id'])['timestamp'].size()}).reset_index()\n",
    "    \n",
    "    len_events_docsTimestamps += len(events_docsTimestamps)\n",
    "    \n",
    "    if first_time:\n",
    "        events_docsTimestamps.to_csv(f, index = False, header=True)\n",
    "        f.close()\n",
    "        f = open(filename, 'a')\n",
    "        first_time = False\n",
    "    else:\n",
    "        events_docsTimestamps.to_csv(f, index = False, header=False)\n",
    " \n",
    "    loop += 1\n",
    "    print loop, ':', len_events_docsTimestamps, len_total, len_without_na, len_valid\n",
    "\n",
    "f.close()\n",
    "print len_total, len_without_na, len_valid   #2,034,275,448 2,006,359,732,   unique: 2,823,600\n"
   ]
  },
  {
   "cell_type": "code",
   "execution_count": 6,
   "metadata": {
    "collapsed": false
   },
   "outputs": [
    {
     "data": {
      "text/html": [
       "<div>\n",
       "<table border=\"1\" class=\"dataframe\">\n",
       "  <thead>\n",
       "    <tr style=\"text-align: right;\">\n",
       "      <th></th>\n",
       "      <th>document_id</th>\n",
       "      <th>size</th>\n",
       "    </tr>\n",
       "  </thead>\n",
       "  <tbody>\n",
       "    <tr>\n",
       "      <th>0</th>\n",
       "      <td>2</td>\n",
       "      <td>19354</td>\n",
       "    </tr>\n",
       "    <tr>\n",
       "      <th>1</th>\n",
       "      <td>4</td>\n",
       "      <td>7</td>\n",
       "    </tr>\n",
       "    <tr>\n",
       "      <th>2</th>\n",
       "      <td>5</td>\n",
       "      <td>718</td>\n",
       "    </tr>\n",
       "    <tr>\n",
       "      <th>3</th>\n",
       "      <td>7</td>\n",
       "      <td>124</td>\n",
       "    </tr>\n",
       "    <tr>\n",
       "      <th>4</th>\n",
       "      <td>8</td>\n",
       "      <td>462</td>\n",
       "    </tr>\n",
       "  </tbody>\n",
       "</table>\n",
       "</div>"
      ],
      "text/plain": [
       "   document_id   size\n",
       "0            2  19354\n",
       "1            4      7\n",
       "2            5    718\n",
       "3            7    124\n",
       "4            8    462"
      ]
     },
     "execution_count": 6,
     "metadata": {},
     "output_type": "execute_result"
    }
   ],
   "source": [
    "events_docsTimestamps = pd.read_csv(filename, dtype = {'document_id':int, 'size':int})\n",
    "events_docsTimestamps = pd.DataFrame({'size':events_docsTimestamps.groupby(['document_id'])['size'].sum()}).reset_index()\n",
    "events_docsTimestamps.to_csv(filename, index = False)\n",
    "events_docsTimestamps.head()"
   ]
  },
  {
   "cell_type": "code",
   "execution_count": 8,
   "metadata": {
    "collapsed": false
   },
   "outputs": [
    {
     "data": {
      "text/plain": [
       "document_id    891782\n",
       "size           891782\n",
       "dtype: int64"
      ]
     },
     "execution_count": 8,
     "metadata": {},
     "output_type": "execute_result"
    }
   ],
   "source": [
    "events_docsTimestamps.count()"
   ]
  },
  {
   "cell_type": "code",
   "execution_count": 11,
   "metadata": {
    "collapsed": false
   },
   "outputs": [
    {
     "data": {
      "text/plain": [
       "count    8.917820e+05\n",
       "mean     1.935663e+03\n",
       "std      3.475446e+04\n",
       "min      1.000000e+00\n",
       "25%      8.000000e+01\n",
       "50%      2.640000e+02\n",
       "75%      8.750000e+02\n",
       "max      2.630368e+07\n",
       "Name: size, dtype: float64"
      ]
     },
     "execution_count": 11,
     "metadata": {},
     "output_type": "execute_result"
    }
   ],
   "source": [
    "events_docsTimestamps['size'].describe()"
   ]
  },
  {
   "cell_type": "raw",
   "metadata": {},
   "source": [
    "events_docsTimestamps = pd.read_csv(filename, dtype = {'document_id':int, 'size':int})"
   ]
  },
  {
   "cell_type": "code",
   "execution_count": 26,
   "metadata": {
    "collapsed": false
   },
   "outputs": [
    {
     "data": {
      "text/plain": [
       "<matplotlib.axes._subplots.AxesSubplot at 0x14a2a390>"
      ]
     },
     "execution_count": 26,
     "metadata": {},
     "output_type": "execute_result"
    },
    {
     "data": {
      "image/png": "[encoded data removed]",
      "text/plain": [
       "<matplotlib.figure.Figure at 0x14ba3860>"
      ]
     },
     "metadata": {},
     "output_type": "display_data"
    }
   ],
   "source": [
    "events_docsTimestamps[events_docsTimestamps['size']<1000]['size'].hist(bins = 100)"
   ]
  },
  {
   "cell_type": "raw",
   "metadata": {
    "collapsed": true
   },
   "source": [
    "docsUnique = pd.DataFrame({'document_id': docsUnique})\n",
    "docsUnique.to_csv(\"../generated/page_vievs_docs_unique.csv\", index = False)\n",
    "docsUnique.count()   #2,823,600"
   ]
  },
  {
   "cell_type": "markdown",
   "metadata": {},
   "source": [
    "#### Unique values for further joins"
   ]
  },
  {
   "cell_type": "markdown",
   "metadata": {},
   "source": [
    "##### Views"
   ]
  },
  {
   "cell_type": "code",
   "execution_count": 2,
   "metadata": {
    "collapsed": false
   },
   "outputs": [
    {
     "data": {
      "text/plain": [
       "Unnamed: 0     2823600\n",
       "document_id    2823600\n",
       "dtype: int64"
      ]
     },
     "execution_count": 2,
     "metadata": {},
     "output_type": "execute_result"
    }
   ],
   "source": [
    "docsUnique = pd.read_csv(\"../generated/page_vievs_docs_unique.csv\")\n",
    "docsUnique.count()  #2,823,600"
   ]
  },
  {
   "cell_type": "code",
   "execution_count": 4,
   "metadata": {
    "collapsed": false
   },
   "outputs": [
    {
     "data": {
      "text/plain": [
       "document_id    891782\n",
       "size           891782\n",
       "dtype: int64"
      ]
     },
     "execution_count": 4,
     "metadata": {},
     "output_type": "execute_result"
    }
   ],
   "source": [
    "page_views_event_docs_size = pd.read_csv(\"../generated/page_views_event_docs_size.csv\", dtype = {'document_id':int, 'size':int})\n",
    "page_views_event_docs_size.count()\n"
   ]
  },
  {
   "cell_type": "markdown",
   "metadata": {},
   "source": [
    "##### Ads"
   ]
  },
  {
   "cell_type": "code",
   "execution_count": 8,
   "metadata": {
    "collapsed": false
   },
   "outputs": [],
   "source": [
    "ads = pd.read_csv(\"../download/promoted_content.csv\", usecols=['ad_id', 'document_id'])"
   ]
  },
  {
   "cell_type": "code",
   "execution_count": 9,
   "metadata": {
    "collapsed": false
   },
   "outputs": [
    {
     "data": {
      "text/plain": [
       "document_id    185709\n",
       "dtype: int64"
      ]
     },
     "execution_count": 9,
     "metadata": {},
     "output_type": "execute_result"
    }
   ],
   "source": [
    "ads_docsUnique = pd.DataFrame({'document_id': ads.document_id.unique() })\n",
    "ads_docsUnique.count() #185,709"
   ]
  },
  {
   "cell_type": "code",
   "execution_count": 10,
   "metadata": {
    "collapsed": false
   },
   "outputs": [
    {
     "data": {
      "text/plain": [
       "ad_id    559583\n",
       "dtype: int64"
      ]
     },
     "execution_count": 10,
     "metadata": {},
     "output_type": "execute_result"
    }
   ],
   "source": [
    "ads_adsUnique = pd.DataFrame({'ad_id': ads.ad_id.unique() })\n",
    "ads_adsUnique.count() #559,583"
   ]
  },
  {
   "cell_type": "markdown",
   "metadata": {},
   "source": [
    "##### Events"
   ]
  },
  {
   "cell_type": "code",
   "execution_count": 11,
   "metadata": {
    "collapsed": true
   },
   "outputs": [],
   "source": [
    "events = pd.read_csv(\"../download/events.csv\", usecols=['display_id', 'document_id'])"
   ]
  },
  {
   "cell_type": "code",
   "execution_count": 12,
   "metadata": {
    "collapsed": false
   },
   "outputs": [
    {
     "data": {
      "text/plain": [
       "document_id    894060\n",
       "dtype: int64"
      ]
     },
     "execution_count": 12,
     "metadata": {},
     "output_type": "execute_result"
    }
   ],
   "source": [
    "events_docsUnique = pd.DataFrame({'document_id': events.document_id.unique() })\n",
    "events_docsUnique.count() #894,060"
   ]
  },
  {
   "cell_type": "code",
   "execution_count": 16,
   "metadata": {
    "collapsed": false
   },
   "outputs": [
    {
     "data": {
      "text/plain": [
       "display_id    23120126\n",
       "dtype: int64"
      ]
     },
     "execution_count": 16,
     "metadata": {},
     "output_type": "execute_result"
    }
   ],
   "source": [
    "events_dispUnique = pd.DataFrame({'display_id': events.display_id.unique() })\n",
    "events_dispUnique.count() #23,120,126"
   ]
  },
  {
   "cell_type": "markdown",
   "metadata": {},
   "source": [
    "##### Clicks"
   ]
  },
  {
   "cell_type": "code",
   "execution_count": 20,
   "metadata": {
    "collapsed": false
   },
   "outputs": [
    {
     "data": {
      "text/plain": [
       "ad_id         119366893\n",
       "clicked        87141731\n",
       "display_id    119366893\n",
       "dtype: int64"
      ]
     },
     "execution_count": 20,
     "metadata": {},
     "output_type": "execute_result"
    }
   ],
   "source": [
    "clicks_train = pd.read_csv(\"../download/clicks_train.csv\", usecols = ['display_id', 'ad_id', 'clicked'])\n",
    "clicks_test = pd.read_csv(\"../download/clicks_test.csv\", usecols = ['display_id', 'ad_id'])\n",
    "clicks = clicks_train.append(clicks_test)\n",
    "clicks.count()  #119,366,893"
   ]
  },
  {
   "cell_type": "code",
   "execution_count": 21,
   "metadata": {
    "collapsed": false
   },
   "outputs": [
    {
     "data": {
      "text/plain": [
       "ad_id    544300\n",
       "dtype: int64"
      ]
     },
     "execution_count": 21,
     "metadata": {},
     "output_type": "execute_result"
    }
   ],
   "source": [
    "clicks_adsUnique = pd.DataFrame({'ad_id': clicks.ad_id.unique() })\n",
    "clicks_adsUnique.count()  #544,300"
   ]
  },
  {
   "cell_type": "code",
   "execution_count": 22,
   "metadata": {
    "collapsed": false
   },
   "outputs": [
    {
     "data": {
      "text/plain": [
       "display_id    23120126\n",
       "dtype: int64"
      ]
     },
     "execution_count": 22,
     "metadata": {},
     "output_type": "execute_result"
    }
   ],
   "source": [
    "clicks_dispUnique = pd.DataFrame({'display_id': clicks.display_id.unique() })\n",
    "clicks_dispUnique.count() #23,120,126"
   ]
  },
  {
   "cell_type": "markdown",
   "metadata": {},
   "source": [
    "#### Joins"
   ]
  },
  {
   "cell_type": "markdown",
   "metadata": {},
   "source": [
    "##### Ads document_id in Views and Events"
   ]
  },
  {
   "cell_type": "code",
   "execution_count": 6,
   "metadata": {
    "collapsed": false
   },
   "outputs": [
    {
     "name": "stdout",
     "output_type": "stream",
     "text": [
      "185709\n"
     ]
    },
    {
     "data": {
      "text/plain": [
       "document_id    21896\n",
       "Unnamed: 0     21896\n",
       "dtype: int64"
      ]
     },
     "execution_count": 6,
     "metadata": {},
     "output_type": "execute_result"
    }
   ],
   "source": [
    "ads_docsUnique_viewed = pd.merge(ads_docsUnique, docsUnique, on=['document_id'])\n",
    "print len(ads_docsUnique)\n",
    "ads_docsUnique_viewed.count() #21,896 out of #185,709 in ads  (at least 22% of ads were never clicked (explore_clicks), 10% of cklicked ad docs were ever logged)"
   ]
  },
  {
   "cell_type": "code",
   "execution_count": 14,
   "metadata": {
    "collapsed": false
   },
   "outputs": [
    {
     "name": "stdout",
     "output_type": "stream",
     "text": [
      "185709\n"
     ]
    },
    {
     "data": {
      "text/plain": [
       "document_id    11282\n",
       "dtype: int64"
      ]
     },
     "execution_count": 14,
     "metadata": {},
     "output_type": "execute_result"
    }
   ],
   "source": [
    "ads_docsUnique_events = pd.merge(ads_docsUnique, events_docsUnique, on=['document_id'])\n",
    "print len(ads_docsUnique)\n",
    "ads_docsUnique_events.count() #11,282 out of #185,709 in ads"
   ]
  },
  {
   "cell_type": "markdown",
   "metadata": {},
   "source": [
    "#### Does meta of documents in View covers meta of documents in ads land documents? "
   ]
  },
  {
   "cell_type": "code",
   "execution_count": 15,
   "metadata": {
    "collapsed": false
   },
   "outputs": [
    {
     "data": {
      "text/plain": [
       "document_id    11282\n",
       "dtype: int64"
      ]
     },
     "execution_count": 15,
     "metadata": {},
     "output_type": "execute_result"
    }
   ],
   "source": [
    "ads_docsUnique_events.count()"
   ]
  },
  {
   "cell_type": "markdown",
   "metadata": {},
   "source": [
    "Sources and publishers - Yes!"
   ]
  },
  {
   "cell_type": "code",
   "execution_count": 17,
   "metadata": {
    "collapsed": false
   },
   "outputs": [
    {
     "data": {
      "text/plain": [
       "document_id     2999334\n",
       "source_id       2996816\n",
       "publisher_id    2935310\n",
       "dtype: int64"
      ]
     },
     "execution_count": 17,
     "metadata": {},
     "output_type": "execute_result"
    }
   ],
   "source": [
    "docs_meta = pd.read_csv(\"../download/documents_meta.csv\", usecols=['document_id', 'source_id', 'publisher_id']) \n",
    "docs_meta.count()"
   ]
  },
  {
   "cell_type": "code",
   "execution_count": 18,
   "metadata": {
    "collapsed": false
   },
   "outputs": [
    {
     "data": {
      "text/plain": [
       "document_id     11282\n",
       "source_id       11282\n",
       "publisher_id    11282\n",
       "dtype: int64"
      ]
     },
     "execution_count": 18,
     "metadata": {},
     "output_type": "execute_result"
    }
   ],
   "source": [
    "ads_docs_meta = pd.merge(ads_docsUnique_events, docs_meta, on='document_id', how='left')\n",
    "ads_docs_meta.count()"
   ]
  },
  {
   "cell_type": "code",
   "execution_count": 19,
   "metadata": {
    "collapsed": false
   },
   "outputs": [
    {
     "name": "stdout",
     "output_type": "stream",
     "text": [
      "364 142\n"
     ]
    }
   ],
   "source": [
    "ads_docs_meta_sources = pd.DataFrame({'source_id' : ads_docs_meta['source_id'].unique()})\n",
    "ads_docs_meta_publishers = pd.DataFrame({'publisher_id' : ads_docs_meta['publisher_id'].unique()})\n",
    "print len(ads_docs_meta_sources), len(ads_docs_meta_publishers)"
   ]
  },
  {
   "cell_type": "code",
   "execution_count": 20,
   "metadata": {
    "collapsed": false
   },
   "outputs": [
    {
     "data": {
      "text/plain": [
       "document_id     891782\n",
       "size            891782\n",
       "source_id       891672\n",
       "publisher_id    891671\n",
       "dtype: int64"
      ]
     },
     "execution_count": 20,
     "metadata": {},
     "output_type": "execute_result"
    }
   ],
   "source": [
    "view_docs_meta = pd.merge(page_views_event_docs_size, docs_meta, on='document_id', how='left')\n",
    "view_docs_meta.count()"
   ]
  },
  {
   "cell_type": "code",
   "execution_count": 21,
   "metadata": {
    "collapsed": false
   },
   "outputs": [
    {
     "name": "stdout",
     "output_type": "stream",
     "text": [
      "4958 489\n"
     ]
    }
   ],
   "source": [
    "view_docs_meta_sources = pd.DataFrame({'source_id' : view_docs_meta['source_id'].unique()})\n",
    "view_docs_meta_publishers = pd.DataFrame({'publisher_id' : view_docs_meta['publisher_id'].unique()})\n",
    "print len(view_docs_meta_sources), len(view_docs_meta_publishers)"
   ]
  },
  {
   "cell_type": "code",
   "execution_count": 24,
   "metadata": {
    "collapsed": false
   },
   "outputs": [
    {
     "name": "stdout",
     "output_type": "stream",
     "text": [
      "364 142\n"
     ]
    }
   ],
   "source": [
    "print len(pd.merge(ads_docs_meta_sources, view_docs_meta_sources, on='source_id')),len(pd.merge(ads_docs_meta_publishers, view_docs_meta_publishers, on='publisher_id')) "
   ]
  },
  {
   "cell_type": "markdown",
   "metadata": {},
   "source": [
    "Topics - Yes!"
   ]
  },
  {
   "cell_type": "code",
   "execution_count": 26,
   "metadata": {
    "collapsed": false
   },
   "outputs": [
    {
     "data": {
      "text/plain": [
       "document_id    11325960\n",
       "topic_id       11325960\n",
       "dtype: int64"
      ]
     },
     "execution_count": 26,
     "metadata": {},
     "output_type": "execute_result"
    }
   ],
   "source": [
    "docs_topics = pd.read_csv(\"../download/documents_topics.csv\", usecols=['document_id', 'topic_id'])\n",
    "docs_topics.count()"
   ]
  },
  {
   "cell_type": "code",
   "execution_count": 31,
   "metadata": {
    "collapsed": false
   },
   "outputs": [
    {
     "data": {
      "text/plain": [
       "topic_id    300\n",
       "dtype: int64"
      ]
     },
     "execution_count": 31,
     "metadata": {},
     "output_type": "execute_result"
    }
   ],
   "source": [
    "ads_docs_topics = pd.DataFrame({'topic_id' : pd.merge(ads_docsUnique_events, docs_topics, on='document_id', how='left')['topic_id'].unique()})\n",
    "ads_docs_topics.count()"
   ]
  },
  {
   "cell_type": "code",
   "execution_count": 32,
   "metadata": {
    "collapsed": false
   },
   "outputs": [
    {
     "data": {
      "text/plain": [
       "topic_id    300\n",
       "dtype: int64"
      ]
     },
     "execution_count": 32,
     "metadata": {},
     "output_type": "execute_result"
    }
   ],
   "source": [
    "view_docs_topics = pd.DataFrame({'topic_id' : pd.merge(page_views_event_docs_size, docs_topics, on='document_id', how='left')['topic_id'].unique()})\n",
    "view_docs_topics.count()"
   ]
  },
  {
   "cell_type": "code",
   "execution_count": 33,
   "metadata": {
    "collapsed": false
   },
   "outputs": [
    {
     "data": {
      "text/plain": [
       "topic_id    300\n",
       "dtype: int64"
      ]
     },
     "execution_count": 33,
     "metadata": {},
     "output_type": "execute_result"
    }
   ],
   "source": [
    "pd.merge(ads_docs_topics, view_docs_topics, on='topic_id').count()"
   ]
  },
  {
   "cell_type": "markdown",
   "metadata": {},
   "source": [
    "Entities - 1 out of 15389 is missing"
   ]
  },
  {
   "cell_type": "code",
   "execution_count": 34,
   "metadata": {
    "collapsed": false
   },
   "outputs": [
    {
     "data": {
      "text/plain": [
       "document_id    5537552\n",
       "entity_id      5537552\n",
       "dtype: int64"
      ]
     },
     "execution_count": 34,
     "metadata": {},
     "output_type": "execute_result"
    }
   ],
   "source": [
    "docs_ent = pd.read_csv(\"../download/documents_entities.csv\", usecols=['document_id', 'entity_id'])\n",
    "docs_ent.count()"
   ]
  },
  {
   "cell_type": "code",
   "execution_count": 38,
   "metadata": {
    "collapsed": false
   },
   "outputs": [
    {
     "data": {
      "text/plain": [
       "entity_id    15389\n",
       "dtype: int64"
      ]
     },
     "execution_count": 38,
     "metadata": {},
     "output_type": "execute_result"
    }
   ],
   "source": [
    "ads_docs_ent = pd.DataFrame({'entity_id' : pd.merge(ads_docsUnique_events, docs_ent, on='document_id', how='left')['entity_id'].unique()})\n",
    "ads_docs_ent.count()"
   ]
  },
  {
   "cell_type": "code",
   "execution_count": 39,
   "metadata": {
    "collapsed": false
   },
   "outputs": [
    {
     "data": {
      "text/plain": [
       "entity_id    507335\n",
       "dtype: int64"
      ]
     },
     "execution_count": 39,
     "metadata": {},
     "output_type": "execute_result"
    }
   ],
   "source": [
    "view_docs_ent = pd.DataFrame({'entity_id' : pd.merge(page_views_event_docs_size, docs_ent, on='document_id', how='left')['entity_id'].unique()})\n",
    "view_docs_ent.count()"
   ]
  },
  {
   "cell_type": "code",
   "execution_count": 40,
   "metadata": {
    "collapsed": false
   },
   "outputs": [
    {
     "data": {
      "text/plain": [
       "entity_id    15388\n",
       "dtype: int64"
      ]
     },
     "execution_count": 40,
     "metadata": {},
     "output_type": "execute_result"
    }
   ],
   "source": [
    "pd.merge(ads_docs_ent, view_docs_ent, on='entity_id').count()"
   ]
  },
  {
   "cell_type": "markdown",
   "metadata": {},
   "source": [
    "Categories - Yes!"
   ]
  },
  {
   "cell_type": "code",
   "execution_count": 41,
   "metadata": {
    "collapsed": false
   },
   "outputs": [
    {
     "data": {
      "text/plain": [
       "document_id    5481475\n",
       "category_id    5481475\n",
       "dtype: int64"
      ]
     },
     "execution_count": 41,
     "metadata": {},
     "output_type": "execute_result"
    }
   ],
   "source": [
    "docs_cat = pd.read_csv(\"../download/documents_categories.csv\", usecols=['document_id', 'category_id'])\n",
    "docs_cat.count()"
   ]
  },
  {
   "cell_type": "code",
   "execution_count": 43,
   "metadata": {
    "collapsed": false
   },
   "outputs": [
    {
     "data": {
      "text/plain": [
       "category_id    89\n",
       "dtype: int64"
      ]
     },
     "execution_count": 43,
     "metadata": {},
     "output_type": "execute_result"
    }
   ],
   "source": [
    "ads_docs_cat = pd.DataFrame({'category_id' : pd.merge(ads_docsUnique_events, docs_cat, on='document_id', how='left')['category_id'].unique()})\n",
    "ads_docs_cat.count()"
   ]
  },
  {
   "cell_type": "code",
   "execution_count": 44,
   "metadata": {
    "collapsed": false
   },
   "outputs": [
    {
     "data": {
      "text/plain": [
       "category_id    90\n",
       "dtype: int64"
      ]
     },
     "execution_count": 44,
     "metadata": {},
     "output_type": "execute_result"
    }
   ],
   "source": [
    "view_docs_cat = pd.DataFrame({'category_id' : pd.merge(page_views_event_docs_size, docs_cat, on='document_id', how='left')['category_id'].unique()})\n",
    "view_docs_cat.count()"
   ]
  },
  {
   "cell_type": "code",
   "execution_count": 45,
   "metadata": {
    "collapsed": false
   },
   "outputs": [
    {
     "data": {
      "text/plain": [
       "category_id    89\n",
       "dtype: int64"
      ]
     },
     "execution_count": 45,
     "metadata": {},
     "output_type": "execute_result"
    }
   ],
   "source": [
    "pd.merge(ads_docs_cat, view_docs_cat, on='category_id').count()"
   ]
  },
  {
   "cell_type": "markdown",
   "metadata": {},
   "source": []
  },
  {
   "cell_type": "code",
   "execution_count": null,
   "metadata": {
    "collapsed": true
   },
   "outputs": [],
   "source": []
  },
  {
   "cell_type": "code",
   "execution_count": null,
   "metadata": {
    "collapsed": true
   },
   "outputs": [],
   "source": []
  },
  {
   "cell_type": "code",
   "execution_count": null,
   "metadata": {
    "collapsed": true
   },
   "outputs": [],
   "source": []
  },
  {
   "cell_type": "markdown",
   "metadata": {},
   "source": [
    "###### Are document_id of clicked Ads available in Views? - Small part only"
   ]
  },
  {
   "cell_type": "code",
   "execution_count": 7,
   "metadata": {
    "collapsed": false
   },
   "outputs": [
    {
     "data": {
      "text/plain": [
       "ad_id     478950\n",
       "clicks    478950\n",
       "dtype: int64"
      ]
     },
     "execution_count": 7,
     "metadata": {},
     "output_type": "execute_result"
    }
   ],
   "source": [
    "clicksPerAd = pd.read_csv(\"../generated/clicksPerAd.csv\")\n",
    "clicksPerAd.count()"
   ]
  },
  {
   "cell_type": "code",
   "execution_count": 8,
   "metadata": {
    "collapsed": false
   },
   "outputs": [
    {
     "data": {
      "text/plain": [
       "ad_id          478950\n",
       "clicks         478950\n",
       "document_id    478950\n",
       "dtype: int64"
      ]
     },
     "execution_count": 8,
     "metadata": {},
     "output_type": "execute_result"
    }
   ],
   "source": [
    "clicksPerAd = pd.merge(clicksPerAd, ads, on=['ad_id'])\n",
    "clicksPerAd.count()"
   ]
  },
  {
   "cell_type": "code",
   "execution_count": 9,
   "metadata": {
    "collapsed": false
   },
   "outputs": [
    {
     "data": {
      "text/plain": [
       "document_id    164476\n",
       "dtype: int64"
      ]
     },
     "execution_count": 9,
     "metadata": {},
     "output_type": "execute_result"
    }
   ],
   "source": [
    "clicksPerAd_DocsUnique = pd.DataFrame({'document_id':clicksPerAd['document_id'].unique()})\n",
    "clicksPerAd_DocsUnique.count()"
   ]
  },
  {
   "cell_type": "code",
   "execution_count": 11,
   "metadata": {
    "collapsed": false
   },
   "outputs": [
    {
     "data": {
      "text/plain": [
       "document_id    90873\n",
       "dtype: int64"
      ]
     },
     "execution_count": 11,
     "metadata": {},
     "output_type": "execute_result"
    }
   ],
   "source": [
    "clicksPerAd_non0_DocsUnique = pd.DataFrame({'document_id':clicksPerAd[clicksPerAd['clicks']>0]['document_id'].unique()})\n",
    "clicksPerAd_non0_DocsUnique.count()"
   ]
  },
  {
   "cell_type": "raw",
   "metadata": {
    "collapsed": false
   },
   "source": [
    "notClickedDocs_views = pd.merge(clicksPerAd_0_DocsUnique, docsUnique, on=['document_id'])\n",
    "print len(clicksPerAd_0_DocsUnique)\n",
    "notClickedDocs_views.count()"
   ]
  },
  {
   "cell_type": "code",
   "execution_count": 68,
   "metadata": {
    "collapsed": false
   },
   "outputs": [
    {
     "name": "stdout",
     "output_type": "stream",
     "text": [
      "90873\n"
     ]
    },
    {
     "data": {
      "text/plain": [
       "document_id    11313\n",
       "Unnamed: 0     11313\n",
       "dtype: int64"
      ]
     },
     "execution_count": 68,
     "metadata": {},
     "output_type": "execute_result"
    }
   ],
   "source": [
    "clickedDocs_views = pd.merge(clicksPerAd_non0_DocsUnique, docsUnique, on=['document_id'])\n",
    "print len(clicksPerAd_non0_DocsUnique)\n",
    "clickedDocs_views.count()"
   ]
  },
  {
   "cell_type": "markdown",
   "metadata": {},
   "source": [
    "##### Events document_id in Views"
   ]
  },
  {
   "cell_type": "code",
   "execution_count": 17,
   "metadata": {
    "collapsed": false
   },
   "outputs": [
    {
     "name": "stdout",
     "output_type": "stream",
     "text": [
      "894060\n"
     ]
    },
    {
     "data": {
      "text/plain": [
       "document_id    891782\n",
       "Unnamed: 0     891782\n",
       "dtype: int64"
      ]
     },
     "execution_count": 17,
     "metadata": {},
     "output_type": "execute_result"
    }
   ],
   "source": [
    "events_docsUnique_viewed = pd.merge(events_docsUnique, docsUnique, on=['document_id'])\n",
    "print len(events_docsUnique)\n",
    "events_docsUnique_viewed.count() #891,782 out of #894,060"
   ]
  },
  {
   "cell_type": "code",
   "execution_count": 18,
   "metadata": {
    "collapsed": false
   },
   "outputs": [],
   "source": [
    "events_docsUnique_viewed.to_csv(\"../generated/events_docsUnique_viewed.csv\", index = False)"
   ]
  },
  {
   "cell_type": "markdown",
   "metadata": {},
   "source": [
    "View_page data can be usefull for Event documents analysis"
   ]
  },
  {
   "cell_type": "markdown",
   "metadata": {},
   "source": [
    "##### Ads ad_id in Clicks"
   ]
  },
  {
   "cell_type": "code",
   "execution_count": 23,
   "metadata": {
    "collapsed": false
   },
   "outputs": [
    {
     "name": "stdout",
     "output_type": "stream",
     "text": [
      "559583\n"
     ]
    },
    {
     "data": {
      "text/plain": [
       "ad_id    544300\n",
       "dtype: int64"
      ]
     },
     "execution_count": 23,
     "metadata": {},
     "output_type": "execute_result"
    }
   ],
   "source": [
    "ads_adsUnique_clicks = pd.merge(ads_adsUnique, clicks_adsUnique, on=['ad_id'])\n",
    "print len(ads_adsUnique)\n",
    "ads_adsUnique_clicks.count() #544,300 out of #559,583 in ads"
   ]
  },
  {
   "cell_type": "markdown",
   "metadata": {},
   "source": [
    "##### Ads from Clicks document_id in Views "
   ]
  },
  {
   "cell_type": "raw",
   "metadata": {},
   "source": [
    "ads_clicks_docsUnique_viewed = pd.merge(ads_adsUnique_clicks, docsUnique, on=['document_id'])\n",
    "print len(ads_adsUnique_clicks)\n",
    "ads_clicks_docsUnique_viewed.count() "
   ]
  },
  {
   "cell_type": "markdown",
   "metadata": {},
   "source": [
    "##### Events display_id in Clicks"
   ]
  },
  {
   "cell_type": "code",
   "execution_count": 24,
   "metadata": {
    "collapsed": false
   },
   "outputs": [
    {
     "name": "stdout",
     "output_type": "stream",
     "text": [
      "23120126\n"
     ]
    },
    {
     "data": {
      "text/plain": [
       "display_id    23120126\n",
       "dtype: int64"
      ]
     },
     "execution_count": 24,
     "metadata": {},
     "output_type": "execute_result"
    }
   ],
   "source": [
    "events_dispUnique_clicks = pd.merge(events_dispUnique, clicks_dispUnique, on=['display_id'])\n",
    "print len(events_dispUnique)\n",
    "events_dispUnique_clicks.count()  #23,120,126 out of #23,120,126"
   ]
  },
  {
   "cell_type": "code",
   "execution_count": null,
   "metadata": {
    "collapsed": true
   },
   "outputs": [],
   "source": []
  }
 ],
 "metadata": {
  "anaconda-cloud": {},
  "kernelspec": {
   "display_name": "Python [Root]",
   "language": "python",
   "name": "Python [Root]"
  },
  "language_info": {
   "codemirror_mode": {
    "name": "ipython",
    "version": 2
   },
   "file_extension": ".py",
   "mimetype": "text/x-python",
   "name": "python",
   "nbconvert_exporter": "python",
   "pygments_lexer": "ipython2",
   "version": "2.7.11"
  }
 },
 "nbformat": 4,
 "nbformat_minor": 0
}
