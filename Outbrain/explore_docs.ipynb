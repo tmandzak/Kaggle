{
 "cells": [
  {
   "cell_type": "code",
   "execution_count": 1,
   "metadata": {
    "collapsed": false
   },
   "outputs": [
    {
     "name": "stdout",
     "output_type": "stream",
     "text": [
      "Populating the interactive namespace from numpy and matplotlib\n"
     ]
    }
   ],
   "source": [
    "%pylab inline\n",
    "import pandas as pd\n",
    "import numpy as np\n",
    "import seaborn as sb"
   ]
  },
  {
   "cell_type": "code",
   "execution_count": 2,
   "metadata": {
    "collapsed": true
   },
   "outputs": [],
   "source": [
    "%run 'time.ipynb'"
   ]
  },
  {
   "cell_type": "markdown",
   "metadata": {},
   "source": [
    "### Docs Meta, source_id and publisher_id substitutes"
   ]
  },
  {
   "cell_type": "code",
   "execution_count": 3,
   "metadata": {
    "collapsed": false
   },
   "outputs": [
    {
     "data": {
      "text/html": [
       "<div>\n",
       "<table border=\"1\" class=\"dataframe\">\n",
       "  <thead>\n",
       "    <tr style=\"text-align: right;\">\n",
       "      <th></th>\n",
       "      <th>document_id</th>\n",
       "      <th>source_id</th>\n",
       "      <th>publisher_id</th>\n",
       "      <th>publish_time</th>\n",
       "    </tr>\n",
       "  </thead>\n",
       "  <tbody>\n",
       "    <tr>\n",
       "      <th>0</th>\n",
       "      <td>1595802</td>\n",
       "      <td>1.0</td>\n",
       "      <td>603.0</td>\n",
       "      <td>2016-06-05 00:00:00</td>\n",
       "    </tr>\n",
       "    <tr>\n",
       "      <th>1</th>\n",
       "      <td>1524246</td>\n",
       "      <td>1.0</td>\n",
       "      <td>603.0</td>\n",
       "      <td>2016-05-26 11:00:00</td>\n",
       "    </tr>\n",
       "    <tr>\n",
       "      <th>2</th>\n",
       "      <td>1617787</td>\n",
       "      <td>1.0</td>\n",
       "      <td>603.0</td>\n",
       "      <td>2016-05-27 00:00:00</td>\n",
       "    </tr>\n",
       "    <tr>\n",
       "      <th>3</th>\n",
       "      <td>1615583</td>\n",
       "      <td>1.0</td>\n",
       "      <td>603.0</td>\n",
       "      <td>2016-06-07 00:00:00</td>\n",
       "    </tr>\n",
       "    <tr>\n",
       "      <th>4</th>\n",
       "      <td>1615460</td>\n",
       "      <td>1.0</td>\n",
       "      <td>603.0</td>\n",
       "      <td>2016-06-20 00:00:00</td>\n",
       "    </tr>\n",
       "  </tbody>\n",
       "</table>\n",
       "</div>"
      ],
      "text/plain": [
       "   document_id  source_id  publisher_id         publish_time\n",
       "0      1595802        1.0         603.0  2016-06-05 00:00:00\n",
       "1      1524246        1.0         603.0  2016-05-26 11:00:00\n",
       "2      1617787        1.0         603.0  2016-05-27 00:00:00\n",
       "3      1615583        1.0         603.0  2016-06-07 00:00:00\n",
       "4      1615460        1.0         603.0  2016-06-20 00:00:00"
      ]
     },
     "execution_count": 3,
     "metadata": {},
     "output_type": "execute_result"
    }
   ],
   "source": [
    "docs_meta = pd.read_csv(\"../download/documents_meta.csv\") \n",
    "docs_meta.head()"
   ]
  },
  {
   "cell_type": "code",
   "execution_count": 4,
   "metadata": {
    "collapsed": false
   },
   "outputs": [
    {
     "data": {
      "text/plain": [
       "document_id     2999334\n",
       "source_id       2996816\n",
       "publisher_id    2935310\n",
       "publish_time    1988216\n",
       "dtype: int64"
      ]
     },
     "execution_count": 4,
     "metadata": {},
     "output_type": "execute_result"
    }
   ],
   "source": [
    "docs_meta.count()"
   ]
  },
  {
   "cell_type": "markdown",
   "metadata": {},
   "source": [
    "#### Time"
   ]
  },
  {
   "cell_type": "code",
   "execution_count": 5,
   "metadata": {
    "collapsed": false
   },
   "outputs": [],
   "source": [
    "docs_meta['publish_timestamp'] = docs_meta['publish_time'].apply(time_ms)"
   ]
  },
  {
   "cell_type": "code",
   "execution_count": 6,
   "metadata": {
    "collapsed": false
   },
   "outputs": [
    {
     "name": "stdout",
     "output_type": "stream",
     "text": [
      "12060\n",
      "2016-06-29 00:00:00 9953-03-01 00:00:00\n"
     ]
    }
   ],
   "source": [
    "docs_meta_unread = docs_meta[docs_meta['publish_time']>'2016-06-29']\n",
    "print len(docs_meta_unread)\n",
    "print docs_meta_unread['publish_time'].min(), docs_meta_unread['publish_time'].max()"
   ]
  },
  {
   "cell_type": "code",
   "execution_count": 7,
   "metadata": {
    "collapsed": false
   },
   "outputs": [],
   "source": [
    "docs_meta.loc[list(docs_meta['publish_time']>'2016-06-29'),'publish_timestamp'] = float('NaN')"
   ]
  },
  {
   "cell_type": "code",
   "execution_count": 8,
   "metadata": {
    "collapsed": false
   },
   "outputs": [
    {
     "data": {
      "text/plain": [
       "<matplotlib.axes._subplots.AxesSubplot at 0x14518c18>"
      ]
     },
     "execution_count": 8,
     "metadata": {},
     "output_type": "execute_result"
    },
    {
     "data": {
      "image/png": "[encoded data removed]",
      "text/plain": [
       "<matplotlib.figure.Figure at 0x3d58320>"
      ]
     },
     "metadata": {},
     "output_type": "display_data"
    }
   ],
   "source": [
    "docs_meta['publish_timestamp'].hist(bins = 100, log = True)"
   ]
  },
  {
   "cell_type": "code",
   "execution_count": 17,
   "metadata": {
    "collapsed": false
   },
   "outputs": [
    {
     "data": {
      "text/plain": [
       "<matplotlib.axes._subplots.AxesSubplot at 0x15a81358>"
      ]
     },
     "execution_count": 17,
     "metadata": {},
     "output_type": "execute_result"
    },
    {
     "data": {
      "image/png": "[encoded data removed]",
      "text/plain": [
       "<matplotlib.figure.Figure at 0x15a605f8>"
      ]
     },
     "metadata": {},
     "output_type": "display_data"
    }
   ],
   "source": [
    "timestampMeanPerSource = pd.DataFrame({'timestampMeanPerSource' : docs_meta.groupby('source_id')['publish_timestamp'].mean()}).reset_index()\n",
    "timestampMeanPerSource['timestampMeanPerSource'].hist(bins=100, log=True)"
   ]
  },
  {
   "cell_type": "code",
   "execution_count": 18,
   "metadata": {
    "collapsed": false
   },
   "outputs": [
    {
     "data": {
      "text/plain": [
       "<matplotlib.axes._subplots.AxesSubplot at 0x169f6ba8>"
      ]
     },
     "execution_count": 18,
     "metadata": {},
     "output_type": "execute_result"
    },
    {
     "data": {
      "image/png": "[encoded data removed]",
      "text/plain": [
       "<matplotlib.figure.Figure at 0x17365f28>"
      ]
     },
     "metadata": {},
     "output_type": "display_data"
    }
   ],
   "source": [
    "timestampMeanPerPublisher = pd.DataFrame({'timestampMeanPerPublisher' : docs_meta.groupby('publisher_id')['publish_timestamp'].mean()}).reset_index()\n",
    "timestampMeanPerPublisher['timestampMeanPerPublisher'].hist(bins=100, log=True)"
   ]
  },
  {
   "cell_type": "code",
   "execution_count": 15,
   "metadata": {
    "collapsed": false
   },
   "outputs": [
    {
     "data": {
      "text/html": [
       "<div>\n",
       "<table border=\"1\" class=\"dataframe\">\n",
       "  <thead>\n",
       "    <tr style=\"text-align: right;\">\n",
       "      <th></th>\n",
       "      <th>document_id</th>\n",
       "      <th>source_id</th>\n",
       "      <th>publisher_id</th>\n",
       "      <th>publish_time</th>\n",
       "      <th>publish_timestamp</th>\n",
       "      <th>timestampMeanPerSource</th>\n",
       "    </tr>\n",
       "  </thead>\n",
       "  <tbody>\n",
       "    <tr>\n",
       "      <th>0</th>\n",
       "      <td>1595802</td>\n",
       "      <td>1.0</td>\n",
       "      <td>603.0</td>\n",
       "      <td>2016-06-05 00:00:00</td>\n",
       "      <td>-7.920000e+08</td>\n",
       "      <td>-1.074138e+11</td>\n",
       "    </tr>\n",
       "    <tr>\n",
       "      <th>1</th>\n",
       "      <td>1524246</td>\n",
       "      <td>1.0</td>\n",
       "      <td>603.0</td>\n",
       "      <td>2016-05-26 11:00:00</td>\n",
       "      <td>-1.616400e+09</td>\n",
       "      <td>-1.074138e+11</td>\n",
       "    </tr>\n",
       "    <tr>\n",
       "      <th>2</th>\n",
       "      <td>1617787</td>\n",
       "      <td>1.0</td>\n",
       "      <td>603.0</td>\n",
       "      <td>2016-05-27 00:00:00</td>\n",
       "      <td>-1.569600e+09</td>\n",
       "      <td>-1.074138e+11</td>\n",
       "    </tr>\n",
       "    <tr>\n",
       "      <th>3</th>\n",
       "      <td>1615583</td>\n",
       "      <td>1.0</td>\n",
       "      <td>603.0</td>\n",
       "      <td>2016-06-07 00:00:00</td>\n",
       "      <td>-6.192000e+08</td>\n",
       "      <td>-1.074138e+11</td>\n",
       "    </tr>\n",
       "    <tr>\n",
       "      <th>4</th>\n",
       "      <td>1615460</td>\n",
       "      <td>1.0</td>\n",
       "      <td>603.0</td>\n",
       "      <td>2016-06-20 00:00:00</td>\n",
       "      <td>5.040000e+08</td>\n",
       "      <td>-1.074138e+11</td>\n",
       "    </tr>\n",
       "  </tbody>\n",
       "</table>\n",
       "</div>"
      ],
      "text/plain": [
       "   document_id  source_id  publisher_id         publish_time  \\\n",
       "0      1595802        1.0         603.0  2016-06-05 00:00:00   \n",
       "1      1524246        1.0         603.0  2016-05-26 11:00:00   \n",
       "2      1617787        1.0         603.0  2016-05-27 00:00:00   \n",
       "3      1615583        1.0         603.0  2016-06-07 00:00:00   \n",
       "4      1615460        1.0         603.0  2016-06-20 00:00:00   \n",
       "\n",
       "   publish_timestamp  timestampMeanPerSource  \n",
       "0      -7.920000e+08           -1.074138e+11  \n",
       "1      -1.616400e+09           -1.074138e+11  \n",
       "2      -1.569600e+09           -1.074138e+11  \n",
       "3      -6.192000e+08           -1.074138e+11  \n",
       "4       5.040000e+08           -1.074138e+11  "
      ]
     },
     "execution_count": 15,
     "metadata": {},
     "output_type": "execute_result"
    }
   ],
   "source": [
    "docs_meta = pd.merge(docs_meta, timestampMeanPerSource, how='left', on='source_id')\n",
    "docs_meta.head()"
   ]
  },
  {
   "cell_type": "code",
   "execution_count": 16,
   "metadata": {
    "collapsed": false
   },
   "outputs": [
    {
     "data": {
      "text/plain": [
       "document_id               2999334\n",
       "source_id                 2996816\n",
       "publisher_id              2935310\n",
       "publish_time              1988216\n",
       "publish_timestamp         2910791\n",
       "timestampMeanPerSource    2908914\n",
       "dtype: int64"
      ]
     },
     "execution_count": 16,
     "metadata": {},
     "output_type": "execute_result"
    }
   ],
   "source": [
    "index = docs_meta['publish_timestamp'].isnull()\n",
    "docs_meta.loc[index, 'publish_timestamp'] = docs_meta[index]['timestampMeanPerSource']\n",
    "docs_meta.count()"
   ]
  },
  {
   "cell_type": "code",
   "execution_count": 21,
   "metadata": {
    "collapsed": false
   },
   "outputs": [
    {
     "data": {
      "text/plain": [
       "document_id               2999334\n",
       "source_id                 2996816\n",
       "publisher_id              2935310\n",
       "publish_time              1988216\n",
       "publish_timestamp         2999334\n",
       "timestampMeanPerSource    2908914\n",
       "dtype: int64"
      ]
     },
     "execution_count": 21,
     "metadata": {},
     "output_type": "execute_result"
    }
   ],
   "source": [
    "timestamp_mean = docs_meta['publish_timestamp'].mean()\n",
    "index = docs_meta['publish_timestamp'].isnull()\n",
    "docs_meta.loc[index, 'publish_timestamp'] = timestamp_mean\n",
    "docs_meta.count()"
   ]
  },
  {
   "cell_type": "code",
   "execution_count": 22,
   "metadata": {
    "collapsed": true
   },
   "outputs": [],
   "source": [
    "docs_meta = docs_meta.drop(['publish_time', 'timestampMeanPerSource'], axis=1)"
   ]
  },
  {
   "cell_type": "code",
   "execution_count": 23,
   "metadata": {
    "collapsed": false
   },
   "outputs": [
    {
     "data": {
      "text/html": [
       "<div>\n",
       "<table border=\"1\" class=\"dataframe\">\n",
       "  <thead>\n",
       "    <tr style=\"text-align: right;\">\n",
       "      <th></th>\n",
       "      <th>document_id</th>\n",
       "      <th>source_id</th>\n",
       "      <th>publisher_id</th>\n",
       "      <th>publish_timestamp</th>\n",
       "    </tr>\n",
       "  </thead>\n",
       "  <tbody>\n",
       "    <tr>\n",
       "      <th>0</th>\n",
       "      <td>1595802</td>\n",
       "      <td>1.0</td>\n",
       "      <td>603.0</td>\n",
       "      <td>-7.920000e+08</td>\n",
       "    </tr>\n",
       "    <tr>\n",
       "      <th>1</th>\n",
       "      <td>1524246</td>\n",
       "      <td>1.0</td>\n",
       "      <td>603.0</td>\n",
       "      <td>-1.616400e+09</td>\n",
       "    </tr>\n",
       "    <tr>\n",
       "      <th>2</th>\n",
       "      <td>1617787</td>\n",
       "      <td>1.0</td>\n",
       "      <td>603.0</td>\n",
       "      <td>-1.569600e+09</td>\n",
       "    </tr>\n",
       "    <tr>\n",
       "      <th>3</th>\n",
       "      <td>1615583</td>\n",
       "      <td>1.0</td>\n",
       "      <td>603.0</td>\n",
       "      <td>-6.192000e+08</td>\n",
       "    </tr>\n",
       "    <tr>\n",
       "      <th>4</th>\n",
       "      <td>1615460</td>\n",
       "      <td>1.0</td>\n",
       "      <td>603.0</td>\n",
       "      <td>5.040000e+08</td>\n",
       "    </tr>\n",
       "  </tbody>\n",
       "</table>\n",
       "</div>"
      ],
      "text/plain": [
       "   document_id  source_id  publisher_id  publish_timestamp\n",
       "0      1595802        1.0         603.0      -7.920000e+08\n",
       "1      1524246        1.0         603.0      -1.616400e+09\n",
       "2      1617787        1.0         603.0      -1.569600e+09\n",
       "3      1615583        1.0         603.0      -6.192000e+08\n",
       "4      1615460        1.0         603.0       5.040000e+08"
      ]
     },
     "execution_count": 23,
     "metadata": {},
     "output_type": "execute_result"
    }
   ],
   "source": [
    "docs_meta.head()"
   ]
  },
  {
   "cell_type": "markdown",
   "metadata": {},
   "source": [
    "#### Publisher_id fix based on source_id - not possible"
   ]
  },
  {
   "cell_type": "raw",
   "metadata": {},
   "source": [
    "print docs_meta['source_id'].nunique(), docs_meta['publisher_id'].nunique()"
   ]
  },
  {
   "cell_type": "raw",
   "metadata": {},
   "source": [
    "publishersPerSource = pd.DataFrame({'size': docs_meta.groupby(['source_id', 'publisher_id']).size() }).reset_index().drop('size', axis=1)\n",
    "publishersPerSource.columns = ['source_id', 'publisher_id_fix']\n",
    "publishersPerSource.count()"
   ]
  },
  {
   "cell_type": "raw",
   "metadata": {},
   "source": [
    "pd.merge(docs_meta, publishersPerSource, how='left', on='source_id').count()"
   ]
  },
  {
   "cell_type": "markdown",
   "metadata": {},
   "source": [
    "#### Substitutes for source_id and publisher_id"
   ]
  },
  {
   "cell_type": "code",
   "execution_count": 24,
   "metadata": {
    "collapsed": false
   },
   "outputs": [
    {
     "data": {
      "text/plain": [
       "count     14394.000000\n",
       "mean        208.198972\n",
       "std        2790.495213\n",
       "min           1.000000\n",
       "25%           1.000000\n",
       "50%           6.000000\n",
       "75%          61.000000\n",
       "max      235463.000000\n",
       "Name: docsPerSource, dtype: float64"
      ]
     },
     "execution_count": 24,
     "metadata": {},
     "output_type": "execute_result"
    }
   ],
   "source": [
    "docsPerSource = pd.DataFrame({'docsPerSource': docs_meta.groupby('source_id').size() }).reset_index()\n",
    "docsPerSource['docsPerSource'].describe()"
   ]
  },
  {
   "cell_type": "code",
   "execution_count": 25,
   "metadata": {
    "collapsed": false
   },
   "outputs": [
    {
     "data": {
      "text/plain": [
       "count      1259.000000\n",
       "mean       2331.461477\n",
       "std       11318.797955\n",
       "min           1.000000\n",
       "25%           4.000000\n",
       "50%          91.000000\n",
       "75%        1136.500000\n",
       "max      239495.000000\n",
       "Name: docsPerPublisher, dtype: float64"
      ]
     },
     "execution_count": 25,
     "metadata": {},
     "output_type": "execute_result"
    }
   ],
   "source": [
    "docsPerPublisher = pd.DataFrame({'docsPerPublisher': docs_meta.groupby('publisher_id').size() }).reset_index()\n",
    "docsPerPublisher['docsPerPublisher'].describe()"
   ]
  },
  {
   "cell_type": "code",
   "execution_count": 27,
   "metadata": {
    "collapsed": false
   },
   "outputs": [
    {
     "data": {
      "text/plain": [
       "count    1259.000000\n",
       "mean        7.415409\n",
       "std        44.348971\n",
       "min         1.000000\n",
       "25%         1.000000\n",
       "50%         1.000000\n",
       "75%         3.000000\n",
       "max       908.000000\n",
       "Name: sourcesPerPublisher, dtype: float64"
      ]
     },
     "execution_count": 27,
     "metadata": {},
     "output_type": "execute_result"
    }
   ],
   "source": [
    "sourcesPublisher = pd.DataFrame({'size': docs_meta.groupby(['source_id', 'publisher_id']).size() }).reset_index().drop('size', axis=1)\n",
    "sourcesPerPublisher = pd.DataFrame({'sourcesPerPublisher': sourcesPublisher.groupby('publisher_id').size() }).reset_index()\n",
    "sourcesPerPublisher['sourcesPerPublisher'].describe()"
   ]
  },
  {
   "cell_type": "code",
   "execution_count": 28,
   "metadata": {
    "collapsed": false
   },
   "outputs": [
    {
     "data": {
      "text/plain": [
       "document_id          0\n",
       "source_id            0\n",
       "publisher_id         0\n",
       "publish_timestamp    0\n",
       "dtype: int64"
      ]
     },
     "execution_count": 28,
     "metadata": {},
     "output_type": "execute_result"
    }
   ],
   "source": [
    "docs_meta[(docs_meta['source_id'].isnull())&(docs_meta['publisher_id'].notnull())].count()"
   ]
  },
  {
   "cell_type": "code",
   "execution_count": 29,
   "metadata": {
    "collapsed": false
   },
   "outputs": [
    {
     "data": {
      "text/plain": [
       "document_id          61506\n",
       "source_id            61506\n",
       "publisher_id             0\n",
       "publish_timestamp    61506\n",
       "dtype: int64"
      ]
     },
     "execution_count": 29,
     "metadata": {},
     "output_type": "execute_result"
    }
   ],
   "source": [
    "docs_meta[(docs_meta['source_id'].notnull())&(docs_meta['publisher_id'].isnull())].count()"
   ]
  },
  {
   "cell_type": "code",
   "execution_count": 30,
   "metadata": {
    "collapsed": false
   },
   "outputs": [
    {
     "data": {
      "text/plain": [
       "document_id            2999334\n",
       "source_id              2996816\n",
       "publisher_id           2935310\n",
       "publish_timestamp      2999334\n",
       "docsPerSource          2996816\n",
       "docsPerPublisher       2935310\n",
       "sourcesPerPublisher    2935310\n",
       "dtype: int64"
      ]
     },
     "execution_count": 30,
     "metadata": {},
     "output_type": "execute_result"
    }
   ],
   "source": [
    "docs_meta = pd.merge(docs_meta, docsPerSource, how='left', on='source_id')\n",
    "docs_meta = pd.merge(docs_meta, docsPerPublisher, how='left', on='publisher_id')\n",
    "docs_meta = pd.merge(docs_meta, sourcesPerPublisher, how='left', on='publisher_id')\n",
    "docs_meta.count()"
   ]
  },
  {
   "cell_type": "code",
   "execution_count": 31,
   "metadata": {
    "collapsed": false
   },
   "outputs": [
    {
     "data": {
      "text/plain": [
       "count    2.935310e+06\n",
       "mean     8.026333e+01\n",
       "std      8.526027e+02\n",
       "min      1.000000e+00\n",
       "25%      1.017124e+00\n",
       "50%      2.286096e+00\n",
       "75%      1.893023e+01\n",
       "max      2.394950e+05\n",
       "Name: ratioPubSource, dtype: float64"
      ]
     },
     "execution_count": 31,
     "metadata": {},
     "output_type": "execute_result"
    }
   ],
   "source": [
    "docs_meta['ratioPubSource'] = docs_meta['docsPerPublisher'] / docs_meta['docsPerSource']\n",
    "docs_meta['ratioPubSource'].describe()"
   ]
  },
  {
   "cell_type": "code",
   "execution_count": 32,
   "metadata": {
    "collapsed": false
   },
   "outputs": [
    {
     "data": {
      "text/plain": [
       "document_id            2999334\n",
       "source_id              2996816\n",
       "publisher_id           2935310\n",
       "publish_timestamp      2999334\n",
       "docsPerSource          2999334\n",
       "docsPerPublisher       2935310\n",
       "sourcesPerPublisher    2935310\n",
       "ratioPubSource         2935310\n",
       "dtype: int64"
      ]
     },
     "execution_count": 32,
     "metadata": {},
     "output_type": "execute_result"
    }
   ],
   "source": [
    "docsPerSource_mean = docs_meta['docsPerSource'].mean()\n",
    "index = docs_meta['docsPerSource'].isnull()\n",
    "docs_meta.loc[index, 'docsPerSource'] = docsPerSource_mean\n",
    "docs_meta.count()"
   ]
  },
  {
   "cell_type": "code",
   "execution_count": 34,
   "metadata": {
    "collapsed": false
   },
   "outputs": [
    {
     "data": {
      "text/plain": [
       "document_id            2999334\n",
       "source_id              2996816\n",
       "publisher_id           2935310\n",
       "publish_timestamp      2999334\n",
       "docsPerSource          2999334\n",
       "docsPerPublisher       2999334\n",
       "sourcesPerPublisher    2999334\n",
       "ratioPubSource         2999334\n",
       "dtype: int64"
      ]
     },
     "execution_count": 34,
     "metadata": {},
     "output_type": "execute_result"
    }
   ],
   "source": [
    "index = docs_meta['publisher_id'].isnull()\n",
    "docs_meta.loc[index, 'docsPerPublisher'] = docs_meta[index]['docsPerSource']\n",
    "docs_meta.loc[index, 'sourcesPerPublisher'] = 1\n",
    "docs_meta.loc[index, 'ratioPubSource'] = 1\n",
    "docs_meta.count()"
   ]
  },
  {
   "cell_type": "code",
   "execution_count": 35,
   "metadata": {
    "collapsed": true
   },
   "outputs": [],
   "source": [
    "docs_meta = docs_meta.drop(['source_id', 'publisher_id'], axis=1)"
   ]
  },
  {
   "cell_type": "code",
   "execution_count": 37,
   "metadata": {
    "collapsed": true
   },
   "outputs": [],
   "source": [
    "docs_meta = docs_meta.drop(['sourcesPerPublisher', 'ratioPubSource'], axis=1)"
   ]
  },
  {
   "cell_type": "code",
   "execution_count": 39,
   "metadata": {
    "collapsed": false
   },
   "outputs": [
    {
     "data": {
      "text/plain": [
       "document_id          2999334\n",
       "publish_timestamp    2999334\n",
       "docsPerSource        2999334\n",
       "docsPerPublisher     2999334\n",
       "dtype: int64"
      ]
     },
     "execution_count": 39,
     "metadata": {},
     "output_type": "execute_result"
    }
   ],
   "source": [
    "docs_meta.count()"
   ]
  },
  {
   "cell_type": "code",
   "execution_count": 64,
   "metadata": {
    "collapsed": false
   },
   "outputs": [],
   "source": [
    "docs_meta.columns = ['document_id', 'published', 'source_rate', 'publisher_rate']"
   ]
  },
  {
   "cell_type": "code",
   "execution_count": 70,
   "metadata": {
    "collapsed": false
   },
   "outputs": [],
   "source": [
    "docs_meta = docs_meta.astype({'document_id':int, 'published':int, 'source_rate':int, 'publisher_rate':int})"
   ]
  },
  {
   "cell_type": "code",
   "execution_count": 71,
   "metadata": {
    "collapsed": false
   },
   "outputs": [
    {
     "data": {
      "text/html": [
       "<div>\n",
       "<table border=\"1\" class=\"dataframe\">\n",
       "  <thead>\n",
       "    <tr style=\"text-align: right;\">\n",
       "      <th></th>\n",
       "      <th>document_id</th>\n",
       "      <th>published</th>\n",
       "      <th>source_rate</th>\n",
       "      <th>publisher_rate</th>\n",
       "    </tr>\n",
       "  </thead>\n",
       "  <tbody>\n",
       "    <tr>\n",
       "      <th>0</th>\n",
       "      <td>1595802</td>\n",
       "      <td>-791999998</td>\n",
       "      <td>12867</td>\n",
       "      <td>13109</td>\n",
       "    </tr>\n",
       "    <tr>\n",
       "      <th>1</th>\n",
       "      <td>1524246</td>\n",
       "      <td>-1616399998</td>\n",
       "      <td>12867</td>\n",
       "      <td>13109</td>\n",
       "    </tr>\n",
       "    <tr>\n",
       "      <th>2</th>\n",
       "      <td>1617787</td>\n",
       "      <td>-1569599998</td>\n",
       "      <td>12867</td>\n",
       "      <td>13109</td>\n",
       "    </tr>\n",
       "    <tr>\n",
       "      <th>3</th>\n",
       "      <td>1615583</td>\n",
       "      <td>-619199998</td>\n",
       "      <td>12867</td>\n",
       "      <td>13109</td>\n",
       "    </tr>\n",
       "    <tr>\n",
       "      <th>4</th>\n",
       "      <td>1615460</td>\n",
       "      <td>504000002</td>\n",
       "      <td>12867</td>\n",
       "      <td>13109</td>\n",
       "    </tr>\n",
       "  </tbody>\n",
       "</table>\n",
       "</div>"
      ],
      "text/plain": [
       "   document_id   published  source_rate  publisher_rate\n",
       "0      1595802  -791999998        12867           13109\n",
       "1      1524246 -1616399998        12867           13109\n",
       "2      1617787 -1569599998        12867           13109\n",
       "3      1615583  -619199998        12867           13109\n",
       "4      1615460   504000002        12867           13109"
      ]
     },
     "execution_count": 71,
     "metadata": {},
     "output_type": "execute_result"
    }
   ],
   "source": [
    "docs_meta.head()"
   ]
  },
  {
   "cell_type": "markdown",
   "metadata": {},
   "source": [
    "### Docs Topics, topic_id substitute\n",
    "Q: Can it be usefull both for Events and Ads docs? - Yes (mostly)"
   ]
  },
  {
   "cell_type": "code",
   "execution_count": 2,
   "metadata": {
    "collapsed": false
   },
   "outputs": [
    {
     "data": {
      "text/html": [
       "<div>\n",
       "<table border=\"1\" class=\"dataframe\">\n",
       "  <thead>\n",
       "    <tr style=\"text-align: right;\">\n",
       "      <th></th>\n",
       "      <th>document_id</th>\n",
       "      <th>topic_id</th>\n",
       "      <th>confidence_level</th>\n",
       "    </tr>\n",
       "  </thead>\n",
       "  <tbody>\n",
       "    <tr>\n",
       "      <th>0</th>\n",
       "      <td>1595802</td>\n",
       "      <td>140</td>\n",
       "      <td>0.073113</td>\n",
       "    </tr>\n",
       "    <tr>\n",
       "      <th>1</th>\n",
       "      <td>1595802</td>\n",
       "      <td>16</td>\n",
       "      <td>0.059416</td>\n",
       "    </tr>\n",
       "    <tr>\n",
       "      <th>2</th>\n",
       "      <td>1595802</td>\n",
       "      <td>143</td>\n",
       "      <td>0.045421</td>\n",
       "    </tr>\n",
       "    <tr>\n",
       "      <th>3</th>\n",
       "      <td>1595802</td>\n",
       "      <td>170</td>\n",
       "      <td>0.038867</td>\n",
       "    </tr>\n",
       "    <tr>\n",
       "      <th>4</th>\n",
       "      <td>1524246</td>\n",
       "      <td>113</td>\n",
       "      <td>0.196450</td>\n",
       "    </tr>\n",
       "  </tbody>\n",
       "</table>\n",
       "</div>"
      ],
      "text/plain": [
       "   document_id  topic_id  confidence_level\n",
       "0      1595802       140          0.073113\n",
       "1      1595802        16          0.059416\n",
       "2      1595802       143          0.045421\n",
       "3      1595802       170          0.038867\n",
       "4      1524246       113          0.196450"
      ]
     },
     "execution_count": 2,
     "metadata": {},
     "output_type": "execute_result"
    }
   ],
   "source": [
    "docs_topics = pd.read_csv(\"../download/documents_topics.csv\")\n",
    "docs_topics.head()"
   ]
  },
  {
   "cell_type": "raw",
   "metadata": {},
   "source": [
    "docs_topics.head(200)"
   ]
  },
  {
   "cell_type": "code",
   "execution_count": 53,
   "metadata": {
    "collapsed": false
   },
   "outputs": [
    {
     "data": {
      "text/plain": [
       "document_id         11325960\n",
       "topic_id            11325960\n",
       "confidence_level    11325960\n",
       "dtype: int64"
      ]
     },
     "execution_count": 53,
     "metadata": {},
     "output_type": "execute_result"
    }
   ],
   "source": [
    "docs_topics.count()"
   ]
  },
  {
   "cell_type": "code",
   "execution_count": 54,
   "metadata": {
    "collapsed": false
   },
   "outputs": [
    {
     "name": "stdout",
     "output_type": "stream",
     "text": [
      "2495423 300\n"
     ]
    }
   ],
   "source": [
    "print docs_topics['document_id'].nunique(), docs_topics['topic_id'].nunique()"
   ]
  },
  {
   "cell_type": "code",
   "execution_count": 55,
   "metadata": {
    "collapsed": false
   },
   "outputs": [
    {
     "data": {
      "text/plain": [
       "count      300.000000\n",
       "mean      1845.673001\n",
       "std       2491.150843\n",
       "min         64.943634\n",
       "25%        439.104630\n",
       "50%        902.875527\n",
       "75%       2167.035617\n",
       "max      20485.524508\n",
       "Name: docsPerTopic, dtype: float64"
      ]
     },
     "execution_count": 55,
     "metadata": {},
     "output_type": "execute_result"
    }
   ],
   "source": [
    "docsPerTopic = pd.DataFrame({'docsPerTopic': docs_topics.groupby('topic_id')['confidence_level'].sum() }).reset_index()\n",
    "docsPerTopic['docsPerTopic'].describe()"
   ]
  },
  {
   "cell_type": "code",
   "execution_count": 56,
   "metadata": {
    "collapsed": false
   },
   "outputs": [
    {
     "data": {
      "text/plain": [
       "<matplotlib.axes._subplots.AxesSubplot at 0x203092e8>"
      ]
     },
     "execution_count": 56,
     "metadata": {},
     "output_type": "execute_result"
    },
    {
     "data": {
      "image/png": "[encoded data removed]",
      "text/plain": [
       "<matplotlib.figure.Figure at 0x1dbc1390>"
      ]
     },
     "metadata": {},
     "output_type": "display_data"
    }
   ],
   "source": [
    "docsPerTopic['docsPerTopic'].hist(bins = 100, log=True)"
   ]
  },
  {
   "cell_type": "code",
   "execution_count": 57,
   "metadata": {
    "collapsed": false
   },
   "outputs": [
    {
     "data": {
      "text/plain": [
       "document_id         11325960\n",
       "topic_id            11325960\n",
       "confidence_level    11325960\n",
       "docsPerTopic        11325960\n",
       "dtype: int64"
      ]
     },
     "execution_count": 57,
     "metadata": {},
     "output_type": "execute_result"
    }
   ],
   "source": [
    "docs_topics = pd.merge(docs_topics, docsPerTopic, on='topic_id')\n",
    "docs_topics.count()"
   ]
  },
  {
   "cell_type": "code",
   "execution_count": 60,
   "metadata": {
    "collapsed": false
   },
   "outputs": [
    {
     "data": {
      "text/plain": [
       "document_id    2495423\n",
       "topics_rate    2495423\n",
       "dtype: int64"
      ]
     },
     "execution_count": 60,
     "metadata": {},
     "output_type": "execute_result"
    }
   ],
   "source": [
    "docs_topics['topic_rate'] = docs_topics['docsPerTopic'] * docs_topics['confidence_level']\n",
    "docs_topics = pd.DataFrame({'topics_rate' : docs_topics.groupby('document_id')['topic_rate'].sum()}).reset_index()\n",
    "docs_topics.count()"
   ]
  },
  {
   "cell_type": "code",
   "execution_count": 62,
   "metadata": {
    "collapsed": false
   },
   "outputs": [
    {
     "data": {
      "text/plain": [
       "<matplotlib.axes._subplots.AxesSubplot at 0x1a6abb70>"
      ]
     },
     "execution_count": 62,
     "metadata": {},
     "output_type": "execute_result"
    },
    {
     "data": {
      "image/png": "[encoded data removed]",
      "text/plain": [
       "<matplotlib.figure.Figure at 0x1a6ab5c0>"
      ]
     },
     "metadata": {},
     "output_type": "display_data"
    }
   ],
   "source": [
    "docs_topics['topics_rate'].hist(bins=100, log=True)"
   ]
  },
  {
   "cell_type": "code",
   "execution_count": 61,
   "metadata": {
    "collapsed": false
   },
   "outputs": [
    {
     "data": {
      "text/html": [
       "<div>\n",
       "<table border=\"1\" class=\"dataframe\">\n",
       "  <thead>\n",
       "    <tr style=\"text-align: right;\">\n",
       "      <th></th>\n",
       "      <th>document_id</th>\n",
       "      <th>topics_rate</th>\n",
       "    </tr>\n",
       "  </thead>\n",
       "  <tbody>\n",
       "    <tr>\n",
       "      <th>0</th>\n",
       "      <td>1</td>\n",
       "      <td>215.257321</td>\n",
       "    </tr>\n",
       "    <tr>\n",
       "      <th>1</th>\n",
       "      <td>2</td>\n",
       "      <td>91.779252</td>\n",
       "    </tr>\n",
       "    <tr>\n",
       "      <th>2</th>\n",
       "      <td>3</td>\n",
       "      <td>610.470561</td>\n",
       "    </tr>\n",
       "    <tr>\n",
       "      <th>3</th>\n",
       "      <td>4</td>\n",
       "      <td>1899.394378</td>\n",
       "    </tr>\n",
       "    <tr>\n",
       "      <th>4</th>\n",
       "      <td>5</td>\n",
       "      <td>1530.490553</td>\n",
       "    </tr>\n",
       "  </tbody>\n",
       "</table>\n",
       "</div>"
      ],
      "text/plain": [
       "   document_id  topics_rate\n",
       "0            1   215.257321\n",
       "1            2    91.779252\n",
       "2            3   610.470561\n",
       "3            4  1899.394378\n",
       "4            5  1530.490553"
      ]
     },
     "execution_count": 61,
     "metadata": {},
     "output_type": "execute_result"
    }
   ],
   "source": [
    "docs_topics.head()"
   ]
  },
  {
   "cell_type": "markdown",
   "metadata": {},
   "source": [
    "### Doc Entities, entity_id substitutes"
   ]
  },
  {
   "cell_type": "code",
   "execution_count": 21,
   "metadata": {
    "collapsed": false
   },
   "outputs": [
    {
     "data": {
      "text/html": [
       "<div>\n",
       "<table border=\"1\" class=\"dataframe\">\n",
       "  <thead>\n",
       "    <tr style=\"text-align: right;\">\n",
       "      <th></th>\n",
       "      <th>document_id</th>\n",
       "      <th>entity_id</th>\n",
       "      <th>confidence_level</th>\n",
       "    </tr>\n",
       "  </thead>\n",
       "  <tbody>\n",
       "    <tr>\n",
       "      <th>0</th>\n",
       "      <td>1524246</td>\n",
       "      <td>f9eec25663db4cd83183f5c805186f16</td>\n",
       "      <td>0.672865</td>\n",
       "    </tr>\n",
       "    <tr>\n",
       "      <th>1</th>\n",
       "      <td>1524246</td>\n",
       "      <td>55ebcfbdaff1d6f60b3907151f38527a</td>\n",
       "      <td>0.399114</td>\n",
       "    </tr>\n",
       "    <tr>\n",
       "      <th>2</th>\n",
       "      <td>1524246</td>\n",
       "      <td>839907a972930b17b125eb0247898412</td>\n",
       "      <td>0.392096</td>\n",
       "    </tr>\n",
       "    <tr>\n",
       "      <th>3</th>\n",
       "      <td>1524246</td>\n",
       "      <td>04d8f9a1ad48f126d5806a9236872604</td>\n",
       "      <td>0.213996</td>\n",
       "    </tr>\n",
       "    <tr>\n",
       "      <th>4</th>\n",
       "      <td>1617787</td>\n",
       "      <td>612a1d17685a498aff4f036c1ee02c16</td>\n",
       "      <td>0.386193</td>\n",
       "    </tr>\n",
       "  </tbody>\n",
       "</table>\n",
       "</div>"
      ],
      "text/plain": [
       "   document_id                         entity_id  confidence_level\n",
       "0      1524246  f9eec25663db4cd83183f5c805186f16          0.672865\n",
       "1      1524246  55ebcfbdaff1d6f60b3907151f38527a          0.399114\n",
       "2      1524246  839907a972930b17b125eb0247898412          0.392096\n",
       "3      1524246  04d8f9a1ad48f126d5806a9236872604          0.213996\n",
       "4      1617787  612a1d17685a498aff4f036c1ee02c16          0.386193"
      ]
     },
     "execution_count": 21,
     "metadata": {},
     "output_type": "execute_result"
    }
   ],
   "source": [
    "docs_ent = pd.read_csv(\"../download/documents_entities.csv\")\n",
    "docs_ent.head()"
   ]
  },
  {
   "cell_type": "code",
   "execution_count": 22,
   "metadata": {
    "collapsed": false
   },
   "outputs": [
    {
     "data": {
      "text/plain": [
       "document_id         5537552\n",
       "entity_id           5537552\n",
       "confidence_level    5537552\n",
       "dtype: int64"
      ]
     },
     "execution_count": 22,
     "metadata": {},
     "output_type": "execute_result"
    }
   ],
   "source": [
    "docs_ent.count()"
   ]
  },
  {
   "cell_type": "code",
   "execution_count": 23,
   "metadata": {
    "collapsed": false
   },
   "outputs": [
    {
     "data": {
      "text/html": [
       "<div>\n",
       "<table border=\"1\" class=\"dataframe\">\n",
       "  <thead>\n",
       "    <tr style=\"text-align: right;\">\n",
       "      <th></th>\n",
       "      <th>document_id</th>\n",
       "      <th>entity_id</th>\n",
       "      <th>confidence_level</th>\n",
       "    </tr>\n",
       "  </thead>\n",
       "  <tbody>\n",
       "    <tr>\n",
       "      <th>0</th>\n",
       "      <td>1524246</td>\n",
       "      <td>f9eec25663db4cd83183f5c805186f16</td>\n",
       "      <td>0.672865</td>\n",
       "    </tr>\n",
       "    <tr>\n",
       "      <th>1</th>\n",
       "      <td>1524246</td>\n",
       "      <td>55ebcfbdaff1d6f60b3907151f38527a</td>\n",
       "      <td>0.399114</td>\n",
       "    </tr>\n",
       "    <tr>\n",
       "      <th>2</th>\n",
       "      <td>1524246</td>\n",
       "      <td>839907a972930b17b125eb0247898412</td>\n",
       "      <td>0.392096</td>\n",
       "    </tr>\n",
       "    <tr>\n",
       "      <th>3</th>\n",
       "      <td>1524246</td>\n",
       "      <td>04d8f9a1ad48f126d5806a9236872604</td>\n",
       "      <td>0.213996</td>\n",
       "    </tr>\n",
       "  </tbody>\n",
       "</table>\n",
       "</div>"
      ],
      "text/plain": [
       "   document_id                         entity_id  confidence_level\n",
       "0      1524246  f9eec25663db4cd83183f5c805186f16          0.672865\n",
       "1      1524246  55ebcfbdaff1d6f60b3907151f38527a          0.399114\n",
       "2      1524246  839907a972930b17b125eb0247898412          0.392096\n",
       "3      1524246  04d8f9a1ad48f126d5806a9236872604          0.213996"
      ]
     },
     "execution_count": 23,
     "metadata": {},
     "output_type": "execute_result"
    }
   ],
   "source": [
    "d1 = docs_ent[docs_ent['document_id']==1524246]\n",
    "d1"
   ]
  },
  {
   "cell_type": "code",
   "execution_count": 25,
   "metadata": {
    "collapsed": false
   },
   "outputs": [
    {
     "data": {
      "text/html": [
       "<div>\n",
       "<table border=\"1\" class=\"dataframe\">\n",
       "  <thead>\n",
       "    <tr style=\"text-align: right;\">\n",
       "      <th></th>\n",
       "      <th>document_id</th>\n",
       "      <th>entity_id</th>\n",
       "      <th>confidence_level</th>\n",
       "    </tr>\n",
       "  </thead>\n",
       "  <tbody>\n",
       "    <tr>\n",
       "      <th>4</th>\n",
       "      <td>1617787</td>\n",
       "      <td>612a1d17685a498aff4f036c1ee02c16</td>\n",
       "      <td>0.386193</td>\n",
       "    </tr>\n",
       "    <tr>\n",
       "      <th>5</th>\n",
       "      <td>1617787</td>\n",
       "      <td>fb8c6cb0879e0de876298177eb1d3fcc</td>\n",
       "      <td>0.364116</td>\n",
       "    </tr>\n",
       "    <tr>\n",
       "      <th>6</th>\n",
       "      <td>1617787</td>\n",
       "      <td>793c6a6cf386edb820600d49df045475</td>\n",
       "      <td>0.349168</td>\n",
       "    </tr>\n",
       "    <tr>\n",
       "      <th>7</th>\n",
       "      <td>1617787</td>\n",
       "      <td>b525b84d5ed52a34565b8fb870555abe</td>\n",
       "      <td>0.287005</td>\n",
       "    </tr>\n",
       "    <tr>\n",
       "      <th>8</th>\n",
       "      <td>1617787</td>\n",
       "      <td>758cb9cb3014607cb4a691cbd485cc94</td>\n",
       "      <td>0.237957</td>\n",
       "    </tr>\n",
       "    <tr>\n",
       "      <th>9</th>\n",
       "      <td>1617787</td>\n",
       "      <td>d523aaba6d3916f8b7039fcce0f29639</td>\n",
       "      <td>0.235799</td>\n",
       "    </tr>\n",
       "    <tr>\n",
       "      <th>10</th>\n",
       "      <td>1617787</td>\n",
       "      <td>053e3ebba26a8d00e25cac594890887f</td>\n",
       "      <td>0.229953</td>\n",
       "    </tr>\n",
       "    <tr>\n",
       "      <th>11</th>\n",
       "      <td>1617787</td>\n",
       "      <td>935b2d2f0f49a80c2f720bdd6a563594</td>\n",
       "      <td>0.227938</td>\n",
       "    </tr>\n",
       "    <tr>\n",
       "      <th>12</th>\n",
       "      <td>1617787</td>\n",
       "      <td>3d0d43e01b616b4ff440019e8d295a2b</td>\n",
       "      <td>0.225750</td>\n",
       "    </tr>\n",
       "    <tr>\n",
       "      <th>13</th>\n",
       "      <td>1617787</td>\n",
       "      <td>74b442766892bbf15890f5f2ccfa3edb</td>\n",
       "      <td>0.217893</td>\n",
       "    </tr>\n",
       "  </tbody>\n",
       "</table>\n",
       "</div>"
      ],
      "text/plain": [
       "    document_id                         entity_id  confidence_level\n",
       "4       1617787  612a1d17685a498aff4f036c1ee02c16          0.386193\n",
       "5       1617787  fb8c6cb0879e0de876298177eb1d3fcc          0.364116\n",
       "6       1617787  793c6a6cf386edb820600d49df045475          0.349168\n",
       "7       1617787  b525b84d5ed52a34565b8fb870555abe          0.287005\n",
       "8       1617787  758cb9cb3014607cb4a691cbd485cc94          0.237957\n",
       "9       1617787  d523aaba6d3916f8b7039fcce0f29639          0.235799\n",
       "10      1617787  053e3ebba26a8d00e25cac594890887f          0.229953\n",
       "11      1617787  935b2d2f0f49a80c2f720bdd6a563594          0.227938\n",
       "12      1617787  3d0d43e01b616b4ff440019e8d295a2b          0.225750\n",
       "13      1617787  74b442766892bbf15890f5f2ccfa3edb          0.217893"
      ]
     },
     "execution_count": 25,
     "metadata": {},
     "output_type": "execute_result"
    }
   ],
   "source": [
    "d2 = docs_ent[docs_ent['document_id']==1617787]\n",
    "d2"
   ]
  },
  {
   "cell_type": "code",
   "execution_count": 26,
   "metadata": {
    "collapsed": false
   },
   "outputs": [
    {
     "data": {
      "text/html": [
       "<div>\n",
       "<table border=\"1\" class=\"dataframe\">\n",
       "  <thead>\n",
       "    <tr style=\"text-align: right;\">\n",
       "      <th></th>\n",
       "      <th>confidence_level_x</th>\n",
       "      <th>confidence_level_y</th>\n",
       "    </tr>\n",
       "  </thead>\n",
       "  <tbody>\n",
       "    <tr>\n",
       "      <th>0</th>\n",
       "      <td>0.672865</td>\n",
       "      <td>0.000000</td>\n",
       "    </tr>\n",
       "    <tr>\n",
       "      <th>1</th>\n",
       "      <td>0.399114</td>\n",
       "      <td>0.000000</td>\n",
       "    </tr>\n",
       "    <tr>\n",
       "      <th>2</th>\n",
       "      <td>0.392096</td>\n",
       "      <td>0.000000</td>\n",
       "    </tr>\n",
       "    <tr>\n",
       "      <th>3</th>\n",
       "      <td>0.213996</td>\n",
       "      <td>0.000000</td>\n",
       "    </tr>\n",
       "    <tr>\n",
       "      <th>4</th>\n",
       "      <td>0.000000</td>\n",
       "      <td>0.386193</td>\n",
       "    </tr>\n",
       "    <tr>\n",
       "      <th>5</th>\n",
       "      <td>0.000000</td>\n",
       "      <td>0.364116</td>\n",
       "    </tr>\n",
       "    <tr>\n",
       "      <th>6</th>\n",
       "      <td>0.000000</td>\n",
       "      <td>0.349168</td>\n",
       "    </tr>\n",
       "    <tr>\n",
       "      <th>7</th>\n",
       "      <td>0.000000</td>\n",
       "      <td>0.287005</td>\n",
       "    </tr>\n",
       "    <tr>\n",
       "      <th>8</th>\n",
       "      <td>0.000000</td>\n",
       "      <td>0.237957</td>\n",
       "    </tr>\n",
       "    <tr>\n",
       "      <th>9</th>\n",
       "      <td>0.000000</td>\n",
       "      <td>0.235799</td>\n",
       "    </tr>\n",
       "    <tr>\n",
       "      <th>10</th>\n",
       "      <td>0.000000</td>\n",
       "      <td>0.229953</td>\n",
       "    </tr>\n",
       "    <tr>\n",
       "      <th>11</th>\n",
       "      <td>0.000000</td>\n",
       "      <td>0.227938</td>\n",
       "    </tr>\n",
       "    <tr>\n",
       "      <th>12</th>\n",
       "      <td>0.000000</td>\n",
       "      <td>0.225750</td>\n",
       "    </tr>\n",
       "    <tr>\n",
       "      <th>13</th>\n",
       "      <td>0.000000</td>\n",
       "      <td>0.217893</td>\n",
       "    </tr>\n",
       "  </tbody>\n",
       "</table>\n",
       "</div>"
      ],
      "text/plain": [
       "    confidence_level_x  confidence_level_y\n",
       "0             0.672865            0.000000\n",
       "1             0.399114            0.000000\n",
       "2             0.392096            0.000000\n",
       "3             0.213996            0.000000\n",
       "4             0.000000            0.386193\n",
       "5             0.000000            0.364116\n",
       "6             0.000000            0.349168\n",
       "7             0.000000            0.287005\n",
       "8             0.000000            0.237957\n",
       "9             0.000000            0.235799\n",
       "10            0.000000            0.229953\n",
       "11            0.000000            0.227938\n",
       "12            0.000000            0.225750\n",
       "13            0.000000            0.217893"
      ]
     },
     "execution_count": 26,
     "metadata": {},
     "output_type": "execute_result"
    }
   ],
   "source": [
    "res = pd.merge(d1,d2, on='entity_id', how='outer').drop(['entity_id','document_id_x','document_id_y'], axis=1).fillna(0)\n",
    "res"
   ]
  },
  {
   "cell_type": "code",
   "execution_count": null,
   "metadata": {
    "collapsed": true
   },
   "outputs": [],
   "source": []
  },
  {
   "cell_type": "code",
   "execution_count": null,
   "metadata": {
    "collapsed": true
   },
   "outputs": [],
   "source": []
  },
  {
   "cell_type": "code",
   "execution_count": null,
   "metadata": {
    "collapsed": true
   },
   "outputs": [],
   "source": []
  },
  {
   "cell_type": "code",
   "execution_count": 74,
   "metadata": {
    "collapsed": false
   },
   "outputs": [
    {
     "name": "stdout",
     "output_type": "stream",
     "text": [
      "1791420 1326009\n"
     ]
    }
   ],
   "source": [
    "print docs_ent['document_id'].nunique(), docs_ent['entity_id'].nunique()"
   ]
  },
  {
   "cell_type": "code",
   "execution_count": 75,
   "metadata": {
    "collapsed": false
   },
   "outputs": [
    {
     "data": {
      "text/plain": [
       "<matplotlib.axes._subplots.AxesSubplot at 0x1725a208>"
      ]
     },
     "execution_count": 75,
     "metadata": {},
     "output_type": "execute_result"
    },
    {
     "data": {
      "image/png": "[encoded data removed]",
      "text/plain": [
       "<matplotlib.figure.Figure at 0x1342c748>"
      ]
     },
     "metadata": {},
     "output_type": "display_data"
    }
   ],
   "source": [
    "docsPerEntity = pd.DataFrame({'docsPerEntity': docs_ent.groupby('entity_id')['confidence_level'].sum() }).reset_index()\n",
    "docsPerEntity['docsPerEntity'].hist(bins = 100, log=True)"
   ]
  },
  {
   "cell_type": "code",
   "execution_count": 76,
   "metadata": {
    "collapsed": false
   },
   "outputs": [
    {
     "data": {
      "text/html": [
       "<div>\n",
       "<table border=\"1\" class=\"dataframe\">\n",
       "  <thead>\n",
       "    <tr style=\"text-align: right;\">\n",
       "      <th></th>\n",
       "      <th>document_id</th>\n",
       "      <th>entity_id</th>\n",
       "      <th>confidence_level</th>\n",
       "      <th>docsPerEntity</th>\n",
       "      <th>entity_rate</th>\n",
       "    </tr>\n",
       "  </thead>\n",
       "  <tbody>\n",
       "    <tr>\n",
       "      <th>0</th>\n",
       "      <td>1524246</td>\n",
       "      <td>f9eec25663db4cd83183f5c805186f16</td>\n",
       "      <td>0.672865</td>\n",
       "      <td>0.933757</td>\n",
       "      <td>0.628293</td>\n",
       "    </tr>\n",
       "    <tr>\n",
       "      <th>1</th>\n",
       "      <td>2911488</td>\n",
       "      <td>f9eec25663db4cd83183f5c805186f16</td>\n",
       "      <td>0.260892</td>\n",
       "      <td>0.933757</td>\n",
       "      <td>0.243610</td>\n",
       "    </tr>\n",
       "    <tr>\n",
       "      <th>2</th>\n",
       "      <td>1524246</td>\n",
       "      <td>55ebcfbdaff1d6f60b3907151f38527a</td>\n",
       "      <td>0.399114</td>\n",
       "      <td>1216.977680</td>\n",
       "      <td>485.712499</td>\n",
       "    </tr>\n",
       "    <tr>\n",
       "      <th>3</th>\n",
       "      <td>1543666</td>\n",
       "      <td>55ebcfbdaff1d6f60b3907151f38527a</td>\n",
       "      <td>0.309165</td>\n",
       "      <td>1216.977680</td>\n",
       "      <td>376.246576</td>\n",
       "    </tr>\n",
       "    <tr>\n",
       "      <th>4</th>\n",
       "      <td>1594007</td>\n",
       "      <td>55ebcfbdaff1d6f60b3907151f38527a</td>\n",
       "      <td>0.492292</td>\n",
       "      <td>1216.977680</td>\n",
       "      <td>599.108847</td>\n",
       "    </tr>\n",
       "  </tbody>\n",
       "</table>\n",
       "</div>"
      ],
      "text/plain": [
       "   document_id                         entity_id  confidence_level  \\\n",
       "0      1524246  f9eec25663db4cd83183f5c805186f16          0.672865   \n",
       "1      2911488  f9eec25663db4cd83183f5c805186f16          0.260892   \n",
       "2      1524246  55ebcfbdaff1d6f60b3907151f38527a          0.399114   \n",
       "3      1543666  55ebcfbdaff1d6f60b3907151f38527a          0.309165   \n",
       "4      1594007  55ebcfbdaff1d6f60b3907151f38527a          0.492292   \n",
       "\n",
       "   docsPerEntity  entity_rate  \n",
       "0       0.933757     0.628293  \n",
       "1       0.933757     0.243610  \n",
       "2    1216.977680   485.712499  \n",
       "3    1216.977680   376.246576  \n",
       "4    1216.977680   599.108847  "
      ]
     },
     "execution_count": 76,
     "metadata": {},
     "output_type": "execute_result"
    }
   ],
   "source": [
    "docs_ent = pd.merge(docs_ent, docsPerEntity, on = ['entity_id'])\n",
    "docs_ent['entity_rate'] = docs_ent['docsPerEntity'] * docs_ent['confidence_level']\n",
    "docs_ent.head()"
   ]
  },
  {
   "cell_type": "code",
   "execution_count": 78,
   "metadata": {
    "collapsed": false
   },
   "outputs": [
    {
     "data": {
      "text/plain": [
       "<matplotlib.axes._subplots.AxesSubplot at 0x78883940>"
      ]
     },
     "execution_count": 78,
     "metadata": {},
     "output_type": "execute_result"
    },
    {
     "data": {
      "image/png": "[encoded data removed]",
      "text/plain": [
       "<matplotlib.figure.Figure at 0x138b9828>"
      ]
     },
     "metadata": {},
     "output_type": "display_data"
    }
   ],
   "source": [
    "docs_ent = pd.DataFrame({'entities_rate' : docs_ent.groupby('document_id')['entity_rate'].sum()}).reset_index()\n",
    "docs_ent['entities_rate'].hist(bins=100, log = True)"
   ]
  },
  {
   "cell_type": "code",
   "execution_count": 79,
   "metadata": {
    "collapsed": false
   },
   "outputs": [
    {
     "data": {
      "text/plain": [
       "document_id      1791420\n",
       "entities_rate    1791420\n",
       "dtype: int64"
      ]
     },
     "execution_count": 79,
     "metadata": {},
     "output_type": "execute_result"
    }
   ],
   "source": [
    "docs_ent.count()"
   ]
  },
  {
   "cell_type": "code",
   "execution_count": 80,
   "metadata": {
    "collapsed": false
   },
   "outputs": [
    {
     "data": {
      "text/html": [
       "<div>\n",
       "<table border=\"1\" class=\"dataframe\">\n",
       "  <thead>\n",
       "    <tr style=\"text-align: right;\">\n",
       "      <th></th>\n",
       "      <th>document_id</th>\n",
       "      <th>entities_rate</th>\n",
       "    </tr>\n",
       "  </thead>\n",
       "  <tbody>\n",
       "    <tr>\n",
       "      <th>0</th>\n",
       "      <td>1</td>\n",
       "      <td>220.573757</td>\n",
       "    </tr>\n",
       "    <tr>\n",
       "      <th>1</th>\n",
       "      <td>2</td>\n",
       "      <td>527.769048</td>\n",
       "    </tr>\n",
       "    <tr>\n",
       "      <th>2</th>\n",
       "      <td>3</td>\n",
       "      <td>1651.091764</td>\n",
       "    </tr>\n",
       "    <tr>\n",
       "      <th>3</th>\n",
       "      <td>4</td>\n",
       "      <td>2.889939</td>\n",
       "    </tr>\n",
       "    <tr>\n",
       "      <th>4</th>\n",
       "      <td>5</td>\n",
       "      <td>25.697055</td>\n",
       "    </tr>\n",
       "  </tbody>\n",
       "</table>\n",
       "</div>"
      ],
      "text/plain": [
       "   document_id  entities_rate\n",
       "0            1     220.573757\n",
       "1            2     527.769048\n",
       "2            3    1651.091764\n",
       "3            4       2.889939\n",
       "4            5      25.697055"
      ]
     },
     "execution_count": 80,
     "metadata": {},
     "output_type": "execute_result"
    }
   ],
   "source": [
    "docs_ent.head()"
   ]
  },
  {
   "cell_type": "markdown",
   "metadata": {},
   "source": [
    "### Doc Categories, category ratings"
   ]
  },
  {
   "cell_type": "code",
   "execution_count": 81,
   "metadata": {
    "collapsed": false
   },
   "outputs": [
    {
     "data": {
      "text/html": [
       "<div>\n",
       "<table border=\"1\" class=\"dataframe\">\n",
       "  <thead>\n",
       "    <tr style=\"text-align: right;\">\n",
       "      <th></th>\n",
       "      <th>document_id</th>\n",
       "      <th>category_id</th>\n",
       "      <th>confidence_level</th>\n",
       "    </tr>\n",
       "  </thead>\n",
       "  <tbody>\n",
       "    <tr>\n",
       "      <th>0</th>\n",
       "      <td>1595802</td>\n",
       "      <td>1611</td>\n",
       "      <td>0.92</td>\n",
       "    </tr>\n",
       "    <tr>\n",
       "      <th>1</th>\n",
       "      <td>1595802</td>\n",
       "      <td>1610</td>\n",
       "      <td>0.07</td>\n",
       "    </tr>\n",
       "    <tr>\n",
       "      <th>2</th>\n",
       "      <td>1524246</td>\n",
       "      <td>1807</td>\n",
       "      <td>0.92</td>\n",
       "    </tr>\n",
       "    <tr>\n",
       "      <th>3</th>\n",
       "      <td>1524246</td>\n",
       "      <td>1608</td>\n",
       "      <td>0.07</td>\n",
       "    </tr>\n",
       "    <tr>\n",
       "      <th>4</th>\n",
       "      <td>1617787</td>\n",
       "      <td>1807</td>\n",
       "      <td>0.92</td>\n",
       "    </tr>\n",
       "  </tbody>\n",
       "</table>\n",
       "</div>"
      ],
      "text/plain": [
       "   document_id  category_id  confidence_level\n",
       "0      1595802         1611              0.92\n",
       "1      1595802         1610              0.07\n",
       "2      1524246         1807              0.92\n",
       "3      1524246         1608              0.07\n",
       "4      1617787         1807              0.92"
      ]
     },
     "execution_count": 81,
     "metadata": {},
     "output_type": "execute_result"
    }
   ],
   "source": [
    "docs_cat = pd.read_csv(\"../download/documents_categories.csv\")\n",
    "docs_cat.head()"
   ]
  },
  {
   "cell_type": "code",
   "execution_count": 82,
   "metadata": {
    "collapsed": false
   },
   "outputs": [
    {
     "data": {
      "text/plain": [
       "document_id         5481475\n",
       "category_id         5481475\n",
       "confidence_level    5481475\n",
       "dtype: int64"
      ]
     },
     "execution_count": 82,
     "metadata": {},
     "output_type": "execute_result"
    }
   ],
   "source": [
    "docs_cat.count()"
   ]
  },
  {
   "cell_type": "code",
   "execution_count": 83,
   "metadata": {
    "collapsed": false
   },
   "outputs": [
    {
     "name": "stdout",
     "output_type": "stream",
     "text": [
      "2828649 97\n"
     ]
    }
   ],
   "source": [
    "print docs_cat['document_id'].nunique(), docs_cat['category_id'].nunique()"
   ]
  },
  {
   "cell_type": "code",
   "execution_count": 84,
   "metadata": {
    "collapsed": false
   },
   "outputs": [
    {
     "data": {
      "text/plain": [
       "<matplotlib.axes._subplots.AxesSubplot at 0x78729c88>"
      ]
     },
     "execution_count": 84,
     "metadata": {},
     "output_type": "execute_result"
    },
    {
     "data": {
      "image/png": "[encoded data removed]",
      "text/plain": [
       "<matplotlib.figure.Figure at 0x78d74b38>"
      ]
     },
     "metadata": {},
     "output_type": "display_data"
    }
   ],
   "source": [
    "docsPerCategory = pd.DataFrame({'docsPerCategory': docs_cat.groupby('category_id')['confidence_level'].sum() }).reset_index()\n",
    "docsPerCategory['docsPerCategory'].hist(bins = 100, log=True)"
   ]
  },
  {
   "cell_type": "code",
   "execution_count": 85,
   "metadata": {
    "collapsed": false
   },
   "outputs": [
    {
     "data": {
      "text/html": [
       "<div>\n",
       "<table border=\"1\" class=\"dataframe\">\n",
       "  <thead>\n",
       "    <tr style=\"text-align: right;\">\n",
       "      <th></th>\n",
       "      <th>document_id</th>\n",
       "      <th>category_id</th>\n",
       "      <th>confidence_level</th>\n",
       "      <th>docsPerCategory</th>\n",
       "      <th>category_rate</th>\n",
       "    </tr>\n",
       "  </thead>\n",
       "  <tbody>\n",
       "    <tr>\n",
       "      <th>0</th>\n",
       "      <td>1595802</td>\n",
       "      <td>1611</td>\n",
       "      <td>0.920000</td>\n",
       "      <td>21498.672176</td>\n",
       "      <td>19778.778402</td>\n",
       "    </tr>\n",
       "    <tr>\n",
       "      <th>1</th>\n",
       "      <td>1690964</td>\n",
       "      <td>1611</td>\n",
       "      <td>0.070000</td>\n",
       "      <td>21498.672176</td>\n",
       "      <td>1504.907052</td>\n",
       "    </tr>\n",
       "    <tr>\n",
       "      <th>2</th>\n",
       "      <td>1031288</td>\n",
       "      <td>1611</td>\n",
       "      <td>0.920000</td>\n",
       "      <td>21498.672176</td>\n",
       "      <td>19778.778402</td>\n",
       "    </tr>\n",
       "    <tr>\n",
       "      <th>3</th>\n",
       "      <td>54898</td>\n",
       "      <td>1611</td>\n",
       "      <td>0.920000</td>\n",
       "      <td>21498.672176</td>\n",
       "      <td>19778.778402</td>\n",
       "    </tr>\n",
       "    <tr>\n",
       "      <th>4</th>\n",
       "      <td>58679</td>\n",
       "      <td>1611</td>\n",
       "      <td>0.642974</td>\n",
       "      <td>21498.672176</td>\n",
       "      <td>13823.091544</td>\n",
       "    </tr>\n",
       "  </tbody>\n",
       "</table>\n",
       "</div>"
      ],
      "text/plain": [
       "   document_id  category_id  confidence_level  docsPerCategory  category_rate\n",
       "0      1595802         1611          0.920000     21498.672176   19778.778402\n",
       "1      1690964         1611          0.070000     21498.672176    1504.907052\n",
       "2      1031288         1611          0.920000     21498.672176   19778.778402\n",
       "3        54898         1611          0.920000     21498.672176   19778.778402\n",
       "4        58679         1611          0.642974     21498.672176   13823.091544"
      ]
     },
     "execution_count": 85,
     "metadata": {},
     "output_type": "execute_result"
    }
   ],
   "source": [
    "docs_cat = pd.merge(docs_cat, docsPerCategory, on = ['category_id'])\n",
    "docs_cat['category_rate'] = docs_cat['docsPerCategory'] * docs_cat['confidence_level']\n",
    "docs_cat.head()"
   ]
  },
  {
   "cell_type": "code",
   "execution_count": 86,
   "metadata": {
    "collapsed": false
   },
   "outputs": [
    {
     "data": {
      "text/plain": [
       "<matplotlib.axes._subplots.AxesSubplot at 0x78c3d6a0>"
      ]
     },
     "execution_count": 86,
     "metadata": {},
     "output_type": "execute_result"
    },
    {
     "data": {
      "image/png": "[encoded data removed]",
      "text/plain": [
       "<matplotlib.figure.Figure at 0x790d9978>"
      ]
     },
     "metadata": {},
     "output_type": "display_data"
    }
   ],
   "source": [
    "docs_cat = pd.DataFrame({'categories_rate' : docs_cat.groupby('document_id')['category_rate'].sum()}).reset_index()\n",
    "docs_cat['categories_rate'].hist(bins=100, log = True)"
   ]
  },
  {
   "cell_type": "code",
   "execution_count": 87,
   "metadata": {
    "collapsed": false
   },
   "outputs": [
    {
     "data": {
      "text/plain": [
       "document_id        2828649\n",
       "categories_rate    2828649\n",
       "dtype: int64"
      ]
     },
     "execution_count": 87,
     "metadata": {},
     "output_type": "execute_result"
    }
   ],
   "source": [
    "docs_cat.count()"
   ]
  },
  {
   "cell_type": "code",
   "execution_count": 88,
   "metadata": {
    "collapsed": false
   },
   "outputs": [
    {
     "data": {
      "text/html": [
       "<div>\n",
       "<table border=\"1\" class=\"dataframe\">\n",
       "  <thead>\n",
       "    <tr style=\"text-align: right;\">\n",
       "      <th></th>\n",
       "      <th>document_id</th>\n",
       "      <th>categories_rate</th>\n",
       "    </tr>\n",
       "  </thead>\n",
       "  <tbody>\n",
       "    <tr>\n",
       "      <th>0</th>\n",
       "      <td>1</td>\n",
       "      <td>20406.795957</td>\n",
       "    </tr>\n",
       "    <tr>\n",
       "      <th>1</th>\n",
       "      <td>2</td>\n",
       "      <td>35917.645011</td>\n",
       "    </tr>\n",
       "    <tr>\n",
       "      <th>2</th>\n",
       "      <td>3</td>\n",
       "      <td>19165.475665</td>\n",
       "    </tr>\n",
       "    <tr>\n",
       "      <th>3</th>\n",
       "      <td>4</td>\n",
       "      <td>20452.868821</td>\n",
       "    </tr>\n",
       "    <tr>\n",
       "      <th>4</th>\n",
       "      <td>5</td>\n",
       "      <td>10034.410651</td>\n",
       "    </tr>\n",
       "  </tbody>\n",
       "</table>\n",
       "</div>"
      ],
      "text/plain": [
       "   document_id  categories_rate\n",
       "0            1     20406.795957\n",
       "1            2     35917.645011\n",
       "2            3     19165.475665\n",
       "3            4     20452.868821\n",
       "4            5     10034.410651"
      ]
     },
     "execution_count": 88,
     "metadata": {},
     "output_type": "execute_result"
    }
   ],
   "source": [
    "docs_cat.head()"
   ]
  },
  {
   "cell_type": "markdown",
   "metadata": {},
   "source": [
    "### Documents Content - putting all together"
   ]
  },
  {
   "cell_type": "code",
   "execution_count": 89,
   "metadata": {
    "collapsed": false
   },
   "outputs": [
    {
     "name": "stdout",
     "output_type": "stream",
     "text": [
      "2999334 2495423 2828649\n"
     ]
    }
   ],
   "source": [
    "print len(docs_meta), len(docs_topics), len(docs_cat)"
   ]
  },
  {
   "cell_type": "code",
   "execution_count": 90,
   "metadata": {
    "collapsed": false
   },
   "outputs": [
    {
     "data": {
      "text/plain": [
       "document_id       2999334\n",
       "published         2999334\n",
       "source_rate       2999334\n",
       "publisher_rate    2999334\n",
       "topics_rate       2495423\n",
       "dtype: int64"
      ]
     },
     "execution_count": 90,
     "metadata": {},
     "output_type": "execute_result"
    }
   ],
   "source": [
    "docs_content = pd.merge(docs_meta, docs_topics, how='outer', on='document_id')\n",
    "docs_content.count()"
   ]
  },
  {
   "cell_type": "code",
   "execution_count": 91,
   "metadata": {
    "collapsed": false
   },
   "outputs": [
    {
     "data": {
      "text/plain": [
       "document_id        2999334\n",
       "published          2999334\n",
       "source_rate        2999334\n",
       "publisher_rate     2999334\n",
       "topics_rate        2495423\n",
       "categories_rate    2828649\n",
       "dtype: int64"
      ]
     },
     "execution_count": 91,
     "metadata": {},
     "output_type": "execute_result"
    }
   ],
   "source": [
    "docs_content = pd.merge(docs_content, docs_cat, how='outer', on='document_id')\n",
    "docs_content.count()"
   ]
  },
  {
   "cell_type": "code",
   "execution_count": 96,
   "metadata": {
    "collapsed": false
   },
   "outputs": [],
   "source": [
    "topics_rate_mean = docs_content['topics_rate'].mean()\n",
    "index = docs_content['topics_rate'].isnull()\n",
    "docs_content.loc[index, 'topics_rate'] = topics_rate_mean"
   ]
  },
  {
   "cell_type": "code",
   "execution_count": 99,
   "metadata": {
    "collapsed": false
   },
   "outputs": [],
   "source": [
    "categories_rate_mean = docs_content['categories_rate'].mean()\n",
    "index = docs_content['categories_rate'].isnull()\n",
    "docs_content.loc[index, 'categories_rate'] = categories_rate_mean"
   ]
  },
  {
   "cell_type": "code",
   "execution_count": 100,
   "metadata": {
    "collapsed": false
   },
   "outputs": [
    {
     "data": {
      "text/plain": [
       "document_id        2999334\n",
       "published          2999334\n",
       "source_rate        2999334\n",
       "publisher_rate     2999334\n",
       "topics_rate        2999334\n",
       "categories_rate    2999334\n",
       "dtype: int64"
      ]
     },
     "execution_count": 100,
     "metadata": {},
     "output_type": "execute_result"
    }
   ],
   "source": [
    "docs_content.count()"
   ]
  },
  {
   "cell_type": "code",
   "execution_count": 102,
   "metadata": {
    "collapsed": false
   },
   "outputs": [
    {
     "data": {
      "text/html": [
       "<div>\n",
       "<table border=\"1\" class=\"dataframe\">\n",
       "  <thead>\n",
       "    <tr style=\"text-align: right;\">\n",
       "      <th></th>\n",
       "      <th>document_id</th>\n",
       "      <th>published</th>\n",
       "      <th>source_rate</th>\n",
       "      <th>publisher_rate</th>\n",
       "      <th>topics_rate</th>\n",
       "      <th>categories_rate</th>\n",
       "    </tr>\n",
       "  </thead>\n",
       "  <tbody>\n",
       "    <tr>\n",
       "      <th>count</th>\n",
       "      <td>2.999334e+06</td>\n",
       "      <td>2.999334e+06</td>\n",
       "      <td>2.999334e+06</td>\n",
       "      <td>2.999334e+06</td>\n",
       "      <td>2.999334e+06</td>\n",
       "      <td>2.999334e+06</td>\n",
       "    </tr>\n",
       "    <tr>\n",
       "      <th>mean</th>\n",
       "      <td>1.499668e+06</td>\n",
       "      <td>-1.343613e+09</td>\n",
       "      <td>3.760667e+04</td>\n",
       "      <td>5.605640e+04</td>\n",
       "      <td>1.153110e+03</td>\n",
       "      <td>6.323934e+04</td>\n",
       "    </tr>\n",
       "    <tr>\n",
       "      <th>std</th>\n",
       "      <td>8.658333e+05</td>\n",
       "      <td>1.213270e+09</td>\n",
       "      <td>7.855905e+04</td>\n",
       "      <td>7.824157e+04</td>\n",
       "      <td>1.133796e+03</td>\n",
       "      <td>5.417319e+04</td>\n",
       "    </tr>\n",
       "    <tr>\n",
       "      <th>min</th>\n",
       "      <td>1.000000e+00</td>\n",
       "      <td>-2.147484e+09</td>\n",
       "      <td>1.000000e+00</td>\n",
       "      <td>1.000000e+00</td>\n",
       "      <td>5.613869e-01</td>\n",
       "      <td>1.000000e+00</td>\n",
       "    </tr>\n",
       "    <tr>\n",
       "      <th>25%</th>\n",
       "      <td>7.498342e+05</td>\n",
       "      <td>-2.147484e+09</td>\n",
       "      <td>7.230000e+02</td>\n",
       "      <td>5.528000e+03</td>\n",
       "      <td>3.429482e+02</td>\n",
       "      <td>1.842055e+04</td>\n",
       "    </tr>\n",
       "    <tr>\n",
       "      <th>50%</th>\n",
       "      <td>1.499668e+06</td>\n",
       "      <td>-2.147484e+09</td>\n",
       "      <td>2.621000e+03</td>\n",
       "      <td>1.852500e+04</td>\n",
       "      <td>1.122601e+03</td>\n",
       "      <td>4.815615e+04</td>\n",
       "    </tr>\n",
       "    <tr>\n",
       "      <th>75%</th>\n",
       "      <td>2.249501e+06</td>\n",
       "      <td>-1.440000e+07</td>\n",
       "      <td>1.286700e+04</td>\n",
       "      <td>6.806500e+04</td>\n",
       "      <td>1.392363e+03</td>\n",
       "      <td>9.254834e+04</td>\n",
       "    </tr>\n",
       "    <tr>\n",
       "      <th>max</th>\n",
       "      <td>2.999334e+06</td>\n",
       "      <td>1.278000e+09</td>\n",
       "      <td>2.354630e+05</td>\n",
       "      <td>2.394950e+05</td>\n",
       "      <td>1.690061e+04</td>\n",
       "      <td>2.495278e+05</td>\n",
       "    </tr>\n",
       "  </tbody>\n",
       "</table>\n",
       "</div>"
      ],
      "text/plain": [
       "        document_id     published   source_rate  publisher_rate   topics_rate  \\\n",
       "count  2.999334e+06  2.999334e+06  2.999334e+06    2.999334e+06  2.999334e+06   \n",
       "mean   1.499668e+06 -1.343613e+09  3.760667e+04    5.605640e+04  1.153110e+03   \n",
       "std    8.658333e+05  1.213270e+09  7.855905e+04    7.824157e+04  1.133796e+03   \n",
       "min    1.000000e+00 -2.147484e+09  1.000000e+00    1.000000e+00  5.613869e-01   \n",
       "25%    7.498342e+05 -2.147484e+09  7.230000e+02    5.528000e+03  3.429482e+02   \n",
       "50%    1.499668e+06 -2.147484e+09  2.621000e+03    1.852500e+04  1.122601e+03   \n",
       "75%    2.249501e+06 -1.440000e+07  1.286700e+04    6.806500e+04  1.392363e+03   \n",
       "max    2.999334e+06  1.278000e+09  2.354630e+05    2.394950e+05  1.690061e+04   \n",
       "\n",
       "       categories_rate  \n",
       "count     2.999334e+06  \n",
       "mean      6.323934e+04  \n",
       "std       5.417319e+04  \n",
       "min       1.000000e+00  \n",
       "25%       1.842055e+04  \n",
       "50%       4.815615e+04  \n",
       "75%       9.254834e+04  \n",
       "max       2.495278e+05  "
      ]
     },
     "execution_count": 102,
     "metadata": {},
     "output_type": "execute_result"
    }
   ],
   "source": [
    "docs_content.describe()"
   ]
  },
  {
   "cell_type": "code",
   "execution_count": 101,
   "metadata": {
    "collapsed": false
   },
   "outputs": [
    {
     "data": {
      "text/html": [
       "<div>\n",
       "<table border=\"1\" class=\"dataframe\">\n",
       "  <thead>\n",
       "    <tr style=\"text-align: right;\">\n",
       "      <th></th>\n",
       "      <th>document_id</th>\n",
       "      <th>published</th>\n",
       "      <th>source_rate</th>\n",
       "      <th>publisher_rate</th>\n",
       "      <th>topics_rate</th>\n",
       "      <th>categories_rate</th>\n",
       "    </tr>\n",
       "  </thead>\n",
       "  <tbody>\n",
       "    <tr>\n",
       "      <th>0</th>\n",
       "      <td>1595802</td>\n",
       "      <td>-791999998</td>\n",
       "      <td>12867</td>\n",
       "      <td>13109</td>\n",
       "      <td>2480.972288</td>\n",
       "      <td>20805.522666</td>\n",
       "    </tr>\n",
       "    <tr>\n",
       "      <th>1</th>\n",
       "      <td>1524246</td>\n",
       "      <td>-1616399998</td>\n",
       "      <td>12867</td>\n",
       "      <td>13109</td>\n",
       "      <td>1470.516397</td>\n",
       "      <td>15822.734932</td>\n",
       "    </tr>\n",
       "    <tr>\n",
       "      <th>2</th>\n",
       "      <td>1617787</td>\n",
       "      <td>-1569599998</td>\n",
       "      <td>12867</td>\n",
       "      <td>13109</td>\n",
       "      <td>1612.316551</td>\n",
       "      <td>15822.734932</td>\n",
       "    </tr>\n",
       "    <tr>\n",
       "      <th>3</th>\n",
       "      <td>1615583</td>\n",
       "      <td>-619199998</td>\n",
       "      <td>12867</td>\n",
       "      <td>13109</td>\n",
       "      <td>1107.636052</td>\n",
       "      <td>3194.531922</td>\n",
       "    </tr>\n",
       "    <tr>\n",
       "      <th>4</th>\n",
       "      <td>1615460</td>\n",
       "      <td>504000002</td>\n",
       "      <td>12867</td>\n",
       "      <td>13109</td>\n",
       "      <td>625.365403</td>\n",
       "      <td>9414.412133</td>\n",
       "    </tr>\n",
       "  </tbody>\n",
       "</table>\n",
       "</div>"
      ],
      "text/plain": [
       "   document_id   published  source_rate  publisher_rate  topics_rate  \\\n",
       "0      1595802  -791999998        12867           13109  2480.972288   \n",
       "1      1524246 -1616399998        12867           13109  1470.516397   \n",
       "2      1617787 -1569599998        12867           13109  1612.316551   \n",
       "3      1615583  -619199998        12867           13109  1107.636052   \n",
       "4      1615460   504000002        12867           13109   625.365403   \n",
       "\n",
       "   categories_rate  \n",
       "0     20805.522666  \n",
       "1     15822.734932  \n",
       "2     15822.734932  \n",
       "3      3194.531922  \n",
       "4      9414.412133  "
      ]
     },
     "execution_count": 101,
     "metadata": {},
     "output_type": "execute_result"
    }
   ],
   "source": [
    "docs_content.head()"
   ]
  },
  {
   "cell_type": "code",
   "execution_count": 104,
   "metadata": {
    "collapsed": true
   },
   "outputs": [],
   "source": [
    "docs_content.to_csv(\"../generated/documents_content_all.csv\", index=False) "
   ]
  },
  {
   "cell_type": "markdown",
   "metadata": {},
   "source": [
    "### Filtering document_id only for Events and Ads in Clicks\n",
    "Q: Can meta, cat, topics, entities be usefull both for Events and Ads docs?  -  Yes (mostly) - see below"
   ]
  },
  {
   "cell_type": "code",
   "execution_count": 3,
   "metadata": {
    "collapsed": false
   },
   "outputs": [
    {
     "data": {
      "text/plain": [
       "document_id        2999334\n",
       "published          2999334\n",
       "source_rate        2999334\n",
       "publisher_rate     2999334\n",
       "topics_rate        2999334\n",
       "categories_rate    2999334\n",
       "dtype: int64"
      ]
     },
     "execution_count": 3,
     "metadata": {},
     "output_type": "execute_result"
    }
   ],
   "source": [
    "docs_content = pd.read_csv(\"../generated/documents_content_all.csv\")\n",
    "docs_content.count()"
   ]
  },
  {
   "cell_type": "markdown",
   "metadata": {},
   "source": [
    "##### Display pages document_ids (as used in Events)"
   ]
  },
  {
   "cell_type": "code",
   "execution_count": 4,
   "metadata": {
    "collapsed": false
   },
   "outputs": [
    {
     "data": {
      "text/plain": [
       "document_id    894060\n",
       "dtype: int64"
      ]
     },
     "execution_count": 4,
     "metadata": {},
     "output_type": "execute_result"
    }
   ],
   "source": [
    "events_docs = pd.DataFrame(pd.read_csv(\"../download/events.csv\", usecols=['document_id'])['document_id'].unique(), columns=['document_id'])\n",
    "events_docs.count()"
   ]
  },
  {
   "cell_type": "markdown",
   "metadata": {},
   "source": [
    "##### Advertised document_ids (as used in Clicks)"
   ]
  },
  {
   "cell_type": "code",
   "execution_count": 6,
   "metadata": {
    "collapsed": false
   },
   "outputs": [
    {
     "data": {
      "text/plain": [
       "ad_id          559583\n",
       "document_id    559583\n",
       "dtype: int64"
      ]
     },
     "execution_count": 6,
     "metadata": {},
     "output_type": "execute_result"
    }
   ],
   "source": [
    "ads = pd.read_csv(\"../download/promoted_content.csv\", usecols=['ad_id', 'document_id'])\n",
    "ads.count()"
   ]
  },
  {
   "cell_type": "code",
   "execution_count": 14,
   "metadata": {
    "collapsed": false
   },
   "outputs": [
    {
     "data": {
      "text/html": [
       "<div>\n",
       "<table border=\"1\" class=\"dataframe\">\n",
       "  <thead>\n",
       "    <tr style=\"text-align: right;\">\n",
       "      <th></th>\n",
       "      <th>ad_id</th>\n",
       "      <th>document_id</th>\n",
       "    </tr>\n",
       "  </thead>\n",
       "  <tbody>\n",
       "    <tr>\n",
       "      <th>0</th>\n",
       "      <td>1</td>\n",
       "      <td>6614</td>\n",
       "    </tr>\n",
       "    <tr>\n",
       "      <th>1</th>\n",
       "      <td>2</td>\n",
       "      <td>471467</td>\n",
       "    </tr>\n",
       "    <tr>\n",
       "      <th>2</th>\n",
       "      <td>3</td>\n",
       "      <td>7692</td>\n",
       "    </tr>\n",
       "    <tr>\n",
       "      <th>3</th>\n",
       "      <td>4</td>\n",
       "      <td>471471</td>\n",
       "    </tr>\n",
       "    <tr>\n",
       "      <th>4</th>\n",
       "      <td>5</td>\n",
       "      <td>471472</td>\n",
       "    </tr>\n",
       "  </tbody>\n",
       "</table>\n",
       "</div>"
      ],
      "text/plain": [
       "   ad_id  document_id\n",
       "0      1         6614\n",
       "1      2       471467\n",
       "2      3         7692\n",
       "3      4       471471\n",
       "4      5       471472"
      ]
     },
     "execution_count": 14,
     "metadata": {},
     "output_type": "execute_result"
    }
   ],
   "source": [
    "ads.head()"
   ]
  },
  {
   "cell_type": "code",
   "execution_count": 11,
   "metadata": {
    "collapsed": false
   },
   "outputs": [
    {
     "data": {
      "text/plain": [
       "ad_id    544300\n",
       "dtype: int64"
      ]
     },
     "execution_count": 11,
     "metadata": {},
     "output_type": "execute_result"
    }
   ],
   "source": [
    "clicks_train = pd.read_csv(\"../download/clicks_train.csv\", usecols = ['ad_id'])\n",
    "clicks_ad_id = pd.DataFrame({'ad_id':clicks_train['ad_id'].unique()})\n",
    "clicks_test = pd.read_csv(\"../download/clicks_test.csv\", usecols = ['ad_id'])\n",
    "clicks_ad_id = clicks_ad_id.append(pd.DataFrame({'ad_id':clicks_test['ad_id'].unique()}))\n",
    "clicks_ad_id = pd.DataFrame({'ad_id':clicks_ad_id['ad_id'].unique()})\n",
    "clicks_ad_id.count()"
   ]
  },
  {
   "cell_type": "code",
   "execution_count": 13,
   "metadata": {
    "collapsed": false
   },
   "outputs": [
    {
     "data": {
      "text/html": [
       "<div>\n",
       "<table border=\"1\" class=\"dataframe\">\n",
       "  <thead>\n",
       "    <tr style=\"text-align: right;\">\n",
       "      <th></th>\n",
       "      <th>ad_id</th>\n",
       "    </tr>\n",
       "  </thead>\n",
       "  <tbody>\n",
       "    <tr>\n",
       "      <th>0</th>\n",
       "      <td>42337</td>\n",
       "    </tr>\n",
       "    <tr>\n",
       "      <th>1</th>\n",
       "      <td>139684</td>\n",
       "    </tr>\n",
       "    <tr>\n",
       "      <th>2</th>\n",
       "      <td>144739</td>\n",
       "    </tr>\n",
       "    <tr>\n",
       "      <th>3</th>\n",
       "      <td>156824</td>\n",
       "    </tr>\n",
       "    <tr>\n",
       "      <th>4</th>\n",
       "      <td>279295</td>\n",
       "    </tr>\n",
       "  </tbody>\n",
       "</table>\n",
       "</div>"
      ],
      "text/plain": [
       "    ad_id\n",
       "0   42337\n",
       "1  139684\n",
       "2  144739\n",
       "3  156824\n",
       "4  279295"
      ]
     },
     "execution_count": 13,
     "metadata": {},
     "output_type": "execute_result"
    }
   ],
   "source": [
    "clicks_ad_id.head()"
   ]
  },
  {
   "cell_type": "code",
   "execution_count": 15,
   "metadata": {
    "collapsed": false
   },
   "outputs": [
    {
     "data": {
      "text/plain": [
       "ad_id          544300\n",
       "document_id    544300\n",
       "dtype: int64"
      ]
     },
     "execution_count": 15,
     "metadata": {},
     "output_type": "execute_result"
    }
   ],
   "source": [
    "clicks_ads_docs = pd.merge(clicks_ad_id, ads, how='left', on='ad_id')\n",
    "clicks_ads_docs.count()"
   ]
  },
  {
   "cell_type": "code",
   "execution_count": 16,
   "metadata": {
    "collapsed": false
   },
   "outputs": [
    {
     "data": {
      "text/plain": [
       "document_id    184479\n",
       "dtype: int64"
      ]
     },
     "execution_count": 16,
     "metadata": {},
     "output_type": "execute_result"
    }
   ],
   "source": [
    "clicks_ads_docs = pd.DataFrame({'document_id':clicks_ads_docs['document_id'].unique()})\n",
    "clicks_ads_docs.count()"
   ]
  },
  {
   "cell_type": "markdown",
   "metadata": {},
   "source": [
    "##### All used document_ids"
   ]
  },
  {
   "cell_type": "code",
   "execution_count": 17,
   "metadata": {
    "collapsed": false
   },
   "outputs": [
    {
     "data": {
      "text/plain": [
       "document_id    1068018\n",
       "dtype: int64"
      ]
     },
     "execution_count": 17,
     "metadata": {},
     "output_type": "execute_result"
    }
   ],
   "source": [
    "used_docs = pd.DataFrame({'document_id':events_docs.append(clicks_ads_docs)['document_id'].unique()})\n",
    "used_docs.count()"
   ]
  },
  {
   "cell_type": "code",
   "execution_count": 18,
   "metadata": {
    "collapsed": false
   },
   "outputs": [
    {
     "data": {
      "text/plain": [
       "document_id        1068018\n",
       "published          1068018\n",
       "source_rate        1068018\n",
       "publisher_rate     1068018\n",
       "topics_rate        1068018\n",
       "categories_rate    1068018\n",
       "dtype: int64"
      ]
     },
     "execution_count": 18,
     "metadata": {},
     "output_type": "execute_result"
    }
   ],
   "source": [
    "docs_content = used_docs.merge(docs_content, how = 'left', on='document_id')\n",
    "docs_content.count()"
   ]
  },
  {
   "cell_type": "code",
   "execution_count": 19,
   "metadata": {
    "collapsed": true
   },
   "outputs": [],
   "source": [
    "docs_content.to_csv(\"../generated/documents_content.csv\", index=False) "
   ]
  },
  {
   "cell_type": "code",
   "execution_count": null,
   "metadata": {
    "collapsed": true
   },
   "outputs": [],
   "source": []
  }
 ],
 "metadata": {
  "anaconda-cloud": {},
  "kernelspec": {
   "display_name": "Python [Root]",
   "language": "python",
   "name": "Python [Root]"
  },
  "language_info": {
   "codemirror_mode": {
    "name": "ipython",
    "version": 2
   },
   "file_extension": ".py",
   "mimetype": "text/x-python",
   "name": "python",
   "nbconvert_exporter": "python",
   "pygments_lexer": "ipython2",
   "version": "2.7.11"
  }
 },
 "nbformat": 4,
 "nbformat_minor": 0
}
