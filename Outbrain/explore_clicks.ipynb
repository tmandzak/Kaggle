{
 "cells": [
  {
   "cell_type": "code",
   "execution_count": 1,
   "metadata": {
    "collapsed": false
   },
   "outputs": [
    {
     "name": "stdout",
     "output_type": "stream",
     "text": [
      "Populating the interactive namespace from numpy and matplotlib\n"
     ]
    }
   ],
   "source": [
    "%pylab inline\n",
    "import pandas as pd\n",
    "import seaborn as sb"
   ]
  },
  {
   "cell_type": "markdown",
   "metadata": {},
   "source": [
    "#### Extend clicks_train and clicks_test with document_id and day"
   ]
  },
  {
   "cell_type": "code",
   "execution_count": 2,
   "metadata": {
    "collapsed": false
   },
   "outputs": [
    {
     "data": {
      "text/html": [
       "<div>\n",
       "<table border=\"1\" class=\"dataframe\">\n",
       "  <thead>\n",
       "    <tr style=\"text-align: right;\">\n",
       "      <th></th>\n",
       "      <th>display_id</th>\n",
       "      <th>document_id</th>\n",
       "      <th>day</th>\n",
       "    </tr>\n",
       "  </thead>\n",
       "  <tbody>\n",
       "    <tr>\n",
       "      <th>0</th>\n",
       "      <td>1</td>\n",
       "      <td>379743</td>\n",
       "      <td>14</td>\n",
       "    </tr>\n",
       "    <tr>\n",
       "      <th>1</th>\n",
       "      <td>2</td>\n",
       "      <td>1794259</td>\n",
       "      <td>14</td>\n",
       "    </tr>\n",
       "    <tr>\n",
       "      <th>2</th>\n",
       "      <td>3</td>\n",
       "      <td>1179111</td>\n",
       "      <td>14</td>\n",
       "    </tr>\n",
       "    <tr>\n",
       "      <th>3</th>\n",
       "      <td>4</td>\n",
       "      <td>1777797</td>\n",
       "      <td>14</td>\n",
       "    </tr>\n",
       "    <tr>\n",
       "      <th>4</th>\n",
       "      <td>5</td>\n",
       "      <td>252458</td>\n",
       "      <td>14</td>\n",
       "    </tr>\n",
       "  </tbody>\n",
       "</table>\n",
       "</div>"
      ],
      "text/plain": [
       "   display_id  document_id  day\n",
       "0           1       379743   14\n",
       "1           2      1794259   14\n",
       "2           3      1179111   14\n",
       "3           4      1777797   14\n",
       "4           5       252458   14"
      ]
     },
     "execution_count": 2,
     "metadata": {},
     "output_type": "execute_result"
    }
   ],
   "source": [
    "events = pd.read_csv(\"../generated/events.csv\", usecols=['display_id', 'document_id', 'day'])\n",
    "events.head()"
   ]
  },
  {
   "cell_type": "code",
   "execution_count": 3,
   "metadata": {
    "collapsed": false
   },
   "outputs": [
    {
     "data": {
      "text/plain": [
       "display_id    87141731\n",
       "ad_id         87141731\n",
       "clicked       87141731\n",
       "dtype: int64"
      ]
     },
     "execution_count": 3,
     "metadata": {},
     "output_type": "execute_result"
    }
   ],
   "source": [
    "clicks_train = pd.read_csv(\"../download/clicks_train.csv\")\n",
    "clicks_train.count()"
   ]
  },
  {
   "cell_type": "code",
   "execution_count": 4,
   "metadata": {
    "collapsed": false
   },
   "outputs": [
    {
     "data": {
      "text/plain": [
       "display_id     87141731\n",
       "document_id    87141731\n",
       "day            87141731\n",
       "ad_id          87141731\n",
       "clicked        87141731\n",
       "dtype: int64"
      ]
     },
     "execution_count": 4,
     "metadata": {},
     "output_type": "execute_result"
    }
   ],
   "source": [
    "clicks_train = pd.merge(events, clicks_train, on=['display_id'])\n",
    "clicks_train.to_csv(\"../temp/clicks_train.csv\", index=False)\n",
    "clicks_train.count()"
   ]
  },
  {
   "cell_type": "code",
   "execution_count": 5,
   "metadata": {
    "collapsed": false
   },
   "outputs": [
    {
     "data": {
      "text/plain": [
       "display_id    32225162\n",
       "ad_id         32225162\n",
       "dtype: int64"
      ]
     },
     "execution_count": 5,
     "metadata": {},
     "output_type": "execute_result"
    }
   ],
   "source": [
    "clicks_test = pd.read_csv(\"../download/clicks_test.csv\", usecols = ['display_id', 'ad_id'])\n",
    "clicks_test.count()"
   ]
  },
  {
   "cell_type": "code",
   "execution_count": 6,
   "metadata": {
    "collapsed": false
   },
   "outputs": [
    {
     "data": {
      "text/plain": [
       "display_id     32225162\n",
       "document_id    32225162\n",
       "day            32225162\n",
       "ad_id          32225162\n",
       "dtype: int64"
      ]
     },
     "execution_count": 6,
     "metadata": {},
     "output_type": "execute_result"
    }
   ],
   "source": [
    "clicks_test = pd.merge(events, clicks_test, on=['display_id'])\n",
    "clicks_test.to_csv(\"../temp/clicks_test.csv\", index=False)\n",
    "clicks_test.count()"
   ]
  },
  {
   "cell_type": "code",
   "execution_count": 7,
   "metadata": {
    "collapsed": true
   },
   "outputs": [],
   "source": [
    "del events"
   ]
  },
  {
   "cell_type": "markdown",
   "metadata": {},
   "source": [
    "#### Are there common display_ids in train and tests data? - No"
   ]
  },
  {
   "cell_type": "code",
   "execution_count": null,
   "metadata": {
    "collapsed": false
   },
   "outputs": [],
   "source": [
    "print len(pd.merge(clicks_train, clicks_test, on=['display_id']))"
   ]
  },
  {
   "cell_type": "markdown",
   "metadata": {},
   "source": [
    "#### Are there ad_ids not common for train and test data? - Yes: only 316035 / 381385 test = 316035 / 478950 train"
   ]
  },
  {
   "cell_type": "code",
   "execution_count": null,
   "metadata": {
    "collapsed": false
   },
   "outputs": [],
   "source": [
    "clicks_train_ad_id_unique = pd.DataFrame({'ad_id':clicks_train['ad_id'].unique()})\n",
    "clicks_train_ad_id_unique.count()"
   ]
  },
  {
   "cell_type": "code",
   "execution_count": null,
   "metadata": {
    "collapsed": false
   },
   "outputs": [],
   "source": [
    "clicks_test_ad_id_unique = pd.DataFrame({'ad_id':clicks_test['ad_id'].unique()})\n",
    "clicks_test_ad_id_unique.count()"
   ]
  },
  {
   "cell_type": "code",
   "execution_count": null,
   "metadata": {
    "collapsed": false
   },
   "outputs": [],
   "source": [
    "print len(pd.merge(clicks_train_ad_id_unique, clicks_test_ad_id_unique, on=['ad_id']))"
   ]
  },
  {
   "cell_type": "code",
   "execution_count": null,
   "metadata": {
    "collapsed": true
   },
   "outputs": [],
   "source": [
    "del clicks_train_ad_id_unique\n",
    "del clicks_test_ad_id_unique"
   ]
  },
  {
   "cell_type": "markdown",
   "metadata": {},
   "source": [
    "#### Do Clicks and Events hold disply_ids only for clicked ad sets? -Yes, and only one ad could be clicked"
   ]
  },
  {
   "cell_type": "code",
   "execution_count": null,
   "metadata": {
    "collapsed": false
   },
   "outputs": [],
   "source": [
    "clicksPerDisplay = pd.DataFrame({'clicks' : clicks_train.groupby('display_id')['clicked'].sum()}).reset_index()\n",
    "clicksPerDisplay.count()  "
   ]
  },
  {
   "cell_type": "code",
   "execution_count": null,
   "metadata": {
    "collapsed": false
   },
   "outputs": [],
   "source": [
    "len(clicksPerDisplay[clicksPerDisplay['clicks']<>1])   # 0 => Events also holds only clicked display_id"
   ]
  },
  {
   "cell_type": "code",
   "execution_count": null,
   "metadata": {
    "collapsed": false
   },
   "outputs": [],
   "source": [
    "del clicksPerDisplay"
   ]
  },
  {
   "cell_type": "markdown",
   "metadata": {},
   "source": [
    "#### How much ads are shown on a page? : 2 - 12"
   ]
  },
  {
   "cell_type": "code",
   "execution_count": 8,
   "metadata": {
    "collapsed": false
   },
   "outputs": [
    {
     "data": {
      "text/plain": [
       "count    2.312013e+07\n",
       "mean     5.162900e+00\n",
       "std      1.841843e+00\n",
       "min      2.000000e+00\n",
       "25%      4.000000e+00\n",
       "50%      5.000000e+00\n",
       "75%      6.000000e+00\n",
       "max      1.200000e+01\n",
       "Name: adsPerDisplay, dtype: float64"
      ]
     },
     "execution_count": 8,
     "metadata": {},
     "output_type": "execute_result"
    }
   ],
   "source": [
    "adsPerDisplay = pd.concat([  #train ant test have no common display_id\n",
    "            pd.DataFrame({'adsPerDisplay' : clicks_train.groupby(['display_id'])['ad_id'].size()}).reset_index(),\n",
    "            pd.DataFrame({'adsPerDisplay' : clicks_test.groupby(['display_id'])['ad_id'].size()}).reset_index() ])\n",
    "\n",
    "adsPerDisplay['adsPerDisplay'].describe()  #each display shows from 2 up to 12 ads as expected"
   ]
  },
  {
   "cell_type": "code",
   "execution_count": null,
   "metadata": {
    "collapsed": false
   },
   "outputs": [],
   "source": [
    "adsPerDisplay.to_csv(\"../generated/adsPerDisplay.csv\", index=False)"
   ]
  },
  {
   "cell_type": "code",
   "execution_count": 9,
   "metadata": {
    "collapsed": true
   },
   "outputs": [],
   "source": [
    "del adsPerDisplay"
   ]
  },
  {
   "cell_type": "markdown",
   "metadata": {},
   "source": [
    "#### Are there never clicked ads? - Yes: those that never clicked in train clicks and are not in test clicks - 121,573 out of total 544,300"
   ]
  },
  {
   "cell_type": "code",
   "execution_count": 10,
   "metadata": {
    "collapsed": false
   },
   "outputs": [],
   "source": [
    "# %load \"features/clicksPerAd.py\"\n",
    "def clicksPerAd(clicks):\n",
    "    return pd.DataFrame({'clicks': clicks.groupby(['ad_id'])['clicked'].sum(),\n",
    "                         'shows': clicks.groupby(['ad_id'])['clicked'].size(),\n",
    "                         'clicksPerShows': clicks.groupby(['ad_id'])['clicked'].mean()\n",
    "                        }).reset_index()\n",
    "\n",
    "def clicksPerAdDay(clicks):\n",
    "    return pd.DataFrame({'clicksPerShows': clicks.groupby(['ad_id', 'day'])['clicked'].mean()\n",
    "                        }).reset_index()"
   ]
  },
  {
   "cell_type": "code",
   "execution_count": 11,
   "metadata": {
    "collapsed": false
   },
   "outputs": [
    {
     "data": {
      "text/html": [
       "<div>\n",
       "<table border=\"1\" class=\"dataframe\">\n",
       "  <thead>\n",
       "    <tr style=\"text-align: right;\">\n",
       "      <th></th>\n",
       "      <th>ad_id</th>\n",
       "      <th>clicks</th>\n",
       "      <th>clicksPerShows</th>\n",
       "      <th>shows</th>\n",
       "    </tr>\n",
       "  </thead>\n",
       "  <tbody>\n",
       "    <tr>\n",
       "      <th>count</th>\n",
       "      <td>478950.000000</td>\n",
       "      <td>478950.000000</td>\n",
       "      <td>478950.000000</td>\n",
       "      <td>478950.000000</td>\n",
       "    </tr>\n",
       "    <tr>\n",
       "      <th>mean</th>\n",
       "      <td>267338.532068</td>\n",
       "      <td>35.232473</td>\n",
       "      <td>0.143224</td>\n",
       "      <td>181.943274</td>\n",
       "    </tr>\n",
       "    <tr>\n",
       "      <th>std</th>\n",
       "      <td>153950.278267</td>\n",
       "      <td>422.647600</td>\n",
       "      <td>0.217684</td>\n",
       "      <td>1910.689568</td>\n",
       "    </tr>\n",
       "    <tr>\n",
       "      <th>min</th>\n",
       "      <td>1.000000</td>\n",
       "      <td>0.000000</td>\n",
       "      <td>0.000000</td>\n",
       "      <td>1.000000</td>\n",
       "    </tr>\n",
       "    <tr>\n",
       "      <th>25%</th>\n",
       "      <td>133000.250000</td>\n",
       "      <td>0.000000</td>\n",
       "      <td>0.000000</td>\n",
       "      <td>2.000000</td>\n",
       "    </tr>\n",
       "    <tr>\n",
       "      <th>50%</th>\n",
       "      <td>268955.500000</td>\n",
       "      <td>1.000000</td>\n",
       "      <td>0.051724</td>\n",
       "      <td>5.000000</td>\n",
       "    </tr>\n",
       "    <tr>\n",
       "      <th>75%</th>\n",
       "      <td>398996.500000</td>\n",
       "      <td>3.000000</td>\n",
       "      <td>0.205882</td>\n",
       "      <td>19.000000</td>\n",
       "    </tr>\n",
       "    <tr>\n",
       "      <th>max</th>\n",
       "      <td>548019.000000</td>\n",
       "      <td>44824.000000</td>\n",
       "      <td>1.000000</td>\n",
       "      <td>211824.000000</td>\n",
       "    </tr>\n",
       "  </tbody>\n",
       "</table>\n",
       "</div>"
      ],
      "text/plain": [
       "               ad_id         clicks  clicksPerShows          shows\n",
       "count  478950.000000  478950.000000   478950.000000  478950.000000\n",
       "mean   267338.532068      35.232473        0.143224     181.943274\n",
       "std    153950.278267     422.647600        0.217684    1910.689568\n",
       "min         1.000000       0.000000        0.000000       1.000000\n",
       "25%    133000.250000       0.000000        0.000000       2.000000\n",
       "50%    268955.500000       1.000000        0.051724       5.000000\n",
       "75%    398996.500000       3.000000        0.205882      19.000000\n",
       "max    548019.000000   44824.000000        1.000000  211824.000000"
      ]
     },
     "execution_count": 11,
     "metadata": {},
     "output_type": "execute_result"
    }
   ],
   "source": [
    "clicksPerAd_train = clicksPerAd(clicks_train)\n",
    "clicksPerAd_train.describe()   "
   ]
  },
  {
   "cell_type": "code",
   "execution_count": 24,
   "metadata": {
    "collapsed": false
   },
   "outputs": [
    {
     "data": {
      "text/plain": [
       "42667"
      ]
     },
     "execution_count": 24,
     "metadata": {},
     "output_type": "execute_result"
    }
   ],
   "source": [
    "len(clicksPerAd_train[clicksPerAd_train['shows']>100])"
   ]
  },
  {
   "cell_type": "code",
   "execution_count": 19,
   "metadata": {
    "collapsed": false
   },
   "outputs": [
    {
     "data": {
      "text/plain": [
       "<matplotlib.axes._subplots.AxesSubplot at 0xae64908>"
      ]
     },
     "execution_count": 19,
     "metadata": {},
     "output_type": "execute_result"
    },
    {
     "data": {
      "image/png": "[encoded data removed]",
      "text/plain": [
       "<matplotlib.figure.Figure at 0x118f5208>"
      ]
     },
     "metadata": {},
     "output_type": "display_data"
    }
   ],
   "source": [
    "clicksPerAd_train[clicksPerAd_train['shows']<10].shows.hist(bins=100, log = True)"
   ]
  },
  {
   "cell_type": "code",
   "execution_count": 12,
   "metadata": {
    "collapsed": false
   },
   "outputs": [
    {
     "data": {
      "text/html": [
       "<div>\n",
       "<table border=\"1\" class=\"dataframe\">\n",
       "  <thead>\n",
       "    <tr style=\"text-align: right;\">\n",
       "      <th></th>\n",
       "      <th>ad_id</th>\n",
       "      <th>shows_test</th>\n",
       "    </tr>\n",
       "  </thead>\n",
       "  <tbody>\n",
       "    <tr>\n",
       "      <th>count</th>\n",
       "      <td>381385.000000</td>\n",
       "      <td>381385.000000</td>\n",
       "    </tr>\n",
       "    <tr>\n",
       "      <th>mean</th>\n",
       "      <td>283535.058185</td>\n",
       "      <td>84.495096</td>\n",
       "    </tr>\n",
       "    <tr>\n",
       "      <th>std</th>\n",
       "      <td>168286.978632</td>\n",
       "      <td>789.903815</td>\n",
       "    </tr>\n",
       "    <tr>\n",
       "      <th>min</th>\n",
       "      <td>1.000000</td>\n",
       "      <td>1.000000</td>\n",
       "    </tr>\n",
       "    <tr>\n",
       "      <th>25%</th>\n",
       "      <td>128828.000000</td>\n",
       "      <td>1.000000</td>\n",
       "    </tr>\n",
       "    <tr>\n",
       "      <th>50%</th>\n",
       "      <td>289121.000000</td>\n",
       "      <td>3.000000</td>\n",
       "    </tr>\n",
       "    <tr>\n",
       "      <th>75%</th>\n",
       "      <td>432420.000000</td>\n",
       "      <td>9.000000</td>\n",
       "    </tr>\n",
       "    <tr>\n",
       "      <th>max</th>\n",
       "      <td>567073.000000</td>\n",
       "      <td>85392.000000</td>\n",
       "    </tr>\n",
       "  </tbody>\n",
       "</table>\n",
       "</div>"
      ],
      "text/plain": [
       "               ad_id     shows_test\n",
       "count  381385.000000  381385.000000\n",
       "mean   283535.058185      84.495096\n",
       "std    168286.978632     789.903815\n",
       "min         1.000000       1.000000\n",
       "25%    128828.000000       1.000000\n",
       "50%    289121.000000       3.000000\n",
       "75%    432420.000000       9.000000\n",
       "max    567073.000000   85392.000000"
      ]
     },
     "execution_count": 12,
     "metadata": {},
     "output_type": "execute_result"
    }
   ],
   "source": [
    "uniqueAds_test = pd.DataFrame({'shows_test': clicks_test.groupby(['ad_id'])['ad_id'].size()}).reset_index()\n",
    "uniqueAds_test.describe() "
   ]
  },
  {
   "cell_type": "code",
   "execution_count": 13,
   "metadata": {
    "collapsed": false
   },
   "outputs": [
    {
     "name": "stdout",
     "output_type": "stream",
     "text": [
      "316035\n"
     ]
    }
   ],
   "source": [
    "print len(pd.merge(clicksPerAd_train, uniqueAds_test, on=['ad_id']))"
   ]
  },
  {
   "cell_type": "code",
   "execution_count": null,
   "metadata": {
    "collapsed": false
   },
   "outputs": [],
   "source": [
    "uniqueAds_never_clicked = pd.merge(clicksPerAd_train[clicksPerAd_train['clicks']==0], uniqueAds_test, how='left', on=['ad_id'])\n",
    "uniqueAds_never_clicked = uniqueAds_never_clicked[uniqueAds_never_clicked['shows_test'].isnull()]\n",
    "uniqueAds_never_clicked = uniqueAds_never_clicked.rename(columns={'clicks': 'clicked'})\n",
    "uniqueAds_never_clicked.count()"
   ]
  },
  {
   "cell_type": "code",
   "execution_count": null,
   "metadata": {
    "collapsed": false
   },
   "outputs": [],
   "source": [
    "uniqueAds_never_clicked['shows'].hist(bins = 100, log = True)"
   ]
  },
  {
   "cell_type": "code",
   "execution_count": null,
   "metadata": {
    "collapsed": false
   },
   "outputs": [],
   "source": [
    "print len((clicksPerAd_train['ad_id'].append(uniqueAds_test['ad_id'])).unique())"
   ]
  },
  {
   "cell_type": "code",
   "execution_count": null,
   "metadata": {
    "collapsed": true
   },
   "outputs": [],
   "source": [
    "uniqueAds_never_clicked.drop(['clicksPerShows', 'shows', 'shows_test'], axis=1).to_csv(\"../generated/uniqueAds_never_clicked.csv\", index=False)\n",
    "clicksPerAd_train.to_csv(\"../generated/clicks_shows_PerAd.csv\", index=False)\n",
    "\n",
    "del uniqueAds_never_clicked\n",
    "del uniqueAds_test\n",
    "del clicksPerAd_train"
   ]
  },
  {
   "cell_type": "markdown",
   "metadata": {},
   "source": [
    "#### Clicks and shows per Ad and Day"
   ]
  },
  {
   "cell_type": "code",
   "execution_count": null,
   "metadata": {
    "collapsed": true
   },
   "outputs": [],
   "source": [
    "clicks_train = pd.read_csv(\"../temp/clicks_train.csv\")"
   ]
  },
  {
   "cell_type": "code",
   "execution_count": 6,
   "metadata": {
    "collapsed": false
   },
   "outputs": [
    {
     "data": {
      "text/plain": [
       "ad_id             1633198\n",
       "day               1633198\n",
       "clicksPerShows    1633198\n",
       "dtype: int64"
      ]
     },
     "execution_count": 6,
     "metadata": {},
     "output_type": "execute_result"
    }
   ],
   "source": [
    "clicksPerAdDay_train = clicksPerAdDay(clicks_train)\n",
    "clicksPerAdDay_train.count() "
   ]
  },
  {
   "cell_type": "code",
   "execution_count": 8,
   "metadata": {
    "collapsed": true
   },
   "outputs": [],
   "source": [
    "clicksPerAdDay_train.to_csv(\"../generated/clicks_shows_PerAdDay.csv\", index=False)"
   ]
  },
  {
   "cell_type": "markdown",
   "metadata": {},
   "source": [
    "#### Clicks and shows per document_id"
   ]
  },
  {
   "cell_type": "code",
   "execution_count": null,
   "metadata": {
    "collapsed": false
   },
   "outputs": [],
   "source": [
    "clicksPerDoc_train = pd.DataFrame({'clicks': clicks_train.groupby(['document_id'])['clicked'].sum(),\n",
    "                                  'shows': clicks_train.groupby(['document_id'])['clicked'].size(),\n",
    "                                  'clicksPerShows': clicks_train.groupby(['document_id'])['clicked'].mean()\n",
    "                                 }).reset_index()\n",
    "\n",
    "clicksPerDoc_train.to_csv(\"../generated/clicks_shows_PerDoc.csv\", index=False)\n",
    "\n",
    "clicksPerDoc_train.describe() "
   ]
  },
  {
   "cell_type": "code",
   "execution_count": null,
   "metadata": {
    "collapsed": true
   },
   "outputs": [],
   "source": [
    "del clicksPerDoc_train"
   ]
  },
  {
   "cell_type": "code",
   "execution_count": null,
   "metadata": {
    "collapsed": false
   },
   "outputs": [],
   "source": [
    "clicks_all = clicks_train.append(clicks_test)"
   ]
  },
  {
   "cell_type": "code",
   "execution_count": null,
   "metadata": {
    "collapsed": true
   },
   "outputs": [],
   "source": [
    "del clicks_test"
   ]
  },
  {
   "cell_type": "code",
   "execution_count": null,
   "metadata": {
    "collapsed": true
   },
   "outputs": [],
   "source": [
    "showsPerDoc_all = pd.DataFrame({ 'shows': clicks_all.groupby(['document_id']).size() }).reset_index()\n",
    "showsPerDoc_all.describe() "
   ]
  },
  {
   "cell_type": "code",
   "execution_count": null,
   "metadata": {
    "collapsed": true
   },
   "outputs": [],
   "source": [
    "showsPerDoc_all.to_csv(\"../generated/shows_PerDoc.csv\", index=False)"
   ]
  },
  {
   "cell_type": "markdown",
   "metadata": {},
   "source": [
    "#### Sum, mean and number of ad clicks by document_id, ad_id"
   ]
  },
  {
   "cell_type": "code",
   "execution_count": null,
   "metadata": {
    "collapsed": false
   },
   "outputs": [],
   "source": [
    "clicksPerDocAd_train = pd.DataFrame({'clicks': clicks_train.groupby(['document_id', 'ad_id'])['clicked'].sum(),\n",
    "                                     'shows': clicks_train.groupby(['document_id', 'ad_id'])['clicked'].size(),\n",
    "                                     'clicksPerShows': clicks_train.groupby(['document_id', 'ad_id'])['clicked'].mean()                                  \n",
    "                                    }).reset_index()\n",
    "clicksPerDocAd_train.describe()   "
   ]
  },
  {
   "cell_type": "code",
   "execution_count": null,
   "metadata": {
    "collapsed": false
   },
   "outputs": [],
   "source": [
    "showsPerAd_all = pd.DataFrame({ 'shows': clicks_all.groupby(['ad_id']).size()}).reset_index()\n",
    "showsPerAd_all.describe()"
   ]
  },
  {
   "cell_type": "code",
   "execution_count": null,
   "metadata": {
    "collapsed": false
   },
   "outputs": [],
   "source": [
    "showsPerDocAd_all = pd.DataFrame({ 'shows': clicks_all.groupby(['document_id', 'ad_id']).size()}).reset_index()\n",
    "showsPerDocAd_all.describe() "
   ]
  },
  {
   "cell_type": "code",
   "execution_count": null,
   "metadata": {
    "collapsed": false
   },
   "outputs": [],
   "source": [
    "clicksPerDocAd_train[(clicksPerDocAd_train['clicksPerShows']>0)].describe()"
   ]
  },
  {
   "cell_type": "code",
   "execution_count": null,
   "metadata": {
    "collapsed": false
   },
   "outputs": [],
   "source": [
    "clicksPerDocAd_train[(clicksPerDocAd_train['clicksPerShows']>0)&(clicksPerDocAd_train['shows']>1)]['shows'].hist(bins=100, log=True)"
   ]
  },
  {
   "cell_type": "code",
   "execution_count": null,
   "metadata": {
    "collapsed": false
   },
   "outputs": [],
   "source": [
    "showsPerDocAd_all[showsPerDocAd_all['shows']>1].describe()"
   ]
  },
  {
   "cell_type": "code",
   "execution_count": null,
   "metadata": {
    "collapsed": false
   },
   "outputs": [],
   "source": [
    "showsPerDocAd_all[showsPerDocAd_all['shows']>1]['shows'].hist(bins=100, log=True)"
   ]
  },
  {
   "cell_type": "code",
   "execution_count": null,
   "metadata": {
    "collapsed": true
   },
   "outputs": [],
   "source": [
    "clicksPerDocAd_train.to_csv(\"../generated/clicks_shows_PerDocAd_train.csv\", index=False)\n",
    "del clicksPerDocAd_train"
   ]
  },
  {
   "cell_type": "code",
   "execution_count": null,
   "metadata": {
    "collapsed": true
   },
   "outputs": [],
   "source": [
    "showsPerAd_all.to_csv(\"../generated/shows_PerAd_all.csv\", index=False)\n",
    "del showsPerAd_all"
   ]
  },
  {
   "cell_type": "code",
   "execution_count": null,
   "metadata": {
    "collapsed": true
   },
   "outputs": [],
   "source": [
    "showsPerDocAd_all.to_csv(\"../generated/shows_PerDocAd_all.csv\", index=False)\n",
    "del showsPerDocAd_all"
   ]
  },
  {
   "cell_type": "code",
   "execution_count": null,
   "metadata": {
    "collapsed": false
   },
   "outputs": [],
   "source": [
    "del clicks_train\n",
    "del clicks_all"
   ]
  },
  {
   "cell_type": "code",
   "execution_count": null,
   "metadata": {
    "collapsed": true
   },
   "outputs": [],
   "source": []
  },
  {
   "cell_type": "code",
   "execution_count": null,
   "metadata": {
    "collapsed": true
   },
   "outputs": [],
   "source": []
  }
 ],
 "metadata": {
  "anaconda-cloud": {},
  "kernelspec": {
   "display_name": "Python [Root]",
   "language": "python",
   "name": "Python [Root]"
  },
  "language_info": {
   "codemirror_mode": {
    "name": "ipython",
    "version": 2
   },
   "file_extension": ".py",
   "mimetype": "text/x-python",
   "name": "python",
   "nbconvert_exporter": "python",
   "pygments_lexer": "ipython2",
   "version": "2.7.11"
  }
 },
 "nbformat": 4,
 "nbformat_minor": 1
}
