{
 "cells": [
  {
   "cell_type": "code",
   "execution_count": 1,
   "metadata": {
    "collapsed": false
   },
   "outputs": [],
   "source": [
    "import pandas as pd\n",
    "import numpy as np\n",
    "from sklearn import linear_model\n",
    "from sklearn import preprocessing"
   ]
  },
  {
   "cell_type": "markdown",
   "metadata": {},
   "source": [
    "## Model"
   ]
  },
  {
   "cell_type": "code",
   "execution_count": 2,
   "metadata": {
    "collapsed": true
   },
   "outputs": [],
   "source": [
    "def join(series):\n",
    "    #return ' '.join( str(list(series)).strip('[]').split(', ') )\n",
    "    return ' '.join( map(str, series) )"
   ]
  },
  {
   "cell_type": "code",
   "execution_count": 3,
   "metadata": {
    "collapsed": true
   },
   "outputs": [],
   "source": [
    "%run 'metrics.ipynb'\n",
    "def model_evaluation(actual, prediction):\n",
    "    return mapk(actual['ad_id'], prediction['ad_id'], k=12)"
   ]
  },
  {
   "cell_type": "code",
   "execution_count": 8,
   "metadata": {
    "collapsed": false
   },
   "outputs": [
    {
     "data": {
      "text/html": [
       "<div>\n",
       "<table border=\"1\" class=\"dataframe\">\n",
       "  <thead>\n",
       "    <tr style=\"text-align: right;\">\n",
       "      <th></th>\n",
       "      <th>display_id</th>\n",
       "      <th>document_id</th>\n",
       "      <th>timestamp</th>\n",
       "      <th>traffic_source</th>\n",
       "      <th>platform</th>\n",
       "      <th>day</th>\n",
       "      <th>hour</th>\n",
       "      <th>geo</th>\n",
       "      <th>ad_id</th>\n",
       "      <th>clicked</th>\n",
       "      <th>adsPerDisplay</th>\n",
       "      <th>clicksPerShows</th>\n",
       "      <th>addoc_id</th>\n",
       "      <th>dist</th>\n",
       "    </tr>\n",
       "  </thead>\n",
       "  <tbody>\n",
       "    <tr>\n",
       "      <th>0</th>\n",
       "      <td>8</td>\n",
       "      <td>1330329</td>\n",
       "      <td>638</td>\n",
       "      <td>1.0</td>\n",
       "      <td>2.0</td>\n",
       "      <td>1</td>\n",
       "      <td>7</td>\n",
       "      <td>2765</td>\n",
       "      <td>95724</td>\n",
       "      <td>0</td>\n",
       "      <td>4</td>\n",
       "      <td>0.034785</td>\n",
       "      <td>1136820</td>\n",
       "      <td>0.020897</td>\n",
       "    </tr>\n",
       "    <tr>\n",
       "      <th>1</th>\n",
       "      <td>8</td>\n",
       "      <td>1330329</td>\n",
       "      <td>638</td>\n",
       "      <td>1.0</td>\n",
       "      <td>2.0</td>\n",
       "      <td>1</td>\n",
       "      <td>7</td>\n",
       "      <td>2765</td>\n",
       "      <td>175694</td>\n",
       "      <td>0</td>\n",
       "      <td>4</td>\n",
       "      <td>0.202327</td>\n",
       "      <td>1392479</td>\n",
       "      <td>0.021849</td>\n",
       "    </tr>\n",
       "    <tr>\n",
       "      <th>2</th>\n",
       "      <td>8</td>\n",
       "      <td>1330329</td>\n",
       "      <td>638</td>\n",
       "      <td>1.0</td>\n",
       "      <td>2.0</td>\n",
       "      <td>1</td>\n",
       "      <td>7</td>\n",
       "      <td>2765</td>\n",
       "      <td>280430</td>\n",
       "      <td>1</td>\n",
       "      <td>4</td>\n",
       "      <td>0.256853</td>\n",
       "      <td>1601512</td>\n",
       "      <td>0.018556</td>\n",
       "    </tr>\n",
       "    <tr>\n",
       "      <th>3</th>\n",
       "      <td>8</td>\n",
       "      <td>1330329</td>\n",
       "      <td>638</td>\n",
       "      <td>1.0</td>\n",
       "      <td>2.0</td>\n",
       "      <td>1</td>\n",
       "      <td>7</td>\n",
       "      <td>2765</td>\n",
       "      <td>329774</td>\n",
       "      <td>0</td>\n",
       "      <td>4</td>\n",
       "      <td>0.052426</td>\n",
       "      <td>1652347</td>\n",
       "      <td>0.025201</td>\n",
       "    </tr>\n",
       "    <tr>\n",
       "      <th>4</th>\n",
       "      <td>2657</td>\n",
       "      <td>1271490</td>\n",
       "      <td>185255</td>\n",
       "      <td>1.0</td>\n",
       "      <td>2.0</td>\n",
       "      <td>1</td>\n",
       "      <td>7</td>\n",
       "      <td>2765</td>\n",
       "      <td>70081</td>\n",
       "      <td>0</td>\n",
       "      <td>4</td>\n",
       "      <td>0.150145</td>\n",
       "      <td>933594</td>\n",
       "      <td>0.013171</td>\n",
       "    </tr>\n",
       "  </tbody>\n",
       "</table>\n",
       "</div>"
      ],
      "text/plain": [
       "   display_id  document_id  timestamp  traffic_source  platform  day  hour  \\\n",
       "0           8      1330329        638             1.0       2.0    1     7   \n",
       "1           8      1330329        638             1.0       2.0    1     7   \n",
       "2           8      1330329        638             1.0       2.0    1     7   \n",
       "3           8      1330329        638             1.0       2.0    1     7   \n",
       "4        2657      1271490     185255             1.0       2.0    1     7   \n",
       "\n",
       "    geo   ad_id  clicked  adsPerDisplay  clicksPerShows  addoc_id      dist  \n",
       "0  2765   95724        0              4        0.034785   1136820  0.020897  \n",
       "1  2765  175694        0              4        0.202327   1392479  0.021849  \n",
       "2  2765  280430        1              4        0.256853   1601512  0.018556  \n",
       "3  2765  329774        0              4        0.052426   1652347  0.025201  \n",
       "4  2765   70081        0              4        0.150145    933594  0.013171  "
      ]
     },
     "execution_count": 8,
     "metadata": {},
     "output_type": "execute_result"
    }
   ],
   "source": [
    "pd.read_csv(\"../generated/final/events_clicks_CTR_addocs_dist_train.csv\", nrows=100).head()"
   ]
  },
  {
   "cell_type": "code",
   "execution_count": 4,
   "metadata": {
    "collapsed": true
   },
   "outputs": [],
   "source": [
    "usecols = ['display_id', 'ad_id', 'clicksPerShows', 'adsPerDisplay', 'platform', 'traffic_source', 'dist', 'clicked']\n",
    "features = ['clicksPerShows', 'clicksPerShowsM', 'p1', 'p2', 'p3', 't1', 't2', 't3', 'adsPerDisplay', 'dist', 'distM']\n",
    "#features = ['clicksPerShows', 'clicksPerShowsM']\n",
    "#features = ['p1', 'p2', 'p3', 't1', 't2', 't3', 'adsPerDisplay']"
   ]
  },
  {
   "cell_type": "code",
   "execution_count": 10,
   "metadata": {
    "collapsed": false
   },
   "outputs": [
    {
     "data": {
      "text/html": [
       "<div>\n",
       "<table border=\"1\" class=\"dataframe\">\n",
       "  <thead>\n",
       "    <tr style=\"text-align: right;\">\n",
       "      <th></th>\n",
       "      <th>index</th>\n",
       "    </tr>\n",
       "  </thead>\n",
       "  <tbody>\n",
       "    <tr>\n",
       "      <th>0</th>\n",
       "      <td>21</td>\n",
       "    </tr>\n",
       "    <tr>\n",
       "      <th>1</th>\n",
       "      <td>22</td>\n",
       "    </tr>\n",
       "    <tr>\n",
       "      <th>2</th>\n",
       "      <td>23</td>\n",
       "    </tr>\n",
       "    <tr>\n",
       "      <th>3</th>\n",
       "      <td>24</td>\n",
       "    </tr>\n",
       "    <tr>\n",
       "      <th>4</th>\n",
       "      <td>25</td>\n",
       "    </tr>\n",
       "  </tbody>\n",
       "</table>\n",
       "</div>"
      ],
      "text/plain": [
       "   index\n",
       "0     21\n",
       "1     22\n",
       "2     23\n",
       "3     24\n",
       "4     25"
      ]
     },
     "execution_count": 10,
     "metadata": {},
     "output_type": "execute_result"
    }
   ],
   "source": [
    "pd.read_csv(\"../generated/final/test_index.csv\", nrows=10).head()"
   ]
  },
  {
   "cell_type": "markdown",
   "metadata": {},
   "source": [
    "## Preparation"
   ]
  },
  {
   "cell_type": "markdown",
   "metadata": {},
   "source": [
    "### Step 1"
   ]
  },
  {
   "cell_type": "code",
   "execution_count": 11,
   "metadata": {
    "collapsed": true
   },
   "outputs": [],
   "source": [
    "train_nrows, test_nrows = None, None       # 650000, 210000"
   ]
  },
  {
   "cell_type": "code",
   "execution_count": 12,
   "metadata": {
    "collapsed": false
   },
   "outputs": [],
   "source": [
    "train_index = pd.read_csv(\"../generated/final/train_index.csv\", nrows=train_nrows)['index'].ravel()\n",
    "test_index = pd.read_csv(\"../generated/final/test_index.csv\", nrows=test_nrows)['index'].ravel()"
   ]
  },
  {
   "cell_type": "code",
   "execution_count": 13,
   "metadata": {
    "collapsed": false
   },
   "outputs": [
    {
     "data": {
      "text/plain": [
       "87141731"
      ]
     },
     "execution_count": 13,
     "metadata": {},
     "output_type": "execute_result"
    }
   ],
   "source": [
    "nrows = max(train_index[-1], test_index[-1])+1\n",
    "nrows"
   ]
  },
  {
   "cell_type": "code",
   "execution_count": 14,
   "metadata": {
    "collapsed": false
   },
   "outputs": [
    {
     "data": {
      "text/plain": [
       "display_id        87141731\n",
       "traffic_source    87141731\n",
       "platform          87141731\n",
       "ad_id             87141731\n",
       "clicked           87141731\n",
       "adsPerDisplay     87141731\n",
       "clicksPerShows    87141731\n",
       "dist              77941525\n",
       "dtype: int64"
      ]
     },
     "execution_count": 14,
     "metadata": {},
     "output_type": "execute_result"
    }
   ],
   "source": [
    "train = pd.read_csv(\"../generated/final/events_clicks_CTR_addocs_dist_train.csv\", usecols = usecols, nrows=nrows)\n",
    "train.count()"
   ]
  },
  {
   "cell_type": "code",
   "execution_count": 15,
   "metadata": {
    "collapsed": true
   },
   "outputs": [],
   "source": [
    "test = train.ix[test_index].copy()\n",
    "train = train.ix[train_index].copy()"
   ]
  },
  {
   "cell_type": "code",
   "execution_count": 16,
   "metadata": {
    "collapsed": false
   },
   "outputs": [
    {
     "data": {
      "text/html": [
       "<div>\n",
       "<table border=\"1\" class=\"dataframe\">\n",
       "  <thead>\n",
       "    <tr style=\"text-align: right;\">\n",
       "      <th></th>\n",
       "      <th>p1</th>\n",
       "      <th>p2</th>\n",
       "      <th>p3</th>\n",
       "      <th>platform</th>\n",
       "    </tr>\n",
       "  </thead>\n",
       "  <tbody>\n",
       "    <tr>\n",
       "      <th>0</th>\n",
       "      <td>1</td>\n",
       "      <td>0</td>\n",
       "      <td>0</td>\n",
       "      <td>1</td>\n",
       "    </tr>\n",
       "    <tr>\n",
       "      <th>1</th>\n",
       "      <td>0</td>\n",
       "      <td>1</td>\n",
       "      <td>0</td>\n",
       "      <td>2</td>\n",
       "    </tr>\n",
       "    <tr>\n",
       "      <th>2</th>\n",
       "      <td>0</td>\n",
       "      <td>0</td>\n",
       "      <td>1</td>\n",
       "      <td>3</td>\n",
       "    </tr>\n",
       "  </tbody>\n",
       "</table>\n",
       "</div>"
      ],
      "text/plain": [
       "   p1  p2  p3  platform\n",
       "0   1   0   0         1\n",
       "1   0   1   0         2\n",
       "2   0   0   1         3"
      ]
     },
     "execution_count": 16,
     "metadata": {},
     "output_type": "execute_result"
    }
   ],
   "source": [
    "platform_oneshot = pd.DataFrame({'platform':[1,2,3], 'p1':[1,0,0], 'p2':[0,1,0], 'p3':[0,0,1]})\n",
    "platform_oneshot.head()"
   ]
  },
  {
   "cell_type": "code",
   "execution_count": 17,
   "metadata": {
    "collapsed": false
   },
   "outputs": [
    {
     "data": {
      "text/html": [
       "<div>\n",
       "<table border=\"1\" class=\"dataframe\">\n",
       "  <thead>\n",
       "    <tr style=\"text-align: right;\">\n",
       "      <th></th>\n",
       "      <th>t1</th>\n",
       "      <th>t2</th>\n",
       "      <th>t3</th>\n",
       "      <th>traffic_source</th>\n",
       "    </tr>\n",
       "  </thead>\n",
       "  <tbody>\n",
       "    <tr>\n",
       "      <th>0</th>\n",
       "      <td>1</td>\n",
       "      <td>0</td>\n",
       "      <td>0</td>\n",
       "      <td>1</td>\n",
       "    </tr>\n",
       "    <tr>\n",
       "      <th>1</th>\n",
       "      <td>0</td>\n",
       "      <td>1</td>\n",
       "      <td>0</td>\n",
       "      <td>2</td>\n",
       "    </tr>\n",
       "    <tr>\n",
       "      <th>2</th>\n",
       "      <td>0</td>\n",
       "      <td>0</td>\n",
       "      <td>1</td>\n",
       "      <td>3</td>\n",
       "    </tr>\n",
       "  </tbody>\n",
       "</table>\n",
       "</div>"
      ],
      "text/plain": [
       "   t1  t2  t3  traffic_source\n",
       "0   1   0   0               1\n",
       "1   0   1   0               2\n",
       "2   0   0   1               3"
      ]
     },
     "execution_count": 17,
     "metadata": {},
     "output_type": "execute_result"
    }
   ],
   "source": [
    "traffic_oneshot = pd.DataFrame({'traffic_source':[1,2,3], 't1':[1,0,0], 't2':[0,1,0], 't3':[0,0,1]})\n",
    "traffic_oneshot.head()"
   ]
  },
  {
   "cell_type": "code",
   "execution_count": 19,
   "metadata": {
    "collapsed": false
   },
   "outputs": [],
   "source": [
    "train = train.merge(platform_oneshot, on='platform').drop('platform', axis=1)\n",
    "test = test.merge(platform_oneshot, on='platform').drop('platform', axis=1)\n",
    "\n",
    "train = train.merge(traffic_oneshot, on='traffic_source').drop('traffic_source', axis=1)\n",
    "test = test.merge(traffic_oneshot, on='traffic_source').drop('traffic_source', axis=1)"
   ]
  },
  {
   "cell_type": "code",
   "execution_count": 21,
   "metadata": {
    "collapsed": true
   },
   "outputs": [],
   "source": [
    "dist_mean = train['dist'].mean()"
   ]
  },
  {
   "cell_type": "code",
   "execution_count": null,
   "metadata": {
    "collapsed": true
   },
   "outputs": [],
   "source": [
    "train = train.fillna({'dist':dist_mean}, inplace=True)\n",
    "test = test.fillna({'dist':dist_mean}, inplace=True)"
   ]
  },
  {
   "cell_type": "code",
   "execution_count": 25,
   "metadata": {
    "collapsed": false
   },
   "outputs": [
    {
     "name": "stdout",
     "output_type": "stream",
     "text": [
      "clicksPerShows\n",
      "dist\n"
     ]
    }
   ],
   "source": [
    "scaler = preprocessing.StandardScaler()\n",
    "excpt = ['clicksPerShowsM', 'distM'] #, 'p1', 'p2', 'p3', 't1', 't2', 't3', 'adsPerDisplay']\n",
    "for f in features:\n",
    "    if not f in excpt:\n",
    "        print f\n",
    "        scaler.fit(train[[f]])\n",
    "        train[f] = scaler.transform(train[[f]]) \n",
    "        test[f] = scaler.transform(test[[f]])"
   ]
  },
  {
   "cell_type": "code",
   "execution_count": 27,
   "metadata": {
    "collapsed": false
   },
   "outputs": [],
   "source": [
    "train.to_csv(\"../generated/solutions/8_val_train.0.csv\", index=False)\n",
    "test.to_csv(\"../generated/solutions/8_val_test.0.csv\", index=False)"
   ]
  },
  {
   "cell_type": "markdown",
   "metadata": {},
   "source": [
    "### Step 2"
   ]
  },
  {
   "cell_type": "code",
   "execution_count": 5,
   "metadata": {
    "collapsed": false
   },
   "outputs": [
    {
     "data": {
      "text/plain": [
       "display_id         65355241\n",
       "ad_id              65355241\n",
       "clicked            65355241\n",
       "adsPerDisplay      65355241\n",
       "clicksPerShows     65355241\n",
       "dist               65355241\n",
       "p1                 65355241\n",
       "p2                 65355241\n",
       "p3                 65355241\n",
       "t1                 65355241\n",
       "t2                 65355241\n",
       "t3                 65355241\n",
       "clicksPerShowsM    65355241\n",
       "distM              65355241\n",
       "dtype: int64"
      ]
     },
     "execution_count": 5,
     "metadata": {},
     "output_type": "execute_result"
    }
   ],
   "source": [
    "train = pd.read_csv(\"../generated/solutions/8_val_train.0.csv\")\n",
    "\n",
    "trainM = pd.DataFrame({'clicksPerShowsM':train.groupby('display_id')['clicksPerShows'].min(),\n",
    "                       'distM':train.groupby('display_id')['dist'].min()\n",
    "                      }).reset_index()\n",
    "\n",
    "train = train.merge(trainM, on='display_id')\n",
    "train.count()"
   ]
  },
  {
   "cell_type": "code",
   "execution_count": 6,
   "metadata": {
    "collapsed": true
   },
   "outputs": [],
   "source": [
    "del trainM"
   ]
  },
  {
   "cell_type": "code",
   "execution_count": 7,
   "metadata": {
    "collapsed": false
   },
   "outputs": [
    {
     "data": {
      "text/plain": [
       "display_id         21786490\n",
       "ad_id              21786490\n",
       "clicked            21786490\n",
       "adsPerDisplay      21786490\n",
       "clicksPerShows     21786490\n",
       "dist               21786490\n",
       "p1                 21786490\n",
       "p2                 21786490\n",
       "p3                 21786490\n",
       "t1                 21786490\n",
       "t2                 21786490\n",
       "t3                 21786490\n",
       "clicksPerShowsM    21786490\n",
       "distM              21786490\n",
       "dtype: int64"
      ]
     },
     "execution_count": 7,
     "metadata": {},
     "output_type": "execute_result"
    }
   ],
   "source": [
    "test = pd.read_csv(\"../generated/solutions/8_val_test.0.csv\")\n",
    "testM = pd.DataFrame({'clicksPerShowsM':test.groupby('display_id')['clicksPerShows'].min(),\n",
    "                      'distM':test.groupby('display_id')['dist'].min()\n",
    "                     }).reset_index()\n",
    "test = test.merge(testM, on='display_id')\n",
    "test.count()"
   ]
  },
  {
   "cell_type": "code",
   "execution_count": 8,
   "metadata": {
    "collapsed": true
   },
   "outputs": [],
   "source": [
    "del testM"
   ]
  },
  {
   "cell_type": "code",
   "execution_count": 9,
   "metadata": {
    "collapsed": false
   },
   "outputs": [
    {
     "data": {
      "text/html": [
       "<div>\n",
       "<table border=\"1\" class=\"dataframe\">\n",
       "  <thead>\n",
       "    <tr style=\"text-align: right;\">\n",
       "      <th></th>\n",
       "      <th>clicksPerShows</th>\n",
       "      <th>clicksPerShowsM</th>\n",
       "      <th>p1</th>\n",
       "      <th>p2</th>\n",
       "      <th>p3</th>\n",
       "      <th>t1</th>\n",
       "      <th>t2</th>\n",
       "      <th>t3</th>\n",
       "      <th>adsPerDisplay</th>\n",
       "      <th>dist</th>\n",
       "      <th>distM</th>\n",
       "    </tr>\n",
       "  </thead>\n",
       "  <tbody>\n",
       "    <tr>\n",
       "      <th>0</th>\n",
       "      <td>-1.106421</td>\n",
       "      <td>-1.106421</td>\n",
       "      <td>-0.869339</td>\n",
       "      <td>1.16846</td>\n",
       "      <td>-0.414761</td>\n",
       "      <td>0.589609</td>\n",
       "      <td>-0.386977</td>\n",
       "      <td>-0.382641</td>\n",
       "      <td>-0.943129</td>\n",
       "      <td>-0.337428</td>\n",
       "      <td>-0.453601</td>\n",
       "    </tr>\n",
       "    <tr>\n",
       "      <th>1</th>\n",
       "      <td>0.047741</td>\n",
       "      <td>-1.106421</td>\n",
       "      <td>-0.869339</td>\n",
       "      <td>1.16846</td>\n",
       "      <td>-0.414761</td>\n",
       "      <td>0.589609</td>\n",
       "      <td>-0.386977</td>\n",
       "      <td>-0.382641</td>\n",
       "      <td>-0.943129</td>\n",
       "      <td>-0.290188</td>\n",
       "      <td>-0.453601</td>\n",
       "    </tr>\n",
       "    <tr>\n",
       "      <th>2</th>\n",
       "      <td>0.423361</td>\n",
       "      <td>-1.106421</td>\n",
       "      <td>-0.869339</td>\n",
       "      <td>1.16846</td>\n",
       "      <td>-0.414761</td>\n",
       "      <td>0.589609</td>\n",
       "      <td>-0.386977</td>\n",
       "      <td>-0.382641</td>\n",
       "      <td>-0.943129</td>\n",
       "      <td>-0.453601</td>\n",
       "      <td>-0.453601</td>\n",
       "    </tr>\n",
       "    <tr>\n",
       "      <th>3</th>\n",
       "      <td>-0.984897</td>\n",
       "      <td>-1.106421</td>\n",
       "      <td>-0.869339</td>\n",
       "      <td>1.16846</td>\n",
       "      <td>-0.414761</td>\n",
       "      <td>0.589609</td>\n",
       "      <td>-0.386977</td>\n",
       "      <td>-0.382641</td>\n",
       "      <td>-0.943129</td>\n",
       "      <td>-0.123861</td>\n",
       "      <td>-0.453601</td>\n",
       "    </tr>\n",
       "    <tr>\n",
       "      <th>4</th>\n",
       "      <td>-0.311728</td>\n",
       "      <td>-1.004649</td>\n",
       "      <td>-0.869339</td>\n",
       "      <td>1.16846</td>\n",
       "      <td>-0.414761</td>\n",
       "      <td>0.589609</td>\n",
       "      <td>-0.386977</td>\n",
       "      <td>-0.382641</td>\n",
       "      <td>-0.943129</td>\n",
       "      <td>-0.720782</td>\n",
       "      <td>-0.720782</td>\n",
       "    </tr>\n",
       "  </tbody>\n",
       "</table>\n",
       "</div>"
      ],
      "text/plain": [
       "   clicksPerShows  clicksPerShowsM        p1       p2        p3        t1  \\\n",
       "0       -1.106421        -1.106421 -0.869339  1.16846 -0.414761  0.589609   \n",
       "1        0.047741        -1.106421 -0.869339  1.16846 -0.414761  0.589609   \n",
       "2        0.423361        -1.106421 -0.869339  1.16846 -0.414761  0.589609   \n",
       "3       -0.984897        -1.106421 -0.869339  1.16846 -0.414761  0.589609   \n",
       "4       -0.311728        -1.004649 -0.869339  1.16846 -0.414761  0.589609   \n",
       "\n",
       "         t2        t3  adsPerDisplay      dist     distM  \n",
       "0 -0.386977 -0.382641      -0.943129 -0.337428 -0.453601  \n",
       "1 -0.386977 -0.382641      -0.943129 -0.290188 -0.453601  \n",
       "2 -0.386977 -0.382641      -0.943129 -0.453601 -0.453601  \n",
       "3 -0.386977 -0.382641      -0.943129 -0.123861 -0.453601  \n",
       "4 -0.386977 -0.382641      -0.943129 -0.720782 -0.720782  "
      ]
     },
     "execution_count": 9,
     "metadata": {},
     "output_type": "execute_result"
    }
   ],
   "source": [
    "train[features].head()"
   ]
  },
  {
   "cell_type": "code",
   "execution_count": 70,
   "metadata": {
    "collapsed": true
   },
   "outputs": [],
   "source": [
    "features = ['clicksPerShows', 'clicksPerShowsM', 'dist', 'distM']"
   ]
  },
  {
   "cell_type": "markdown",
   "metadata": {},
   "source": [
    "## Validation"
   ]
  },
  {
   "cell_type": "code",
   "execution_count": 71,
   "metadata": {
    "collapsed": false
   },
   "outputs": [
    {
     "data": {
      "text/plain": [
       "SGDClassifier(alpha=0.0001, average=False, class_weight=None, epsilon=0.1,\n",
       "       eta0=0.0, fit_intercept=True, l1_ratio=0.15,\n",
       "       learning_rate='optimal', loss='log', n_iter=5, n_jobs=1,\n",
       "       penalty='l2', power_t=0.5, random_state=0, shuffle=True, verbose=0,\n",
       "       warm_start=False)"
      ]
     },
     "execution_count": 71,
     "metadata": {},
     "output_type": "execute_result"
    }
   ],
   "source": [
    "clf = linear_model.SGDClassifier(random_state=0, loss='log', fit_intercept=True, n_iter=5)\n",
    "clf.fit(train[features], train['clicked'].ravel())"
   ]
  },
  {
   "cell_type": "code",
   "execution_count": 39,
   "metadata": {
    "collapsed": false
   },
   "outputs": [
    {
     "data": {
      "text/plain": [
       "array([0, 1], dtype=int64)"
      ]
     },
     "execution_count": 39,
     "metadata": {},
     "output_type": "execute_result"
    }
   ],
   "source": [
    "clf.classes_"
   ]
  },
  {
   "cell_type": "code",
   "execution_count": 26,
   "metadata": {
    "collapsed": false
   },
   "outputs": [
    {
     "data": {
      "text/plain": [
       "display_id    21786490\n",
       "ad_id         21786490\n",
       "clicked       21786490\n",
       "dtype: int64"
      ]
     },
     "execution_count": 26,
     "metadata": {},
     "output_type": "execute_result"
    }
   ],
   "source": [
    "clicks_test_sample = test[['display_id', 'ad_id', 'clicked']]\n",
    "clicks_test_sample.count()"
   ]
  },
  {
   "cell_type": "code",
   "execution_count": 27,
   "metadata": {
    "collapsed": false
   },
   "outputs": [
    {
     "data": {
      "text/plain": [
       "display_id    4220025\n",
       "ad_id         4220025\n",
       "clicked       4220025\n",
       "dtype: int64"
      ]
     },
     "execution_count": 27,
     "metadata": {},
     "output_type": "execute_result"
    }
   ],
   "source": [
    "validation = clicks_test_sample[clicks_test_sample['clicked']==1].astype({'ad_id':str}).sort_values('display_id')\n",
    "validation.count()"
   ]
  },
  {
   "cell_type": "code",
   "execution_count": 40,
   "metadata": {
    "collapsed": false
   },
   "outputs": [
    {
     "data": {
      "text/html": [
       "<div>\n",
       "<table border=\"1\" class=\"dataframe\">\n",
       "  <thead>\n",
       "    <tr style=\"text-align: right;\">\n",
       "      <th></th>\n",
       "      <th>clicksPerShows</th>\n",
       "      <th>dist</th>\n",
       "    </tr>\n",
       "  </thead>\n",
       "  <tbody>\n",
       "    <tr>\n",
       "      <th>0</th>\n",
       "      <td>0.357575</td>\n",
       "      <td>-1.193204</td>\n",
       "    </tr>\n",
       "    <tr>\n",
       "      <th>1</th>\n",
       "      <td>-1.292027</td>\n",
       "      <td>-0.610874</td>\n",
       "    </tr>\n",
       "    <tr>\n",
       "      <th>2</th>\n",
       "      <td>-1.217672</td>\n",
       "      <td>-0.656453</td>\n",
       "    </tr>\n",
       "    <tr>\n",
       "      <th>3</th>\n",
       "      <td>-0.123321</td>\n",
       "      <td>-0.516288</td>\n",
       "    </tr>\n",
       "    <tr>\n",
       "      <th>4</th>\n",
       "      <td>-1.186901</td>\n",
       "      <td>-0.118871</td>\n",
       "    </tr>\n",
       "  </tbody>\n",
       "</table>\n",
       "</div>"
      ],
      "text/plain": [
       "   clicksPerShows      dist\n",
       "0        0.357575 -1.193204\n",
       "1       -1.292027 -0.610874\n",
       "2       -1.217672 -0.656453\n",
       "3       -0.123321 -0.516288\n",
       "4       -1.186901 -0.118871"
      ]
     },
     "execution_count": 40,
     "metadata": {},
     "output_type": "execute_result"
    }
   ],
   "source": [
    "test[features].head()"
   ]
  },
  {
   "cell_type": "code",
   "execution_count": 72,
   "metadata": {
    "collapsed": false
   },
   "outputs": [
    {
     "data": {
      "text/html": [
       "<div>\n",
       "<table border=\"1\" class=\"dataframe\">\n",
       "  <thead>\n",
       "    <tr style=\"text-align: right;\">\n",
       "      <th></th>\n",
       "      <th>display_id</th>\n",
       "      <th>ad_id</th>\n",
       "      <th>clicked</th>\n",
       "      <th>adsPerDisplay</th>\n",
       "      <th>clicksPerShows</th>\n",
       "      <th>dist</th>\n",
       "      <th>p1</th>\n",
       "      <th>p2</th>\n",
       "      <th>p3</th>\n",
       "      <th>t1</th>\n",
       "      <th>t2</th>\n",
       "      <th>t3</th>\n",
       "      <th>clicksPerShowsM</th>\n",
       "      <th>distM</th>\n",
       "      <th>res</th>\n",
       "    </tr>\n",
       "  </thead>\n",
       "  <tbody>\n",
       "    <tr>\n",
       "      <th>0</th>\n",
       "      <td>19972</td>\n",
       "      <td>120162</td>\n",
       "      <td>1</td>\n",
       "      <td>1.123554</td>\n",
       "      <td>0.357575</td>\n",
       "      <td>-1.193204</td>\n",
       "      <td>-0.869339</td>\n",
       "      <td>1.16846</td>\n",
       "      <td>-0.414761</td>\n",
       "      <td>-1.69604</td>\n",
       "      <td>-0.386977</td>\n",
       "      <td>2.613417</td>\n",
       "      <td>-1.292027</td>\n",
       "      <td>-1.193204</td>\n",
       "      <td>0.250525</td>\n",
       "    </tr>\n",
       "    <tr>\n",
       "      <th>1</th>\n",
       "      <td>19972</td>\n",
       "      <td>122279</td>\n",
       "      <td>0</td>\n",
       "      <td>1.123554</td>\n",
       "      <td>-1.292027</td>\n",
       "      <td>-0.610874</td>\n",
       "      <td>-0.869339</td>\n",
       "      <td>1.16846</td>\n",
       "      <td>-0.414761</td>\n",
       "      <td>-1.69604</td>\n",
       "      <td>-0.386977</td>\n",
       "      <td>2.613417</td>\n",
       "      <td>-1.292027</td>\n",
       "      <td>-1.193204</td>\n",
       "      <td>0.063788</td>\n",
       "    </tr>\n",
       "    <tr>\n",
       "      <th>2</th>\n",
       "      <td>19972</td>\n",
       "      <td>168342</td>\n",
       "      <td>0</td>\n",
       "      <td>1.123554</td>\n",
       "      <td>-1.217672</td>\n",
       "      <td>-0.656453</td>\n",
       "      <td>-0.869339</td>\n",
       "      <td>1.16846</td>\n",
       "      <td>-0.414761</td>\n",
       "      <td>-1.69604</td>\n",
       "      <td>-0.386977</td>\n",
       "      <td>2.613417</td>\n",
       "      <td>-1.292027</td>\n",
       "      <td>-1.193204</td>\n",
       "      <td>0.068221</td>\n",
       "    </tr>\n",
       "    <tr>\n",
       "      <th>3</th>\n",
       "      <td>19972</td>\n",
       "      <td>176585</td>\n",
       "      <td>0</td>\n",
       "      <td>1.123554</td>\n",
       "      <td>-0.123321</td>\n",
       "      <td>-0.516288</td>\n",
       "      <td>-0.869339</td>\n",
       "      <td>1.16846</td>\n",
       "      <td>-0.414761</td>\n",
       "      <td>-1.69604</td>\n",
       "      <td>-0.386977</td>\n",
       "      <td>2.613417</td>\n",
       "      <td>-1.292027</td>\n",
       "      <td>-1.193204</td>\n",
       "      <td>0.172818</td>\n",
       "    </tr>\n",
       "    <tr>\n",
       "      <th>4</th>\n",
       "      <td>19972</td>\n",
       "      <td>250080</td>\n",
       "      <td>0</td>\n",
       "      <td>1.123554</td>\n",
       "      <td>-1.186901</td>\n",
       "      <td>-0.118871</td>\n",
       "      <td>-0.869339</td>\n",
       "      <td>1.16846</td>\n",
       "      <td>-0.414761</td>\n",
       "      <td>-1.69604</td>\n",
       "      <td>-0.386977</td>\n",
       "      <td>2.613417</td>\n",
       "      <td>-1.292027</td>\n",
       "      <td>-1.193204</td>\n",
       "      <td>0.069687</td>\n",
       "    </tr>\n",
       "  </tbody>\n",
       "</table>\n",
       "</div>"
      ],
      "text/plain": [
       "   display_id   ad_id  clicked  adsPerDisplay  clicksPerShows      dist  \\\n",
       "0       19972  120162        1       1.123554        0.357575 -1.193204   \n",
       "1       19972  122279        0       1.123554       -1.292027 -0.610874   \n",
       "2       19972  168342        0       1.123554       -1.217672 -0.656453   \n",
       "3       19972  176585        0       1.123554       -0.123321 -0.516288   \n",
       "4       19972  250080        0       1.123554       -1.186901 -0.118871   \n",
       "\n",
       "         p1       p2        p3       t1        t2        t3  clicksPerShowsM  \\\n",
       "0 -0.869339  1.16846 -0.414761 -1.69604 -0.386977  2.613417        -1.292027   \n",
       "1 -0.869339  1.16846 -0.414761 -1.69604 -0.386977  2.613417        -1.292027   \n",
       "2 -0.869339  1.16846 -0.414761 -1.69604 -0.386977  2.613417        -1.292027   \n",
       "3 -0.869339  1.16846 -0.414761 -1.69604 -0.386977  2.613417        -1.292027   \n",
       "4 -0.869339  1.16846 -0.414761 -1.69604 -0.386977  2.613417        -1.292027   \n",
       "\n",
       "      distM       res  \n",
       "0 -1.193204  0.250525  \n",
       "1 -1.193204  0.063788  \n",
       "2 -1.193204  0.068221  \n",
       "3 -1.193204  0.172818  \n",
       "4 -1.193204  0.069687  "
      ]
     },
     "execution_count": 72,
     "metadata": {},
     "output_type": "execute_result"
    }
   ],
   "source": [
    "test['res'] = pd.Series(clf.predict_proba(test[features])[:,1])\n",
    "test.head()"
   ]
  },
  {
   "cell_type": "code",
   "execution_count": 42,
   "metadata": {
    "collapsed": false
   },
   "outputs": [
    {
     "data": {
      "text/plain": [
       "(array([[ 0.87560411, -0.01007099]]), -1.6182738461657566)"
      ]
     },
     "execution_count": 42,
     "metadata": {},
     "output_type": "execute_result"
    }
   ],
   "source": [
    "clf.coef_, clf.intercept_[0]"
   ]
  },
  {
   "cell_type": "code",
   "execution_count": 73,
   "metadata": {
    "collapsed": false
   },
   "outputs": [
    {
     "data": {
      "text/plain": [
       "display_id         21786490\n",
       "ad_id              21786490\n",
       "clicked            21786490\n",
       "adsPerDisplay      21786490\n",
       "clicksPerShows     21786490\n",
       "dist               21786490\n",
       "p1                 21786490\n",
       "p2                 21786490\n",
       "p3                 21786490\n",
       "t1                 21786490\n",
       "t2                 21786490\n",
       "t3                 21786490\n",
       "clicksPerShowsM    21786490\n",
       "distM              21786490\n",
       "res                21786490\n",
       "dtype: int64"
      ]
     },
     "execution_count": 73,
     "metadata": {},
     "output_type": "execute_result"
    }
   ],
   "source": [
    "prediction = test.sort_values(by=['display_id', 'res'], ascending=[True, False])\n",
    "prediction.count()"
   ]
  },
  {
   "cell_type": "code",
   "execution_count": 74,
   "metadata": {
    "collapsed": false
   },
   "outputs": [
    {
     "data": {
      "text/plain": [
       "display_id    4220025\n",
       "ad_id         4220025\n",
       "dtype: int64"
      ]
     },
     "execution_count": 74,
     "metadata": {},
     "output_type": "execute_result"
    }
   ],
   "source": [
    "prediction=pd.DataFrame({ 'ad_id': prediction.groupby('display_id')['ad_id'].apply(join) }).reset_index()\n",
    "prediction.count()"
   ]
  },
  {
   "cell_type": "code",
   "execution_count": 75,
   "metadata": {
    "collapsed": false
   },
   "outputs": [
    {
     "data": {
      "text/html": [
       "<div>\n",
       "<table border=\"1\" class=\"dataframe\">\n",
       "  <thead>\n",
       "    <tr style=\"text-align: right;\">\n",
       "      <th></th>\n",
       "      <th>display_id</th>\n",
       "      <th>ad_id</th>\n",
       "    </tr>\n",
       "  </thead>\n",
       "  <tbody>\n",
       "    <tr>\n",
       "      <th>0</th>\n",
       "      <td>1</td>\n",
       "      <td>279295 144739 42337 139684 296965 156824</td>\n",
       "    </tr>\n",
       "    <tr>\n",
       "      <th>1</th>\n",
       "      <td>7</td>\n",
       "      <td>300808 215967 105766</td>\n",
       "    </tr>\n",
       "    <tr>\n",
       "      <th>2</th>\n",
       "      <td>9</td>\n",
       "      <td>151028 19959 140940 104208</td>\n",
       "    </tr>\n",
       "    <tr>\n",
       "      <th>3</th>\n",
       "      <td>14</td>\n",
       "      <td>98270 143467 224171 288396</td>\n",
       "    </tr>\n",
       "    <tr>\n",
       "      <th>4</th>\n",
       "      <td>26</td>\n",
       "      <td>152193 285992</td>\n",
       "    </tr>\n",
       "  </tbody>\n",
       "</table>\n",
       "</div>"
      ],
      "text/plain": [
       "   display_id                                     ad_id\n",
       "0           1  279295 144739 42337 139684 296965 156824\n",
       "1           7                      300808 215967 105766\n",
       "2           9                151028 19959 140940 104208\n",
       "3          14                98270 143467 224171 288396\n",
       "4          26                             152193 285992"
      ]
     },
     "execution_count": 75,
     "metadata": {},
     "output_type": "execute_result"
    }
   ],
   "source": [
    "prediction.head()"
   ]
  },
  {
   "cell_type": "code",
   "execution_count": 46,
   "metadata": {
    "collapsed": false
   },
   "outputs": [
    {
     "data": {
      "text/html": [
       "<div>\n",
       "<table border=\"1\" class=\"dataframe\">\n",
       "  <thead>\n",
       "    <tr style=\"text-align: right;\">\n",
       "      <th></th>\n",
       "      <th>display_id</th>\n",
       "      <th>ad_id</th>\n",
       "      <th>clicked</th>\n",
       "    </tr>\n",
       "  </thead>\n",
       "  <tbody>\n",
       "    <tr>\n",
       "      <th>10663775</th>\n",
       "      <td>1</td>\n",
       "      <td>144739</td>\n",
       "      <td>1</td>\n",
       "    </tr>\n",
       "    <tr>\n",
       "      <th>6969458</th>\n",
       "      <td>7</td>\n",
       "      <td>105766</td>\n",
       "      <td>1</td>\n",
       "    </tr>\n",
       "    <tr>\n",
       "      <th>15168153</th>\n",
       "      <td>9</td>\n",
       "      <td>140940</td>\n",
       "      <td>1</td>\n",
       "    </tr>\n",
       "    <tr>\n",
       "      <th>8851096</th>\n",
       "      <td>14</td>\n",
       "      <td>224171</td>\n",
       "      <td>1</td>\n",
       "    </tr>\n",
       "    <tr>\n",
       "      <th>7891472</th>\n",
       "      <td>26</td>\n",
       "      <td>152193</td>\n",
       "      <td>1</td>\n",
       "    </tr>\n",
       "  </tbody>\n",
       "</table>\n",
       "</div>"
      ],
      "text/plain": [
       "          display_id   ad_id  clicked\n",
       "10663775           1  144739        1\n",
       "6969458            7  105766        1\n",
       "15168153           9  140940        1\n",
       "8851096           14  224171        1\n",
       "7891472           26  152193        1"
      ]
     },
     "execution_count": 46,
     "metadata": {},
     "output_type": "execute_result"
    }
   ],
   "source": [
    "validation.head()"
   ]
  },
  {
   "cell_type": "code",
   "execution_count": 76,
   "metadata": {
    "collapsed": false
   },
   "outputs": [
    {
     "name": "stdout",
     "output_type": "stream",
     "text": [
      "clicksPerShows : 0.662827167065\n"
     ]
    }
   ],
   "source": [
    "print 'clicksPerShows :', model_evaluation(validation, prediction)  #0.662869594202      0.588499968978      "
   ]
  },
  {
   "cell_type": "code",
   "execution_count": 36,
   "metadata": {
    "collapsed": true
   },
   "outputs": [],
   "source": [
    "# 0.662870121262\n",
    "# 0.662827167065\n",
    "\n",
    "#['clicksPerShows', 'dist']                                   0.662839597671\n",
    "#['clicksPerShows', 'clicksPerShowsM', 'dist']                0.662822157289\n",
    "#['clicksPerShows', 'p1', 'p2', 'p3', 'dist']                 0.66283803558\n",
    "#['clicksPerShows', 'dist', 'distM']                          0.66286541307\n",
    "#['clicksPerShows', 'clicksPerShowsM', 'dist', 'distM']       0.662827167065"
   ]
  }
 ],
 "metadata": {
  "anaconda-cloud": {},
  "kernelspec": {
   "display_name": "Python [Root]",
   "language": "python",
   "name": "Python [Root]"
  },
  "language_info": {
   "codemirror_mode": {
    "name": "ipython",
    "version": 2
   },
   "file_extension": ".py",
   "mimetype": "text/x-python",
   "name": "python",
   "nbconvert_exporter": "python",
   "pygments_lexer": "ipython2",
   "version": "2.7.11"
  }
 },
 "nbformat": 4,
 "nbformat_minor": 0
}
