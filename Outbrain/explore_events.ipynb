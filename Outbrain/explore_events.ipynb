{
 "cells": [
  {
   "cell_type": "code",
   "execution_count": 2,
   "metadata": {
    "collapsed": false
   },
   "outputs": [
    {
     "name": "stdout",
     "output_type": "stream",
     "text": [
      "Populating the interactive namespace from numpy and matplotlib\n"
     ]
    }
   ],
   "source": [
    "%pylab inline\n",
    "import pandas as pd"
   ]
  },
  {
   "cell_type": "code",
   "execution_count": 4,
   "metadata": {
    "collapsed": false
   },
   "outputs": [],
   "source": [
    "%run 'time.ipynb'"
   ]
  },
  {
   "cell_type": "code",
   "execution_count": 5,
   "metadata": {
    "collapsed": false
   },
   "outputs": [
    {
     "data": {
      "text/html": [
       "<div>\n",
       "<table border=\"1\" class=\"dataframe\">\n",
       "  <thead>\n",
       "    <tr style=\"text-align: right;\">\n",
       "      <th></th>\n",
       "      <th>display_id</th>\n",
       "      <th>uuid</th>\n",
       "      <th>document_id</th>\n",
       "      <th>timestamp</th>\n",
       "      <th>platform</th>\n",
       "      <th>geo_location</th>\n",
       "    </tr>\n",
       "  </thead>\n",
       "  <tbody>\n",
       "    <tr>\n",
       "      <th>0</th>\n",
       "      <td>1</td>\n",
       "      <td>cb8c55702adb93</td>\n",
       "      <td>379743</td>\n",
       "      <td>61</td>\n",
       "      <td>3</td>\n",
       "      <td>US&gt;SC&gt;519</td>\n",
       "    </tr>\n",
       "    <tr>\n",
       "      <th>1</th>\n",
       "      <td>2</td>\n",
       "      <td>79a85fa78311b9</td>\n",
       "      <td>1794259</td>\n",
       "      <td>81</td>\n",
       "      <td>2</td>\n",
       "      <td>US&gt;CA&gt;807</td>\n",
       "    </tr>\n",
       "    <tr>\n",
       "      <th>2</th>\n",
       "      <td>3</td>\n",
       "      <td>822932ce3d8757</td>\n",
       "      <td>1179111</td>\n",
       "      <td>182</td>\n",
       "      <td>2</td>\n",
       "      <td>US&gt;MI&gt;505</td>\n",
       "    </tr>\n",
       "    <tr>\n",
       "      <th>3</th>\n",
       "      <td>4</td>\n",
       "      <td>85281d0a49f7ac</td>\n",
       "      <td>1777797</td>\n",
       "      <td>234</td>\n",
       "      <td>2</td>\n",
       "      <td>US&gt;WV&gt;564</td>\n",
       "    </tr>\n",
       "    <tr>\n",
       "      <th>4</th>\n",
       "      <td>5</td>\n",
       "      <td>8d0daef4bf5b56</td>\n",
       "      <td>252458</td>\n",
       "      <td>338</td>\n",
       "      <td>2</td>\n",
       "      <td>SG&gt;00</td>\n",
       "    </tr>\n",
       "  </tbody>\n",
       "</table>\n",
       "</div>"
      ],
      "text/plain": [
       "   display_id            uuid  document_id  timestamp  platform geo_location\n",
       "0           1  cb8c55702adb93       379743         61         3    US>SC>519\n",
       "1           2  79a85fa78311b9      1794259         81         2    US>CA>807\n",
       "2           3  822932ce3d8757      1179111        182         2    US>MI>505\n",
       "3           4  85281d0a49f7ac      1777797        234         2    US>WV>564\n",
       "4           5  8d0daef4bf5b56       252458        338         2        SG>00"
      ]
     },
     "execution_count": 5,
     "metadata": {},
     "output_type": "execute_result"
    }
   ],
   "source": [
    "#events_full = pd.read_csv(\"../download/events.csv\", nrows=10, header=0, names=['id','u','doc','time','p','geo'], usecols=['u','geo'])\n",
    "events_full = pd.read_csv(\"../download/events.csv\", nrows=10)\n",
    "events_full.head()"
   ]
  },
  {
   "cell_type": "code",
   "execution_count": 9,
   "metadata": {
    "collapsed": false
   },
   "outputs": [
    {
     "data": {
      "text/html": [
       "<div>\n",
       "<table border=\"1\" class=\"dataframe\">\n",
       "  <thead>\n",
       "    <tr style=\"text-align: right;\">\n",
       "      <th></th>\n",
       "      <th>display_id</th>\n",
       "      <th>document_id</th>\n",
       "      <th>timestamp</th>\n",
       "      <th>platform</th>\n",
       "      <th>geo_location</th>\n",
       "    </tr>\n",
       "  </thead>\n",
       "  <tbody>\n",
       "    <tr>\n",
       "      <th>0</th>\n",
       "      <td>1</td>\n",
       "      <td>379743</td>\n",
       "      <td>61</td>\n",
       "      <td>3</td>\n",
       "      <td>US&gt;SC&gt;519</td>\n",
       "    </tr>\n",
       "    <tr>\n",
       "      <th>1</th>\n",
       "      <td>2</td>\n",
       "      <td>1794259</td>\n",
       "      <td>81</td>\n",
       "      <td>2</td>\n",
       "      <td>US&gt;CA&gt;807</td>\n",
       "    </tr>\n",
       "    <tr>\n",
       "      <th>2</th>\n",
       "      <td>3</td>\n",
       "      <td>1179111</td>\n",
       "      <td>182</td>\n",
       "      <td>2</td>\n",
       "      <td>US&gt;MI&gt;505</td>\n",
       "    </tr>\n",
       "    <tr>\n",
       "      <th>3</th>\n",
       "      <td>4</td>\n",
       "      <td>1777797</td>\n",
       "      <td>234</td>\n",
       "      <td>2</td>\n",
       "      <td>US&gt;WV&gt;564</td>\n",
       "    </tr>\n",
       "    <tr>\n",
       "      <th>4</th>\n",
       "      <td>5</td>\n",
       "      <td>252458</td>\n",
       "      <td>338</td>\n",
       "      <td>2</td>\n",
       "      <td>SG&gt;00</td>\n",
       "    </tr>\n",
       "  </tbody>\n",
       "</table>\n",
       "</div>"
      ],
      "text/plain": [
       "   display_id  document_id  timestamp platform geo_location\n",
       "0           1       379743         61        3    US>SC>519\n",
       "1           2      1794259         81        2    US>CA>807\n",
       "2           3      1179111        182        2    US>MI>505\n",
       "3           4      1777797        234        2    US>WV>564\n",
       "4           5       252458        338        2        SG>00"
      ]
     },
     "execution_count": 9,
     "metadata": {},
     "output_type": "execute_result"
    }
   ],
   "source": [
    "events = pd.read_csv(\"../download/events.csv\", dtype={'geo_location':str, 'platform':str}, usecols=['display_id', 'document_id', 'timestamp', 'platform', 'geo_location'])\n",
    "events.head()"
   ]
  },
  {
   "cell_type": "code",
   "execution_count": 10,
   "metadata": {
    "collapsed": false
   },
   "outputs": [
    {
     "data": {
      "text/plain": [
       "display_id      23120126\n",
       "document_id     23120126\n",
       "timestamp       23120126\n",
       "platform        23120126\n",
       "geo_location    23119786\n",
       "dtype: int64"
      ]
     },
     "execution_count": 10,
     "metadata": {},
     "output_type": "execute_result"
    }
   ],
   "source": [
    "events.count()"
   ]
  },
  {
   "cell_type": "code",
   "execution_count": 11,
   "metadata": {
    "collapsed": false
   },
   "outputs": [
    {
     "data": {
      "text/html": [
       "<div>\n",
       "<table border=\"1\" class=\"dataframe\">\n",
       "  <thead>\n",
       "    <tr style=\"text-align: right;\">\n",
       "      <th></th>\n",
       "      <th>display_id</th>\n",
       "      <th>document_id</th>\n",
       "      <th>timestamp</th>\n",
       "      <th>platform</th>\n",
       "      <th>geo_location</th>\n",
       "    </tr>\n",
       "  </thead>\n",
       "  <tbody>\n",
       "    <tr>\n",
       "      <th>303065</th>\n",
       "      <td>303066</td>\n",
       "      <td>968149</td>\n",
       "      <td>28799999</td>\n",
       "      <td>\\N</td>\n",
       "      <td>US&gt;VA&gt;511</td>\n",
       "    </tr>\n",
       "    <tr>\n",
       "      <th>11328495</th>\n",
       "      <td>11328496</td>\n",
       "      <td>1827718</td>\n",
       "      <td>752399961</td>\n",
       "      <td>\\N</td>\n",
       "      <td>US&gt;KY&gt;529</td>\n",
       "    </tr>\n",
       "    <tr>\n",
       "      <th>13489552</th>\n",
       "      <td>13489553</td>\n",
       "      <td>2624774</td>\n",
       "      <td>896400000</td>\n",
       "      <td>\\N</td>\n",
       "      <td>US&gt;IN&gt;527</td>\n",
       "    </tr>\n",
       "    <tr>\n",
       "      <th>14004327</th>\n",
       "      <td>14004328</td>\n",
       "      <td>635051</td>\n",
       "      <td>921599944</td>\n",
       "      <td>\\N</td>\n",
       "      <td>US&gt;NY&gt;501</td>\n",
       "    </tr>\n",
       "    <tr>\n",
       "      <th>15056921</th>\n",
       "      <td>15056922</td>\n",
       "      <td>2746860</td>\n",
       "      <td>997199999</td>\n",
       "      <td>\\N</td>\n",
       "      <td>US&gt;MA&gt;506</td>\n",
       "    </tr>\n",
       "  </tbody>\n",
       "</table>\n",
       "</div>"
      ],
      "text/plain": [
       "          display_id  document_id  timestamp platform geo_location\n",
       "303065        303066       968149   28799999       \\N    US>VA>511\n",
       "11328495    11328496      1827718  752399961       \\N    US>KY>529\n",
       "13489552    13489553      2624774  896400000       \\N    US>IN>527\n",
       "14004327    14004328       635051  921599944       \\N    US>NY>501\n",
       "15056921    15056922      2746860  997199999       \\N    US>MA>506"
      ]
     },
     "execution_count": 11,
     "metadata": {},
     "output_type": "execute_result"
    }
   ],
   "source": [
    "events[events['platform'].str.contains(\"\\N\")]"
   ]
  },
  {
   "cell_type": "markdown",
   "metadata": {},
   "source": [
    "Grouping"
   ]
  },
  {
   "cell_type": "code",
   "execution_count": 17,
   "metadata": {
    "collapsed": false
   },
   "outputs": [
    {
     "data": {
      "text/plain": [
       "count    1.047259e+07\n",
       "mean     2.207647e+00\n",
       "std      1.806853e+01\n",
       "min      1.000000e+00\n",
       "25%      1.000000e+00\n",
       "50%      1.000000e+00\n",
       "75%      1.000000e+00\n",
       "max      1.706500e+04\n",
       "Name: size, dtype: float64"
      ]
     },
     "execution_count": 17,
     "metadata": {},
     "output_type": "execute_result"
    }
   ],
   "source": [
    "events_grouped = pd.DataFrame({'size':events.groupby(['document_id', 'platform', 'geo_location']).size()}).reset_index()\n",
    "events_grouped['size'].describe()"
   ]
  },
  {
   "cell_type": "code",
   "execution_count": 20,
   "metadata": {
    "collapsed": false
   },
   "outputs": [
    {
     "data": {
      "text/plain": [
       "count    8.453033e+06\n",
       "mean     2.735088e+00\n",
       "std      2.275531e+01\n",
       "min      1.000000e+00\n",
       "25%      1.000000e+00\n",
       "50%      1.000000e+00\n",
       "75%      2.000000e+00\n",
       "max      1.739400e+04\n",
       "Name: size, dtype: float64"
      ]
     },
     "execution_count": 20,
     "metadata": {},
     "output_type": "execute_result"
    }
   ],
   "source": [
    "events_grouped = pd.DataFrame({'size':events.groupby(['document_id', 'geo_location']).size()}).reset_index()\n",
    "events_grouped['size'].describe()"
   ]
  },
  {
   "cell_type": "code",
   "execution_count": 18,
   "metadata": {
    "collapsed": false
   },
   "outputs": [
    {
     "data": {
      "text/plain": [
       "count    1.685041e+06\n",
       "mean     1.372081e+01\n",
       "std      3.358049e+02\n",
       "min      1.000000e+00\n",
       "25%      1.000000e+00\n",
       "50%      2.000000e+00\n",
       "75%      5.000000e+00\n",
       "max      2.297260e+05\n",
       "Name: size, dtype: float64"
      ]
     },
     "execution_count": 18,
     "metadata": {},
     "output_type": "execute_result"
    }
   ],
   "source": [
    "events_grouped = pd.DataFrame({'size':events.groupby(['document_id', 'platform']).size()}).reset_index()\n",
    "events_grouped['size'].describe()"
   ]
  },
  {
   "cell_type": "code",
   "execution_count": 19,
   "metadata": {
    "collapsed": false
   },
   "outputs": [
    {
     "data": {
      "text/plain": [
       "count    894060.000000\n",
       "mean         25.859703\n",
       "std         555.219403\n",
       "min           1.000000\n",
       "25%           1.000000\n",
       "50%           2.000000\n",
       "75%           8.000000\n",
       "max      319203.000000\n",
       "Name: size, dtype: float64"
      ]
     },
     "execution_count": 19,
     "metadata": {},
     "output_type": "execute_result"
    }
   ],
   "source": [
    "events_grouped = pd.DataFrame({'size':events.groupby(['document_id']).size()}).reset_index()\n",
    "events_grouped['size'].describe()"
   ]
  },
  {
   "cell_type": "markdown",
   "metadata": {},
   "source": [
    "Timestamp"
   ]
  },
  {
   "cell_type": "code",
   "execution_count": 6,
   "metadata": {
    "collapsed": false
   },
   "outputs": [
    {
     "data": {
      "text/plain": [
       "<matplotlib.axes._subplots.AxesSubplot at 0x83c2f98>"
      ]
     },
     "execution_count": 6,
     "metadata": {},
     "output_type": "execute_result"
    },
    {
     "data": {
      "image/png": "[encoded data removed]",
      "text/plain": [
       "<matplotlib.figure.Figure at 0x83c29b0>"
      ]
     },
     "metadata": {},
     "output_type": "display_data"
    }
   ],
   "source": [
    "events['timestamp'].hist(bins=16)"
   ]
  },
  {
   "cell_type": "code",
   "execution_count": 7,
   "metadata": {
    "collapsed": false
   },
   "outputs": [
    {
     "data": {
      "text/html": [
       "<div>\n",
       "<table border=\"1\" class=\"dataframe\">\n",
       "  <thead>\n",
       "    <tr style=\"text-align: right;\">\n",
       "      <th></th>\n",
       "      <th>display_id</th>\n",
       "      <th>document_id</th>\n",
       "      <th>timestamp</th>\n",
       "      <th>day</th>\n",
       "    </tr>\n",
       "  </thead>\n",
       "  <tbody>\n",
       "    <tr>\n",
       "      <th>0</th>\n",
       "      <td>1</td>\n",
       "      <td>379743</td>\n",
       "      <td>61</td>\n",
       "      <td>14</td>\n",
       "    </tr>\n",
       "    <tr>\n",
       "      <th>1</th>\n",
       "      <td>2</td>\n",
       "      <td>1794259</td>\n",
       "      <td>81</td>\n",
       "      <td>14</td>\n",
       "    </tr>\n",
       "    <tr>\n",
       "      <th>2</th>\n",
       "      <td>3</td>\n",
       "      <td>1179111</td>\n",
       "      <td>182</td>\n",
       "      <td>14</td>\n",
       "    </tr>\n",
       "    <tr>\n",
       "      <th>3</th>\n",
       "      <td>4</td>\n",
       "      <td>1777797</td>\n",
       "      <td>234</td>\n",
       "      <td>14</td>\n",
       "    </tr>\n",
       "    <tr>\n",
       "      <th>4</th>\n",
       "      <td>5</td>\n",
       "      <td>252458</td>\n",
       "      <td>338</td>\n",
       "      <td>14</td>\n",
       "    </tr>\n",
       "  </tbody>\n",
       "</table>\n",
       "</div>"
      ],
      "text/plain": [
       "   display_id  document_id  timestamp  day\n",
       "0           1       379743         61   14\n",
       "1           2      1794259         81   14\n",
       "2           3      1179111        182   14\n",
       "3           4      1777797        234   14\n",
       "4           5       252458        338   14"
      ]
     },
     "execution_count": 7,
     "metadata": {},
     "output_type": "execute_result"
    }
   ],
   "source": [
    "events['day'] = events['timestamp'].apply(time_day)\n",
    "events.head()"
   ]
  },
  {
   "cell_type": "code",
   "execution_count": 8,
   "metadata": {
    "collapsed": false
   },
   "outputs": [
    {
     "data": {
      "text/plain": [
       "<matplotlib.axes._subplots.AxesSubplot at 0x850c588>"
      ]
     },
     "execution_count": 8,
     "metadata": {},
     "output_type": "execute_result"
    },
    {
     "data": {
      "image/png": "[encoded data removed]",
      "text/plain": [
       "<matplotlib.figure.Figure at 0x83c2630>"
      ]
     },
     "metadata": {},
     "output_type": "display_data"
    }
   ],
   "source": [
    "events['day'].hist(bins=16)"
   ]
  },
  {
   "cell_type": "raw",
   "metadata": {
    "collapsed": false
   },
   "source": [
    "events.to_csv('../generated/events.csv', index=False)"
   ]
  }
 ],
 "metadata": {
  "anaconda-cloud": {},
  "kernelspec": {
   "display_name": "Python [Root]",
   "language": "python",
   "name": "Python [Root]"
  },
  "language_info": {
   "codemirror_mode": {
    "name": "ipython",
    "version": 2
   },
   "file_extension": ".py",
   "mimetype": "text/x-python",
   "name": "python",
   "nbconvert_exporter": "python",
   "pygments_lexer": "ipython2",
   "version": "2.7.11"
  }
 },
 "nbformat": 4,
 "nbformat_minor": 0
}
