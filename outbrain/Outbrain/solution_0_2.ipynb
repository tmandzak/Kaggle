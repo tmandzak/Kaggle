{
 "cells": [
  {
   "cell_type": "code",
   "execution_count": null,
   "metadata": {
    "collapsed": false
   },
   "outputs": [],
   "source": [
    "import pandas as pd\n",
    "#from sklearn.model_selection import KFold\n",
    "from sklearn.model_selection import ShuffleSplit"
   ]
  },
  {
   "cell_type": "markdown",
   "metadata": {},
   "source": [
    "## Model"
   ]
  },
  {
   "cell_type": "code",
   "execution_count": null,
   "metadata": {
    "collapsed": true
   },
   "outputs": [],
   "source": [
    "# %load \"features/clicksPerAd.py\"\n",
    "def clicksPerAd(clicks):\n",
    "    return pd.DataFrame({'clicks': clicks.groupby(['ad_id'])['clicked'].sum(),\n",
    "                         'shows': clicks.groupby(['ad_id'])['clicked'].size(),\n",
    "                         'clicksPerShows': clicks.groupby(['ad_id'])['clicked'].mean()\n",
    "                        }).reset_index()"
   ]
  },
  {
   "cell_type": "code",
   "execution_count": null,
   "metadata": {
    "collapsed": true
   },
   "outputs": [],
   "source": [
    "def join(series):\n",
    "    #return ' '.join( str(list(series)).strip('[]').split(', ') )\n",
    "    return ' '.join( map(str, series) )"
   ]
  },
  {
   "cell_type": "code",
   "execution_count": null,
   "metadata": {
    "collapsed": false
   },
   "outputs": [],
   "source": [
    "def model_prediction(by, clicksPerAd_train, test):\n",
    "    prediction = pd.merge(test, clicksPerAd_train, how='left', on='ad_id').fillna(clicksPerAd_train[by].mean())\n",
    "    prediction = prediction.sort_values(by=['display_id', by], ascending=False)\n",
    "    return pd.DataFrame({ 'ad_id': prediction.groupby('display_id')['ad_id'].apply(join) }).reset_index()"
   ]
  },
  {
   "cell_type": "code",
   "execution_count": null,
   "metadata": {
    "collapsed": true
   },
   "outputs": [],
   "source": [
    "%run 'metrics.ipynb'\n",
    "def model_evaluation(actual, prediction):\n",
    "    return mapk(actual['ad_id'], prediction['ad_id'], k=12)"
   ]
  },
  {
   "cell_type": "markdown",
   "metadata": {},
   "source": [
    "## Validation"
   ]
  },
  {
   "cell_type": "code",
   "execution_count": null,
   "metadata": {
    "collapsed": false
   },
   "outputs": [],
   "source": [
    "data = pd.read_csv(\"../download/clicks_train.csv\")"
   ]
  },
  {
   "cell_type": "code",
   "execution_count": null,
   "metadata": {
    "collapsed": false
   },
   "outputs": [],
   "source": [
    "displays = pd.read_csv(\"../download/events.csv\", usecols=['display_id'])\n",
    "displays.count()"
   ]
  },
  {
   "cell_type": "code",
   "execution_count": null,
   "metadata": {
    "collapsed": false
   },
   "outputs": [],
   "source": [
    "#kf = KFold(n_splits=5)\n",
    "#train, test = kf.split(displays).next()\n",
    "ss = ShuffleSplit(n_splits=1, test_size=0.25, random_state=0)\n",
    "train_index, test_index = ss.split(displays).next()\n",
    "\n",
    "print len(train_index), len(test_index)"
   ]
  },
  {
   "cell_type": "code",
   "execution_count": null,
   "metadata": {
    "collapsed": false
   },
   "outputs": [],
   "source": [
    "clicksPerAd_train = clicksPerAd( pd.merge(data, displays.iloc[train_index], on=['display_id']) )\n",
    "clicks_test_sample = pd.merge(data, displays.iloc[test_index], on=['display_id'])\n",
    "\n",
    "validation = clicks_test_sample[clicks_test_sample['clicked']==1].astype({'ad_id':str})"
   ]
  },
  {
   "cell_type": "code",
   "execution_count": null,
   "metadata": {
    "collapsed": false
   },
   "outputs": [],
   "source": [
    "by='clicksPerShows'\n",
    "print by, ':', model_evaluation(validation, model_prediction(by, clicksPerAd_train, clicks_test_sample))"
   ]
  },
  {
   "cell_type": "raw",
   "metadata": {},
   "source": [
    "On 1e7 displays:\n",
    "\n",
    "for by in ['clicksPerShows', 'clicks', 'shows']:\n",
    "    print by, ':', model_evaluation(validation, model_prediction(by, clicksPerAd_train, clicks_test_sample))\n",
    "\n",
    ".fillna(0)\n",
    "clicksPerShows : 0.64542201482  (Solution_0)\n",
    "clicks : 0.549740533954\n",
    "shows : 0.477260775873 (Solution_1)\n",
    "\n",
    ".fillna(mean)\n",
    "clicksPerShows : 0.645511085758  (Solution_2)\n",
    "clicks : 0.549716502035\n",
    "shows : 0.477226186176\n",
    "\n",
    ".fillna(median)\n",
    "clicksPerShows : 0.64542201482\n",
    "\n",
    "On all displays:  (Solution_2)\n",
    ".fillna(mean)\n",
    "clicksPerShows : 0.64368362085\n"
   ]
  },
  {
   "cell_type": "markdown",
   "metadata": {},
   "source": [
    "## Submission"
   ]
  },
  {
   "cell_type": "code",
   "execution_count": null,
   "metadata": {
    "collapsed": false
   },
   "outputs": [],
   "source": [
    "clicksPerAd_train = pd.read_csv(\"../generated/clicks_shows_PerAd.csv\", usecols=['ad_id', 'clicksPerShows'])\n",
    "clicks_test = pd.read_csv(\"../download/clicks_test.csv\")\n",
    "prediction = model_prediction('clicksPerShows', clicksPerAd_train, clicks_test)\n",
    "prediction.head(20)"
   ]
  },
  {
   "cell_type": "code",
   "execution_count": null,
   "metadata": {
    "collapsed": true
   },
   "outputs": [],
   "source": [
    "prediction.to_csv(\"../submissions/solution_2.csv\", index=False)"
   ]
  }
 ],
 "metadata": {
  "anaconda-cloud": {},
  "kernelspec": {
   "display_name": "Python [Root]",
   "language": "python",
   "name": "Python [Root]"
  },
  "language_info": {
   "codemirror_mode": {
    "name": "ipython",
    "version": 2
   },
   "file_extension": ".py",
   "mimetype": "text/x-python",
   "name": "python",
   "nbconvert_exporter": "python",
   "pygments_lexer": "ipython2",
   "version": "2.7.11"
  }
 },
 "nbformat": 4,
 "nbformat_minor": 0
}
