{
 "cells": [
  {
   "cell_type": "code",
   "execution_count": 1,
   "metadata": {
    "collapsed": false
   },
   "outputs": [],
   "source": [
    "import pandas as pd\n",
    "#from sklearn.model_selection import KFold\n",
    "from sklearn.model_selection import ShuffleSplit"
   ]
  },
  {
   "cell_type": "markdown",
   "metadata": {},
   "source": [
    "## Model"
   ]
  },
  {
   "cell_type": "code",
   "execution_count": 2,
   "metadata": {
    "collapsed": true
   },
   "outputs": [],
   "source": [
    "def clicksPerAdDay(clicks):\n",
    "    return pd.DataFrame({'clicksPerShows': clicks.groupby(['ad_id', 'day'])['clicked'].mean()\n",
    "                        }).reset_index()"
   ]
  },
  {
   "cell_type": "code",
   "execution_count": 3,
   "metadata": {
    "collapsed": true
   },
   "outputs": [],
   "source": [
    "def join(series):\n",
    "    return ' '.join( map(str, series) )"
   ]
  },
  {
   "cell_type": "code",
   "execution_count": 4,
   "metadata": {
    "collapsed": false
   },
   "outputs": [],
   "source": [
    "def model_prediction_day(clicksPerAdDay_train, test):\n",
    "    by='clicksPerShows'\n",
    "    \n",
    "    meanDay = pd.DataFrame({by: clicksPerAdDay_train.groupby(['day'])[by].mean() }).reset_index()\n",
    "    \n",
    "    prediction = pd.merge(test, clicksPerAdDay_train, how='left', on=['ad_id', 'day'])\n",
    "    \n",
    "    prediction = prediction[prediction[by].notnull()].append(\n",
    "                            pd.merge(prediction[prediction[by].isnull()].drop(by, axis=1), meanDay, how='left', on=['day']) )\n",
    "                           \n",
    "    prediction = prediction.fillna(clicksPerAdDay_train[by].mean())\n",
    "    prediction = prediction.sort_values(by=['display_id', by], ascending=False)\n",
    "                           \n",
    "    return pd.DataFrame({ 'ad_id': prediction.groupby('display_id')['ad_id'].apply(join) }).reset_index()"
   ]
  },
  {
   "cell_type": "code",
   "execution_count": 5,
   "metadata": {
    "collapsed": true
   },
   "outputs": [],
   "source": [
    "%run 'metrics.ipynb'\n",
    "def model_evaluation(actual, prediction):\n",
    "    return mapk(actual['ad_id'], prediction['ad_id'], k=12)"
   ]
  },
  {
   "cell_type": "markdown",
   "metadata": {},
   "source": [
    "## Validation"
   ]
  },
  {
   "cell_type": "code",
   "execution_count": 6,
   "metadata": {
    "collapsed": false
   },
   "outputs": [
    {
     "data": {
      "text/plain": [
       "display_id     87141731\n",
       "document_id    87141731\n",
       "day            87141731\n",
       "ad_id          87141731\n",
       "clicked        87141731\n",
       "dtype: int64"
      ]
     },
     "execution_count": 6,
     "metadata": {},
     "output_type": "execute_result"
    }
   ],
   "source": [
    "data = pd.read_csv(\"../generated/clicks_docs_train.csv\")\n",
    "data.count()"
   ]
  },
  {
   "cell_type": "code",
   "execution_count": 7,
   "metadata": {
    "collapsed": false
   },
   "outputs": [
    {
     "data": {
      "text/plain": [
       "display_id    23120126\n",
       "dtype: int64"
      ]
     },
     "execution_count": 7,
     "metadata": {},
     "output_type": "execute_result"
    }
   ],
   "source": [
    "displays = pd.read_csv(\"../download/events.csv\", usecols=['display_id'])\n",
    "displays.count()"
   ]
  },
  {
   "cell_type": "code",
   "execution_count": 8,
   "metadata": {
    "collapsed": false
   },
   "outputs": [
    {
     "name": "stdout",
     "output_type": "stream",
     "text": [
      "17340094 5780032\n"
     ]
    }
   ],
   "source": [
    "#kf = KFold(n_splits=5)\n",
    "#train, test = kf.split(displays).next()\n",
    "ss = ShuffleSplit(n_splits=1, test_size=0.25, random_state=0)\n",
    "train_index, test_index = ss.split(displays).next()\n",
    "\n",
    "print len(train_index), len(test_index)"
   ]
  },
  {
   "cell_type": "code",
   "execution_count": 9,
   "metadata": {
    "collapsed": true
   },
   "outputs": [],
   "source": [
    "clicksPerAdDay_train = clicksPerAdDay( pd.merge(data, displays.iloc[train_index], on=['display_id']) )\n",
    "clicks_test_sample = pd.merge(data, displays.iloc[test_index], on=['display_id'])\n",
    "del displays\n",
    "validation = clicks_test_sample[clicks_test_sample['clicked']==1].astype({'ad_id':str})"
   ]
  },
  {
   "cell_type": "code",
   "execution_count": 10,
   "metadata": {
    "collapsed": false
   },
   "outputs": [
    {
     "name": "stdout",
     "output_type": "stream",
     "text": [
      "0.643245181675\n"
     ]
    }
   ],
   "source": [
    "print model_evaluation(validation, model_prediction_day(clicksPerAdDay_train, clicks_test_sample))"
   ]
  },
  {
   "cell_type": "raw",
   "metadata": {},
   "source": [
    "Solution_3 : 0.643245181675\n",
    "Solution_2 : 0.64368362085"
   ]
  },
  {
   "cell_type": "markdown",
   "metadata": {},
   "source": [
    "## Submission"
   ]
  },
  {
   "cell_type": "code",
   "execution_count": 7,
   "metadata": {
    "collapsed": true
   },
   "outputs": [],
   "source": [
    "clicksPerAdDay_train = pd.read_csv(\"../generated/clicks_shows_PerAdDay.csv\", usecols=['ad_id', 'day', 'clicksPerShows'])"
   ]
  },
  {
   "cell_type": "code",
   "execution_count": 8,
   "metadata": {
    "collapsed": true
   },
   "outputs": [],
   "source": [
    "clicks_test = pd.read_csv(\"../generated/clicks_docs_test.csv\")"
   ]
  },
  {
   "cell_type": "code",
   "execution_count": 17,
   "metadata": {
    "collapsed": false
   },
   "outputs": [],
   "source": [
    "prediction = model_prediction_day(clicksPerAdDay_train, clicks_test)"
   ]
  },
  {
   "cell_type": "code",
   "execution_count": null,
   "metadata": {
    "collapsed": true
   },
   "outputs": [],
   "source": [
    "prediction.head()"
   ]
  },
  {
   "cell_type": "code",
   "execution_count": 19,
   "metadata": {
    "collapsed": false
   },
   "outputs": [],
   "source": [
    "prediction.to_csv(\"../submissions/solution_3.csv\", index=False)"
   ]
  },
  {
   "cell_type": "code",
   "execution_count": null,
   "metadata": {
    "collapsed": true
   },
   "outputs": [],
   "source": []
  }
 ],
 "metadata": {
  "anaconda-cloud": {},
  "kernelspec": {
   "display_name": "Python [Root]",
   "language": "python",
   "name": "Python [Root]"
  },
  "language_info": {
   "codemirror_mode": {
    "name": "ipython",
    "version": 2
   },
   "file_extension": ".py",
   "mimetype": "text/x-python",
   "name": "python",
   "nbconvert_exporter": "python",
   "pygments_lexer": "ipython2",
   "version": "2.7.11"
  }
 },
 "nbformat": 4,
 "nbformat_minor": 0
}
