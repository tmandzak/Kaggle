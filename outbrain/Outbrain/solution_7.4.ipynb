{
 "cells": [
  {
   "cell_type": "code",
   "execution_count": 1,
   "metadata": {
    "collapsed": false
   },
   "outputs": [],
   "source": [
    "import pandas as pd\n",
    "import numpy as np\n",
    "%matplotlib inline"
   ]
  },
  {
   "cell_type": "markdown",
   "metadata": {},
   "source": [
    "## Model"
   ]
  },
  {
   "cell_type": "raw",
   "metadata": {
    "collapsed": true
   },
   "source": [
    "def clicksPerAd(clicks, group_by=['ad_id', 'adsPerDisplay'], alpha=10, beta=0.1, margin=0):\n",
    "\n",
    "    res = pd.DataFrame({'clicked': clicks.groupby(group_by)['clicked'].sum(),\n",
    "                         'viewed': clicks.groupby(group_by)['clicked'].size()\n",
    "                          }).reset_index()\n",
    "    \n",
    "    #res_mean = clicks['clicked'].mean()\n",
    "    res_mean = clicks[clicks.total_viewed>margin]['clicked'].mean()\n",
    "   \n",
    "    clicksPerAd_train_means = pd.DataFrame({'mean':clicks.groupby('adsPerDisplay')['clicked'].mean(),\n",
    "                                          'viewed':clicks.groupby('adsPerDisplay')['clicked'].size()                                           \n",
    "                                           }).reset_index()\n",
    "    clicksPerAd_train_means['margin'] = clicksPerAd_train_means['viewed'] / len(clicks['clicked']) * margin\n",
    "    clicksPerAd_train_means.drop(['viewed'], axis=1, inplace=True)\n",
    "    \n",
    "    res = res.merge(clicksPerAd_train_means, on='adsPerDisplay')\n",
    "    res['clicksPerShows'] = (beta*res_mean + alpha*res['mean'] + res['clicked']) / (beta + alpha + res['viewed'])\n",
    "    res.drop(['clicked', 'mean'], axis=1, inplace=True)\n",
    "   \n",
    "        \n",
    "    return res"
   ]
  },
  {
   "cell_type": "code",
   "execution_count": 26,
   "metadata": {
    "collapsed": true
   },
   "outputs": [],
   "source": [
    "def join(series):\n",
    "    #return ' '.join( str(list(series)).strip('[]').split(', ') )\n",
    "    return ' '.join( map(str, series) )"
   ]
  },
  {
   "cell_type": "raw",
   "metadata": {
    "collapsed": false
   },
   "source": [
    "def model_prediction(clicksPerAd_train, test, on=['ad_id', 'adsPerDisplay']):\n",
    "    prediction = pd.merge(test, clicksPerAd_train, how='left', on = on) \n",
    "    \n",
    "    by = on[1:]\n",
    "    clicksPerAd_train_means = pd.DataFrame({'clicksPerShows':clicksPerAd_train.groupby(by)['clicksPerShows'].mean()}).reset_index()\n",
    "    \n",
    "    index = pd.isnull(prediction['clicksPerShows'])\n",
    "    prediction_nulls = prediction[index].copy()\n",
    "    prediction_nulls.drop(['clicksPerShows'], axis=1, inplace=True)\n",
    "    prediction_nulls = prediction_nulls.merge(clicksPerAd_train_means, how='left', on = by)#.fillna(clicksPerAd_train['clicksPerShows'].mean())\n",
    "    prediction = pd.concat([prediction[~index], prediction_nulls])\n",
    "    \n",
    "    prediction = prediction.sort_values(by=['display_id', 'clicksPerShows'], ascending=[True, False])\n",
    "    #print len(prediction[prediction['clicksPerShows'].isnull()])\n",
    "    \n",
    "    return pd.DataFrame({ 'ad_id': prediction.groupby('display_id')['ad_id'].apply(join) }).reset_index()"
   ]
  },
  {
   "cell_type": "code",
   "execution_count": 27,
   "metadata": {
    "collapsed": true
   },
   "outputs": [],
   "source": [
    "%run 'metrics.ipynb'\n",
    "def model_evaluation(actual, prediction):\n",
    "    return mapk(actual['ad_id'], prediction['ad_id'], k=12)"
   ]
  },
  {
   "cell_type": "code",
   "execution_count": 3,
   "metadata": {
    "collapsed": false
   },
   "outputs": [
    {
     "data": {
      "text/html": [
       "<div>\n",
       "<table border=\"1\" class=\"dataframe\">\n",
       "  <thead>\n",
       "    <tr style=\"text-align: right;\">\n",
       "      <th></th>\n",
       "      <th>display_id</th>\n",
       "      <th>document_id</th>\n",
       "      <th>timestamp</th>\n",
       "      <th>traffic_source</th>\n",
       "      <th>platform</th>\n",
       "      <th>day</th>\n",
       "      <th>hour</th>\n",
       "      <th>geo</th>\n",
       "      <th>ad_id</th>\n",
       "      <th>clicked</th>\n",
       "      <th>adsPerDisplay</th>\n",
       "      <th>clicksPerShows</th>\n",
       "    </tr>\n",
       "  </thead>\n",
       "  <tbody>\n",
       "    <tr>\n",
       "      <th>0</th>\n",
       "      <td>8</td>\n",
       "      <td>1330329</td>\n",
       "      <td>638</td>\n",
       "      <td>1.0</td>\n",
       "      <td>2.0</td>\n",
       "      <td>1</td>\n",
       "      <td>7</td>\n",
       "      <td>2765</td>\n",
       "      <td>95724</td>\n",
       "      <td>0</td>\n",
       "      <td>4</td>\n",
       "      <td>0.034785</td>\n",
       "    </tr>\n",
       "    <tr>\n",
       "      <th>1</th>\n",
       "      <td>8</td>\n",
       "      <td>1330329</td>\n",
       "      <td>638</td>\n",
       "      <td>1.0</td>\n",
       "      <td>2.0</td>\n",
       "      <td>1</td>\n",
       "      <td>7</td>\n",
       "      <td>2765</td>\n",
       "      <td>175694</td>\n",
       "      <td>0</td>\n",
       "      <td>4</td>\n",
       "      <td>0.202327</td>\n",
       "    </tr>\n",
       "    <tr>\n",
       "      <th>2</th>\n",
       "      <td>8</td>\n",
       "      <td>1330329</td>\n",
       "      <td>638</td>\n",
       "      <td>1.0</td>\n",
       "      <td>2.0</td>\n",
       "      <td>1</td>\n",
       "      <td>7</td>\n",
       "      <td>2765</td>\n",
       "      <td>280430</td>\n",
       "      <td>1</td>\n",
       "      <td>4</td>\n",
       "      <td>0.256853</td>\n",
       "    </tr>\n",
       "    <tr>\n",
       "      <th>3</th>\n",
       "      <td>8</td>\n",
       "      <td>1330329</td>\n",
       "      <td>638</td>\n",
       "      <td>1.0</td>\n",
       "      <td>2.0</td>\n",
       "      <td>1</td>\n",
       "      <td>7</td>\n",
       "      <td>2765</td>\n",
       "      <td>329774</td>\n",
       "      <td>0</td>\n",
       "      <td>4</td>\n",
       "      <td>0.052426</td>\n",
       "    </tr>\n",
       "    <tr>\n",
       "      <th>4</th>\n",
       "      <td>2657</td>\n",
       "      <td>1271490</td>\n",
       "      <td>185255</td>\n",
       "      <td>1.0</td>\n",
       "      <td>2.0</td>\n",
       "      <td>1</td>\n",
       "      <td>7</td>\n",
       "      <td>2765</td>\n",
       "      <td>70081</td>\n",
       "      <td>0</td>\n",
       "      <td>4</td>\n",
       "      <td>0.150145</td>\n",
       "    </tr>\n",
       "  </tbody>\n",
       "</table>\n",
       "</div>"
      ],
      "text/plain": [
       "   display_id  document_id  timestamp  traffic_source  platform  day  hour  \\\n",
       "0           8      1330329        638             1.0       2.0    1     7   \n",
       "1           8      1330329        638             1.0       2.0    1     7   \n",
       "2           8      1330329        638             1.0       2.0    1     7   \n",
       "3           8      1330329        638             1.0       2.0    1     7   \n",
       "4        2657      1271490     185255             1.0       2.0    1     7   \n",
       "\n",
       "    geo   ad_id  clicked  adsPerDisplay  clicksPerShows  \n",
       "0  2765   95724        0              4        0.034785  \n",
       "1  2765  175694        0              4        0.202327  \n",
       "2  2765  280430        1              4        0.256853  \n",
       "3  2765  329774        0              4        0.052426  \n",
       "4  2765   70081        0              4        0.150145  "
      ]
     },
     "execution_count": 3,
     "metadata": {},
     "output_type": "execute_result"
    }
   ],
   "source": [
    "pd.read_csv(\"../generated/final/clicks_train_sample.csv\", nrows=10).head()"
   ]
  },
  {
   "cell_type": "code",
   "execution_count": 4,
   "metadata": {
    "collapsed": true
   },
   "outputs": [],
   "source": [
    "group_by=['ad_id', 'adsPerDisplay']\n",
    "usecols = ['display_id', 'ad_id', 'adsPerDisplay', 'clicked']\n",
    "alpha=10\n",
    "beta=0.1\n",
    "bottom=30"
   ]
  },
  {
   "cell_type": "markdown",
   "metadata": {},
   "source": [
    "## Validation"
   ]
  },
  {
   "cell_type": "markdown",
   "metadata": {},
   "source": [
    "### Step 1"
   ]
  },
  {
   "cell_type": "code",
   "execution_count": null,
   "metadata": {
    "collapsed": true
   },
   "outputs": [],
   "source": [
    "clicks = pd.read_csv(\"../generated/final/clicks_train_sample.csv\", usecols = usecols)\n",
    "clicks.count()"
   ]
  },
  {
   "cell_type": "code",
   "execution_count": null,
   "metadata": {
    "collapsed": false
   },
   "outputs": [],
   "source": [
    "res = pd.DataFrame({'total_viewed': clicks.groupby(['ad_id'])['clicked'].size() }).reset_index()\n",
    "res.count()"
   ]
  },
  {
   "cell_type": "code",
   "execution_count": null,
   "metadata": {
    "collapsed": false,
    "scrolled": true
   },
   "outputs": [],
   "source": [
    "clicks = clicks.merge(res, on=['ad_id'])\n",
    "del res\n",
    "clicks.head()"
   ]
  },
  {
   "cell_type": "code",
   "execution_count": null,
   "metadata": {
    "collapsed": false
   },
   "outputs": [],
   "source": [
    "res = pd.DataFrame({'group_viewed':clicks.groupby(group_by)['clicked'].size()}).reset_index()\n",
    "res.head()"
   ]
  },
  {
   "cell_type": "code",
   "execution_count": null,
   "metadata": {
    "collapsed": false
   },
   "outputs": [],
   "source": [
    "clicks = clicks.merge(res, on=group_by)\n",
    "del res\n",
    "clicks.head()"
   ]
  },
  {
   "cell_type": "code",
   "execution_count": null,
   "metadata": {
    "collapsed": true
   },
   "outputs": [],
   "source": [
    "clicks.to_csv(\"../generated/solutions/8_clicks_train_sample.csv\", index=False)"
   ]
  },
  {
   "cell_type": "markdown",
   "metadata": {},
   "source": [
    "### Step 2"
   ]
  },
  {
   "cell_type": "code",
   "execution_count": null,
   "metadata": {
    "collapsed": true
   },
   "outputs": [],
   "source": [
    "clicks = pd.read_csv(\"../generated/solutions/8_clicks_train_sample.csv\")"
   ]
  },
  {
   "cell_type": "code",
   "execution_count": null,
   "metadata": {
    "collapsed": false
   },
   "outputs": [],
   "source": [
    "res = pd.DataFrame({'group_size':clicks.groupby('adsPerDisplay')['clicked'].size()}).reset_index()\n",
    "total_size = len(clicks['clicked'])\n",
    "res['group_bottom'] = np.rint(res['group_size'] / total_size * bottom).astype(int)\n",
    "res.drop(['group_size'], axis=1, inplace=True)\n",
    "res.head(12)"
   ]
  },
  {
   "cell_type": "code",
   "execution_count": null,
   "metadata": {
    "collapsed": false
   },
   "outputs": [],
   "source": [
    "clicks = clicks.merge(res, on=['adsPerDisplay'])\n",
    "clicks.head()"
   ]
  },
  {
   "cell_type": "code",
   "execution_count": null,
   "metadata": {
    "collapsed": false
   },
   "outputs": [],
   "source": [
    "clicks.to_csv(\"../generated/solutions/8_clicks_train_sample.b20.csv\", index=False)"
   ]
  },
  {
   "cell_type": "code",
   "execution_count": null,
   "metadata": {
    "collapsed": false
   },
   "outputs": [],
   "source": [
    "clicksPerAd_train = pd.DataFrame({'group_clicked': clicks.groupby(group_by)['clicked'].sum(),\n",
    "                                   'group_viewed': clicks.groupby(group_by)['clicked'].size()\n",
    "                   }).reset_index()\n",
    "\n",
    "clicksPerAd_train = clicksPerAd_train.merge(res, on='adsPerDisplay')\n",
    "clicksPerAd_train.count()"
   ]
  },
  {
   "cell_type": "code",
   "execution_count": null,
   "metadata": {
    "collapsed": false
   },
   "outputs": [],
   "source": [
    "clicksPerAd_train.head()"
   ]
  },
  {
   "cell_type": "code",
   "execution_count": null,
   "metadata": {
    "collapsed": true
   },
   "outputs": [],
   "source": [
    "clicksPerAd_train.to_csv(\"../generated/solutions/8_clicksPerAd_train.b20.csv\", index=False)"
   ]
  },
  {
   "cell_type": "markdown",
   "metadata": {},
   "source": [
    "### Step 3"
   ]
  },
  {
   "cell_type": "code",
   "execution_count": 5,
   "metadata": {
    "collapsed": false
   },
   "outputs": [
    {
     "data": {
      "text/html": [
       "<div>\n",
       "<table border=\"1\" class=\"dataframe\">\n",
       "  <thead>\n",
       "    <tr style=\"text-align: right;\">\n",
       "      <th></th>\n",
       "      <th>display_id</th>\n",
       "      <th>ad_id</th>\n",
       "      <th>clicked</th>\n",
       "      <th>adsPerDisplay</th>\n",
       "      <th>total_viewed</th>\n",
       "      <th>group_viewed</th>\n",
       "      <th>group_bottom</th>\n",
       "    </tr>\n",
       "  </thead>\n",
       "  <tbody>\n",
       "    <tr>\n",
       "      <th>0</th>\n",
       "      <td>8</td>\n",
       "      <td>95724</td>\n",
       "      <td>0</td>\n",
       "      <td>4</td>\n",
       "      <td>8337</td>\n",
       "      <td>3757</td>\n",
       "      <td>7</td>\n",
       "    </tr>\n",
       "    <tr>\n",
       "      <th>1</th>\n",
       "      <td>280348</td>\n",
       "      <td>95724</td>\n",
       "      <td>0</td>\n",
       "      <td>4</td>\n",
       "      <td>8337</td>\n",
       "      <td>3757</td>\n",
       "      <td>7</td>\n",
       "    </tr>\n",
       "    <tr>\n",
       "      <th>2</th>\n",
       "      <td>3960762</td>\n",
       "      <td>95724</td>\n",
       "      <td>0</td>\n",
       "      <td>4</td>\n",
       "      <td>8337</td>\n",
       "      <td>3757</td>\n",
       "      <td>7</td>\n",
       "    </tr>\n",
       "    <tr>\n",
       "      <th>3</th>\n",
       "      <td>7315944</td>\n",
       "      <td>95724</td>\n",
       "      <td>0</td>\n",
       "      <td>4</td>\n",
       "      <td>8337</td>\n",
       "      <td>3757</td>\n",
       "      <td>7</td>\n",
       "    </tr>\n",
       "    <tr>\n",
       "      <th>4</th>\n",
       "      <td>7492181</td>\n",
       "      <td>95724</td>\n",
       "      <td>0</td>\n",
       "      <td>4</td>\n",
       "      <td>8337</td>\n",
       "      <td>3757</td>\n",
       "      <td>7</td>\n",
       "    </tr>\n",
       "  </tbody>\n",
       "</table>\n",
       "</div>"
      ],
      "text/plain": [
       "   display_id  ad_id  clicked  adsPerDisplay  total_viewed  group_viewed  \\\n",
       "0           8  95724        0              4          8337          3757   \n",
       "1      280348  95724        0              4          8337          3757   \n",
       "2     3960762  95724        0              4          8337          3757   \n",
       "3     7315944  95724        0              4          8337          3757   \n",
       "4     7492181  95724        0              4          8337          3757   \n",
       "\n",
       "   group_bottom  \n",
       "0             7  \n",
       "1             7  \n",
       "2             7  \n",
       "3             7  \n",
       "4             7  "
      ]
     },
     "execution_count": 5,
     "metadata": {},
     "output_type": "execute_result"
    }
   ],
   "source": [
    "clicks = pd.read_csv(\"../generated/solutions/8_clicks_train_sample.b30.csv\")\n",
    "clicks.head()"
   ]
  },
  {
   "cell_type": "code",
   "execution_count": 6,
   "metadata": {
    "collapsed": false
   },
   "outputs": [
    {
     "data": {
      "text/plain": [
       "display_id       65355241\n",
       "ad_id            65355241\n",
       "clicked          65355241\n",
       "adsPerDisplay    65355241\n",
       "total_viewed     65355241\n",
       "group_viewed     65355241\n",
       "group_bottom     65355241\n",
       "dtype: int64"
      ]
     },
     "execution_count": 6,
     "metadata": {},
     "output_type": "execute_result"
    }
   ],
   "source": [
    "clicks.count()"
   ]
  },
  {
   "cell_type": "code",
   "execution_count": 7,
   "metadata": {
    "collapsed": false
   },
   "outputs": [
    {
     "data": {
      "text/html": [
       "<div>\n",
       "<table border=\"1\" class=\"dataframe\">\n",
       "  <thead>\n",
       "    <tr style=\"text-align: right;\">\n",
       "      <th></th>\n",
       "      <th>ad_id</th>\n",
       "      <th>adsPerDisplay</th>\n",
       "      <th>group_clicked</th>\n",
       "      <th>group_viewed</th>\n",
       "      <th>group_bottom</th>\n",
       "    </tr>\n",
       "  </thead>\n",
       "  <tbody>\n",
       "    <tr>\n",
       "      <th>0</th>\n",
       "      <td>1</td>\n",
       "      <td>3</td>\n",
       "      <td>0</td>\n",
       "      <td>1</td>\n",
       "      <td>2</td>\n",
       "    </tr>\n",
       "    <tr>\n",
       "      <th>1</th>\n",
       "      <td>3</td>\n",
       "      <td>3</td>\n",
       "      <td>0</td>\n",
       "      <td>1</td>\n",
       "      <td>2</td>\n",
       "    </tr>\n",
       "    <tr>\n",
       "      <th>2</th>\n",
       "      <td>4</td>\n",
       "      <td>3</td>\n",
       "      <td>0</td>\n",
       "      <td>3</td>\n",
       "      <td>2</td>\n",
       "    </tr>\n",
       "    <tr>\n",
       "      <th>3</th>\n",
       "      <td>7</td>\n",
       "      <td>3</td>\n",
       "      <td>3</td>\n",
       "      <td>22</td>\n",
       "      <td>2</td>\n",
       "    </tr>\n",
       "    <tr>\n",
       "      <th>4</th>\n",
       "      <td>17</td>\n",
       "      <td>3</td>\n",
       "      <td>0</td>\n",
       "      <td>1</td>\n",
       "      <td>2</td>\n",
       "    </tr>\n",
       "  </tbody>\n",
       "</table>\n",
       "</div>"
      ],
      "text/plain": [
       "   ad_id  adsPerDisplay  group_clicked  group_viewed  group_bottom\n",
       "0      1              3              0             1             2\n",
       "1      3              3              0             1             2\n",
       "2      4              3              0             3             2\n",
       "3      7              3              3            22             2\n",
       "4     17              3              0             1             2"
      ]
     },
     "execution_count": 7,
     "metadata": {},
     "output_type": "execute_result"
    }
   ],
   "source": [
    "clicksPerAd_train = pd.read_csv(\"../generated/solutions/8_clicksPerAd_train.b30.csv\")\n",
    "clicksPerAd_train.head()"
   ]
  },
  {
   "cell_type": "code",
   "execution_count": 10,
   "metadata": {
    "collapsed": true
   },
   "outputs": [],
   "source": [
    "clicksPerAd_train_means = pd.DataFrame({'group_mean':clicks.groupby('adsPerDisplay')['clicked'].mean()\n",
    "                                      #'viewed':clicks.groupby('adsPerDisplay')['clicked'].size() #???                                          \n",
    "                                        }).reset_index()"
   ]
  },
  {
   "cell_type": "raw",
   "metadata": {
    "collapsed": false
   },
   "source": [
    "clicksPerAd_train = clicksPerAd(clicks_train_sample,  group_by, alpha=0, beta=0, margin=10)\n",
    "clicksPerAd_train.count()"
   ]
  },
  {
   "cell_type": "code",
   "execution_count": 11,
   "metadata": {
    "collapsed": false
   },
   "outputs": [
    {
     "data": {
      "text/html": [
       "<div>\n",
       "<table border=\"1\" class=\"dataframe\">\n",
       "  <thead>\n",
       "    <tr style=\"text-align: right;\">\n",
       "      <th></th>\n",
       "      <th>adsPerDisplay</th>\n",
       "      <th>group_mean</th>\n",
       "    </tr>\n",
       "  </thead>\n",
       "  <tbody>\n",
       "    <tr>\n",
       "      <th>0</th>\n",
       "      <td>2</td>\n",
       "      <td>0.500000</td>\n",
       "    </tr>\n",
       "    <tr>\n",
       "      <th>1</th>\n",
       "      <td>3</td>\n",
       "      <td>0.333333</td>\n",
       "    </tr>\n",
       "    <tr>\n",
       "      <th>2</th>\n",
       "      <td>4</td>\n",
       "      <td>0.250000</td>\n",
       "    </tr>\n",
       "    <tr>\n",
       "      <th>3</th>\n",
       "      <td>5</td>\n",
       "      <td>0.200000</td>\n",
       "    </tr>\n",
       "    <tr>\n",
       "      <th>4</th>\n",
       "      <td>6</td>\n",
       "      <td>0.166667</td>\n",
       "    </tr>\n",
       "    <tr>\n",
       "      <th>5</th>\n",
       "      <td>7</td>\n",
       "      <td>0.142857</td>\n",
       "    </tr>\n",
       "    <tr>\n",
       "      <th>6</th>\n",
       "      <td>8</td>\n",
       "      <td>0.125000</td>\n",
       "    </tr>\n",
       "    <tr>\n",
       "      <th>7</th>\n",
       "      <td>9</td>\n",
       "      <td>0.111111</td>\n",
       "    </tr>\n",
       "    <tr>\n",
       "      <th>8</th>\n",
       "      <td>10</td>\n",
       "      <td>0.100000</td>\n",
       "    </tr>\n",
       "    <tr>\n",
       "      <th>9</th>\n",
       "      <td>11</td>\n",
       "      <td>0.090909</td>\n",
       "    </tr>\n",
       "    <tr>\n",
       "      <th>10</th>\n",
       "      <td>12</td>\n",
       "      <td>0.083333</td>\n",
       "    </tr>\n",
       "  </tbody>\n",
       "</table>\n",
       "</div>"
      ],
      "text/plain": [
       "    adsPerDisplay  group_mean\n",
       "0               2    0.500000\n",
       "1               3    0.333333\n",
       "2               4    0.250000\n",
       "3               5    0.200000\n",
       "4               6    0.166667\n",
       "5               7    0.142857\n",
       "6               8    0.125000\n",
       "7               9    0.111111\n",
       "8              10    0.100000\n",
       "9              11    0.090909\n",
       "10             12    0.083333"
      ]
     },
     "execution_count": 11,
     "metadata": {},
     "output_type": "execute_result"
    }
   ],
   "source": [
    "clicksPerAd_train_means.head(20)"
   ]
  },
  {
   "cell_type": "raw",
   "metadata": {},
   "source": [
    "clicksPerAd_train.drop(['clicksPerShows_x', 'clicksPerShows_y'], axis=1, inplace=True)"
   ]
  },
  {
   "cell_type": "code",
   "execution_count": 12,
   "metadata": {
    "collapsed": false
   },
   "outputs": [
    {
     "data": {
      "text/html": [
       "<div>\n",
       "<table border=\"1\" class=\"dataframe\">\n",
       "  <thead>\n",
       "    <tr style=\"text-align: right;\">\n",
       "      <th></th>\n",
       "      <th>ad_id</th>\n",
       "      <th>adsPerDisplay</th>\n",
       "      <th>group_clicked</th>\n",
       "      <th>group_viewed</th>\n",
       "      <th>group_bottom</th>\n",
       "      <th>group_mean</th>\n",
       "    </tr>\n",
       "  </thead>\n",
       "  <tbody>\n",
       "    <tr>\n",
       "      <th>0</th>\n",
       "      <td>1</td>\n",
       "      <td>3</td>\n",
       "      <td>0</td>\n",
       "      <td>1</td>\n",
       "      <td>2</td>\n",
       "      <td>0.333333</td>\n",
       "    </tr>\n",
       "    <tr>\n",
       "      <th>1</th>\n",
       "      <td>3</td>\n",
       "      <td>3</td>\n",
       "      <td>0</td>\n",
       "      <td>1</td>\n",
       "      <td>2</td>\n",
       "      <td>0.333333</td>\n",
       "    </tr>\n",
       "    <tr>\n",
       "      <th>2</th>\n",
       "      <td>4</td>\n",
       "      <td>3</td>\n",
       "      <td>0</td>\n",
       "      <td>3</td>\n",
       "      <td>2</td>\n",
       "      <td>0.333333</td>\n",
       "    </tr>\n",
       "    <tr>\n",
       "      <th>3</th>\n",
       "      <td>7</td>\n",
       "      <td>3</td>\n",
       "      <td>3</td>\n",
       "      <td>22</td>\n",
       "      <td>2</td>\n",
       "      <td>0.333333</td>\n",
       "    </tr>\n",
       "    <tr>\n",
       "      <th>4</th>\n",
       "      <td>17</td>\n",
       "      <td>3</td>\n",
       "      <td>0</td>\n",
       "      <td>1</td>\n",
       "      <td>2</td>\n",
       "      <td>0.333333</td>\n",
       "    </tr>\n",
       "  </tbody>\n",
       "</table>\n",
       "</div>"
      ],
      "text/plain": [
       "   ad_id  adsPerDisplay  group_clicked  group_viewed  group_bottom  group_mean\n",
       "0      1              3              0             1             2    0.333333\n",
       "1      3              3              0             1             2    0.333333\n",
       "2      4              3              0             3             2    0.333333\n",
       "3      7              3              3            22             2    0.333333\n",
       "4     17              3              0             1             2    0.333333"
      ]
     },
     "execution_count": 12,
     "metadata": {},
     "output_type": "execute_result"
    }
   ],
   "source": [
    "clicksPerAd_train = clicksPerAd_train.merge(clicksPerAd_train_means, on='adsPerDisplay')\n",
    "clicksPerAd_train.head()"
   ]
  },
  {
   "cell_type": "code",
   "execution_count": 13,
   "metadata": {
    "collapsed": false
   },
   "outputs": [
    {
     "data": {
      "text/plain": [
       "0.19362743991717513"
      ]
     },
     "execution_count": 13,
     "metadata": {},
     "output_type": "execute_result"
    }
   ],
   "source": [
    "res_mean = clicks['clicked'].mean()              #clicks[clicks.total_viewed>bottom]['clicked'].mean()\n",
    "res_mean"
   ]
  },
  {
   "cell_type": "code",
   "execution_count": 14,
   "metadata": {
    "collapsed": false
   },
   "outputs": [
    {
     "data": {
      "text/html": [
       "<div>\n",
       "<table border=\"1\" class=\"dataframe\">\n",
       "  <thead>\n",
       "    <tr style=\"text-align: right;\">\n",
       "      <th></th>\n",
       "      <th>ad_id</th>\n",
       "      <th>adsPerDisplay</th>\n",
       "      <th>group_clicked</th>\n",
       "      <th>group_viewed</th>\n",
       "      <th>group_bottom</th>\n",
       "      <th>group_mean</th>\n",
       "      <th>clicksPerShows</th>\n",
       "    </tr>\n",
       "  </thead>\n",
       "  <tbody>\n",
       "    <tr>\n",
       "      <th>0</th>\n",
       "      <td>1</td>\n",
       "      <td>3</td>\n",
       "      <td>0</td>\n",
       "      <td>1</td>\n",
       "      <td>2</td>\n",
       "      <td>0.333333</td>\n",
       "      <td>0.302045</td>\n",
       "    </tr>\n",
       "    <tr>\n",
       "      <th>1</th>\n",
       "      <td>3</td>\n",
       "      <td>3</td>\n",
       "      <td>0</td>\n",
       "      <td>1</td>\n",
       "      <td>2</td>\n",
       "      <td>0.333333</td>\n",
       "      <td>0.302045</td>\n",
       "    </tr>\n",
       "    <tr>\n",
       "      <th>2</th>\n",
       "      <td>4</td>\n",
       "      <td>3</td>\n",
       "      <td>0</td>\n",
       "      <td>3</td>\n",
       "      <td>2</td>\n",
       "      <td>0.333333</td>\n",
       "      <td>0.255931</td>\n",
       "    </tr>\n",
       "    <tr>\n",
       "      <th>3</th>\n",
       "      <td>7</td>\n",
       "      <td>3</td>\n",
       "      <td>3</td>\n",
       "      <td>22</td>\n",
       "      <td>2</td>\n",
       "      <td>0.333333</td>\n",
       "      <td>0.197903</td>\n",
       "    </tr>\n",
       "    <tr>\n",
       "      <th>4</th>\n",
       "      <td>17</td>\n",
       "      <td>3</td>\n",
       "      <td>0</td>\n",
       "      <td>1</td>\n",
       "      <td>2</td>\n",
       "      <td>0.333333</td>\n",
       "      <td>0.302045</td>\n",
       "    </tr>\n",
       "  </tbody>\n",
       "</table>\n",
       "</div>"
      ],
      "text/plain": [
       "   ad_id  adsPerDisplay  group_clicked  group_viewed  group_bottom  \\\n",
       "0      1              3              0             1             2   \n",
       "1      3              3              0             1             2   \n",
       "2      4              3              0             3             2   \n",
       "3      7              3              3            22             2   \n",
       "4     17              3              0             1             2   \n",
       "\n",
       "   group_mean  clicksPerShows  \n",
       "0    0.333333        0.302045  \n",
       "1    0.333333        0.302045  \n",
       "2    0.333333        0.255931  \n",
       "3    0.333333        0.197903  \n",
       "4    0.333333        0.302045  "
      ]
     },
     "execution_count": 14,
     "metadata": {},
     "output_type": "execute_result"
    }
   ],
   "source": [
    "clicksPerAd_train['clicksPerShows'] = (beta*res_mean + alpha*clicksPerAd_train['group_mean'] + clicksPerAd_train['group_clicked']) / (beta + alpha + clicksPerAd_train['group_viewed'])\n",
    "#clicksPerAd_train['clicksPerShows'] = clicksPerAd_train['group_clicked'] / clicksPerAd_train['group_viewed']\n",
    "\n",
    "clicksPerAd_train.head()"
   ]
  },
  {
   "cell_type": "code",
   "execution_count": 15,
   "metadata": {
    "collapsed": true
   },
   "outputs": [],
   "source": [
    "clicksPerAd_train.drop(['group_clicked', 'group_mean'], axis=1, inplace=True)"
   ]
  },
  {
   "cell_type": "code",
   "execution_count": 16,
   "metadata": {
    "collapsed": false
   },
   "outputs": [
    {
     "data": {
      "text/plain": [
       "ad_id             1406219\n",
       "adsPerDisplay     1406219\n",
       "group_viewed      1406219\n",
       "group_bottom      1406219\n",
       "clicksPerShows    1406219\n",
       "dtype: int64"
      ]
     },
     "execution_count": 16,
     "metadata": {},
     "output_type": "execute_result"
    }
   ],
   "source": [
    "clicksPerAd_train.count()"
   ]
  },
  {
   "cell_type": "code",
   "execution_count": 17,
   "metadata": {
    "collapsed": false
   },
   "outputs": [
    {
     "data": {
      "text/plain": [
       "ad_id             506947\n",
       "adsPerDisplay     506947\n",
       "group_viewed      506947\n",
       "group_bottom      506947\n",
       "clicksPerShows    506947\n",
       "dtype: int64"
      ]
     },
     "execution_count": 17,
     "metadata": {},
     "output_type": "execute_result"
    }
   ],
   "source": [
    "clicksPerAd_train_filtered = clicksPerAd_train[clicksPerAd_train['group_viewed']>clicksPerAd_train['group_bottom']].copy()\n",
    "clicksPerAd_train_filtered.count()"
   ]
  },
  {
   "cell_type": "code",
   "execution_count": null,
   "metadata": {
    "collapsed": true
   },
   "outputs": [],
   "source": []
  },
  {
   "cell_type": "code",
   "execution_count": 18,
   "metadata": {
    "collapsed": false
   },
   "outputs": [
    {
     "data": {
      "text/plain": [
       "display_id       21786490\n",
       "ad_id            21786490\n",
       "clicked          21786490\n",
       "adsPerDisplay    21786490\n",
       "dtype: int64"
      ]
     },
     "execution_count": 18,
     "metadata": {},
     "output_type": "execute_result"
    }
   ],
   "source": [
    "test = pd.read_csv(\"../generated/final/clicks_test_sample.csv\", usecols = usecols)\n",
    "test.count()"
   ]
  },
  {
   "cell_type": "code",
   "execution_count": 19,
   "metadata": {
    "collapsed": false
   },
   "outputs": [
    {
     "data": {
      "text/plain": [
       "display_id       4220025\n",
       "ad_id            4220025\n",
       "clicked          4220025\n",
       "adsPerDisplay    4220025\n",
       "dtype: int64"
      ]
     },
     "execution_count": 19,
     "metadata": {},
     "output_type": "execute_result"
    }
   ],
   "source": [
    "validation = test[test['clicked']==1].astype({'ad_id':str}).sort_values('display_id')\n",
    "validation.count()"
   ]
  },
  {
   "cell_type": "code",
   "execution_count": 20,
   "metadata": {
    "collapsed": false
   },
   "outputs": [
    {
     "data": {
      "text/html": [
       "<div>\n",
       "<table border=\"1\" class=\"dataframe\">\n",
       "  <thead>\n",
       "    <tr style=\"text-align: right;\">\n",
       "      <th></th>\n",
       "      <th>display_id</th>\n",
       "      <th>ad_id</th>\n",
       "      <th>clicked</th>\n",
       "      <th>adsPerDisplay</th>\n",
       "    </tr>\n",
       "  </thead>\n",
       "  <tbody>\n",
       "    <tr>\n",
       "      <th>18142714</th>\n",
       "      <td>1</td>\n",
       "      <td>144739</td>\n",
       "      <td>1</td>\n",
       "      <td>6</td>\n",
       "    </tr>\n",
       "    <tr>\n",
       "      <th>14412118</th>\n",
       "      <td>7</td>\n",
       "      <td>105766</td>\n",
       "      <td>1</td>\n",
       "      <td>3</td>\n",
       "    </tr>\n",
       "    <tr>\n",
       "      <th>11270842</th>\n",
       "      <td>9</td>\n",
       "      <td>140940</td>\n",
       "      <td>1</td>\n",
       "      <td>4</td>\n",
       "    </tr>\n",
       "    <tr>\n",
       "      <th>377269</th>\n",
       "      <td>14</td>\n",
       "      <td>224171</td>\n",
       "      <td>1</td>\n",
       "      <td>4</td>\n",
       "    </tr>\n",
       "    <tr>\n",
       "      <th>18233315</th>\n",
       "      <td>26</td>\n",
       "      <td>152193</td>\n",
       "      <td>1</td>\n",
       "      <td>2</td>\n",
       "    </tr>\n",
       "  </tbody>\n",
       "</table>\n",
       "</div>"
      ],
      "text/plain": [
       "          display_id   ad_id  clicked  adsPerDisplay\n",
       "18142714           1  144739        1              6\n",
       "14412118           7  105766        1              3\n",
       "11270842           9  140940        1              4\n",
       "377269            14  224171        1              4\n",
       "18233315          26  152193        1              2"
      ]
     },
     "execution_count": 20,
     "metadata": {},
     "output_type": "execute_result"
    }
   ],
   "source": [
    "validation.head()"
   ]
  },
  {
   "cell_type": "code",
   "execution_count": 21,
   "metadata": {
    "collapsed": false
   },
   "outputs": [
    {
     "data": {
      "text/html": [
       "<div>\n",
       "<table border=\"1\" class=\"dataframe\">\n",
       "  <thead>\n",
       "    <tr style=\"text-align: right;\">\n",
       "      <th></th>\n",
       "      <th>ad_id</th>\n",
       "      <th>adsPerDisplay</th>\n",
       "      <th>group_viewed</th>\n",
       "      <th>group_bottom</th>\n",
       "      <th>clicksPerShows</th>\n",
       "    </tr>\n",
       "  </thead>\n",
       "  <tbody>\n",
       "    <tr>\n",
       "      <th>2</th>\n",
       "      <td>4</td>\n",
       "      <td>3</td>\n",
       "      <td>3</td>\n",
       "      <td>2</td>\n",
       "      <td>0.255931</td>\n",
       "    </tr>\n",
       "    <tr>\n",
       "      <th>3</th>\n",
       "      <td>7</td>\n",
       "      <td>3</td>\n",
       "      <td>22</td>\n",
       "      <td>2</td>\n",
       "      <td>0.197903</td>\n",
       "    </tr>\n",
       "    <tr>\n",
       "      <th>13</th>\n",
       "      <td>44</td>\n",
       "      <td>3</td>\n",
       "      <td>6</td>\n",
       "      <td>2</td>\n",
       "      <td>0.208242</td>\n",
       "    </tr>\n",
       "    <tr>\n",
       "      <th>14</th>\n",
       "      <td>45</td>\n",
       "      <td>3</td>\n",
       "      <td>9</td>\n",
       "      <td>2</td>\n",
       "      <td>0.175534</td>\n",
       "    </tr>\n",
       "    <tr>\n",
       "      <th>15</th>\n",
       "      <td>48</td>\n",
       "      <td>3</td>\n",
       "      <td>4</td>\n",
       "      <td>2</td>\n",
       "      <td>0.379624</td>\n",
       "    </tr>\n",
       "  </tbody>\n",
       "</table>\n",
       "</div>"
      ],
      "text/plain": [
       "    ad_id  adsPerDisplay  group_viewed  group_bottom  clicksPerShows\n",
       "2       4              3             3             2        0.255931\n",
       "3       7              3            22             2        0.197903\n",
       "13     44              3             6             2        0.208242\n",
       "14     45              3             9             2        0.175534\n",
       "15     48              3             4             2        0.379624"
      ]
     },
     "execution_count": 21,
     "metadata": {},
     "output_type": "execute_result"
    }
   ],
   "source": [
    "on=['ad_id', 'adsPerDisplay']\n",
    "clicksPerAd_train_filtered.head()"
   ]
  },
  {
   "cell_type": "code",
   "execution_count": 22,
   "metadata": {
    "collapsed": false
   },
   "outputs": [
    {
     "data": {
      "text/plain": [
       "display_id        21786490\n",
       "ad_id             21786490\n",
       "clicked           21786490\n",
       "adsPerDisplay     21786490\n",
       "group_viewed      21089900\n",
       "group_bottom      21089900\n",
       "clicksPerShows    21089900\n",
       "dtype: int64"
      ]
     },
     "execution_count": 22,
     "metadata": {},
     "output_type": "execute_result"
    }
   ],
   "source": [
    "prediction = pd.merge(test, clicksPerAd_train_filtered, how='left', on = ['ad_id', 'adsPerDisplay']) \n",
    "prediction.count()"
   ]
  },
  {
   "cell_type": "raw",
   "metadata": {},
   "source": [
    "clicksPerAd_train_filtered = clicksPerAd_train[clicksPerAd_train['group_viewed']>clicksPerAd_train['group_bottom']].copy()\n",
    "clicksPerAd_train_filtered.count()"
   ]
  },
  {
   "cell_type": "code",
   "execution_count": 23,
   "metadata": {
    "collapsed": false
   },
   "outputs": [
    {
     "data": {
      "text/html": [
       "<div>\n",
       "<table border=\"1\" class=\"dataframe\">\n",
       "  <thead>\n",
       "    <tr style=\"text-align: right;\">\n",
       "      <th></th>\n",
       "      <th>adsPerDisplay</th>\n",
       "      <th>clicksPerShows</th>\n",
       "    </tr>\n",
       "  </thead>\n",
       "  <tbody>\n",
       "    <tr>\n",
       "      <th>0</th>\n",
       "      <td>2</td>\n",
       "      <td>0.483844</td>\n",
       "    </tr>\n",
       "    <tr>\n",
       "      <th>1</th>\n",
       "      <td>3</td>\n",
       "      <td>0.323173</td>\n",
       "    </tr>\n",
       "    <tr>\n",
       "      <th>2</th>\n",
       "      <td>4</td>\n",
       "      <td>0.238194</td>\n",
       "    </tr>\n",
       "    <tr>\n",
       "      <th>3</th>\n",
       "      <td>5</td>\n",
       "      <td>0.191648</td>\n",
       "    </tr>\n",
       "    <tr>\n",
       "      <th>4</th>\n",
       "      <td>6</td>\n",
       "      <td>0.158580</td>\n",
       "    </tr>\n",
       "    <tr>\n",
       "      <th>5</th>\n",
       "      <td>7</td>\n",
       "      <td>0.141108</td>\n",
       "    </tr>\n",
       "    <tr>\n",
       "      <th>6</th>\n",
       "      <td>8</td>\n",
       "      <td>0.118518</td>\n",
       "    </tr>\n",
       "    <tr>\n",
       "      <th>7</th>\n",
       "      <td>9</td>\n",
       "      <td>0.102351</td>\n",
       "    </tr>\n",
       "    <tr>\n",
       "      <th>8</th>\n",
       "      <td>10</td>\n",
       "      <td>0.089511</td>\n",
       "    </tr>\n",
       "    <tr>\n",
       "      <th>9</th>\n",
       "      <td>11</td>\n",
       "      <td>0.091472</td>\n",
       "    </tr>\n",
       "    <tr>\n",
       "      <th>10</th>\n",
       "      <td>12</td>\n",
       "      <td>0.082431</td>\n",
       "    </tr>\n",
       "  </tbody>\n",
       "</table>\n",
       "</div>"
      ],
      "text/plain": [
       "    adsPerDisplay  clicksPerShows\n",
       "0               2        0.483844\n",
       "1               3        0.323173\n",
       "2               4        0.238194\n",
       "3               5        0.191648\n",
       "4               6        0.158580\n",
       "5               7        0.141108\n",
       "6               8        0.118518\n",
       "7               9        0.102351\n",
       "8              10        0.089511\n",
       "9              11        0.091472\n",
       "10             12        0.082431"
      ]
     },
     "execution_count": 23,
     "metadata": {},
     "output_type": "execute_result"
    }
   ],
   "source": [
    "clicksPerAd_train_means = pd.DataFrame({'clicksPerShows':clicksPerAd_train.groupby('adsPerDisplay')['clicksPerShows'].mean()}).reset_index()\n",
    "clicksPerAd_train_means.head(20)"
   ]
  },
  {
   "cell_type": "code",
   "execution_count": 24,
   "metadata": {
    "collapsed": false
   },
   "outputs": [
    {
     "name": "stdout",
     "output_type": "stream",
     "text": [
      "0\n"
     ]
    }
   ],
   "source": [
    "index = pd.isnull(prediction['clicksPerShows'])\n",
    "prediction_nulls = prediction[index].copy()\n",
    "prediction_nulls.drop(['clicksPerShows'], axis=1, inplace=True)\n",
    "prediction_nulls = prediction_nulls.merge(clicksPerAd_train_means, how='left', on = 'adsPerDisplay')#.fillna(clicksPerAd_train['clicksPerShows'].mean())\n",
    "prediction = pd.concat([prediction[~index], prediction_nulls])\n",
    "    \n",
    "prediction = prediction.sort_values(by=['display_id', 'clicksPerShows'], ascending=[True, False])\n",
    "print len(prediction[prediction['clicksPerShows'].isnull()])  "
   ]
  },
  {
   "cell_type": "code",
   "execution_count": 28,
   "metadata": {
    "collapsed": false
   },
   "outputs": [
    {
     "data": {
      "text/plain": [
       "display_id    4220025\n",
       "ad_id         4220025\n",
       "dtype: int64"
      ]
     },
     "execution_count": 28,
     "metadata": {},
     "output_type": "execute_result"
    }
   ],
   "source": [
    "prediction = pd.DataFrame({ 'ad_id': prediction.groupby('display_id')['ad_id'].apply(join) }).reset_index()\n",
    "prediction.count()"
   ]
  },
  {
   "cell_type": "code",
   "execution_count": 29,
   "metadata": {
    "collapsed": false
   },
   "outputs": [
    {
     "name": "stdout",
     "output_type": "stream",
     "text": [
      "clicksPerShows : 0.651457961706\n"
     ]
    }
   ],
   "source": [
    "print 'clicksPerShows :', model_evaluation(validation, prediction)  # 0.649366311611"
   ]
  },
  {
   "cell_type": "raw",
   "metadata": {},
   "source": [
    "Solution 5:  \n",
    "adsPerDisplay: 0.649366311611 (+)\n",
    "    alpha=1:   0.650147478567\n",
    "    alpha=5:   0.651496580701\n",
    "    alpha=7:   0.651670890319\n",
    "    alpha=10:  0.651782665078 <<<<<<<<\n",
    "     beta=0.05:0.651786341334\n",
    "     beta=0.1: 0.651788620997 <<<<\n",
    "     beta=0.25:0.651788448334\n",
    "     beta=0.5: 0.651781104141\n",
    "     beta=1:   0.651774866369\n",
    "       \n",
    "    alpha=11:  0.651780767107\n",
    "    alpha=12.5:0.651764965591\n",
    "    alpha=15:  0.651736906004\n",
    "    alpha=20:  0.651659238288\n",
    "    alpha=30:  0.651385242096 \n",
    "    alpha=50:  0.650822974546\n",
    "    alpha=100: 0.649673910841\n",
    "\n",
    "Solution 7.3:\n",
    "adsPerDisplay: views>0: 0.649366311611\n",
    "adsPerDisplay, views>1: 0.649418325051  \n",
    "adsPerDisplay, views>10: 0.650153217815 \n",
    "adsPerDisplay, views>20: 0.650604156873 -> 0.650753763145 -> (alpha=10, beta=0.1) 0.651571756827\n",
    "\n",
    "adsPerDisplay, views>29: 0.650697386541 \n",
    "adsPerDisplay, views>30: 0.650700282024  <<<<<<<<<<<<<<  -> (alpha=10, beta=0.1) 0.651457961706\n",
    "    alpha=5:  0.651289912694\n",
    "    alpha=9.9:0.651358393034\n",
    "    alpha=10: 0.651361767842  <<<<<\n",
    "        beta=0.1: 0.651364294618\n",
    "        beta=0.11:0.6513648434\n",
    "        beta=0.2: 0.651368259643 \n",
    "        beta=0.6: 0.651356037895\n",
    "        beta=1:   0.651343385711\n",
    "    \n",
    "   alpha=10.1:0.651358379886\n",
    "    alpha=20: 0.651194024748\n",
    "adsPerDisplay, views>31: 0.650698806914\n",
    "adsPerDisplay, views>40: 0.65066938605\n",
    "adsPerDisplay, views>50: 0.650571941372\n",
    "adsPerDisplay, views>75: 0.6502138305\n",
    "adsPerDisplay, views>100: 0.649828437574\n",
    "\n"
   ]
  },
  {
   "cell_type": "markdown",
   "metadata": {},
   "source": [
    "## Training"
   ]
  },
  {
   "cell_type": "raw",
   "metadata": {
    "collapsed": false
   },
   "source": [
    "print usecols\n",
    "print group_by"
   ]
  },
  {
   "cell_type": "raw",
   "metadata": {
    "collapsed": false
   },
   "source": [
    "events_clicks_train = pd.read_csv(\"../generated/final/events_clicks_train.csv\", usecols=usecols)\n",
    "events_clicks_train.count()"
   ]
  },
  {
   "cell_type": "raw",
   "metadata": {
    "collapsed": false
   },
   "source": [
    "clicksPerAd_train = clicksPerAd(events_clicks_train,  group_by=group_by ,alpha=10, beta=0.1)\n",
    "clicksPerAd_train.to_csv(\"../generated/solutions/7_clicksPerAd_train.csv\", index=False)\n",
    "clicksPerAd_train.count()"
   ]
  },
  {
   "cell_type": "markdown",
   "metadata": {},
   "source": [
    "## Predicting"
   ]
  },
  {
   "cell_type": "raw",
   "metadata": {
    "collapsed": false
   },
   "source": [
    "print usecols\n",
    "print group_by"
   ]
  },
  {
   "cell_type": "raw",
   "metadata": {
    "collapsed": true
   },
   "source": [
    "clicksPerAd_train = pd.read_csv(\"../generated/solutions/7_clicksPerAd_train.csv\")"
   ]
  },
  {
   "cell_type": "raw",
   "metadata": {
    "collapsed": false
   },
   "source": [
    "clicks_test = pd.read_csv(\"../generated/final/events_clicks_test.csv\", usecols=usecols[:-1])\n",
    "clicks_test.count()"
   ]
  },
  {
   "cell_type": "raw",
   "metadata": {
    "collapsed": false
   },
   "source": [
    "prediction = model_prediction(clicksPerAd_train, clicks_test, on=group_by)\n",
    "prediction.head()"
   ]
  },
  {
   "cell_type": "raw",
   "metadata": {
    "collapsed": false
   },
   "source": [
    "prediction.count()r"
   ]
  },
  {
   "cell_type": "markdown",
   "metadata": {},
   "source": [
    "Check order:"
   ]
  },
  {
   "cell_type": "raw",
   "metadata": {
    "collapsed": true
   },
   "source": [
    "ids = prediction.display_id\n",
    "prev = 0\n",
    "for nxt in ids:\n",
    "    if nxt<prev:\n",
    "        print nxt\n",
    "        break\n",
    "    prev = nxt "
   ]
  },
  {
   "cell_type": "markdown",
   "metadata": {},
   "source": [
    "## Submission"
   ]
  },
  {
   "cell_type": "raw",
   "metadata": {
    "collapsed": true
   },
   "source": [
    "prediction.to_csv(\"../submissions/solution_7.csv\", index=False)"
   ]
  },
  {
   "cell_type": "code",
   "execution_count": null,
   "metadata": {
    "collapsed": true
   },
   "outputs": [],
   "source": []
  }
 ],
 "metadata": {
  "anaconda-cloud": {},
  "kernelspec": {
   "display_name": "Python [Root]",
   "language": "python",
   "name": "Python [Root]"
  },
  "language_info": {
   "codemirror_mode": {
    "name": "ipython",
    "version": 2
   },
   "file_extension": ".py",
   "mimetype": "text/x-python",
   "name": "python",
   "nbconvert_exporter": "python",
   "pygments_lexer": "ipython2",
   "version": "2.7.11"
  }
 },
 "nbformat": 4,
 "nbformat_minor": 0
}
