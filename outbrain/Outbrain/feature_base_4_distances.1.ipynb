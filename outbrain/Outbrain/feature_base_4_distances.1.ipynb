{
 "cells": [
  {
   "cell_type": "code",
   "execution_count": 2,
   "metadata": {
    "collapsed": false
   },
   "outputs": [
    {
     "name": "stdout",
     "output_type": "stream",
     "text": [
      "Populating the interactive namespace from numpy and matplotlib\n"
     ]
    }
   ],
   "source": [
    "import pandas as pd\n",
    "import numpy as np\n",
    "%pylab inline"
   ]
  },
  {
   "cell_type": "markdown",
   "metadata": {
    "collapsed": true
   },
   "source": [
    "### Topics rates"
   ]
  },
  {
   "cell_type": "code",
   "execution_count": 3,
   "metadata": {
    "collapsed": false
   },
   "outputs": [
    {
     "data": {
      "text/html": [
       "<div>\n",
       "<table border=\"1\" class=\"dataframe\">\n",
       "  <thead>\n",
       "    <tr style=\"text-align: right;\">\n",
       "      <th></th>\n",
       "      <th>topic_id</th>\n",
       "      <th>platform</th>\n",
       "      <th>traffic_source</th>\n",
       "      <th>geo</th>\n",
       "      <th>topic_viewed</th>\n",
       "    </tr>\n",
       "  </thead>\n",
       "  <tbody>\n",
       "    <tr>\n",
       "      <th>0</th>\n",
       "      <td>0</td>\n",
       "      <td>1</td>\n",
       "      <td>1</td>\n",
       "      <td>-1</td>\n",
       "      <td>20.310514</td>\n",
       "    </tr>\n",
       "    <tr>\n",
       "      <th>1</th>\n",
       "      <td>0</td>\n",
       "      <td>1</td>\n",
       "      <td>1</td>\n",
       "      <td>0</td>\n",
       "      <td>38.536388</td>\n",
       "    </tr>\n",
       "    <tr>\n",
       "      <th>2</th>\n",
       "      <td>0</td>\n",
       "      <td>1</td>\n",
       "      <td>1</td>\n",
       "      <td>1</td>\n",
       "      <td>4.740327</td>\n",
       "    </tr>\n",
       "    <tr>\n",
       "      <th>3</th>\n",
       "      <td>0</td>\n",
       "      <td>1</td>\n",
       "      <td>1</td>\n",
       "      <td>2</td>\n",
       "      <td>0.186612</td>\n",
       "    </tr>\n",
       "    <tr>\n",
       "      <th>4</th>\n",
       "      <td>0</td>\n",
       "      <td>1</td>\n",
       "      <td>1</td>\n",
       "      <td>4</td>\n",
       "      <td>0.037480</td>\n",
       "    </tr>\n",
       "  </tbody>\n",
       "</table>\n",
       "</div>"
      ],
      "text/plain": [
       "   topic_id  platform  traffic_source  geo  topic_viewed\n",
       "0         0         1               1   -1     20.310514\n",
       "1         0         1               1    0     38.536388\n",
       "2         0         1               1    1      4.740327\n",
       "3         0         1               1    2      0.186612\n",
       "4         0         1               1    4      0.037480"
      ]
     },
     "execution_count": 3,
     "metadata": {},
     "output_type": "execute_result"
    }
   ],
   "source": [
    "pd.read_hdf('../generated/topics_rates.hdf5.csv.9', stop=10).head()"
   ]
  },
  {
   "cell_type": "code",
   "execution_count": 4,
   "metadata": {
    "collapsed": false
   },
   "outputs": [
    {
     "data": {
      "text/html": [
       "<div>\n",
       "<table border=\"1\" class=\"dataframe\">\n",
       "  <thead>\n",
       "    <tr style=\"text-align: right;\">\n",
       "      <th></th>\n",
       "      <th>topic_id</th>\n",
       "      <th>platform</th>\n",
       "      <th>weight</th>\n",
       "      <th>weight_sqrt</th>\n",
       "    </tr>\n",
       "  </thead>\n",
       "  <tbody>\n",
       "    <tr>\n",
       "      <th>0</th>\n",
       "      <td>0</td>\n",
       "      <td>1</td>\n",
       "      <td>0.001353</td>\n",
       "      <td>0.036779</td>\n",
       "    </tr>\n",
       "    <tr>\n",
       "      <th>1</th>\n",
       "      <td>1</td>\n",
       "      <td>1</td>\n",
       "      <td>0.001870</td>\n",
       "      <td>0.043238</td>\n",
       "    </tr>\n",
       "    <tr>\n",
       "      <th>2</th>\n",
       "      <td>2</td>\n",
       "      <td>1</td>\n",
       "      <td>0.001545</td>\n",
       "      <td>0.039304</td>\n",
       "    </tr>\n",
       "    <tr>\n",
       "      <th>3</th>\n",
       "      <td>3</td>\n",
       "      <td>1</td>\n",
       "      <td>0.000711</td>\n",
       "      <td>0.026671</td>\n",
       "    </tr>\n",
       "    <tr>\n",
       "      <th>4</th>\n",
       "      <td>4</td>\n",
       "      <td>1</td>\n",
       "      <td>0.001119</td>\n",
       "      <td>0.033447</td>\n",
       "    </tr>\n",
       "  </tbody>\n",
       "</table>\n",
       "</div>"
      ],
      "text/plain": [
       "   topic_id  platform    weight  weight_sqrt\n",
       "0         0         1  0.001353     0.036779\n",
       "1         1         1  0.001870     0.043238\n",
       "2         2         1  0.001545     0.039304\n",
       "3         3         1  0.000711     0.026671\n",
       "4         4         1  0.001119     0.033447"
      ]
     },
     "execution_count": 4,
     "metadata": {},
     "output_type": "execute_result"
    }
   ],
   "source": [
    "topics_rates = pd.read_hdf('../generated/topics_rates.hdf5.csv.9')\n",
    "topics_rates = pd.DataFrame({'weight':topics_rates.groupby(['topic_id', 'platform'])['topic_viewed'].sum() }).reset_index()\n",
    "topics_rates_platform = pd.DataFrame({'weight_p':topics_rates.groupby(['platform'])['weight'].sum()}).reset_index()\n",
    "topics_rates = topics_rates.merge(topics_rates_platform, on=['platform'])\n",
    "topics_rates['weight'] = topics_rates['weight'] / topics_rates['weight_p']  \n",
    "topics_rates['weight_sqrt'] = np.sqrt(topics_rates['weight'])\n",
    "topics_rates.drop(['weight_p'], axis=1, inplace=True)\n",
    "topics_rates.head()"
   ]
  },
  {
   "cell_type": "code",
   "execution_count": 5,
   "metadata": {
    "collapsed": false
   },
   "outputs": [
    {
     "data": {
      "text/plain": [
       "topic_id       900\n",
       "platform       900\n",
       "weight         900\n",
       "weight_sqrt    900\n",
       "dtype: int64"
      ]
     },
     "execution_count": 5,
     "metadata": {},
     "output_type": "execute_result"
    }
   ],
   "source": [
    "topics_rates.count()"
   ]
  },
  {
   "cell_type": "code",
   "execution_count": 6,
   "metadata": {
    "collapsed": false
   },
   "outputs": [
    {
     "data": {
      "text/plain": [
       "2.9999999999999956"
      ]
     },
     "execution_count": 6,
     "metadata": {},
     "output_type": "execute_result"
    }
   ],
   "source": [
    "sum(topics_rates['weight'])"
   ]
  },
  {
   "cell_type": "raw",
   "metadata": {
    "collapsed": false
   },
   "source": [
    "topics_rates['weight'].hist(bins=150)"
   ]
  },
  {
   "cell_type": "markdown",
   "metadata": {},
   "source": [
    "### Docs pairs"
   ]
  },
  {
   "cell_type": "raw",
   "metadata": {
    "collapsed": false
   },
   "source": [
    "page_addoc_dist = pd.read_csv(\"../generated/final/events_clicks_CTR_addocs_train.csv\", usecols=['document_id', 'addoc_id', 'platform'])\n",
    "page_addoc_dist.count()"
   ]
  },
  {
   "cell_type": "raw",
   "metadata": {
    "collapsed": false
   },
   "source": [
    "page_addoc_dist = pd.DataFrame({'size':page_addoc_dist.groupby(['document_id', 'addoc_id', 'platform']).size()}).reset_index().drop(['size'], axis=1)\n",
    "page_addoc_dist.count()"
   ]
  },
  {
   "cell_type": "raw",
   "metadata": {
    "collapsed": true
   },
   "source": [
    "page_addoc_dist.to_csv(\"../generated/page_addoc_dist.0.csv\", index=False)"
   ]
  },
  {
   "cell_type": "code",
   "execution_count": 11,
   "metadata": {
    "collapsed": false
   },
   "outputs": [
    {
     "data": {
      "text/plain": [
       "document_id    31437393\n",
       "addoc_id       31437393\n",
       "platform       31437393\n",
       "dtype: int64"
      ]
     },
     "execution_count": 11,
     "metadata": {},
     "output_type": "execute_result"
    }
   ],
   "source": [
    "page_addoc_dist = pd.read_csv(\"../generated/page_addoc_dist.0.csv\")\n",
    "page_addoc_dist.count()"
   ]
  },
  {
   "cell_type": "markdown",
   "metadata": {},
   "source": [
    "### Docs topics and norms"
   ]
  },
  {
   "cell_type": "code",
   "execution_count": 17,
   "metadata": {
    "collapsed": false
   },
   "outputs": [
    {
     "data": {
      "text/plain": [
       "(756510, 164476)"
      ]
     },
     "execution_count": 17,
     "metadata": {},
     "output_type": "execute_result"
    }
   ],
   "source": [
    "len(page_addoc_dist.document_id.unique()), len(page_addoc_dist.addoc_id.unique())"
   ]
  },
  {
   "cell_type": "code",
   "execution_count": 13,
   "metadata": {
    "collapsed": false
   },
   "outputs": [
    {
     "data": {
      "text/plain": [
       "document_id    912081\n",
       "dtype: int64"
      ]
     },
     "execution_count": 13,
     "metadata": {},
     "output_type": "execute_result"
    }
   ],
   "source": [
    "docs_used = pd.DataFrame({'document_id':page_addoc_dist.document_id.append(page_addoc_dist.addoc_id).unique()})\n",
    "docs_used.count()"
   ]
  },
  {
   "cell_type": "code",
   "execution_count": 19,
   "metadata": {
    "collapsed": true
   },
   "outputs": [],
   "source": [
    "del page_addoc_dist"
   ]
  },
  {
   "cell_type": "code",
   "execution_count": 14,
   "metadata": {
    "collapsed": false
   },
   "outputs": [
    {
     "data": {
      "text/html": [
       "<div>\n",
       "<table border=\"1\" class=\"dataframe\">\n",
       "  <thead>\n",
       "    <tr style=\"text-align: right;\">\n",
       "      <th></th>\n",
       "      <th>document_id</th>\n",
       "      <th>topic_id</th>\n",
       "      <th>confidence_level</th>\n",
       "    </tr>\n",
       "  </thead>\n",
       "  <tbody>\n",
       "    <tr>\n",
       "      <th>0</th>\n",
       "      <td>1595802</td>\n",
       "      <td>140</td>\n",
       "      <td>0.073113</td>\n",
       "    </tr>\n",
       "    <tr>\n",
       "      <th>1</th>\n",
       "      <td>1595802</td>\n",
       "      <td>16</td>\n",
       "      <td>0.059416</td>\n",
       "    </tr>\n",
       "    <tr>\n",
       "      <th>2</th>\n",
       "      <td>1595802</td>\n",
       "      <td>143</td>\n",
       "      <td>0.045421</td>\n",
       "    </tr>\n",
       "    <tr>\n",
       "      <th>3</th>\n",
       "      <td>1595802</td>\n",
       "      <td>170</td>\n",
       "      <td>0.038867</td>\n",
       "    </tr>\n",
       "    <tr>\n",
       "      <th>4</th>\n",
       "      <td>1524246</td>\n",
       "      <td>113</td>\n",
       "      <td>0.196450</td>\n",
       "    </tr>\n",
       "  </tbody>\n",
       "</table>\n",
       "</div>"
      ],
      "text/plain": [
       "   document_id  topic_id  confidence_level\n",
       "0      1595802       140          0.073113\n",
       "1      1595802        16          0.059416\n",
       "2      1595802       143          0.045421\n",
       "3      1595802       170          0.038867\n",
       "4      1524246       113          0.196450"
      ]
     },
     "execution_count": 14,
     "metadata": {},
     "output_type": "execute_result"
    }
   ],
   "source": [
    "docs_topics = pd.read_csv(\"../download/documents_topics.csv\")\n",
    "docs_topics = docs_topics.merge(docs_used, on='document_id')\n",
    "docs_topics.head()"
   ]
  },
  {
   "cell_type": "code",
   "execution_count": 15,
   "metadata": {
    "collapsed": false
   },
   "outputs": [
    {
     "name": "stdout",
     "output_type": "stream",
     "text": [
      "3801579\n"
     ]
    }
   ],
   "source": [
    "print len(docs_topics)"
   ]
  },
  {
   "cell_type": "code",
   "execution_count": 16,
   "metadata": {
    "collapsed": false
   },
   "outputs": [
    {
     "data": {
      "text/html": [
       "<div>\n",
       "<table border=\"1\" class=\"dataframe\">\n",
       "  <thead>\n",
       "    <tr style=\"text-align: right;\">\n",
       "      <th></th>\n",
       "      <th>document_id</th>\n",
       "      <th>topic_id</th>\n",
       "      <th>platform</th>\n",
       "      <th>value</th>\n",
       "      <th>value2</th>\n",
       "    </tr>\n",
       "  </thead>\n",
       "  <tbody>\n",
       "    <tr>\n",
       "      <th>0</th>\n",
       "      <td>1595802</td>\n",
       "      <td>140</td>\n",
       "      <td>1</td>\n",
       "      <td>0.018506</td>\n",
       "      <td>0.000342</td>\n",
       "    </tr>\n",
       "    <tr>\n",
       "      <th>1</th>\n",
       "      <td>1595802</td>\n",
       "      <td>140</td>\n",
       "      <td>2</td>\n",
       "      <td>0.016012</td>\n",
       "      <td>0.000256</td>\n",
       "    </tr>\n",
       "    <tr>\n",
       "      <th>2</th>\n",
       "      <td>1595802</td>\n",
       "      <td>140</td>\n",
       "      <td>3</td>\n",
       "      <td>0.016241</td>\n",
       "      <td>0.000264</td>\n",
       "    </tr>\n",
       "    <tr>\n",
       "      <th>3</th>\n",
       "      <td>1595802</td>\n",
       "      <td>16</td>\n",
       "      <td>1</td>\n",
       "      <td>0.008934</td>\n",
       "      <td>0.000080</td>\n",
       "    </tr>\n",
       "    <tr>\n",
       "      <th>4</th>\n",
       "      <td>1595802</td>\n",
       "      <td>16</td>\n",
       "      <td>2</td>\n",
       "      <td>0.010639</td>\n",
       "      <td>0.000113</td>\n",
       "    </tr>\n",
       "  </tbody>\n",
       "</table>\n",
       "</div>"
      ],
      "text/plain": [
       "   document_id  topic_id  platform     value    value2\n",
       "0      1595802       140         1  0.018506  0.000342\n",
       "1      1595802       140         2  0.016012  0.000256\n",
       "2      1595802       140         3  0.016241  0.000264\n",
       "3      1595802        16         1  0.008934  0.000080\n",
       "4      1595802        16         2  0.010639  0.000113"
      ]
     },
     "execution_count": 16,
     "metadata": {},
     "output_type": "execute_result"
    }
   ],
   "source": [
    "docs_topics = docs_topics.merge(topics_rates, on='topic_id', how='left').fillna(0)\n",
    "docs_topics['value']=docs_topics['confidence_level']*docs_topics['weight_sqrt']\n",
    "docs_topics['value2']=np.square(docs_topics['value'])\n",
    "docs_topics.drop(['confidence_level','weight','weight_sqrt'], axis=1, inplace=True)\n",
    "docs_topics.head()"
   ]
  },
  {
   "cell_type": "code",
   "execution_count": 22,
   "metadata": {
    "collapsed": false
   },
   "outputs": [
    {
     "name": "stdout",
     "output_type": "stream",
     "text": [
      "11404737\n"
     ]
    }
   ],
   "source": [
    "print len(docs_topics)"
   ]
  },
  {
   "cell_type": "code",
   "execution_count": 18,
   "metadata": {
    "collapsed": false
   },
   "outputs": [
    {
     "data": {
      "text/html": [
       "<div>\n",
       "<table border=\"1\" class=\"dataframe\">\n",
       "  <thead>\n",
       "    <tr style=\"text-align: right;\">\n",
       "      <th></th>\n",
       "      <th>document_id</th>\n",
       "      <th>platform</th>\n",
       "      <th>norm2</th>\n",
       "    </tr>\n",
       "  </thead>\n",
       "  <tbody>\n",
       "    <tr>\n",
       "      <th>0</th>\n",
       "      <td>1</td>\n",
       "      <td>1</td>\n",
       "      <td>0.000012</td>\n",
       "    </tr>\n",
       "    <tr>\n",
       "      <th>1</th>\n",
       "      <td>1</td>\n",
       "      <td>2</td>\n",
       "      <td>0.000008</td>\n",
       "    </tr>\n",
       "    <tr>\n",
       "      <th>2</th>\n",
       "      <td>1</td>\n",
       "      <td>3</td>\n",
       "      <td>0.000011</td>\n",
       "    </tr>\n",
       "    <tr>\n",
       "      <th>3</th>\n",
       "      <td>2</td>\n",
       "      <td>1</td>\n",
       "      <td>0.000002</td>\n",
       "    </tr>\n",
       "    <tr>\n",
       "      <th>4</th>\n",
       "      <td>2</td>\n",
       "      <td>2</td>\n",
       "      <td>0.000003</td>\n",
       "    </tr>\n",
       "  </tbody>\n",
       "</table>\n",
       "</div>"
      ],
      "text/plain": [
       "   document_id  platform     norm2\n",
       "0            1         1  0.000012\n",
       "1            1         2  0.000008\n",
       "2            1         3  0.000011\n",
       "3            2         1  0.000002\n",
       "4            2         2  0.000003"
      ]
     },
     "execution_count": 18,
     "metadata": {},
     "output_type": "execute_result"
    }
   ],
   "source": [
    "docs_norms2 = pd.DataFrame({'norm2':docs_topics.groupby(['document_id', 'platform'])['value2'].sum()}).reset_index()\n",
    "docs_topics.drop(['value2'], axis=1, inplace=True)\n",
    "docs_norms2.head()"
   ]
  },
  {
   "cell_type": "markdown",
   "metadata": {},
   "source": [
    "### Distances"
   ]
  },
  {
   "cell_type": "code",
   "execution_count": 23,
   "metadata": {
    "collapsed": true
   },
   "outputs": [],
   "source": [
    "input_file = \"../generated/page_addoc_dist.0.csv\"\n",
    "output_file = \"../generated/final/page_addoc_topics_p_dist.csv\"\n",
    "chunksize=10**6\n",
    "how='left'"
   ]
  },
  {
   "cell_type": "code",
   "execution_count": 24,
   "metadata": {
    "collapsed": false
   },
   "outputs": [
    {
     "name": "stdout",
     "output_type": "stream",
     "text": [
      "1 1000000\n",
      "2 2000000\n",
      "3 3000000\n",
      "4 4000000\n",
      "5 5000000\n",
      "6 6000000\n",
      "7 7000000\n",
      "8 8000000\n",
      "9 9000000\n",
      "10 10000000\n",
      "11 11000000\n",
      "12 12000000\n",
      "13 13000000\n",
      "14 14000000\n",
      "15 15000000\n",
      "16 16000000\n",
      "17 17000000\n",
      "18 18000000\n",
      "19 19000000\n",
      "20 20000000\n",
      "21 21000000\n",
      "22 22000000\n",
      "23 23000000\n",
      "24 24000000\n",
      "25 25000000\n",
      "26 26000000\n",
      "27 27000000\n",
      "28 28000000\n",
      "29 29000000\n",
      "30 30000000\n",
      "31 31000000\n",
      "32 32000000\n",
      "Done\n"
     ]
    }
   ],
   "source": [
    "first_time = True\n",
    "size = 0\n",
    "i = 0\n",
    "    \n",
    "f = open(output_file, 'w')\n",
    "\n",
    "for page_addoc_dist in pd.read_csv(input_file, chunksize=chunksize):\n",
    "\n",
    "    page_addoc_diffs = page_addoc_dist.merge(docs_topics, left_on=['addoc_id', 'platform'], right_on=['document_id', 'platform'])\n",
    "    page_addoc_diffs.rename(columns={'document_id_x':'document_id'}, inplace=True)\n",
    "    page_addoc_diffs.drop(['document_id_y'], axis=1, inplace=True)\n",
    "    page_addoc_diffs = page_addoc_diffs.merge(docs_topics, on=['document_id', 'topic_id', 'platform'])\n",
    "    page_addoc_diffs['value_2xy'] = 2*page_addoc_diffs['value_x']*page_addoc_diffs['value_y']\n",
    "    page_addoc_diffs.drop(['topic_id', 'value_x', 'value_y'], axis=1, inplace=True)\n",
    "    page_addoc_diffs = pd.DataFrame({'value_2xy':page_addoc_diffs.groupby(['document_id', 'addoc_id', 'platform'])['value_2xy'].sum()}).reset_index()\n",
    "\n",
    "    page_addoc_dist = page_addoc_dist.merge(docs_norms2, on=['document_id','platform'])\n",
    "    page_addoc_dist = page_addoc_dist.merge(docs_norms2, left_on=['addoc_id','platform'], right_on=['document_id','platform'])\n",
    "    page_addoc_dist.rename(columns={'document_id_x':'document_id'}, inplace=True)\n",
    "    page_addoc_dist.drop(['document_id_y'], axis=1, inplace=True)\n",
    "    page_addoc_dist = page_addoc_dist.merge(page_addoc_diffs, on=['document_id', 'addoc_id', 'platform'], how='left').fillna(0)\n",
    "    page_addoc_dist['dist'] = np.sqrt( page_addoc_dist['norm2_x'] + page_addoc_dist['norm2_y'] - page_addoc_dist['value_2xy'] )\n",
    "    page_addoc_dist.drop(['norm2_x', 'norm2_y', 'value_2xy'], axis=1, inplace=True)\n",
    "\n",
    "    if first_time:\n",
    "        page_addoc_dist.to_csv(f, index = False, header=True)\n",
    "        f.close()\n",
    "        f = open(output_file, 'a')\n",
    "        first_time = False\n",
    "    else:\n",
    "        page_addoc_dist.to_csv(f, index = False, header=False)\n",
    "    \n",
    "    size+=chunksize\n",
    "    i+=1\n",
    "    print i, size\n",
    "            \n",
    "print 'Done'\n",
    "    \n",
    "f.close()"
   ]
  },
  {
   "cell_type": "code",
   "execution_count": 25,
   "metadata": {
    "collapsed": false
   },
   "outputs": [
    {
     "data": {
      "text/html": [
       "<div>\n",
       "<table border=\"1\" class=\"dataframe\">\n",
       "  <thead>\n",
       "    <tr style=\"text-align: right;\">\n",
       "      <th></th>\n",
       "      <th>document_id</th>\n",
       "      <th>addoc_id</th>\n",
       "      <th>platform</th>\n",
       "      <th>dist</th>\n",
       "    </tr>\n",
       "  </thead>\n",
       "  <tbody>\n",
       "    <tr>\n",
       "      <th>0</th>\n",
       "      <td>2</td>\n",
       "      <td>1489042</td>\n",
       "      <td>2.0</td>\n",
       "      <td>0.033707</td>\n",
       "    </tr>\n",
       "    <tr>\n",
       "      <th>1</th>\n",
       "      <td>452</td>\n",
       "      <td>1489042</td>\n",
       "      <td>2.0</td>\n",
       "      <td>0.033986</td>\n",
       "    </tr>\n",
       "    <tr>\n",
       "      <th>2</th>\n",
       "      <td>515</td>\n",
       "      <td>1489042</td>\n",
       "      <td>2.0</td>\n",
       "      <td>0.033698</td>\n",
       "    </tr>\n",
       "    <tr>\n",
       "      <th>3</th>\n",
       "      <td>1608</td>\n",
       "      <td>1489042</td>\n",
       "      <td>2.0</td>\n",
       "      <td>0.033781</td>\n",
       "    </tr>\n",
       "    <tr>\n",
       "      <th>4</th>\n",
       "      <td>3260</td>\n",
       "      <td>1489042</td>\n",
       "      <td>2.0</td>\n",
       "      <td>0.034061</td>\n",
       "    </tr>\n",
       "  </tbody>\n",
       "</table>\n",
       "</div>"
      ],
      "text/plain": [
       "   document_id  addoc_id  platform      dist\n",
       "0            2   1489042       2.0  0.033707\n",
       "1          452   1489042       2.0  0.033986\n",
       "2          515   1489042       2.0  0.033698\n",
       "3         1608   1489042       2.0  0.033781\n",
       "4         3260   1489042       2.0  0.034061"
      ]
     },
     "execution_count": 25,
     "metadata": {},
     "output_type": "execute_result"
    }
   ],
   "source": [
    "pd.read_csv(\"../generated/final/page_addoc_topics_p_dist.csv\", nrows=5).head()"
   ]
  }
 ],
 "metadata": {
  "anaconda-cloud": {},
  "kernelspec": {
   "display_name": "Python [Root]",
   "language": "python",
   "name": "Python [Root]"
  },
  "language_info": {
   "codemirror_mode": {
    "name": "ipython",
    "version": 2
   },
   "file_extension": ".py",
   "mimetype": "text/x-python",
   "name": "python",
   "nbconvert_exporter": "python",
   "pygments_lexer": "ipython2",
   "version": "2.7.11"
  }
 },
 "nbformat": 4,
 "nbformat_minor": 0
}
