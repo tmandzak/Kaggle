{
 "cells": [
  {
   "cell_type": "code",
   "execution_count": 1,
   "metadata": {
    "collapsed": false
   },
   "outputs": [],
   "source": [
    "import pandas as pd\n",
    "import numpy as np\n",
    "from sklearn import linear_model\n",
    "from sklearn import preprocessing"
   ]
  },
  {
   "cell_type": "markdown",
   "metadata": {},
   "source": [
    "## Model"
   ]
  },
  {
   "cell_type": "code",
   "execution_count": 54,
   "metadata": {
    "collapsed": true
   },
   "outputs": [],
   "source": [
    "usecols = ['display_id', 'ad_id', 'clicksPerShows', 'dist', 'dist_cats', 'dist_ents', 'clicked']\n",
    "features = ['clicksPerShows', 'dist2']\n",
    "#features = ['p1', 'p2', 'p3', 't1', 't2', 't3', 'adsPerDisplay']\n",
    "features_asis = []\n",
    "intercept = True\n",
    "class_weight = None"
   ]
  },
  {
   "cell_type": "code",
   "execution_count": 3,
   "metadata": {
    "collapsed": true
   },
   "outputs": [],
   "source": [
    "def calc_features(data):\n",
    "    data['dist2'] = np.square(data['dist'])\n",
    "    data.drop('dist', axis=1, inplace=True)\n",
    "    data['dist_ents2'] = np.square(data['dist_ents'])\n",
    "    data['dist_ents3'] = data['dist_ents2']*data['dist_ents']\n",
    "    data.drop('dist_ents', axis=1, inplace=True)\n",
    "    return data"
   ]
  },
  {
   "cell_type": "code",
   "execution_count": 4,
   "metadata": {
    "collapsed": false
   },
   "outputs": [
    {
     "data": {
      "text/html": [
       "<div>\n",
       "<table border=\"1\" class=\"dataframe\">\n",
       "  <thead>\n",
       "    <tr style=\"text-align: right;\">\n",
       "      <th></th>\n",
       "      <th>display_id</th>\n",
       "      <th>document_id</th>\n",
       "      <th>timestamp</th>\n",
       "      <th>traffic_source</th>\n",
       "      <th>platform</th>\n",
       "      <th>day</th>\n",
       "      <th>hour</th>\n",
       "      <th>geo</th>\n",
       "      <th>ad_id</th>\n",
       "      <th>clicked</th>\n",
       "      <th>adsPerDisplay</th>\n",
       "      <th>clicksPerShows</th>\n",
       "      <th>addoc_id</th>\n",
       "      <th>dist</th>\n",
       "      <th>dist_cats</th>\n",
       "      <th>dist_ents</th>\n",
       "      <th>doc_time</th>\n",
       "      <th>addoc_time</th>\n",
       "    </tr>\n",
       "  </thead>\n",
       "  <tbody>\n",
       "    <tr>\n",
       "      <th>0</th>\n",
       "      <td>8</td>\n",
       "      <td>1330329</td>\n",
       "      <td>638</td>\n",
       "      <td>1.0</td>\n",
       "      <td>2.0</td>\n",
       "      <td>1</td>\n",
       "      <td>7</td>\n",
       "      <td>2765</td>\n",
       "      <td>95724</td>\n",
       "      <td>0</td>\n",
       "      <td>4</td>\n",
       "      <td>0.034785</td>\n",
       "      <td>1136820</td>\n",
       "      <td>0.537786</td>\n",
       "      <td>1.254512</td>\n",
       "      <td>1.075178</td>\n",
       "      <td>-3.860280e+10</td>\n",
       "      <td>-8.661600e+09</td>\n",
       "    </tr>\n",
       "    <tr>\n",
       "      <th>1</th>\n",
       "      <td>8</td>\n",
       "      <td>1330329</td>\n",
       "      <td>638</td>\n",
       "      <td>1.0</td>\n",
       "      <td>2.0</td>\n",
       "      <td>1</td>\n",
       "      <td>7</td>\n",
       "      <td>2765</td>\n",
       "      <td>175694</td>\n",
       "      <td>0</td>\n",
       "      <td>4</td>\n",
       "      <td>0.202327</td>\n",
       "      <td>1392479</td>\n",
       "      <td>0.430210</td>\n",
       "      <td>0.098995</td>\n",
       "      <td>1.073816</td>\n",
       "      <td>-3.860280e+10</td>\n",
       "      <td>-3.045600e+09</td>\n",
       "    </tr>\n",
       "    <tr>\n",
       "      <th>2</th>\n",
       "      <td>8</td>\n",
       "      <td>1330329</td>\n",
       "      <td>638</td>\n",
       "      <td>1.0</td>\n",
       "      <td>2.0</td>\n",
       "      <td>1</td>\n",
       "      <td>7</td>\n",
       "      <td>2765</td>\n",
       "      <td>280430</td>\n",
       "      <td>1</td>\n",
       "      <td>4</td>\n",
       "      <td>0.256853</td>\n",
       "      <td>1601512</td>\n",
       "      <td>0.245120</td>\n",
       "      <td>1.304837</td>\n",
       "      <td>NaN</td>\n",
       "      <td>-3.860280e+10</td>\n",
       "      <td>NaN</td>\n",
       "    </tr>\n",
       "    <tr>\n",
       "      <th>3</th>\n",
       "      <td>8</td>\n",
       "      <td>1330329</td>\n",
       "      <td>638</td>\n",
       "      <td>1.0</td>\n",
       "      <td>2.0</td>\n",
       "      <td>1</td>\n",
       "      <td>7</td>\n",
       "      <td>2765</td>\n",
       "      <td>329774</td>\n",
       "      <td>0</td>\n",
       "      <td>4</td>\n",
       "      <td>0.052426</td>\n",
       "      <td>1652347</td>\n",
       "      <td>0.259652</td>\n",
       "      <td>1.192209</td>\n",
       "      <td>0.702294</td>\n",
       "      <td>-3.860280e+10</td>\n",
       "      <td>-6.264000e+08</td>\n",
       "    </tr>\n",
       "    <tr>\n",
       "      <th>4</th>\n",
       "      <td>2657</td>\n",
       "      <td>1271490</td>\n",
       "      <td>185255</td>\n",
       "      <td>1.0</td>\n",
       "      <td>2.0</td>\n",
       "      <td>1</td>\n",
       "      <td>7</td>\n",
       "      <td>2765</td>\n",
       "      <td>70081</td>\n",
       "      <td>0</td>\n",
       "      <td>4</td>\n",
       "      <td>0.150145</td>\n",
       "      <td>933594</td>\n",
       "      <td>0.124739</td>\n",
       "      <td>0.409647</td>\n",
       "      <td>NaN</td>\n",
       "      <td>-5.839200e+09</td>\n",
       "      <td>-3.242160e+10</td>\n",
       "    </tr>\n",
       "  </tbody>\n",
       "</table>\n",
       "</div>"
      ],
      "text/plain": [
       "   display_id  document_id  timestamp  traffic_source  platform  day  hour  \\\n",
       "0           8      1330329        638             1.0       2.0    1     7   \n",
       "1           8      1330329        638             1.0       2.0    1     7   \n",
       "2           8      1330329        638             1.0       2.0    1     7   \n",
       "3           8      1330329        638             1.0       2.0    1     7   \n",
       "4        2657      1271490     185255             1.0       2.0    1     7   \n",
       "\n",
       "    geo   ad_id  clicked  adsPerDisplay  clicksPerShows  addoc_id      dist  \\\n",
       "0  2765   95724        0              4        0.034785   1136820  0.537786   \n",
       "1  2765  175694        0              4        0.202327   1392479  0.430210   \n",
       "2  2765  280430        1              4        0.256853   1601512  0.245120   \n",
       "3  2765  329774        0              4        0.052426   1652347  0.259652   \n",
       "4  2765   70081        0              4        0.150145    933594  0.124739   \n",
       "\n",
       "   dist_cats  dist_ents      doc_time    addoc_time  \n",
       "0   1.254512   1.075178 -3.860280e+10 -8.661600e+09  \n",
       "1   0.098995   1.073816 -3.860280e+10 -3.045600e+09  \n",
       "2   1.304837        NaN -3.860280e+10           NaN  \n",
       "3   1.192209   0.702294 -3.860280e+10 -6.264000e+08  \n",
       "4   0.409647        NaN -5.839200e+09 -3.242160e+10  "
      ]
     },
     "execution_count": 4,
     "metadata": {},
     "output_type": "execute_result"
    }
   ],
   "source": [
    "filename_train = \"../generated/final/events_clicks_CTR_addocs_dist_time_train.csv\"\n",
    "pd.read_csv(filename_train, nrows=10).head()"
   ]
  },
  {
   "cell_type": "code",
   "execution_count": 5,
   "metadata": {
    "collapsed": false,
    "scrolled": true
   },
   "outputs": [
    {
     "data": {
      "text/html": [
       "<div>\n",
       "<table border=\"1\" class=\"dataframe\">\n",
       "  <thead>\n",
       "    <tr style=\"text-align: right;\">\n",
       "      <th></th>\n",
       "      <th>display_id</th>\n",
       "      <th>ad_id</th>\n",
       "      <th>clicked</th>\n",
       "      <th>clicksPerShows</th>\n",
       "      <th>dist</th>\n",
       "      <th>dist_cats</th>\n",
       "      <th>dist_ents</th>\n",
       "    </tr>\n",
       "  </thead>\n",
       "  <tbody>\n",
       "    <tr>\n",
       "      <th>0</th>\n",
       "      <td>8</td>\n",
       "      <td>95724</td>\n",
       "      <td>0</td>\n",
       "      <td>0.034785</td>\n",
       "      <td>0.537786</td>\n",
       "      <td>1.254512</td>\n",
       "      <td>1.075178</td>\n",
       "    </tr>\n",
       "    <tr>\n",
       "      <th>1</th>\n",
       "      <td>8</td>\n",
       "      <td>175694</td>\n",
       "      <td>0</td>\n",
       "      <td>0.202327</td>\n",
       "      <td>0.430210</td>\n",
       "      <td>0.098995</td>\n",
       "      <td>1.073816</td>\n",
       "    </tr>\n",
       "    <tr>\n",
       "      <th>2</th>\n",
       "      <td>8</td>\n",
       "      <td>280430</td>\n",
       "      <td>1</td>\n",
       "      <td>0.256853</td>\n",
       "      <td>0.245120</td>\n",
       "      <td>1.304837</td>\n",
       "      <td>NaN</td>\n",
       "    </tr>\n",
       "    <tr>\n",
       "      <th>3</th>\n",
       "      <td>8</td>\n",
       "      <td>329774</td>\n",
       "      <td>0</td>\n",
       "      <td>0.052426</td>\n",
       "      <td>0.259652</td>\n",
       "      <td>1.192209</td>\n",
       "      <td>0.702294</td>\n",
       "    </tr>\n",
       "    <tr>\n",
       "      <th>4</th>\n",
       "      <td>2657</td>\n",
       "      <td>70081</td>\n",
       "      <td>0</td>\n",
       "      <td>0.150145</td>\n",
       "      <td>0.124739</td>\n",
       "      <td>0.409647</td>\n",
       "      <td>NaN</td>\n",
       "    </tr>\n",
       "  </tbody>\n",
       "</table>\n",
       "</div>"
      ],
      "text/plain": [
       "   display_id   ad_id  clicked  clicksPerShows      dist  dist_cats  dist_ents\n",
       "0           8   95724        0        0.034785  0.537786   1.254512   1.075178\n",
       "1           8  175694        0        0.202327  0.430210   0.098995   1.073816\n",
       "2           8  280430        1        0.256853  0.245120   1.304837        NaN\n",
       "3           8  329774        0        0.052426  0.259652   1.192209   0.702294\n",
       "4        2657   70081        0        0.150145  0.124739   0.409647        NaN"
      ]
     },
     "execution_count": 5,
     "metadata": {},
     "output_type": "execute_result"
    }
   ],
   "source": [
    "pd.read_csv(filename_train, nrows=10, usecols=usecols).head()"
   ]
  },
  {
   "cell_type": "code",
   "execution_count": 6,
   "metadata": {
    "collapsed": true
   },
   "outputs": [],
   "source": [
    "def join(series):\n",
    "    #return ' '.join( str(list(series)).strip('[]').split(', ') )\n",
    "    return ' '.join( map(str, series) )"
   ]
  },
  {
   "cell_type": "code",
   "execution_count": 7,
   "metadata": {
    "collapsed": true
   },
   "outputs": [],
   "source": [
    "%run 'metrics.ipynb'\n",
    "def model_evaluation(actual, prediction):\n",
    "    return mapk(actual['ad_id'], prediction['ad_id'], k=12)"
   ]
  },
  {
   "cell_type": "code",
   "execution_count": 8,
   "metadata": {
    "collapsed": true
   },
   "outputs": [],
   "source": [
    "def calc_min_max(data):\n",
    "    d={}\n",
    "    for feature in features:\n",
    "        if not(feature in features_asis):\n",
    "            d[feature+'_min'] = data.groupby('display_id')[feature].min()\n",
    "            d[feature+'_max'] = data.groupby('display_id')[feature].max()\n",
    "    \n",
    "    dataM = pd.DataFrame(d).reset_index()\n",
    "    #dataM.drop(features, axis=1 ,inplace=True)\n",
    "    return dataM"
   ]
  },
  {
   "cell_type": "code",
   "execution_count": 9,
   "metadata": {
    "collapsed": true
   },
   "outputs": [],
   "source": [
    "def fill_na(data, na_list):\n",
    "    d = {}\n",
    "    for feature in na_list:\n",
    "        d[feature] = data[feature].mean()\n",
    "    return data.fillna(d)"
   ]
  },
  {
   "cell_type": "raw",
   "metadata": {
    "collapsed": true
   },
   "source": [
    "def fill_na_grouped(data, na_list):\n",
    "    for feature in na_list:\n",
    "        m = data[feature].mean()\n",
    "        fill = pd.DataFrame({'subst':data.groupby('display_id')[feature].mean()}).reset_index().fillna({'subst':m})\n",
    "        index = data[feature].isnull()\n",
    "        data = data.merge(fill, on='display_id')\n",
    "        data.loc[index, feature] = data.loc[index, 'subst']\n",
    "        data.drop(['subst'], axis=1, inplace=True)\n",
    "    return data"
   ]
  },
  {
   "cell_type": "raw",
   "metadata": {
    "collapsed": true
   },
   "source": [
    "def undersample(data):\n",
    "    data1 = data[data['clicked']==1]\n",
    "    groupby = data[data['clicked']==0].groupby('display_id').first()\n",
    "    data0 = pd.DataFrame(groupby).reset_index()\n",
    "    return data1.append(data0, ignore_index=True)\n",
    "\n",
    "train = undersample(train)\n",
    "train.sort_values(['display_id'], inplace=True)\n",
    "train.count()"
   ]
  },
  {
   "cell_type": "code",
   "execution_count": 10,
   "metadata": {
    "collapsed": true
   },
   "outputs": [],
   "source": [
    "def calc_l(dataM):\n",
    "    for feature in features:\n",
    "        if not(feature in features_asis):\n",
    "            dataM[feature+'_l'] = dataM[feature + '_max'] - dataM[feature + '_min'] \n",
    "            dataM.loc[dataM[feature+'_l'] == 0, feature+'_l'] = 1\n",
    "            dataM.drop([feature+'_max'], axis=1, inplace=True)\n",
    "    return dataM    "
   ]
  },
  {
   "cell_type": "code",
   "execution_count": 11,
   "metadata": {
    "collapsed": true
   },
   "outputs": [],
   "source": [
    "def data_norm(data):\n",
    "    for feature in features:\n",
    "        if not(feature in features_asis):\n",
    "            data[feature] = ( data[feature] - data[feature+'_min'] ) / data[feature+'_l']\n",
    "            data.drop([feature+'_min', feature+'_l'], axis=1, inplace=True) \n",
    "    return data"
   ]
  },
  {
   "cell_type": "markdown",
   "metadata": {},
   "source": [
    "## Preparation for Validation"
   ]
  },
  {
   "cell_type": "markdown",
   "metadata": {},
   "source": [
    "#### Step 0"
   ]
  },
  {
   "cell_type": "code",
   "execution_count": 8,
   "metadata": {
    "collapsed": true
   },
   "outputs": [],
   "source": [
    "train_nrows, test_nrows =  None, None # 650000, 210000 #"
   ]
  },
  {
   "cell_type": "code",
   "execution_count": 9,
   "metadata": {
    "collapsed": false
   },
   "outputs": [],
   "source": [
    "train_index = pd.read_csv(\"../generated/final/train_index.csv\", nrows=train_nrows)['index'].ravel()\n",
    "test_index = pd.read_csv(\"../generated/final/test_index.csv\", nrows=test_nrows)['index'].ravel()"
   ]
  },
  {
   "cell_type": "code",
   "execution_count": 10,
   "metadata": {
    "collapsed": false
   },
   "outputs": [
    {
     "data": {
      "text/plain": [
       "87141731"
      ]
     },
     "execution_count": 10,
     "metadata": {},
     "output_type": "execute_result"
    }
   ],
   "source": [
    "nrows = max(train_index[-1], test_index[-1])+1\n",
    "nrows"
   ]
  },
  {
   "cell_type": "code",
   "execution_count": 11,
   "metadata": {
    "collapsed": false
   },
   "outputs": [
    {
     "data": {
      "text/plain": [
       "display_id        87141731\n",
       "ad_id             87141731\n",
       "clicked           87141731\n",
       "clicksPerShows    87141731\n",
       "dist              77941525\n",
       "dist_cats         83237252\n",
       "dist_ents         42904726\n",
       "dtype: int64"
      ]
     },
     "execution_count": 11,
     "metadata": {},
     "output_type": "execute_result"
    }
   ],
   "source": [
    "train = pd.read_csv(filename_train, usecols = usecols, nrows=nrows)\n",
    "train.count()"
   ]
  },
  {
   "cell_type": "code",
   "execution_count": 12,
   "metadata": {
    "collapsed": false
   },
   "outputs": [
    {
     "data": {
      "text/plain": [
       "display_id        87141731\n",
       "ad_id             87141731\n",
       "clicked           87141731\n",
       "clicksPerShows    87141731\n",
       "dist              87141731\n",
       "dist_cats         87141731\n",
       "dist_ents         87141731\n",
       "dtype: int64"
      ]
     },
     "execution_count": 12,
     "metadata": {},
     "output_type": "execute_result"
    }
   ],
   "source": [
    "train = fill_na(train, ['dist', 'dist_cats', 'dist_ents'])\n",
    "train.count()"
   ]
  },
  {
   "cell_type": "code",
   "execution_count": 13,
   "metadata": {
    "collapsed": true
   },
   "outputs": [],
   "source": [
    "train.to_csv(\"../generated/solutions/10_step0.csv\", index=False)"
   ]
  },
  {
   "cell_type": "code",
   "execution_count": 14,
   "metadata": {
    "collapsed": true
   },
   "outputs": [],
   "source": [
    "del train"
   ]
  },
  {
   "cell_type": "markdown",
   "metadata": {},
   "source": [
    "#### Step 1"
   ]
  },
  {
   "cell_type": "code",
   "execution_count": 17,
   "metadata": {
    "collapsed": true
   },
   "outputs": [],
   "source": [
    "output_file = \"../generated/solutions/10_step1.csv\""
   ]
  },
  {
   "cell_type": "code",
   "execution_count": 18,
   "metadata": {
    "collapsed": false,
    "scrolled": true
   },
   "outputs": [
    {
     "name": "stdout",
     "output_type": "stream",
     "text": [
      "Done\n"
     ]
    }
   ],
   "source": [
    "f = open(output_file, 'w')\n",
    "first = True\n",
    "for train in pd.read_csv(\"../generated/solutions/10_step0.csv\", chunksize=10**7):\n",
    "    train = calc_features(train)\n",
    "    \n",
    "    if first: \n",
    "        first = False \n",
    "        train.to_csv(f, header=True, index=False)\n",
    "        f.close()\n",
    "        f = open(output_file, 'a')\n",
    "    else:\n",
    "        train.to_csv(f, header=False, index=False)\n",
    "        \n",
    "f.close()\n",
    "print 'Done'"
   ]
  },
  {
   "cell_type": "markdown",
   "metadata": {},
   "source": [
    "#### Step 2"
   ]
  },
  {
   "cell_type": "code",
   "execution_count": 19,
   "metadata": {
    "collapsed": false
   },
   "outputs": [
    {
     "data": {
      "text/plain": [
       "display_id        87141731\n",
       "ad_id             87141731\n",
       "clicked           87141731\n",
       "clicksPerShows    87141731\n",
       "dist_cats         87141731\n",
       "dist2             87141731\n",
       "dist_ents2        87141731\n",
       "dist_ents3        87141731\n",
       "dtype: int64"
      ]
     },
     "execution_count": 19,
     "metadata": {},
     "output_type": "execute_result"
    }
   ],
   "source": [
    "train = pd.read_csv(\"../generated/solutions/10_step1.csv\")\n",
    "train.count()"
   ]
  },
  {
   "cell_type": "code",
   "execution_count": 20,
   "metadata": {
    "collapsed": false
   },
   "outputs": [],
   "source": [
    "train.ix[test_index].to_csv(\"../generated/solutions/10_step2_test.csv\", index=False)\n",
    "train.ix[train_index].to_csv(\"../generated/solutions/10_step2_train.csv\", index=False)\n",
    "del train"
   ]
  },
  {
   "cell_type": "markdown",
   "metadata": {},
   "source": [
    "#### Step 3"
   ]
  },
  {
   "cell_type": "code",
   "execution_count": 12,
   "metadata": {
    "collapsed": true
   },
   "outputs": [],
   "source": [
    "train = pd.read_csv(\"../generated/solutions/10_step2_train.csv\")"
   ]
  },
  {
   "cell_type": "code",
   "execution_count": 13,
   "metadata": {
    "collapsed": false
   },
   "outputs": [],
   "source": [
    "trainM = calc_min_max(train)\n",
    "#trainM.count()"
   ]
  },
  {
   "cell_type": "code",
   "execution_count": 14,
   "metadata": {
    "collapsed": false
   },
   "outputs": [],
   "source": [
    "trainM = calc_l(trainM)\n",
    "#trainM.count()"
   ]
  },
  {
   "cell_type": "code",
   "execution_count": 16,
   "metadata": {
    "collapsed": false
   },
   "outputs": [],
   "source": [
    "output_file = \"../generated/solutions/10_step3_train.csv\"\n",
    "f = open(output_file, 'w')\n",
    "first = True\n",
    "for train in pd.read_csv(\"../generated/solutions/10_step2_train.csv\", chunksize=10**7):\n",
    "    train = train.merge(trainM, on='display_id')\n",
    "    train = data_norm(train)\n",
    "    \n",
    "    if first:\n",
    "        first=False\n",
    "        train.to_csv(f, header=True, index=False)\n",
    "        f.close()\n",
    "        f = open(output_file, 'a')\n",
    "    else:\n",
    "        train.to_csv(f, header=False, index=False)\n",
    "\n",
    "f.close()"
   ]
  },
  {
   "cell_type": "code",
   "execution_count": 17,
   "metadata": {
    "collapsed": false
   },
   "outputs": [],
   "source": [
    "del trainM\n",
    "del train"
   ]
  },
  {
   "cell_type": "code",
   "execution_count": 18,
   "metadata": {
    "collapsed": true
   },
   "outputs": [],
   "source": [
    "test = pd.read_csv(\"../generated/solutions/10_step2_test.csv\")"
   ]
  },
  {
   "cell_type": "code",
   "execution_count": 19,
   "metadata": {
    "collapsed": false
   },
   "outputs": [],
   "source": [
    "testM = calc_min_max(test)\n",
    "testM = calc_l(testM)"
   ]
  },
  {
   "cell_type": "code",
   "execution_count": 20,
   "metadata": {
    "collapsed": false
   },
   "outputs": [],
   "source": [
    "test = test.merge(testM, on='display_id')\n",
    "del testM"
   ]
  },
  {
   "cell_type": "code",
   "execution_count": 21,
   "metadata": {
    "collapsed": false
   },
   "outputs": [],
   "source": [
    "test = data_norm(test)\n",
    "#test.count()"
   ]
  },
  {
   "cell_type": "code",
   "execution_count": 22,
   "metadata": {
    "collapsed": true
   },
   "outputs": [],
   "source": [
    "test.to_csv(\"../generated/solutions/10_step3_test.csv\", index=False)"
   ]
  },
  {
   "cell_type": "raw",
   "metadata": {
    "collapsed": false
   },
   "source": [
    "platform_oneshot = pd.DataFrame({'platform':[1,2,3], 'p1':[1,0,0], 'p2':[0,1,0], 'p3':[0,0,1]})\n",
    "platform_oneshot.head()"
   ]
  },
  {
   "cell_type": "raw",
   "metadata": {
    "collapsed": false
   },
   "source": [
    "traffic_oneshot = pd.DataFrame({'traffic_source':[1,2,3], 't1':[1,0,0], 't2':[0,1,0], 't3':[0,0,1]})\n",
    "traffic_oneshot.head()"
   ]
  },
  {
   "cell_type": "raw",
   "metadata": {
    "collapsed": false
   },
   "source": [
    "train = train.merge(platform_oneshot, on='platform').drop('platform', axis=1)\n",
    "test = test.merge(platform_oneshot, on='platform').drop('platform', axis=1)\n",
    "\n",
    "train = train.merge(traffic_oneshot, on='traffic_source').drop('traffic_source', axis=1)\n",
    "test = test.merge(traffic_oneshot, on='traffic_source').drop('traffic_source', axis=1)"
   ]
  },
  {
   "cell_type": "markdown",
   "metadata": {},
   "source": [
    "#### Step 4"
   ]
  },
  {
   "cell_type": "code",
   "execution_count": 23,
   "metadata": {
    "collapsed": true
   },
   "outputs": [],
   "source": [
    "train = pd.read_csv(\"../generated/solutions/10_step3_train.csv\")\n",
    "test = pd.read_csv(\"../generated/solutions/10_step3_test.csv\")"
   ]
  },
  {
   "cell_type": "code",
   "execution_count": 24,
   "metadata": {
    "collapsed": false
   },
   "outputs": [
    {
     "name": "stdout",
     "output_type": "stream",
     "text": [
      "clicksPerShows\n",
      "dist2\n",
      "dist_cats\n",
      "dist_ents2\n",
      "dist_ents3\n"
     ]
    }
   ],
   "source": [
    "scaler = preprocessing.StandardScaler()\n",
    "excpt = [] \n",
    "for f in features:\n",
    "    if not f in excpt:\n",
    "        print f\n",
    "        scaler.fit(train[[f]])\n",
    "        train[f] = scaler.transform(train[[f]]) \n",
    "        test[f] = scaler.transform(test[[f]])"
   ]
  },
  {
   "cell_type": "code",
   "execution_count": 26,
   "metadata": {
    "collapsed": true
   },
   "outputs": [],
   "source": [
    "train.to_csv(\"../generated/solutions/10_step4_train.csv\", index=False)\n",
    "test.to_csv(\"../generated/solutions/10_step4_test.csv\", index=False)"
   ]
  },
  {
   "cell_type": "code",
   "execution_count": 25,
   "metadata": {
    "collapsed": false
   },
   "outputs": [
    {
     "data": {
      "text/html": [
       "<div>\n",
       "<table border=\"1\" class=\"dataframe\">\n",
       "  <thead>\n",
       "    <tr style=\"text-align: right;\">\n",
       "      <th></th>\n",
       "      <th>clicksPerShows</th>\n",
       "      <th>dist2</th>\n",
       "      <th>dist_cats</th>\n",
       "      <th>dist_ents2</th>\n",
       "      <th>dist_ents3</th>\n",
       "    </tr>\n",
       "  </thead>\n",
       "  <tbody>\n",
       "    <tr>\n",
       "      <th>0</th>\n",
       "      <td>-1.123144</td>\n",
       "      <td>1.624163</td>\n",
       "      <td>0.882414</td>\n",
       "      <td>2.054183</td>\n",
       "      <td>2.119184</td>\n",
       "    </tr>\n",
       "    <tr>\n",
       "      <th>1</th>\n",
       "      <td>0.852239</td>\n",
       "      <td>0.464969</td>\n",
       "      <td>-1.305112</td>\n",
       "      <td>2.042145</td>\n",
       "      <td>2.104633</td>\n",
       "    </tr>\n",
       "    <tr>\n",
       "      <th>2</th>\n",
       "      <td>1.495124</td>\n",
       "      <td>-0.926478</td>\n",
       "      <td>0.977686</td>\n",
       "      <td>2.051900</td>\n",
       "      <td>2.116423</td>\n",
       "    </tr>\n",
       "    <tr>\n",
       "      <th>3</th>\n",
       "      <td>-0.915151</td>\n",
       "      <td>-0.844819</td>\n",
       "      <td>0.764467</td>\n",
       "      <td>-0.672020</td>\n",
       "      <td>-0.646231</td>\n",
       "    </tr>\n",
       "    <tr>\n",
       "      <th>4</th>\n",
       "      <td>-0.050373</td>\n",
       "      <td>-0.926478</td>\n",
       "      <td>-1.305112</td>\n",
       "      <td>-0.672020</td>\n",
       "      <td>-0.646231</td>\n",
       "    </tr>\n",
       "  </tbody>\n",
       "</table>\n",
       "</div>"
      ],
      "text/plain": [
       "   clicksPerShows     dist2  dist_cats  dist_ents2  dist_ents3\n",
       "0       -1.123144  1.624163   0.882414    2.054183    2.119184\n",
       "1        0.852239  0.464969  -1.305112    2.042145    2.104633\n",
       "2        1.495124 -0.926478   0.977686    2.051900    2.116423\n",
       "3       -0.915151 -0.844819   0.764467   -0.672020   -0.646231\n",
       "4       -0.050373 -0.926478  -1.305112   -0.672020   -0.646231"
      ]
     },
     "execution_count": 25,
     "metadata": {},
     "output_type": "execute_result"
    }
   ],
   "source": [
    "train[features].head()"
   ]
  },
  {
   "cell_type": "markdown",
   "metadata": {},
   "source": [
    "## Validation"
   ]
  },
  {
   "cell_type": "raw",
   "metadata": {},
   "source": [
    "train = pd.read_csv(\"../generated/solutions/10_step4_train.csv\")\n",
    "test = pd.read_csv(\"../generated/solutions/10_step4_test.csv\")"
   ]
  },
  {
   "cell_type": "code",
   "execution_count": 55,
   "metadata": {
    "collapsed": false
   },
   "outputs": [
    {
     "data": {
      "text/plain": [
       "SGDClassifier(alpha=0.0001, average=False, class_weight=None, epsilon=0.1,\n",
       "       eta0=0.0, fit_intercept=True, l1_ratio=0.15,\n",
       "       learning_rate='optimal', loss='log', n_iter=5, n_jobs=1,\n",
       "       penalty='l2', power_t=0.5, random_state=0, shuffle=True, verbose=0,\n",
       "       warm_start=False)"
      ]
     },
     "execution_count": 55,
     "metadata": {},
     "output_type": "execute_result"
    }
   ],
   "source": [
    "clf = linear_model.SGDClassifier(random_state=0, loss='log', fit_intercept=intercept, n_iter=5, class_weight=class_weight)\n",
    "clf.fit(train[features], train['clicked'].ravel())"
   ]
  },
  {
   "cell_type": "code",
   "execution_count": 56,
   "metadata": {
    "collapsed": false
   },
   "outputs": [
    {
     "data": {
      "text/plain": [
       "array([0, 1], dtype=int64)"
      ]
     },
     "execution_count": 56,
     "metadata": {},
     "output_type": "execute_result"
    }
   ],
   "source": [
    "clf.classes_"
   ]
  },
  {
   "cell_type": "code",
   "execution_count": 57,
   "metadata": {
    "collapsed": false
   },
   "outputs": [
    {
     "data": {
      "text/plain": [
       "display_id    21786490\n",
       "ad_id         21786490\n",
       "clicked       21786490\n",
       "dtype: int64"
      ]
     },
     "execution_count": 57,
     "metadata": {},
     "output_type": "execute_result"
    }
   ],
   "source": [
    "clicks_test_sample = test[['display_id', 'ad_id', 'clicked']]\n",
    "clicks_test_sample.count()"
   ]
  },
  {
   "cell_type": "code",
   "execution_count": 58,
   "metadata": {
    "collapsed": false
   },
   "outputs": [
    {
     "data": {
      "text/plain": [
       "display_id    4220025\n",
       "ad_id         4220025\n",
       "clicked       4220025\n",
       "dtype: int64"
      ]
     },
     "execution_count": 58,
     "metadata": {},
     "output_type": "execute_result"
    }
   ],
   "source": [
    "validation = clicks_test_sample[clicks_test_sample['clicked']==1].astype({'ad_id':str}).sort_values('display_id')\n",
    "validation.count()"
   ]
  },
  {
   "cell_type": "code",
   "execution_count": 59,
   "metadata": {
    "collapsed": false
   },
   "outputs": [
    {
     "data": {
      "text/html": [
       "<div>\n",
       "<table border=\"1\" class=\"dataframe\">\n",
       "  <thead>\n",
       "    <tr style=\"text-align: right;\">\n",
       "      <th></th>\n",
       "      <th>clicksPerShows</th>\n",
       "      <th>dist2</th>\n",
       "    </tr>\n",
       "  </thead>\n",
       "  <tbody>\n",
       "    <tr>\n",
       "      <th>0</th>\n",
       "      <td>1.495124</td>\n",
       "      <td>-0.926478</td>\n",
       "    </tr>\n",
       "    <tr>\n",
       "      <th>1</th>\n",
       "      <td>-1.123144</td>\n",
       "      <td>1.022875</td>\n",
       "    </tr>\n",
       "    <tr>\n",
       "      <th>2</th>\n",
       "      <td>-1.005127</td>\n",
       "      <td>0.241676</td>\n",
       "    </tr>\n",
       "    <tr>\n",
       "      <th>3</th>\n",
       "      <td>0.731841</td>\n",
       "      <td>-0.374877</td>\n",
       "    </tr>\n",
       "    <tr>\n",
       "      <th>4</th>\n",
       "      <td>-0.956287</td>\n",
       "      <td>1.624163</td>\n",
       "    </tr>\n",
       "  </tbody>\n",
       "</table>\n",
       "</div>"
      ],
      "text/plain": [
       "   clicksPerShows     dist2\n",
       "0        1.495124 -0.926478\n",
       "1       -1.123144  1.022875\n",
       "2       -1.005127  0.241676\n",
       "3        0.731841 -0.374877\n",
       "4       -0.956287  1.624163"
      ]
     },
     "execution_count": 59,
     "metadata": {},
     "output_type": "execute_result"
    }
   ],
   "source": [
    "test[features].head()"
   ]
  },
  {
   "cell_type": "code",
   "execution_count": 60,
   "metadata": {
    "collapsed": false
   },
   "outputs": [
    {
     "data": {
      "text/html": [
       "<div>\n",
       "<table border=\"1\" class=\"dataframe\">\n",
       "  <thead>\n",
       "    <tr style=\"text-align: right;\">\n",
       "      <th></th>\n",
       "      <th>display_id</th>\n",
       "      <th>ad_id</th>\n",
       "      <th>clicked</th>\n",
       "      <th>clicksPerShows</th>\n",
       "      <th>dist_cats</th>\n",
       "      <th>dist2</th>\n",
       "      <th>dist_ents2</th>\n",
       "      <th>dist_ents3</th>\n",
       "      <th>res</th>\n",
       "    </tr>\n",
       "  </thead>\n",
       "  <tbody>\n",
       "    <tr>\n",
       "      <th>0</th>\n",
       "      <td>19972</td>\n",
       "      <td>120162</td>\n",
       "      <td>1</td>\n",
       "      <td>1.495124</td>\n",
       "      <td>-1.305112</td>\n",
       "      <td>-0.926478</td>\n",
       "      <td>-0.67202</td>\n",
       "      <td>-0.646231</td>\n",
       "      <td>0.421557</td>\n",
       "    </tr>\n",
       "    <tr>\n",
       "      <th>1</th>\n",
       "      <td>19972</td>\n",
       "      <td>122279</td>\n",
       "      <td>0</td>\n",
       "      <td>-1.123144</td>\n",
       "      <td>-1.305112</td>\n",
       "      <td>1.022875</td>\n",
       "      <td>-0.67202</td>\n",
       "      <td>-0.646231</td>\n",
       "      <td>0.062410</td>\n",
       "    </tr>\n",
       "    <tr>\n",
       "      <th>2</th>\n",
       "      <td>19972</td>\n",
       "      <td>168342</td>\n",
       "      <td>0</td>\n",
       "      <td>-1.005127</td>\n",
       "      <td>-1.305112</td>\n",
       "      <td>0.241676</td>\n",
       "      <td>-0.67202</td>\n",
       "      <td>-0.646231</td>\n",
       "      <td>0.068310</td>\n",
       "    </tr>\n",
       "    <tr>\n",
       "      <th>3</th>\n",
       "      <td>19972</td>\n",
       "      <td>176585</td>\n",
       "      <td>0</td>\n",
       "      <td>0.731841</td>\n",
       "      <td>-1.305112</td>\n",
       "      <td>-0.374877</td>\n",
       "      <td>-0.67202</td>\n",
       "      <td>-0.646231</td>\n",
       "      <td>0.266134</td>\n",
       "    </tr>\n",
       "    <tr>\n",
       "      <th>4</th>\n",
       "      <td>19972</td>\n",
       "      <td>250080</td>\n",
       "      <td>0</td>\n",
       "      <td>-0.956287</td>\n",
       "      <td>-1.305112</td>\n",
       "      <td>1.624163</td>\n",
       "      <td>-0.67202</td>\n",
       "      <td>-0.646231</td>\n",
       "      <td>0.072742</td>\n",
       "    </tr>\n",
       "  </tbody>\n",
       "</table>\n",
       "</div>"
      ],
      "text/plain": [
       "   display_id   ad_id  clicked  clicksPerShows  dist_cats     dist2  \\\n",
       "0       19972  120162        1        1.495124  -1.305112 -0.926478   \n",
       "1       19972  122279        0       -1.123144  -1.305112  1.022875   \n",
       "2       19972  168342        0       -1.005127  -1.305112  0.241676   \n",
       "3       19972  176585        0        0.731841  -1.305112 -0.374877   \n",
       "4       19972  250080        0       -0.956287  -1.305112  1.624163   \n",
       "\n",
       "   dist_ents2  dist_ents3       res  \n",
       "0    -0.67202   -0.646231  0.421557  \n",
       "1    -0.67202   -0.646231  0.062410  \n",
       "2    -0.67202   -0.646231  0.068310  \n",
       "3    -0.67202   -0.646231  0.266134  \n",
       "4    -0.67202   -0.646231  0.072742  "
      ]
     },
     "execution_count": 60,
     "metadata": {},
     "output_type": "execute_result"
    }
   ],
   "source": [
    "test['res'] = pd.Series(clf.predict_proba(test[features])[:,1])\n",
    "test.head()"
   ]
  },
  {
   "cell_type": "code",
   "execution_count": 61,
   "metadata": {
    "collapsed": false
   },
   "outputs": [
    {
     "data": {
      "text/plain": [
       "(array([[ 0.92609711,  0.01619549]]), -1.6860087543971871)"
      ]
     },
     "execution_count": 61,
     "metadata": {},
     "output_type": "execute_result"
    }
   ],
   "source": [
    "clf.coef_, clf.intercept_[0]"
   ]
  },
  {
   "cell_type": "code",
   "execution_count": 62,
   "metadata": {
    "collapsed": false
   },
   "outputs": [
    {
     "data": {
      "text/plain": [
       "display_id        21786490\n",
       "ad_id             21786490\n",
       "clicked           21786490\n",
       "clicksPerShows    21786490\n",
       "dist_cats         21786490\n",
       "dist2             21786490\n",
       "dist_ents2        21786490\n",
       "dist_ents3        21786490\n",
       "res               21786490\n",
       "dtype: int64"
      ]
     },
     "execution_count": 62,
     "metadata": {},
     "output_type": "execute_result"
    }
   ],
   "source": [
    "prediction = test.sort_values(by=['display_id', 'res'], ascending=[True, False])\n",
    "prediction.count()"
   ]
  },
  {
   "cell_type": "code",
   "execution_count": 63,
   "metadata": {
    "collapsed": false
   },
   "outputs": [
    {
     "data": {
      "text/plain": [
       "display_id    4220025\n",
       "ad_id         4220025\n",
       "dtype: int64"
      ]
     },
     "execution_count": 63,
     "metadata": {},
     "output_type": "execute_result"
    }
   ],
   "source": [
    "prediction=pd.DataFrame({ 'ad_id': prediction.groupby('display_id')['ad_id'].apply(join) }).astype({'ad_id':str}).reset_index()\n",
    "prediction.count()"
   ]
  },
  {
   "cell_type": "code",
   "execution_count": 64,
   "metadata": {
    "collapsed": false
   },
   "outputs": [
    {
     "data": {
      "text/html": [
       "<div>\n",
       "<table border=\"1\" class=\"dataframe\">\n",
       "  <thead>\n",
       "    <tr style=\"text-align: right;\">\n",
       "      <th></th>\n",
       "      <th>display_id</th>\n",
       "      <th>ad_id</th>\n",
       "    </tr>\n",
       "  </thead>\n",
       "  <tbody>\n",
       "    <tr>\n",
       "      <th>0</th>\n",
       "      <td>1</td>\n",
       "      <td>279295 144739 42337 139684 296965 156824</td>\n",
       "    </tr>\n",
       "    <tr>\n",
       "      <th>1</th>\n",
       "      <td>7</td>\n",
       "      <td>300808 215967 105766</td>\n",
       "    </tr>\n",
       "    <tr>\n",
       "      <th>2</th>\n",
       "      <td>9</td>\n",
       "      <td>151028 19959 140940 104208</td>\n",
       "    </tr>\n",
       "    <tr>\n",
       "      <th>3</th>\n",
       "      <td>14</td>\n",
       "      <td>98270 143467 224171 288396</td>\n",
       "    </tr>\n",
       "    <tr>\n",
       "      <th>4</th>\n",
       "      <td>26</td>\n",
       "      <td>152193 285992</td>\n",
       "    </tr>\n",
       "  </tbody>\n",
       "</table>\n",
       "</div>"
      ],
      "text/plain": [
       "   display_id                                     ad_id\n",
       "0           1  279295 144739 42337 139684 296965 156824\n",
       "1           7                      300808 215967 105766\n",
       "2           9                151028 19959 140940 104208\n",
       "3          14                98270 143467 224171 288396\n",
       "4          26                             152193 285992"
      ]
     },
     "execution_count": 64,
     "metadata": {},
     "output_type": "execute_result"
    }
   ],
   "source": [
    "prediction.head()"
   ]
  },
  {
   "cell_type": "code",
   "execution_count": 65,
   "metadata": {
    "collapsed": false
   },
   "outputs": [
    {
     "data": {
      "text/html": [
       "<div>\n",
       "<table border=\"1\" class=\"dataframe\">\n",
       "  <thead>\n",
       "    <tr style=\"text-align: right;\">\n",
       "      <th></th>\n",
       "      <th>display_id</th>\n",
       "      <th>ad_id</th>\n",
       "      <th>clicked</th>\n",
       "    </tr>\n",
       "  </thead>\n",
       "  <tbody>\n",
       "    <tr>\n",
       "      <th>18142714</th>\n",
       "      <td>1</td>\n",
       "      <td>144739</td>\n",
       "      <td>1</td>\n",
       "    </tr>\n",
       "    <tr>\n",
       "      <th>14412118</th>\n",
       "      <td>7</td>\n",
       "      <td>105766</td>\n",
       "      <td>1</td>\n",
       "    </tr>\n",
       "    <tr>\n",
       "      <th>11270842</th>\n",
       "      <td>9</td>\n",
       "      <td>140940</td>\n",
       "      <td>1</td>\n",
       "    </tr>\n",
       "    <tr>\n",
       "      <th>377269</th>\n",
       "      <td>14</td>\n",
       "      <td>224171</td>\n",
       "      <td>1</td>\n",
       "    </tr>\n",
       "    <tr>\n",
       "      <th>18233315</th>\n",
       "      <td>26</td>\n",
       "      <td>152193</td>\n",
       "      <td>1</td>\n",
       "    </tr>\n",
       "  </tbody>\n",
       "</table>\n",
       "</div>"
      ],
      "text/plain": [
       "          display_id   ad_id  clicked\n",
       "18142714           1  144739        1\n",
       "14412118           7  105766        1\n",
       "11270842           9  140940        1\n",
       "377269            14  224171        1\n",
       "18233315          26  152193        1"
      ]
     },
     "execution_count": 65,
     "metadata": {},
     "output_type": "execute_result"
    }
   ],
   "source": [
    "validation.head()"
   ]
  },
  {
   "cell_type": "code",
   "execution_count": 66,
   "metadata": {
    "collapsed": true
   },
   "outputs": [],
   "source": [
    "err = model_evaluation(validation, prediction)  "
   ]
  },
  {
   "cell_type": "code",
   "execution_count": 67,
   "metadata": {
    "collapsed": false
   },
   "outputs": [
    {
     "name": "stdout",
     "output_type": "stream",
     "text": [
      "clicksPerShows : 0.662851376673\n"
     ]
    }
   ],
   "source": [
    "print 'clicksPerShows :', err  #0.662869594202      0.589962163742     "
   ]
  },
  {
   "cell_type": "code",
   "execution_count": 48,
   "metadata": {
    "collapsed": false
   },
   "outputs": [],
   "source": [
    "#['clicksPerShows']                             0.662869594202       0.588499968978 \n",
    "#['clicksPerShows', 'dist']                     0.66282443126        0.588638094838     -> 0.662839173432 (niter=20)\n",
    "                                                                    #0.588785527156\n",
    "# ['clicksPerShows', 'dist', 'dist_cats']       0.663048972212       0.589767768832    \n",
    "# ['clicksPerShows', 'dist_cats']                                    0.589561035359\n",
    "# ['clicksPerShows', 'dist2', 'dist_cats']                           0.589826269431\n",
    "# [1, 'clicksPerShows', 'dist2']                0.662851376673  \n",
    "# [..., 'dist2', 'dist_cats']                   0.663003642753       0.589922876476 \n",
    "# [..., 'dist2', 'dist_cats', 'dist_ents']                           0.589944691616 \n",
    "# [..., 'dist2', 'dist_cats', 'dist_ents2']                          0.589952567082 \n",
    "# [..., 'dist_cats', 'dist_ents', 'dist_ents2']                      0.589962163742 \n",
    "# [..., 'dist_cats', 'dist_ents2', 'dist_ents3'] 0.662808371039      0.590029410411 <<<<<<<<<<\n",
    "    \n",
    "                                      #         0.6628185045   +platform\n",
    "                                     #          0.662806944913 +intercept\n",
    "#['clicksPerShows', 'dist', 'adsPerDisplay']                         0.588542728654                                     \n",
    "#['clicksPerShows', 'p1', 'p2', 'p3', 'dist']                        0.588165686987\n",
    "#['clicksPerShows', 'dist', 't1', 't2', 't3']                        0.588181057654\n",
    "#['clicksPerShows', 'p1', 'p2', 'p3']                                0.588499968978\n",
    "#['clicksPerShows', 't1', 't2', 't3']                                0.588499968978 \n",
    "#['clicksPerShows', 'adsPerDisplay']                                 0.588499968978\n"
   ]
  },
  {
   "cell_type": "raw",
   "metadata": {
    "collapsed": false
   },
   "source": [
    "## Preparation for Training"
   ]
  },
  {
   "cell_type": "raw",
   "metadata": {
    "collapsed": false
   },
   "source": [
    "train = pd.read_csv(\"../generated/final/events_clicks_CTR_addocs_dist_cats_train.csv\", usecols = usecols)\n",
    "train.count()"
   ]
  },
  {
   "cell_type": "raw",
   "metadata": {
    "collapsed": true
   },
   "source": [
    "train['dist2'] = np.square(train['dist'])\n",
    "dist2_mean = train['dist2'].mean()\n",
    "dist_cats_mean = train['dist_cats'].mean()\n",
    "train = train.fillna({'dist2':dist2_mean, 'dist_cats':dist_cats_mean}, inplace=True)"
   ]
  },
  {
   "cell_type": "raw",
   "metadata": {
    "collapsed": false
   },
   "source": [
    "trainM = pd.DataFrame({'clicksPerShows_min':train.groupby('display_id')['clicksPerShows'].min(),\n",
    "                       'clicksPerShows_max':train.groupby('display_id')['clicksPerShows'].max(),\n",
    "                       'dist2_min':train.groupby('display_id')['dist2'].min(),\n",
    "                       'dist2_max':train.groupby('display_id')['dist2'].max(),\n",
    "                       'dist_cats_min':train.groupby('display_id')['dist_cats'].min(),\n",
    "                       'dist_cats_max':train.groupby('display_id')['dist_cats'].max()\n",
    "                      }).reset_index()\n",
    "trainM.count()"
   ]
  },
  {
   "cell_type": "raw",
   "metadata": {
    "collapsed": false
   },
   "source": [
    "trainM['clicksPerShows_l'] = trainM['clicksPerShows_max'] - trainM['clicksPerShows_min']\n",
    "trainM['dist2_l'] = trainM['dist2_max'] - trainM['dist2_min']\n",
    "trainM['dist_cats_l'] = trainM['dist_cats_max'] - trainM['dist_cats_min']\n",
    "trainM.drop(['clicksPerShows_max', 'dist2_max', 'dist_cats_max'], axis=1, inplace=True)\n",
    "trainM.count()"
   ]
  },
  {
   "cell_type": "raw",
   "metadata": {
    "collapsed": false
   },
   "source": [
    "print sum(trainM['clicksPerShows_l'] == 0)\n",
    "print sum(trainM['dist2_l'] == 0)\n",
    "print sum(trainM['dist_cats_l'] == 0)"
   ]
  },
  {
   "cell_type": "raw",
   "metadata": {
    "collapsed": true
   },
   "source": [
    "trainM.loc[trainM['clicksPerShows_l'] == 0, 'clicksPerShows_l'] = 1\n",
    "trainM.loc[trainM['dist2_l'] == 0, 'dist2_l'] = 1\n",
    "trainM.loc[trainM['dist_cats_l'] == 0, 'dist_cats_l'] = 1"
   ]
  },
  {
   "cell_type": "raw",
   "metadata": {
    "collapsed": true
   },
   "source": [
    "trainM.to_csv(\"../temp/trainM_full.csv\", index=False)"
   ]
  },
  {
   "cell_type": "raw",
   "metadata": {
    "collapsed": false
   },
   "source": [
    "trainM = pd.read_csv(\"../temp/trainM_full.csv\")\n",
    "trainM.count()"
   ]
  },
  {
   "cell_type": "raw",
   "metadata": {
    "collapsed": false
   },
   "source": [
    "train = train.merge(trainM, on='display_id')\n",
    "train.count()"
   ]
  },
  {
   "cell_type": "raw",
   "metadata": {
    "collapsed": true
   },
   "source": [
    "input_file = \"../generated/final/events_clicks_CTR_addocs_dist_cats_train.csv\"\n",
    "output_file = \"../temp/train_merge.csv\"\n",
    "chunksize=10 * 10**6\n",
    "how='inner'"
   ]
  },
  {
   "cell_type": "raw",
   "metadata": {
    "collapsed": false
   },
   "source": [
    "first_time = True\n",
    "size = 0\n",
    "i = 0\n",
    "    \n",
    "f = open(output_file, 'w')\n",
    "\n",
    "for train in pd.read_csv(input_file, chunksize=chunksize):\n",
    "    train['dist2'] = np.square(train['dist'])\n",
    "    train = train.fillna({'dist2':dist2_mean, 'dist_cats':dist_cats_mean}, inplace=True)\n",
    "    \n",
    "    train = train.merge(trainM, on='display_id')\n",
    "    \n",
    "    train['clicksPerShows'] = ( train['clicksPerShows'] - train['clicksPerShows_min'] ) / train['clicksPerShows_l']\n",
    "    train['dist2'] = ( train['dist2'] - train['dist2_min'] ) / train['dist2_l']\n",
    "    train['dist_cats'] = ( train['dist_cats'] - train['dist_cats_min'] ) / train['dist_cats_l']\n",
    "    train.drop(['clicksPerShows_min', 'clicksPerShows_l', 'dist2_min', 'dist2_l'], axis=1, inplace=True)\n",
    "    train.drop(['dist_cats_min', 'dist_cats_l'], axis=1, inplace=True)\n",
    "\n",
    "    if first_time:\n",
    "        train.to_csv(f, index = False, header=True)\n",
    "        f.close()\n",
    "        f = open(output_file, 'a')\n",
    "        first_time = False\n",
    "    else:\n",
    "        train.to_csv(f, index = False, header=False)\n",
    "    \n",
    "    size+=chunksize\n",
    "    i+=1\n",
    "    print i, size\n",
    "    \n",
    "    #break\n",
    "            \n",
    "print 'Done'\n",
    "    \n",
    "f.close()"
   ]
  },
  {
   "cell_type": "raw",
   "metadata": {
    "collapsed": true
   },
   "source": [
    "del trainM"
   ]
  },
  {
   "cell_type": "raw",
   "metadata": {
    "collapsed": false
   },
   "source": [
    "usecols + ['dist2']"
   ]
  },
  {
   "cell_type": "raw",
   "metadata": {
    "collapsed": false
   },
   "source": [
    "train = pd.read_csv(output_file, usecols = usecols + ['dist2'])\n",
    "train.count()"
   ]
  },
  {
   "cell_type": "raw",
   "metadata": {
    "collapsed": false
   },
   "source": [
    "scaler = {}\n",
    "excpt = [] #['clicksPerShows', 'distM'] #, 'p1', 'p2', 'p3', 't1', 't2', 't3', 'adsPerDisplay']\n",
    "for f in features:\n",
    "    if not f in excpt:\n",
    "        print f\n",
    "        scaler[f] = preprocessing.StandardScaler()\n",
    "        scaler[f].fit(train[[f]])\n",
    "        train[f] = scaler[f].transform(train[[f]]) \n",
    "        #test[f] = scaler.transform(test[[f]])"
   ]
  },
  {
   "cell_type": "raw",
   "metadata": {
    "collapsed": false
   },
   "source": [
    "train[features].head()"
   ]
  },
  {
   "cell_type": "raw",
   "metadata": {
    "collapsed": true
   },
   "source": [
    "### Training"
   ]
  },
  {
   "cell_type": "raw",
   "metadata": {
    "collapsed": false
   },
   "source": [
    "clf = linear_model.SGDClassifier(random_state=0, loss='log', fit_intercept=True, n_iter=5)\n",
    "clf.fit(train[features], train['clicked'].ravel())"
   ]
  },
  {
   "cell_type": "raw",
   "metadata": {
    "collapsed": false
   },
   "source": [
    "clf.classes_"
   ]
  },
  {
   "cell_type": "raw",
   "metadata": {
    "collapsed": false
   },
   "source": [
    "clf.coef_, clf.intercept_[0]"
   ]
  },
  {
   "cell_type": "raw",
   "metadata": {
    "collapsed": true
   },
   "source": [
    "del train"
   ]
  },
  {
   "cell_type": "raw",
   "metadata": {},
   "source": [
    "### Preparation for Prediction"
   ]
  },
  {
   "cell_type": "raw",
   "metadata": {
    "collapsed": false
   },
   "source": [
    "test = pd.read_csv(\"../generated/final/events_clicks_CTR_addocs_dist_cats_test.csv\", usecols = usecols[:-1])\n",
    "test.count()"
   ]
  },
  {
   "cell_type": "raw",
   "metadata": {
    "collapsed": true
   },
   "source": [
    "test['dist2'] = np.square(test['dist'])"
   ]
  },
  {
   "cell_type": "raw",
   "metadata": {
    "collapsed": false
   },
   "source": [
    "test = test.fillna({'dist2':dist2_mean, 'dist_cats':dist_cats_mean}, inplace=True)\n",
    "test.count()"
   ]
  },
  {
   "cell_type": "raw",
   "metadata": {
    "collapsed": false
   },
   "source": [
    "testM = pd.DataFrame({'clicksPerShows_min':test.groupby('display_id')['clicksPerShows'].min(),\n",
    "                      'clicksPerShows_max':test.groupby('display_id')['clicksPerShows'].max(),\n",
    "                      'dist2_min':test.groupby('display_id')['dist2'].min(),\n",
    "                      'dist2_max':test.groupby('display_id')['dist2'].max(),\n",
    "                      'dist_cats_min':test.groupby('display_id')['dist_cats'].min(),\n",
    "                      'dist_cats_max':test.groupby('display_id')['dist_cats'].max()\n",
    "                      }).reset_index()\n",
    "testM.count()"
   ]
  },
  {
   "cell_type": "raw",
   "metadata": {
    "collapsed": false
   },
   "source": [
    "testM['clicksPerShows_l'] = testM['clicksPerShows_max'] - testM['clicksPerShows_min']\n",
    "testM['dist2_l'] = testM['dist2_max'] - testM['dist2_min']\n",
    "testM['dist_cats_l'] = testM['dist_cats_max'] - testM['dist_cats_min']\n",
    "testM.drop(['clicksPerShows_max', 'dist2_max', 'dist_cats_max'], axis=1, inplace=True)\n",
    "\n",
    "testM.count()"
   ]
  },
  {
   "cell_type": "raw",
   "metadata": {
    "collapsed": false
   },
   "source": [
    "print sum(testM['clicksPerShows_l'] == 0)\n",
    "print sum(testM['dist2_l'] == 0)\n",
    "print sum(testM['dist_cats_l'] == 0)"
   ]
  },
  {
   "cell_type": "raw",
   "metadata": {
    "collapsed": true
   },
   "source": [
    "testM.loc[testM['clicksPerShows_l'] == 0, 'clicksPerShows_l'] = 1\n",
    "testM.loc[testM['dist2_l'] == 0, 'dist2_l'] = 1\n",
    "testM.loc[testM['dist_cats_l'] == 0, 'dist_cats_l'] = 1"
   ]
  },
  {
   "cell_type": "raw",
   "metadata": {
    "collapsed": false
   },
   "source": [
    "test = test.merge(testM, on='display_id')\n",
    "del testM\n",
    "test.count()"
   ]
  },
  {
   "cell_type": "raw",
   "metadata": {
    "collapsed": false
   },
   "source": [
    "test['clicksPerShows'] = ( test['clicksPerShows'] - test['clicksPerShows_min'] ) / test['clicksPerShows_l']\n",
    "test['dist2'] = ( test['dist2'] - test['dist2_min'] ) / test['dist2_l']\n",
    "test['dist_cats'] = ( test['dist_cats'] - test['dist_cats_min'] ) / test['dist_cats_l']\n",
    "test.drop(['clicksPerShows_min', 'clicksPerShows_l', 'dist2_min', 'dist2_l'], axis=1, inplace=True)\n",
    "test.drop(['dist_cats_min', 'dist_cats_l'], axis=1, inplace=True)\n",
    "#test.drop(['clicksPerShows_min', 'clicksPerShows_l', 'dist_max', 'dist_l'], axis=1, inplace=True)\n",
    "test.count()"
   ]
  },
  {
   "cell_type": "raw",
   "metadata": {
    "collapsed": false
   },
   "source": [
    "excpt = [] #['clicksPerShows', 'distM'] #, 'p1', 'p2', 'p3', 't1', 't2', 't3', 'adsPerDisplay']\n",
    "for f in features:\n",
    "    if not f in excpt:\n",
    "        print f\n",
    "        test[f] = scaler[f].transform(test[[f]])  #Use scaler from train"
   ]
  },
  {
   "cell_type": "raw",
   "metadata": {
    "collapsed": false
   },
   "source": [
    "test[features].head()"
   ]
  },
  {
   "cell_type": "raw",
   "metadata": {},
   "source": [
    "### Prediction"
   ]
  },
  {
   "cell_type": "raw",
   "metadata": {
    "collapsed": false
   },
   "source": [
    "test['res'] = pd.Series(clf.predict_proba(test[features])[:,1])\n",
    "test.head()"
   ]
  },
  {
   "cell_type": "raw",
   "metadata": {
    "collapsed": false
   },
   "source": [
    "prediction = test.sort_values(by=['display_id', 'res'], ascending=[True, False])\n",
    "prediction.count()"
   ]
  },
  {
   "cell_type": "raw",
   "metadata": {
    "collapsed": false
   },
   "source": [
    "prediction=pd.DataFrame({ 'ad_id': prediction.groupby('display_id')['ad_id'].apply(join) }).astype({'ad_id':str}).reset_index()\n",
    "prediction.count()"
   ]
  },
  {
   "cell_type": "raw",
   "metadata": {
    "collapsed": false
   },
   "source": [
    "prediction.head()"
   ]
  },
  {
   "cell_type": "raw",
   "metadata": {},
   "source": [
    "### Submission"
   ]
  },
  {
   "cell_type": "raw",
   "metadata": {
    "collapsed": true
   },
   "source": [
    "prediction.to_csv(\"../submissions/solution_9.csv\", index=False)"
   ]
  },
  {
   "cell_type": "raw",
   "metadata": {
    "collapsed": true
   },
   "source": []
  },
  {
   "cell_type": "raw",
   "metadata": {
    "collapsed": true
   },
   "source": []
  },
  {
   "cell_type": "code",
   "execution_count": 49,
   "metadata": {
    "collapsed": false
   },
   "outputs": [
    {
     "name": "stdout",
     "output_type": "stream",
     "text": [
      "0.590029410411\n"
     ]
    }
   ],
   "source": [
    "print err"
   ]
  },
  {
   "cell_type": "code",
   "execution_count": null,
   "metadata": {
    "collapsed": true
   },
   "outputs": [],
   "source": []
  }
 ],
 "metadata": {
  "anaconda-cloud": {},
  "kernelspec": {
   "display_name": "Python [Root]",
   "language": "python",
   "name": "Python [Root]"
  },
  "language_info": {
   "codemirror_mode": {
    "name": "ipython",
    "version": 2
   },
   "file_extension": ".py",
   "mimetype": "text/x-python",
   "name": "python",
   "nbconvert_exporter": "python",
   "pygments_lexer": "ipython2",
   "version": "2.7.11"
  }
 },
 "nbformat": 4,
 "nbformat_minor": 0
}
