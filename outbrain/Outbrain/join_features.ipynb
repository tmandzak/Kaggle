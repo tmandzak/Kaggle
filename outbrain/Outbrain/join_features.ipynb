{
 "cells": [
  {
   "cell_type": "code",
   "execution_count": 4,
   "metadata": {
    "collapsed": false
   },
   "outputs": [],
   "source": [
    "import pandas as pd"
   ]
  },
  {
   "cell_type": "code",
   "execution_count": 2,
   "metadata": {
    "collapsed": true
   },
   "outputs": [],
   "source": [
    "def merge_chunks(right_on_list, input_file, output_file, rename_columns={}, drop_columns=[], chunksize=10 ** 7, how='left'):\n",
    "    first_time = True\n",
    "    f = open(output_file, 'w')\n",
    "    size = 0\n",
    "\n",
    "    for left in pd.read_csv(input_file, chunksize=chunksize):\n",
    "        for right, on in right_on_list:\n",
    "            left = left.merge(right, how=how, on=on)\n",
    "            \n",
    "        if len(rename_columns)>0:\n",
    "            left.rename(columns=rename_columns, inplace=True)\n",
    "            \n",
    "        if len(drop_columns)>0:\n",
    "            left.drop(drop_columns, axis=1, inplace = True)\n",
    "    \n",
    "        if first_time:\n",
    "            left.to_csv(f, index = False, header=True)\n",
    "            f.close()\n",
    "            f = open(output_file, 'a')\n",
    "            first_time = False\n",
    "            left.head()\n",
    "        else:\n",
    "            left.to_csv(f, index = False, header=False)\n",
    "        \n",
    "        size+=chunksize\n",
    "        print size\n",
    "            \n",
    "    f.close()\n",
    "    print 'Done'"
   ]
  },
  {
   "cell_type": "markdown",
   "metadata": {},
   "source": [
    "### Load tables to be joined"
   ]
  },
  {
   "cell_type": "code",
   "execution_count": 3,
   "metadata": {
    "collapsed": true
   },
   "outputs": [],
   "source": [
    "%run \"tools.py\""
   ]
  },
  {
   "cell_type": "code",
   "execution_count": 4,
   "metadata": {
    "collapsed": false
   },
   "outputs": [
    {
     "data": {
      "text/html": [
       "<div>\n",
       "<table border=\"1\" class=\"dataframe\">\n",
       "  <thead>\n",
       "    <tr style=\"text-align: right;\">\n",
       "      <th></th>\n",
       "      <th>display_id</th>\n",
       "      <th>ad_id</th>\n",
       "      <th>clicked</th>\n",
       "    </tr>\n",
       "  </thead>\n",
       "  <tbody>\n",
       "    <tr>\n",
       "      <th>0</th>\n",
       "      <td>1</td>\n",
       "      <td>42337</td>\n",
       "      <td>0</td>\n",
       "    </tr>\n",
       "    <tr>\n",
       "      <th>1</th>\n",
       "      <td>1</td>\n",
       "      <td>139684</td>\n",
       "      <td>0</td>\n",
       "    </tr>\n",
       "    <tr>\n",
       "      <th>2</th>\n",
       "      <td>1</td>\n",
       "      <td>144739</td>\n",
       "      <td>1</td>\n",
       "    </tr>\n",
       "    <tr>\n",
       "      <th>3</th>\n",
       "      <td>1</td>\n",
       "      <td>156824</td>\n",
       "      <td>0</td>\n",
       "    </tr>\n",
       "    <tr>\n",
       "      <th>4</th>\n",
       "      <td>1</td>\n",
       "      <td>279295</td>\n",
       "      <td>0</td>\n",
       "    </tr>\n",
       "  </tbody>\n",
       "</table>\n",
       "</div>"
      ],
      "text/plain": [
       "   display_id   ad_id  clicked\n",
       "0           1   42337        0\n",
       "1           1  139684        0\n",
       "2           1  144739        1\n",
       "3           1  156824        0\n",
       "4           1  279295        0"
      ]
     },
     "execution_count": 4,
     "metadata": {},
     "output_type": "execute_result"
    }
   ],
   "source": [
    "pd.read_csv(\"../download/clicks_train.csv\", nrows=10).head()"
   ]
  },
  {
   "cell_type": "code",
   "execution_count": 5,
   "metadata": {
    "collapsed": false
   },
   "outputs": [
    {
     "data": {
      "text/html": [
       "<div>\n",
       "<table border=\"1\" class=\"dataframe\">\n",
       "  <thead>\n",
       "    <tr style=\"text-align: right;\">\n",
       "      <th></th>\n",
       "      <th>display_id</th>\n",
       "      <th>document_id</th>\n",
       "      <th>timestamp</th>\n",
       "      <th>day</th>\n",
       "    </tr>\n",
       "  </thead>\n",
       "  <tbody>\n",
       "    <tr>\n",
       "      <th>0</th>\n",
       "      <td>1</td>\n",
       "      <td>379743</td>\n",
       "      <td>61</td>\n",
       "      <td>14</td>\n",
       "    </tr>\n",
       "    <tr>\n",
       "      <th>1</th>\n",
       "      <td>2</td>\n",
       "      <td>1794259</td>\n",
       "      <td>81</td>\n",
       "      <td>14</td>\n",
       "    </tr>\n",
       "    <tr>\n",
       "      <th>2</th>\n",
       "      <td>3</td>\n",
       "      <td>1179111</td>\n",
       "      <td>182</td>\n",
       "      <td>14</td>\n",
       "    </tr>\n",
       "    <tr>\n",
       "      <th>3</th>\n",
       "      <td>4</td>\n",
       "      <td>1777797</td>\n",
       "      <td>234</td>\n",
       "      <td>14</td>\n",
       "    </tr>\n",
       "    <tr>\n",
       "      <th>4</th>\n",
       "      <td>5</td>\n",
       "      <td>252458</td>\n",
       "      <td>338</td>\n",
       "      <td>14</td>\n",
       "    </tr>\n",
       "  </tbody>\n",
       "</table>\n",
       "</div>"
      ],
      "text/plain": [
       "   display_id  document_id  timestamp  day\n",
       "0           1       379743         61   14\n",
       "1           2      1794259         81   14\n",
       "2           3      1179111        182   14\n",
       "3           4      1777797        234   14\n",
       "4           5       252458        338   14"
      ]
     },
     "execution_count": 5,
     "metadata": {},
     "output_type": "execute_result"
    }
   ],
   "source": [
    "events = pd.read_csv(\"../generated/events.csv\", usecols=['display_id', 'document_id', 'timestamp', 'day'])\n",
    "events.head()"
   ]
  },
  {
   "cell_type": "code",
   "execution_count": 6,
   "metadata": {
    "collapsed": false
   },
   "outputs": [
    {
     "data": {
      "text/html": [
       "<div>\n",
       "<table border=\"1\" class=\"dataframe\">\n",
       "  <thead>\n",
       "    <tr style=\"text-align: right;\">\n",
       "      <th></th>\n",
       "      <th>display_id</th>\n",
       "      <th>adsPerDisplay</th>\n",
       "    </tr>\n",
       "  </thead>\n",
       "  <tbody>\n",
       "    <tr>\n",
       "      <th>0</th>\n",
       "      <td>1</td>\n",
       "      <td>0.454491</td>\n",
       "    </tr>\n",
       "    <tr>\n",
       "      <th>1</th>\n",
       "      <td>2</td>\n",
       "      <td>-0.631378</td>\n",
       "    </tr>\n",
       "    <tr>\n",
       "      <th>2</th>\n",
       "      <td>3</td>\n",
       "      <td>0.454491</td>\n",
       "    </tr>\n",
       "    <tr>\n",
       "      <th>3</th>\n",
       "      <td>4</td>\n",
       "      <td>-0.088444</td>\n",
       "    </tr>\n",
       "    <tr>\n",
       "      <th>4</th>\n",
       "      <td>5</td>\n",
       "      <td>-0.088444</td>\n",
       "    </tr>\n",
       "  </tbody>\n",
       "</table>\n",
       "</div>"
      ],
      "text/plain": [
       "   display_id  adsPerDisplay\n",
       "0           1       0.454491\n",
       "1           2      -0.631378\n",
       "2           3       0.454491\n",
       "3           4      -0.088444\n",
       "4           5      -0.088444"
      ]
     },
     "execution_count": 6,
     "metadata": {},
     "output_type": "execute_result"
    }
   ],
   "source": [
    "adsPerDisplay = normilize(pd.read_csv(\"../generated/adsPerDisplay.csv\"))\n",
    "adsPerDisplay.head()"
   ]
  },
  {
   "cell_type": "code",
   "execution_count": 7,
   "metadata": {
    "collapsed": false
   },
   "outputs": [
    {
     "data": {
      "text/html": [
       "<div>\n",
       "<table border=\"1\" class=\"dataframe\">\n",
       "  <thead>\n",
       "    <tr style=\"text-align: right;\">\n",
       "      <th></th>\n",
       "      <th>document_id</th>\n",
       "      <th>size</th>\n",
       "    </tr>\n",
       "  </thead>\n",
       "  <tbody>\n",
       "    <tr>\n",
       "      <th>0</th>\n",
       "      <td>2</td>\n",
       "      <td>0.501183</td>\n",
       "    </tr>\n",
       "    <tr>\n",
       "      <th>1</th>\n",
       "      <td>4</td>\n",
       "      <td>-0.055494</td>\n",
       "    </tr>\n",
       "    <tr>\n",
       "      <th>2</th>\n",
       "      <td>5</td>\n",
       "      <td>-0.035036</td>\n",
       "    </tr>\n",
       "    <tr>\n",
       "      <th>3</th>\n",
       "      <td>7</td>\n",
       "      <td>-0.052128</td>\n",
       "    </tr>\n",
       "    <tr>\n",
       "      <th>4</th>\n",
       "      <td>8</td>\n",
       "      <td>-0.042402</td>\n",
       "    </tr>\n",
       "  </tbody>\n",
       "</table>\n",
       "</div>"
      ],
      "text/plain": [
       "   document_id      size\n",
       "0            2  0.501183\n",
       "1            4 -0.055494\n",
       "2            5 -0.035036\n",
       "3            7 -0.052128\n",
       "4            8 -0.042402"
      ]
     },
     "execution_count": 7,
     "metadata": {},
     "output_type": "execute_result"
    }
   ],
   "source": [
    "#to be used with Event documents only as page_rate\n",
    "documentShows = normilize(pd.read_csv(\"../generated/page_views_event_docs_size.csv\"))\n",
    "documentShows.head()"
   ]
  },
  {
   "cell_type": "code",
   "execution_count": 8,
   "metadata": {
    "collapsed": false
   },
   "outputs": [
    {
     "data": {
      "text/html": [
       "<div>\n",
       "<table border=\"1\" class=\"dataframe\">\n",
       "  <thead>\n",
       "    <tr style=\"text-align: right;\">\n",
       "      <th></th>\n",
       "      <th>document_id</th>\n",
       "      <th>published</th>\n",
       "      <th>source_rate</th>\n",
       "      <th>publisher_rate</th>\n",
       "      <th>topics_rate</th>\n",
       "      <th>categories_rate</th>\n",
       "    </tr>\n",
       "  </thead>\n",
       "  <tbody>\n",
       "    <tr>\n",
       "      <th>0</th>\n",
       "      <td>379743</td>\n",
       "      <td>-2147483648</td>\n",
       "      <td>-0.214989</td>\n",
       "      <td>-0.456605</td>\n",
       "      <td>-0.910963</td>\n",
       "      <td>-1.014116</td>\n",
       "    </tr>\n",
       "    <tr>\n",
       "      <th>1</th>\n",
       "      <td>1794259</td>\n",
       "      <td>-14399998</td>\n",
       "      <td>0.004755</td>\n",
       "      <td>-0.236996</td>\n",
       "      <td>-0.826177</td>\n",
       "      <td>0.250996</td>\n",
       "    </tr>\n",
       "    <tr>\n",
       "      <th>2</th>\n",
       "      <td>1179111</td>\n",
       "      <td>-2147483648</td>\n",
       "      <td>-0.272270</td>\n",
       "      <td>-0.586902</td>\n",
       "      <td>-0.029274</td>\n",
       "      <td>0.031288</td>\n",
       "    </tr>\n",
       "    <tr>\n",
       "      <th>3</th>\n",
       "      <td>1777797</td>\n",
       "      <td>-2147483648</td>\n",
       "      <td>0.111585</td>\n",
       "      <td>-0.290756</td>\n",
       "      <td>-0.244900</td>\n",
       "      <td>-0.784794</td>\n",
       "    </tr>\n",
       "    <tr>\n",
       "      <th>4</th>\n",
       "      <td>252458</td>\n",
       "      <td>-2147483648</td>\n",
       "      <td>0.004755</td>\n",
       "      <td>-0.236996</td>\n",
       "      <td>0.473743</td>\n",
       "      <td>2.283626</td>\n",
       "    </tr>\n",
       "  </tbody>\n",
       "</table>\n",
       "</div>"
      ],
      "text/plain": [
       "   document_id   published  source_rate  publisher_rate  topics_rate  \\\n",
       "0       379743 -2147483648    -0.214989       -0.456605    -0.910963   \n",
       "1      1794259   -14399998     0.004755       -0.236996    -0.826177   \n",
       "2      1179111 -2147483648    -0.272270       -0.586902    -0.029274   \n",
       "3      1777797 -2147483648     0.111585       -0.290756    -0.244900   \n",
       "4       252458 -2147483648     0.004755       -0.236996     0.473743   \n",
       "\n",
       "   categories_rate  \n",
       "0        -1.014116  \n",
       "1         0.250996  \n",
       "2         0.031288  \n",
       "3        -0.784794  \n",
       "4         2.283626  "
      ]
     },
     "execution_count": 8,
     "metadata": {},
     "output_type": "execute_result"
    }
   ],
   "source": [
    "docs_content = normilize(pd.read_csv(\"../generated/documents_content.csv\"), exclude=['published'])\n",
    "docs_content.head()"
   ]
  },
  {
   "cell_type": "code",
   "execution_count": 9,
   "metadata": {
    "collapsed": false
   },
   "outputs": [
    {
     "data": {
      "text/html": [
       "<div>\n",
       "<table border=\"1\" class=\"dataframe\">\n",
       "  <thead>\n",
       "    <tr style=\"text-align: right;\">\n",
       "      <th></th>\n",
       "      <th>ad_id</th>\n",
       "      <th>clicksPerShows</th>\n",
       "    </tr>\n",
       "  </thead>\n",
       "  <tbody>\n",
       "    <tr>\n",
       "      <th>0</th>\n",
       "      <td>1</td>\n",
       "      <td>-0.657944</td>\n",
       "    </tr>\n",
       "    <tr>\n",
       "      <th>1</th>\n",
       "      <td>2</td>\n",
       "      <td>-0.449135</td>\n",
       "    </tr>\n",
       "    <tr>\n",
       "      <th>2</th>\n",
       "      <td>3</td>\n",
       "      <td>-0.344082</td>\n",
       "    </tr>\n",
       "    <tr>\n",
       "      <th>3</th>\n",
       "      <td>4</td>\n",
       "      <td>-0.083718</td>\n",
       "    </tr>\n",
       "    <tr>\n",
       "      <th>4</th>\n",
       "      <td>5</td>\n",
       "      <td>-0.657944</td>\n",
       "    </tr>\n",
       "  </tbody>\n",
       "</table>\n",
       "</div>"
      ],
      "text/plain": [
       "   ad_id  clicksPerShows\n",
       "0      1       -0.657944\n",
       "1      2       -0.449135\n",
       "2      3       -0.344082\n",
       "3      4       -0.083718\n",
       "4      5       -0.657944"
      ]
     },
     "execution_count": 9,
     "metadata": {},
     "output_type": "execute_result"
    }
   ],
   "source": [
    "clicksPerAd_train = normilize(pd.read_csv(\"../generated/clicks_shows_PerAd.csv\", usecols=['ad_id', 'clicksPerShows']))\n",
    "clicksPerAd_train.head()"
   ]
  },
  {
   "cell_type": "markdown",
   "metadata": {},
   "source": [
    "### Joining: Step 1"
   ]
  },
  {
   "cell_type": "code",
   "execution_count": 10,
   "metadata": {
    "collapsed": true
   },
   "outputs": [],
   "source": [
    "right_on_list = [(events, 'display_id'), (adsPerDisplay, 'display_id'),\n",
    "                 (documentShows, 'document_id'), (docs_content, 'document_id'),\n",
    "                 (clicksPerAd_train, 'ad_id')]"
   ]
  },
  {
   "cell_type": "code",
   "execution_count": 11,
   "metadata": {
    "collapsed": false
   },
   "outputs": [],
   "source": [
    "rename_columns = {'size':'page_rate', 'published':'page_published', 'source_rate':'page_source_rate',\n",
    "                  'publisher_rate':'page_publisher_rate', 'topics_rate':'page_topics_rate', 'categories_rate':'page_cat_rate',\n",
    "                  'clicksPerShows':'ad_click_rate'}"
   ]
  },
  {
   "cell_type": "code",
   "execution_count": 12,
   "metadata": {
    "collapsed": true
   },
   "outputs": [],
   "source": [
    "drop_columns = ['document_id']"
   ]
  },
  {
   "cell_type": "code",
   "execution_count": 22,
   "metadata": {
    "collapsed": true
   },
   "outputs": [],
   "source": [
    "input_file = \"../download/clicks_train.csv\"\n",
    "output_file = \"../temp/clicks_train_step1.csv\""
   ]
  },
  {
   "cell_type": "code",
   "execution_count": 14,
   "metadata": {
    "collapsed": false
   },
   "outputs": [
    {
     "name": "stdout",
     "output_type": "stream",
     "text": [
      "10000000\n",
      "20000000\n",
      "30000000\n",
      "40000000\n",
      "50000000\n",
      "60000000\n",
      "70000000\n",
      "80000000\n",
      "90000000\n",
      "Done\n"
     ]
    }
   ],
   "source": [
    "merge_chunks(right_on_list, input_file, output_file, rename_columns, drop_columns)"
   ]
  },
  {
   "cell_type": "code",
   "execution_count": 23,
   "metadata": {
    "collapsed": false
   },
   "outputs": [
    {
     "data": {
      "text/html": [
       "<div>\n",
       "<table border=\"1\" class=\"dataframe\">\n",
       "  <thead>\n",
       "    <tr style=\"text-align: right;\">\n",
       "      <th></th>\n",
       "      <th>display_id</th>\n",
       "      <th>ad_id</th>\n",
       "      <th>clicked</th>\n",
       "      <th>timestamp</th>\n",
       "      <th>day</th>\n",
       "      <th>adsPerDisplay</th>\n",
       "      <th>page_rate</th>\n",
       "      <th>page_published</th>\n",
       "      <th>page_source_rate</th>\n",
       "      <th>page_publisher_rate</th>\n",
       "      <th>page_topics_rate</th>\n",
       "      <th>page_cat_rate</th>\n",
       "      <th>ad_rate</th>\n",
       "    </tr>\n",
       "  </thead>\n",
       "  <tbody>\n",
       "    <tr>\n",
       "      <th>0</th>\n",
       "      <td>1</td>\n",
       "      <td>42337</td>\n",
       "      <td>0</td>\n",
       "      <td>61</td>\n",
       "      <td>14</td>\n",
       "      <td>0.454491</td>\n",
       "      <td>0.005304</td>\n",
       "      <td>-2147483648</td>\n",
       "      <td>-0.214989</td>\n",
       "      <td>-0.456605</td>\n",
       "      <td>-0.910963</td>\n",
       "      <td>-1.014116</td>\n",
       "      <td>0.110486</td>\n",
       "    </tr>\n",
       "    <tr>\n",
       "      <th>1</th>\n",
       "      <td>1</td>\n",
       "      <td>139684</td>\n",
       "      <td>0</td>\n",
       "      <td>61</td>\n",
       "      <td>14</td>\n",
       "      <td>0.454491</td>\n",
       "      <td>0.005304</td>\n",
       "      <td>-2147483648</td>\n",
       "      <td>-0.214989</td>\n",
       "      <td>-0.456605</td>\n",
       "      <td>-0.910963</td>\n",
       "      <td>-1.014116</td>\n",
       "      <td>0.103228</td>\n",
       "    </tr>\n",
       "    <tr>\n",
       "      <th>2</th>\n",
       "      <td>1</td>\n",
       "      <td>144739</td>\n",
       "      <td>1</td>\n",
       "      <td>61</td>\n",
       "      <td>14</td>\n",
       "      <td>0.454491</td>\n",
       "      <td>0.005304</td>\n",
       "      <td>-2147483648</td>\n",
       "      <td>-0.214989</td>\n",
       "      <td>-0.456605</td>\n",
       "      <td>-0.910963</td>\n",
       "      <td>-1.014116</td>\n",
       "      <td>0.831875</td>\n",
       "    </tr>\n",
       "    <tr>\n",
       "      <th>3</th>\n",
       "      <td>1</td>\n",
       "      <td>156824</td>\n",
       "      <td>0</td>\n",
       "      <td>61</td>\n",
       "      <td>14</td>\n",
       "      <td>0.454491</td>\n",
       "      <td>0.005304</td>\n",
       "      <td>-2147483648</td>\n",
       "      <td>-0.214989</td>\n",
       "      <td>-0.456605</td>\n",
       "      <td>-0.910963</td>\n",
       "      <td>-1.014116</td>\n",
       "      <td>-0.508816</td>\n",
       "    </tr>\n",
       "    <tr>\n",
       "      <th>4</th>\n",
       "      <td>1</td>\n",
       "      <td>279295</td>\n",
       "      <td>0</td>\n",
       "      <td>61</td>\n",
       "      <td>14</td>\n",
       "      <td>0.454491</td>\n",
       "      <td>0.005304</td>\n",
       "      <td>-2147483648</td>\n",
       "      <td>-0.214989</td>\n",
       "      <td>-0.456605</td>\n",
       "      <td>-0.910963</td>\n",
       "      <td>-1.014116</td>\n",
       "      <td>0.836758</td>\n",
       "    </tr>\n",
       "  </tbody>\n",
       "</table>\n",
       "</div>"
      ],
      "text/plain": [
       "   display_id   ad_id  clicked  timestamp  day  adsPerDisplay  page_rate  \\\n",
       "0           1   42337        0         61   14       0.454491   0.005304   \n",
       "1           1  139684        0         61   14       0.454491   0.005304   \n",
       "2           1  144739        1         61   14       0.454491   0.005304   \n",
       "3           1  156824        0         61   14       0.454491   0.005304   \n",
       "4           1  279295        0         61   14       0.454491   0.005304   \n",
       "\n",
       "   page_published  page_source_rate  page_publisher_rate  page_topics_rate  \\\n",
       "0     -2147483648         -0.214989            -0.456605         -0.910963   \n",
       "1     -2147483648         -0.214989            -0.456605         -0.910963   \n",
       "2     -2147483648         -0.214989            -0.456605         -0.910963   \n",
       "3     -2147483648         -0.214989            -0.456605         -0.910963   \n",
       "4     -2147483648         -0.214989            -0.456605         -0.910963   \n",
       "\n",
       "   page_cat_rate   ad_rate  \n",
       "0      -1.014116  0.110486  \n",
       "1      -1.014116  0.103228  \n",
       "2      -1.014116  0.831875  \n",
       "3      -1.014116 -0.508816  \n",
       "4      -1.014116  0.836758  "
      ]
     },
     "execution_count": 23,
     "metadata": {},
     "output_type": "execute_result"
    }
   ],
   "source": [
    "pd.read_csv(output_file, nrows=10).head()"
   ]
  },
  {
   "cell_type": "code",
   "execution_count": 28,
   "metadata": {
    "collapsed": true
   },
   "outputs": [],
   "source": [
    "del events"
   ]
  },
  {
   "cell_type": "markdown",
   "metadata": {},
   "source": [
    "### Joining: Step 2"
   ]
  },
  {
   "cell_type": "code",
   "execution_count": 16,
   "metadata": {
    "collapsed": false
   },
   "outputs": [
    {
     "data": {
      "text/html": [
       "<div>\n",
       "<table border=\"1\" class=\"dataframe\">\n",
       "  <thead>\n",
       "    <tr style=\"text-align: right;\">\n",
       "      <th></th>\n",
       "      <th>ad_id</th>\n",
       "      <th>document_id</th>\n",
       "      <th>doc_rate</th>\n",
       "      <th>campaign_rate</th>\n",
       "      <th>advertiser_rate</th>\n",
       "    </tr>\n",
       "  </thead>\n",
       "  <tbody>\n",
       "    <tr>\n",
       "      <th>0</th>\n",
       "      <td>1</td>\n",
       "      <td>6614</td>\n",
       "      <td>-0.343316</td>\n",
       "      <td>-0.433721</td>\n",
       "      <td>-0.803192</td>\n",
       "    </tr>\n",
       "    <tr>\n",
       "      <th>1</th>\n",
       "      <td>6</td>\n",
       "      <td>12736</td>\n",
       "      <td>-0.343316</td>\n",
       "      <td>-0.433721</td>\n",
       "      <td>-0.803192</td>\n",
       "    </tr>\n",
       "    <tr>\n",
       "      <th>2</th>\n",
       "      <td>7</td>\n",
       "      <td>12808</td>\n",
       "      <td>-0.343316</td>\n",
       "      <td>-0.433721</td>\n",
       "      <td>-0.803192</td>\n",
       "    </tr>\n",
       "    <tr>\n",
       "      <th>3</th>\n",
       "      <td>9</td>\n",
       "      <td>13379</td>\n",
       "      <td>-0.343316</td>\n",
       "      <td>-0.433721</td>\n",
       "      <td>-0.803192</td>\n",
       "    </tr>\n",
       "    <tr>\n",
       "      <th>4</th>\n",
       "      <td>10</td>\n",
       "      <td>13885</td>\n",
       "      <td>-0.343316</td>\n",
       "      <td>-0.433721</td>\n",
       "      <td>-0.803192</td>\n",
       "    </tr>\n",
       "  </tbody>\n",
       "</table>\n",
       "</div>"
      ],
      "text/plain": [
       "   ad_id  document_id  doc_rate  campaign_rate  advertiser_rate\n",
       "0      1         6614 -0.343316      -0.433721        -0.803192\n",
       "1      6        12736 -0.343316      -0.433721        -0.803192\n",
       "2      7        12808 -0.343316      -0.433721        -0.803192\n",
       "3      9        13379 -0.343316      -0.433721        -0.803192\n",
       "4     10        13885 -0.343316      -0.433721        -0.803192"
      ]
     },
     "execution_count": 16,
     "metadata": {},
     "output_type": "execute_result"
    }
   ],
   "source": [
    "ads = normilize(pd.read_csv(\"../generated/promoted_content.csv\"))\n",
    "ads.head()"
   ]
  },
  {
   "cell_type": "code",
   "execution_count": 24,
   "metadata": {
    "collapsed": false
   },
   "outputs": [],
   "source": [
    "right_on_list = [(ads, 'ad_id'), (docs_content, 'document_id')]\n",
    "rename_columns = {'doc_rate':'addoc_rate', 'categories_rate':'addoc_cat_rate',\n",
    "                  'published':'addoc_published', 'source_rate':'addoc_source_rate',\n",
    "                  'publisher_rate':'addoc_publisher_rate', 'topics_rate':'addoc_topics_rate'}\n",
    "drop_columns = ['document_id']    \n",
    "input_file = \"../temp/clicks_train_step1.csv\"\n",
    "output_file = \"../temp/clicks_train_step2.csv\""
   ]
  },
  {
   "cell_type": "code",
   "execution_count": 26,
   "metadata": {
    "collapsed": false
   },
   "outputs": [
    {
     "name": "stdout",
     "output_type": "stream",
     "text": [
      "10000000\n",
      "20000000\n",
      "30000000\n",
      "40000000\n",
      "50000000\n",
      "60000000\n",
      "70000000\n",
      "80000000\n",
      "90000000\n",
      "Done\n"
     ]
    }
   ],
   "source": [
    "merge_chunks(right_on_list, input_file, output_file, rename_columns, drop_columns)"
   ]
  },
  {
   "cell_type": "code",
   "execution_count": 27,
   "metadata": {
    "collapsed": false
   },
   "outputs": [
    {
     "data": {
      "text/html": [
       "<div>\n",
       "<table border=\"1\" class=\"dataframe\">\n",
       "  <thead>\n",
       "    <tr style=\"text-align: right;\">\n",
       "      <th></th>\n",
       "      <th>display_id</th>\n",
       "      <th>ad_id</th>\n",
       "      <th>clicked</th>\n",
       "      <th>timestamp</th>\n",
       "      <th>day</th>\n",
       "      <th>adsPerDisplay</th>\n",
       "      <th>page_rate</th>\n",
       "      <th>page_published</th>\n",
       "      <th>page_source_rate</th>\n",
       "      <th>page_publisher_rate</th>\n",
       "      <th>...</th>\n",
       "      <th>page_cat_rate</th>\n",
       "      <th>ad_rate</th>\n",
       "      <th>addoc_rate</th>\n",
       "      <th>campaign_rate</th>\n",
       "      <th>advertiser_rate</th>\n",
       "      <th>addoc_published</th>\n",
       "      <th>addoc_source_rate</th>\n",
       "      <th>addoc_publisher_rate</th>\n",
       "      <th>addoc_topics_rate</th>\n",
       "      <th>addoc_cat_rate</th>\n",
       "    </tr>\n",
       "  </thead>\n",
       "  <tbody>\n",
       "    <tr>\n",
       "      <th>0</th>\n",
       "      <td>1</td>\n",
       "      <td>42337</td>\n",
       "      <td>0</td>\n",
       "      <td>61</td>\n",
       "      <td>14</td>\n",
       "      <td>0.454491</td>\n",
       "      <td>0.005304</td>\n",
       "      <td>-2147483648</td>\n",
       "      <td>-0.214989</td>\n",
       "      <td>-0.456605</td>\n",
       "      <td>...</td>\n",
       "      <td>-1.014116</td>\n",
       "      <td>0.110486</td>\n",
       "      <td>-0.341203</td>\n",
       "      <td>-0.478144</td>\n",
       "      <td>-0.818183</td>\n",
       "      <td>-1137599998</td>\n",
       "      <td>-0.272215</td>\n",
       "      <td>-0.605843</td>\n",
       "      <td>-0.819885</td>\n",
       "      <td>-0.222556</td>\n",
       "    </tr>\n",
       "    <tr>\n",
       "      <th>1</th>\n",
       "      <td>1</td>\n",
       "      <td>139684</td>\n",
       "      <td>0</td>\n",
       "      <td>61</td>\n",
       "      <td>14</td>\n",
       "      <td>0.454491</td>\n",
       "      <td>0.005304</td>\n",
       "      <td>-2147483648</td>\n",
       "      <td>-0.214989</td>\n",
       "      <td>-0.456605</td>\n",
       "      <td>...</td>\n",
       "      <td>-1.014116</td>\n",
       "      <td>0.103228</td>\n",
       "      <td>-0.329048</td>\n",
       "      <td>-0.475183</td>\n",
       "      <td>-0.817748</td>\n",
       "      <td>-2147483648</td>\n",
       "      <td>-0.272270</td>\n",
       "      <td>-0.605887</td>\n",
       "      <td>-0.336479</td>\n",
       "      <td>-0.297341</td>\n",
       "    </tr>\n",
       "    <tr>\n",
       "      <th>2</th>\n",
       "      <td>1</td>\n",
       "      <td>144739</td>\n",
       "      <td>1</td>\n",
       "      <td>61</td>\n",
       "      <td>14</td>\n",
       "      <td>0.454491</td>\n",
       "      <td>0.005304</td>\n",
       "      <td>-2147483648</td>\n",
       "      <td>-0.214989</td>\n",
       "      <td>-0.456605</td>\n",
       "      <td>...</td>\n",
       "      <td>-1.014116</td>\n",
       "      <td>0.831875</td>\n",
       "      <td>-0.341203</td>\n",
       "      <td>-0.472221</td>\n",
       "      <td>-0.822746</td>\n",
       "      <td>-2147483648</td>\n",
       "      <td>-0.272270</td>\n",
       "      <td>-0.605887</td>\n",
       "      <td>0.303982</td>\n",
       "      <td>-0.842784</td>\n",
       "    </tr>\n",
       "    <tr>\n",
       "      <th>3</th>\n",
       "      <td>1</td>\n",
       "      <td>156824</td>\n",
       "      <td>0</td>\n",
       "      <td>61</td>\n",
       "      <td>14</td>\n",
       "      <td>0.454491</td>\n",
       "      <td>0.005304</td>\n",
       "      <td>-2147483648</td>\n",
       "      <td>-0.214989</td>\n",
       "      <td>-0.456605</td>\n",
       "      <td>...</td>\n",
       "      <td>-1.014116</td>\n",
       "      <td>-0.508816</td>\n",
       "      <td>-0.339089</td>\n",
       "      <td>-0.461856</td>\n",
       "      <td>-0.801888</td>\n",
       "      <td>-2147483648</td>\n",
       "      <td>-0.271756</td>\n",
       "      <td>-0.605466</td>\n",
       "      <td>-0.680455</td>\n",
       "      <td>-0.824454</td>\n",
       "    </tr>\n",
       "    <tr>\n",
       "      <th>4</th>\n",
       "      <td>1</td>\n",
       "      <td>279295</td>\n",
       "      <td>0</td>\n",
       "      <td>61</td>\n",
       "      <td>14</td>\n",
       "      <td>0.454491</td>\n",
       "      <td>0.005304</td>\n",
       "      <td>-2147483648</td>\n",
       "      <td>-0.214989</td>\n",
       "      <td>-0.456605</td>\n",
       "      <td>...</td>\n",
       "      <td>-1.014116</td>\n",
       "      <td>0.836758</td>\n",
       "      <td>-0.333276</td>\n",
       "      <td>-0.450010</td>\n",
       "      <td>-0.794718</td>\n",
       "      <td>-1040399998</td>\n",
       "      <td>-0.271972</td>\n",
       "      <td>-0.605643</td>\n",
       "      <td>-0.492251</td>\n",
       "      <td>0.273409</td>\n",
       "    </tr>\n",
       "  </tbody>\n",
       "</table>\n",
       "<p>5 rows × 21 columns</p>\n",
       "</div>"
      ],
      "text/plain": [
       "   display_id   ad_id  clicked  timestamp  day  adsPerDisplay  page_rate  \\\n",
       "0           1   42337        0         61   14       0.454491   0.005304   \n",
       "1           1  139684        0         61   14       0.454491   0.005304   \n",
       "2           1  144739        1         61   14       0.454491   0.005304   \n",
       "3           1  156824        0         61   14       0.454491   0.005304   \n",
       "4           1  279295        0         61   14       0.454491   0.005304   \n",
       "\n",
       "   page_published  page_source_rate  page_publisher_rate       ...        \\\n",
       "0     -2147483648         -0.214989            -0.456605       ...         \n",
       "1     -2147483648         -0.214989            -0.456605       ...         \n",
       "2     -2147483648         -0.214989            -0.456605       ...         \n",
       "3     -2147483648         -0.214989            -0.456605       ...         \n",
       "4     -2147483648         -0.214989            -0.456605       ...         \n",
       "\n",
       "   page_cat_rate   ad_rate  addoc_rate  campaign_rate  advertiser_rate  \\\n",
       "0      -1.014116  0.110486   -0.341203      -0.478144        -0.818183   \n",
       "1      -1.014116  0.103228   -0.329048      -0.475183        -0.817748   \n",
       "2      -1.014116  0.831875   -0.341203      -0.472221        -0.822746   \n",
       "3      -1.014116 -0.508816   -0.339089      -0.461856        -0.801888   \n",
       "4      -1.014116  0.836758   -0.333276      -0.450010        -0.794718   \n",
       "\n",
       "   addoc_published  addoc_source_rate  addoc_publisher_rate  \\\n",
       "0      -1137599998          -0.272215             -0.605843   \n",
       "1      -2147483648          -0.272270             -0.605887   \n",
       "2      -2147483648          -0.272270             -0.605887   \n",
       "3      -2147483648          -0.271756             -0.605466   \n",
       "4      -1040399998          -0.271972             -0.605643   \n",
       "\n",
       "   addoc_topics_rate  addoc_cat_rate  \n",
       "0          -0.819885       -0.222556  \n",
       "1          -0.336479       -0.297341  \n",
       "2           0.303982       -0.842784  \n",
       "3          -0.680455       -0.824454  \n",
       "4          -0.492251        0.273409  \n",
       "\n",
       "[5 rows x 21 columns]"
      ]
     },
     "execution_count": 27,
     "metadata": {},
     "output_type": "execute_result"
    }
   ],
   "source": [
    "pd.read_csv(output_file, nrows=10).head()"
   ]
  },
  {
   "cell_type": "code",
   "execution_count": null,
   "metadata": {
    "collapsed": true
   },
   "outputs": [],
   "source": []
  },
  {
   "cell_type": "markdown",
   "metadata": {},
   "source": [
    "### Calculate additional columns"
   ]
  },
  {
   "cell_type": "raw",
   "metadata": {},
   "source": [
    "import pandas as pd"
   ]
  },
  {
   "cell_type": "code",
   "execution_count": 32,
   "metadata": {
    "collapsed": true
   },
   "outputs": [],
   "source": [
    "def calc_chunks(input_file, output_file, drop_columns=[], chunksize=10000000):\n",
    "    first_time = True\n",
    "    f = open(output_file, 'w')\n",
    "    size = 0\n",
    "\n",
    "    for chunk in pd.read_csv(input_file, chunksize=chunksize):\n",
    "        chunk['page_age'] = chunk['timestamp'] - chunk['page_published']\n",
    "        chunk['addoc_age'] = chunk['timestamp'] - chunk['addoc_published']\n",
    "        \n",
    "        if len(drop_columns)>0:\n",
    "            chunk.drop(drop_columns, axis=1, inplace = True)\n",
    "    \n",
    "        if first_time:\n",
    "            chunk.to_csv(f, index = False, header=True)\n",
    "            f.close()\n",
    "            f = open(output_file, 'a')\n",
    "            first_time = False\n",
    "            chunk.head()\n",
    "        else:\n",
    "            chunk.to_csv(f, index = False, header=False)\n",
    "        \n",
    "        size+=chunksize\n",
    "        print size\n",
    "            \n",
    "    f.close()\n",
    "    print 'Done'    "
   ]
  },
  {
   "cell_type": "code",
   "execution_count": 35,
   "metadata": {
    "collapsed": true
   },
   "outputs": [],
   "source": [
    "#usecols=['display_id', 'ad_id', 'timestamp', 'clicked', 'doc_published', 'doc_topics_rate', 'published', 'topics_rate']\n",
    "input_file = \"../temp/clicks_train_step2.csv\"\n",
    "output_file = \"../temp/clicks_train_step3.csv\"\n",
    "drop_columns = ['timestamp', 'page_published', 'addoc_published']"
   ]
  },
  {
   "cell_type": "code",
   "execution_count": 36,
   "metadata": {
    "collapsed": false
   },
   "outputs": [
    {
     "name": "stdout",
     "output_type": "stream",
     "text": [
      "10000000\n",
      "20000000\n",
      "30000000\n",
      "40000000\n",
      "50000000\n",
      "60000000\n",
      "70000000\n",
      "80000000\n",
      "90000000\n",
      "Done\n"
     ]
    }
   ],
   "source": [
    "calc_chunks(input_file, output_file, drop_columns=drop_columns)"
   ]
  },
  {
   "cell_type": "code",
   "execution_count": 38,
   "metadata": {
    "collapsed": false
   },
   "outputs": [
    {
     "data": {
      "text/html": [
       "<div>\n",
       "<table border=\"1\" class=\"dataframe\">\n",
       "  <thead>\n",
       "    <tr style=\"text-align: right;\">\n",
       "      <th></th>\n",
       "      <th>display_id</th>\n",
       "      <th>ad_id</th>\n",
       "      <th>clicked</th>\n",
       "      <th>day</th>\n",
       "      <th>adsPerDisplay</th>\n",
       "      <th>page_rate</th>\n",
       "      <th>page_source_rate</th>\n",
       "      <th>page_publisher_rate</th>\n",
       "      <th>page_topics_rate</th>\n",
       "      <th>page_cat_rate</th>\n",
       "      <th>ad_rate</th>\n",
       "      <th>addoc_rate</th>\n",
       "      <th>campaign_rate</th>\n",
       "      <th>advertiser_rate</th>\n",
       "      <th>addoc_source_rate</th>\n",
       "      <th>addoc_publisher_rate</th>\n",
       "      <th>addoc_topics_rate</th>\n",
       "      <th>addoc_cat_rate</th>\n",
       "      <th>page_age</th>\n",
       "      <th>addoc_age</th>\n",
       "    </tr>\n",
       "  </thead>\n",
       "  <tbody>\n",
       "    <tr>\n",
       "      <th>0</th>\n",
       "      <td>1</td>\n",
       "      <td>42337</td>\n",
       "      <td>0</td>\n",
       "      <td>14</td>\n",
       "      <td>0.454491</td>\n",
       "      <td>0.005304</td>\n",
       "      <td>-0.214989</td>\n",
       "      <td>-0.456605</td>\n",
       "      <td>-0.910963</td>\n",
       "      <td>-1.014116</td>\n",
       "      <td>0.110486</td>\n",
       "      <td>-0.341203</td>\n",
       "      <td>-0.478144</td>\n",
       "      <td>-0.818183</td>\n",
       "      <td>-0.272215</td>\n",
       "      <td>-0.605843</td>\n",
       "      <td>-0.819885</td>\n",
       "      <td>-0.222556</td>\n",
       "      <td>2147483709</td>\n",
       "      <td>1137600059</td>\n",
       "    </tr>\n",
       "    <tr>\n",
       "      <th>1</th>\n",
       "      <td>1</td>\n",
       "      <td>139684</td>\n",
       "      <td>0</td>\n",
       "      <td>14</td>\n",
       "      <td>0.454491</td>\n",
       "      <td>0.005304</td>\n",
       "      <td>-0.214989</td>\n",
       "      <td>-0.456605</td>\n",
       "      <td>-0.910963</td>\n",
       "      <td>-1.014116</td>\n",
       "      <td>0.103228</td>\n",
       "      <td>-0.329048</td>\n",
       "      <td>-0.475183</td>\n",
       "      <td>-0.817748</td>\n",
       "      <td>-0.272270</td>\n",
       "      <td>-0.605887</td>\n",
       "      <td>-0.336479</td>\n",
       "      <td>-0.297341</td>\n",
       "      <td>2147483709</td>\n",
       "      <td>2147483709</td>\n",
       "    </tr>\n",
       "    <tr>\n",
       "      <th>2</th>\n",
       "      <td>1</td>\n",
       "      <td>144739</td>\n",
       "      <td>1</td>\n",
       "      <td>14</td>\n",
       "      <td>0.454491</td>\n",
       "      <td>0.005304</td>\n",
       "      <td>-0.214989</td>\n",
       "      <td>-0.456605</td>\n",
       "      <td>-0.910963</td>\n",
       "      <td>-1.014116</td>\n",
       "      <td>0.831875</td>\n",
       "      <td>-0.341203</td>\n",
       "      <td>-0.472221</td>\n",
       "      <td>-0.822746</td>\n",
       "      <td>-0.272270</td>\n",
       "      <td>-0.605887</td>\n",
       "      <td>0.303982</td>\n",
       "      <td>-0.842784</td>\n",
       "      <td>2147483709</td>\n",
       "      <td>2147483709</td>\n",
       "    </tr>\n",
       "    <tr>\n",
       "      <th>3</th>\n",
       "      <td>1</td>\n",
       "      <td>156824</td>\n",
       "      <td>0</td>\n",
       "      <td>14</td>\n",
       "      <td>0.454491</td>\n",
       "      <td>0.005304</td>\n",
       "      <td>-0.214989</td>\n",
       "      <td>-0.456605</td>\n",
       "      <td>-0.910963</td>\n",
       "      <td>-1.014116</td>\n",
       "      <td>-0.508816</td>\n",
       "      <td>-0.339089</td>\n",
       "      <td>-0.461856</td>\n",
       "      <td>-0.801888</td>\n",
       "      <td>-0.271756</td>\n",
       "      <td>-0.605466</td>\n",
       "      <td>-0.680455</td>\n",
       "      <td>-0.824454</td>\n",
       "      <td>2147483709</td>\n",
       "      <td>2147483709</td>\n",
       "    </tr>\n",
       "    <tr>\n",
       "      <th>4</th>\n",
       "      <td>1</td>\n",
       "      <td>279295</td>\n",
       "      <td>0</td>\n",
       "      <td>14</td>\n",
       "      <td>0.454491</td>\n",
       "      <td>0.005304</td>\n",
       "      <td>-0.214989</td>\n",
       "      <td>-0.456605</td>\n",
       "      <td>-0.910963</td>\n",
       "      <td>-1.014116</td>\n",
       "      <td>0.836758</td>\n",
       "      <td>-0.333276</td>\n",
       "      <td>-0.450010</td>\n",
       "      <td>-0.794718</td>\n",
       "      <td>-0.271972</td>\n",
       "      <td>-0.605643</td>\n",
       "      <td>-0.492251</td>\n",
       "      <td>0.273409</td>\n",
       "      <td>2147483709</td>\n",
       "      <td>1040400059</td>\n",
       "    </tr>\n",
       "  </tbody>\n",
       "</table>\n",
       "</div>"
      ],
      "text/plain": [
       "   display_id   ad_id  clicked  day  adsPerDisplay  page_rate  \\\n",
       "0           1   42337        0   14       0.454491   0.005304   \n",
       "1           1  139684        0   14       0.454491   0.005304   \n",
       "2           1  144739        1   14       0.454491   0.005304   \n",
       "3           1  156824        0   14       0.454491   0.005304   \n",
       "4           1  279295        0   14       0.454491   0.005304   \n",
       "\n",
       "   page_source_rate  page_publisher_rate  page_topics_rate  page_cat_rate  \\\n",
       "0         -0.214989            -0.456605         -0.910963      -1.014116   \n",
       "1         -0.214989            -0.456605         -0.910963      -1.014116   \n",
       "2         -0.214989            -0.456605         -0.910963      -1.014116   \n",
       "3         -0.214989            -0.456605         -0.910963      -1.014116   \n",
       "4         -0.214989            -0.456605         -0.910963      -1.014116   \n",
       "\n",
       "    ad_rate  addoc_rate  campaign_rate  advertiser_rate  addoc_source_rate  \\\n",
       "0  0.110486   -0.341203      -0.478144        -0.818183          -0.272215   \n",
       "1  0.103228   -0.329048      -0.475183        -0.817748          -0.272270   \n",
       "2  0.831875   -0.341203      -0.472221        -0.822746          -0.272270   \n",
       "3 -0.508816   -0.339089      -0.461856        -0.801888          -0.271756   \n",
       "4  0.836758   -0.333276      -0.450010        -0.794718          -0.271972   \n",
       "\n",
       "   addoc_publisher_rate  addoc_topics_rate  addoc_cat_rate    page_age  \\\n",
       "0             -0.605843          -0.819885       -0.222556  2147483709   \n",
       "1             -0.605887          -0.336479       -0.297341  2147483709   \n",
       "2             -0.605887           0.303982       -0.842784  2147483709   \n",
       "3             -0.605466          -0.680455       -0.824454  2147483709   \n",
       "4             -0.605643          -0.492251        0.273409  2147483709   \n",
       "\n",
       "    addoc_age  \n",
       "0  1137600059  \n",
       "1  2147483709  \n",
       "2  2147483709  \n",
       "3  2147483709  \n",
       "4  1040400059  "
      ]
     },
     "execution_count": 38,
     "metadata": {},
     "output_type": "execute_result"
    }
   ],
   "source": [
    "pd.read_csv(output_file, nrows=10).head()"
   ]
  },
  {
   "cell_type": "markdown",
   "metadata": {
    "collapsed": true
   },
   "source": [
    "### Normalization of additional columns"
   ]
  },
  {
   "cell_type": "code",
   "execution_count": 7,
   "metadata": {
    "collapsed": true
   },
   "outputs": [],
   "source": [
    "import pandas as pd"
   ]
  },
  {
   "cell_type": "code",
   "execution_count": 8,
   "metadata": {
    "collapsed": true
   },
   "outputs": [],
   "source": [
    "from sklearn.preprocessing import StandardScaler\n",
    "\n",
    "def norm_chunks(input_file, output_file, usecols, chunksize=1000000):\n",
    "    print \"Start...\"\n",
    "    data = pd.read_csv(input_file, usecols=usecols)\n",
    "    print \"Columns are loaded. Start fitting...\"\n",
    "    fits = {}\n",
    "    for col in usecols:\n",
    "        fits[col] = StandardScaler().fit(data[[col]])\n",
    "    del data\n",
    "    \n",
    "    print \"Normalizing...\"\n",
    "    first_time = True\n",
    "    f = open(output_file, 'w')\n",
    "    size = 0\n",
    "\n",
    "    for chunk in pd.read_csv(input_file, chunksize=chunksize):\n",
    "        for col in usecols:\n",
    "            chunk[col] = fits[col].transform(chunk[[col]])\n",
    "    \n",
    "        if first_time:\n",
    "            chunk.to_csv(f, index = False, header=True)\n",
    "            f.close()\n",
    "            f = open(output_file, 'a')\n",
    "            first_time = False\n",
    "            chunk.head()\n",
    "        else:\n",
    "            chunk.to_csv(f, index = False, header=False)\n",
    "        \n",
    "        size+=chunksize\n",
    "        print size\n",
    "            \n",
    "    f.close()\n",
    "    print 'Done'    "
   ]
  },
  {
   "cell_type": "code",
   "execution_count": 5,
   "metadata": {
    "collapsed": true
   },
   "outputs": [],
   "source": [
    "input_file = \"../temp/clicks_train_step3.csv\"\n",
    "output_file = \"../generated/clicks_train_final.csv\"\n",
    "usecols=['page_age', 'addoc_age']"
   ]
  },
  {
   "cell_type": "code",
   "execution_count": 2,
   "metadata": {
    "collapsed": false
   },
   "outputs": [
    {
     "ename": "NameError",
     "evalue": "name 'norm_chunks' is not defined",
     "output_type": "error",
     "traceback": [
      "\u001b[1;31m---------------------------------------------------------------------------\u001b[0m",
      "\u001b[1;31mNameError\u001b[0m                                 Traceback (most recent call last)",
      "\u001b[1;32m<ipython-input-2-cdc80b8b8029>\u001b[0m in \u001b[0;36m<module>\u001b[1;34m()\u001b[0m\n\u001b[1;32m----> 1\u001b[1;33m \u001b[0mnorm_chunks\u001b[0m\u001b[1;33m(\u001b[0m\u001b[0minput_file\u001b[0m\u001b[1;33m,\u001b[0m \u001b[0moutput_file\u001b[0m\u001b[1;33m,\u001b[0m \u001b[0musecols\u001b[0m\u001b[1;33m=\u001b[0m\u001b[0musecols\u001b[0m\u001b[1;33m)\u001b[0m\u001b[1;33m\u001b[0m\u001b[0m\n\u001b[0m",
      "\u001b[1;31mNameError\u001b[0m: name 'norm_chunks' is not defined"
     ]
    }
   ],
   "source": [
    "norm_chunks(input_file, output_file, usecols=usecols)"
   ]
  },
  {
   "cell_type": "code",
   "execution_count": 6,
   "metadata": {
    "collapsed": false
   },
   "outputs": [
    {
     "data": {
      "text/html": [
       "<div>\n",
       "<table border=\"1\" class=\"dataframe\">\n",
       "  <thead>\n",
       "    <tr style=\"text-align: right;\">\n",
       "      <th></th>\n",
       "      <th>display_id</th>\n",
       "      <th>ad_id</th>\n",
       "      <th>clicked</th>\n",
       "      <th>day</th>\n",
       "      <th>adsPerDisplay</th>\n",
       "      <th>page_rate</th>\n",
       "      <th>page_source_rate</th>\n",
       "      <th>page_publisher_rate</th>\n",
       "      <th>page_topics_rate</th>\n",
       "      <th>page_cat_rate</th>\n",
       "      <th>ad_rate</th>\n",
       "      <th>addoc_rate</th>\n",
       "      <th>campaign_rate</th>\n",
       "      <th>advertiser_rate</th>\n",
       "      <th>addoc_source_rate</th>\n",
       "      <th>addoc_publisher_rate</th>\n",
       "      <th>addoc_topics_rate</th>\n",
       "      <th>addoc_cat_rate</th>\n",
       "      <th>page_age</th>\n",
       "      <th>addoc_age</th>\n",
       "    </tr>\n",
       "  </thead>\n",
       "  <tbody>\n",
       "    <tr>\n",
       "      <th>0</th>\n",
       "      <td>1</td>\n",
       "      <td>42337</td>\n",
       "      <td>0</td>\n",
       "      <td>14</td>\n",
       "      <td>0.454491</td>\n",
       "      <td>0.005304</td>\n",
       "      <td>-0.214989</td>\n",
       "      <td>-0.456605</td>\n",
       "      <td>-0.910963</td>\n",
       "      <td>-1.014116</td>\n",
       "      <td>0.110486</td>\n",
       "      <td>-0.341203</td>\n",
       "      <td>-0.478144</td>\n",
       "      <td>-0.818183</td>\n",
       "      <td>-0.272215</td>\n",
       "      <td>-0.605843</td>\n",
       "      <td>-0.819885</td>\n",
       "      <td>-0.222556</td>\n",
       "      <td>0.727377</td>\n",
       "      <td>-1.767554</td>\n",
       "    </tr>\n",
       "    <tr>\n",
       "      <th>1</th>\n",
       "      <td>1</td>\n",
       "      <td>139684</td>\n",
       "      <td>0</td>\n",
       "      <td>14</td>\n",
       "      <td>0.454491</td>\n",
       "      <td>0.005304</td>\n",
       "      <td>-0.214989</td>\n",
       "      <td>-0.456605</td>\n",
       "      <td>-0.910963</td>\n",
       "      <td>-1.014116</td>\n",
       "      <td>0.103228</td>\n",
       "      <td>-0.329048</td>\n",
       "      <td>-0.475183</td>\n",
       "      <td>-0.817748</td>\n",
       "      <td>-0.272270</td>\n",
       "      <td>-0.605887</td>\n",
       "      <td>-0.336479</td>\n",
       "      <td>-0.297341</td>\n",
       "      <td>0.727377</td>\n",
       "      <td>-0.392610</td>\n",
       "    </tr>\n",
       "    <tr>\n",
       "      <th>2</th>\n",
       "      <td>1</td>\n",
       "      <td>144739</td>\n",
       "      <td>1</td>\n",
       "      <td>14</td>\n",
       "      <td>0.454491</td>\n",
       "      <td>0.005304</td>\n",
       "      <td>-0.214989</td>\n",
       "      <td>-0.456605</td>\n",
       "      <td>-0.910963</td>\n",
       "      <td>-1.014116</td>\n",
       "      <td>0.831875</td>\n",
       "      <td>-0.341203</td>\n",
       "      <td>-0.472221</td>\n",
       "      <td>-0.822746</td>\n",
       "      <td>-0.272270</td>\n",
       "      <td>-0.605887</td>\n",
       "      <td>0.303982</td>\n",
       "      <td>-0.842784</td>\n",
       "      <td>0.727377</td>\n",
       "      <td>-0.392610</td>\n",
       "    </tr>\n",
       "    <tr>\n",
       "      <th>3</th>\n",
       "      <td>1</td>\n",
       "      <td>156824</td>\n",
       "      <td>0</td>\n",
       "      <td>14</td>\n",
       "      <td>0.454491</td>\n",
       "      <td>0.005304</td>\n",
       "      <td>-0.214989</td>\n",
       "      <td>-0.456605</td>\n",
       "      <td>-0.910963</td>\n",
       "      <td>-1.014116</td>\n",
       "      <td>-0.508816</td>\n",
       "      <td>-0.339089</td>\n",
       "      <td>-0.461856</td>\n",
       "      <td>-0.801888</td>\n",
       "      <td>-0.271756</td>\n",
       "      <td>-0.605466</td>\n",
       "      <td>-0.680455</td>\n",
       "      <td>-0.824454</td>\n",
       "      <td>0.727377</td>\n",
       "      <td>-0.392610</td>\n",
       "    </tr>\n",
       "    <tr>\n",
       "      <th>4</th>\n",
       "      <td>1</td>\n",
       "      <td>279295</td>\n",
       "      <td>0</td>\n",
       "      <td>14</td>\n",
       "      <td>0.454491</td>\n",
       "      <td>0.005304</td>\n",
       "      <td>-0.214989</td>\n",
       "      <td>-0.456605</td>\n",
       "      <td>-0.910963</td>\n",
       "      <td>-1.014116</td>\n",
       "      <td>0.836758</td>\n",
       "      <td>-0.333276</td>\n",
       "      <td>-0.450010</td>\n",
       "      <td>-0.794718</td>\n",
       "      <td>-0.271972</td>\n",
       "      <td>-0.605643</td>\n",
       "      <td>-0.492251</td>\n",
       "      <td>0.273409</td>\n",
       "      <td>0.727377</td>\n",
       "      <td>-1.899891</td>\n",
       "    </tr>\n",
       "  </tbody>\n",
       "</table>\n",
       "</div>"
      ],
      "text/plain": [
       "   display_id   ad_id  clicked  day  adsPerDisplay  page_rate  \\\n",
       "0           1   42337        0   14       0.454491   0.005304   \n",
       "1           1  139684        0   14       0.454491   0.005304   \n",
       "2           1  144739        1   14       0.454491   0.005304   \n",
       "3           1  156824        0   14       0.454491   0.005304   \n",
       "4           1  279295        0   14       0.454491   0.005304   \n",
       "\n",
       "   page_source_rate  page_publisher_rate  page_topics_rate  page_cat_rate  \\\n",
       "0         -0.214989            -0.456605         -0.910963      -1.014116   \n",
       "1         -0.214989            -0.456605         -0.910963      -1.014116   \n",
       "2         -0.214989            -0.456605         -0.910963      -1.014116   \n",
       "3         -0.214989            -0.456605         -0.910963      -1.014116   \n",
       "4         -0.214989            -0.456605         -0.910963      -1.014116   \n",
       "\n",
       "    ad_rate  addoc_rate  campaign_rate  advertiser_rate  addoc_source_rate  \\\n",
       "0  0.110486   -0.341203      -0.478144        -0.818183          -0.272215   \n",
       "1  0.103228   -0.329048      -0.475183        -0.817748          -0.272270   \n",
       "2  0.831875   -0.341203      -0.472221        -0.822746          -0.272270   \n",
       "3 -0.508816   -0.339089      -0.461856        -0.801888          -0.271756   \n",
       "4  0.836758   -0.333276      -0.450010        -0.794718          -0.271972   \n",
       "\n",
       "   addoc_publisher_rate  addoc_topics_rate  addoc_cat_rate  page_age  \\\n",
       "0             -0.605843          -0.819885       -0.222556  0.727377   \n",
       "1             -0.605887          -0.336479       -0.297341  0.727377   \n",
       "2             -0.605887           0.303982       -0.842784  0.727377   \n",
       "3             -0.605466          -0.680455       -0.824454  0.727377   \n",
       "4             -0.605643          -0.492251        0.273409  0.727377   \n",
       "\n",
       "   addoc_age  \n",
       "0  -1.767554  \n",
       "1  -0.392610  \n",
       "2  -0.392610  \n",
       "3  -0.392610  \n",
       "4  -1.899891  "
      ]
     },
     "execution_count": 6,
     "metadata": {},
     "output_type": "execute_result"
    }
   ],
   "source": [
    "pd.read_csv(output_file, nrows=10).head()"
   ]
  },
  {
   "cell_type": "code",
   "execution_count": 11,
   "metadata": {
    "collapsed": false
   },
   "outputs": [
    {
     "name": "stdout",
     "output_type": "stream",
     "text": [
      "Index([u'display_id', u'ad_id', u'clicked', u'day', u'adsPerDisplay',\n",
      "       u'page_rate', u'page_source_rate', u'page_publisher_rate',\n",
      "       u'page_topics_rate', u'page_cat_rate', u'ad_rate', u'addoc_rate',\n",
      "       u'campaign_rate', u'advertiser_rate', u'addoc_source_rate',\n",
      "       u'addoc_publisher_rate', u'addoc_topics_rate', u'addoc_cat_rate',\n",
      "       u'page_age', u'addoc_age'],\n",
      "      dtype='object')\n"
     ]
    }
   ],
   "source": [
    "print pd.read_csv(output_file, nrows=2).columns"
   ]
  },
  {
   "cell_type": "markdown",
   "metadata": {},
   "source": [
    "### Pivot"
   ]
  },
  {
   "cell_type": "code",
   "execution_count": 17,
   "metadata": {
    "collapsed": true
   },
   "outputs": [],
   "source": [
    "df = pd.read_csv(output_file, nrows=6)"
   ]
  },
  {
   "cell_type": "code",
   "execution_count": 18,
   "metadata": {
    "collapsed": false
   },
   "outputs": [
    {
     "data": {
      "text/html": [
       "<div>\n",
       "<table border=\"1\" class=\"dataframe\">\n",
       "  <thead>\n",
       "    <tr style=\"text-align: right;\">\n",
       "      <th></th>\n",
       "      <th>display_id</th>\n",
       "      <th>ad_id</th>\n",
       "      <th>clicked</th>\n",
       "      <th>day</th>\n",
       "      <th>adsPerDisplay</th>\n",
       "      <th>page_rate</th>\n",
       "      <th>page_source_rate</th>\n",
       "      <th>page_publisher_rate</th>\n",
       "      <th>page_topics_rate</th>\n",
       "      <th>page_cat_rate</th>\n",
       "      <th>ad_rate</th>\n",
       "      <th>addoc_rate</th>\n",
       "      <th>campaign_rate</th>\n",
       "      <th>advertiser_rate</th>\n",
       "      <th>addoc_source_rate</th>\n",
       "      <th>addoc_publisher_rate</th>\n",
       "      <th>addoc_topics_rate</th>\n",
       "      <th>addoc_cat_rate</th>\n",
       "      <th>page_age</th>\n",
       "      <th>addoc_age</th>\n",
       "    </tr>\n",
       "  </thead>\n",
       "  <tbody>\n",
       "    <tr>\n",
       "      <th>0</th>\n",
       "      <td>1</td>\n",
       "      <td>42337</td>\n",
       "      <td>0</td>\n",
       "      <td>14</td>\n",
       "      <td>0.454491</td>\n",
       "      <td>0.005304</td>\n",
       "      <td>-0.214989</td>\n",
       "      <td>-0.456605</td>\n",
       "      <td>-0.910963</td>\n",
       "      <td>-1.014116</td>\n",
       "      <td>0.110486</td>\n",
       "      <td>-0.341203</td>\n",
       "      <td>-0.478144</td>\n",
       "      <td>-0.818183</td>\n",
       "      <td>-0.272215</td>\n",
       "      <td>-0.605843</td>\n",
       "      <td>-0.819885</td>\n",
       "      <td>-0.222556</td>\n",
       "      <td>0.727377</td>\n",
       "      <td>-1.767554</td>\n",
       "    </tr>\n",
       "    <tr>\n",
       "      <th>1</th>\n",
       "      <td>1</td>\n",
       "      <td>139684</td>\n",
       "      <td>0</td>\n",
       "      <td>14</td>\n",
       "      <td>0.454491</td>\n",
       "      <td>0.005304</td>\n",
       "      <td>-0.214989</td>\n",
       "      <td>-0.456605</td>\n",
       "      <td>-0.910963</td>\n",
       "      <td>-1.014116</td>\n",
       "      <td>0.103228</td>\n",
       "      <td>-0.329048</td>\n",
       "      <td>-0.475183</td>\n",
       "      <td>-0.817748</td>\n",
       "      <td>-0.272270</td>\n",
       "      <td>-0.605887</td>\n",
       "      <td>-0.336479</td>\n",
       "      <td>-0.297341</td>\n",
       "      <td>0.727377</td>\n",
       "      <td>-0.392610</td>\n",
       "    </tr>\n",
       "    <tr>\n",
       "      <th>2</th>\n",
       "      <td>1</td>\n",
       "      <td>144739</td>\n",
       "      <td>1</td>\n",
       "      <td>14</td>\n",
       "      <td>0.454491</td>\n",
       "      <td>0.005304</td>\n",
       "      <td>-0.214989</td>\n",
       "      <td>-0.456605</td>\n",
       "      <td>-0.910963</td>\n",
       "      <td>-1.014116</td>\n",
       "      <td>0.831875</td>\n",
       "      <td>-0.341203</td>\n",
       "      <td>-0.472221</td>\n",
       "      <td>-0.822746</td>\n",
       "      <td>-0.272270</td>\n",
       "      <td>-0.605887</td>\n",
       "      <td>0.303982</td>\n",
       "      <td>-0.842784</td>\n",
       "      <td>0.727377</td>\n",
       "      <td>-0.392610</td>\n",
       "    </tr>\n",
       "    <tr>\n",
       "      <th>3</th>\n",
       "      <td>1</td>\n",
       "      <td>156824</td>\n",
       "      <td>0</td>\n",
       "      <td>14</td>\n",
       "      <td>0.454491</td>\n",
       "      <td>0.005304</td>\n",
       "      <td>-0.214989</td>\n",
       "      <td>-0.456605</td>\n",
       "      <td>-0.910963</td>\n",
       "      <td>-1.014116</td>\n",
       "      <td>-0.508816</td>\n",
       "      <td>-0.339089</td>\n",
       "      <td>-0.461856</td>\n",
       "      <td>-0.801888</td>\n",
       "      <td>-0.271756</td>\n",
       "      <td>-0.605466</td>\n",
       "      <td>-0.680455</td>\n",
       "      <td>-0.824454</td>\n",
       "      <td>0.727377</td>\n",
       "      <td>-0.392610</td>\n",
       "    </tr>\n",
       "    <tr>\n",
       "      <th>4</th>\n",
       "      <td>1</td>\n",
       "      <td>279295</td>\n",
       "      <td>0</td>\n",
       "      <td>14</td>\n",
       "      <td>0.454491</td>\n",
       "      <td>0.005304</td>\n",
       "      <td>-0.214989</td>\n",
       "      <td>-0.456605</td>\n",
       "      <td>-0.910963</td>\n",
       "      <td>-1.014116</td>\n",
       "      <td>0.836758</td>\n",
       "      <td>-0.333276</td>\n",
       "      <td>-0.450010</td>\n",
       "      <td>-0.794718</td>\n",
       "      <td>-0.271972</td>\n",
       "      <td>-0.605643</td>\n",
       "      <td>-0.492251</td>\n",
       "      <td>0.273409</td>\n",
       "      <td>0.727377</td>\n",
       "      <td>-1.899891</td>\n",
       "    </tr>\n",
       "    <tr>\n",
       "      <th>5</th>\n",
       "      <td>1</td>\n",
       "      <td>296965</td>\n",
       "      <td>0</td>\n",
       "      <td>14</td>\n",
       "      <td>0.454491</td>\n",
       "      <td>0.005304</td>\n",
       "      <td>-0.214989</td>\n",
       "      <td>-0.456605</td>\n",
       "      <td>-0.910963</td>\n",
       "      <td>-1.014116</td>\n",
       "      <td>-0.117496</td>\n",
       "      <td>1.905250</td>\n",
       "      <td>-0.334509</td>\n",
       "      <td>1.358825</td>\n",
       "      <td>-0.271891</td>\n",
       "      <td>-0.605577</td>\n",
       "      <td>-0.807861</td>\n",
       "      <td>0.454569</td>\n",
       "      <td>0.727377</td>\n",
       "      <td>-0.392610</td>\n",
       "    </tr>\n",
       "  </tbody>\n",
       "</table>\n",
       "</div>"
      ],
      "text/plain": [
       "   display_id   ad_id  clicked  day  adsPerDisplay  page_rate  \\\n",
       "0           1   42337        0   14       0.454491   0.005304   \n",
       "1           1  139684        0   14       0.454491   0.005304   \n",
       "2           1  144739        1   14       0.454491   0.005304   \n",
       "3           1  156824        0   14       0.454491   0.005304   \n",
       "4           1  279295        0   14       0.454491   0.005304   \n",
       "5           1  296965        0   14       0.454491   0.005304   \n",
       "\n",
       "   page_source_rate  page_publisher_rate  page_topics_rate  page_cat_rate  \\\n",
       "0         -0.214989            -0.456605         -0.910963      -1.014116   \n",
       "1         -0.214989            -0.456605         -0.910963      -1.014116   \n",
       "2         -0.214989            -0.456605         -0.910963      -1.014116   \n",
       "3         -0.214989            -0.456605         -0.910963      -1.014116   \n",
       "4         -0.214989            -0.456605         -0.910963      -1.014116   \n",
       "5         -0.214989            -0.456605         -0.910963      -1.014116   \n",
       "\n",
       "    ad_rate  addoc_rate  campaign_rate  advertiser_rate  addoc_source_rate  \\\n",
       "0  0.110486   -0.341203      -0.478144        -0.818183          -0.272215   \n",
       "1  0.103228   -0.329048      -0.475183        -0.817748          -0.272270   \n",
       "2  0.831875   -0.341203      -0.472221        -0.822746          -0.272270   \n",
       "3 -0.508816   -0.339089      -0.461856        -0.801888          -0.271756   \n",
       "4  0.836758   -0.333276      -0.450010        -0.794718          -0.271972   \n",
       "5 -0.117496    1.905250      -0.334509         1.358825          -0.271891   \n",
       "\n",
       "   addoc_publisher_rate  addoc_topics_rate  addoc_cat_rate  page_age  \\\n",
       "0             -0.605843          -0.819885       -0.222556  0.727377   \n",
       "1             -0.605887          -0.336479       -0.297341  0.727377   \n",
       "2             -0.605887           0.303982       -0.842784  0.727377   \n",
       "3             -0.605466          -0.680455       -0.824454  0.727377   \n",
       "4             -0.605643          -0.492251        0.273409  0.727377   \n",
       "5             -0.605577          -0.807861        0.454569  0.727377   \n",
       "\n",
       "   addoc_age  \n",
       "0  -1.767554  \n",
       "1  -0.392610  \n",
       "2  -0.392610  \n",
       "3  -0.392610  \n",
       "4  -1.899891  \n",
       "5  -0.392610  "
      ]
     },
     "execution_count": 18,
     "metadata": {},
     "output_type": "execute_result"
    }
   ],
   "source": [
    "df"
   ]
  },
  {
   "cell_type": "code",
   "execution_count": null,
   "metadata": {
    "collapsed": true
   },
   "outputs": [],
   "source": [
    "df.pivot(index='display_id', columns='ad_id', values=['ad_id','clicked']).reset_index()"
   ]
  },
  {
   "cell_type": "code",
   "execution_count": 22,
   "metadata": {
    "collapsed": true
   },
   "outputs": [],
   "source": [
    "df_not = df[df.clicked==0]\n",
    "df_clicked = df[df.clicked==1]"
   ]
  },
  {
   "cell_type": "code",
   "execution_count": 34,
   "metadata": {
    "collapsed": false
   },
   "outputs": [
    {
     "data": {
      "text/plain": [
       "array([  1.00000000e+00,   1.44739000e+05,   1.00000000e+00,\n",
       "         1.40000000e+01,   4.54490596e-01,   5.30398472e-03,\n",
       "        -2.14988638e-01,  -4.56605031e-01,  -9.10963090e-01,\n",
       "        -1.01411622e+00,   8.31874641e-01,  -3.41202592e-01,\n",
       "        -4.72221182e-01,  -8.22745577e-01,  -2.72269507e-01,\n",
       "        -6.05887017e-01,   3.03982482e-01,  -8.42784134e-01,\n",
       "         7.27376895e-01,  -3.92610363e-01])"
      ]
     },
     "execution_count": 34,
     "metadata": {},
     "output_type": "execute_result"
    }
   ],
   "source": [
    "titles = df_clicked.mean().values\n",
    "titles"
   ]
  },
  {
   "cell_type": "code",
   "execution_count": 36,
   "metadata": {
    "collapsed": false
   },
   "outputs": [
    {
     "data": {
      "text/html": [
       "<div>\n",
       "<table border=\"1\" class=\"dataframe\">\n",
       "  <thead>\n",
       "    <tr style=\"text-align: right;\">\n",
       "      <th></th>\n",
       "      <th>clicked</th>\n",
       "      <th>not</th>\n",
       "      <th>title</th>\n",
       "    </tr>\n",
       "  </thead>\n",
       "  <tbody>\n",
       "    <tr>\n",
       "      <th>0</th>\n",
       "      <td>1.000000</td>\n",
       "      <td>1.000000</td>\n",
       "      <td>display_id</td>\n",
       "    </tr>\n",
       "    <tr>\n",
       "      <th>1</th>\n",
       "      <td>144739.000000</td>\n",
       "      <td>183021.000000</td>\n",
       "      <td>ad_id</td>\n",
       "    </tr>\n",
       "    <tr>\n",
       "      <th>2</th>\n",
       "      <td>1.000000</td>\n",
       "      <td>0.000000</td>\n",
       "      <td>clicked</td>\n",
       "    </tr>\n",
       "    <tr>\n",
       "      <th>3</th>\n",
       "      <td>14.000000</td>\n",
       "      <td>14.000000</td>\n",
       "      <td>day</td>\n",
       "    </tr>\n",
       "    <tr>\n",
       "      <th>4</th>\n",
       "      <td>0.454491</td>\n",
       "      <td>0.454491</td>\n",
       "      <td>adsPerDisplay</td>\n",
       "    </tr>\n",
       "    <tr>\n",
       "      <th>5</th>\n",
       "      <td>0.005304</td>\n",
       "      <td>0.005304</td>\n",
       "      <td>page_rate</td>\n",
       "    </tr>\n",
       "    <tr>\n",
       "      <th>6</th>\n",
       "      <td>-0.214989</td>\n",
       "      <td>-0.214989</td>\n",
       "      <td>page_source_rate</td>\n",
       "    </tr>\n",
       "    <tr>\n",
       "      <th>7</th>\n",
       "      <td>-0.456605</td>\n",
       "      <td>-0.456605</td>\n",
       "      <td>page_publisher_rate</td>\n",
       "    </tr>\n",
       "    <tr>\n",
       "      <th>8</th>\n",
       "      <td>-0.910963</td>\n",
       "      <td>-0.910963</td>\n",
       "      <td>page_topics_rate</td>\n",
       "    </tr>\n",
       "    <tr>\n",
       "      <th>9</th>\n",
       "      <td>-1.014116</td>\n",
       "      <td>-1.014116</td>\n",
       "      <td>page_cat_rate</td>\n",
       "    </tr>\n",
       "    <tr>\n",
       "      <th>10</th>\n",
       "      <td>0.831875</td>\n",
       "      <td>0.084832</td>\n",
       "      <td>ad_rate</td>\n",
       "    </tr>\n",
       "    <tr>\n",
       "      <th>11</th>\n",
       "      <td>-0.341203</td>\n",
       "      <td>0.112527</td>\n",
       "      <td>addoc_rate</td>\n",
       "    </tr>\n",
       "    <tr>\n",
       "      <th>12</th>\n",
       "      <td>-0.472221</td>\n",
       "      <td>-0.439940</td>\n",
       "      <td>campaign_rate</td>\n",
       "    </tr>\n",
       "    <tr>\n",
       "      <th>13</th>\n",
       "      <td>-0.822746</td>\n",
       "      <td>-0.374743</td>\n",
       "      <td>advertiser_rate</td>\n",
       "    </tr>\n",
       "    <tr>\n",
       "      <th>14</th>\n",
       "      <td>-0.272270</td>\n",
       "      <td>-0.272021</td>\n",
       "      <td>addoc_source_rate</td>\n",
       "    </tr>\n",
       "    <tr>\n",
       "      <th>15</th>\n",
       "      <td>-0.605887</td>\n",
       "      <td>-0.605683</td>\n",
       "      <td>addoc_publisher_rate</td>\n",
       "    </tr>\n",
       "    <tr>\n",
       "      <th>16</th>\n",
       "      <td>0.303982</td>\n",
       "      <td>-0.627386</td>\n",
       "      <td>addoc_topics_rate</td>\n",
       "    </tr>\n",
       "    <tr>\n",
       "      <th>17</th>\n",
       "      <td>-0.842784</td>\n",
       "      <td>-0.123275</td>\n",
       "      <td>addoc_cat_rate</td>\n",
       "    </tr>\n",
       "    <tr>\n",
       "      <th>18</th>\n",
       "      <td>0.727377</td>\n",
       "      <td>0.727377</td>\n",
       "      <td>page_age</td>\n",
       "    </tr>\n",
       "    <tr>\n",
       "      <th>19</th>\n",
       "      <td>-0.392610</td>\n",
       "      <td>-0.969055</td>\n",
       "      <td>addoc_age</td>\n",
       "    </tr>\n",
       "  </tbody>\n",
       "</table>\n",
       "</div>"
      ],
      "text/plain": [
       "          clicked            not                 title\n",
       "0        1.000000       1.000000            display_id\n",
       "1   144739.000000  183021.000000                 ad_id\n",
       "2        1.000000       0.000000               clicked\n",
       "3       14.000000      14.000000                   day\n",
       "4        0.454491       0.454491         adsPerDisplay\n",
       "5        0.005304       0.005304             page_rate\n",
       "6       -0.214989      -0.214989      page_source_rate\n",
       "7       -0.456605      -0.456605   page_publisher_rate\n",
       "8       -0.910963      -0.910963      page_topics_rate\n",
       "9       -1.014116      -1.014116         page_cat_rate\n",
       "10       0.831875       0.084832               ad_rate\n",
       "11      -0.341203       0.112527            addoc_rate\n",
       "12      -0.472221      -0.439940         campaign_rate\n",
       "13      -0.822746      -0.374743       advertiser_rate\n",
       "14      -0.272270      -0.272021     addoc_source_rate\n",
       "15      -0.605887      -0.605683  addoc_publisher_rate\n",
       "16       0.303982      -0.627386     addoc_topics_rate\n",
       "17      -0.842784      -0.123275        addoc_cat_rate\n",
       "18       0.727377       0.727377              page_age\n",
       "19      -0.392610      -0.969055             addoc_age"
      ]
     },
     "execution_count": 36,
     "metadata": {},
     "output_type": "execute_result"
    }
   ],
   "source": [
    "compare = pd.DataFrame({'title':df_clicked.mean().index, 'clicked':df_clicked.mean().values, 'not':df_not.mean().values})\n",
    "compare"
   ]
  },
  {
   "cell_type": "markdown",
   "metadata": {},
   "source": [
    "### To HDF5"
   ]
  },
  {
   "cell_type": "code",
   "execution_count": 1,
   "metadata": {
    "collapsed": true
   },
   "outputs": [],
   "source": [
    "import pandas as pd"
   ]
  },
  {
   "cell_type": "code",
   "execution_count": 10,
   "metadata": {
    "collapsed": false
   },
   "outputs": [],
   "source": [
    "def writeCSVtoHDF5(input_file, output_file, chunksize = 5000000):\n",
    "    first_time = True\n",
    "    size = 0\n",
    "\n",
    "    for chunk in pd.read_csv(input_file, chunksize=chunksize):\n",
    "        chunk.to_hdf(output_file, key='train', mode='a', append=True)\n",
    "        \n",
    "        size+=chunksize\n",
    "        print size\n",
    "            \n",
    "    print 'Done'    "
   ]
  },
  {
   "cell_type": "code",
   "execution_count": 2,
   "metadata": {
    "collapsed": true
   },
   "outputs": [],
   "source": [
    "input_file = \"../generated/clicks_train_final.csv\"\n",
    "output_file = \"../generated/clicks_train_final.hdf5\""
   ]
  },
  {
   "cell_type": "code",
   "execution_count": null,
   "metadata": {
    "collapsed": false
   },
   "outputs": [
    {
     "name": "stdout",
     "output_type": "stream",
     "text": [
      "5000000\n",
      "10000000\n",
      "15000000\n",
      "20000000\n",
      "25000000\n",
      "30000000\n",
      "35000000\n",
      "40000000\n",
      "45000000\n",
      "50000000\n",
      "55000000\n",
      "60000000\n",
      "65000000\n",
      "70000000\n",
      "75000000\n",
      "80000000\n",
      "85000000\n",
      "90000000\n",
      "Done\n"
     ]
    }
   ],
   "source": [
    "writeCSVtoHDF5(input_file, output_file)"
   ]
  },
  {
   "cell_type": "code",
   "execution_count": 19,
   "metadata": {
    "collapsed": false
   },
   "outputs": [],
   "source": [
    "clicks = pd.HDFStore(output_file, mode='a')  #pd.read_hdf(output_file, nrows=10).head()"
   ]
  },
  {
   "cell_type": "code",
   "execution_count": 20,
   "metadata": {
    "collapsed": false
   },
   "outputs": [
    {
     "data": {
      "text/plain": [
       "<class 'pandas.io.pytables.HDFStore'>\n",
       "File path: ../generated/clicks_train_final.hdf5\n",
       "Empty"
      ]
     },
     "execution_count": 20,
     "metadata": {},
     "output_type": "execute_result"
    }
   ],
   "source": []
  },
  {
   "cell_type": "code",
   "execution_count": 17,
   "metadata": {
    "collapsed": false
   },
   "outputs": [
    {
     "ename": "AttributeError",
     "evalue": "'NoneType' object has no attribute 'read_column'",
     "output_type": "error",
     "traceback": [
      "\u001b[1;31m---------------------------------------------------------------------------\u001b[0m",
      "\u001b[1;31mAttributeError\u001b[0m                            Traceback (most recent call last)",
      "\u001b[1;32m<ipython-input-17-11917e0e0af0>\u001b[0m in \u001b[0;36m<module>\u001b[1;34m()\u001b[0m\n\u001b[1;32m----> 1\u001b[1;33m \u001b[0mc\u001b[0m \u001b[1;33m=\u001b[0m \u001b[0mclicks\u001b[0m\u001b[1;33m.\u001b[0m\u001b[0mselect_column\u001b[0m\u001b[1;33m(\u001b[0m\u001b[1;34m'train'\u001b[0m\u001b[1;33m,\u001b[0m \u001b[1;34m'index'\u001b[0m\u001b[1;33m)\u001b[0m\u001b[1;33m\u001b[0m\u001b[0m\n\u001b[0m\u001b[0;32m      2\u001b[0m \u001b[1;31m#c.count()\u001b[0m\u001b[1;33m\u001b[0m\u001b[1;33m\u001b[0m\u001b[0m\n",
      "\u001b[1;32mD:\\Anaconda2\\lib\\site-packages\\pandas\\io\\pytables.pyc\u001b[0m in \u001b[0;36mselect_column\u001b[1;34m(self, key, column, **kwargs)\u001b[0m\n\u001b[0;32m    758\u001b[0m \u001b[1;33m\u001b[0m\u001b[0m\n\u001b[0;32m    759\u001b[0m         \"\"\"\n\u001b[1;32m--> 760\u001b[1;33m         \u001b[1;32mreturn\u001b[0m \u001b[0mself\u001b[0m\u001b[1;33m.\u001b[0m\u001b[0mget_storer\u001b[0m\u001b[1;33m(\u001b[0m\u001b[0mkey\u001b[0m\u001b[1;33m)\u001b[0m\u001b[1;33m.\u001b[0m\u001b[0mread_column\u001b[0m\u001b[1;33m(\u001b[0m\u001b[0mcolumn\u001b[0m\u001b[1;33m=\u001b[0m\u001b[0mcolumn\u001b[0m\u001b[1;33m,\u001b[0m \u001b[1;33m**\u001b[0m\u001b[0mkwargs\u001b[0m\u001b[1;33m)\u001b[0m\u001b[1;33m\u001b[0m\u001b[0m\n\u001b[0m\u001b[0;32m    761\u001b[0m \u001b[1;33m\u001b[0m\u001b[0m\n\u001b[0;32m    762\u001b[0m     def select_as_multiple(self, keys, where=None, selector=None, columns=None,\n",
      "\u001b[1;31mAttributeError\u001b[0m: 'NoneType' object has no attribute 'read_column'"
     ]
    }
   ],
   "source": [
    "c = clicks.select_column('train', 'index')\n",
    "#c.count()"
   ]
  },
  {
   "cell_type": "markdown",
   "metadata": {},
   "source": [
    "### Split"
   ]
  },
  {
   "cell_type": "code",
   "execution_count": null,
   "metadata": {
    "collapsed": true
   },
   "outputs": [],
   "source": [
    "import pandas as pd\n",
    "#from sklearn.model_selection import KFold\n",
    "from sklearn.model_selection import ShuffleSplit"
   ]
  },
  {
   "cell_type": "code",
   "execution_count": null,
   "metadata": {
    "collapsed": true
   },
   "outputs": [],
   "source": [
    "input_file = \"../generated/clicks_train_final.hdf5\"\n",
    "output_train = \"../generated/clicks_train_final_train.hdf5\"\n",
    "output_test = \"../generated/clicks_train_final_test.hdf5\""
   ]
  },
  {
   "cell_type": "code",
   "execution_count": null,
   "metadata": {
    "collapsed": false
   },
   "outputs": [],
   "source": [
    "clicks = pd.read_hdf(input_file)\n",
    "clicks.count()"
   ]
  },
  {
   "cell_type": "code",
   "execution_count": null,
   "metadata": {
    "collapsed": false
   },
   "outputs": [],
   "source": [
    "#kf = KFold(n_splits=5)\n",
    "#train, test = kf.split(displays).next()\n",
    "ss = ShuffleSplit(n_splits=1, test_size=0.25, random_state=0)\n",
    "train_index, test_index = ss.split(clicks).next()\n",
    "\n",
    "print len(train_index) + len(test_index)"
   ]
  },
  {
   "cell_type": "code",
   "execution_count": null,
   "metadata": {
    "collapsed": true
   },
   "outputs": [],
   "source": [
    "clicks.loc[train_index].to_hdf(output_train)"
   ]
  },
  {
   "cell_type": "code",
   "execution_count": null,
   "metadata": {
    "collapsed": true
   },
   "outputs": [],
   "source": [
    "clicks.loc[test_index].to_hdf(output_test)"
   ]
  },
  {
   "cell_type": "code",
   "execution_count": null,
   "metadata": {
    "collapsed": true
   },
   "outputs": [],
   "source": []
  }
 ],
 "metadata": {
  "anaconda-cloud": {},
  "kernelspec": {
   "display_name": "Python [Root]",
   "language": "python",
   "name": "Python [Root]"
  },
  "language_info": {
   "codemirror_mode": {
    "name": "ipython",
    "version": 2
   },
   "file_extension": ".py",
   "mimetype": "text/x-python",
   "name": "python",
   "nbconvert_exporter": "python",
   "pygments_lexer": "ipython2",
   "version": "2.7.11"
  }
 },
 "nbformat": 4,
 "nbformat_minor": 0
}
