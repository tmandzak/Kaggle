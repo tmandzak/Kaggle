{
 "cells": [
  {
   "cell_type": "code",
   "execution_count": 1,
   "metadata": {
    "collapsed": true
   },
   "outputs": [],
   "source": [
    "import pandas as pd"
   ]
  },
  {
   "cell_type": "markdown",
   "metadata": {},
   "source": [
    "## CTR estimation based on clicks history"
   ]
  },
  {
   "cell_type": "code",
   "execution_count": 2,
   "metadata": {
    "collapsed": true
   },
   "outputs": [],
   "source": [
    "def clicksPerAd(clicks, group_by=['ad_id', 'adsPerDisplay'], alpha=10, beta=0.1):\n",
    "\n",
    "    res = pd.DataFrame({'clicked': clicks.groupby(group_by)['clicked'].sum(),\n",
    "                         'viewed': clicks.groupby(group_by)['clicked'].size()\n",
    "                          }).reset_index()\n",
    "    \n",
    "    res_mean = clicks['clicked'].mean()\n",
    "   \n",
    "    by = group_by[1:]\n",
    "\n",
    "    clicksPerAd_train_means = pd.DataFrame({'mean':clicks.groupby(by)['clicked'].mean()}).reset_index()\n",
    "    res = res.merge(clicksPerAd_train_means, on=by)\n",
    "    res['clicksPerShows'] = (beta*res_mean + alpha*res['mean'] + res['clicked']) / (beta + alpha + res['viewed'])\n",
    "    res.drop(['clicked', 'viewed', 'mean'], axis=1, inplace=True)\n",
    "        \n",
    "    return res"
   ]
  },
  {
   "cell_type": "code",
   "execution_count": 3,
   "metadata": {
    "collapsed": false
   },
   "outputs": [
    {
     "data": {
      "text/plain": [
       "display_id       87141731\n",
       "ad_id            87141731\n",
       "clicked          87141731\n",
       "adsPerDisplay    87141731\n",
       "dtype: int64"
      ]
     },
     "execution_count": 3,
     "metadata": {},
     "output_type": "execute_result"
    }
   ],
   "source": [
    "events_clicks_train = pd.read_csv(\"../generated/final/events_clicks_train.csv\", usecols=['display_id', 'ad_id', 'adsPerDisplay', 'clicked'])\n",
    "events_clicks_train.count()"
   ]
  },
  {
   "cell_type": "code",
   "execution_count": 4,
   "metadata": {
    "collapsed": false
   },
   "outputs": [
    {
     "data": {
      "text/plain": [
       "ad_id             1570987\n",
       "adsPerDisplay     1570987\n",
       "clicksPerShows    1570987\n",
       "dtype: int64"
      ]
     },
     "execution_count": 4,
     "metadata": {},
     "output_type": "execute_result"
    }
   ],
   "source": [
    "clicksPerAd_train = clicksPerAd(events_clicks_train,  group_by=['ad_id', 'adsPerDisplay'], alpha=10, beta=0.1)\n",
    "clicksPerAd_train.count()"
   ]
  },
  {
   "cell_type": "code",
   "execution_count": 5,
   "metadata": {
    "collapsed": false
   },
   "outputs": [
    {
     "data": {
      "text/plain": [
       "display_id        87141731\n",
       "ad_id             87141731\n",
       "clicked           87141731\n",
       "adsPerDisplay     87141731\n",
       "clicksPerShows    87141731\n",
       "dtype: int64"
      ]
     },
     "execution_count": 5,
     "metadata": {},
     "output_type": "execute_result"
    }
   ],
   "source": [
    "events_clicks_train = events_clicks_train.merge(clicksPerAd_train, how='left', on = ['ad_id', 'adsPerDisplay'])\n",
    "events_clicks_train.count()"
   ]
  },
  {
   "cell_type": "code",
   "execution_count": 6,
   "metadata": {
    "collapsed": false
   },
   "outputs": [],
   "source": [
    "events_clicks_train = events_clicks_train.drop(['clicked', 'adsPerDisplay'], axis=1)\n",
    "events_clicks_train = events_clicks_train.sort_values(by=['display_id', 'clicksPerShows'], ascending=[True, False])"
   ]
  },
  {
   "cell_type": "code",
   "execution_count": 7,
   "metadata": {
    "collapsed": false
   },
   "outputs": [],
   "source": [
    "events_clicks_train.to_csv(\"../generated/final/events_CTR_train.csv\", index=False)"
   ]
  },
  {
   "cell_type": "code",
   "execution_count": 8,
   "metadata": {
    "collapsed": true
   },
   "outputs": [],
   "source": [
    "del events_clicks_train"
   ]
  },
  {
   "cell_type": "code",
   "execution_count": 9,
   "metadata": {
    "collapsed": false
   },
   "outputs": [
    {
     "data": {
      "text/plain": [
       "display_id       32225162\n",
       "ad_id            32225162\n",
       "adsPerDisplay    32225162\n",
       "dtype: int64"
      ]
     },
     "execution_count": 9,
     "metadata": {},
     "output_type": "execute_result"
    }
   ],
   "source": [
    "clicks_test = pd.read_csv(\"../generated/final/events_clicks_test.csv\", usecols=['display_id', 'ad_id', 'adsPerDisplay'])\n",
    "clicks_test.count()"
   ]
  },
  {
   "cell_type": "code",
   "execution_count": 10,
   "metadata": {
    "collapsed": false
   },
   "outputs": [
    {
     "data": {
      "text/plain": [
       "display_id        32225162\n",
       "ad_id             32225162\n",
       "adsPerDisplay     32225162\n",
       "clicksPerShows    30737615\n",
       "dtype: int64"
      ]
     },
     "execution_count": 10,
     "metadata": {},
     "output_type": "execute_result"
    }
   ],
   "source": [
    "prediction = pd.merge(clicks_test, clicksPerAd_train, how='left', on = ['ad_id', 'adsPerDisplay'])\n",
    "prediction.count()"
   ]
  },
  {
   "cell_type": "code",
   "execution_count": 11,
   "metadata": {
    "collapsed": true
   },
   "outputs": [],
   "source": [
    "del clicks_test"
   ]
  },
  {
   "cell_type": "code",
   "execution_count": 12,
   "metadata": {
    "collapsed": true
   },
   "outputs": [],
   "source": [
    "clicksPerAd_train_means = pd.DataFrame({'clicksPerShows':clicksPerAd_train.groupby(['adsPerDisplay'])['clicksPerShows'].mean()}).reset_index()\n",
    "del clicksPerAd_train"
   ]
  },
  {
   "cell_type": "code",
   "execution_count": 13,
   "metadata": {
    "collapsed": false
   },
   "outputs": [
    {
     "data": {
      "text/plain": [
       "display_id        32225162\n",
       "ad_id             32225162\n",
       "adsPerDisplay     32225162\n",
       "clicksPerShows    32225162\n",
       "dtype: int64"
      ]
     },
     "execution_count": 13,
     "metadata": {},
     "output_type": "execute_result"
    }
   ],
   "source": [
    "index = pd.isnull(prediction['clicksPerShows'])\n",
    "prediction_nulls = prediction[index].copy()\n",
    "prediction_nulls.drop(['clicksPerShows'], axis=1, inplace=True)\n",
    "prediction_nulls = prediction_nulls.merge(clicksPerAd_train_means, how='left', on = ['adsPerDisplay'])\n",
    "prediction = pd.concat([prediction[~index], prediction_nulls])\n",
    "prediction = prediction.sort_values(by=['display_id', 'clicksPerShows'], ascending=[True, False])\n",
    "prediction.count()"
   ]
  },
  {
   "cell_type": "code",
   "execution_count": 14,
   "metadata": {
    "collapsed": true
   },
   "outputs": [],
   "source": [
    "prediction.drop('adsPerDisplay', axis=1).to_csv(\"../generated/final/events_CTR_test.csv\", index=False)"
   ]
  },
  {
   "cell_type": "code",
   "execution_count": 15,
   "metadata": {
    "collapsed": true
   },
   "outputs": [],
   "source": [
    "del prediction\n",
    "del prediction_nulls"
   ]
  },
  {
   "cell_type": "code",
   "execution_count": 16,
   "metadata": {
    "collapsed": false
   },
   "outputs": [
    {
     "data": {
      "text/html": [
       "<div>\n",
       "<table border=\"1\" class=\"dataframe\">\n",
       "  <thead>\n",
       "    <tr style=\"text-align: right;\">\n",
       "      <th></th>\n",
       "      <th>display_id</th>\n",
       "      <th>ad_id</th>\n",
       "      <th>clicksPerShows</th>\n",
       "    </tr>\n",
       "  </thead>\n",
       "  <tbody>\n",
       "    <tr>\n",
       "      <th>0</th>\n",
       "      <td>1</td>\n",
       "      <td>279295</td>\n",
       "      <td>0.312033</td>\n",
       "    </tr>\n",
       "    <tr>\n",
       "      <th>1</th>\n",
       "      <td>1</td>\n",
       "      <td>144739</td>\n",
       "      <td>0.289011</td>\n",
       "    </tr>\n",
       "    <tr>\n",
       "      <th>2</th>\n",
       "      <td>1</td>\n",
       "      <td>42337</td>\n",
       "      <td>0.148100</td>\n",
       "    </tr>\n",
       "    <tr>\n",
       "      <th>3</th>\n",
       "      <td>1</td>\n",
       "      <td>139684</td>\n",
       "      <td>0.139921</td>\n",
       "    </tr>\n",
       "    <tr>\n",
       "      <th>4</th>\n",
       "      <td>1</td>\n",
       "      <td>296965</td>\n",
       "      <td>0.088274</td>\n",
       "    </tr>\n",
       "  </tbody>\n",
       "</table>\n",
       "</div>"
      ],
      "text/plain": [
       "   display_id   ad_id  clicksPerShows\n",
       "0           1  279295        0.312033\n",
       "1           1  144739        0.289011\n",
       "2           1   42337        0.148100\n",
       "3           1  139684        0.139921\n",
       "4           1  296965        0.088274"
      ]
     },
     "execution_count": 16,
     "metadata": {},
     "output_type": "execute_result"
    }
   ],
   "source": [
    "pd.read_csv(\"../generated/final/events_CTR_train.csv\", nrows=10).head()"
   ]
  },
  {
   "cell_type": "code",
   "execution_count": 17,
   "metadata": {
    "collapsed": false
   },
   "outputs": [
    {
     "data": {
      "text/html": [
       "<div>\n",
       "<table border=\"1\" class=\"dataframe\">\n",
       "  <thead>\n",
       "    <tr style=\"text-align: right;\">\n",
       "      <th></th>\n",
       "      <th>display_id</th>\n",
       "      <th>ad_id</th>\n",
       "      <th>clicksPerShows</th>\n",
       "    </tr>\n",
       "  </thead>\n",
       "  <tbody>\n",
       "    <tr>\n",
       "      <th>0</th>\n",
       "      <td>16874594</td>\n",
       "      <td>170392</td>\n",
       "      <td>0.312005</td>\n",
       "    </tr>\n",
       "    <tr>\n",
       "      <th>1</th>\n",
       "      <td>16874594</td>\n",
       "      <td>172888</td>\n",
       "      <td>0.271547</td>\n",
       "    </tr>\n",
       "    <tr>\n",
       "      <th>2</th>\n",
       "      <td>16874594</td>\n",
       "      <td>162754</td>\n",
       "      <td>0.203940</td>\n",
       "    </tr>\n",
       "    <tr>\n",
       "      <th>3</th>\n",
       "      <td>16874594</td>\n",
       "      <td>150083</td>\n",
       "      <td>0.067184</td>\n",
       "    </tr>\n",
       "    <tr>\n",
       "      <th>4</th>\n",
       "      <td>16874594</td>\n",
       "      <td>66758</td>\n",
       "      <td>0.043269</td>\n",
       "    </tr>\n",
       "  </tbody>\n",
       "</table>\n",
       "</div>"
      ],
      "text/plain": [
       "   display_id   ad_id  clicksPerShows\n",
       "0    16874594  170392        0.312005\n",
       "1    16874594  172888        0.271547\n",
       "2    16874594  162754        0.203940\n",
       "3    16874594  150083        0.067184\n",
       "4    16874594   66758        0.043269"
      ]
     },
     "execution_count": 17,
     "metadata": {},
     "output_type": "execute_result"
    }
   ],
   "source": [
    "pd.read_csv(\"../generated/final/events_CTR_test.csv\", nrows=10).head()"
   ]
  },
  {
   "cell_type": "code",
   "execution_count": null,
   "metadata": {
    "collapsed": true
   },
   "outputs": [],
   "source": []
  }
 ],
 "metadata": {
  "anaconda-cloud": {},
  "kernelspec": {
   "display_name": "Python [Root]",
   "language": "python",
   "name": "Python [Root]"
  },
  "language_info": {
   "codemirror_mode": {
    "name": "ipython",
    "version": 2
   },
   "file_extension": ".py",
   "mimetype": "text/x-python",
   "name": "python",
   "nbconvert_exporter": "python",
   "pygments_lexer": "ipython2",
   "version": "2.7.11"
  }
 },
 "nbformat": 4,
 "nbformat_minor": 0
}
