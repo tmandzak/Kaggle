{
 "cells": [
  {
   "cell_type": "code",
   "execution_count": 3,
   "metadata": {
    "collapsed": true
   },
   "outputs": [],
   "source": [
    "import datetime\n",
    "import pandas"
   ]
  },
  {
   "cell_type": "code",
   "execution_count": 4,
   "metadata": {
    "collapsed": true
   },
   "outputs": [],
   "source": [
    "epoch = datetime.datetime.utcfromtimestamp(0)"
   ]
  },
  {
   "cell_type": "code",
   "execution_count": 73,
   "metadata": {
    "collapsed": true
   },
   "outputs": [],
   "source": [
    "def time_ms(dt):\n",
    "    try:\n",
    "        res = (pandas.to_datetime(dt) - epoch).total_seconds() * 1000 - 1465876799998 - 7200000 #2 hrs correction\n",
    "    except:\n",
    "        res = float('NaN')\n",
    "    finally:    \n",
    "        return res"
   ]
  },
  {
   "cell_type": "code",
   "execution_count": null,
   "metadata": {
    "collapsed": true
   },
   "outputs": [],
   "source": []
  },
  {
   "cell_type": "code",
   "execution_count": 82,
   "metadata": {
    "collapsed": true
   },
   "outputs": [],
   "source": [
    "def time_dt(ms):\n",
    "    return datetime.datetime.fromtimestamp((int(ms) + 1465876799998)/1000 + 3600)  # 1 hour correction"
   ]
  },
  {
   "cell_type": "code",
   "execution_count": 75,
   "metadata": {
    "collapsed": true
   },
   "outputs": [],
   "source": [
    "def time_dayOfMonth(ms):\n",
    "    return time_dt(ms).day"
   ]
  },
  {
   "cell_type": "code",
   "execution_count": 76,
   "metadata": {
    "collapsed": true
   },
   "outputs": [],
   "source": [
    "def time_dayOfWeek(ms):\n",
    "    return time_dt(ms).weekday()"
   ]
  },
  {
   "cell_type": "code",
   "execution_count": 77,
   "metadata": {
    "collapsed": true
   },
   "outputs": [],
   "source": [
    "def time_dayOfWeek_direct(ms):\n",
    "    return datetime.datetime.fromtimestamp((ms + 1465876799998)/1000 + 3600).weekday() # 1 hour correction"
   ]
  },
  {
   "cell_type": "code",
   "execution_count": 78,
   "metadata": {
    "collapsed": true
   },
   "outputs": [],
   "source": [
    "def time_hourOfDay(ms):\n",
    "    return time_dt(ms).hour"
   ]
  },
  {
   "cell_type": "code",
   "execution_count": 79,
   "metadata": {
    "collapsed": true
   },
   "outputs": [],
   "source": [
    "def time_hourOfDay_direct(ms):\n",
    "    return datetime.datetime.fromtimestamp((ms + 1465876799998)/1000 + 3600).hour   # 1 hour correction"
   ]
  },
  {
   "cell_type": "raw",
   "metadata": {},
   "source": [
    "print time_ms('1970-01-01 00:00:01')\n",
    "print time_dt(time_ms('2016-06-14 06:00:00'))\n",
    "print time_dt(time_ms('2016-06-29 00:00:00'))\n",
    "print time_ms('3008-07-25 00:00:00')\n",
    "print time_ms(float('NaN'))\n",
    "print time_dt(time_ms('2017-01-01 00:00:00'))\n",
    "\n",
    "print time_dt(61)\n",
    "print time_day(61),  type(time_day(61))\n",
    "\n",
    "print time_dayOfWeek_direct(time_ms('2017-01-01 23:00:00')), time_hourOfDay_direct(time_ms('2017-01-01 23:00:00'))\n",
    "print datetime.datetime.today().weekday(), datetime.datetime.today().hour"
   ]
  },
  {
   "cell_type": "code",
   "execution_count": null,
   "metadata": {
    "collapsed": true
   },
   "outputs": [],
   "source": []
  }
 ],
 "metadata": {
  "anaconda-cloud": {},
  "kernelspec": {
   "display_name": "Python [Root]",
   "language": "python",
   "name": "Python [Root]"
  },
  "language_info": {
   "codemirror_mode": {
    "name": "ipython",
    "version": 2
   },
   "file_extension": ".py",
   "mimetype": "text/x-python",
   "name": "python",
   "nbconvert_exporter": "python",
   "pygments_lexer": "ipython2",
   "version": "2.7.11"
  }
 },
 "nbformat": 4,
 "nbformat_minor": 0
}
