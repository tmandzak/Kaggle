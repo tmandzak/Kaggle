{
 "cells": [
  {
   "cell_type": "code",
   "execution_count": 1,
   "metadata": {
    "collapsed": true
   },
   "outputs": [],
   "source": [
    "import pandas as pd\n",
    "import os"
   ]
  },
  {
   "cell_type": "code",
   "execution_count": null,
   "metadata": {
    "collapsed": false
   },
   "outputs": [],
   "source": [
    "pd.read_csv(\"../download/page_views.csv\", nrows = 10).head()"
   ]
  },
  {
   "cell_type": "code",
   "execution_count": null,
   "metadata": {
    "collapsed": false
   },
   "outputs": [],
   "source": [
    "pd.read_csv(\"../download/events.csv\", nrows = 10).head()"
   ]
  },
  {
   "cell_type": "code",
   "execution_count": 2,
   "metadata": {
    "collapsed": true
   },
   "outputs": [],
   "source": [
    "filename = \"../generated/events_traffic_source.hdf5\""
   ]
  },
  {
   "cell_type": "markdown",
   "metadata": {},
   "source": [
    "## Load page_view: to add traffic_source to events and check common columns\n",
    "platform and traffic_source to be taken fom page_view"
   ]
  },
  {
   "cell_type": "code",
   "execution_count": null,
   "metadata": {
    "collapsed": true
   },
   "outputs": [],
   "source": [
    "events = pd.read_csv(\"../download/events.csv\", dtype={'display_id':int, 'uuid':str, 'document_id':int,  'timestamp':int, 'platform':str, 'geo_location':str})\n",
    "\n",
    "chunksize = 20 * 10 ** 6\n",
    "\n",
    "try:\n",
    "    os.remove(filename)\n",
    "except OSError:\n",
    "    pass\n",
    "\n",
    "loop = 0\n",
    "usecols=['uuid', 'document_id', 'timestamp', 'platform', 'traffic_source']\n",
    "dtype={'uuid':str, 'document_id':int, 'timestamp':int, 'platform':str, 'traffic_source':float}\n",
    "\n",
    "for chunk in pd.read_csv(\"../download/page_views.csv\", chunksize=chunksize, usecols=usecols, dtype=dtype):\n",
    "    #only geo_location has NaN ~150 per 10e6 rows: print len(chunk[chunk['uuid'].isnull()]), len(chunk[chunk['document_id'].isnull()]), len(chunk[chunk['timestamp'].isnull()]), len(chunk[chunk['platform'].isnull()]), len(chunk[chunk['geo_location'].isnull()]), len(chunk[chunk['traffic_source'].isnull()])\n",
    "    events = events.merge(chunk, on=['uuid', 'document_id', 'timestamp'], how='left')\n",
    "    index = pd.notnull(events['traffic_source'])\n",
    "    events[index].drop(['uuid'], axis=1).to_hdf(filename, key='default', mode='a', append=True, complevel=5, complib='zlib')\n",
    "    \n",
    "    events = events[~index].rename(columns={'platform_x':'platform'}).drop(['traffic_source', 'platform_y'], axis=1)\n",
    "    \n",
    "    loop += 1\n",
    "    \n",
    "    print loop, len(events)\n",
    "    if len(events)==0:\n",
    "        break\n",
    "\n",
    "events.to_hdf(filename+'.missing', key='default', mode='w', complevel=5, complib='zlib')     \n",
    "\n",
    "print 'Done'"
   ]
  },
  {
   "cell_type": "markdown",
   "metadata": {},
   "source": [
    "Process not joined timestamps"
   ]
  },
  {
   "cell_type": "code",
   "execution_count": null,
   "metadata": {
    "collapsed": true
   },
   "outputs": [],
   "source": [
    "events = pd.read_hdf(filename+'.missing')\n",
    "\n",
    "loop = 0\n",
    "usecols=['uuid', 'document_id', 'platform', 'traffic_source']  #no timestamp\n",
    "dtype={'uuid':str, 'document_id':int, 'platform':str, 'traffic_source':float}\n",
    "\n",
    "for chunk in pd.read_csv(\"../download/page_views.csv\", chunksize=chunksize, usecols=usecols, dtype=dtype):\n",
    "    events = events.merge(chunk, on=['uuid', 'document_id'], how='left') #no timestamp\n",
    "    index = pd.notnull(events['traffic_source'])\n",
    "    events[index].drop_duplicates(keep='last', subset = ['display_id']).drop(['uuid'], axis=1).to_hdf(filename, key='default', mode='a', append=True, complevel=5, complib='zlib')\n",
    "    \n",
    "    events = events[~index].rename(columns={'platform_x':'platform'}).drop(['traffic_source', 'platform_y'], axis=1)\n",
    "    \n",
    "    loop += 1\n",
    "    \n",
    "    print loop, len(events)\n"
   ]
  },
  {
   "cell_type": "markdown",
   "metadata": {},
   "source": [
    "### Reload from file"
   ]
  },
  {
   "cell_type": "code",
   "execution_count": 4,
   "metadata": {
    "collapsed": false
   },
   "outputs": [
    {
     "data": {
      "text/plain": [
       "display_id        23120126\n",
       "document_id       23120126\n",
       "timestamp         23120126\n",
       "platform_x        23120126\n",
       "geo_location      23120126\n",
       "platform_y        23120126\n",
       "traffic_source    23120126\n",
       "dtype: int64"
      ]
     },
     "execution_count": 4,
     "metadata": {},
     "output_type": "execute_result"
    }
   ],
   "source": [
    "events = pd.read_hdf(filename).fillna({'geo_location':'--'}) \n",
    "events.count()"
   ]
  },
  {
   "cell_type": "markdown",
   "metadata": {},
   "source": [
    "### Fix 'platform'"
   ]
  },
  {
   "cell_type": "code",
   "execution_count": 6,
   "metadata": {
    "collapsed": false
   },
   "outputs": [
    {
     "name": "stdout",
     "output_type": "stream",
     "text": [
      "953\n",
      "['\\\\N' '1' '2' '3']\n"
     ]
    }
   ],
   "source": [
    "index = events['platform_x']<>events['platform_y']\n",
    "err = events[index]\n",
    "print len(err)\n",
    "print err.platform_x.unique()"
   ]
  },
  {
   "cell_type": "code",
   "execution_count": 7,
   "metadata": {
    "collapsed": false
   },
   "outputs": [
    {
     "name": "stdout",
     "output_type": "stream",
     "text": [
      "5\n"
     ]
    }
   ],
   "source": [
    "index = ~events['platform_x'].str.isdigit()\n",
    "print sum(index)"
   ]
  },
  {
   "cell_type": "code",
   "execution_count": 8,
   "metadata": {
    "collapsed": false
   },
   "outputs": [],
   "source": [
    "events.loc[index,'platform'] = events[index]['platform_y'].astype(int)\n",
    "events.loc[~index,'platform'] = events[~index]['platform_x'].astype(int)"
   ]
  },
  {
   "cell_type": "code",
   "execution_count": 9,
   "metadata": {
    "collapsed": false
   },
   "outputs": [
    {
     "name": "stdout",
     "output_type": "stream",
     "text": [
      "948\n"
     ]
    }
   ],
   "source": [
    "index = events['platform']<>events['platform_y'].astype(int)\n",
    "print sum(index)"
   ]
  },
  {
   "cell_type": "code",
   "execution_count": 10,
   "metadata": {
    "collapsed": false
   },
   "outputs": [
    {
     "data": {
      "text/plain": [
       "display_id          int32\n",
       "document_id         int32\n",
       "timestamp           int32\n",
       "platform_x         object\n",
       "geo_location       object\n",
       "platform_y         object\n",
       "traffic_source    float64\n",
       "platform          float64\n",
       "dtype: object"
      ]
     },
     "execution_count": 10,
     "metadata": {},
     "output_type": "execute_result"
    }
   ],
   "source": [
    "events.dtypes"
   ]
  },
  {
   "cell_type": "code",
   "execution_count": 11,
   "metadata": {
    "collapsed": false
   },
   "outputs": [
    {
     "data": {
      "text/html": [
       "<div>\n",
       "<table border=\"1\" class=\"dataframe\">\n",
       "  <thead>\n",
       "    <tr style=\"text-align: right;\">\n",
       "      <th></th>\n",
       "      <th>display_id</th>\n",
       "      <th>document_id</th>\n",
       "      <th>timestamp</th>\n",
       "      <th>geo_location</th>\n",
       "      <th>traffic_source</th>\n",
       "      <th>platform</th>\n",
       "    </tr>\n",
       "  </thead>\n",
       "  <tbody>\n",
       "    <tr>\n",
       "      <th>7</th>\n",
       "      <td>8</td>\n",
       "      <td>1330329</td>\n",
       "      <td>638</td>\n",
       "      <td>US&gt;PA&gt;566</td>\n",
       "      <td>1.0</td>\n",
       "      <td>2.0</td>\n",
       "    </tr>\n",
       "    <tr>\n",
       "      <th>12</th>\n",
       "      <td>13</td>\n",
       "      <td>1778533</td>\n",
       "      <td>739</td>\n",
       "      <td>US&gt;AZ&gt;753</td>\n",
       "      <td>1.0</td>\n",
       "      <td>1.0</td>\n",
       "    </tr>\n",
       "    <tr>\n",
       "      <th>34</th>\n",
       "      <td>35</td>\n",
       "      <td>1271578</td>\n",
       "      <td>2633</td>\n",
       "      <td>US&gt;NC&gt;560</td>\n",
       "      <td>1.0</td>\n",
       "      <td>3.0</td>\n",
       "    </tr>\n",
       "    <tr>\n",
       "      <th>36</th>\n",
       "      <td>37</td>\n",
       "      <td>1779285</td>\n",
       "      <td>2687</td>\n",
       "      <td>US&gt;WA&gt;819</td>\n",
       "      <td>1.0</td>\n",
       "      <td>2.0</td>\n",
       "    </tr>\n",
       "    <tr>\n",
       "      <th>55</th>\n",
       "      <td>56</td>\n",
       "      <td>1108855</td>\n",
       "      <td>3925</td>\n",
       "      <td>CA&gt;ON</td>\n",
       "      <td>1.0</td>\n",
       "      <td>2.0</td>\n",
       "    </tr>\n",
       "  </tbody>\n",
       "</table>\n",
       "</div>"
      ],
      "text/plain": [
       "    display_id  document_id  timestamp geo_location  traffic_source  platform\n",
       "7            8      1330329        638    US>PA>566             1.0       2.0\n",
       "12          13      1778533        739    US>AZ>753             1.0       1.0\n",
       "34          35      1271578       2633    US>NC>560             1.0       3.0\n",
       "36          37      1779285       2687    US>WA>819             1.0       2.0\n",
       "55          56      1108855       3925        CA>ON             1.0       2.0"
      ]
     },
     "execution_count": 11,
     "metadata": {},
     "output_type": "execute_result"
    }
   ],
   "source": [
    "events.drop(['platform_x', 'platform_y'], axis=1, inplace=True)\n",
    "events.head()"
   ]
  },
  {
   "cell_type": "markdown",
   "metadata": {},
   "source": [
    "### Fix 'geo_location'"
   ]
  },
  {
   "cell_type": "code",
   "execution_count": 13,
   "metadata": {
    "collapsed": false
   },
   "outputs": [
    {
     "data": {
      "text/html": [
       "<div>\n",
       "<table border=\"1\" class=\"dataframe\">\n",
       "  <thead>\n",
       "    <tr style=\"text-align: right;\">\n",
       "      <th></th>\n",
       "      <th>geo_location</th>\n",
       "    </tr>\n",
       "  </thead>\n",
       "  <tbody>\n",
       "    <tr>\n",
       "      <th>1118</th>\n",
       "      <td>--</td>\n",
       "    </tr>\n",
       "    <tr>\n",
       "      <th>1135</th>\n",
       "      <td>A1</td>\n",
       "    </tr>\n",
       "    <tr>\n",
       "      <th>656</th>\n",
       "      <td>A2</td>\n",
       "    </tr>\n",
       "    <tr>\n",
       "      <th>2296</th>\n",
       "      <td>AD</td>\n",
       "    </tr>\n",
       "    <tr>\n",
       "      <th>2697</th>\n",
       "      <td>AD&gt;02</td>\n",
       "    </tr>\n",
       "  </tbody>\n",
       "</table>\n",
       "</div>"
      ],
      "text/plain": [
       "     geo_location\n",
       "1118           --\n",
       "1135           A1\n",
       "656            A2\n",
       "2296           AD\n",
       "2697        AD>02"
      ]
     },
     "execution_count": 13,
     "metadata": {},
     "output_type": "execute_result"
    }
   ],
   "source": [
    "locations = pd.DataFrame({'geo_location':events.geo_location.unique()}).sort_values(by='geo_location')\n",
    "locations.head()"
   ]
  },
  {
   "cell_type": "code",
   "execution_count": 14,
   "metadata": {
    "collapsed": false
   },
   "outputs": [
    {
     "data": {
      "text/html": [
       "<div>\n",
       "<table border=\"1\" class=\"dataframe\">\n",
       "  <thead>\n",
       "    <tr style=\"text-align: right;\">\n",
       "      <th></th>\n",
       "      <th>geo_location</th>\n",
       "    </tr>\n",
       "  </thead>\n",
       "  <tbody>\n",
       "    <tr>\n",
       "      <th>552</th>\n",
       "      <td>ZW</td>\n",
       "    </tr>\n",
       "    <tr>\n",
       "      <th>2195</th>\n",
       "      <td>ZW&gt;00</td>\n",
       "    </tr>\n",
       "    <tr>\n",
       "      <th>471</th>\n",
       "      <td>ZW&gt;04</td>\n",
       "    </tr>\n",
       "    <tr>\n",
       "      <th>2141</th>\n",
       "      <td>ZW&gt;06</td>\n",
       "    </tr>\n",
       "    <tr>\n",
       "      <th>2878</th>\n",
       "      <td>ZW&gt;07</td>\n",
       "    </tr>\n",
       "  </tbody>\n",
       "</table>\n",
       "</div>"
      ],
      "text/plain": [
       "     geo_location\n",
       "552            ZW\n",
       "2195        ZW>00\n",
       "471         ZW>04\n",
       "2141        ZW>06\n",
       "2878        ZW>07"
      ]
     },
     "execution_count": 14,
     "metadata": {},
     "output_type": "execute_result"
    }
   ],
   "source": [
    "locations.tail()"
   ]
  },
  {
   "cell_type": "code",
   "execution_count": 10,
   "metadata": {
    "collapsed": false
   },
   "outputs": [
    {
     "name": "stdout",
     "output_type": "stream",
     "text": [
      "474\n"
     ]
    }
   ],
   "source": [
    "index = events['geo_location'] == '-->-->0'\n",
    "print sum(index)"
   ]
  },
  {
   "cell_type": "code",
   "execution_count": 11,
   "metadata": {
    "collapsed": true
   },
   "outputs": [],
   "source": [
    "events.loc[index,'geo_location'] = '--'"
   ]
  },
  {
   "cell_type": "code",
   "execution_count": 16,
   "metadata": {
    "collapsed": false
   },
   "outputs": [
    {
     "data": {
      "text/html": [
       "<div>\n",
       "<table border=\"1\" class=\"dataframe\">\n",
       "  <thead>\n",
       "    <tr style=\"text-align: right;\">\n",
       "      <th></th>\n",
       "      <th>display_id</th>\n",
       "      <th>document_id</th>\n",
       "      <th>timestamp</th>\n",
       "      <th>geo_location</th>\n",
       "      <th>traffic_source</th>\n",
       "      <th>platform</th>\n",
       "    </tr>\n",
       "  </thead>\n",
       "  <tbody>\n",
       "    <tr>\n",
       "      <th>278633</th>\n",
       "      <td>278634</td>\n",
       "      <td>1753395</td>\n",
       "      <td>27385330</td>\n",
       "      <td>--</td>\n",
       "      <td>1.0</td>\n",
       "      <td>1.0</td>\n",
       "    </tr>\n",
       "    <tr>\n",
       "      <th>403091</th>\n",
       "      <td>403092</td>\n",
       "      <td>1789030</td>\n",
       "      <td>34012720</td>\n",
       "      <td>--</td>\n",
       "      <td>1.0</td>\n",
       "      <td>1.0</td>\n",
       "    </tr>\n",
       "    <tr>\n",
       "      <th>16981197</th>\n",
       "      <td>16981198</td>\n",
       "      <td>1763733</td>\n",
       "      <td>43700778</td>\n",
       "      <td>--</td>\n",
       "      <td>3.0</td>\n",
       "      <td>1.0</td>\n",
       "    </tr>\n",
       "    <tr>\n",
       "      <th>17025574</th>\n",
       "      <td>17025575</td>\n",
       "      <td>1776579</td>\n",
       "      <td>54766981</td>\n",
       "      <td>--</td>\n",
       "      <td>1.0</td>\n",
       "      <td>2.0</td>\n",
       "    </tr>\n",
       "    <tr>\n",
       "      <th>140347</th>\n",
       "      <td>156248</td>\n",
       "      <td>1803471</td>\n",
       "      <td>16005233</td>\n",
       "      <td>--</td>\n",
       "      <td>1.0</td>\n",
       "      <td>1.0</td>\n",
       "    </tr>\n",
       "  </tbody>\n",
       "</table>\n",
       "</div>"
      ],
      "text/plain": [
       "          display_id  document_id  timestamp geo_location  traffic_source  \\\n",
       "278633        278634      1753395   27385330           --             1.0   \n",
       "403091        403092      1789030   34012720           --             1.0   \n",
       "16981197    16981198      1763733   43700778           --             3.0   \n",
       "17025574    17025575      1776579   54766981           --             1.0   \n",
       "140347        156248      1803471   16005233           --             1.0   \n",
       "\n",
       "          platform  \n",
       "278633         1.0  \n",
       "403091         1.0  \n",
       "16981197       1.0  \n",
       "17025574       2.0  \n",
       "140347         1.0  "
      ]
     },
     "execution_count": 16,
     "metadata": {},
     "output_type": "execute_result"
    }
   ],
   "source": [
    "events[index].head()"
   ]
  },
  {
   "cell_type": "code",
   "execution_count": 12,
   "metadata": {
    "collapsed": false
   },
   "outputs": [
    {
     "name": "stdout",
     "output_type": "stream",
     "text": [
      "1275\n"
     ]
    }
   ],
   "source": [
    "index = events['geo_location'] == '--'\n",
    "print sum(index)"
   ]
  },
  {
   "cell_type": "markdown",
   "metadata": {},
   "source": [
    "### Encode geo_location"
   ]
  },
  {
   "cell_type": "code",
   "execution_count": 15,
   "metadata": {
    "collapsed": true
   },
   "outputs": [],
   "source": [
    "locations_list = events.geo_location.unique()\n",
    "locations_list.sort()\n",
    "locations_count = len(locations_list)"
   ]
  },
  {
   "cell_type": "code",
   "execution_count": 16,
   "metadata": {
    "collapsed": false
   },
   "outputs": [
    {
     "data": {
      "text/plain": [
       "array(['--', 'A1', 'A2', ..., 'ZW>04', 'ZW>06', 'ZW>07'], dtype=object)"
      ]
     },
     "execution_count": 16,
     "metadata": {},
     "output_type": "execute_result"
    }
   ],
   "source": [
    "locations_list"
   ]
  },
  {
   "cell_type": "code",
   "execution_count": 17,
   "metadata": {
    "collapsed": false
   },
   "outputs": [
    {
     "data": {
      "text/plain": [
       "geo             2987\n",
       "geo_location    2987\n",
       "dtype: int64"
      ]
     },
     "execution_count": 17,
     "metadata": {},
     "output_type": "execute_result"
    }
   ],
   "source": [
    "locations = pd.DataFrame({'geo_location':locations_list, 'geo':range(-1, locations_count-1)}).sort_values(by='geo')\n",
    "locations.count()"
   ]
  },
  {
   "cell_type": "code",
   "execution_count": 18,
   "metadata": {
    "collapsed": false
   },
   "outputs": [
    {
     "data": {
      "text/html": [
       "<div>\n",
       "<table border=\"1\" class=\"dataframe\">\n",
       "  <thead>\n",
       "    <tr style=\"text-align: right;\">\n",
       "      <th></th>\n",
       "      <th>geo</th>\n",
       "      <th>geo_location</th>\n",
       "    </tr>\n",
       "  </thead>\n",
       "  <tbody>\n",
       "    <tr>\n",
       "      <th>0</th>\n",
       "      <td>-1</td>\n",
       "      <td>--</td>\n",
       "    </tr>\n",
       "    <tr>\n",
       "      <th>1</th>\n",
       "      <td>0</td>\n",
       "      <td>A1</td>\n",
       "    </tr>\n",
       "    <tr>\n",
       "      <th>2</th>\n",
       "      <td>1</td>\n",
       "      <td>A2</td>\n",
       "    </tr>\n",
       "    <tr>\n",
       "      <th>3</th>\n",
       "      <td>2</td>\n",
       "      <td>AD</td>\n",
       "    </tr>\n",
       "    <tr>\n",
       "      <th>4</th>\n",
       "      <td>3</td>\n",
       "      <td>AD&gt;02</td>\n",
       "    </tr>\n",
       "  </tbody>\n",
       "</table>\n",
       "</div>"
      ],
      "text/plain": [
       "   geo geo_location\n",
       "0   -1           --\n",
       "1    0           A1\n",
       "2    1           A2\n",
       "3    2           AD\n",
       "4    3        AD>02"
      ]
     },
     "execution_count": 18,
     "metadata": {},
     "output_type": "execute_result"
    }
   ],
   "source": [
    "locations.head()"
   ]
  },
  {
   "cell_type": "code",
   "execution_count": 44,
   "metadata": {
    "collapsed": true
   },
   "outputs": [],
   "source": [
    "locations.to_csv('../generated/geo_locations.csv', index=False)"
   ]
  },
  {
   "cell_type": "raw",
   "metadata": {},
   "source": [
    "locations.to_hdf('../generated/geo_locations.hdf5', mode='w', key='default')"
   ]
  },
  {
   "cell_type": "code",
   "execution_count": 43,
   "metadata": {
    "collapsed": false
   },
   "outputs": [
    {
     "data": {
      "text/html": [
       "<div>\n",
       "<table border=\"1\" class=\"dataframe\">\n",
       "  <thead>\n",
       "    <tr style=\"text-align: right;\">\n",
       "      <th></th>\n",
       "      <th>display_id</th>\n",
       "      <th>document_id</th>\n",
       "      <th>timestamp</th>\n",
       "      <th>geo_location</th>\n",
       "      <th>traffic_source</th>\n",
       "      <th>platform</th>\n",
       "      <th>day</th>\n",
       "      <th>hour</th>\n",
       "      <th>geo</th>\n",
       "    </tr>\n",
       "  </thead>\n",
       "  <tbody>\n",
       "    <tr>\n",
       "      <th>0</th>\n",
       "      <td>8</td>\n",
       "      <td>1330329</td>\n",
       "      <td>638</td>\n",
       "      <td>US&gt;PA&gt;566</td>\n",
       "      <td>1.0</td>\n",
       "      <td>2.0</td>\n",
       "      <td>1</td>\n",
       "      <td>7</td>\n",
       "      <td>2765</td>\n",
       "    </tr>\n",
       "    <tr>\n",
       "      <th>1</th>\n",
       "      <td>2657</td>\n",
       "      <td>1271490</td>\n",
       "      <td>185255</td>\n",
       "      <td>US&gt;PA&gt;566</td>\n",
       "      <td>1.0</td>\n",
       "      <td>2.0</td>\n",
       "      <td>1</td>\n",
       "      <td>7</td>\n",
       "      <td>2765</td>\n",
       "    </tr>\n",
       "    <tr>\n",
       "      <th>2</th>\n",
       "      <td>6344</td>\n",
       "      <td>461545</td>\n",
       "      <td>434576</td>\n",
       "      <td>US&gt;PA&gt;566</td>\n",
       "      <td>1.0</td>\n",
       "      <td>2.0</td>\n",
       "      <td>1</td>\n",
       "      <td>7</td>\n",
       "      <td>2765</td>\n",
       "    </tr>\n",
       "    <tr>\n",
       "      <th>3</th>\n",
       "      <td>7039</td>\n",
       "      <td>1793073</td>\n",
       "      <td>482930</td>\n",
       "      <td>US&gt;PA&gt;566</td>\n",
       "      <td>1.0</td>\n",
       "      <td>1.0</td>\n",
       "      <td>1</td>\n",
       "      <td>7</td>\n",
       "      <td>2765</td>\n",
       "    </tr>\n",
       "    <tr>\n",
       "      <th>4</th>\n",
       "      <td>11527</td>\n",
       "      <td>1518592</td>\n",
       "      <td>800258</td>\n",
       "      <td>US&gt;PA&gt;566</td>\n",
       "      <td>3.0</td>\n",
       "      <td>2.0</td>\n",
       "      <td>1</td>\n",
       "      <td>7</td>\n",
       "      <td>2765</td>\n",
       "    </tr>\n",
       "  </tbody>\n",
       "</table>\n",
       "</div>"
      ],
      "text/plain": [
       "   display_id  document_id  timestamp geo_location  traffic_source  platform  \\\n",
       "0           8      1330329        638    US>PA>566             1.0       2.0   \n",
       "1        2657      1271490     185255    US>PA>566             1.0       2.0   \n",
       "2        6344       461545     434576    US>PA>566             1.0       2.0   \n",
       "3        7039      1793073     482930    US>PA>566             1.0       1.0   \n",
       "4       11527      1518592     800258    US>PA>566             3.0       2.0   \n",
       "\n",
       "   day  hour   geo  \n",
       "0    1     7  2765  \n",
       "1    1     7  2765  \n",
       "2    1     7  2765  \n",
       "3    1     7  2765  \n",
       "4    1     7  2765  "
      ]
     },
     "execution_count": 43,
     "metadata": {},
     "output_type": "execute_result"
    }
   ],
   "source": [
    "events = events.merge(locations, on='geo_location')\n",
    "events.head()"
   ]
  },
  {
   "cell_type": "code",
   "execution_count": 47,
   "metadata": {
    "collapsed": false
   },
   "outputs": [],
   "source": [
    "events.drop('geo_location', axis=1, inplace=True)"
   ]
  },
  {
   "cell_type": "markdown",
   "metadata": {},
   "source": [
    "### Expand timestamp: day of week, hour of day"
   ]
  },
  {
   "cell_type": "code",
   "execution_count": 18,
   "metadata": {
    "collapsed": true
   },
   "outputs": [],
   "source": [
    "import datetime"
   ]
  },
  {
   "cell_type": "code",
   "execution_count": 19,
   "metadata": {
    "collapsed": true
   },
   "outputs": [],
   "source": [
    "events['temp'] = events['timestamp'].apply(lambda timestamp: datetime.datetime.fromtimestamp((timestamp + 1465876799998)/1000 + 3600))"
   ]
  },
  {
   "cell_type": "code",
   "execution_count": 20,
   "metadata": {
    "collapsed": false
   },
   "outputs": [
    {
     "data": {
      "text/html": [
       "<div>\n",
       "<table border=\"1\" class=\"dataframe\">\n",
       "  <thead>\n",
       "    <tr style=\"text-align: right;\">\n",
       "      <th></th>\n",
       "      <th>display_id</th>\n",
       "      <th>document_id</th>\n",
       "      <th>timestamp</th>\n",
       "      <th>geo_location</th>\n",
       "      <th>traffic_source</th>\n",
       "      <th>platform</th>\n",
       "      <th>temp</th>\n",
       "    </tr>\n",
       "  </thead>\n",
       "  <tbody>\n",
       "    <tr>\n",
       "      <th>7</th>\n",
       "      <td>8</td>\n",
       "      <td>1330329</td>\n",
       "      <td>638</td>\n",
       "      <td>US&gt;PA&gt;566</td>\n",
       "      <td>1.0</td>\n",
       "      <td>2.0</td>\n",
       "      <td>2016-06-14 07:00:00</td>\n",
       "    </tr>\n",
       "    <tr>\n",
       "      <th>12</th>\n",
       "      <td>13</td>\n",
       "      <td>1778533</td>\n",
       "      <td>739</td>\n",
       "      <td>US&gt;AZ&gt;753</td>\n",
       "      <td>1.0</td>\n",
       "      <td>1.0</td>\n",
       "      <td>2016-06-14 07:00:00</td>\n",
       "    </tr>\n",
       "    <tr>\n",
       "      <th>34</th>\n",
       "      <td>35</td>\n",
       "      <td>1271578</td>\n",
       "      <td>2633</td>\n",
       "      <td>US&gt;NC&gt;560</td>\n",
       "      <td>1.0</td>\n",
       "      <td>3.0</td>\n",
       "      <td>2016-06-14 07:00:02</td>\n",
       "    </tr>\n",
       "    <tr>\n",
       "      <th>36</th>\n",
       "      <td>37</td>\n",
       "      <td>1779285</td>\n",
       "      <td>2687</td>\n",
       "      <td>US&gt;WA&gt;819</td>\n",
       "      <td>1.0</td>\n",
       "      <td>2.0</td>\n",
       "      <td>2016-06-14 07:00:02</td>\n",
       "    </tr>\n",
       "    <tr>\n",
       "      <th>55</th>\n",
       "      <td>56</td>\n",
       "      <td>1108855</td>\n",
       "      <td>3925</td>\n",
       "      <td>CA&gt;ON</td>\n",
       "      <td>1.0</td>\n",
       "      <td>2.0</td>\n",
       "      <td>2016-06-14 07:00:03</td>\n",
       "    </tr>\n",
       "  </tbody>\n",
       "</table>\n",
       "</div>"
      ],
      "text/plain": [
       "    display_id  document_id  timestamp geo_location  traffic_source  platform  \\\n",
       "7            8      1330329        638    US>PA>566             1.0       2.0   \n",
       "12          13      1778533        739    US>AZ>753             1.0       1.0   \n",
       "34          35      1271578       2633    US>NC>560             1.0       3.0   \n",
       "36          37      1779285       2687    US>WA>819             1.0       2.0   \n",
       "55          56      1108855       3925        CA>ON             1.0       2.0   \n",
       "\n",
       "                  temp  \n",
       "7  2016-06-14 07:00:00  \n",
       "12 2016-06-14 07:00:00  \n",
       "34 2016-06-14 07:00:02  \n",
       "36 2016-06-14 07:00:02  \n",
       "55 2016-06-14 07:00:03  "
      ]
     },
     "execution_count": 20,
     "metadata": {},
     "output_type": "execute_result"
    }
   ],
   "source": [
    "events.head()"
   ]
  },
  {
   "cell_type": "code",
   "execution_count": 21,
   "metadata": {
    "collapsed": false
   },
   "outputs": [
    {
     "data": {
      "text/html": [
       "<div>\n",
       "<table border=\"1\" class=\"dataframe\">\n",
       "  <thead>\n",
       "    <tr style=\"text-align: right;\">\n",
       "      <th></th>\n",
       "      <th>display_id</th>\n",
       "      <th>document_id</th>\n",
       "      <th>timestamp</th>\n",
       "      <th>geo_location</th>\n",
       "      <th>traffic_source</th>\n",
       "      <th>platform</th>\n",
       "      <th>temp</th>\n",
       "      <th>day</th>\n",
       "      <th>hour</th>\n",
       "    </tr>\n",
       "  </thead>\n",
       "  <tbody>\n",
       "    <tr>\n",
       "      <th>7</th>\n",
       "      <td>8</td>\n",
       "      <td>1330329</td>\n",
       "      <td>638</td>\n",
       "      <td>US&gt;PA&gt;566</td>\n",
       "      <td>1.0</td>\n",
       "      <td>2.0</td>\n",
       "      <td>2016-06-14 07:00:00</td>\n",
       "      <td>1</td>\n",
       "      <td>7</td>\n",
       "    </tr>\n",
       "    <tr>\n",
       "      <th>12</th>\n",
       "      <td>13</td>\n",
       "      <td>1778533</td>\n",
       "      <td>739</td>\n",
       "      <td>US&gt;AZ&gt;753</td>\n",
       "      <td>1.0</td>\n",
       "      <td>1.0</td>\n",
       "      <td>2016-06-14 07:00:00</td>\n",
       "      <td>1</td>\n",
       "      <td>7</td>\n",
       "    </tr>\n",
       "    <tr>\n",
       "      <th>34</th>\n",
       "      <td>35</td>\n",
       "      <td>1271578</td>\n",
       "      <td>2633</td>\n",
       "      <td>US&gt;NC&gt;560</td>\n",
       "      <td>1.0</td>\n",
       "      <td>3.0</td>\n",
       "      <td>2016-06-14 07:00:02</td>\n",
       "      <td>1</td>\n",
       "      <td>7</td>\n",
       "    </tr>\n",
       "    <tr>\n",
       "      <th>36</th>\n",
       "      <td>37</td>\n",
       "      <td>1779285</td>\n",
       "      <td>2687</td>\n",
       "      <td>US&gt;WA&gt;819</td>\n",
       "      <td>1.0</td>\n",
       "      <td>2.0</td>\n",
       "      <td>2016-06-14 07:00:02</td>\n",
       "      <td>1</td>\n",
       "      <td>7</td>\n",
       "    </tr>\n",
       "    <tr>\n",
       "      <th>55</th>\n",
       "      <td>56</td>\n",
       "      <td>1108855</td>\n",
       "      <td>3925</td>\n",
       "      <td>CA&gt;ON</td>\n",
       "      <td>1.0</td>\n",
       "      <td>2.0</td>\n",
       "      <td>2016-06-14 07:00:03</td>\n",
       "      <td>1</td>\n",
       "      <td>7</td>\n",
       "    </tr>\n",
       "  </tbody>\n",
       "</table>\n",
       "</div>"
      ],
      "text/plain": [
       "    display_id  document_id  timestamp geo_location  traffic_source  platform  \\\n",
       "7            8      1330329        638    US>PA>566             1.0       2.0   \n",
       "12          13      1778533        739    US>AZ>753             1.0       1.0   \n",
       "34          35      1271578       2633    US>NC>560             1.0       3.0   \n",
       "36          37      1779285       2687    US>WA>819             1.0       2.0   \n",
       "55          56      1108855       3925        CA>ON             1.0       2.0   \n",
       "\n",
       "                  temp  day  hour  \n",
       "7  2016-06-14 07:00:00    1     7  \n",
       "12 2016-06-14 07:00:00    1     7  \n",
       "34 2016-06-14 07:00:02    1     7  \n",
       "36 2016-06-14 07:00:02    1     7  \n",
       "55 2016-06-14 07:00:03    1     7  "
      ]
     },
     "execution_count": 21,
     "metadata": {},
     "output_type": "execute_result"
    }
   ],
   "source": [
    "events['day'] = events['temp'].apply(lambda temp: temp.weekday())\n",
    "events['hour'] = events['temp'].apply(lambda temp: temp.hour)\n",
    "events.head()"
   ]
  },
  {
   "cell_type": "code",
   "execution_count": 22,
   "metadata": {
    "collapsed": true
   },
   "outputs": [],
   "source": [
    "events.drop('temp', axis=1, inplace=True)"
   ]
  },
  {
   "cell_type": "markdown",
   "metadata": {},
   "source": [
    "### Save to HDF"
   ]
  },
  {
   "cell_type": "code",
   "execution_count": 48,
   "metadata": {
    "collapsed": false
   },
   "outputs": [
    {
     "data": {
      "text/plain": [
       "display_id        23120126\n",
       "document_id       23120126\n",
       "timestamp         23120126\n",
       "traffic_source    23120126\n",
       "platform          23120126\n",
       "day               23120126\n",
       "hour              23120126\n",
       "geo               23120126\n",
       "dtype: int64"
      ]
     },
     "execution_count": 48,
     "metadata": {},
     "output_type": "execute_result"
    }
   ],
   "source": [
    "events.count()"
   ]
  },
  {
   "cell_type": "code",
   "execution_count": 49,
   "metadata": {
    "collapsed": true
   },
   "outputs": [],
   "source": [
    "events.to_hdf(filename+'.0', key='default', mode='w', complevel=5, complib='zlib')  "
   ]
  },
  {
   "cell_type": "code",
   "execution_count": 50,
   "metadata": {
    "collapsed": false
   },
   "outputs": [
    {
     "data": {
      "text/html": [
       "<div>\n",
       "<table border=\"1\" class=\"dataframe\">\n",
       "  <thead>\n",
       "    <tr style=\"text-align: right;\">\n",
       "      <th></th>\n",
       "      <th>display_id</th>\n",
       "      <th>document_id</th>\n",
       "      <th>timestamp</th>\n",
       "      <th>traffic_source</th>\n",
       "      <th>platform</th>\n",
       "      <th>day</th>\n",
       "      <th>hour</th>\n",
       "      <th>geo</th>\n",
       "    </tr>\n",
       "  </thead>\n",
       "  <tbody>\n",
       "    <tr>\n",
       "      <th>0</th>\n",
       "      <td>8</td>\n",
       "      <td>1330329</td>\n",
       "      <td>638</td>\n",
       "      <td>1.0</td>\n",
       "      <td>2.0</td>\n",
       "      <td>1</td>\n",
       "      <td>7</td>\n",
       "      <td>2765</td>\n",
       "    </tr>\n",
       "    <tr>\n",
       "      <th>1</th>\n",
       "      <td>2657</td>\n",
       "      <td>1271490</td>\n",
       "      <td>185255</td>\n",
       "      <td>1.0</td>\n",
       "      <td>2.0</td>\n",
       "      <td>1</td>\n",
       "      <td>7</td>\n",
       "      <td>2765</td>\n",
       "    </tr>\n",
       "    <tr>\n",
       "      <th>2</th>\n",
       "      <td>6344</td>\n",
       "      <td>461545</td>\n",
       "      <td>434576</td>\n",
       "      <td>1.0</td>\n",
       "      <td>2.0</td>\n",
       "      <td>1</td>\n",
       "      <td>7</td>\n",
       "      <td>2765</td>\n",
       "    </tr>\n",
       "    <tr>\n",
       "      <th>3</th>\n",
       "      <td>7039</td>\n",
       "      <td>1793073</td>\n",
       "      <td>482930</td>\n",
       "      <td>1.0</td>\n",
       "      <td>1.0</td>\n",
       "      <td>1</td>\n",
       "      <td>7</td>\n",
       "      <td>2765</td>\n",
       "    </tr>\n",
       "    <tr>\n",
       "      <th>4</th>\n",
       "      <td>11527</td>\n",
       "      <td>1518592</td>\n",
       "      <td>800258</td>\n",
       "      <td>3.0</td>\n",
       "      <td>2.0</td>\n",
       "      <td>1</td>\n",
       "      <td>7</td>\n",
       "      <td>2765</td>\n",
       "    </tr>\n",
       "  </tbody>\n",
       "</table>\n",
       "</div>"
      ],
      "text/plain": [
       "   display_id  document_id  timestamp  traffic_source  platform  day  hour  \\\n",
       "0           8      1330329        638             1.0       2.0    1     7   \n",
       "1        2657      1271490     185255             1.0       2.0    1     7   \n",
       "2        6344       461545     434576             1.0       2.0    1     7   \n",
       "3        7039      1793073     482930             1.0       1.0    1     7   \n",
       "4       11527      1518592     800258             3.0       2.0    1     7   \n",
       "\n",
       "    geo  \n",
       "0  2765  \n",
       "1  2765  \n",
       "2  2765  \n",
       "3  2765  \n",
       "4  2765  "
      ]
     },
     "execution_count": 50,
     "metadata": {},
     "output_type": "execute_result"
    }
   ],
   "source": [
    "events.head()"
   ]
  },
  {
   "cell_type": "markdown",
   "metadata": {
    "collapsed": true
   },
   "source": [
    "### Final save to CSV"
   ]
  },
  {
   "cell_type": "code",
   "execution_count": 4,
   "metadata": {
    "collapsed": false
   },
   "outputs": [
    {
     "data": {
      "text/plain": [
       "display_id        23120126\n",
       "document_id       23120126\n",
       "timestamp         23120126\n",
       "traffic_source    23120126\n",
       "platform          23120126\n",
       "day               23120126\n",
       "hour              23120126\n",
       "geo               23120126\n",
       "dtype: int64"
      ]
     },
     "execution_count": 4,
     "metadata": {},
     "output_type": "execute_result"
    }
   ],
   "source": [
    "events = pd.read_hdf(filename+'.0')\n",
    "events.count()"
   ]
  },
  {
   "cell_type": "code",
   "execution_count": 6,
   "metadata": {
    "collapsed": false
   },
   "outputs": [],
   "source": [
    "events.to_csv(\"../generated/final/events.csv\", index=False)"
   ]
  }
 ],
 "metadata": {
  "anaconda-cloud": {},
  "kernelspec": {
   "display_name": "Python [Root]",
   "language": "python",
   "name": "Python [Root]"
  },
  "language_info": {
   "codemirror_mode": {
    "name": "ipython",
    "version": 2
   },
   "file_extension": ".py",
   "mimetype": "text/x-python",
   "name": "python",
   "nbconvert_exporter": "python",
   "pygments_lexer": "ipython2",
   "version": "2.7.11"
  }
 },
 "nbformat": 4,
 "nbformat_minor": 0
}
